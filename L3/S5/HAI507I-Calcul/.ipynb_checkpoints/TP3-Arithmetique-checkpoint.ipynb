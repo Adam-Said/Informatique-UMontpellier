{
 "cells": [
  {
   "cell_type": "code",
   "execution_count": 34,
   "metadata": {
    "tags": [
     "sujet"
    ]
   },
   "outputs": [],
   "source": [
    "%display latex"
   ]
  },
  {
   "cell_type": "markdown",
   "metadata": {
    "deletable": false,
    "editable": false,
    "run_control": {
     "frozen": true
    }
   },
   "source": [
    "# TP arithmétique et cryptographie\n",
    "\n",
    "Durant cette séance nous nous intéressons à faire des calculs dans des structures mathématiques classiques qui sont d'une grande importance dans les applications en cryptographie.\n",
    "\n",
    "## Introduction\n",
    "\n",
    "Tout d'abord nous allons revenir sur la notion de calcul, et plus particulièrement sur la notion de certains *domaines de calcul*. En effet, dans SageMath nous pouvons calculer avec des entiers ou des nombres rationnels assez facilement à partir d'expression mathématiques.\n"
   ]
  },
  {
   "cell_type": "code",
   "execution_count": 35,
   "metadata": {
    "tags": [
     "sujet"
    ]
   },
   "outputs": [
    {
     "data": {
      "text/html": [
       "<html><script type=\"math/tex; mode=display\">\\newcommand{\\Bold}[1]{\\mathbf{#1}}4</script></html>"
      ],
      "text/plain": [
       "4"
      ]
     },
     "execution_count": 35,
     "metadata": {},
     "output_type": "execute_result"
    }
   ],
   "source": [
    "2+2 # calcul avec des entiers"
   ]
  },
  {
   "cell_type": "code",
   "execution_count": 36,
   "metadata": {
    "tags": [
     "sujet"
    ]
   },
   "outputs": [
    {
     "data": {
      "text/html": [
       "<html><script type=\"math/tex; mode=display\">\\newcommand{\\Bold}[1]{\\mathbf{#1}}\\frac{29}{21}</script></html>"
      ],
      "text/plain": [
       "29/21"
      ]
     },
     "execution_count": 36,
     "metadata": {},
     "output_type": "execute_result"
    }
   ],
   "source": [
    "2/3+5/7 # calcul avec des nombres rationnels"
   ]
  },
  {
   "cell_type": "markdown",
   "metadata": {
    "deletable": false,
    "editable": false,
    "run_control": {
     "frozen": true
    }
   },
   "source": [
    "En fait, la notion de calcul sur les entiers ou les rationnels est associé à la notion de *structure mathématique* $\\mathbb Z$ et $\\mathbb{Q}$ pour lesquels les opérations telles que l'addition et la multiplication sont *bien définies*. Par *bien définie*, on entend que l'opération est calculable et que le résultat reste dans le même ensemble de valeurs que celui des entrées : pour $\\star\\in\\{+,\\times\\}$,\n",
    "- $\\forall x,y \\in \\mathbb{Z} \\longrightarrow (x\\star y)\\in\\mathbb{Z}$, et \n",
    "- $\\forall x,y \\in \\mathbb{Q} \\longrightarrow (x \\star y)\\in\\mathbb{Q}$\n",
    "\n",
    "Dans SageMath, les structures $\\mathbb Z$ et $\\mathbb Q$ sont nommées `ZZ` et `QQ`. Par exemple `QQ(3)` construit le *rationnel* $3$ alors que `ZZ(3)` construit l'entier $3$."
   ]
  },
  {
   "cell_type": "markdown",
   "metadata": {
    "deletable": false,
    "editable": false,
    "run_control": {
     "frozen": true
    }
   },
   "source": [
    "### Question\n",
    "Vérifier au travers d'exemples que les résultats des opérations `+` et `*` sur les rationnels sont bien des rationnels. *Essayer de deviner la réponse aux questions qui suivent, puis vérifier avec l'instruction `type(...)` qui fournit le type de son argument.*\n",
    "- Quels sont les types de retour de `ZZ(3)+ZZ(5)` et `QQ(3)+QQ(5)`.\n",
    "- Quelle est la valeur de $\\frac{6}{5}\\times\\frac{35}{3}$ ? Et son type de retour ?\n",
    "- Que se passe-t-il si on tape `ZZ(4) * QQ(6)` ?"
   ]
  },
  {
   "cell_type": "code",
   "execution_count": 37,
   "metadata": {},
   "outputs": [
    {
     "data": {
      "text/html": [
       "<html><script type=\"math/tex; mode=display\">\\newcommand{\\Bold}[1]{\\mathbf{#1}}\\verb|<class|\\phantom{\\verb!x!}\\verb|'sage.rings.integer.Integer'>|</script></html>"
      ],
      "text/plain": [
       "<class 'sage.rings.integer.Integer'>"
      ]
     },
     "execution_count": 37,
     "metadata": {},
     "output_type": "execute_result"
    }
   ],
   "source": [
    "type(ZZ(3)+ZZ(5))"
   ]
  },
  {
   "cell_type": "code",
   "execution_count": 38,
   "metadata": {},
   "outputs": [
    {
     "data": {
      "text/html": [
       "<html><script type=\"math/tex; mode=display\">\\newcommand{\\Bold}[1]{\\mathbf{#1}}\\verb|<class|\\phantom{\\verb!x!}\\verb|'sage.rings.rational.Rational'>|</script></html>"
      ],
      "text/plain": [
       "<class 'sage.rings.rational.Rational'>"
      ]
     },
     "execution_count": 38,
     "metadata": {},
     "output_type": "execute_result"
    }
   ],
   "source": [
    "type((6/5)*(35/3))"
   ]
  },
  {
   "cell_type": "code",
   "execution_count": 39,
   "metadata": {},
   "outputs": [
    {
     "data": {
      "text/html": [
       "<html><script type=\"math/tex; mode=display\">\\newcommand{\\Bold}[1]{\\mathbf{#1}}\\verb|<class|\\phantom{\\verb!x!}\\verb|'sage.rings.rational.Rational'>|</script></html>"
      ],
      "text/plain": [
       "<class 'sage.rings.rational.Rational'>"
      ]
     },
     "execution_count": 39,
     "metadata": {},
     "output_type": "execute_result"
    }
   ],
   "source": [
    "type(ZZ(4)*QQ(6))"
   ]
  },
  {
   "cell_type": "markdown",
   "metadata": {
    "deletable": false,
    "editable": false,
    "run_control": {
     "frozen": true
    }
   },
   "source": [
    "## Opérations modulaires\n",
    "\n",
    "<!-- On peut facilement définir la notion d'inverse pour l'addition et la multiplication à partir d'un élément neutre.\n",
    "\n",
    "- En effet, 0 étant neutre pour l'addition $(x+0= 0+x = x$),  l'inverse de l'addition est définie comme l'opération qui donne 0 par l'addition de x et de son inverse. Cela donne $ x + \\mathsf{inv}_+(x) = 0 \\longrightarrow \\mathsf{inv}_+(x)= -x$. On voit facilement que l'inverse de l'addition est bien définie pour $\\mathbb{Q}$ et $\\mathbb{Z}$: $\\forall x \\in \\mathbb{Q,Z} \\longrightarrow -x \\in \\mathbb{Q,Z}$\n",
    "\n",
    "\n",
    "- Cela marche pareil pour définir la multiplication en remarquant que 1 est le neutre pour la multiplication. Cela donne $ x * \\mathsf{inv}_*(x) = 1 \\longrightarrow \\mathsf{inv}_*(x)= 1/x$. Malheureuresement, on peut voir que cette inverse n'est pas bien définie pour tout  $x \\in \\mathbb{Q,Z}$. En effet, dans $\\mathbb{Z}$ seul 1 et -1 sont inversibles alors que pour $\\mathbb{Q}$ tout les éléments sauf zero sont inversibles.\n",
    "\n",
    "\n",
    "\n",
    "C'est à partir de cette notion d'inverse que l'on peut définir les opérations de soustraction et de division.\n",
    "- la soustraction est la composition de l'addition et de son inverse: $x-y = x + (-y)$\n",
    "- la division est la composition de la multiplication et de son inverse: $x/y = x * (1/y)$\n",
    "\n",
    "\n",
    "Pour retrouver des propriétés d'inversibilité pour les entiers similaires à celles des nombres rationnels de $ \\mathbb{Q}$ (tous les éléments hormis 0 ont un inverse.), il faut se ramener à des sous-ensemble des entiers.\n",
    "\n",
    "-->\n"
   ]
  },
  {
   "cell_type": "markdown",
   "metadata": {
    "deletable": false,
    "editable": false,
    "run_control": {
     "frozen": true
    }
   },
   "source": [
    "En cryptographie, on a besoin de travailler avec des ensembles *finis* de nombres. Pour cela, on utilise l'opération *modulo*. L'ensemble des entiers *modulo* $N$ est l'ensemble des entiers entre $0$ et $N-1$, et les opérations d'addition et de multiplication se font *modulo* $N$. <!--Le sous-ensemble des entiers à $N$ élements peut être identifié par la classe des entiers modulo $N$, câd l'ensemble des entiers compris entre $0$ et $N-1$. Pour--> Concrètement, pour calculer dans cet ensemble il suffit de faire le calcul dans $\\mathbb{Z}$ et de réduire le résultat *modulo* $N$ (prendre le reste de la division par $N$).\n",
    "\n",
    "Avec ce mode de calcul les opérations  $+$ et $\\times$ sont bien définies : pour $\\star\\in\\{+,\\times\\}$,\n",
    "$$\\forall x,y \\in\\{0,1,\\dots, N-1\\} \\longrightarrow (x\\star y) \\bmod N \\in \\{0,1,\\dots, N-1\\}$$\n",
    "\n",
    "<!--- l'inverse de l'addition étant définie par $\\mathsf{inv}_+(x) = N-x \\bmod N$, cette opération est bien définie on a que $x-y=x+N-y \\bmod N$  est bien un entier compris entre 0 et N-1.\n",
    "\n",
    "Nous reviendrons un peu plus loin sur l'inverse de la multiplication.-->\n",
    "\n",
    "Dans les questions qui suivent, on s'intéressent aux tables d'addition et de multiplication des entiers *modulo* $N$."
   ]
  },
  {
   "cell_type": "markdown",
   "metadata": {
    "deletable": false,
    "editable": false,
    "run_control": {
     "frozen": true
    }
   },
   "source": [
    "### Question  \n",
    "Donner la table d'addition <!--et de soustraction--> de l'ensemble $\\{0,1,2,3,4\\}$ des entiers *modulo* $5$ : représenter la table par une matrice `Ma5` telle que $Ma5[i,j]= i+j \\bmod 5$<!--et $Mb5[i,j]= i+5-j \\bmod 5$-->.  *L'instruction `Matrix(n,n)` permet de construire une matrice de taille $n \\times n$.*"
   ]
  },
  {
   "cell_type": "code",
   "execution_count": 40,
   "metadata": {},
   "outputs": [
    {
     "data": {
      "text/html": [
       "<html><script type=\"math/tex; mode=display\">\\newcommand{\\Bold}[1]{\\mathbf{#1}}\\left(\\begin{array}{rrrrr}\n",
       "0 & 0 & 0 & 0 & 0 \\\\\n",
       "0 & 0 & 0 & 0 & 0 \\\\\n",
       "0 & 0 & 0 & 0 & 0 \\\\\n",
       "0 & 0 & 0 & 0 & 0 \\\\\n",
       "0 & 0 & 0 & 0 & 0\n",
       "\\end{array}\\right)</script></html>"
      ],
      "text/plain": [
       "[0 0 0 0 0]\n",
       "[0 0 0 0 0]\n",
       "[0 0 0 0 0]\n",
       "[0 0 0 0 0]\n",
       "[0 0 0 0 0]"
      ]
     },
     "metadata": {},
     "output_type": "display_data"
    }
   ],
   "source": [
    "ma5 = Matrix(5,5)\n",
    "show(ma5)"
   ]
  },
  {
   "cell_type": "markdown",
   "metadata": {
    "deletable": false,
    "editable": false,
    "run_control": {
     "frozen": true
    }
   },
   "source": [
    "Pour effectuer des additions dans l'ensemble des entiers modulo 5, on peut utiliser cette matrice. <!-- qui donnent les tables d'addition et de sopustraction des entiers modulo 5.-->\n",
    "Par exemple, taper `Ma5[2,3]` pour obtenir $2+3 \\bmod 5$. <!--  et Ms5[2,3] pour obtenir $2-3 \\bmod 5$.-->"
   ]
  },
  {
   "cell_type": "code",
   "execution_count": 41,
   "metadata": {},
   "outputs": [
    {
     "data": {
      "text/html": [
       "<html><script type=\"math/tex; mode=display\">\\newcommand{\\Bold}[1]{\\mathbf{#1}}\\left(\\begin{array}{rrrrr}\n",
       "0 & 1 & 2 & 3 & 4 \\\\\n",
       "1 & 2 & 3 & 4 & 0 \\\\\n",
       "2 & 3 & 4 & 0 & 1 \\\\\n",
       "3 & 4 & 0 & 1 & 2 \\\\\n",
       "4 & 0 & 1 & 2 & 3\n",
       "\\end{array}\\right)</script></html>"
      ],
      "text/plain": [
       "[0 1 2 3 4]\n",
       "[1 2 3 4 0]\n",
       "[2 3 4 0 1]\n",
       "[3 4 0 1 2]\n",
       "[4 0 1 2 3]"
      ]
     },
     "metadata": {},
     "output_type": "display_data"
    }
   ],
   "source": [
    "for i in range (0, 5) :\n",
    "    for j in range (0, 5) :\n",
    "        ma5[i, j] = ((i + j) % 5)\n",
    "\n",
    "show(ma5)"
   ]
  },
  {
   "cell_type": "markdown",
   "metadata": {
    "deletable": false,
    "editable": false,
    "run_control": {
     "frozen": true
    }
   },
   "source": [
    "### Question \n",
    "Construire la matrice `Mp5` de multiplication des entiers modulo $5$ et utiliser cette matrice pour calculer $3^{98} \\bmod 5$. *Vérifier votre résultat en comparant avec l'instruction `pow(3,n,5)`.* "
   ]
  },
  {
   "cell_type": "code",
   "execution_count": 42,
   "metadata": {},
   "outputs": [
    {
     "data": {
      "text/html": [
       "<html><script type=\"math/tex; mode=display\">\\newcommand{\\Bold}[1]{\\mathbf{#1}}\\left(\\begin{array}{rrrrr}\n",
       "0 & 0 & 0 & 0 & 0 \\\\\n",
       "0 & 0 & 0 & 0 & 0 \\\\\n",
       "0 & 0 & 0 & 0 & 0 \\\\\n",
       "0 & 0 & 0 & 0 & 0 \\\\\n",
       "0 & 0 & 0 & 0 & 0\n",
       "\\end{array}\\right)</script></html>"
      ],
      "text/plain": [
       "[0 0 0 0 0]\n",
       "[0 0 0 0 0]\n",
       "[0 0 0 0 0]\n",
       "[0 0 0 0 0]\n",
       "[0 0 0 0 0]"
      ]
     },
     "metadata": {},
     "output_type": "display_data"
    }
   ],
   "source": [
    "mp5 = Matrix(5, 5)\n",
    "show(mp5)"
   ]
  },
  {
   "cell_type": "code",
   "execution_count": 43,
   "metadata": {},
   "outputs": [
    {
     "data": {
      "text/html": [
       "<html><script type=\"math/tex; mode=display\">\\newcommand{\\Bold}[1]{\\mathbf{#1}}\\left(\\begin{array}{rrrrr}\n",
       "0 & 0 & 0 & 0 & 0 \\\\\n",
       "0 & 1 & 2 & 3 & 4 \\\\\n",
       "0 & 2 & 4 & 1 & 3 \\\\\n",
       "0 & 3 & 1 & 4 & 2 \\\\\n",
       "0 & 4 & 3 & 2 & 1\n",
       "\\end{array}\\right)</script></html>"
      ],
      "text/plain": [
       "[0 0 0 0 0]\n",
       "[0 1 2 3 4]\n",
       "[0 2 4 1 3]\n",
       "[0 3 1 4 2]\n",
       "[0 4 3 2 1]"
      ]
     },
     "metadata": {},
     "output_type": "display_data"
    },
    {
     "data": {
      "text/html": [
       "<html><script type=\"math/tex; mode=display\">\\newcommand{\\Bold}[1]{\\mathbf{#1}}4</script></html>"
      ],
      "text/plain": [
       "4"
      ]
     },
     "metadata": {},
     "output_type": "display_data"
    },
    {
     "data": {
      "text/html": [
       "<html><script type=\"math/tex; mode=display\">\\newcommand{\\Bold}[1]{\\mathbf{#1}}4</script></html>"
      ],
      "text/plain": [
       "4"
      ]
     },
     "metadata": {},
     "output_type": "display_data"
    }
   ],
   "source": [
    "for i in range (0, 5) :\n",
    "    for j in range (0, 5) :\n",
    "        mp5[i, j] = ((i * j) % 5)\n",
    "\n",
    "show(mp5)\n",
    "k = 3\n",
    "for i in range (0, 97) :\n",
    "    k = mp5[k, 3]\n",
    "\n",
    "show(pow(3,98,5))\n",
    "show(k)"
   ]
  },
  {
   "cell_type": "markdown",
   "metadata": {
    "deletable": false,
    "editable": false,
    "run_control": {
     "frozen": true
    }
   },
   "source": [
    "### Question\n",
    "\n",
    "On a vu que le domaine des entiers de $\\mathbb{Z}$ se nomme `ZZ` dans SageMath. <!-- et x=ZZ(13) définit x comme l'entier 13 dans $\\mathbb{Z}$.--> De manière similaire, SageMath définit l'objet représentant l'ensemble des entiers *modulo* $N$ par `Integers(N)` pour un entier `N` donné. Mathématiquement, cet ensemble est noté $\\mathbb Z/N\\mathbb Z$.\n",
    "\n",
    "Par exemple, `A=Integers(50)` définit la structure mathématique correspondant aux entiers *modulo* $50$. Pour construire un élément de cette ensemble, il suffit de lui passer en paramètre un entier :\n",
    "- `A(10)` construit l'entier $10$ dans cet ensemble, càd $10 \\bmod 50 \\rightarrow 10$ ;\n",
    "- `A(57)` construit l'entier $57$ dans cet ensemble, càd $57 \\bmod 50 \\rightarrow 7$.\n",
    "\n",
    "**Dans toute la suite, on travaillera avec des éléments de `Integers(N)` pour différentes valeurs de $N$ : on ne devra donc plus utiliser le *modulo* (symbole `%`) car les opérations sont automatiquement faites *modulo* $N$ dans `Integers(N)`.\n",
    "\n",
    "**À vous de jouer :** \n",
    "- Définissez la variable `I10` définissant l'ensemble des entiers *modulo* $10$ et faite le calcul de $7\\times 5$ dans cet ensemble. \n",
    "- En utilisant la méthode `random_element()` de `I10`, calculer et afficher la somme et le produit de deux élements de `I10` choisis aléatoirement. \n",
    "- Refaites le calcul de $3^{98} \\bmod 5$ en utilisant la classe des entiers *modulo* $5$ de SageMath."
   ]
  },
  {
   "cell_type": "code",
   "execution_count": 44,
   "metadata": {},
   "outputs": [
    {
     "data": {
      "text/html": [
       "<html><script type=\"math/tex; mode=display\">\\newcommand{\\Bold}[1]{\\mathbf{#1}}5</script></html>"
      ],
      "text/plain": [
       "5"
      ]
     },
     "metadata": {},
     "output_type": "display_data"
    }
   ],
   "source": [
    "I10 = Integers(10)\n",
    "show(I10(7*5))"
   ]
  },
  {
   "cell_type": "code",
   "execution_count": 45,
   "metadata": {},
   "outputs": [
    {
     "name": "stdout",
     "output_type": "stream",
     "text": [
      "3\n",
      "0\n",
      "3\n"
     ]
    }
   ],
   "source": [
    "a = I10.random_element()\n",
    "b = I10.random_element()\n",
    "print(a)\n",
    "print(b)\n",
    "print(I10(a + b))"
   ]
  },
  {
   "cell_type": "code",
   "execution_count": 46,
   "metadata": {},
   "outputs": [],
   "source": [
    "#PAS FAIT                \n"
   ]
  },
  {
   "cell_type": "markdown",
   "metadata": {
    "deletable": false,
    "editable": false,
    "run_control": {
     "frozen": true
    }
   },
   "source": [
    "### Question\n",
    "\n",
    "Définir deux fonctions `genMatrixAdd` et `genMatrixMul` qui prennent en paramètre un entier $N$ et qui calculent la matrice correspondant à la table d'addition et de multiplication des entiers *modulo* $N$. Remarque : on souhaite que les matrices contiennent des éléments de `Integers(N)`. *Vérifiez que vos fonctions sont correctes (vous pouvez comparez le résultat avec les matrices `Ma5` et `Mp5` définies précédemment).*"
   ]
  },
  {
   "cell_type": "code",
   "execution_count": 47,
   "metadata": {},
   "outputs": [
    {
     "data": {
      "text/html": [
       "<html><script type=\"math/tex; mode=display\">\\newcommand{\\Bold}[1]{\\mathbf{#1}}\\left(\\begin{array}{rrrrr}\n",
       "0 & 1 & 2 & 3 & 4 \\\\\n",
       "1 & 2 & 3 & 4 & 0 \\\\\n",
       "2 & 3 & 4 & 0 & 1 \\\\\n",
       "3 & 4 & 0 & 1 & 2 \\\\\n",
       "4 & 0 & 1 & 2 & 3\n",
       "\\end{array}\\right)</script></html>"
      ],
      "text/plain": [
       "[0 1 2 3 4]\n",
       "[1 2 3 4 0]\n",
       "[2 3 4 0 1]\n",
       "[3 4 0 1 2]\n",
       "[4 0 1 2 3]"
      ]
     },
     "metadata": {},
     "output_type": "display_data"
    },
    {
     "data": {
      "text/html": [
       "<html><script type=\"math/tex; mode=display\">\\newcommand{\\Bold}[1]{\\mathbf{#1}}\\left(\\begin{array}{rrrrrrrr}\n",
       "0 & 1 & 2 & 3 & 4 & 5 & 6 & 7 \\\\\n",
       "1 & 2 & 3 & 4 & 5 & 6 & 7 & 0 \\\\\n",
       "2 & 3 & 4 & 5 & 6 & 7 & 0 & 1 \\\\\n",
       "3 & 4 & 5 & 6 & 7 & 0 & 1 & 2 \\\\\n",
       "4 & 5 & 6 & 7 & 0 & 1 & 2 & 3 \\\\\n",
       "5 & 6 & 7 & 0 & 1 & 2 & 3 & 4 \\\\\n",
       "6 & 7 & 0 & 1 & 2 & 3 & 4 & 5 \\\\\n",
       "7 & 0 & 1 & 2 & 3 & 4 & 5 & 6\n",
       "\\end{array}\\right)</script></html>"
      ],
      "text/plain": [
       "[0 1 2 3 4 5 6 7]\n",
       "[1 2 3 4 5 6 7 0]\n",
       "[2 3 4 5 6 7 0 1]\n",
       "[3 4 5 6 7 0 1 2]\n",
       "[4 5 6 7 0 1 2 3]\n",
       "[5 6 7 0 1 2 3 4]\n",
       "[6 7 0 1 2 3 4 5]\n",
       "[7 0 1 2 3 4 5 6]"
      ]
     },
     "metadata": {},
     "output_type": "display_data"
    },
    {
     "data": {
      "text/html": [
       "<html><script type=\"math/tex; mode=display\">\\newcommand{\\Bold}[1]{\\mathbf{#1}}\\left(\\begin{array}{rrrrr}\n",
       "0 & 0 & 0 & 0 & 0 \\\\\n",
       "0 & 1 & 2 & 3 & 4 \\\\\n",
       "0 & 2 & 4 & 1 & 3 \\\\\n",
       "0 & 3 & 1 & 4 & 2 \\\\\n",
       "0 & 4 & 3 & 2 & 1\n",
       "\\end{array}\\right)</script></html>"
      ],
      "text/plain": [
       "[0 0 0 0 0]\n",
       "[0 1 2 3 4]\n",
       "[0 2 4 1 3]\n",
       "[0 3 1 4 2]\n",
       "[0 4 3 2 1]"
      ]
     },
     "metadata": {},
     "output_type": "display_data"
    },
    {
     "data": {
      "text/html": [
       "<html><script type=\"math/tex; mode=display\">\\newcommand{\\Bold}[1]{\\mathbf{#1}}\\left(\\begin{array}{rrrrrrrr}\n",
       "0 & 0 & 0 & 0 & 0 & 0 & 0 & 0 \\\\\n",
       "0 & 1 & 2 & 3 & 4 & 5 & 6 & 7 \\\\\n",
       "0 & 2 & 4 & 6 & 0 & 2 & 4 & 6 \\\\\n",
       "0 & 3 & 6 & 1 & 4 & 7 & 2 & 5 \\\\\n",
       "0 & 4 & 0 & 4 & 0 & 4 & 0 & 4 \\\\\n",
       "0 & 5 & 2 & 7 & 4 & 1 & 6 & 3 \\\\\n",
       "0 & 6 & 4 & 2 & 0 & 6 & 4 & 2 \\\\\n",
       "0 & 7 & 6 & 5 & 4 & 3 & 2 & 1\n",
       "\\end{array}\\right)</script></html>"
      ],
      "text/plain": [
       "[0 0 0 0 0 0 0 0]\n",
       "[0 1 2 3 4 5 6 7]\n",
       "[0 2 4 6 0 2 4 6]\n",
       "[0 3 6 1 4 7 2 5]\n",
       "[0 4 0 4 0 4 0 4]\n",
       "[0 5 2 7 4 1 6 3]\n",
       "[0 6 4 2 0 6 4 2]\n",
       "[0 7 6 5 4 3 2 1]"
      ]
     },
     "metadata": {},
     "output_type": "display_data"
    }
   ],
   "source": [
    "def genmatrixadd(N) :\n",
    "    maN = Matrix(N, N)\n",
    "    for i in range (0, N) :\n",
    "        for j in range (0, N) :\n",
    "            maN[i, j] = (i + j) % N\n",
    "    return maN\n",
    "                         \n",
    "def genmatrixmul(N) :\n",
    "    mpN = Matrix(N, N)\n",
    "    for i in range (0, N) :\n",
    "        for j in range (0, N) :\n",
    "            mpN[i, j] = (i * j) % N\n",
    "    return mpN\n",
    "                         \n",
    "show(genmatrixadd(5))\n",
    "show(genmatrixadd(8))\n",
    "show(genmatrixmul(5))\n",
    "show(genmatrixmul(8))"
   ]
  },
  {
   "cell_type": "markdown",
   "metadata": {
    "deletable": false,
    "editable": false,
    "run_control": {
     "frozen": true
    }
   },
   "source": [
    "## Inverses\n",
    "\n",
    "On peut facilement définir la notion d'inverse pour l'addition et la multiplication à partir d'un *élément neutre*, c'est-à-dire un élément $e$ tel que $\\forall x, x\\star e = e\\star x = x$. Ainsi, $0$ est l'élément neutre de l'addition et $1$ celui de la multiplication (que ce soit dans $\\mathbb Z$, $\\mathbb Q$ ou $\\mathbb Z/N\\mathbb Z$).\n",
    "\n",
    "- L'*inverse pour l'addition* d'un élément $x$ est l'élément $\\mathsf{inv}_+(x)$ tel que $ x + \\mathsf{inv}_+(x) = 0$. On voit donc que $\\mathsf{inv}_+(x)= -x$ : l'inverse pour l'addition est donc ce qu'on nomme habituellement l'opposé d'un nombre, et est bien définie pour $\\mathbb{Q}$ et $\\mathbb{Z}$ : $\\forall x \\in \\mathbb{Q,Z} \\longrightarrow -x \\in \\mathbb{Q,Z}$\n",
    "\n",
    "- De la même façon, l'*inverse pour la multiplication* se définit à partir du neutre $1$ pour la multiplication :  $\\mathsf{inv}_*(x)$ est défini par $ x * \\mathsf{inv}_*(x) = 1$, c'est-à-dire $\\mathsf{inv}_*(x)= 1/x$. L'inverse pour la multiplication est donc ce qu'on nomme habituellement l'inverse d'un nombre. On remarque donc que tout élément non nul de $\\mathbb Q$ admet un inverse (on dit qu'un tel élément est *inversible*). Mais dans $\\mathbb Z$, seuls $1$ et $-1$ sont inversibles.\n",
    "\n",
    "Remarque : comme tout entier peut être vu comme un nombre rationnel (en symboles, $\\mathbb Z\\subseteq\\mathbb Q$), si on cherche à calculer l'inverse d'un nombre entier $n$, SageMath le considèrera comme un rationnel et renverra le rationnel $1/n$."
   ]
  },
  {
   "cell_type": "markdown",
   "metadata": {
    "deletable": false,
    "editable": false,
    "run_control": {
     "frozen": true
    }
   },
   "source": [
    "### Question\n",
    "Que se passe-t-il quand on veut inverser l'entier $0$ ?"
   ]
  },
  {
   "cell_type": "code",
   "execution_count": 48,
   "metadata": {},
   "outputs": [],
   "source": [
    "#1/0 #division par zéro"
   ]
  },
  {
   "cell_type": "markdown",
   "metadata": {
    "deletable": false,
    "editable": false,
    "run_control": {
     "frozen": true
    }
   },
   "source": [
    "<!-- À partir des notions d'inverse pour l'addition et la multiplication, on peut définir les opérations de soustraction et de division :\n",
    "- la soustraction est la composition de l'addition et de son inverse: $x-y = x + (-y)$ ;\n",
    "- la division est la composition de la multiplication et de son inverse: $x/y = x \\times (1/y)$.\n",
    "\n",
    "De même que pour l'inversion, la division n'est bien définie que pour les rationnels.\n",
    "\n",
    "Pour retrouver des propriétés d'inversibilité pour les entiers similaires à celles des nombres rationnels de $ \\mathbb{Q}$ (tous les éléments sauf 0 ont un inverse), il faut se ramener à des sous-ensemble des entiers.-->\n",
    "\n",
    "On va voir que lorsqu'on travaille avec des entiers *modulo* $N$, on retrouve l'inversibilité, au moins partiellement, dont on dipose avec les rationnels.\n",
    "La notion d'inverse pour l'addition ou la multiplication peut se voir directement sur les matrices représentant les tables des opérations :\n",
    "- un élément $x$ est inversible pour l'addition si et seulement s'il y a un unique $0$ dans la ligne et la colonne d'indice $x$ ;\n",
    "- un élément $x$ est inversible pour la multiplication si et seulement s'il y  a un unique $1$ dans la ligne et la colonne d'indice $x$.\n",
    "\n",
    "### Question\n",
    "En utilisant les matrices associées à l'addition et la multiplication des entiers *modulo* $5$, donner la liste des éléments inversibles pour l'addition, et celle des éléments inversibles pour la multiplication. *Attention à bien avoir une liste d'éléments de `Integers(N)` et pas d'entiers (vérifier avec `type(...)`).*"
   ]
  },
  {
   "cell_type": "code",
   "execution_count": 49,
   "metadata": {},
   "outputs": [
    {
     "data": {
      "text/html": [
       "<html><script type=\"math/tex; mode=display\">\\newcommand{\\Bold}[1]{\\mathbf{#1}}\\left[0, 1, 2, 3, 4, 5\\right]</script></html>"
      ],
      "text/plain": [
       "[0, 1, 2, 3, 4, 5]"
      ]
     },
     "metadata": {},
     "output_type": "display_data"
    }
   ],
   "source": [
    "def inversibleadd(x) :\n",
    "    addinversibles = []\n",
    "    man = genmatrixadd(x)\n",
    "    \n",
    "    for i in Integers(x) :\n",
    "        cpt = 0\n",
    "        for j in Integers(x) :\n",
    "            if man[i][j] == 0 :\n",
    "                cpt = cpt + 1\n",
    "        if cpt == 1 :\n",
    "            addinversibles.append(i)\n",
    "            \n",
    "    return addinversibles\n",
    "    \n",
    "show(inversibleadd(6))"
   ]
  },
  {
   "cell_type": "code",
   "execution_count": 50,
   "metadata": {},
   "outputs": [
    {
     "data": {
      "text/html": [
       "<html><script type=\"math/tex; mode=display\">\\newcommand{\\Bold}[1]{\\mathbf{#1}}\\left[1, 5\\right]</script></html>"
      ],
      "text/plain": [
       "[1, 5]"
      ]
     },
     "metadata": {},
     "output_type": "display_data"
    }
   ],
   "source": [
    "def inversiblemul(x) :\n",
    "    mulinversibles = []\n",
    "    mpn = genmatrixmul(x)\n",
    "    \n",
    "    for i in Integers(x) :\n",
    "        cpt = 0\n",
    "        for j in Integers(x) :\n",
    "            if mpn[i][j] == 1 :\n",
    "                cpt = cpt + 1\n",
    "        if cpt == 1 :\n",
    "            mulinversibles.append(i)\n",
    "            \n",
    "    return mulinversibles\n",
    "    \n",
    "show(inversiblemul(6))"
   ]
  },
  {
   "cell_type": "markdown",
   "metadata": {
    "deletable": false,
    "editable": false,
    "run_control": {
     "frozen": true
    }
   },
   "source": [
    "### Question\n",
    "Définissez les fonctions `inv_add` et `inv_mul` qui prennent en entrée un entier $N$ et un entier $x\\in \\{0,\\dots,N-1\\}$ et qui renvoient l'inverse de $x$ pour l'addition *modulo* $N$ ,et l'inverse de $x$ pour la multiplication *modulo* $N$. *Vos fonction devront construire les tables d'addition et de multiplication modulo $N$ et les utiliser pour le calcul. Si $x$ n'est pas inversible, la fonction renvoie `None`. Encore une fois, attention à bien renvoyer un élément de `Integers(N)` et pas un entier !*\n",
    "\n",
    "Vous testerez vos fonctions pour  les valeurs de $N=17,12$ et les valeurs de $x=3,0,4$."
   ]
  },
  {
   "cell_type": "code",
   "execution_count": 51,
   "metadata": {},
   "outputs": [
    {
     "data": {
      "text/html": [
       "<html><script type=\"math/tex; mode=display\">\\newcommand{\\Bold}[1]{\\mathbf{#1}}1</script></html>"
      ],
      "text/plain": [
       "1"
      ]
     },
     "metadata": {},
     "output_type": "display_data"
    },
    {
     "data": {
      "text/html": [
       "<html><script type=\"math/tex; mode=display\">\\newcommand{\\Bold}[1]{\\mathbf{#1}}2</script></html>"
      ],
      "text/plain": [
       "2"
      ]
     },
     "metadata": {},
     "output_type": "display_data"
    },
    {
     "data": {
      "text/html": [
       "<html><script type=\"math/tex; mode=display\">\\newcommand{\\Bold}[1]{\\mathbf{#1}}\\verb|None|</script></html>"
      ],
      "text/plain": [
       "'None'"
      ]
     },
     "metadata": {},
     "output_type": "display_data"
    }
   ],
   "source": [
    "def inv_add(N, x) :\n",
    "    add = genmatrixadd(N)\n",
    "    cpt = 0\n",
    "    inv = 0\n",
    "    for i in Integers(N) :\n",
    "        if add[x][i] == 0 :\n",
    "            cpt = cpt + 1\n",
    "            inv = i\n",
    "    if cpt == 1 :\n",
    "        return inv\n",
    "    else :\n",
    "        return \"None\"\n",
    "\n",
    "show(inv_add(5, 4)) \n",
    "\n",
    "def inv_mul(N, x) :\n",
    "    mul = genmatrixmul(N)\n",
    "    cpt = 0\n",
    "    inv = 0\n",
    "    for i in Integers(N) :\n",
    "        if mul[x][i] == 1 :\n",
    "            cpt = cpt + 1\n",
    "            inv = i\n",
    "    if cpt == 1 :\n",
    "        return inv\n",
    "    else :\n",
    "        return \"None\"\n",
    "\n",
    "show(inv_mul(5, 3))  \n",
    "show(inv_mul(12, 4))"
   ]
  },
  {
   "cell_type": "markdown",
   "metadata": {
    "deletable": false,
    "editable": false,
    "run_control": {
     "frozen": true
    }
   },
   "source": [
    "### Question\n",
    "Proposer une fonction d'inversion générique `inv_gen` qui prend en paramètre une matrice `M` représentant une opération modulo $N$, un élément neutre `e` et un elément `x` qu'on souhaite inverser. Comme précédemment si $x$ n'est pas inversible la fonction renverra `none`. Attention, votre matrice $M$ doit être définie sur `Integers(N)` de telle sorte que `M.base_ring()` retourne `Integers(N)`.\n",
    "\n",
    "- Vous verifierez que votre fonction générique est équivalente aux fonctions `inv_add` et `inv_mul` pour tous les entiers modulo 5"
   ]
  },
  {
   "cell_type": "code",
   "execution_count": 52,
   "metadata": {
    "scrolled": true
   },
   "outputs": [
    {
     "data": {
      "text/html": [
       "<html><script type=\"math/tex; mode=display\">\\newcommand{\\Bold}[1]{\\mathbf{#1}}1</script></html>"
      ],
      "text/plain": [
       "1"
      ]
     },
     "metadata": {},
     "output_type": "display_data"
    },
    {
     "data": {
      "text/html": [
       "<html><script type=\"math/tex; mode=display\">\\newcommand{\\Bold}[1]{\\mathbf{#1}}3</script></html>"
      ],
      "text/plain": [
       "3"
      ]
     },
     "metadata": {},
     "output_type": "display_data"
    }
   ],
   "source": [
    "def inv_gen(M, e, x) :\n",
    "    cpt = 0\n",
    "    inv = 0\n",
    "    for i in Integers(M.nrows()) :\n",
    "        if M[x][i] == e :\n",
    "            cpt = cpt + 1\n",
    "            inv = i\n",
    "    if cpt == 1 :\n",
    "        return inv\n",
    "    else :\n",
    "        return None\n",
    "\n",
    "M1 = genmatrixadd(5)\n",
    "M2 = genmatrixmul(5)\n",
    "show(inv_gen(M1, 0, 4))\n",
    "show(inv_gen(M2, 1, 2))\n",
    "\n"
   ]
  },
  {
   "cell_type": "markdown",
   "metadata": {
    "deletable": false,
    "editable": false,
    "run_control": {
     "frozen": true
    }
   },
   "source": [
    "### Question\n",
    "- Écrire deux fonctions `liste_inv_add(N)` et `liste_inv_mul(N)` qui calculent la liste des éléments inversibles pour l'addition et la multiplication *modulo* $N$ (vous utiliserez la fonction `inv_gen` de la question précédente, ainsi que les fonction `genMatrixAdd` et `genMatrixMul`).\n",
    "- Regarder ce qu'il se passe pour $N=5,10,13,16$."
   ]
  },
  {
   "cell_type": "code",
   "execution_count": 53,
   "metadata": {},
   "outputs": [],
   "source": [
    "def list_inv_add(N) :\n",
    "    L = []\n",
    "    e = 0\n",
    "    M1 = genmatrixadd(N)\n",
    "    for i in Integers(N) :\n",
    "        L.append(inv_gen(M1, e, i))\n",
    "    return L"
   ]
  },
  {
   "cell_type": "code",
   "execution_count": 54,
   "metadata": {},
   "outputs": [],
   "source": [
    "def list_inv_mul(N) :\n",
    "    L2 = []\n",
    "    e = 1\n",
    "    M2 = genmatrixmul(N)\n",
    "    for i in Integers(N) :\n",
    "        if inv_gen(M2, e, i) != None :\n",
    "            L2.append(i)\n",
    "    return L2"
   ]
  },
  {
   "cell_type": "code",
   "execution_count": 55,
   "metadata": {},
   "outputs": [
    {
     "data": {
      "text/html": [
       "<html><script type=\"math/tex; mode=display\">\\newcommand{\\Bold}[1]{\\mathbf{#1}}\\left[0, 4, 3, 2, 1\\right]</script></html>"
      ],
      "text/plain": [
       "[0, 4, 3, 2, 1]"
      ]
     },
     "metadata": {},
     "output_type": "display_data"
    },
    {
     "data": {
      "text/html": [
       "<html><script type=\"math/tex; mode=display\">\\newcommand{\\Bold}[1]{\\mathbf{#1}}\\left[1, 2, 3, 4\\right]</script></html>"
      ],
      "text/plain": [
       "[1, 2, 3, 4]"
      ]
     },
     "metadata": {},
     "output_type": "display_data"
    }
   ],
   "source": [
    "show(list_inv_add(5))\n",
    "show(list_inv_mul(5))"
   ]
  },
  {
   "cell_type": "markdown",
   "metadata": {
    "deletable": false,
    "editable": false,
    "run_control": {
     "frozen": true
    }
   },
   "source": [
    "On remarque que pour toute valeur de $N$, tous les éléments sont inversibles pour l'addition, mais que ce n'est pas le cas pour la division. D'une part $0$ n'est jamais inversible, mais dans certains cas d'autres éléments ne le sont pas non plus.\n",
    "\n"
   ]
  },
  {
   "cell_type": "markdown",
   "metadata": {
    "deletable": false,
    "editable": false,
    "run_control": {
     "frozen": true
    }
   },
   "source": [
    "\n",
    "### Question \n",
    "Lister tous les entiers $N$ entre $2$ et $30$ pour lesquels tous les éléments sauf $0$ sont inversibles pour la multiplication *modulo* $N$. Que remarquez-vous ?"
   ]
  },
  {
   "cell_type": "code",
   "execution_count": 56,
   "metadata": {},
   "outputs": [
    {
     "data": {
      "text/html": [
       "<html><script type=\"math/tex; mode=display\">\\newcommand{\\Bold}[1]{\\mathbf{#1}}\\left[2, 3, 5, 7, 11, 13, 17, 19, 23, 29\\right]</script></html>"
      ],
      "text/plain": [
       "[2, 3, 5, 7, 11, 13, 17, 19, 23, 29]"
      ]
     },
     "metadata": {},
     "output_type": "display_data"
    }
   ],
   "source": [
    "Ltot = []\n",
    "bool = True\n",
    "for i in range (2, 31) :\n",
    "    L1 = list_inv_mul(i)\n",
    "    bool = True\n",
    "    for j in range(0, len(L1) - 1) :\n",
    "        if L1[j] + 1 != L1[j+1] :\n",
    "            bool = False\n",
    "    if bool :\n",
    "        Ltot.append(i)\n",
    "\n",
    "show(Ltot)"
   ]
  },
  {
   "cell_type": "markdown",
   "metadata": {
    "deletable": false,
    "editable": false,
    "run_control": {
     "frozen": true
    }
   },
   "source": [
    "## Soustraction, division\n",
    "\n",
    "À partir des notions d'inverse pour l'addition et la multiplication, on peut définir les opérations de soustraction et de division :\n",
    "- la soustraction est la composition de l'addition et de son inverse: $x-y = x + \\mathsf{inv}_+(y)$ ;\n",
    "- la division est la composition de la multiplication et de son inverse: $x/y = x \\times \\mathsf{inv}_\\times(y)$.\n",
    "\n",
    "Un autre point de vue est de se dire que l'inverse pour l'addition est défini par la soustraction $0-y$, alors que l'inverse pour la multiplication est défini par la division $1/y$. Autrement dit, il est équivalent de considérer les opérations $\\{+,\\times,\\mathsf{inv}_+,\\mathsf{inv_\\times}\\}$ ou les opérations $\\{+,\\times,-,/\\}$.\n",
    "\n",
    "On a vu précédemment que tous les éléments non nuls sont inversibles pour la multiplication *modulo* $N$ si et seulement si $N$ est premier. \n",
    "\n",
    "### Question\n",
    "Calculer les tables de soustraction et de division modulo $5$ à partir des tables d'addition, de multiplication et de la fonction `inv_gen`. *En case $(i,j)$, la table contient le résultat de l'opération $i\\star j$ pour $\\star\\in\\{-,/\\}$. Pour la division, on pourra mettre un $0$ lorsque la division n'est pas définie (division par zéro).*"
   ]
  },
  {
   "cell_type": "code",
   "execution_count": 57,
   "metadata": {},
   "outputs": [
    {
     "data": {
      "text/html": [
       "<html><script type=\"math/tex; mode=display\">\\newcommand{\\Bold}[1]{\\mathbf{#1}}\\left(\\begin{array}{rrrrr}\n",
       "0 & 4 & 3 & 2 & 1 \\\\\n",
       "1 & 0 & 4 & 3 & 2 \\\\\n",
       "2 & 1 & 0 & 4 & 3 \\\\\n",
       "3 & 2 & 1 & 0 & 4 \\\\\n",
       "4 & 3 & 2 & 1 & 0\n",
       "\\end{array}\\right)</script></html>"
      ],
      "text/plain": [
       "[0 4 3 2 1]\n",
       "[1 0 4 3 2]\n",
       "[2 1 0 4 3]\n",
       "[3 2 1 0 4]\n",
       "[4 3 2 1 0]"
      ]
     },
     "metadata": {},
     "output_type": "display_data"
    },
    {
     "data": {
      "text/html": [
       "<html><script type=\"math/tex; mode=display\">\\newcommand{\\Bold}[1]{\\mathbf{#1}}\\left(\\begin{array}{rrrrr}\n",
       "0 & 0 & 0 & 0 & 0 \\\\\n",
       "0 & 1 & 3 & 2 & 4 \\\\\n",
       "0 & 2 & 1 & 4 & 3 \\\\\n",
       "0 & 3 & 4 & 1 & 2 \\\\\n",
       "0 & 4 & 2 & 3 & 1\n",
       "\\end{array}\\right)</script></html>"
      ],
      "text/plain": [
       "[0 0 0 0 0]\n",
       "[0 1 3 2 4]\n",
       "[0 2 1 4 3]\n",
       "[0 3 4 1 2]\n",
       "[0 4 2 3 1]"
      ]
     },
     "metadata": {},
     "output_type": "display_data"
    }
   ],
   "source": [
    "M3 = Matrix(5, 5)\n",
    "M4 = Matrix(5, 5)\n",
    "for i in range (0, 5) :\n",
    "    for j in range (0, 5) :\n",
    "        if (inv_gen(ma5, 0, j) != None) :\n",
    "            M3[i, j] = i + inv_gen(ma5, 0, j)\n",
    "        if (inv_gen(mp5, 1, j) != None) :\n",
    "            M4[i, j] = i * inv_gen(mp5, 1, j)\n",
    "show(M3)\n",
    "show(M4)"
   ]
  },
  {
   "cell_type": "markdown",
   "metadata": {
    "deletable": false,
    "editable": false,
    "run_control": {
     "frozen": true
    }
   },
   "source": [
    "### Question\n",
    "\n",
    "Définir les fonctions `genMatrixSub` et `genMatrixDiv` qui pour un entier $N$ génèrent les matrices correspondant aux tables de soustraction et de division *modulo* $N$. *Vérifier en comparant avec les matrices `Ms5` et `Md5` définies précédemment.*"
   ]
  },
  {
   "cell_type": "code",
   "execution_count": 58,
   "metadata": {},
   "outputs": [
    {
     "data": {
      "text/html": [
       "<html><script type=\"math/tex; mode=display\">\\newcommand{\\Bold}[1]{\\mathbf{#1}}\\left(\\begin{array}{rrrrrr}\n",
       "0 & 5 & 4 & 3 & 2 & 1 \\\\\n",
       "1 & 0 & 5 & 4 & 3 & 2 \\\\\n",
       "2 & 1 & 0 & 5 & 4 & 3 \\\\\n",
       "3 & 2 & 1 & 0 & 5 & 4 \\\\\n",
       "4 & 3 & 2 & 1 & 0 & 5 \\\\\n",
       "5 & 4 & 3 & 2 & 1 & 0\n",
       "\\end{array}\\right)</script></html>"
      ],
      "text/plain": [
       "[0 5 4 3 2 1]\n",
       "[1 0 5 4 3 2]\n",
       "[2 1 0 5 4 3]\n",
       "[3 2 1 0 5 4]\n",
       "[4 3 2 1 0 5]\n",
       "[5 4 3 2 1 0]"
      ]
     },
     "metadata": {},
     "output_type": "display_data"
    },
    {
     "data": {
      "text/html": [
       "<html><script type=\"math/tex; mode=display\">\\newcommand{\\Bold}[1]{\\mathbf{#1}}\\mathrm{True}</script></html>"
      ],
      "text/plain": [
       "True"
      ]
     },
     "metadata": {},
     "output_type": "display_data"
    },
    {
     "data": {
      "text/html": [
       "<html><script type=\"math/tex; mode=display\">\\newcommand{\\Bold}[1]{\\mathbf{#1}}\\left(\\begin{array}{rrrrr}\n",
       "0 & 0 & 0 & 0 & 0 \\\\\n",
       "0 & 1 & 2 & 3 & 4 \\\\\n",
       "0 & 2 & 4 & 1 & 3 \\\\\n",
       "0 & 3 & 1 & 4 & 2 \\\\\n",
       "0 & 4 & 3 & 2 & 1\n",
       "\\end{array}\\right)</script></html>"
      ],
      "text/plain": [
       "[0 0 0 0 0]\n",
       "[0 1 2 3 4]\n",
       "[0 2 4 1 3]\n",
       "[0 3 1 4 2]\n",
       "[0 4 3 2 1]"
      ]
     },
     "metadata": {},
     "output_type": "display_data"
    },
    {
     "data": {
      "text/html": [
       "<html><script type=\"math/tex; mode=display\">\\newcommand{\\Bold}[1]{\\mathbf{#1}}\\mathrm{True}</script></html>"
      ],
      "text/plain": [
       "True"
      ]
     },
     "metadata": {},
     "output_type": "display_data"
    }
   ],
   "source": [
    "def genmatrixsub(N) :\n",
    "    M = Matrix(N, N)\n",
    "    Madd = genmatrixadd(N)\n",
    "    for i in Integers(N) :\n",
    "        for j in Integers(N) :\n",
    "            if (inv_gen(Madd, 0, j) != None) :\n",
    "                M[i, j] = i + inv_gen(Madd, 0, j)\n",
    "    return M \n",
    "\n",
    "show(genmatrixsub(6))\n",
    "show(genmatrixsub(5) == M3)\n",
    "\n",
    "def genmatrixdiv(N) :\n",
    "    M = Matrix(N, N)\n",
    "    Mul = genmatrixmul(N)\n",
    "    for i in range (0, N) :\n",
    "        for j in range (1, N) :\n",
    "            if (inv_gen(Mul, 1, j) != None) :\n",
    "                M[i, j] = i * inv_gen(Mul, 1, j)\n",
    "    return M \n",
    "\n",
    "show(genmatrixmul(5))\n",
    "show(genmatrixdiv(5) == M4)"
   ]
  },
  {
   "cell_type": "markdown",
   "metadata": {
    "deletable": false,
    "editable": false,
    "run_control": {
     "frozen": true
    }
   },
   "source": [
    "On a vu que tous les éléments sont inversibles pour l'addition *modulo* $N$. D'autre part, si $N$ est premier, tous les éléments non nuls sont inversibles pour la multiplication. Cela signifie que les quatre opérations $\\{+,\\times,-,/\\}$ sont bien définies : $x\\star y\\in\\{0,\\dotsc,N-1\\}$ pour tout $x,y\\in\\{0,\\dotsc,N-1\\}$ et $\\star\\in\\{+,\\times,-,/\\}$ (avec la condition $y\\neq 0$ si $\\star=/$). On peut donc calculer *modulo* un nombre premier comme on calcule avec les nombres rationnels. On dit que les entiers *modulo* un nombre premier forment un *corps*. \n",
    "\n",
    "Dans la suite, on va s'intéresser à ce qui se passe pour $N$ non premier. Dans ce cas, on a déjà vu que certains éléments ne sont pas inversibles pour la multiplication."
   ]
  },
  {
   "cell_type": "markdown",
   "metadata": {
    "deletable": false,
    "editable": false,
    "run_control": {
     "frozen": true
    }
   },
   "source": [
    "## Groupe multiplicatif\n",
    "\n",
    "<!--On a vu que tous les éléments sont inversibles pour l'addition *modulo* $N$. D'autre part, si $N$ est premier, tous les éléments non nuls sont inversible pour la multiplication pour alors les quatre opérations $\\{+,\\times,-,/\\}$ sont bien définies : $x\\star y\\in\\{0,\\dotsc,N-1\\}$ pour tout $x,y\\in\\{0,\\dotsc,N-1\\}$ et $\\star\\in\\{+,\\times,-,/\\}$ (avec la condition $y\\neq 0$ si $\\star=/$). Si $N$ n'est pas premier, on a vu que certains éléments non nuls ne sont pas inversibles pour la multiplication, et on ne peut donc pas définir de division sur l'ensemble des entiers *modulo* $N$.\n",
    "\n",
    "\n",
    "\n",
    "La liste de nombres précédente ne comporte que des nombres premiers. C'est une propriété mathématique importante : si\n",
    "-->\n",
    "\n",
    "Quand $N$ est premier, les entiers $\\{1,2,\\dots,N-1\\}$ forment un *groupe* pour la multiplication modulo $N$, c'est-à-dire que ce sous-ensemble $E$ vérifie les deux conditions suivantes :\n",
    "- pour tout $x,y\\in E$, $x\\times y\\in E$ (*opération interne*) ;\n",
    "- pour tout $x\\in E$, il existe un unique inverse de $x$ dans $E$ pour la multiplication (*inversibilité*).\n",
    " \n",
    "Quand $N$ n'est pas premier, certains éléments ne sont pas inversibles pour la multiplication et $\\{1,\\dotsc,N-1\\}$ n'est pas un groupe. \n",
    "\n",
    "On va voir qu'il existe toujours, même pour $N$ non premier, un *groupe* pour la multiplication *modulo* $N$, c'est-à-dire un sous-ensemble $E$ qui vérifie les deux conditions précédentes. \n",
    "\n",
    "**Remarque.** On cherche un groupe le plus grand possible. En effet, le sous-ensemble $\\{1\\}$ forme toujours un groupe pour la multiplication *modulo* $N$, car $1\\times 1 = 1$ et $1$ est son propre inverse.\n"
   ]
  },
  {
   "cell_type": "markdown",
   "metadata": {
    "deletable": false,
    "editable": false,
    "run_control": {
     "frozen": true
    }
   },
   "source": [
    "### Question\n",
    "Écrire une fonction `estInterne(M,E)` qui prend en entrée une table d'opération `M` (une matrice), un sous-ensemble $E$, et teste si l'opération représentée par la matrice `M` est interne au sous-ensemble $E$. *On peut définir la sous-table d'opération restreinte à E avec M[E,E].* \n",
    "\n",
    "- Vous testerez votre fonction avec la table de multiplication modulo 5 et l'ensemble d'entiers E={1,2,3,4}.\n",
    "- Vous verifierez votre fonction avec les tables de multiplication modulo $N$ pour $2 \\leq N\\leq 31$. Pour le sous-ensemble E, vous utiliserez la fonction `liste_inv_mul(N)`.\n",
    "- Montrez que si on remplace la table de multiplication par la table d'addition et que l'on prend le même sous-ensemble, l'opération `estIterne` renvoie toujours faux."
   ]
  },
  {
   "cell_type": "code",
   "execution_count": 67,
   "metadata": {},
   "outputs": [],
   "source": [
    "def estinterne(M, E) : \n",
    "    mat = M[E,E]\n",
    "    for i in range(len(E)) :\n",
    "        for j in range(len(E)) :\n",
    "            if mat[i,j] not in E :\n",
    "                return False\n",
    "    return True\n"
   ]
  },
  {
   "cell_type": "code",
   "execution_count": 66,
   "metadata": {},
   "outputs": [
    {
     "data": {
      "text/html": [
       "<html><script type=\"math/tex; mode=display\">\\newcommand{\\Bold}[1]{\\mathbf{#1}}\\mathrm{True}</script></html>"
      ],
      "text/plain": [
       "True"
      ]
     },
     "metadata": {},
     "output_type": "display_data"
    }
   ],
   "source": [
    "M = genmatrixmul(5)\n",
    "E= [1,2,3,4]\n",
    "show(estinterne(M,E))"
   ]
  },
  {
   "cell_type": "code",
   "execution_count": 61,
   "metadata": {},
   "outputs": [
    {
     "data": {
      "text/html": [
       "<html><script type=\"math/tex; mode=display\">\\newcommand{\\Bold}[1]{\\mathbf{#1}}\\left[1, 2, 3, 4\\right]</script></html>"
      ],
      "text/plain": [
       "[1, 2, 3, 4]"
      ]
     },
     "metadata": {},
     "output_type": "display_data"
    }
   ],
   "source": [
    "show(list_inv_mul(5))"
   ]
  },
  {
   "cell_type": "code",
   "execution_count": null,
   "metadata": {},
   "outputs": [],
   "source": []
  },
  {
   "cell_type": "code",
   "execution_count": null,
   "metadata": {},
   "outputs": [],
   "source": []
  },
  {
   "cell_type": "markdown",
   "metadata": {
    "deletable": false,
    "editable": false,
    "run_control": {
     "frozen": true
    }
   },
   "source": [
    "### Question\n",
    "- Écrire une fonction `estGroupe(Mp, E)` qui prend en entrée une table de *multiplication* `Mp` et vérifie si le sous-ensemble $E$ forme un groupe pour la multiplication, en vérifiant les deux propriétés énoncées au-dessus.\n",
    "- Pour $N=15$, vérifier que le sous-ensemble $E=\\{1,2,4,7,8,11,13,14\\}$ forme un groupe pour la multiplication modulo $15$. Afficher les tables de multiplications et de division dans ce groupe."
   ]
  },
  {
   "cell_type": "code",
   "execution_count": 63,
   "metadata": {},
   "outputs": [],
   "source": [
    "def estGroupe(Mp, E) :\n",
    "    n = len(Mp.rows())\n",
    "    if estinterne(Mp, E) :\n",
    "        for i in range (len(E)) :\n",
    "            if (inv_gen(Mp, 1, E[i]) == None) :\n",
    "                return False\n",
    "    return True\n",
    "            "
   ]
  },
  {
   "cell_type": "code",
   "execution_count": 68,
   "metadata": {},
   "outputs": [
    {
     "data": {
      "text/html": [
       "<html><script type=\"math/tex; mode=display\">\\newcommand{\\Bold}[1]{\\mathbf{#1}}\\mathrm{True}</script></html>"
      ],
      "text/plain": [
       "True"
      ]
     },
     "metadata": {},
     "output_type": "display_data"
    }
   ],
   "source": [
    "mg = genmatrixmul(15)\n",
    "E = [1,2,4,7,8,11,13,14]\n",
    "show(estGroupe(mg,E))"
   ]
  },
  {
   "cell_type": "code",
   "execution_count": 69,
   "metadata": {},
   "outputs": [
    {
     "data": {
      "text/html": [
       "<html><script type=\"math/tex; mode=display\">\\newcommand{\\Bold}[1]{\\mathbf{#1}}\\left(\\begin{array}{rrrrrrrr}\n",
       "1 & 2 & 4 & 7 & 8 & 11 & 13 & 14 \\\\\n",
       "2 & 4 & 8 & 14 & 1 & 7 & 11 & 13 \\\\\n",
       "4 & 8 & 1 & 13 & 2 & 14 & 7 & 11 \\\\\n",
       "7 & 14 & 13 & 4 & 11 & 2 & 1 & 8 \\\\\n",
       "8 & 1 & 2 & 11 & 4 & 13 & 14 & 7 \\\\\n",
       "11 & 7 & 14 & 2 & 13 & 1 & 8 & 4 \\\\\n",
       "13 & 11 & 7 & 1 & 14 & 8 & 4 & 2 \\\\\n",
       "14 & 13 & 11 & 8 & 7 & 4 & 2 & 1\n",
       "\\end{array}\\right)</script></html>"
      ],
      "text/plain": [
       "[ 1  2  4  7  8 11 13 14]\n",
       "[ 2  4  8 14  1  7 11 13]\n",
       "[ 4  8  1 13  2 14  7 11]\n",
       "[ 7 14 13  4 11  2  1  8]\n",
       "[ 8  1  2 11  4 13 14  7]\n",
       "[11  7 14  2 13  1  8  4]\n",
       "[13 11  7  1 14  8  4  2]\n",
       "[14 13 11  8  7  4  2  1]"
      ]
     },
     "metadata": {},
     "output_type": "display_data"
    },
    {
     "data": {
      "text/html": [
       "<html><script type=\"math/tex; mode=display\">\\newcommand{\\Bold}[1]{\\mathbf{#1}}\\left(\\begin{array}{rrrrrrrr}\n",
       "1 & 8 & 4 & 13 & 2 & 11 & 7 & 14 \\\\\n",
       "2 & 1 & 8 & 11 & 4 & 7 & 14 & 13 \\\\\n",
       "4 & 2 & 1 & 7 & 8 & 14 & 13 & 11 \\\\\n",
       "7 & 11 & 13 & 1 & 14 & 2 & 4 & 8 \\\\\n",
       "8 & 4 & 2 & 14 & 1 & 13 & 11 & 7 \\\\\n",
       "11 & 13 & 14 & 8 & 7 & 1 & 2 & 4 \\\\\n",
       "13 & 14 & 7 & 4 & 11 & 8 & 1 & 2 \\\\\n",
       "14 & 7 & 11 & 2 & 13 & 4 & 8 & 1\n",
       "\\end{array}\\right)</script></html>"
      ],
      "text/plain": [
       "[ 1  8  4 13  2 11  7 14]\n",
       "[ 2  1  8 11  4  7 14 13]\n",
       "[ 4  2  1  7  8 14 13 11]\n",
       "[ 7 11 13  1 14  2  4  8]\n",
       "[ 8  4  2 14  1 13 11  7]\n",
       "[11 13 14  8  7  1  2  4]\n",
       "[13 14  7  4 11  8  1  2]\n",
       "[14  7 11  2 13  4  8  1]"
      ]
     },
     "metadata": {},
     "output_type": "display_data"
    }
   ],
   "source": [
    "show(genmatrixmul(15)[E,E])\n",
    "show(genmatrixdiv(15)[E,E])"
   ]
  },
  {
   "cell_type": "markdown",
   "metadata": {
    "deletable": false,
    "editable": false,
    "run_control": {
     "frozen": true
    }
   },
   "source": [
    "### Question\n",
    "- Quelle propriété remarquez-vous sur l'ensemble $\\{1,2,4,7,8,11,13,14\\}$ par rapport à l'entier 15 ? *Indication : quels sont les entiers manquants ?*\n",
    "- Appliquer votre propriété pour trouver un sous-ensemble de $\\{1,2,3,4,5,6,7,8,9\\}$ qui forme un groupe pour la multiplication modulo 10. *Trouver la solution théoriquement, puis vérifier.*"
   ]
  },
  {
   "cell_type": "code",
   "execution_count": 75,
   "metadata": {},
   "outputs": [
    {
     "data": {
      "text/html": [
       "<html><script type=\"math/tex; mode=display\">\\newcommand{\\Bold}[1]{\\mathbf{#1}}\\verb|<class|\\phantom{\\verb!x!}\\verb|'sage.rings.finite_rings.integer_mod.IntegerMod_int'>|</script></html>"
      ],
      "text/plain": [
       "<class 'sage.rings.finite_rings.integer_mod.IntegerMod_int'>"
      ]
     },
     "metadata": {},
     "output_type": "display_data"
    },
    {
     "data": {
      "text/html": [
       "<html><script type=\"math/tex; mode=display\">\\newcommand{\\Bold}[1]{\\mathbf{#1}}\\mathrm{True}</script></html>"
      ],
      "text/plain": [
       "True"
      ]
     },
     "execution_count": 75,
     "metadata": {},
     "output_type": "execute_result"
    }
   ],
   "source": [
    "#il manque les nombres divisibles par les diviseurs 15 (hormis 1)\n",
    "#diviseurs de 10: 2 et 5, divisibles par les diviseurs hormis 1, plus petits que 10: 2, 4, 5, 6, 8\n",
    "# sous-ensemble restant: {1,3,7,9}\n",
    "show(type(list_inv_mul(10)[0]))\n",
    "estGroupe(genmatrixmul(10), list_inv_mul(10))"
   ]
  },
  {
   "cell_type": "markdown",
   "metadata": {
    "deletable": false,
    "editable": false,
    "run_control": {
     "frozen": true
    }
   },
   "source": [
    "### Question\n",
    "Soit $p=3$ et $q=5$, donner le code qui permet de calculer l'ensemble des entiers compris entre $1$ et $p\\times q-1$ qui ne sont ni divisibles par $p$ ni par $q$."
   ]
  },
  {
   "cell_type": "code",
   "execution_count": 76,
   "metadata": {
    "cell_style": "center"
   },
   "outputs": [
    {
     "data": {
      "text/html": [
       "<html><script type=\"math/tex; mode=display\">\\newcommand{\\Bold}[1]{\\mathbf{#1}}\\left[1, 2, 4, 7, 8, 11, 13, 14\\right]</script></html>"
      ],
      "text/plain": [
       "[1, 2, 4, 7, 8, 11, 13, 14]"
      ]
     },
     "metadata": {},
     "output_type": "display_data"
    }
   ],
   "source": [
    "listEnt = []\n",
    "p = 3\n",
    "q = 5\n",
    "for i in range(1,p*q):\n",
    "    if not(i%p == 0 or i%q == 0):\n",
    "        listEnt.append(i)\n",
    "show(listEnt)"
   ]
  },
  {
   "cell_type": "markdown",
   "metadata": {
    "deletable": false,
    "editable": false,
    "run_control": {
     "frozen": true
    }
   },
   "source": [
    "### Question\n",
    "Écrire une fonction `nondivPQ(p,q)` qui prend 2 nombres premiers $p$ et $q$ et qui retourne la liste des nombres compris entre 1 et $pq$ et qui ne sont divisibles ni par $p$ ni par $q$.\n",
    "\n",
    "Vous montrerez que `nondivPQ(p,q)` et `liste_inv_mul(p*q)` renvoient le même résultat pour $p$ et $q$ premiers. Pour cela vous vérifierez que c'est bien le cas pour tous les couples de nombres premiers $(p,q)$ parmi les 10 premiers nombres premiers (il existe une fonction sage pour générer la liste de ces nombres premiers)."
   ]
  },
  {
   "cell_type": "code",
   "execution_count": 77,
   "metadata": {},
   "outputs": [],
   "source": [
    " def nondivPQ(p, q):\n",
    "    listEnt = []\n",
    "    IN=Integers(p*q)\n",
    "    for i in range(1,p*q):\n",
    "        if not(i%p == 0 or i%q == 0):\n",
    "            listEnt.append(IN(i))\n",
    "    return listEnt"
   ]
  },
  {
   "cell_type": "code",
   "execution_count": 80,
   "metadata": {},
   "outputs": [],
   "source": [
    "P = Primes()\n",
    "listP = [P.unrank(i) for i in range(7)]\n",
    "\n",
    "for e1 in listP:\n",
    "    for e2 in listP:\n",
    "        l1 = nondivPQ(e1, e2)\n",
    "        l1.sort()\n",
    "        l2 = list_inv_mul(e1*e2)\n",
    "        l2.sort()\n",
    "        if l1 != l2:\n",
    "            show(\"MARCHE PAS\")\n",
    "            show(e1)\n",
    "            show(e2)"
   ]
  },
  {
   "cell_type": "markdown",
   "metadata": {
    "deletable": false,
    "editable": false,
    "run_control": {
     "frozen": true
    }
   },
   "source": [
    "### Question\n",
    "Vérifier, à l'aide des fonctions `nondivPQ` et `estGroupe`, que pour tout couple $(p,q)$ de nombres premiers l'ensemble des éléments de `nondivPQ(p,q)` forme un groupe pour la multiplication modulo $N=p\\times q$.\n",
    "- vous testerez dans un premier temps votre fonction avec $p = 5$ et $q = 7$,\n",
    "- puis vous la testerez pour tout les couples de nombre premiers $(p,q)$ parmi les 10 premiers nombres premiers ."
   ]
  },
  {
   "cell_type": "code",
   "execution_count": 82,
   "metadata": {
    "scrolled": true
   },
   "outputs": [
    {
     "data": {
      "text/html": [
       "<html><script type=\"math/tex; mode=display\">\\newcommand{\\Bold}[1]{\\mathbf{#1}}\\mathrm{True}</script></html>"
      ],
      "text/plain": [
       "True"
      ]
     },
     "execution_count": 82,
     "metadata": {},
     "output_type": "execute_result"
    }
   ],
   "source": [
    "p = 5\n",
    "q = 7\n",
    "estGroupe(genmatrixmul(p*q), nondivPQ(p,q))"
   ]
  },
  {
   "cell_type": "code",
   "execution_count": 83,
   "metadata": {},
   "outputs": [
    {
     "data": {
      "text/html": [
       "<html><script type=\"math/tex; mode=display\">\\newcommand{\\Bold}[1]{\\mathbf{#1}}\\left[2, 3, 5, 7, 11, 13, 17\\right]</script></html>"
      ],
      "text/plain": [
       "[2, 3, 5, 7, 11, 13, 17]"
      ]
     },
     "metadata": {},
     "output_type": "display_data"
    },
    {
     "ename": "NameError",
     "evalue": "name 'genMatrixMul' is not defined",
     "output_type": "error",
     "traceback": [
      "\u001b[0;31m---------------------------------------------------------------------------\u001b[0m",
      "\u001b[0;31mNameError\u001b[0m                                 Traceback (most recent call last)",
      "\u001b[0;32m<ipython-input-83-b5b978b3a71e>\u001b[0m in \u001b[0;36m<module>\u001b[0;34m\u001b[0m\n\u001b[1;32m      4\u001b[0m \u001b[0;32mfor\u001b[0m \u001b[0me1\u001b[0m \u001b[0;32min\u001b[0m \u001b[0mlistP\u001b[0m\u001b[0;34m:\u001b[0m\u001b[0;34m\u001b[0m\u001b[0;34m\u001b[0m\u001b[0m\n\u001b[1;32m      5\u001b[0m    \u001b[0;32mfor\u001b[0m \u001b[0me2\u001b[0m \u001b[0;32min\u001b[0m \u001b[0mlistP\u001b[0m\u001b[0;34m:\u001b[0m\u001b[0;34m\u001b[0m\u001b[0;34m\u001b[0m\u001b[0m\n\u001b[0;32m----> 6\u001b[0;31m        \u001b[0;32mif\u001b[0m \u001b[0;32mnot\u001b[0m\u001b[0;34m(\u001b[0m\u001b[0mestGroupe\u001b[0m\u001b[0;34m(\u001b[0m\u001b[0mgenMatrixMul\u001b[0m\u001b[0;34m(\u001b[0m\u001b[0me1\u001b[0m\u001b[0;34m*\u001b[0m\u001b[0me2\u001b[0m\u001b[0;34m)\u001b[0m\u001b[0;34m,\u001b[0m \u001b[0mnondivPQ\u001b[0m\u001b[0;34m(\u001b[0m\u001b[0me1\u001b[0m\u001b[0;34m,\u001b[0m\u001b[0me2\u001b[0m\u001b[0;34m)\u001b[0m\u001b[0;34m)\u001b[0m\u001b[0;34m)\u001b[0m\u001b[0;34m:\u001b[0m\u001b[0;34m\u001b[0m\u001b[0;34m\u001b[0m\u001b[0m\n\u001b[0m\u001b[1;32m      7\u001b[0m            \u001b[0mshow\u001b[0m\u001b[0;34m(\u001b[0m\u001b[0;34m\"MARCHE PAS\"\u001b[0m\u001b[0;34m)\u001b[0m\u001b[0;34m\u001b[0m\u001b[0;34m\u001b[0m\u001b[0m\n\u001b[1;32m      8\u001b[0m            \u001b[0mshow\u001b[0m\u001b[0;34m(\u001b[0m\u001b[0me1\u001b[0m\u001b[0;34m)\u001b[0m\u001b[0;34m\u001b[0m\u001b[0;34m\u001b[0m\u001b[0m\n",
      "\u001b[0;31mNameError\u001b[0m: name 'genMatrixMul' is not defined"
     ]
    }
   ],
   "source": [
    " P = Primes\n",
    "listP = [P().unrank(i) for i in range(7)]   ##ici on a clairement un souci d'opti au dessus de 7\n",
    "show(listP)\n",
    "for e1 in listP:\n",
    "    for e2 in listP:\n",
    "        if not(estGroupe(genmatrixmul(e1*e2), nondivPQ(e1,e2))):\n",
    "            show(\"MARCHE PAS\")\n",
    "            show(e1)\n",
    "            show(e2)"
   ]
  },
  {
   "cell_type": "markdown",
   "metadata": {
    "deletable": false,
    "editable": false,
    "run_control": {
     "frozen": true
    }
   },
   "source": [
    "### Question \n",
    "On va généraliser les questions précédentes à un entier $N$ quelconque, en vérifiant que le sous-ensemble $E$ des entiers qui ne sont multiples d'aucun facteur premier de $N$, forme un groupe pour la multiplication. \n",
    "\n",
    "- généraliser `nondivPQ` à un $N$ quelconque pour renvoyer l'ensemble des entiers qui ne sont multiples d'aucun facteur premier de $N$. *La fonction `N.factor()` calcule la factorisation de $N$ en facteurs premiers. Le retour de la fonction est une liste de couples représentant le facteur et son exposant dans la factorisation.*\n",
    "- proposer une fonction qui vérifie pour un entier $N$ que l'ensemble en question forme bien un groupe pour la multiplication.\n",
    "- tester pour tous les entiers  $N$ entre 1 et 100."
   ]
  },
  {
   "cell_type": "code",
   "execution_count": null,
   "metadata": {},
   "outputs": [],
   "source": [
    "def nondivPQgen(N) :\n",
    "    L = []\n",
    "    for i in range(1,N) :\n",
    "        div = True\n",
    "        for j in N.factor() :\n",
    "            if i%j[0] == 0:\n",
    "                div = False\n",
    "            if div :\n",
    "                L.append(i)\n",
    "    return L"
   ]
  },
  {
   "cell_type": "code",
   "execution_count": null,
   "metadata": {},
   "outputs": [],
   "source": [
    "show(nondivPQgen(10))"
   ]
  },
  {
   "cell_type": "markdown",
   "metadata": {
    "deletable": false,
    "editable": false,
    "run_control": {
     "frozen": true
    }
   },
   "source": [
    "## Inversibilité et pgcd\n",
    "\n",
    "On vient de voir que pour tout entier $N$, il existe un sous-ensemble de $G\\subset E=\\{1,2,\\dots,N-1\\}$ qui définit un groupe pour la multiplication modulo $N$. On dira de $G$ qu'il est le sous-groupe multiplicatif des entiers modulo $N$.\n",
    "\n",
    "- Si $N$ est un nombre premier alors le sous-ensemble de $G$ est formé par tous les entiers compris entre 1 et N-1.\n",
    "- Si par contre $N=p\\times q$ avec $p$ et $q$ des nombres premiers alors le sous-ensemble $G$ est formé des entiers divisibles ni par $p$ ni par $q$, autrement dit ceux dont le pgcd avec $N$ est égal à $1$. Dans ce cas, le nombre d'entiers dans $G$ est $(p-1)\\times(q-1)$.\n",
    "\n",
    "De manière plus générale, pour tout $N$, le sous-ensemble $G$ est formé des entiers qui sont premiers avec $N$, càd tous les entiers $x\\in \\{1,\\dots,N-1\\}$ tels que $\\operatorname{pgcd}(x,N)=1$. L'indicatrice d'Euler, notée $\\varphi(N)$, donne exactement le nombre d'éléments de $G$. \n",
    "\n",
    "### Question\n",
    "Retrouver les éléments inversibles *modulo* $35$ en utilisant la propriété sur le pgcd, et vérifier que le nombre d'éléments trouvés vaut bien $\\varphi(35)$. *Le pgcd de $a$ et $b$ se calcule avec `gcd(a,b)`, et $\\varphi(N)$ avec `euler_phi(N)`.*"
   ]
  },
  {
   "cell_type": "code",
   "execution_count": null,
   "metadata": {},
   "outputs": [],
   "source": [
    "L = []\n",
    "for i in range(1,36) :\n",
    "    if gcd(35,i) ==1 :\n",
    "        L.append(i)\n",
    "\n",
    "show(L)"
   ]
  },
  {
   "cell_type": "markdown",
   "metadata": {
    "deletable": false,
    "editable": false,
    "run_control": {
     "frozen": true
    }
   },
   "source": [
    "### Question\n",
    "Pour différentes valeur de $N$, calculer $z^{\\varphi(N)} \\bmod N$ pour tous les éléments inversibles de $\\{1,\\dotsc,N\\}$. Que remarquez-vous ?  "
   ]
  },
  {
   "cell_type": "code",
   "execution_count": null,
   "metadata": {},
   "outputs": [],
   "source": [
    "def valphi(N) :\n",
    "    for i in L :\n",
    "        print((i**(euler_phi(N)))%N)\n",
    "        \n",
    "valphi(35)"
   ]
  },
  {
   "cell_type": "markdown",
   "metadata": {
    "deletable": false,
    "editable": false,
    "run_control": {
     "frozen": true
    }
   },
   "source": [
    "On remarque que pour tout $z$ dans le groupe multiplicatif $G$ modulo $N$, $z^{\\varphi(n)} = 1$. On définit l'*ordre* d'un entier $z\\in G$, noté $\\operatorname{ord}(z)$, comme étant le plus petit entier $k>0$ tel que $z^k=1 \\bmod N$. On a donc $\\operatorname{ord}(z)\\le\\varphi(N)$.\n",
    "\n",
    "### Question\n",
    "- En utilisant directement la structure `Integers(N)` pour faire les calculs modulo $N$, écrire une fonction `ord_mul_modN(x, N)` qui calcule l'ordre de $x$ *modulo* $N$, quand $x$ est inversible *modulo* $N$.\n",
    "- Donner la liste des couples $(x,\\operatorname{ord}(x))$ pour tous les entiers $x$ qui sont inversibles pour la multiplication *modulo* $N$, pour $N=5,15,17$.\n",
    "\n",
    "*Vérifier que vos résultats sont corrects en utilisant la fonction `pow(x,k,N)` qui calcule $x^k \\bmod N$.*"
   ]
  },
  {
   "cell_type": "code",
   "execution_count": null,
   "metadata": {},
   "outputs": [],
   "source": [
    "pow(4,1,35)"
   ]
  },
  {
   "cell_type": "code",
   "execution_count": null,
   "metadata": {},
   "outputs": [],
   "source": []
  },
  {
   "cell_type": "markdown",
   "metadata": {
    "deletable": false,
    "editable": false,
    "run_control": {
     "frozen": true
    }
   },
   "source": [
    "### Question\n",
    "Définir une fonction `liste_ord_mul` qui étant donné un entier N renvoie la liste des ordres possibles de tous les éléments inversibles pour la multiplication modulo $N$. <!--Vous pourrez utilisez la méthode **multiplicative_order()** qui pour un élement x de Integer(N) donne l'ordre mutliplicatif de x modulo N.-->\n",
    "*Tester pour tous les entiers $N$ entre $2$ et $40$.*"
   ]
  },
  {
   "cell_type": "code",
   "execution_count": null,
   "metadata": {},
   "outputs": [],
   "source": []
  },
  {
   "cell_type": "code",
   "execution_count": null,
   "metadata": {},
   "outputs": [],
   "source": []
  },
  {
   "cell_type": "markdown",
   "metadata": {
    "deletable": false,
    "editable": false,
    "run_control": {
     "frozen": true
    }
   },
   "source": [
    "### Question\n",
    "Vérifier que pour tous les nombres premiers $< 40$, les ordres des éléments inversibles pour la multiplication modulo $N$ divisent tous $N-1$. *Vous pourrez utiliser la fonction Sage `prime_range(N)` qui donne la liste des premiers inférieur à N.*"
   ]
  },
  {
   "cell_type": "code",
   "execution_count": null,
   "metadata": {},
   "outputs": [],
   "source": []
  },
  {
   "cell_type": "code",
   "execution_count": null,
   "metadata": {
    "scrolled": true
   },
   "outputs": [],
   "source": []
  },
  {
   "cell_type": "markdown",
   "metadata": {
    "deletable": false,
    "editable": false,
    "run_control": {
     "frozen": true
    }
   },
   "source": [
    "### Question\n",
    "De manière similaire, montrer (pour $p,q<40$) que si $N=p\\times q$ avec $p$ et $q$ des nombres premiers différent alors les ordres des éléments inversibles pour la multiplication modulo $N$ divisent tous $(p-1)\\times(q-1)$. "
   ]
  },
  {
   "cell_type": "code",
   "execution_count": null,
   "metadata": {
    "scrolled": true
   },
   "outputs": [],
   "source": []
  },
  {
   "cell_type": "code",
   "execution_count": null,
   "metadata": {},
   "outputs": [],
   "source": []
  },
  {
   "cell_type": "markdown",
   "metadata": {
    "deletable": false,
    "editable": false,
    "run_control": {
     "frozen": true
    }
   },
   "source": [
    "### Question\n",
    "En réalité, la propriété observée est vraie pour tout $N$ : les ordres des éléments inversibles pour la multiplication *modulo* $N$ divisent tous $\\varphi(N)$. Vérifier la propriété pour pour tout $N \\le 40$."
   ]
  },
  {
   "cell_type": "code",
   "execution_count": null,
   "metadata": {},
   "outputs": [],
   "source": []
  },
  {
   "cell_type": "markdown",
   "metadata": {
    "deletable": false,
    "editable": false,
    "run_control": {
     "frozen": true
    }
   },
   "source": [
    "## Cryptosystème RSA"
   ]
  },
  {
   "cell_type": "markdown",
   "metadata": {
    "deletable": false,
    "editable": false,
    "run_control": {
     "frozen": true
    }
   },
   "source": [
    "Le système de chiffrement RSA est l'un des systèmes cryptographique les plus utilisées dans votre vie de tous les jours (par exemple il est utilisé quand vous payez en carte bleue). Ce protocole s'appuie sur des calculs avec des entiers modulo $N$ et il s'appuie sur la structure de sous-groupe multiplicatif que nous avons entre-apercu.\n",
    "\n",
    "L'idée est de prendre un entier $N=p \\times q$ ou $p$ et $q$ sont deux nombres premiers.\n",
    "Comme vous avez vu que l'ordre des éléments inversibles pour la multiplication modulo $N$ est toujours divisible par $(p-1)\\times (q-1)$ on a la propriété suivante:\n",
    "\n",
    "$\\forall x \\in \\{1,\\dots,N-1\\}$ tel que $pgcd(x,N)=1$ alors $x^{(p-1)\\times (q-1)} \\bmod N= 1$\n",
    "\n",
    "### Question\n",
    "Vérifier cette propriété pour $N=55$. *Vérifier également que la propriété est fausse si on ne suppose pas $\\operatorname{pgcd}(x,N)=1$.*"
   ]
  },
  {
   "cell_type": "code",
   "execution_count": null,
   "metadata": {},
   "outputs": [],
   "source": []
  },
  {
   "cell_type": "code",
   "execution_count": null,
   "metadata": {
    "scrolled": true
   },
   "outputs": [],
   "source": []
  },
  {
   "cell_type": "markdown",
   "metadata": {
    "deletable": false,
    "editable": false,
    "run_control": {
     "frozen": true
    }
   },
   "source": [
    "L'idée du chiffrement RSA est d'utiliser le calcul des entiers modulo $N$ avec un entier $N=p \\times q$ où $p,q$ sont premiers. On définit une paire de clé $(e,d)$ avec $e,d$ deux entiers non-nuls plus petit que $N$, et on dit que la paire $(N,e)$ est la clé publique et que la paire $(N,d)$ est la clé secrète. \n",
    "\n",
    "Lorsque quelqu'un veut envoyer un message $m$ chiffré à Alice, il lui suffit d'utiliser la clé publique $(N,e)$ d'Alice (qui est connue de tous). Par simplicité, on considèrera que le message $m$ est un entier dans $\\{1,\\dots,N-1)$ tel que $pgcd(m,N)=1$. Le chiffrement de $m$ par la clé publique d'Alice consiste à calculer $C_m = m^e \\bmod N$.\n",
    "\n",
    "Pour déchiffrer le message, il faut soit:\n",
    "- calculer $m$ ou $d$ en fonction de $C_m,e$ et $N$, ce qui est en fait un problème difficile (complexité sous-exponentielle)\n",
    "- soit connaitre la clé privé $(N,d)$ que seul Alice connait. En effet, pour Alice il suffit de calculer\n",
    "$m = C_m^d \\bmod N$ (complexité quasi-linéaire)\n",
    "\n",
    "\n",
    "### Question\n",
    "\n",
    "Soit $N=5\\times 11$, $m=31$, $e=3$ et $d=42$, montrer que le déchiffrement de RSA avec la clé privée $d$ fonctionne bien."
   ]
  },
  {
   "cell_type": "code",
   "execution_count": null,
   "metadata": {},
   "outputs": [],
   "source": []
  },
  {
   "cell_type": "code",
   "execution_count": null,
   "metadata": {},
   "outputs": [],
   "source": []
  },
  {
   "cell_type": "markdown",
   "metadata": {
    "deletable": false,
    "editable": false,
    "run_control": {
     "frozen": true
    }
   },
   "source": [
    "Toute la magie de ce protocole de cryptage réside dans le calcul de la paire d'entiers $(e,d)$. En effet, $e$ doit être choisi de telle sorte que $pgcd(e,(p-1)\\times(q-1))=1$. Cette condition implique que $e$ est inversible modulo $(p-1)\\times(q-1)$. Il suffit de poser $d=1/e \\bmod (p-1)\\times(q-1)$ pour faire marcher le protocole. \n",
    "\n",
    "En effet, par définition de $e$ et $d$ on a que $d*e = 1 \\bmod (p-1)\\times(q-1)$. Par conséquent, on a que $de= 1 + k \\times (p-1)\\times(q-1)$ avec $k$ un entiers.\n",
    "\n",
    "\n",
    "Maintenant, si on considère le sous-groupe $G$ des inversibles pour la multiplication modulo $N$, on a vu que pour tout élément $x\\in G$ l'ordre de $x$ divise $(p-1)\\times(q-1)$. Cela implique donc que $x^{(p-1)\\times(q-1)}=1 \\bmod N$.\n",
    "\n",
    "En reprenant le protocole RSA, on a que le déchiffrement calcule\n",
    "$C_m^e \\bmod N = {(m^d)}^e \\bmod N = m^{de} \\bmod N= m^{1 + k \\times (p-1)\\times(q-1)} \\bmod N = m \\times m^{k \\times (p-1)\\times(q-1)}= m \\times {(m^{(p-1)\\times(q-1)})}^k = m \\times 1^k \\bmod N=m$\n"
   ]
  },
  {
   "cell_type": "markdown",
   "metadata": {
    "deletable": false,
    "editable": false,
    "run_control": {
     "frozen": true
    }
   },
   "source": [
    "### Question\n",
    "En considérant $N=17*11=187$, $m=101$, calculer $10$ paires d'entier $(e,d)$ au hasard tel que le protocole RSA fonctionne. À chaque fois vous afficherez $e$ et $d$ ainsi que le message chiffré et son déchiffrement."
   ]
  },
  {
   "cell_type": "code",
   "execution_count": null,
   "metadata": {},
   "outputs": [],
   "source": []
  },
  {
   "cell_type": "code",
   "execution_count": null,
   "metadata": {},
   "outputs": [],
   "source": []
  },
  {
   "cell_type": "code",
   "execution_count": null,
   "metadata": {},
   "outputs": [],
   "source": []
  }
 ],
 "metadata": {
  "celltoolbar": "Tags",
  "kernelspec": {
   "display_name": "SageMath 9.0",
   "language": "sage",
   "name": "sagemath"
  },
  "language_info": {
   "codemirror_mode": {
    "name": "ipython",
    "version": 3
   },
   "file_extension": ".py",
   "mimetype": "text/x-python",
   "name": "python",
   "nbconvert_exporter": "python",
   "pygments_lexer": "ipython3",
   "version": "3.8.10"
  },
  "toc": {
   "base_numbering": 1,
   "nav_menu": {},
   "number_sections": true,
   "sideBar": true,
   "skip_h1_title": true,
   "title_cell": "Table of Contents",
   "title_sidebar": "Contents",
   "toc_cell": false,
   "toc_position": {
    "height": "566.767px",
    "left": "0px",
    "right": "900px",
    "top": "110.233px",
    "width": "195px"
   },
   "toc_section_display": "block",
   "toc_window_display": true
  },
  "varInspector": {
   "cols": {
    "lenName": 16,
    "lenType": 16,
    "lenVar": 40
   },
   "kernels_config": {
    "python": {
     "delete_cmd_postfix": "",
     "delete_cmd_prefix": "del ",
     "library": "var_list.py",
     "varRefreshCmd": "print(var_dic_list())"
    },
    "r": {
     "delete_cmd_postfix": ") ",
     "delete_cmd_prefix": "rm(",
     "library": "var_list.r",
     "varRefreshCmd": "cat(var_dic_list()) "
    }
   },
   "types_to_exclude": [
    "module",
    "function",
    "builtin_function_or_method",
    "instance",
    "_Feature"
   ],
   "window_display": false
  }
 },
 "nbformat": 4,
 "nbformat_minor": 4
}
