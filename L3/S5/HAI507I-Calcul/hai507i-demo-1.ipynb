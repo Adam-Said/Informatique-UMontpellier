{
 "cells": [
  {
   "cell_type": "markdown",
   "metadata": {
    "slideshow": {
     "slide_type": "slide"
    }
   },
   "source": [
    "# Calculs sur les entiers"
   ]
  },
  {
   "cell_type": "code",
   "execution_count": 14,
   "metadata": {
    "slideshow": {
     "slide_type": "-"
    }
   },
   "outputs": [
    {
     "data": {
      "text/plain": [
       "5"
      ]
     },
     "execution_count": 14,
     "metadata": {},
     "output_type": "execute_result"
    }
   ],
   "source": [
    "2 + 3 # addition"
   ]
  },
  {
   "cell_type": "code",
   "execution_count": 15,
   "metadata": {
    "slideshow": {
     "slide_type": "-"
    }
   },
   "outputs": [
    {
     "data": {
      "text/plain": [
       "1664"
      ]
     },
     "execution_count": 15,
     "metadata": {},
     "output_type": "execute_result"
    }
   ],
   "source": [
    "26 * 64 # multiplication"
   ]
  },
  {
   "cell_type": "code",
   "execution_count": 16,
   "metadata": {},
   "outputs": [
    {
     "data": {
      "text/plain": [
       "2"
      ]
     },
     "execution_count": 16,
     "metadata": {},
     "output_type": "execute_result"
    }
   ],
   "source": [
    "13 // 5 # division entière"
   ]
  },
  {
   "cell_type": "code",
   "execution_count": 17,
   "metadata": {},
   "outputs": [
    {
     "data": {
      "text/plain": [
       "3"
      ]
     },
     "execution_count": 17,
     "metadata": {},
     "output_type": "execute_result"
    }
   ],
   "source": [
    "13 % 5 # modulo (reste)"
   ]
  },
  {
   "cell_type": "code",
   "execution_count": 18,
   "metadata": {},
   "outputs": [
    {
     "data": {
      "text/plain": [
       "1024"
      ]
     },
     "execution_count": 18,
     "metadata": {},
     "output_type": "execute_result"
    }
   ],
   "source": [
    "4**5 # exposant"
   ]
  },
  {
   "cell_type": "code",
   "execution_count": 19,
   "metadata": {
    "slideshow": {
     "slide_type": "fragment"
    }
   },
   "outputs": [
    {
     "data": {
      "text/plain": [
       "1024"
      ]
     },
     "execution_count": 19,
     "metadata": {},
     "output_type": "execute_result"
    }
   ],
   "source": [
    "4^5 # ⚡≠🐍⚡ "
   ]
  },
  {
   "cell_type": "markdown",
   "metadata": {
    "slideshow": {
     "slide_type": "slide"
    }
   },
   "source": [
    "# Fonctionnalités supplémentaires"
   ]
  },
  {
   "cell_type": "code",
   "execution_count": 20,
   "metadata": {},
   "outputs": [
    {
     "data": {
      "text/plain": [
       "2^2 * 3 * 29 * 173 * 569"
      ]
     },
     "execution_count": 20,
     "metadata": {},
     "output_type": "execute_result"
    }
   ],
   "source": [
    "n = 34256076\n",
    "n.factor()"
   ]
  },
  {
   "cell_type": "code",
   "execution_count": 21,
   "metadata": {},
   "outputs": [
    {
     "data": {
      "text/plain": [
       "[(2, 2), (3, 1), (29, 1), (173, 1), (569, 1)]"
      ]
     },
     "execution_count": 21,
     "metadata": {},
     "output_type": "execute_result"
    }
   ],
   "source": [
    "list(n.factor())"
   ]
  },
  {
   "cell_type": "code",
   "execution_count": 22,
   "metadata": {
    "slideshow": {
     "slide_type": "fragment"
    }
   },
   "outputs": [
    {
     "data": {
      "text/plain": [
       "34256076"
      ]
     },
     "execution_count": 22,
     "metadata": {},
     "output_type": "execute_result"
    }
   ],
   "source": [
    "n"
   ]
  },
  {
   "cell_type": "code",
   "execution_count": 23,
   "metadata": {},
   "outputs": [
    {
     "data": {
      "text/plain": [
       "<built-in method prime_divisors of sage.rings.integer.Integer object at 0x7f2dabeef030>"
      ]
     },
     "execution_count": 23,
     "metadata": {},
     "output_type": "execute_result"
    }
   ],
   "source": [
    "n.prime_factors"
   ]
  },
  {
   "cell_type": "markdown",
   "metadata": {
    "slideshow": {
     "slide_type": "slide"
    }
   },
   "source": [
    "# Nombres rationnels et *réels*"
   ]
  },
  {
   "cell_type": "code",
   "execution_count": 24,
   "metadata": {
    "slideshow": {
     "slide_type": "-"
    }
   },
   "outputs": [
    {
     "data": {
      "text/plain": [
       "(13/5, <class 'sage.rings.rational.Rational'>, Rational Field)"
      ]
     },
     "execution_count": 24,
     "metadata": {},
     "output_type": "execute_result"
    }
   ],
   "source": [
    "x = 13 / 5 # ⚡≠🐍⚡\n",
    "x, type(x), x.parent()"
   ]
  },
  {
   "cell_type": "code",
   "execution_count": 25,
   "metadata": {},
   "outputs": [
    {
     "data": {
      "text/plain": [
       "211/35"
      ]
     },
     "execution_count": 25,
     "metadata": {},
     "output_type": "execute_result"
    }
   ],
   "source": [
    "y = 24 / 7\n",
    "x + y"
   ]
  },
  {
   "cell_type": "code",
   "execution_count": 26,
   "metadata": {},
   "outputs": [
    {
     "data": {
      "text/plain": [
       "(2.60000000000000,\n",
       " <class 'sage.rings.real_mpfr.RealNumber'>,\n",
       " Real Field with 53 bits of precision)"
      ]
     },
     "execution_count": 26,
     "metadata": {},
     "output_type": "execute_result"
    }
   ],
   "source": [
    "r = 13. / 5.\n",
    "r, type(r), r.parent()"
   ]
  },
  {
   "cell_type": "code",
   "execution_count": 27,
   "metadata": {},
   "outputs": [
    {
     "data": {
      "text/plain": [
       "(187/65, 2.87692307692308)"
      ]
     },
     "execution_count": 27,
     "metadata": {},
     "output_type": "execute_result"
    }
   ],
   "source": [
    "z = (14 / 5)  + 1/13\n",
    "z, z.n()"
   ]
  },
  {
   "cell_type": "markdown",
   "metadata": {
    "slideshow": {
     "slide_type": "slide"
    }
   },
   "source": [
    "# Analyse"
   ]
  },
  {
   "cell_type": "code",
   "execution_count": 28,
   "metadata": {
    "scrolled": true
   },
   "outputs": [
    {
     "data": {
      "text/html": [
       "<html><script type=\"math/tex; mode=display\">\\newcommand{\\Bold}[1]{\\mathbf{#1}}x \\ {\\mapsto}\\ 3 \\, {\\left(\\sqrt{\\sin\\left(x\\right)} - e^{x}\\right)} \\cos\\left(x\\right)^{2}</script></html>"
      ],
      "text/latex": [
       "\\begin{math}\n",
       "\\newcommand{\\Bold}[1]{\\mathbf{#1}}x \\ {\\mapsto}\\ 3 \\, {\\left(\\sqrt{\\sin\\left(x\\right)} - e^{x}\\right)} \\cos\\left(x\\right)^{2}\n",
       "\\end{math}"
      ],
      "text/plain": [
       "x |--> 3*(sqrt(sin(x)) - e^x)*cos(x)^2"
      ]
     },
     "metadata": {},
     "output_type": "display_data"
    },
    {
     "data": {
      "text/plain": [
       "x |--> 3*(sqrt(sin(x)) - e^x)*cos(x)^2"
      ]
     },
     "execution_count": 28,
     "metadata": {},
     "output_type": "execute_result"
    }
   ],
   "source": [
    "f(x) = 3*cos(x)^2*(sqrt(sin(x)) - exp(x))\n",
    "show(f)\n",
    "f"
   ]
  },
  {
   "cell_type": "code",
   "execution_count": 29,
   "metadata": {},
   "outputs": [
    {
     "data": {
      "text/html": [
       "<html><script type=\"math/tex; mode=display\">\\newcommand{\\Bold}[1]{\\mathbf{#1}}x \\ {\\mapsto}\\ -3 \\, \\cos\\left(x\\right)^{2} e^{x} + 3 \\, \\cos\\left(x\\right)^{2} \\sqrt{\\sin\\left(x\\right)}</script></html>"
      ],
      "text/latex": [
       "\\begin{math}\n",
       "\\newcommand{\\Bold}[1]{\\mathbf{#1}}x \\ {\\mapsto}\\ -3 \\, \\cos\\left(x\\right)^{2} e^{x} + 3 \\, \\cos\\left(x\\right)^{2} \\sqrt{\\sin\\left(x\\right)}\n",
       "\\end{math}"
      ],
      "text/plain": [
       "x |--> -3*cos(x)^2*e^x + 3*cos(x)^2*sqrt(sin(x))"
      ]
     },
     "metadata": {},
     "output_type": "display_data"
    }
   ],
   "source": [
    "show(f.expand())"
   ]
  },
  {
   "cell_type": "code",
   "execution_count": 30,
   "metadata": {},
   "outputs": [
    {
     "data": {
      "text/html": [
       "<html><script type=\"math/tex; mode=display\">\\newcommand{\\Bold}[1]{\\mathbf{#1}}x \\ {\\mapsto}\\ \\frac{3}{2} \\, {\\left(\\frac{\\cos\\left(x\\right)}{\\sqrt{\\sin\\left(x\\right)}} - 2 \\, e^{x}\\right)} \\cos\\left(x\\right)^{2} - 6 \\, {\\left(\\sqrt{\\sin\\left(x\\right)} - e^{x}\\right)} \\cos\\left(x\\right) \\sin\\left(x\\right)</script></html>"
      ],
      "text/latex": [
       "\\begin{math}\n",
       "\\newcommand{\\Bold}[1]{\\mathbf{#1}}x \\ {\\mapsto}\\ \\frac{3}{2} \\, {\\left(\\frac{\\cos\\left(x\\right)}{\\sqrt{\\sin\\left(x\\right)}} - 2 \\, e^{x}\\right)} \\cos\\left(x\\right)^{2} - 6 \\, {\\left(\\sqrt{\\sin\\left(x\\right)} - e^{x}\\right)} \\cos\\left(x\\right) \\sin\\left(x\\right)\n",
       "\\end{math}"
      ],
      "text/plain": [
       "x |--> 3/2*(cos(x)/sqrt(sin(x)) - 2*e^x)*cos(x)^2 - 6*(sqrt(sin(x)) - e^x)*cos(x)*sin(x)"
      ]
     },
     "metadata": {},
     "output_type": "display_data"
    }
   ],
   "source": [
    "fd = f.derivative()\n",
    "fd.show()"
   ]
  },
  {
   "cell_type": "code",
   "execution_count": 37,
   "metadata": {},
   "outputs": [
    {
     "data": {
      "text/html": [
       "<html><script type=\"math/tex; mode=display\">\\newcommand{\\Bold}[1]{\\mathbf{#1}}x \\ {\\mapsto}\\ -\\frac{3}{10} \\, \\cos\\left(2 \\, x\\right) e^{x} - \\frac{3}{5} \\, e^{x} \\sin\\left(2 \\, x\\right) + \\frac{3}{16} \\, \\sqrt{2} \\int {\\left(\\cos\\left(x\\right)^{2} + \\sin\\left(x\\right)^{2} + 2 \\, \\cos\\left(x\\right) + 1\\right)}^{\\frac{1}{4}} {\\left(\\cos\\left(x\\right)^{2} + \\sin\\left(x\\right)^{2} - 2 \\, \\cos\\left(x\\right) + 1\\right)}^{\\frac{1}{4}} {\\left({\\left({\\left(\\sqrt{2} \\cos\\left(\\frac{5}{2} \\, x\\right) + \\sqrt{2} \\cos\\left(\\frac{3}{2} \\, x\\right) + 2 \\, \\sqrt{2} \\cos\\left(\\frac{1}{2} \\, x\\right) + \\sqrt{2} \\sin\\left(\\frac{5}{2} \\, x\\right) - \\sqrt{2} \\sin\\left(\\frac{3}{2} \\, x\\right) + 2 \\, \\sqrt{2} \\sin\\left(\\frac{1}{2} \\, x\\right)\\right)} \\cos\\left(\\frac{1}{2} \\, \\arctan\\left(\\sin\\left(x\\right), -\\cos\\left(x\\right) + 1\\right)\\right) + {\\left(\\sqrt{2} \\cos\\left(\\frac{5}{2} \\, x\\right) + \\sqrt{2} \\cos\\left(\\frac{3}{2} \\, x\\right) + 2 \\, \\sqrt{2} \\cos\\left(\\frac{1}{2} \\, x\\right) - \\sqrt{2} \\sin\\left(\\frac{5}{2} \\, x\\right) + \\sqrt{2} \\sin\\left(\\frac{3}{2} \\, x\\right) - 2 \\, \\sqrt{2} \\sin\\left(\\frac{1}{2} \\, x\\right)\\right)} \\sin\\left(\\frac{1}{2} \\, \\arctan\\left(\\sin\\left(x\\right), -\\cos\\left(x\\right) + 1\\right)\\right)\\right)} \\cos\\left(\\frac{1}{2} \\, \\arctan\\left(\\sin\\left(x\\right), \\cos\\left(x\\right) + 1\\right)\\right) - {\\left({\\left(\\sqrt{2} \\cos\\left(\\frac{5}{2} \\, x\\right) + \\sqrt{2} \\cos\\left(\\frac{3}{2} \\, x\\right) + 2 \\, \\sqrt{2} \\cos\\left(\\frac{1}{2} \\, x\\right) - \\sqrt{2} \\sin\\left(\\frac{5}{2} \\, x\\right) + \\sqrt{2} \\sin\\left(\\frac{3}{2} \\, x\\right) - 2 \\, \\sqrt{2} \\sin\\left(\\frac{1}{2} \\, x\\right)\\right)} \\cos\\left(\\frac{1}{2} \\, \\arctan\\left(\\sin\\left(x\\right), -\\cos\\left(x\\right) + 1\\right)\\right) - {\\left(\\sqrt{2} \\cos\\left(\\frac{5}{2} \\, x\\right) + \\sqrt{2} \\cos\\left(\\frac{3}{2} \\, x\\right) + 2 \\, \\sqrt{2} \\cos\\left(\\frac{1}{2} \\, x\\right) + \\sqrt{2} \\sin\\left(\\frac{5}{2} \\, x\\right) - \\sqrt{2} \\sin\\left(\\frac{3}{2} \\, x\\right) + 2 \\, \\sqrt{2} \\sin\\left(\\frac{1}{2} \\, x\\right)\\right)} \\sin\\left(\\frac{1}{2} \\, \\arctan\\left(\\sin\\left(x\\right), -\\cos\\left(x\\right) + 1\\right)\\right)\\right)} \\sin\\left(\\frac{1}{2} \\, \\arctan\\left(\\sin\\left(x\\right), \\cos\\left(x\\right) + 1\\right)\\right)\\right)}\\,{d x} - \\frac{3}{2} \\, e^{x}</script></html>"
      ],
      "text/latex": [
       "\\begin{math}\n",
       "\\newcommand{\\Bold}[1]{\\mathbf{#1}}x \\ {\\mapsto}\\ -\\frac{3}{10} \\, \\cos\\left(2 \\, x\\right) e^{x} - \\frac{3}{5} \\, e^{x} \\sin\\left(2 \\, x\\right) + \\frac{3}{16} \\, \\sqrt{2} \\int {\\left(\\cos\\left(x\\right)^{2} + \\sin\\left(x\\right)^{2} + 2 \\, \\cos\\left(x\\right) + 1\\right)}^{\\frac{1}{4}} {\\left(\\cos\\left(x\\right)^{2} + \\sin\\left(x\\right)^{2} - 2 \\, \\cos\\left(x\\right) + 1\\right)}^{\\frac{1}{4}} {\\left({\\left({\\left(\\sqrt{2} \\cos\\left(\\frac{5}{2} \\, x\\right) + \\sqrt{2} \\cos\\left(\\frac{3}{2} \\, x\\right) + 2 \\, \\sqrt{2} \\cos\\left(\\frac{1}{2} \\, x\\right) + \\sqrt{2} \\sin\\left(\\frac{5}{2} \\, x\\right) - \\sqrt{2} \\sin\\left(\\frac{3}{2} \\, x\\right) + 2 \\, \\sqrt{2} \\sin\\left(\\frac{1}{2} \\, x\\right)\\right)} \\cos\\left(\\frac{1}{2} \\, \\arctan\\left(\\sin\\left(x\\right), -\\cos\\left(x\\right) + 1\\right)\\right) + {\\left(\\sqrt{2} \\cos\\left(\\frac{5}{2} \\, x\\right) + \\sqrt{2} \\cos\\left(\\frac{3}{2} \\, x\\right) + 2 \\, \\sqrt{2} \\cos\\left(\\frac{1}{2} \\, x\\right) - \\sqrt{2} \\sin\\left(\\frac{5}{2} \\, x\\right) + \\sqrt{2} \\sin\\left(\\frac{3}{2} \\, x\\right) - 2 \\, \\sqrt{2} \\sin\\left(\\frac{1}{2} \\, x\\right)\\right)} \\sin\\left(\\frac{1}{2} \\, \\arctan\\left(\\sin\\left(x\\right), -\\cos\\left(x\\right) + 1\\right)\\right)\\right)} \\cos\\left(\\frac{1}{2} \\, \\arctan\\left(\\sin\\left(x\\right), \\cos\\left(x\\right) + 1\\right)\\right) - {\\left({\\left(\\sqrt{2} \\cos\\left(\\frac{5}{2} \\, x\\right) + \\sqrt{2} \\cos\\left(\\frac{3}{2} \\, x\\right) + 2 \\, \\sqrt{2} \\cos\\left(\\frac{1}{2} \\, x\\right) - \\sqrt{2} \\sin\\left(\\frac{5}{2} \\, x\\right) + \\sqrt{2} \\sin\\left(\\frac{3}{2} \\, x\\right) - 2 \\, \\sqrt{2} \\sin\\left(\\frac{1}{2} \\, x\\right)\\right)} \\cos\\left(\\frac{1}{2} \\, \\arctan\\left(\\sin\\left(x\\right), -\\cos\\left(x\\right) + 1\\right)\\right) - {\\left(\\sqrt{2} \\cos\\left(\\frac{5}{2} \\, x\\right) + \\sqrt{2} \\cos\\left(\\frac{3}{2} \\, x\\right) + 2 \\, \\sqrt{2} \\cos\\left(\\frac{1}{2} \\, x\\right) + \\sqrt{2} \\sin\\left(\\frac{5}{2} \\, x\\right) - \\sqrt{2} \\sin\\left(\\frac{3}{2} \\, x\\right) + 2 \\, \\sqrt{2} \\sin\\left(\\frac{1}{2} \\, x\\right)\\right)} \\sin\\left(\\frac{1}{2} \\, \\arctan\\left(\\sin\\left(x\\right), -\\cos\\left(x\\right) + 1\\right)\\right)\\right)} \\sin\\left(\\frac{1}{2} \\, \\arctan\\left(\\sin\\left(x\\right), \\cos\\left(x\\right) + 1\\right)\\right)\\right)}\\,{d x} - \\frac{3}{2} \\, e^{x}\n",
       "\\end{math}"
      ],
      "text/plain": [
       "x |--> -3/10*cos(2*x)*e^x - 3/5*e^x*sin(2*x) + 3/16*sqrt(2)*integrate((cos(x)^2 + sin(x)^2 + 2*cos(x) + 1)^(1/4)*(cos(x)^2 + sin(x)^2 - 2*cos(x) + 1)^(1/4)*(((sqrt(2)*cos(5/2*x) + sqrt(2)*cos(3/2*x) + 2*sqrt(2)*cos(1/2*x) + sqrt(2)*sin(5/2*x) - sqrt(2)*sin(3/2*x) + 2*sqrt(2)*sin(1/2*x))*cos(1/2*arctan2(sin(x), -cos(x) + 1)) + (sqrt(2)*cos(5/2*x) + sqrt(2)*cos(3/2*x) + 2*sqrt(2)*cos(1/2*x) - sqrt(2)*sin(5/2*x) + sqrt(2)*sin(3/2*x) - 2*sqrt(2)*sin(1/2*x))*sin(1/2*arctan2(sin(x), -cos(x) + 1)))*cos(1/2*arctan2(sin(x), cos(x) + 1)) - ((sqrt(2)*cos(5/2*x) + sqrt(2)*cos(3/2*x) + 2*sqrt(2)*cos(1/2*x) - sqrt(2)*sin(5/2*x) + sqrt(2)*sin(3/2*x) - 2*sqrt(2)*sin(1/2*x))*cos(1/2*arctan2(sin(x), -cos(x) + 1)) - (sqrt(2)*cos(5/2*x) + sqrt(2)*cos(3/2*x) + 2*sqrt(2)*cos(1/2*x) + sqrt(2)*sin(5/2*x) - sqrt(2)*sin(3/2*x) + 2*sqrt(2)*sin(1/2*x))*sin(1/2*arctan2(sin(x), -cos(x) + 1)))*sin(1/2*arctan2(sin(x), cos(x) + 1))), x) - 3/2*e^x"
      ]
     },
     "metadata": {},
     "output_type": "display_data"
    }
   ],
   "source": [
    "show(f.integral(x))"
   ]
  },
  {
   "cell_type": "code",
   "execution_count": 32,
   "metadata": {
    "slideshow": {
     "slide_type": "subslide"
    }
   },
   "outputs": [
    {
     "name": "stdout",
     "output_type": "stream",
     "text": [
      "verbose 0 (3835: plot.py, generate_plot_points) WARNING: When plotting, failed to evaluate function at 100 points.\n",
      "verbose 0 (3835: plot.py, generate_plot_points) Last error message: 'math domain error'\n"
     ]
    },
    {
     "data": {
      "image/png": "[encoded data removed]",
      "text/plain": [
       "Graphics object consisting of 1 graphics primitive"
      ]
     },
     "execution_count": 32,
     "metadata": {},
     "output_type": "execute_result"
    }
   ],
   "source": [
    "f.plot(x, -2, 2)"
   ]
  },
  {
   "cell_type": "code",
   "execution_count": 33,
   "metadata": {},
   "outputs": [
    {
     "data": {
      "text/plain": [
       "[x == 1/2*pi, sqrt(sin(x)) == e^x]"
      ]
     },
     "execution_count": 33,
     "metadata": {},
     "output_type": "execute_result"
    }
   ],
   "source": [
    "solve(f == 0, x)"
   ]
  },
  {
   "cell_type": "code",
   "execution_count": 34,
   "metadata": {},
   "outputs": [
    {
     "data": {
      "text/plain": [
       "(1.5707963266086649, (-3.964679893830223e-19, 1.5707963266086649))"
      ]
     },
     "execution_count": 34,
     "metadata": {},
     "output_type": "execute_result"
    }
   ],
   "source": [
    "find_root(f,0,2), find_local_maximum(f,0,2)"
   ]
  },
  {
   "cell_type": "markdown",
   "metadata": {
    "slideshow": {
     "slide_type": "slide"
    }
   },
   "source": [
    "# Combinatoire"
   ]
  },
  {
   "cell_type": "code",
   "execution_count": 35,
   "metadata": {},
   "outputs": [
    {
     "data": {
      "text/plain": [
       "1496"
      ]
     },
     "execution_count": 35,
     "metadata": {},
     "output_type": "execute_result"
    }
   ],
   "source": [
    "sum(i^2 for i in range(17)) # 🐍"
   ]
  },
  {
   "cell_type": "code",
   "execution_count": 36,
   "metadata": {},
   "outputs": [
    {
     "ename": "NameError",
     "evalue": "name 'k' is not defined",
     "output_type": "error",
     "traceback": [
      "\u001b[0;31m---------------------------------------------------------------------------\u001b[0m",
      "\u001b[0;31mNameError\u001b[0m                                 Traceback (most recent call last)",
      "\u001b[0;32m<ipython-input-36-7ccfa205c7e1>\u001b[0m in \u001b[0;36m<module>\u001b[0;34m\u001b[0m\n\u001b[0;32m----> 1\u001b[0;31m \u001b[0msum\u001b[0m\u001b[0;34m(\u001b[0m\u001b[0mk\u001b[0m\u001b[0;34m**\u001b[0m\u001b[0mInteger\u001b[0m\u001b[0;34m(\u001b[0m\u001b[0;36m2\u001b[0m\u001b[0;34m)\u001b[0m\u001b[0;34m,\u001b[0m\u001b[0mk\u001b[0m\u001b[0;34m,\u001b[0m\u001b[0mInteger\u001b[0m\u001b[0;34m(\u001b[0m\u001b[0;36m0\u001b[0m\u001b[0;34m)\u001b[0m\u001b[0;34m,\u001b[0m\u001b[0mn\u001b[0m\u001b[0;34m)\u001b[0m \u001b[0;31m# ≠🐍\u001b[0m\u001b[0;34m\u001b[0m\u001b[0;34m\u001b[0m\u001b[0m\n\u001b[0m",
      "\u001b[0;31mNameError\u001b[0m: name 'k' is not defined"
     ]
    }
   ],
   "source": [
    "sum(k^2,k,0,n) # ≠🐍"
   ]
  },
  {
   "cell_type": "code",
   "execution_count": 38,
   "metadata": {},
   "outputs": [
    {
     "data": {
      "text/plain": [
       "1/3*n^3 + 1/2*n^2 + 1/6*n"
      ]
     },
     "execution_count": 38,
     "metadata": {},
     "output_type": "execute_result"
    }
   ],
   "source": [
    "var('k n')\n",
    "sum(k^2,k,0,n)"
   ]
  },
  {
   "cell_type": "code",
   "execution_count": 39,
   "metadata": {},
   "outputs": [
    {
     "data": {
      "text/plain": [
       "1/6*(2*n + 1)*(n + 1)*n"
      ]
     },
     "execution_count": 39,
     "metadata": {},
     "output_type": "execute_result"
    }
   ],
   "source": [
    "sum(k^2,k,0,n).factor()"
   ]
  },
  {
   "cell_type": "code",
   "execution_count": 40,
   "metadata": {},
   "outputs": [
    {
     "data": {
      "text/plain": [
       "1/6*pi^2"
      ]
     },
     "execution_count": 40,
     "metadata": {},
     "output_type": "execute_result"
    }
   ],
   "source": [
    "sum(1/k^2,k,1,oo)"
   ]
  },
  {
   "cell_type": "markdown",
   "metadata": {
    "slideshow": {
     "slide_type": "slide"
    }
   },
   "source": [
    "# Graphes"
   ]
  },
  {
   "cell_type": "code",
   "execution_count": 41,
   "metadata": {},
   "outputs": [
    {
     "data": {
      "image/png": "[encoded data removed]",
      "text/plain": [
       "Graphics object consisting of 26 graphics primitives"
      ]
     },
     "metadata": {},
     "output_type": "display_data"
    }
   ],
   "source": [
    "G = graphs.PetersenGraph()\n",
    "show(G)"
   ]
  },
  {
   "cell_type": "code",
   "execution_count": 42,
   "metadata": {},
   "outputs": [
    {
     "ename": "EmptySetError",
     "evalue": "the given graph is not Hamiltonian",
     "output_type": "error",
     "traceback": [
      "\u001b[0;31m---------------------------------------------------------------------------\u001b[0m",
      "\u001b[0;31mMIPSolverException\u001b[0m                        Traceback (most recent call last)",
      "\u001b[0;32m/usr/lib/python3/dist-packages/sage/graphs/generic_graph.py\u001b[0m in \u001b[0;36mtraveling_salesman_problem\u001b[0;34m(self, use_edge_labels, maximize, solver, constraint_generation, verbose, verbose_constraints)\u001b[0m\n\u001b[1;32m   8104\u001b[0m                     \u001b[0;32mtry\u001b[0m\u001b[0;34m:\u001b[0m\u001b[0;34m\u001b[0m\u001b[0;34m\u001b[0m\u001b[0m\n\u001b[0;32m-> 8105\u001b[0;31m                         \u001b[0mp\u001b[0m\u001b[0;34m.\u001b[0m\u001b[0msolve\u001b[0m\u001b[0;34m(\u001b[0m\u001b[0mlog\u001b[0m\u001b[0;34m=\u001b[0m\u001b[0mverbose\u001b[0m\u001b[0;34m)\u001b[0m\u001b[0;34m\u001b[0m\u001b[0;34m\u001b[0m\u001b[0m\n\u001b[0m\u001b[1;32m   8106\u001b[0m                     \u001b[0;32mexcept\u001b[0m \u001b[0mMIPSolverException\u001b[0m\u001b[0;34m:\u001b[0m\u001b[0;34m\u001b[0m\u001b[0;34m\u001b[0m\u001b[0m\n",
      "\u001b[0;32m/usr/lib/python3/dist-packages/sage/numerical/mip.pyx\u001b[0m in \u001b[0;36msage.numerical.mip.MixedIntegerLinearProgram.solve (build/cythonized/sage/numerical/mip.c:15620)\u001b[0;34m()\u001b[0m\n\u001b[1;32m   2250\u001b[0m         \u001b[0;32mif\u001b[0m \u001b[0mlog\u001b[0m \u001b[0;32mis\u001b[0m \u001b[0;32mnot\u001b[0m \u001b[0;32mNone\u001b[0m\u001b[0;34m:\u001b[0m \u001b[0mself\u001b[0m\u001b[0;34m.\u001b[0m\u001b[0m_backend\u001b[0m\u001b[0;34m.\u001b[0m\u001b[0mset_verbosity\u001b[0m\u001b[0;34m(\u001b[0m\u001b[0mlog\u001b[0m\u001b[0;34m)\u001b[0m\u001b[0;34m\u001b[0m\u001b[0;34m\u001b[0m\u001b[0m\n\u001b[0;32m-> 2251\u001b[0;31m         \u001b[0mself\u001b[0m\u001b[0;34m.\u001b[0m\u001b[0m_backend\u001b[0m\u001b[0;34m.\u001b[0m\u001b[0msolve\u001b[0m\u001b[0;34m(\u001b[0m\u001b[0;34m)\u001b[0m\u001b[0;34m\u001b[0m\u001b[0;34m\u001b[0m\u001b[0m\n\u001b[0m\u001b[1;32m   2252\u001b[0m         \u001b[0;32mreturn\u001b[0m \u001b[0mself\u001b[0m\u001b[0;34m.\u001b[0m\u001b[0m_backend\u001b[0m\u001b[0;34m.\u001b[0m\u001b[0mget_objective_value\u001b[0m\u001b[0;34m(\u001b[0m\u001b[0;34m)\u001b[0m\u001b[0;34m\u001b[0m\u001b[0;34m\u001b[0m\u001b[0m\n",
      "\u001b[0;32m/usr/lib/python3/dist-packages/sage/numerical/backends/glpk_backend.pyx\u001b[0m in \u001b[0;36msage.numerical.backends.glpk_backend.GLPKBackend.solve (build/cythonized/sage/numerical/backends/glpk_backend.c:10219)\u001b[0;34m()\u001b[0m\n\u001b[1;32m   1151\u001b[0m         \u001b[0;32melse\u001b[0m\u001b[0;34m:\u001b[0m\u001b[0;34m\u001b[0m\u001b[0;34m\u001b[0m\u001b[0m\n\u001b[0;32m-> 1152\u001b[0;31m             \u001b[0;32mraise\u001b[0m \u001b[0mMIPSolverException\u001b[0m\u001b[0;34m(\u001b[0m\u001b[0;34m\"GLPK: \"\u001b[0m\u001b[0;34m+\u001b[0m\u001b[0msolution_status_msg\u001b[0m\u001b[0;34m.\u001b[0m\u001b[0mget\u001b[0m\u001b[0;34m(\u001b[0m\u001b[0msolution_status\u001b[0m\u001b[0;34m,\u001b[0m \u001b[0;34m\"unknown error during call to GLPK : \"\u001b[0m\u001b[0;34m+\u001b[0m\u001b[0mstr\u001b[0m\u001b[0;34m(\u001b[0m\u001b[0msolution_status\u001b[0m\u001b[0;34m)\u001b[0m\u001b[0;34m)\u001b[0m\u001b[0;34m)\u001b[0m\u001b[0;34m\u001b[0m\u001b[0;34m\u001b[0m\u001b[0m\n\u001b[0m\u001b[1;32m   1153\u001b[0m         \u001b[0;32mreturn\u001b[0m \u001b[0;36m0\u001b[0m\u001b[0;34m\u001b[0m\u001b[0;34m\u001b[0m\u001b[0m\n",
      "\u001b[0;31mMIPSolverException\u001b[0m: GLPK: Problem has no feasible solution",
      "\nDuring handling of the above exception, another exception occurred:\n",
      "\u001b[0;31mEmptySetError\u001b[0m                             Traceback (most recent call last)",
      "\u001b[0;32m<ipython-input-42-a4c3a925a0bc>\u001b[0m in \u001b[0;36m<module>\u001b[0;34m\u001b[0m\n\u001b[0;32m----> 1\u001b[0;31m \u001b[0mG\u001b[0m\u001b[0;34m.\u001b[0m\u001b[0mhamiltonian_cycle\u001b[0m\u001b[0;34m(\u001b[0m\u001b[0;34m)\u001b[0m\u001b[0;34m\u001b[0m\u001b[0;34m\u001b[0m\u001b[0m\n\u001b[0m",
      "\u001b[0;32m/usr/lib/python3/dist-packages/sage/graphs/generic_graph.py\u001b[0m in \u001b[0;36mhamiltonian_cycle\u001b[0;34m(self, algorithm, solver, constraint_generation, verbose, verbose_constraints)\u001b[0m\n\u001b[1;32m   8310\u001b[0m             \u001b[0;32mfrom\u001b[0m \u001b[0msage\u001b[0m\u001b[0;34m.\u001b[0m\u001b[0mnumerical\u001b[0m\u001b[0;34m.\u001b[0m\u001b[0mmip\u001b[0m \u001b[0;32mimport\u001b[0m \u001b[0mMIPSolverException\u001b[0m\u001b[0;34m\u001b[0m\u001b[0;34m\u001b[0m\u001b[0m\n\u001b[1;32m   8311\u001b[0m             \u001b[0;32mtry\u001b[0m\u001b[0;34m:\u001b[0m\u001b[0;34m\u001b[0m\u001b[0;34m\u001b[0m\u001b[0m\n\u001b[0;32m-> 8312\u001b[0;31m                 return self.traveling_salesman_problem(use_edge_labels=False, solver=solver,\n\u001b[0m\u001b[1;32m   8313\u001b[0m                                                        \u001b[0mconstraint_generation\u001b[0m\u001b[0;34m=\u001b[0m\u001b[0mconstraint_generation\u001b[0m\u001b[0;34m,\u001b[0m\u001b[0;34m\u001b[0m\u001b[0;34m\u001b[0m\u001b[0m\n\u001b[1;32m   8314\u001b[0m                                                        verbose=verbose, verbose_constraints=verbose_constraints)\n",
      "\u001b[0;32m/usr/lib/python3/dist-packages/sage/graphs/generic_graph.py\u001b[0m in \u001b[0;36mtraveling_salesman_problem\u001b[0;34m(self, use_edge_labels, maximize, solver, constraint_generation, verbose, verbose_constraints)\u001b[0m\n\u001b[1;32m   8105\u001b[0m                         \u001b[0mp\u001b[0m\u001b[0;34m.\u001b[0m\u001b[0msolve\u001b[0m\u001b[0;34m(\u001b[0m\u001b[0mlog\u001b[0m\u001b[0;34m=\u001b[0m\u001b[0mverbose\u001b[0m\u001b[0;34m)\u001b[0m\u001b[0;34m\u001b[0m\u001b[0;34m\u001b[0m\u001b[0m\n\u001b[1;32m   8106\u001b[0m                     \u001b[0;32mexcept\u001b[0m \u001b[0mMIPSolverException\u001b[0m\u001b[0;34m:\u001b[0m\u001b[0;34m\u001b[0m\u001b[0;34m\u001b[0m\u001b[0m\n\u001b[0;32m-> 8107\u001b[0;31m                         \u001b[0;32mraise\u001b[0m \u001b[0mEmptySetError\u001b[0m\u001b[0;34m(\u001b[0m\u001b[0;34m\"the given graph is not Hamiltonian\"\u001b[0m\u001b[0;34m)\u001b[0m\u001b[0;34m\u001b[0m\u001b[0;34m\u001b[0m\u001b[0m\n\u001b[0m\u001b[1;32m   8108\u001b[0m \u001b[0;34m\u001b[0m\u001b[0m\n\u001b[1;32m   8109\u001b[0m             \u001b[0;31m# We can now return the TSP !\u001b[0m\u001b[0;34m\u001b[0m\u001b[0;34m\u001b[0m\u001b[0;34m\u001b[0m\u001b[0m\n",
      "\u001b[0;31mEmptySetError\u001b[0m: the given graph is not Hamiltonian"
     ]
    }
   ],
   "source": [
    "G.hamiltonian_cycle()"
   ]
  },
  {
   "cell_type": "code",
   "execution_count": 43,
   "metadata": {
    "slideshow": {
     "slide_type": "fragment"
    }
   },
   "outputs": [
    {
     "data": {
      "text/plain": [
       "[[0, 2, 6], [1, 3, 5, 9], [4, 7, 8]]"
      ]
     },
     "execution_count": 43,
     "metadata": {},
     "output_type": "execute_result"
    }
   ],
   "source": [
    "G.coloring()"
   ]
  },
  {
   "cell_type": "markdown",
   "metadata": {
    "slideshow": {
     "slide_type": "slide"
    }
   },
   "source": [
    "# Algèbre"
   ]
  },
  {
   "cell_type": "code",
   "execution_count": 44,
   "metadata": {},
   "outputs": [
    {
     "data": {
      "text/html": [
       "<html><script type=\"math/tex; mode=display\">\\newcommand{\\Bold}[1]{\\mathbf{#1}}3 x^{5} + \\frac{165}{226} x^{4} + \\frac{1560}{791} x^{3} - \\frac{141}{113} x^{2} + \\frac{231}{226} x - \\frac{174}{791}</script></html>"
      ],
      "text/latex": [
       "\\begin{math}\n",
       "\\newcommand{\\Bold}[1]{\\mathbf{#1}}3 x^{5} + \\frac{165}{226} x^{4} + \\frac{1560}{791} x^{3} - \\frac{141}{113} x^{2} + \\frac{231}{226} x - \\frac{174}{791}\n",
       "\\end{math}"
      ],
      "text/plain": [
       "3*x^5 + 165/226*x^4 + 1560/791*x^3 - 141/113*x^2 + 231/226*x - 174/791"
      ]
     },
     "metadata": {},
     "output_type": "display_data"
    }
   ],
   "source": [
    "R.<x> = QQ[] # erreur de syntaxe en 🐍\n",
    "P = 3*x^5 + 165/226*x^4 + 1560/791*x^3 - 141/113*x^2 + 231/226*x - 174/791\n",
    "show(P)"
   ]
  },
  {
   "cell_type": "code",
   "execution_count": 45,
   "metadata": {},
   "outputs": [
    {
     "data": {
      "text/plain": [
       "[(29/113, 1)]"
      ]
     },
     "execution_count": 45,
     "metadata": {},
     "output_type": "execute_result"
    }
   ],
   "source": [
    "P.roots()"
   ]
  },
  {
   "cell_type": "code",
   "execution_count": 46,
   "metadata": {},
   "outputs": [
    {
     "data": {
      "text/plain": [
       "[(0.256637168141593, 1),\n",
       " (-0.500000000000000 - 0.866025403784439*I, 1),\n",
       " (-0.500000000000000 + 0.866025403784439*I, 1),\n",
       " (0.250000000000000 - 0.472455591261534*I, 1),\n",
       " (0.250000000000000 + 0.472455591261534*I, 1)]"
      ]
     },
     "execution_count": 46,
     "metadata": {},
     "output_type": "execute_result"
    }
   ],
   "source": [
    "P.roots(CC)"
   ]
  },
  {
   "cell_type": "code",
   "execution_count": 47,
   "metadata": {},
   "outputs": [
    {
     "data": {
      "text/plain": [
       "[(-5/28*I*sqrt(7) + 1/4, 1),\n",
       " (5/28*I*sqrt(7) + 1/4, 1),\n",
       " (29/113, 1),\n",
       " (-1/2*I*sqrt(3) - 1/2, 1),\n",
       " (1/2*I*sqrt(3) - 1/2, 1)]"
      ]
     },
     "execution_count": 47,
     "metadata": {},
     "output_type": "execute_result"
    }
   ],
   "source": [
    "P.roots(SR)"
   ]
  },
  {
   "cell_type": "code",
   "execution_count": 48,
   "metadata": {},
   "outputs": [
    {
     "data": {
      "text/plain": [
       "(3) * (x - 29/113) * (x^2 - 1/2*x + 2/7) * (x^2 + x + 1)"
      ]
     },
     "execution_count": 48,
     "metadata": {},
     "output_type": "execute_result"
    }
   ],
   "source": [
    "P.factor()"
   ]
  },
  {
   "cell_type": "code",
   "execution_count": 49,
   "metadata": {
    "slideshow": {
     "slide_type": "subslide"
    }
   },
   "outputs": [
    {
     "data": {
      "text/plain": [
       "[ 4  5  6]\n",
       "[12  1  3]\n",
       "[ 1  1  0]"
      ]
     },
     "execution_count": 49,
     "metadata": {},
     "output_type": "execute_result"
    }
   ],
   "source": [
    "M = matrix(ZZ,[[4,5,6],[12,1,3],[1,1,0]])\n",
    "M"
   ]
  },
  {
   "cell_type": "code",
   "execution_count": 50,
   "metadata": {},
   "outputs": [
    {
     "data": {
      "text/plain": [
       "69"
      ]
     },
     "execution_count": 50,
     "metadata": {},
     "output_type": "execute_result"
    }
   ],
   "source": [
    "M.det()"
   ]
  },
  {
   "cell_type": "code",
   "execution_count": 51,
   "metadata": {},
   "outputs": [
    {
     "data": {
      "text/plain": [
       "[ -1/23   2/23   3/23]\n",
       "[  1/23  -2/23  20/23]\n",
       "[ 11/69   1/69 -56/69]"
      ]
     },
     "execution_count": 51,
     "metadata": {},
     "output_type": "execute_result"
    }
   ],
   "source": [
    "Minv = M.inverse()\n",
    "Minv"
   ]
  },
  {
   "cell_type": "code",
   "execution_count": 52,
   "metadata": {},
   "outputs": [
    {
     "data": {
      "text/plain": [
       "[1 0 0]\n",
       "[0 1 0]\n",
       "[0 0 1]"
      ]
     },
     "execution_count": 52,
     "metadata": {},
     "output_type": "execute_result"
    }
   ],
   "source": [
    "Minv*M"
   ]
  }
 ],
 "metadata": {
  "celltoolbar": "Diaporama",
  "kernelspec": {
   "display_name": "SageMath 9.2",
   "language": "sage",
   "name": "sagemath"
  },
  "language_info": {
   "codemirror_mode": {
    "name": "ipython",
    "version": 3
   },
   "file_extension": ".py",
   "mimetype": "text/x-python",
   "name": "python",
   "nbconvert_exporter": "python",
   "pygments_lexer": "ipython3",
   "version": "3.9.5"
  },
  "toc": {
   "base_numbering": 1,
   "nav_menu": {},
   "number_sections": true,
   "sideBar": true,
   "skip_h1_title": true,
   "title_cell": "Table of Contents",
   "title_sidebar": "Contents",
   "toc_cell": false,
   "toc_position": {},
   "toc_section_display": "block",
   "toc_window_display": false
  }
 },
 "nbformat": 4,
 "nbformat_minor": 4
}
