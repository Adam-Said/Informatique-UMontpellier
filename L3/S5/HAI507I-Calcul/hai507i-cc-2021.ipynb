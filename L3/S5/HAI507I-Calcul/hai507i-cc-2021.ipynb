{
 "cells": [
  {
   "cell_type": "markdown",
   "metadata": {
    "deletable": false,
    "editable": false,
    "run_control": {
     "frozen": true
    }
   },
   "source": [
    "# HAI507I Calcul formel et scientifique\n",
    "# Contrôle continu - mercredi 1er décembre 2021\n",
    "\n",
    "Ce sujet est constitué de deux exercices indépendants. Il est noté sur 20 points. La durée est d'1h30.\n",
    "\n",
    "Merci de rentrer vos nom et prénom ci-dessous :"
   ]
  },
  {
   "cell_type": "code",
   "execution_count": null,
   "metadata": {},
   "outputs": [],
   "source": [
    "# Nom : SAID\n",
    "# Prénom : Adam"
   ]
  },
  {
   "cell_type": "code",
   "execution_count": null,
   "metadata": {
    "deletable": false,
    "editable": false,
    "run_control": {
     "frozen": true
    }
   },
   "outputs": [],
   "source": [
    "# Note : "
   ]
  },
  {
   "cell_type": "markdown",
   "metadata": {
    "deletable": false,
    "editable": false,
    "run_control": {
     "frozen": true
    }
   },
   "source": [
    "## Suites récurrentes sur un corps fini\n",
    "\n",
    "$\\newcommand{\\ZpZ}{\\mathbb Z/2\\mathbb Z}$\n",
    "On considère dans cet exercice des *suites récurrentes binaires*, c'est-à-dire des suites $(u_n)_{n≥0}$ d'éléments de $\\ZpZ$, définies par $k$ valeurs $u_0$, …, $u_{k-1}\\in\\ZpZ$ et la récurrence\n",
    "$$ u_{n+k} = \\alpha_0u_n + \\alpha_1 u_{n+1} + \\dotsb + \\alpha_{k-1} u_{n+k-1} \\tag{1}$$\n",
    "où $\\alpha_0$, …, $\\alpha_{k-1}\\in\\ZpZ$. Ces suites jouent un rôle majeur en cryptographie.\n",
    "\n",
    "**Exécuter la cellule suivante avant de commencer. Dans toute la suite, on pourra définir un élément de $\\ZpZ$ avec `Z2(0)` ou `Z2(1)`. Attention, il ne faut pas redéfinir la variable X.**"
   ]
  },
  {
   "cell_type": "code",
   "execution_count": 34,
   "metadata": {
    "deletable": false,
    "editable": false,
    "tags": [
     "sujet"
    ]
   },
   "outputs": [],
   "source": [
    "Z2 = GF(2)\n",
    "R.<X> = Z2[]"
   ]
  },
  {
   "cell_type": "markdown",
   "metadata": {
    "deletable": false,
    "editable": false,
    "run_control": {
     "frozen": true
    }
   },
   "source": [
    "### Question"
   ]
  },
  {
   "cell_type": "markdown",
   "metadata": {
    "deletable": false,
    "editable": false,
    "run_control": {
     "frozen": true
    }
   },
   "source": [
    "1. Écrire une fonction `liste(N, U, A)` qui prend en entrée un entier $N$, et deux listes $U = [u_0,…,u_{k-1}]$ et $A = [\\alpha_0, …, \\alpha_{k-1}]$ et renvoie la liste des $N$ premiers termes de la suite $(u_n)$ définie par la récurrence (1).\n",
    "\n",
    "1. On définit une suite $(v_n)_n$ par $v_0 = v_1 = v_2 = 1$ et $v_{n+3} = v_{n+2}+v_n$. Définir les listes `Uv` et `Av` correspondant à la suite $(v_n)_n$ et calculer `V1000 = liste(1000, Uv, Av)`. *Attention, `Uv` et `Av` doivent contenir des éléments de $\\ZpZ$.*"
   ]
  },
  {
   "cell_type": "code",
<<<<<<< HEAD
   "execution_count": 102,
=======
   "execution_count": 55,
>>>>>>> f21ae82b26bd2b3a18b9553564cce010c11d124d
   "metadata": {
    "code_folding": []
   },
   "outputs": [],
   "source": [
    "# Réponse 1.\n",
    "\n",
    "def liste(N, U, A) :\n",
    "    if len(U) != len(A):\n",
    "        print(\"N doit être inférieur au nombre de coef\")\n",
    "    else :\n",
    "        result = [i for i in U]\n",
    "        cpt = len(U)\n",
    "        suiv = 0\n",
<<<<<<< HEAD
    "        while cpt < N:\n",
=======
    "        while cpt <= N:\n",
>>>>>>> f21ae82b26bd2b3a18b9553564cce010c11d124d
    "            suiv += U[i]*A[i]\n",
    "            U.pop(0)\n",
    "            U.append(suiv)\n",
    "            result.append(suiv)\n",
    "            cpt += 1\n",
<<<<<<< HEAD
    "        return result\n"
=======
    "        return result\n",
    "    \n",
    "    \n",
    "        def liste(n, U, A):   \n",
    "\n"
>>>>>>> f21ae82b26bd2b3a18b9553564cce010c11d124d
   ]
  },
  {
   "cell_type": "code",
<<<<<<< HEAD
   "execution_count": 103,
   "metadata": {},
   "outputs": [
    {
     "ename": "TypeError",
     "evalue": "Unable to coerce I to an integer",
     "output_type": "error",
     "traceback": [
      "\u001b[0;31m---------------------------------------------------------------------------\u001b[0m",
      "\u001b[0;31mTypeError\u001b[0m                                 Traceback (most recent call last)",
      "\u001b[0;32m<ipython-input-103-9a9bc58f605d>\u001b[0m in \u001b[0;36m<module>\u001b[0;34m\u001b[0m\n\u001b[1;32m      2\u001b[0m \u001b[0mUv\u001b[0m \u001b[0;34m=\u001b[0m \u001b[0;34m[\u001b[0m\u001b[0mInteger\u001b[0m\u001b[0;34m(\u001b[0m\u001b[0;36m1\u001b[0m\u001b[0;34m)\u001b[0m\u001b[0;34m,\u001b[0m\u001b[0mInteger\u001b[0m\u001b[0;34m(\u001b[0m\u001b[0;36m1\u001b[0m\u001b[0;34m)\u001b[0m\u001b[0;34m,\u001b[0m\u001b[0mInteger\u001b[0m\u001b[0;34m(\u001b[0m\u001b[0;36m1\u001b[0m\u001b[0;34m)\u001b[0m\u001b[0;34m]\u001b[0m\u001b[0;34m\u001b[0m\u001b[0;34m\u001b[0m\u001b[0m\n\u001b[1;32m      3\u001b[0m \u001b[0mAv\u001b[0m \u001b[0;34m=\u001b[0m \u001b[0;34m[\u001b[0m\u001b[0mInteger\u001b[0m\u001b[0;34m(\u001b[0m\u001b[0;36m1\u001b[0m\u001b[0;34m)\u001b[0m\u001b[0;34m,\u001b[0m\u001b[0mInteger\u001b[0m\u001b[0;34m(\u001b[0m\u001b[0;36m0\u001b[0m\u001b[0;34m)\u001b[0m\u001b[0;34m,\u001b[0m\u001b[0mInteger\u001b[0m\u001b[0;34m(\u001b[0m\u001b[0;36m1\u001b[0m\u001b[0;34m)\u001b[0m\u001b[0;34m]\u001b[0m\u001b[0;34m\u001b[0m\u001b[0;34m\u001b[0m\u001b[0m\n\u001b[0;32m----> 4\u001b[0;31m \u001b[0mV1000\u001b[0m \u001b[0;34m=\u001b[0m \u001b[0mliste\u001b[0m\u001b[0;34m(\u001b[0m\u001b[0mInteger\u001b[0m\u001b[0;34m(\u001b[0m\u001b[0;36m1000\u001b[0m\u001b[0;34m)\u001b[0m\u001b[0;34m,\u001b[0m\u001b[0mUv\u001b[0m\u001b[0;34m,\u001b[0m\u001b[0mAv\u001b[0m\u001b[0;34m)\u001b[0m\u001b[0;34m\u001b[0m\u001b[0;34m\u001b[0m\u001b[0m\n\u001b[0m\u001b[1;32m      5\u001b[0m \u001b[0mshow\u001b[0m\u001b[0;34m(\u001b[0m\u001b[0mV1000\u001b[0m\u001b[0;34m)\u001b[0m\u001b[0;34m\u001b[0m\u001b[0;34m\u001b[0m\u001b[0m\n",
      "\u001b[0;32m<ipython-input-102-b7f67ca3e8ea>\u001b[0m in \u001b[0;36mliste\u001b[0;34m(N, U, A)\u001b[0m\n\u001b[1;32m      9\u001b[0m         \u001b[0msuiv\u001b[0m \u001b[0;34m=\u001b[0m \u001b[0mInteger\u001b[0m\u001b[0;34m(\u001b[0m\u001b[0;36m0\u001b[0m\u001b[0;34m)\u001b[0m\u001b[0;34m\u001b[0m\u001b[0;34m\u001b[0m\u001b[0m\n\u001b[1;32m     10\u001b[0m         \u001b[0;32mwhile\u001b[0m \u001b[0mcpt\u001b[0m \u001b[0;34m<\u001b[0m \u001b[0mN\u001b[0m\u001b[0;34m:\u001b[0m\u001b[0;34m\u001b[0m\u001b[0;34m\u001b[0m\u001b[0m\n\u001b[0;32m---> 11\u001b[0;31m             \u001b[0msuiv\u001b[0m \u001b[0;34m+=\u001b[0m \u001b[0mU\u001b[0m\u001b[0;34m[\u001b[0m\u001b[0mi\u001b[0m\u001b[0;34m]\u001b[0m\u001b[0;34m*\u001b[0m\u001b[0mA\u001b[0m\u001b[0;34m[\u001b[0m\u001b[0mi\u001b[0m\u001b[0;34m]\u001b[0m\u001b[0;34m\u001b[0m\u001b[0;34m\u001b[0m\u001b[0m\n\u001b[0m\u001b[1;32m     12\u001b[0m             \u001b[0mU\u001b[0m\u001b[0;34m.\u001b[0m\u001b[0mpop\u001b[0m\u001b[0;34m(\u001b[0m\u001b[0mInteger\u001b[0m\u001b[0;34m(\u001b[0m\u001b[0;36m0\u001b[0m\u001b[0;34m)\u001b[0m\u001b[0;34m)\u001b[0m\u001b[0;34m\u001b[0m\u001b[0;34m\u001b[0m\u001b[0m\n\u001b[1;32m     13\u001b[0m             \u001b[0mU\u001b[0m\u001b[0;34m.\u001b[0m\u001b[0mappend\u001b[0m\u001b[0;34m(\u001b[0m\u001b[0msuiv\u001b[0m\u001b[0;34m)\u001b[0m\u001b[0;34m\u001b[0m\u001b[0;34m\u001b[0m\u001b[0m\n",
      "\u001b[0;32m/usr/lib/python3/dist-packages/sage/symbolic/expression.pyx\u001b[0m in \u001b[0;36msage.symbolic.expression.Expression.__index__ (build/cythonized/sage/symbolic/expression.cpp:33469)\u001b[0;34m()\u001b[0m\n\u001b[1;32m   5798\u001b[0m             \u001b[0;34m[\u001b[0m\u001b[0;36m0\u001b[0m\u001b[0;34m,\u001b[0m \u001b[0;36m1\u001b[0m\u001b[0;34m,\u001b[0m \u001b[0;36m2\u001b[0m\u001b[0;34m,\u001b[0m \u001b[0;36m3\u001b[0m\u001b[0;34m,\u001b[0m \u001b[0;36m4\u001b[0m\u001b[0;34m]\u001b[0m\u001b[0;34m\u001b[0m\u001b[0;34m\u001b[0m\u001b[0m\n\u001b[1;32m   5799\u001b[0m         \"\"\"\n\u001b[0;32m-> 5800\u001b[0;31m         \u001b[0;32mreturn\u001b[0m \u001b[0mint\u001b[0m\u001b[0;34m(\u001b[0m\u001b[0mself\u001b[0m\u001b[0;34m.\u001b[0m\u001b[0m_integer_\u001b[0m\u001b[0;34m(\u001b[0m\u001b[0;34m)\u001b[0m\u001b[0;34m)\u001b[0m\u001b[0;34m\u001b[0m\u001b[0;34m\u001b[0m\u001b[0m\n\u001b[0m\u001b[1;32m   5801\u001b[0m \u001b[0;34m\u001b[0m\u001b[0m\n\u001b[1;32m   5802\u001b[0m     \u001b[0;32mdef\u001b[0m \u001b[0miterator\u001b[0m\u001b[0;34m(\u001b[0m\u001b[0mself\u001b[0m\u001b[0;34m)\u001b[0m\u001b[0;34m:\u001b[0m\u001b[0;34m\u001b[0m\u001b[0;34m\u001b[0m\u001b[0m\n",
      "\u001b[0;32m/usr/lib/python3/dist-packages/sage/symbolic/expression.pyx\u001b[0m in \u001b[0;36msage.symbolic.expression.Expression._integer_ (build/cythonized/sage/symbolic/expression.cpp:8776)\u001b[0;34m()\u001b[0m\n\u001b[1;32m   1102\u001b[0m         \u001b[0;32mif\u001b[0m \u001b[0misinstance\u001b[0m\u001b[0;34m(\u001b[0m\u001b[0mn\u001b[0m\u001b[0;34m,\u001b[0m \u001b[0msage\u001b[0m\u001b[0;34m.\u001b[0m\u001b[0mrings\u001b[0m\u001b[0;34m.\u001b[0m\u001b[0minteger\u001b[0m\u001b[0;34m.\u001b[0m\u001b[0mInteger\u001b[0m\u001b[0;34m)\u001b[0m\u001b[0;34m:\u001b[0m\u001b[0;34m\u001b[0m\u001b[0;34m\u001b[0m\u001b[0m\n\u001b[1;32m   1103\u001b[0m             \u001b[0;32mreturn\u001b[0m \u001b[0mn\u001b[0m\u001b[0;34m\u001b[0m\u001b[0;34m\u001b[0m\u001b[0m\n\u001b[0;32m-> 1104\u001b[0;31m         \u001b[0;32mreturn\u001b[0m \u001b[0msage\u001b[0m\u001b[0;34m.\u001b[0m\u001b[0mrings\u001b[0m\u001b[0;34m.\u001b[0m\u001b[0minteger\u001b[0m\u001b[0;34m.\u001b[0m\u001b[0mInteger\u001b[0m\u001b[0;34m(\u001b[0m\u001b[0mn\u001b[0m\u001b[0;34m)\u001b[0m\u001b[0;34m\u001b[0m\u001b[0;34m\u001b[0m\u001b[0m\n\u001b[0m\u001b[1;32m   1105\u001b[0m \u001b[0;34m\u001b[0m\u001b[0m\n\u001b[1;32m   1106\u001b[0m     \u001b[0;32mdef\u001b[0m \u001b[0m__int__\u001b[0m\u001b[0;34m(\u001b[0m\u001b[0mself\u001b[0m\u001b[0;34m)\u001b[0m\u001b[0;34m:\u001b[0m\u001b[0;34m\u001b[0m\u001b[0;34m\u001b[0m\u001b[0m\n",
      "\u001b[0;32m/usr/lib/python3/dist-packages/sage/rings/integer.pyx\u001b[0m in \u001b[0;36msage.rings.integer.Integer.__init__ (build/cythonized/sage/rings/integer.c:6171)\u001b[0;34m()\u001b[0m\n\u001b[1;32m    690\u001b[0m                 \u001b[0motmp\u001b[0m \u001b[0;34m=\u001b[0m \u001b[0mgetattr\u001b[0m\u001b[0;34m(\u001b[0m\u001b[0mx\u001b[0m\u001b[0;34m,\u001b[0m \u001b[0;34m\"_integer_\"\u001b[0m\u001b[0;34m,\u001b[0m \u001b[0;32mNone\u001b[0m\u001b[0;34m)\u001b[0m\u001b[0;34m\u001b[0m\u001b[0;34m\u001b[0m\u001b[0m\n\u001b[1;32m    691\u001b[0m                 \u001b[0;32mif\u001b[0m \u001b[0motmp\u001b[0m \u001b[0;32mis\u001b[0m \u001b[0;32mnot\u001b[0m \u001b[0;32mNone\u001b[0m\u001b[0;34m:\u001b[0m\u001b[0;34m\u001b[0m\u001b[0;34m\u001b[0m\u001b[0m\n\u001b[0;32m--> 692\u001b[0;31m                     \u001b[0mset_from_Integer\u001b[0m\u001b[0;34m(\u001b[0m\u001b[0mself\u001b[0m\u001b[0;34m,\u001b[0m \u001b[0motmp\u001b[0m\u001b[0;34m(\u001b[0m\u001b[0mthe_integer_ring\u001b[0m\u001b[0;34m)\u001b[0m\u001b[0;34m)\u001b[0m\u001b[0;34m\u001b[0m\u001b[0;34m\u001b[0m\u001b[0m\n\u001b[0m\u001b[1;32m    693\u001b[0m                     \u001b[0;32mreturn\u001b[0m\u001b[0;34m\u001b[0m\u001b[0;34m\u001b[0m\u001b[0m\n\u001b[1;32m    694\u001b[0m \u001b[0;34m\u001b[0m\u001b[0m\n",
      "\u001b[0;32m/usr/lib/python3/dist-packages/sage/rings/number_field/number_field_element_quadratic.pyx\u001b[0m in \u001b[0;36msage.rings.number_field.number_field_element_quadratic.NumberFieldElement_quadratic._integer_ (build/cythonized/sage/rings/number_field/number_field_element_quadratic.cpp:14651)\u001b[0;34m()\u001b[0m\n\u001b[1;32m   1638\u001b[0m         \u001b[0mcdef\u001b[0m \u001b[0mInteger\u001b[0m \u001b[0mres\u001b[0m\u001b[0;34m\u001b[0m\u001b[0;34m\u001b[0m\u001b[0m\n\u001b[1;32m   1639\u001b[0m         \u001b[0;32mif\u001b[0m \u001b[0mmpz_cmp_ui\u001b[0m\u001b[0;34m(\u001b[0m\u001b[0mself\u001b[0m\u001b[0;34m.\u001b[0m\u001b[0mb\u001b[0m\u001b[0;34m,\u001b[0m \u001b[0;36m0\u001b[0m\u001b[0;34m)\u001b[0m \u001b[0;34m!=\u001b[0m \u001b[0;36m0\u001b[0m \u001b[0;32mor\u001b[0m \u001b[0mmpz_cmp_ui\u001b[0m\u001b[0;34m(\u001b[0m\u001b[0mself\u001b[0m\u001b[0;34m.\u001b[0m\u001b[0mdenom\u001b[0m\u001b[0;34m,\u001b[0m \u001b[0;36m1\u001b[0m\u001b[0;34m)\u001b[0m \u001b[0;34m!=\u001b[0m \u001b[0;36m0\u001b[0m\u001b[0;34m:\u001b[0m\u001b[0;34m\u001b[0m\u001b[0;34m\u001b[0m\u001b[0m\n\u001b[0;32m-> 1640\u001b[0;31m             \u001b[0;32mraise\u001b[0m \u001b[0mTypeError\u001b[0m\u001b[0;34m(\u001b[0m\u001b[0;34m\"Unable to coerce %s to an integer\"\u001b[0m \u001b[0;34m%\u001b[0m \u001b[0mself\u001b[0m\u001b[0;34m)\u001b[0m\u001b[0;34m\u001b[0m\u001b[0;34m\u001b[0m\u001b[0m\n\u001b[0m\u001b[1;32m   1641\u001b[0m         \u001b[0;32melse\u001b[0m\u001b[0;34m:\u001b[0m\u001b[0;34m\u001b[0m\u001b[0;34m\u001b[0m\u001b[0m\n\u001b[1;32m   1642\u001b[0m             \u001b[0mres\u001b[0m \u001b[0;34m=\u001b[0m \u001b[0mInteger\u001b[0m\u001b[0;34m.\u001b[0m\u001b[0m__new__\u001b[0m\u001b[0;34m(\u001b[0m\u001b[0mInteger\u001b[0m\u001b[0;34m)\u001b[0m\u001b[0;34m\u001b[0m\u001b[0;34m\u001b[0m\u001b[0m\n",
      "\u001b[0;31mTypeError\u001b[0m: Unable to coerce I to an integer"
     ]
=======
   "execution_count": 59,
   "metadata": {},
   "outputs": [
    {
     "name": "stdout",
     "output_type": "stream",
     "text": [
      "N doit être inférieur au nombre de coef\n"
     ]
    },
    {
     "data": {
      "text/html": [
       "<html><script type=\"math/tex; mode=display\">\\newcommand{\\Bold}[1]{\\mathbf{#1}}\\mathrm{None}</script></html>"
      ],
      "text/plain": [
       "None"
      ]
     },
     "metadata": {},
     "output_type": "display_data"
>>>>>>> f21ae82b26bd2b3a18b9553564cce010c11d124d
    }
   ],
   "source": [
    "# Réponse 2.\n",
    "Uv = [1,1,1]\n",
    "Av = [1,0,1]\n",
    "V1000 = liste(1000,Uv,Av)\n",
    "show(V1000)"
   ]
  },
  {
   "cell_type": "code",
<<<<<<< HEAD
   "execution_count": 101,
=======
   "execution_count": 57,
>>>>>>> f21ae82b26bd2b3a18b9553564cce010c11d124d
   "metadata": {
    "deletable": false,
    "editable": false
   },
   "outputs": [
    {
     "ename": "TypeError",
     "evalue": "object of type 'NoneType' has no len()",
     "output_type": "error",
     "traceback": [
      "\u001b[0;31m---------------------------------------------------------------------------\u001b[0m",
      "\u001b[0;31mTypeError\u001b[0m                                 Traceback (most recent call last)",
<<<<<<< HEAD
      "\u001b[0;32m<ipython-input-101-8a1b4f1c8cda>\u001b[0m in \u001b[0;36m<module>\u001b[0;34m\u001b[0m\n\u001b[1;32m      1\u001b[0m \u001b[0;31m# Cellule de test (à exécuter uniquement)\u001b[0m\u001b[0;34m\u001b[0m\u001b[0;34m\u001b[0m\u001b[0;34m\u001b[0m\u001b[0m\n\u001b[0;32m----> 2\u001b[0;31m \u001b[0mlen\u001b[0m\u001b[0;34m(\u001b[0m\u001b[0mV1000\u001b[0m\u001b[0;34m)\u001b[0m\u001b[0;34m==\u001b[0m\u001b[0mInteger\u001b[0m\u001b[0;34m(\u001b[0m\u001b[0;36m1000\u001b[0m\u001b[0;34m)\u001b[0m \u001b[0;32mand\u001b[0m \u001b[0mV1000\u001b[0m\u001b[0;34m[\u001b[0m\u001b[0;34m-\u001b[0m\u001b[0mInteger\u001b[0m\u001b[0;34m(\u001b[0m\u001b[0;36m10\u001b[0m\u001b[0;34m)\u001b[0m\u001b[0;34m:\u001b[0m\u001b[0;34m]\u001b[0m\u001b[0;34m==\u001b[0m\u001b[0;34m[\u001b[0m\u001b[0mZ2\u001b[0m\u001b[0;34m(\u001b[0m\u001b[0me\u001b[0m\u001b[0;34m)\u001b[0m \u001b[0;32mfor\u001b[0m \u001b[0me\u001b[0m \u001b[0;32min\u001b[0m \u001b[0;34m[\u001b[0m\u001b[0mInteger\u001b[0m\u001b[0;34m(\u001b[0m\u001b[0;36m0\u001b[0m\u001b[0;34m)\u001b[0m\u001b[0;34m,\u001b[0m\u001b[0mInteger\u001b[0m\u001b[0;34m(\u001b[0m\u001b[0;36m1\u001b[0m\u001b[0;34m)\u001b[0m\u001b[0;34m,\u001b[0m\u001b[0mInteger\u001b[0m\u001b[0;34m(\u001b[0m\u001b[0;36m0\u001b[0m\u001b[0;34m)\u001b[0m\u001b[0;34m,\u001b[0m\u001b[0mInteger\u001b[0m\u001b[0;34m(\u001b[0m\u001b[0;36m0\u001b[0m\u001b[0;34m)\u001b[0m\u001b[0;34m,\u001b[0m\u001b[0mInteger\u001b[0m\u001b[0;34m(\u001b[0m\u001b[0;36m1\u001b[0m\u001b[0;34m)\u001b[0m\u001b[0;34m,\u001b[0m\u001b[0mInteger\u001b[0m\u001b[0;34m(\u001b[0m\u001b[0;36m1\u001b[0m\u001b[0;34m)\u001b[0m\u001b[0;34m,\u001b[0m\u001b[0mInteger\u001b[0m\u001b[0;34m(\u001b[0m\u001b[0;36m1\u001b[0m\u001b[0;34m)\u001b[0m\u001b[0;34m,\u001b[0m\u001b[0mInteger\u001b[0m\u001b[0;34m(\u001b[0m\u001b[0;36m0\u001b[0m\u001b[0;34m)\u001b[0m\u001b[0;34m,\u001b[0m\u001b[0mInteger\u001b[0m\u001b[0;34m(\u001b[0m\u001b[0;36m1\u001b[0m\u001b[0;34m)\u001b[0m\u001b[0;34m,\u001b[0m\u001b[0mInteger\u001b[0m\u001b[0;34m(\u001b[0m\u001b[0;36m0\u001b[0m\u001b[0;34m)\u001b[0m\u001b[0;34m]\u001b[0m\u001b[0;34m]\u001b[0m\u001b[0;34m\u001b[0m\u001b[0;34m\u001b[0m\u001b[0m\n\u001b[0m",
=======
      "\u001b[0;32m<ipython-input-57-8a1b4f1c8cda>\u001b[0m in \u001b[0;36m<module>\u001b[0;34m\u001b[0m\n\u001b[1;32m      1\u001b[0m \u001b[0;31m# Cellule de test (à exécuter uniquement)\u001b[0m\u001b[0;34m\u001b[0m\u001b[0;34m\u001b[0m\u001b[0;34m\u001b[0m\u001b[0m\n\u001b[0;32m----> 2\u001b[0;31m \u001b[0mlen\u001b[0m\u001b[0;34m(\u001b[0m\u001b[0mV1000\u001b[0m\u001b[0;34m)\u001b[0m\u001b[0;34m==\u001b[0m\u001b[0mInteger\u001b[0m\u001b[0;34m(\u001b[0m\u001b[0;36m1000\u001b[0m\u001b[0;34m)\u001b[0m \u001b[0;32mand\u001b[0m \u001b[0mV1000\u001b[0m\u001b[0;34m[\u001b[0m\u001b[0;34m-\u001b[0m\u001b[0mInteger\u001b[0m\u001b[0;34m(\u001b[0m\u001b[0;36m10\u001b[0m\u001b[0;34m)\u001b[0m\u001b[0;34m:\u001b[0m\u001b[0;34m]\u001b[0m\u001b[0;34m==\u001b[0m\u001b[0;34m[\u001b[0m\u001b[0mZ2\u001b[0m\u001b[0;34m(\u001b[0m\u001b[0me\u001b[0m\u001b[0;34m)\u001b[0m \u001b[0;32mfor\u001b[0m \u001b[0me\u001b[0m \u001b[0;32min\u001b[0m \u001b[0;34m[\u001b[0m\u001b[0mInteger\u001b[0m\u001b[0;34m(\u001b[0m\u001b[0;36m0\u001b[0m\u001b[0;34m)\u001b[0m\u001b[0;34m,\u001b[0m\u001b[0mInteger\u001b[0m\u001b[0;34m(\u001b[0m\u001b[0;36m1\u001b[0m\u001b[0;34m)\u001b[0m\u001b[0;34m,\u001b[0m\u001b[0mInteger\u001b[0m\u001b[0;34m(\u001b[0m\u001b[0;36m0\u001b[0m\u001b[0;34m)\u001b[0m\u001b[0;34m,\u001b[0m\u001b[0mInteger\u001b[0m\u001b[0;34m(\u001b[0m\u001b[0;36m0\u001b[0m\u001b[0;34m)\u001b[0m\u001b[0;34m,\u001b[0m\u001b[0mInteger\u001b[0m\u001b[0;34m(\u001b[0m\u001b[0;36m1\u001b[0m\u001b[0;34m)\u001b[0m\u001b[0;34m,\u001b[0m\u001b[0mInteger\u001b[0m\u001b[0;34m(\u001b[0m\u001b[0;36m1\u001b[0m\u001b[0;34m)\u001b[0m\u001b[0;34m,\u001b[0m\u001b[0mInteger\u001b[0m\u001b[0;34m(\u001b[0m\u001b[0;36m1\u001b[0m\u001b[0;34m)\u001b[0m\u001b[0;34m,\u001b[0m\u001b[0mInteger\u001b[0m\u001b[0;34m(\u001b[0m\u001b[0;36m0\u001b[0m\u001b[0;34m)\u001b[0m\u001b[0;34m,\u001b[0m\u001b[0mInteger\u001b[0m\u001b[0;34m(\u001b[0m\u001b[0;36m1\u001b[0m\u001b[0;34m)\u001b[0m\u001b[0;34m,\u001b[0m\u001b[0mInteger\u001b[0m\u001b[0;34m(\u001b[0m\u001b[0;36m0\u001b[0m\u001b[0;34m)\u001b[0m\u001b[0;34m]\u001b[0m\u001b[0;34m]\u001b[0m\u001b[0;34m\u001b[0m\u001b[0;34m\u001b[0m\u001b[0m\n\u001b[0m",
>>>>>>> f21ae82b26bd2b3a18b9553564cce010c11d124d
      "\u001b[0;31mTypeError\u001b[0m: object of type 'NoneType' has no len()"
     ]
    }
   ],
   "source": [
    "# Cellule de test (à exécuter uniquement)\n",
    "len(V1000)==1000 and V1000[-10:]==[Z2(e) for e in [0,1,0,0,1,1,1,0,1,0]]"
   ]
  },
  {
   "cell_type": "markdown",
   "metadata": {
    "deletable": false,
    "editable": false,
    "run_control": {
     "frozen": true
    }
   },
   "source": [
    "### Question\n",
    "\n",
    "On peut montrer que toute suite récurrente binaire telle que $\\alpha_{k-1} = 1$ est périodique, c'est-à-dire qu'il existe un entier $T$ tel que $u_{n+T} = u_n$ pour tout $n$. \n",
    "\n",
    "Pour trouver cette période, on peut utiliser la remarque suivante : comme $u_{n+k}$ ne dépend que de $u_{n}$, …, $u_{n+k-1}$, **la période $T$ est égale au plus petit indice $m$ tel que $[u_0,…,u_{k-1}] = [u_m,…,u_{m+k-1}]$**. \n",
    "\n",
    "*Par exemple, la suite $(v_n)_n$ est de période $7$, car $[v_0,v_1,v_2] = [v_7,v_8,v_9]$ et $[v_0,v_1,v_2]\\neq[v_i,v_{i+1},v_{i+2}]$ pour $0 < i < 7$.* \n",
    "\n",
    "1. Écrire une fonction `periode(U,A)` qui prend en entrée $U = [u_0,…,u_{k-1}]$ et $A = [\\alpha_0, …, \\alpha_{k-1}]$ et renvoie la période $T$ de la suite $(u_n)_n$. *Indication. Utiliser la remarque en gras.*\n",
    "\n",
    "1. Vérifier que votre fonction renvoie bien $7$ sur l'entrée `Uv`, `Av` correspondant à la suite $(v_n)_n$ de la question précédente.\n",
    "\n",
    "1. Calculer la période de la suite $(w_n)_n$ définie par $w_0 = w_1 = w_3 = 1$ et $w_2 = w_4 = w_5 = 0$, et $w_{n+6} = w_n + w_{n+3} + w_{n+4} + w_{n+5}$."
   ]
  },
  {
   "cell_type": "code",
   "execution_count": 60,
   "metadata": {},
   "outputs": [
    {
     "ename": "SyntaxError",
     "evalue": "unexpected EOF while parsing (<ipython-input-60-2fd8414846c5>, line 3)",
     "output_type": "error",
     "traceback": [
      "\u001b[0;36m  File \u001b[0;32m\"<ipython-input-60-2fd8414846c5>\"\u001b[0;36m, line \u001b[0;32m3\u001b[0m\n\u001b[0;31m    \u001b[0m\n\u001b[0m    ^\u001b[0m\n\u001b[0;31mSyntaxError\u001b[0m\u001b[0;31m:\u001b[0m unexpected EOF while parsing\n"
     ]
    }
   ],
   "source": [
    "# Réponse 1.\n",
    "def periode(U,A) :\n",
    "    "
   ]
  },
  {
   "cell_type": "code",
   "execution_count": null,
   "metadata": {},
   "outputs": [],
   "source": [
    "# Réponse 2.\n"
   ]
  },
  {
   "cell_type": "code",
   "execution_count": null,
   "metadata": {},
   "outputs": [],
   "source": [
    "# Réponse 3.\n"
   ]
  },
  {
   "cell_type": "markdown",
   "metadata": {
    "deletable": false,
    "editable": false,
    "run_control": {
     "frozen": true
    }
   },
   "source": [
    "### Question\n",
    "\n",
    "On associe à une suite récurrente binaire $(u_n)_n$ de récurrence (1) un *polynôme $P_u$ à coefficients dans $\\ZpZ$* défini par \n",
    "$$P_u(X) = X^k + \\alpha_{k-1}X^{k-1} + \\alpha_{k-2}X^{k-2}+ \\dotsb + \\alpha_1X+\\alpha_0.$$ \n",
    "\n",
    "On peut calculer la période $T$ de $(u_n)_n$ à partir de $P_u$ : $T$ est égale au plus petit exposant $e$ tel que $P_u$ divise le polynôme $X^e-1$.\n",
    "\n",
    "*Indication `SageMath` : si `P` et `Q` sont deux polynômes, `P.divides(Q)` renvoie `True` si $P$ divise $Q$, et `False` sinon.*\n",
    "\n",
    "1. Écrire une fonction `poly(A)` qui prend en entrée la liste $A = [\\alpha_0,…,\\alpha_{k-1}]$ et renvoie le polynôme $P_u$ correspondant.\n",
    "\n",
    "1. Écrire une fonction `periode_poly(A)` qui calcule la période de la suite $(u_n)_n$ en utilisant le polynôme associé à $(u_n)_n$.\n",
    "\n",
    "1. Re-calculer la période des deux suites $v$ (de la question 1.) et $w$ (de la question 2.) à l'aide de `periode_poly`.\n",
    "\n"
   ]
  },
  {
   "cell_type": "code",
   "execution_count": 95,
   "metadata": {},
   "outputs": [],
   "source": [
    "# Réponse 1.\n",
    "var('x')\n",
    "def poly(A) :\n",
    "    res = 0\n",
    "    for i in range (len(A)-1,-1,-1):\n",
    "        res += (A[i]*(x**i))\n",
    "    return x**len(A) - res"
   ]
  },
  {
   "cell_type": "code",
   "execution_count": 98,
   "metadata": {},
   "outputs": [
    {
     "ename": "SyntaxError",
     "evalue": "unexpected EOF while parsing (<ipython-input-98-233a8604f334>, line 3)",
     "output_type": "error",
     "traceback": [
      "\u001b[0;36m  File \u001b[0;32m\"<ipython-input-98-233a8604f334>\"\u001b[0;36m, line \u001b[0;32m3\u001b[0m\n\u001b[0;31m    \u001b[0m\n\u001b[0m    ^\u001b[0m\n\u001b[0;31mSyntaxError\u001b[0m\u001b[0;31m:\u001b[0m unexpected EOF while parsing\n"
     ]
    }
   ],
   "source": [
    "# Réponse 2.\n",
    "def periode_poly(A) :\n",
    "    "
   ]
  },
  {
   "cell_type": "code",
   "execution_count": null,
   "metadata": {},
   "outputs": [],
   "source": [
    "# Réponse 3."
   ]
  },
  {
   "cell_type": "markdown",
   "metadata": {
    "deletable": false,
    "editable": false,
    "run_control": {
     "frozen": true
    }
   },
   "source": [
    "## Calcul de cercles circonscrits\n",
    "\n",
    "En géométrie dans le plan, un cercle de rayon $r$ centré en l'origine $(0,0)$ correspond à l'ensemble des points $P$ de coordonnées $(p_x,p_y)$ qui se trouvent à une distance $r$ de l'origine. Grâce au théorème de Pythagore, on sait que la distance d'un point $P$ à l'origine est $\\sqrt{p_x^2+p_y^2}$. Par conséquent on peut définir ce cercle par l'ensemble des points $P$ vérifiant l'équation $p_x^2+p_y^2 = r^2$. \n",
    "\n",
    "Cela revient à dire que le cercle est déterminé par l'équation $x^2+y^2=r^2$. Exécuter la cellule suivante pour obtenir un dessin qui illustre le principe."
   ]
  },
  {
   "cell_type": "code",
   "execution_count": 20,
   "metadata": {
    "deletable": false,
    "editable": false,
    "scrolled": false
   },
   "outputs": [
    {
     "data": {
      "application/vnd.jupyter.widget-view+json": {
       "model_id": "3e64b50171db4404a28e1c36d648f33a"
      }
     },
     "metadata": {},
     "output_type": "display_data"
    }
   ],
   "source": [
    "c=(0,0)\n",
    "r=4\n",
    "@interact \n",
    "def _(x0=slider(-r,r, step_size=.3),neg=checkbox(False, label='negative')):\n",
    "    if (neg) : \n",
    "        y0=-sqrt(r^2-x0^2)\n",
    "    else :\n",
    "        y0=sqrt(r^2-x0^2)\n",
    "    return circle(c,r)+point([x0,y0],color=\"red\",size=50)+polygon([(0,0),(x0,0),(x0,y0)],fill=false,color=\"green\")"
   ]
  },
  {
   "cell_type": "markdown",
   "metadata": {
    "deletable": false,
    "editable": false,
    "run_control": {
     "frozen": true
    }
   },
   "source": [
    "De manière plus générale, l'équation d'un cercle de rayon $r$ centré en un point de coordonnées $(o_x,o_y)$ s'écrit \n",
    "$$(x-o_x)^2+(y-o_y)^2 = r^2.$$\n",
    "Cette équation peut être réécrite comme suit:\n",
    "$$ \\begin{cases} x^2+y^2 &= 2o_xx+2o_yy  - \\alpha  \\\\ \\alpha &=o_x^2+o_y^2-r^2 \\end{cases}$$"
   ]
  },
  {
   "cell_type": "markdown",
   "metadata": {
    "deletable": false,
    "editable": false,
    "run_control": {
     "frozen": true
    }
   },
   "source": [
    "### Question \n",
    "Soit un cercle $C$ de rayon 5 et de centre $(3,1)$.\n",
    " 1. Déterminer parmi les points suivants   [(-1,-2), (0,6), (3,6), (2,6), (7,-2), (6,4.99), (3,6)]   ceux qui appartiennent à ce cercle. Vous devrez utiliser du calcul pour vérifier l'appartenance au cercle.\n",
    " 1. Afficher le cercle $C$ et les points qui appartiennent au cercle. Vous pourrez utiliser la fonction `circle` (voir graphique ci-dessus)."
   ]
  },
  {
   "cell_type": "code",
   "execution_count": 65,
   "metadata": {},
   "outputs": [
    {
     "data": {
      "text/html": [
       "<html><script type=\"math/tex; mode=display\">\\newcommand{\\Bold}[1]{\\mathbf{#1}}\\left[\\left[-1, -2\\right], \\left[3, 6\\right], \\left[7, -2\\right]\\right]</script></html>"
      ],
      "text/plain": [
       "[[-1, -2], [3, 6], [7, -2]]"
      ]
     },
     "metadata": {},
     "output_type": "display_data"
    }
   ],
   "source": [
    "# Réponse 1.\n",
    "L= [[-1,-2],[0,6],[3,6],[2,6],[7,-2],[6,4.99]]\n",
    "def appartient(L) :\n",
    "    res = []\n",
    "    Ox = 3\n",
    "    Oy = 1\n",
    "    R = 5\n",
    "    for elt in L :\n",
    "        if ( sqrt((Ox - elt[0])**2 + (Oy - elt[1])**2) == R) :\n",
    "            res.append(elt)\n",
    "    return res\n",
    "\n",
    "cercle = appartient(L)\n",
    "show(cercle)"
   ]
  },
  {
   "cell_type": "code",
   "execution_count": 67,
   "metadata": {},
   "outputs": [
    {
     "data": {
      "image/png": "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\n",
      "text/plain": [
       "Graphics object consisting of 2 graphics primitives"
      ]
     },
     "metadata": {},
     "output_type": "display_data"
    }
   ],
   "source": [
    "# Réponse 2.\n",
    "c2=(3,1)\n",
    "r2=5\n",
    "show(circle(c2,r2) + list_plot(cercle))"
   ]
  },
  {
   "cell_type": "markdown",
   "metadata": {
    "deletable": false,
    "editable": false,
    "run_control": {
     "frozen": true
    }
   },
   "source": [
    "### Question\n",
    "\n",
    "Étant donné trois points distincts $A,B,C \\in \\mathbf{R}^2$ (non alignés), il est toujours possible de trouver un cercle qui passe par ces trois points. En effet, la théorie du cercle circonscrit à un triangle nous indique que les médiatrices des segments $[AB]$, $[BC]$ et $[AC]$ se coupent en un point qui est équidistant à $A$, $B$ et $C$. Ce point est par conséquent le centre d'un cercle qui passe par les points $A,B$ et $C$.\n",
    "\n",
    "Une façon de trouver le centre et le rayon du cercle circonscrit est de passer par l'algèbre linéaire. En effet, l'équation d'un cercle est $$ \\begin{cases} x^2+y^2 &= & 2o_xx+2o_yy  - \\alpha  \\\\ \\alpha&=&o_x^2+o_y^2-r^2 \\end{cases}$$\n",
    "\n",
    "Si $A,B$ et $C$ sont sur un cercle de rayon $r$ de centre $(o_x,o_y)$ alors ils vérifient son équation. Ceci peut se réécrire comme le système linéaire suivant :\n",
    "\n",
    "$$\n",
    "\\begin{bmatrix}\n",
    "2x_A & 2 y_A & -1 \\\\\n",
    "2x_B & 2 y_B & -1 \\\\\n",
    "2x_C & 2 y_C & -1 \\\\\n",
    "\\end{bmatrix}\n",
    "\\times\n",
    "\\begin{bmatrix}\n",
    "o_x \\\\\n",
    "o_y \\\\\n",
    "\\alpha\n",
    "\\end{bmatrix}\n",
    "=\n",
    "\\begin{bmatrix}\n",
    "x_A^2+y_A^2 \\\\\n",
    "x_B^2+y_B^2 \\\\\n",
    "x_C^2+y_C^2\n",
    "\\end{bmatrix}\n",
    "$$\n",
    "où $A=(x_A, y_A),B=(x_B, y_B),C=(x_C, y_C)$.  \n",
    "\n",
    "Par conséquent, nous pouvons retrouver les coordonnées du centre $(o_x,o_y)$ du cercle passant par les points $A,B$ et $C$ en résolvant ce système. Le calcul du rayon nécessitera de calculer la valeur $r=\\sqrt{o_x^2+o_y^2-\\alpha}$, une fois que le centre $(o_x,o_y)$ est trouvé."
   ]
  },
  {
   "cell_type": "markdown",
   "metadata": {
    "deletable": false,
    "editable": false,
    "run_control": {
     "frozen": true
    }
   },
   "source": [
    "1. Écrire une fonction `systeme` qui prend en entrée trois points $A$, $B$ et $C$ et renvoie la matrice $\\left(\\begin{smallmatrix}\n",
    "2x_A & 2 y_A & -1 \\\\\n",
    "2x_B & 2 y_B & -1 \\\\\n",
    "2x_C & 2 y_C & -1 \\\\\n",
    "\\end{smallmatrix}\\right)$ et le vecteur \n",
    "$\\left(\\begin{smallmatrix}\n",
    "x_A^2+y_A^2 \\\\\n",
    "x_B^2+y_B^2 \\\\\n",
    "x_C^2+y_C^2\n",
    "\\end{smallmatrix}\\right)$.\n",
    "1. Écrire une fonction `findCircle` qui prend en entrée 3 points et qui retourne le centre et le rayon.\n",
    "1. Appliquer `findCircle` avec les points A=(3,5), B=(-2,1) et C=(4,-5).\n",
    "1. Faites un dessin qui affiche les 3 points en rouge, le cercle en bleu et son centre O en orange."
   ]
  },
  {
   "cell_type": "code",
   "execution_count": 74,
   "metadata": {},
   "outputs": [],
   "source": [
    "# Réponse 1.\n",
    "A = [3,5]\n",
    "B = [-2,1]\n",
    "C = [4,-5]\n",
    "def systeme(A,B,C) :\n",
    "    mat = matrix([ [2*A[0],2*A[1],-1] , [ 2*B[0],2*B[1],-1 ], [ 2*C[0],2*C[1],-1 ]])\n",
    "    vect = vector([A[0]**2 + A[1]**2,B[0]**2 + B[1]**2,C[0]**2 + C[1]**2])\n",
    "    return mat, vect"
   ]
  },
  {
   "cell_type": "code",
   "execution_count": 75,
   "metadata": {},
   "outputs": [],
   "source": [
    "# Réponse 2.\n",
    "def findCircle(A,B,C) :\n",
    "    eq = systeme(A,B,C)\n",
    "    res = eq[0].solve_right(eq[1])\n",
    "    centreX = res[0]\n",
    "    centreY = res[1]\n",
    "    alpha = res[2]\n",
    "    rayon = sqrt(centreX**2 + centreY**2 - alpha)\n",
    "    centre = [centreX,centreY]\n",
    "    return centre, rayon"
   ]
  },
  {
   "cell_type": "code",
   "execution_count": 78,
   "metadata": {},
   "outputs": [
    {
     "data": {
      "text/html": [
       "<html><script type=\"math/tex; mode=display\">\\newcommand{\\Bold}[1]{\\mathbf{#1}}\\verb|centre|\\phantom{\\verb!x!}\\verb|:| \\left[\\frac{53}{18}, -\\frac{1}{18}\\right]</script></html>"
      ],
      "text/plain": [
       "'centre : ' [53/18, -1/18]"
      ]
     },
     "metadata": {},
     "output_type": "display_data"
    },
    {
     "data": {
      "text/html": [
       "<html><script type=\"math/tex; mode=display\">\\newcommand{\\Bold}[1]{\\mathbf{#1}}\\verb|rayon|\\phantom{\\verb!x!}\\verb|:| \\frac{1}{9} \\, \\sqrt{\\frac{4141}{2}}</script></html>"
      ],
      "text/plain": [
       "'rayon : ' 1/9*sqrt(4141/2)"
      ]
     },
     "metadata": {},
     "output_type": "display_data"
    }
   ],
   "source": [
    "# Réponse 3.\n",
    "res = findCircle(A,B,C)\n",
    "show(\"centre : \",res[0])\n",
    "show(\"rayon : \",res[1])"
   ]
  },
  {
   "cell_type": "code",
   "execution_count": 81,
   "metadata": {},
   "outputs": [
    {
     "data": {
      "image/png": "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\n",
      "text/plain": [
       "Graphics object consisting of 2 graphics primitives"
      ]
     },
     "metadata": {},
     "output_type": "display_data"
    }
   ],
   "source": [
    "# Réponse 4.\n",
    "liste_pt = [A,B,C]\n",
    "show(circle(res[0],res[1])+ list_plot(liste_pt))"
   ]
  },
  {
   "cell_type": "markdown",
   "metadata": {
    "deletable": false,
    "editable": false,
    "run_control": {
     "frozen": true
    }
   },
   "source": [
    "### Question bonus\n",
    "\n",
    "Nous considérons maintenant le problème de trouver un cercle qui passe par plus de trois points. De manière générale, il n'existe pas de solution à ce problème. Une approche possible consiste donc à trouver un cercle qui passe au plus proche des points donnés. Pour cela, nous pouvons appliquer la méthode des moindres carrés vue en TP."
   ]
  },
  {
   "cell_type": "markdown",
   "metadata": {
    "deletable": false,
    "editable": false,
    "run_control": {
     "frozen": true
    }
   },
   "source": [
    "1. Écrire une fonction `findApproximateCircle` qui retourne le centre et le rayon du cercle le plus proche (au sens des moindres carrés) d'une liste de points.  **Indication: votre fonction doit utiliser la résolution d'un système linéaire.**\n",
    "1. Afficher les points (-1,-2), (0,6), (3,6), (2,6), (7,-2), (6,4.99), (3,6) et le cercle qui passe au plus proche d'eux."
   ]
  },
  {
   "cell_type": "code",
   "execution_count": null,
   "metadata": {},
   "outputs": [],
   "source": [
    "# Réponse 1.\n"
   ]
  },
  {
   "cell_type": "code",
   "execution_count": null,
   "metadata": {},
   "outputs": [],
   "source": [
    "# Réponse 2.\n"
   ]
  }
 ],
 "metadata": {
  "celltoolbar": "Aucun(e)",
  "kernelspec": {
   "display_name": "SageMath 9.0",
   "language": "sage",
   "name": "sagemath"
  },
  "language_info": {
   "codemirror_mode": {
    "name": "ipython",
    "version": 3
   },
   "file_extension": ".py",
   "mimetype": "text/x-python",
   "name": "python",
   "nbconvert_exporter": "python",
   "pygments_lexer": "ipython3",
   "version": "3.8.10"
  },
  "toc": {
   "base_numbering": 1,
   "nav_menu": {},
   "number_sections": true,
   "sideBar": true,
   "skip_h1_title": true,
   "title_cell": "Table of Contents",
   "title_sidebar": "Contents",
   "toc_cell": false,
   "toc_position": {
    "height": "904.867px",
    "left": "0px",
    "right": "1413px",
    "top": "111.133px",
    "width": "212px"
   },
   "toc_section_display": "block",
   "toc_window_display": true
  },
  "varInspector": {
   "cols": {
    "lenName": 16,
    "lenType": 16,
    "lenVar": 40
   },
   "kernels_config": {
    "python": {
     "delete_cmd_postfix": "",
     "delete_cmd_prefix": "del ",
     "library": "var_list.py",
     "varRefreshCmd": "print(var_dic_list())"
    },
    "r": {
     "delete_cmd_postfix": ") ",
     "delete_cmd_prefix": "rm(",
     "library": "var_list.r",
     "varRefreshCmd": "cat(var_dic_list()) "
    }
   },
   "types_to_exclude": [
    "module",
    "function",
    "builtin_function_or_method",
    "instance",
    "_Feature"
   ],
   "window_display": false
  }
 },
 "nbformat": 4,
 "nbformat_minor": 4
}
