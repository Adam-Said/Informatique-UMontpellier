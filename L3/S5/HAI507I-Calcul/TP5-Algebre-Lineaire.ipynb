{
 "cells": [
  {
   "cell_type": "code",
   "execution_count": null,
   "metadata": {},
   "outputs": [],
   "source": []
  },
  {
   "cell_type": "markdown",
   "metadata": {
    "deletable": false,
    "editable": false,
    "run_control": {
     "frozen": true
    }
   },
   "source": [
    "\n",
    "# TP Matrices et Vecteurs: un peu d'algèbre linéaire\n",
    "\n",
    "Durant cette séance nous nous intéressons à la manipulation de matrices et de vecteurs et nous aborderons des concepts généraux en algèbre linéaire.\n",
    "\n",
    "## Introduction\n",
    "\n",
    "### Matrices\n",
    "Tout d'abord notons que la création d'une matrice $A$ de dimension $m \\times n$ en Sage s'obtient par la commande \n",
    "\n",
    "`A=matrix(m,n,[[ligne1],[ligne2],...,lignem]])`\n",
    "\n",
    "ou m est le nombre de ligne et n le nombre d'éléments dans une ligne (autrement dit n est le nombre de colonne). Par défaut, les éléments de cette matrice seront considérés dans le domaine de définition des éléments passé dans les lignes. Si m et n sont spécifiés on peut simplement donner une seule liste de valeurs (pas besoin de liste de liste)."
   ]
  },
  {
   "cell_type": "code",
   "execution_count": null,
   "metadata": {},
   "outputs": [],
   "source": []
  },
  {
   "cell_type": "markdown",
   "metadata": {
    "deletable": false,
    "editable": false,
    "run_control": {
     "frozen": true
    }
   },
   "source": [
    "- si les éléments sont différents, la coercion de type la plus englobante sera utilisée\n",
    "- si on souhaite un type particulier, on spécifit le domaine des définitions des éléments comme premier argument"
   ]
  },
  {
   "cell_type": "code",
   "execution_count": null,
   "metadata": {},
   "outputs": [],
   "source": []
  },
  {
   "cell_type": "markdown",
   "metadata": {
    "deletable": false,
    "editable": false,
    "run_control": {
     "frozen": true
    }
   },
   "source": [
    "### Vecteurs\n",
    "Cela marche de manière identique pour les vecteurs avec la commande\n",
    "\n",
    "`vector([e1,e2,...,em])`\n",
    "\n",
    "Les vecteurs ne sont pas orientés, ils sont à la fois ligne et colonnes, le choix se fera selon le contexte. \n",
    "Si l'on souhaite créer des vecteurs d'une certaine dimension il faudra toujours donner le domaine de définition des coefficients.\n",
    "\n",
    "`vector(DD, [e1,e2,...,em])` ou `vector(DD,m)`\n",
    "\n",
    "Si l'on souhaite orienter un vecteur, il suffira de créer une matrice à 1 ligne ou 1 colonne. "
   ]
  },
  {
   "cell_type": "code",
   "execution_count": null,
   "metadata": {},
   "outputs": [],
   "source": []
  },
  {
   "cell_type": "markdown",
   "metadata": {
    "deletable": false,
    "editable": false,
    "run_control": {
     "frozen": true
    }
   },
   "source": [
    "## Multiplication\n",
    "\n",
    "L'operateur `*` permet de faire la multiplication des matrices et des vecteurs comme suit:\n",
    "- un vecteur ligne avec un matrice: `v*A`\n",
    "- une matrice avec un vecteur colonne: `A*v`\n",
    "- un vecteur ligne avec un vecteur colonne (produit scalaire): `v1*v2`\n",
    "- un vecteur colonne avec un vecteur ligne (produit ouvert): `v2*v1`\n",
    "- un vecteur ou une matrice avec un scalaire : `a*A` ou `a*v` \n",
    "\n",
    "### Question\n",
    "À partir des matrices et des vecteurs suivants donner tous les produits possibles et afficher le domaine parmi (`ZZ`,`QQ`,`SR`) dans lequel a été effectué le calcul\n",
    "$$\n",
    "A=\\begin{pmatrix} 1&2&3\\\\4&5&6\\end{pmatrix}, B=\\begin{pmatrix} 3&6&9\\\\1&2&4\\\\1&2&3\\end{pmatrix}, u=\\begin{pmatrix} 1&x&x^2 \\end{pmatrix}, v=\\begin{pmatrix} 8\\\\5 \\\\ 7/3\\end{pmatrix}\n",
    "$$\n"
   ]
  },
  {
   "cell_type": "code",
   "execution_count": 1,
   "metadata": {},
   "outputs": [
    {
     "data": {
      "text/html": [
       "<html><script type=\"math/tex; mode=display\">\\newcommand{\\Bold}[1]{\\mathbf{#1}}\\Bold{Z}</script></html>"
      ],
      "text/plain": [
       "Integer Ring"
      ]
     },
     "metadata": {},
     "output_type": "display_data"
    },
    {
     "data": {
      "text/html": [
       "<html><script type=\"math/tex; mode=display\">\\newcommand{\\Bold}[1]{\\mathbf{#1}}\\Bold{Z}</script></html>"
      ],
      "text/plain": [
       "Integer Ring"
      ]
     },
     "metadata": {},
     "output_type": "display_data"
    },
    {
     "data": {
      "text/html": [
       "<html><script type=\"math/tex; mode=display\">\\newcommand{\\Bold}[1]{\\mathbf{#1}}\\text{SR}</script></html>"
      ],
      "text/plain": [
       "Symbolic Ring"
      ]
     },
     "metadata": {},
     "output_type": "display_data"
    },
    {
     "data": {
      "text/html": [
       "<html><script type=\"math/tex; mode=display\">\\newcommand{\\Bold}[1]{\\mathbf{#1}}\\Bold{Q}</script></html>"
      ],
      "text/plain": [
       "Rational Field"
      ]
     },
     "metadata": {},
     "output_type": "display_data"
    },
    {
     "data": {
      "text/html": [
       "<html><script type=\"math/tex; mode=display\">\\newcommand{\\Bold}[1]{\\mathbf{#1}}\\left(25,\\,71\\right)</script></html>"
      ],
      "text/plain": [
       "(25, 71)"
      ]
     },
     "metadata": {},
     "output_type": "display_data"
    },
    {
     "data": {
      "text/html": [
       "<html><script type=\"math/tex; mode=display\">\\newcommand{\\Bold}[1]{\\mathbf{#1}}\\left(\\begin{array}{rrr}\n",
       "8 & 16 & 26 \\\\\n",
       "23 & 46 & 74\n",
       "\\end{array}\\right)</script></html>"
      ],
      "text/plain": [
       "[ 8 16 26]\n",
       "[23 46 74]"
      ]
     },
     "metadata": {},
     "output_type": "display_data"
    }
   ],
   "source": [
    "A=matrix(2,3,[[1,2,3],[4,5,6]])\n",
    "B=matrix(3,3,[[3,6,9],[1,2,4],[1,2,3]])\n",
    "u=vector([1,x,x**x])\n",
    "v=vector([8,5,7/3])\n",
    "\n",
    "show(A.base_ring())\n",
    "show(B.base_ring())\n",
    "show(u.base_ring())\n",
    "show(v.base_ring())\n",
    "\n",
    "show(A*v)\n",
    "show(A*B)"
   ]
  },
  {
   "cell_type": "markdown",
   "metadata": {
    "deletable": false,
    "editable": false,
    "run_control": {
     "frozen": true
    }
   },
   "source": [
    "## Combinaison linéaire de vecteurs\n",
    "\n",
    "Si on considère un ensemble de vecteurs colonnes $v_1,\\dots,v_m$ tous de dimension $n$, et un ensemble de scalaires $\\alpha_1,\\dots, \\alpha_m$, le calcul de la combinaison linéaire\n",
    "$$\n",
    "u = \\alpha_1v_1+\\alpha_2v_2+\\dots+\\alpha_mv_m\n",
    "$$\n",
    "est équivalent au calcul du produit d'une matrice $A$ de $n$ lignes et $m$ colonnes par un vecteur colonne de dimension $m$\n",
    "$$\n",
    "u=\n",
    "\\begin{pmatrix}\n",
    " &&&\\\\\n",
    " v_1 & v_2 & \\dots& v_m\\\\\n",
    " &&&\\\\\\\n",
    "\\end{pmatrix}\n",
    "\\begin{pmatrix}\n",
    "\\alpha_1 \\\\ \\alpha_2 \\\\ \\vdots \\\\\\alpha_m\n",
    "\\end{pmatrix}\n",
    "$$"
   ]
  },
  {
   "cell_type": "markdown",
   "metadata": {
    "deletable": false,
    "editable": false,
    "run_control": {
     "frozen": true
    }
   },
   "source": [
    "### Question\n",
    "\n",
    "Calculer la combinaison linéaire suivante :\n",
    "$$\n",
    "3 * \\begin{pmatrix} 1 \\\\ 2 \\\\ 3 \\end{pmatrix} +\n",
    "4 * \\begin{pmatrix} 2 \\\\ 3 \\\\ 4 \\end{pmatrix} +\n",
    "5 * \\begin{pmatrix} 3 \\\\ 4 \\\\ 5 \\end{pmatrix} \n",
    "$$\n",
    "en construisant la matrice $A$ et le vecteur colonne $v_1$ adéquat puis en faisant le produit $A\\times v_1$. \n",
    "\n",
    "Vous ferez le même calcul en construisant la matrice $B$ adéquate et le vecteur ligne $v_2$ en faisant le produit $v_2\\times B$. \n",
    "\n",
    "Vérifiez que $v_1$ et $v_2$ contienne bien les mêmes valeurs mais qu'ils ne sont pas identiques."
   ]
  },
  {
   "cell_type": "code",
   "execution_count": 2,
   "metadata": {},
   "outputs": [
    {
     "data": {
      "text/html": [
       "<html><script type=\"math/tex; mode=display\">\\newcommand{\\Bold}[1]{\\mathbf{#1}}\\left(\\begin{array}{rrr}\n",
       "1 & 2 & 3 \\\\\n",
       "2 & 3 & 4 \\\\\n",
       "3 & 4 & 5\n",
       "\\end{array}\\right)</script></html>"
      ],
      "text/plain": [
       "[1 2 3]\n",
       "[2 3 4]\n",
       "[3 4 5]"
      ]
     },
     "metadata": {},
     "output_type": "display_data"
    },
    {
     "data": {
      "text/html": [
       "<html><script type=\"math/tex; mode=display\">\\newcommand{\\Bold}[1]{\\mathbf{#1}}\\left(3,\\,4,\\,5\\right)</script></html>"
      ],
      "text/plain": [
       "(3, 4, 5)"
      ]
     },
     "metadata": {},
     "output_type": "display_data"
    },
    {
     "data": {
      "text/html": [
       "<html><script type=\"math/tex; mode=display\">\\newcommand{\\Bold}[1]{\\mathbf{#1}}\\left(26,\\,38,\\,50\\right)</script></html>"
      ],
      "text/plain": [
       "(26, 38, 50)"
      ]
     },
     "metadata": {},
     "output_type": "display_data"
    },
    {
     "data": {
      "text/html": [
       "<html><script type=\"math/tex; mode=display\">\\newcommand{\\Bold}[1]{\\mathbf{#1}}\\left(26,\\,38,\\,50\\right)</script></html>"
      ],
      "text/plain": [
       "(26, 38, 50)"
      ]
     },
     "metadata": {},
     "output_type": "display_data"
    }
   ],
   "source": [
    "A=matrix(3,3,[[1,2,3],[2,3,4],[3,4,5]])\n",
    "v=vector([3,4,5])\n",
    "\n",
    "show(A)\n",
    "show(v)\n",
    "show(A*v)\n",
    "\n",
    "B=matrix(3,3,[[1,2,3],[2,3,4],[3,4,5]])\n",
    "v2=vector([3,4,5])\n",
    "\n",
    "show(v2*B)"
   ]
  },
  {
   "cell_type": "markdown",
   "metadata": {
    "deletable": false,
    "editable": false,
    "run_control": {
     "frozen": true
    }
   },
   "source": [
    "### Transposition de matrice/vecteur\n",
    "\n",
    "Les vecteurs $v_1$ et $v_2$ de la question précédente ne sont pas identique car  ils sont orientés différemment: un est en ligne alors que l'autre est en colonne. On dit qu'ils sont transposé l'un de l'autres.\n",
    "\n",
    "L'opération de tranposition d'un vecteur est donc le changement d'orientation. Cette notion s'étend aux matrices en considérant qu'une matrice est une collection de vecteurs (soit en ligne, soit en colonne, les deux chois sont possibles). Par conséquent la tranposition d'une matrice consiste à transposer les vecteurs la consistuant.\n",
    "\n",
    "$$\n",
    "A=\n",
    "\\begin{pmatrix}\n",
    " &&&\\\\\n",
    " v_1 & v_2 & \\dots& v_m\\\\\n",
    " &&&\\\\\\\n",
    "\\end{pmatrix}\n",
    " \\rightarrow\n",
    " A^T= \\begin{pmatrix}\n",
    " v_1^T \\\\ v_2^T \\\\ \\vdots \\\\ v_m^T\\\\\n",
    "\\end{pmatrix}\n",
    "$$"
   ]
  },
  {
   "cell_type": "markdown",
   "metadata": {
    "deletable": false,
    "editable": false,
    "run_control": {
     "frozen": true
    }
   },
   "source": [
    "### Question\n",
    "\n",
    "Essayer de trouver une propriété sur la transposition d'un produit en utilisant le fait que le vecteur $Av_1$ et $v_2B$ sont transposés l'un de l'autre. Si vous ne trouvez pas regarder sur Wikipédia."
   ]
  },
  {
   "cell_type": "markdown",
   "metadata": {
    "deletable": false,
    "editable": false,
    "run_control": {
     "frozen": true
    }
   },
   "source": [
    "Réponse: (A*B)^T == B^T *A^T"
   ]
  },
  {
   "cell_type": "markdown",
   "metadata": {
    "deletable": false,
    "editable": false,
    "run_control": {
     "frozen": true
    }
   },
   "source": [
    "## Résolution de systèmes d'équations linéaires\n",
    "\n",
    "La résolution d´équation linéaire est une des opérations fondamentale en algèbre linéaire, et cela s'exprime facilement via la notion de produit matrice-vecteur. En effet, si l'on pose le système d'équation suivant:\n",
    "\\begin{equation}\n",
    "\\begin{cases}\n",
    "6x+5y-z=3\\\\\n",
    "2x-5+7z=-8\\\\\n",
    "x+y+z=3\n",
    "\\end{cases}\n",
    "\\end{equation}\n",
    "on peut ré-éxprimer ce problème sous forme matricielle:\n",
    "$$\n",
    "\\begin{pmatrix}\n",
    "6 & 5 & -1\\\\\n",
    "2 & -5 & 7\\\\\n",
    "1 & 1 & 1 \\\\\n",
    "\\end{pmatrix}\n",
    "\\begin{pmatrix}x\\\\y\\\\z\\end{pmatrix}\n",
    "= \\begin{pmatrix} 3\\\\-8\\\\3 \\end{pmatrix}\n",
    "$$\n",
    "\n",
    "Pour résoudre un système d'équation linéaire donnéer par l'équation matricielle $Ax=b$,  il suffit d'appeler la méthode `A.solve_right(b)`. Si l'on souhaite résoudre à gauche $xA=b$, on appelle `A.solve_left(b)`."
   ]
  },
  {
   "cell_type": "markdown",
   "metadata": {
    "deletable": false,
    "editable": false,
    "run_control": {
     "frozen": true
    }
   },
   "source": [
    "### Question\n",
    "\n",
    "Trouver une solution au système donnée ci-dessus.\n",
    "- en cherchant une solution dans les rationnels\n",
    "- en redéfinissant le système sur le corps finis $GF(5)$. Attention, lisez bien les messages obtenus, surtout la dernière ligne."
   ]
  },
  {
   "cell_type": "code",
   "execution_count": 3,
   "metadata": {},
   "outputs": [
    {
     "data": {
      "text/html": [
       "<html><script type=\"math/tex; mode=display\">\\newcommand{\\Bold}[1]{\\mathbf{#1}}\\left(\\begin{array}{r}\n",
       "-\\frac{17}{9} \\\\\n",
       "\\frac{173}{54} \\\\\n",
       "\\frac{91}{54}\n",
       "\\end{array}\\right)</script></html>"
      ],
      "text/plain": [
       "[ -17/9]\n",
       "[173/54]\n",
       "[ 91/54]"
      ]
     },
     "metadata": {},
     "output_type": "display_data"
    }
   ],
   "source": [
    "A=matrix(QQ,3,3,[[6,5,-1],[2,-5,7],[1,1,1,]])\n",
    "\n",
    "B=matrix(QQ,3,1,[3,-8,3])\n",
    "\n",
    "show(A.solve_right(B))"
   ]
  },
  {
   "cell_type": "code",
   "execution_count": 4,
   "metadata": {},
   "outputs": [
    {
     "data": {
      "text/html": [
       "<html><script type=\"math/tex; mode=display\">\\newcommand{\\Bold}[1]{\\mathbf{#1}}\\left(\\begin{array}{r}\n",
       "2 \\\\\n",
       "2 \\\\\n",
       "4\n",
       "\\end{array}\\right)</script></html>"
      ],
      "text/plain": [
       "[2]\n",
       "[2]\n",
       "[4]"
      ]
     },
     "metadata": {},
     "output_type": "display_data"
    }
   ],
   "source": [
    "A=matrix(GF(5),3,3,[[6,5,-1],[2,-5,7],[1,1,1,]])\n",
    "\n",
    "B=matrix(GF(5),3,1,[3,-8,3])\n",
    "\n",
    "show(A.solve_right(B))"
   ]
  },
  {
   "cell_type": "markdown",
   "metadata": {
    "deletable": false,
    "editable": false,
    "run_control": {
     "frozen": true
    }
   },
   "source": [
    "### Question\n",
    "\n",
    "En utilisant la méthode `solve_right` des matrices trouver l'équation des droites $y=\\alpha x + \\beta $ qui passe par les points:\n",
    "- $(0,0)$ et $(3,5)$\n",
    "- $(-1,2)$ et $(7,-3)$\n",
    "\n",
    "Vous chercherez $\\alpha$ et $\\beta$ dans les rationnels et vous vérifierez vos résultats en utilisant la fonction plot sur l'intervalle $[-10,10]$."
   ]
  },
  {
   "cell_type": "code",
   "execution_count": 5,
   "metadata": {},
   "outputs": [
    {
     "data": {
      "text/html": [
       "<html><script type=\"math/tex; mode=display\">\\newcommand{\\Bold}[1]{\\mathbf{#1}}\\left(\\frac{5}{3},\\,0\\right)</script></html>"
      ],
      "text/plain": [
       "(5/3, 0)"
      ]
     },
     "metadata": {},
     "output_type": "display_data"
    },
    {
     "data": {
      "image/png": "[encoded data removed]",
      "text/plain": [
       "Graphics object consisting of 3 graphics primitives"
      ]
     },
     "metadata": {},
     "output_type": "display_data"
    }
   ],
   "source": [
    "F1=matrix(2,2,[[0,1],[3,1]])\n",
    "vy=vector([0,5])\n",
    "\n",
    "show(F1.solve_right(vy))\n",
    "F1(x)=F1.solve_right(vy)[0]*x + F1.solve_right(vy)[1]\n",
    "\n",
    "show(plot(F1(x)) + list_plot([0,0]) + list_plot([3,5]))"
   ]
  },
  {
   "cell_type": "markdown",
   "metadata": {
    "deletable": false,
    "editable": false,
    "run_control": {
     "frozen": true
    }
   },
   "source": [
    "### Interpolation de polynômes\n",
    "\n",
    "De manière plus générale, si on se donne un ensemble de $d$ points $(x_i,y_i)$ deux à deux distinct et que l'on cherche l'unique polynôme $P(x)=p_0+p_1x+p_2x^2+\\dots + p_{d-1}x^{d-1}$ qui passe par tout ces points, cela se ramène comme précédemment à une résolution de système linéaire.\n",
    "\n",
    "En effet, on peut poser le système linéaire suivant pour trouver les coefficient $p_i$ de $P(x)$.\n",
    "$$\n",
    "\\begin{pmatrix}\n",
    "1 & x_1 & x_1^2 & x_1^3 & \\dots & x_1^{d-1} \\\\\n",
    "1 & x_2 & x_2^2 & x_2^3 & \\dots & x_2^{d-1} \\\\\n",
    "\\vdots & \\vdots & \\vdots & \\vdots& \\ddots & \\vdots\\\\\n",
    "1 & x_d & x_d^2 & x_d^3 & \\dots & x_d^{d-1} \\\\\n",
    "\\end{pmatrix}\n",
    "\\begin{pmatrix}\n",
    "p_0 \\\\p_1 \\\\ p_2 \\\\ \\vdots \\\\ p_{d-1} \n",
    "\\end{pmatrix}\n",
    "= \n",
    "\\begin{pmatrix}\n",
    "y_1 \\\\y_2 \\\\ y_3 \\\\ \\vdots \\\\ y_{d} \n",
    "\\end{pmatrix}\n",
    "$$"
   ]
  },
  {
   "cell_type": "markdown",
   "metadata": {
    "deletable": false,
    "editable": false,
    "run_control": {
     "frozen": true
    }
   },
   "source": [
    "### Question\n",
    "\n",
    "Trouver le polynômes de degrès 4 à coefficient rationnels qui passe par les points suivants:\n",
    "$$(-2,3),(-1,7),(0,4),(3,1),(5,5)$$\n",
    "\n",
    "Vous afficherez les points ainsi que la fonction $f(x)$ correspondant au polynôme pour $x \\in [-3,7]$.\n",
    "Vou afficherez également le polynôme."
   ]
  },
  {
   "cell_type": "code",
   "execution_count": 6,
   "metadata": {},
   "outputs": [
    {
     "data": {
      "text/html": [
       "<html><script type=\"math/tex; mode=display\">\\newcommand{\\Bold}[1]{\\mathbf{#1}}\\left(4,\\,-\\frac{148}{35},\\,-\\frac{19}{60},\\,\\frac{4}{5},\\,-\\frac{47}{420}\\right)</script></html>"
      ],
      "text/plain": [
       "(4, -148/35, -19/60, 4/5, -47/420)"
      ]
     },
     "metadata": {},
     "output_type": "display_data"
    },
    {
     "data": {
      "image/png": "[encoded data removed]",
      "text/plain": [
       "Graphics object consisting of 1 graphics primitive"
      ]
     },
     "metadata": {},
     "output_type": "display_data"
    }
   ],
   "source": [
    "Mat=matrix([[1,(-2)**1,(-2)**2,(-2)**3,(-2)**4],[1,(-1)**1,(-1)**2,(-1)**3,(-1)**4],[1,(0)**1,(0)**2,(0)**3,(0)**4],[1,(3)**1,(3)**2,(3)**3,(3)**4],[1,(5)**1,(5)**2,(5)**3,(5)**4]])\n",
    "Vect=vector([3,7,4,1,5])\n",
    "\n",
    "show(Mat.solve_right(Vect))\n",
    "MatSol0 = Mat.solve_right(Vect)[0]\n",
    "MatSol1 = Mat.solve_right(Vect)[1]\n",
    "MatSol2 = Mat.solve_right(Vect)[2]\n",
    "MatSol3 = Mat.solve_right(Vect)[3]\n",
    "MatSol4 = Mat.solve_right(Vect)[4]\n",
    "\n",
    "\n",
    "F2(x)=MatSol0 + MatSol1*x + MatSol2*(x**2) + MatSol3*(x**3) + MatSol4*(x**4)\n",
    "\n",
    "show(plot(F2,-3,7))"
   ]
  },
  {
   "cell_type": "markdown",
   "metadata": {
    "deletable": false,
    "editable": false,
    "run_control": {
     "frozen": true
    }
   },
   "source": [
    "## Méthode des moindres carrés\n",
    "\n",
    "\n",
    "Si l'on considère le système d'équation linéaires données par l'égalité matricielle $Ax=b$ avec $A$ une matrice constituée de $m$ lignes et de $n<m$ colonnes. Il n'existe pas de manière générale une solution $x$ à cette égalité. Toutefois, on s'intéresse à trouver un vecteur $x$ tel que $Ax$ soit au plus proche de $b$. Pour cela on va utiliser la norme Euclidienne des vecteurs : soit $v=[v_1 v_2 \\dots v_n]$ alors sa norme Euclidienne est  $|| v||_2 = \\sqrt{v*v}=\\sqrt{v_1^2+v_2^2+\\dots+v_n^2}$.\n",
    "\n",
    "Ainsi notre problème se ramène à trouver le vecteur $x$ qui minimise $|| Ax-b||_2$.\n",
    "\n",
    "Si la matrice $A$ a de bonnes propriétés (de rang maximal), alors la solution $x$ peut se calculer avec la résolution d'un autre système linéaire $Hx=c$ avec :\n",
    "- $H=A^TA$\n",
    "- $c=A^Tb$"
   ]
  },
  {
   "cell_type": "markdown",
   "metadata": {
    "deletable": false,
    "editable": false,
    "run_control": {
     "frozen": true
    }
   },
   "source": [
    "### Question\n",
    "\n",
    "En reprenant notre exemple précédent sur le calcul d'une droite  le problème revient à trouver l'équation d'un droite $y=\\alpha x+\\beta$ qui passe par plus que 2 points. Bien entendu si les points ne sont pas alignés, il n'y a pas de solution. La méthode des moindres carrées permet ici de trouver l'équation d'une droite qui minimise l'écart entre la droite et les points.\n",
    "\n",
    "Trouver quelle est la droite qui est la plus proche des points suivants:\n",
    "$(-10, -37), (-6, -7), (-2, -21), (2, 9), (6, 3)$\n",
    "Vous afficherez les points ainsi que la droite trouvée.\n"
   ]
  },
  {
   "cell_type": "code",
   "execution_count": 7,
   "metadata": {},
   "outputs": [],
   "source": [
    "Mat=matrix([[1,-10],[1,-6],[1,-2],[1,2],[1,6]])\n",
    "Vect=vector([-37,-7,-21,9,3])\n",
    "\n",
    "# Mat.solve_right(Vect) -> no solutions"
   ]
  },
  {
   "cell_type": "code",
   "execution_count": 8,
   "metadata": {},
   "outputs": [
    {
     "data": {
      "text/html": [
       "<html><script type=\"math/tex; mode=display\">\\newcommand{\\Bold}[1]{\\mathbf{#1}}\\left(\\begin{array}{rr}\n",
       "1 & -10 \\\\\n",
       "1 & -6 \\\\\n",
       "1 & -2 \\\\\n",
       "1 & 2 \\\\\n",
       "1 & 6\n",
       "\\end{array}\\right)</script></html>"
      ],
      "text/plain": [
       "[  1 -10]\n",
       "[  1  -6]\n",
       "[  1  -2]\n",
       "[  1   2]\n",
       "[  1   6]"
      ]
     },
     "metadata": {},
     "output_type": "display_data"
    },
    {
     "data": {
      "text/html": [
       "<html><script type=\"math/tex; mode=display\">\\newcommand{\\Bold}[1]{\\mathbf{#1}}\\left(\\begin{array}{rr}\n",
       "5 & -10 \\\\\n",
       "-10 & 180\n",
       "\\end{array}\\right)</script></html>"
      ],
      "text/plain": [
       "[  5 -10]\n",
       "[-10 180]"
      ]
     },
     "metadata": {},
     "output_type": "display_data"
    },
    {
     "data": {
      "text/html": [
       "<html><script type=\"math/tex; mode=display\">\\newcommand{\\Bold}[1]{\\mathbf{#1}}\\left(-\\frac{29}{5},\\,\\frac{12}{5}\\right)</script></html>"
      ],
      "text/plain": [
       "(-29/5, 12/5)"
      ]
     },
     "metadata": {},
     "output_type": "display_data"
    },
    {
     "data": {
      "image/png": "[encoded data removed]",
      "text/plain": [
       "Graphics object consisting of 1 graphics primitive"
      ]
     },
     "metadata": {},
     "output_type": "display_data"
    }
   ],
   "source": [
    "H = Mat.transpose() * Mat\n",
    "c = Mat.transpose() * Vect\n",
    "show(Mat)\n",
    "show(H)\n",
    "\n",
    "show(H.solve_right(c))\n",
    "\n",
    "F3(x) = H.solve_right(c)[1]*x + H.solve_right(c)[0]\n",
    "show(plot(F3,-5,5))"
   ]
  },
  {
   "cell_type": "markdown",
   "metadata": {
    "deletable": false,
    "editable": false,
    "run_control": {
     "frozen": true
    }
   },
   "source": [
    "### Question\n",
    "\n",
    "Faite la même chose pour trouver un polynôme de degrès 3 qui est le plus proche des points suivants:\n",
    "$(-2,3),(-1,7),(0,4),(3,1),(4,4),(5,5)$\n",
    "\n",
    "Comme précémment vous afficherez les points ainsi que la fonction  𝑓(𝑥)  correspondant au polynôme pour  $𝑥∈[−3,7]$."
   ]
  },
  {
   "cell_type": "code",
   "execution_count": 9,
   "metadata": {
    "scrolled": true
   },
   "outputs": [
    {
     "data": {
      "text/html": [
       "<html><script type=\"math/tex; mode=display\">\\newcommand{\\Bold}[1]{\\mathbf{#1}}\\left(\\begin{array}{rrrr}\n",
       "-8 & 4 & -2 & 1 \\\\\n",
       "-1 & 1 & -1 & 1 \\\\\n",
       "0 & 0 & 0 & 1 \\\\\n",
       "27 & 9 & 3 & 1 \\\\\n",
       "64 & 16 & 4 & 1 \\\\\n",
       "125 & 25 & 5 & 1\n",
       "\\end{array}\\right) \\verb|*| \\left(\\begin{array}{r}\n",
       "\\frac{209}{1530} \\\\\n",
       "-\\frac{1603}{3230} \\\\\n",
       "-\\frac{12094}{14535} \\\\\n",
       "\\frac{4927}{969}\n",
       "\\end{array}\\right) - \\left(\\begin{array}{r}\n",
       "3 \\\\\n",
       "7 \\\\\n",
       "4 \\\\\n",
       "1 \\\\\n",
       "4 \\\\\n",
       "5\n",
       "\\end{array}\\right) \\verb|=| \\left(\\begin{array}{r}\n",
       "\\frac{650}{969} \\\\\n",
       "-\\frac{1663}{969} \\\\\n",
       "\\frac{1051}{969} \\\\\n",
       "\\frac{785}{969} \\\\\n",
       "-\\frac{1397}{969} \\\\\n",
       "\\frac{574}{969}\n",
       "\\end{array}\\right)</script></html>"
      ],
      "text/plain": [
       "[ -8   4  -2   1]\n",
       "[ -1   1  -1   1]\n",
       "[  0   0   0   1]\n",
       "[ 27   9   3   1]\n",
       "[ 64  16   4   1]\n",
       "[125  25   5   1] '*' [    209/1530]\n",
       "[  -1603/3230]\n",
       "[-12094/14535]\n",
       "[    4927/969] '-' [3]\n",
       "[7]\n",
       "[4]\n",
       "[1]\n",
       "[4]\n",
       "[5] '=' [  650/969]\n",
       "[-1663/969]\n",
       "[ 1051/969]\n",
       "[  785/969]\n",
       "[-1397/969]\n",
       "[  574/969]"
      ]
     },
     "metadata": {},
     "output_type": "display_data"
    },
    {
     "name": "stdout",
     "output_type": "stream",
     "text": [
      "norme euclidienne = 2*sqrt(1855/969) ~= 2.7672\n"
     ]
    }
   ],
   "source": [
    "def euclide(v):\n",
    "    res = 0\n",
    "    for i in range(len(v.rows())):\n",
    "        res += (v[i][0])^2\n",
    "    return sqrt(res)\n",
    "\n",
    "A = matrix(QQ, 6, 4, [(-2)**3, (-2)**2, (-2), 1, (-1)**3, (-1)**2, (-1), 1, 0, 0, 0, 1, 3^3, 3^2, 3, 1, 4^3, 4^2, 4, 1, 5^3, 5^2, 5, 1])\n",
    "b = matrix(QQ, 6, 1, [3, 7, 4, 1, 4, 5])\n",
    "            \n",
    "A_t = A.transpose()\n",
    "H = A_t * A\n",
    "c = A_t * b\n",
    "\n",
    "pt_x = H.solve_right(c)\n",
    "res = A*pt_x - b\n",
    "show(A,\"*\",pt_x,\"-\",b,\"=\",res)\n",
    "print(\"norme euclidienne =\",euclide(res),\"~=\",euclide(res).n(20))\n",
    "\n"
   ]
  },
  {
   "cell_type": "code",
   "execution_count": 10,
   "metadata": {},
   "outputs": [
    {
     "data": {
      "image/png": "[encoded data removed]",
      "text/plain": [
       "Graphics object consisting of 7 graphics primitives"
      ]
     },
     "execution_count": 10,
     "metadata": {},
     "output_type": "execute_result"
    }
   ],
   "source": [
    "aff = plot(pt_x[0][0]*(x^3) + pt_x[1][0]*(x**2) + pt_x[2][0]*x + pt_x[3][0], (x, -3, 6))\n",
    "aff += point([-2, 3], color=\"green\")\n",
    "aff += point([-1, 7], color=\"green\")\n",
    "aff += point([0, 4], color=\"green\")\n",
    "aff += point([3, 1], color=\"green\")\n",
    "aff += point([4, 4], color=\"green\")\n",
    "aff += point([5, 5], color=\"green\")\n",
    "aff"
   ]
  },
  {
   "cell_type": "markdown",
   "metadata": {
    "deletable": false,
    "editable": false,
    "run_control": {
     "frozen": true
    }
   },
   "source": [
    "## Réécriture d'un vecteur à partir d'autres vecteurs.\n",
    "Étant donné un ensemble de vecteur $v_1,\\dots,v_n$ on peut se poser la question de savoir si il est possible d'écrire un autre vecteur $u$ à partir de combinaison linéaire des vecteurs $v_i$. \n"
   ]
  },
  {
   "cell_type": "markdown",
   "metadata": {
    "deletable": false,
    "editable": false,
    "run_control": {
     "frozen": true
    }
   },
   "source": [
    "### question\n",
    "On considére les vecteurs à coefficients dans le corps finis à 3 éléments (`GF(3)` en Sage est équivalement aux entiers modulo 3) donnés ci-dessous\n",
    "$$\n",
    "v_1=\\begin{pmatrix} 0 \\\\ 1 \\\\2 \\end{pmatrix},\n",
    "v_2=\\begin{pmatrix} 1 \\\\ 0 \\\\1 \\end{pmatrix},\n",
    "v_3=\\begin{pmatrix} 1 \\\\ 1 \\\\1 \\end{pmatrix}\n",
    "$$\n",
    "\n",
    "Construisez la liste des vecteurs qui peuvent s'écrire comme combinaison linéaire de $v_1,v_2,v_3$, câd tous les vecteurs $\\alpha_1 v_1 +\\alpha_2  v_2 + \\alpha_3 v_3$ avec $\\alpha_1,\\alpha_2,\\alpha_3$ des scalaires dans $\\{0,1,2\\}$. Attention, les calculs doivent se faire modulo 3 et il faut éviter les doublons. Combien de vecteurs trouvez vous ?\n"
   ]
  },
  {
   "cell_type": "code",
   "execution_count": 11,
   "metadata": {},
   "outputs": [
    {
     "data": {
      "text/html": [
       "<html><script type=\"math/tex; mode=display\">\\newcommand{\\Bold}[1]{\\mathbf{#1}}\\left[\\left(0,\\,0,\\,0\\right), \\left(1,\\,1,\\,1\\right), \\left(2,\\,2,\\,2\\right), \\left(1,\\,0,\\,1\\right), \\left(2,\\,1,\\,2\\right), \\left(0,\\,2,\\,0\\right), \\left(2,\\,0,\\,2\\right), \\left(0,\\,1,\\,0\\right), \\left(1,\\,2,\\,1\\right), \\left(0,\\,1,\\,2\\right), \\left(1,\\,2,\\,0\\right), \\left(2,\\,0,\\,1\\right), \\left(1,\\,1,\\,0\\right), \\left(2,\\,2,\\,1\\right), \\left(0,\\,0,\\,2\\right), \\left(2,\\,1,\\,1\\right), \\left(0,\\,2,\\,2\\right), \\left(1,\\,0,\\,0\\right), \\left(0,\\,2,\\,1\\right), \\left(1,\\,0,\\,2\\right), \\left(2,\\,1,\\,0\\right), \\left(1,\\,2,\\,2\\right), \\left(2,\\,0,\\,0\\right), \\left(0,\\,1,\\,1\\right), \\left(2,\\,2,\\,0\\right), \\left(0,\\,0,\\,1\\right), \\left(1,\\,1,\\,2\\right)\\right]</script></html>"
      ],
      "text/plain": [
       "[(0, 0, 0),\n",
       " (1, 1, 1),\n",
       " (2, 2, 2),\n",
       " (1, 0, 1),\n",
       " (2, 1, 2),\n",
       " (0, 2, 0),\n",
       " (2, 0, 2),\n",
       " (0, 1, 0),\n",
       " (1, 2, 1),\n",
       " (0, 1, 2),\n",
       " (1, 2, 0),\n",
       " (2, 0, 1),\n",
       " (1, 1, 0),\n",
       " (2, 2, 1),\n",
       " (0, 0, 2),\n",
       " (2, 1, 1),\n",
       " (0, 2, 2),\n",
       " (1, 0, 0),\n",
       " (0, 2, 1),\n",
       " (1, 0, 2),\n",
       " (2, 1, 0),\n",
       " (1, 2, 2),\n",
       " (2, 0, 0),\n",
       " (0, 1, 1),\n",
       " (2, 2, 0),\n",
       " (0, 0, 1),\n",
       " (1, 1, 2)]"
      ]
     },
     "metadata": {},
     "output_type": "display_data"
    }
   ],
   "source": [
    "v1=vector([0,1,2])\n",
    "v2=vector([1,0,1])\n",
    "v3=vector([1,1,1])\n",
    "cl=[]\n",
    "for a1 in GF(3) :\n",
    "    for a2 in GF(3) :\n",
    "        for a3 in GF(3) :\n",
    "            vtmp= v1*a1 + v2*a2 + v3*a3\n",
    "            if(cl.count(vtmp) <= 0):\n",
    "                cl.append(vtmp)\n",
    "\n",
    "show(cl)\n"
   ]
  },
  {
   "cell_type": "markdown",
   "metadata": {
    "deletable": false,
    "editable": false,
    "run_control": {
     "frozen": true
    }
   },
   "source": [
    "### question\n",
    "Faite la même chose avec en remplacant le vecteur $v_3$ par le vecteur $v_4=\\begin{pmatrix} 1 \\\\ 1 \\\\0 \\end{pmatrix}$. \n",
    "- Que remarquez vous ? \n",
    "- Essayer de donner une explication à partir des valeurs de $v_1,v_2$ et $v_4$"
   ]
  },
  {
   "cell_type": "code",
   "execution_count": 12,
   "metadata": {},
   "outputs": [
    {
     "data": {
      "text/html": [
       "<html><script type=\"math/tex; mode=display\">\\newcommand{\\Bold}[1]{\\mathbf{#1}}\\left[\\left(0,\\,0,\\,0\\right), \\left(1,\\,1,\\,0\\right), \\left(2,\\,2,\\,0\\right), \\left(1,\\,0,\\,1\\right), \\left(2,\\,1,\\,1\\right), \\left(0,\\,2,\\,1\\right), \\left(2,\\,0,\\,2\\right), \\left(0,\\,1,\\,2\\right), \\left(1,\\,2,\\,2\\right)\\right]</script></html>"
      ],
      "text/plain": [
       "[(0, 0, 0),\n",
       " (1, 1, 0),\n",
       " (2, 2, 0),\n",
       " (1, 0, 1),\n",
       " (2, 1, 1),\n",
       " (0, 2, 1),\n",
       " (2, 0, 2),\n",
       " (0, 1, 2),\n",
       " (1, 2, 2)]"
      ]
     },
     "metadata": {},
     "output_type": "display_data"
    }
   ],
   "source": [
    "v4=vector([1,1,0])\n",
    "cl=[]\n",
    "for a1 in GF(3) :\n",
    "    for a2 in GF(3) :\n",
    "        for a3 in GF(3) :\n",
    "            vtmp= v1*a1 + v2*a2 + v4*a3\n",
    "            if(cl.count(vtmp) <= 0):\n",
    "                cl.append(vtmp)\n",
    "\n",
    "show(cl)\n"
   ]
  },
  {
   "cell_type": "code",
   "execution_count": null,
   "metadata": {},
   "outputs": [],
   "source": []
  },
  {
   "cell_type": "markdown",
   "metadata": {
    "deletable": false,
    "editable": false,
    "run_control": {
     "frozen": true
    }
   },
   "source": [
    "Vous venez d'entrevoir la notion de dimension d'un espace vectoriel, c'est à dire le nombre minimal de vecteurs permettant de définir cet espace. Autrement dit, la taille d'une famille libre de cet espace. Cette information est accessible en construisant la matrice constituées des vecteurs données et en calculant son rang: `A.rank()` ou `A` est une matrice."
   ]
  },
  {
   "cell_type": "markdown",
   "metadata": {
    "deletable": false,
    "editable": false,
    "run_control": {
     "frozen": true
    }
   },
   "source": [
    "### Question \n",
    "Construisez les matrices $A_1$ et $A_2$ à partir des vecteurs $v_1,v_2,v_3$ et $v_4$ données précédemment.\n",
    "Les lignes de $A_1$ correspondent à $v_1,v_2,v_3$ et celles de $A_2$ à $v_1,v_2,v_4$. \n",
    "Retrouver le nombre de vecteurs des questions précédentes à partit du rang de ces matrices.\n"
   ]
  },
  {
   "cell_type": "code",
   "execution_count": 13,
   "metadata": {},
   "outputs": [
    {
     "data": {
      "text/html": [
       "<html><script type=\"math/tex; mode=display\">\\newcommand{\\Bold}[1]{\\mathbf{#1}}\\left(\\begin{array}{rrr}\n",
       "0 & 1 & 2 \\\\\n",
       "1 & 0 & 1 \\\\\n",
       "1 & 1 & 1\n",
       "\\end{array}\\right)</script></html>"
      ],
      "text/plain": [
       "[0 1 2]\n",
       "[1 0 1]\n",
       "[1 1 1]"
      ]
     },
     "metadata": {},
     "output_type": "display_data"
    },
    {
     "data": {
      "text/html": [
       "<html><script type=\"math/tex; mode=display\">\\newcommand{\\Bold}[1]{\\mathbf{#1}}\\left(\\begin{array}{rrr}\n",
       "0 & 1 & 2 \\\\\n",
       "1 & 0 & 1 \\\\\n",
       "1 & 1 & 0\n",
       "\\end{array}\\right)</script></html>"
      ],
      "text/plain": [
       "[0 1 2]\n",
       "[1 0 1]\n",
       "[1 1 0]"
      ]
     },
     "metadata": {},
     "output_type": "display_data"
    }
   ],
   "source": [
    "A1=matrix(GF(3),3,3,[v1,v2,v3])\n",
    "\n",
    "show(A1)\n",
    "A2=matrix(GF(3),3,3,[v1,v2,v4])\n",
    "\n",
    "\n",
    "show(A2)"
   ]
  },
  {
   "cell_type": "markdown",
   "metadata": {
    "deletable": false,
    "editable": false,
    "run_control": {
     "frozen": true
    }
   },
   "source": [
    "Pour déduire la dépendance entre les vecteurs, on peut s'appuyer sur la méthode 'right_kernel()' qui pour une matrice donnée $A \\in \\mathbb{K}^{m \\times n}$ retourne l'espace des vecteurs de $\\mathbb{K}^n$ qui annule cette matrice par multiplication à droite. C'est à dire \n",
    "\n",
    "$$\n",
    "\\operatorname{kernel}(A) =v \\in \\mathbb{K}^n \\mbox{ tel que } Av = 0 \\in \\mathbb{K}^m\n",
    "$$\n",
    "\n",
    "Attention, cet espace de vecteur est considéré par Sage comme un objet algébrique. Il faut donc utiliser la méthode 'basis_matrix()' pour récupérer une matrice définissant une base de cet espace."
   ]
  },
  {
   "cell_type": "markdown",
   "metadata": {
    "deletable": false,
    "editable": false,
    "run_control": {
     "frozen": true
    }
   },
   "source": [
    "### Question\n",
    "Retrouvez la combinaison linéaire entre $v_1,v_2$ et $v_4$ trouver précédemment. Vous utiliserez `print` pour afficher l'égalité."
   ]
  },
  {
   "cell_type": "code",
   "execution_count": 14,
   "metadata": {},
   "outputs": [
    {
     "data": {
      "text/html": [
       "<html><script type=\"math/tex; mode=display\">\\newcommand{\\Bold}[1]{\\mathbf{#1}}\\left(\\begin{array}{rrr}\n",
       "0 & 1 & 1 \\\\\n",
       "1 & 0 & 1 \\\\\n",
       "2 & 1 & 0\n",
       "\\end{array}\\right)</script></html>"
      ],
      "text/plain": [
       "[0 1 1]\n",
       "[1 0 1]\n",
       "[2 1 0]"
      ]
     },
     "metadata": {},
     "output_type": "display_data"
    },
    {
     "data": {
      "text/html": [
       "<html><script type=\"math/tex; mode=display\">\\newcommand{\\Bold}[1]{\\mathbf{#1}}\\left(\\begin{array}{rrr}\n",
       "1 & 1 & 2\n",
       "\\end{array}\\right)</script></html>"
      ],
      "text/plain": [
       "[1 1 2]"
      ]
     },
     "metadata": {},
     "output_type": "display_data"
    },
    {
     "name": "stdout",
     "output_type": "stream",
     "text": [
      "[0 0 0]\n"
     ]
    }
   ],
   "source": [
    "show(A2.transpose())\n",
    "kerA2 = A2.transpose().right_kernel().basis_matrix()\n",
    "show(kerA2)\n",
    "print(kerA2*A2)"
   ]
  },
  {
   "cell_type": "markdown",
   "metadata": {
    "deletable": false,
    "editable": false,
    "run_control": {
     "frozen": true
    }
   },
   "source": [
    "## Méthode d'élimination de Gauss\n",
    "Bien évidemment, la méthode de calcul exhaustif  employée précédemment ne peut être utilisée si l'on considère un domaine de calul de taille infini comme les entiers ou les rationnels, ou même avec une espace fini de grande taille comme les flottants double précision. En effet, la complexité est exponentielle en le nombre de vecteurs.\n",
    "\n",
    "La méthode d'élimination de Gauss, aussi appelée pivot de Gauss, est une solution algorithmique qui permet de rester dans une complexité polynomiale pour calculer la dépendance linéaire de vecteurs. L'idée est très simple: l'objectif est de rendre certaines entrées d'un vecteur à 0 en faisant des combinaisons linéaire 2 à 2.\n",
    "\n",
    "Par exemple, avec $v_1=[1,2,3]$ et $v_2=[1,4,5]$ à coefficient dans les entiers, on a $v_1-v_2=[0 -2 -2]$. Par construction, on sait que  l'ensemble des combinaisons linéaires de $v_1,v_2$ est équivalent à celui de $v_1,v_1-v_2$ ou $v_1-v_2, v_2$.\n",
    "Comme $v_1-v_2$ a un zero dans sa 1ère composante et que ce n'est pas le cas de $v_1$ ou $v_2$ alors il est linéairement indépendant de $v_1$ et $v_2$.\n",
    "\n",
    "Le procédé de l'élimination de Gauss consite donc à ajouter à un vecteur $v$ un multiple d'un autre vecteur $u$, tel qu'une composante du nouveau vecteur soit nul. L'élimination de Gauss est l'algorithme qui est utilisé par la fonction `basis_matrix()`. Nous allons découvrir comment fonctionne cet algorithme."
   ]
  },
  {
   "cell_type": "markdown",
   "metadata": {
    "deletable": false,
    "editable": false,
    "run_control": {
     "frozen": true
    }
   },
   "source": [
    "### Question\n",
    "Écrire une fonction `combineVect(u,v,i)` qui prend en entrée deux vecteur $u$ et $v$ de même dimension $n$ tel que $i<n$ et $u[i]\\neq 0$. Cette fonction retourne un nouveau vecteur $r=v+\\alpha u$ tel que l'entrée en position $i$ du vecteur $r$ soit nulle.  \n",
    "\n",
    "Vous testerez votre fonction sur les lignes de la matrice $A$ suivante définie sur $\\mathbb{Q}$:\n",
    "\n",
    "$$A=\n",
    "\\begin{pmatrix}\n",
    "2/3 & 1 & 5 \\\\\n",
    "1 & 1/5 & 8 \\\\\n",
    "5 & 1/2 & 3/4\n",
    "\\end{pmatrix}.\n",
    "$$\n",
    "Votre objectif est de modifier la matrice pour mettre des zero sous la diagonale. \n",
    "En notant $l_0, l_1$ et $l_2$ les lignes de la matrice A, on va devoir:\n",
    "- ajouter un multiple de $l_0$ à $l_1$ et $l_2$ pour mettre un 0 dans leur 1ère composante\n",
    "- ajouter un multiple de $l_1$ à $l_2$ pour mettre un 0 dans sa 2ème composante\n",
    "\n",
    "*Aide: on récupère une copie de la ligne i avec la méthode `A.row(i)`*"
   ]
  },
  {
   "cell_type": "code",
   "execution_count": 4,
   "metadata": {},
   "outputs": [
    {
     "data": {
      "text/html": [
       "<html><script type=\"math/tex; mode=display\">\\newcommand{\\Bold}[1]{\\mathbf{#1}}\\verb|A|\\phantom{\\verb!x!}\\verb|=| \\left(\\begin{array}{rrr}\n",
       "\\frac{2}{3} & 1 & 5 \\\\\n",
       "1 & \\frac{1}{5} & 8 \\\\\n",
       "5 & \\frac{1}{2} & \\frac{3}{4}\n",
       "\\end{array}\\right)</script></html>"
      ],
      "text/plain": [
       "'A =' [2/3   1   5]\n",
       "[  1 1/5   8]\n",
       "[  5 1/2 3/4]"
      ]
     },
     "metadata": {},
     "output_type": "display_data"
    },
    {
     "data": {
      "text/html": [
       "<html><script type=\"math/tex; mode=display\">\\newcommand{\\Bold}[1]{\\mathbf{#1}}\\verb|I1|\\phantom{\\verb!x!}\\verb|+|\\phantom{\\verb!x!}\\verb|a*I0|\\phantom{\\verb!x!}\\verb|=| \\left(\\begin{array}{rrr}\n",
       "\\frac{2}{3} & 1 & 5 \\\\\n",
       "0 & -\\frac{13}{10} & \\frac{1}{2} \\\\\n",
       "5 & \\frac{1}{2} & \\frac{3}{4}\n",
       "\\end{array}\\right)</script></html>"
      ],
      "text/plain": [
       "'I1 + a*I0 =' [   2/3      1      5]\n",
       "[     0 -13/10    1/2]\n",
       "[     5    1/2    3/4]"
      ]
     },
     "metadata": {},
     "output_type": "display_data"
    },
    {
     "data": {
      "text/html": [
       "<html><script type=\"math/tex; mode=display\">\\newcommand{\\Bold}[1]{\\mathbf{#1}}\\verb|I2|\\phantom{\\verb!x!}\\verb|+|\\phantom{\\verb!x!}\\verb|a*I0|\\phantom{\\verb!x!}\\verb|=| \\left(\\begin{array}{rrr}\n",
       "\\frac{2}{3} & 1 & 5 \\\\\n",
       "0 & -\\frac{13}{10} & \\frac{1}{2} \\\\\n",
       "0 & -7 & -\\frac{147}{4}\n",
       "\\end{array}\\right)</script></html>"
      ],
      "text/plain": [
       "'I2 + a*I0 =' [   2/3      1      5]\n",
       "[     0 -13/10    1/2]\n",
       "[     0     -7 -147/4]"
      ]
     },
     "metadata": {},
     "output_type": "display_data"
    },
    {
     "data": {
      "text/html": [
       "<html><script type=\"math/tex; mode=display\">\\newcommand{\\Bold}[1]{\\mathbf{#1}}\\verb|I2|\\phantom{\\verb!x!}\\verb|+|\\phantom{\\verb!x!}\\verb|a*I1|\\phantom{\\verb!x!}\\verb|=| \\left(\\begin{array}{rrr}\n",
       "\\frac{2}{3} & 1 & 5 \\\\\n",
       "0 & -\\frac{13}{10} & \\frac{1}{2} \\\\\n",
       "0 & 0 & -\\frac{2051}{52}\n",
       "\\end{array}\\right)</script></html>"
      ],
      "text/plain": [
       "'I2 + a*I1 =' [     2/3        1        5]\n",
       "[       0   -13/10      1/2]\n",
       "[       0        0 -2051/52]"
      ]
     },
     "metadata": {},
     "output_type": "display_data"
    }
   ],
   "source": [
    "def combineVect(u, v, i):\n",
    "    return v - (v[i]/u[i])*u\n",
    "\n",
    "A = matrix(3, 3, [2/3, 1, 5, 1, 1/5, 8, 5, 1/2, 3/4])\n",
    "show(\"A =\",A)\n",
    "A[1,:] = combineVect(A.row(0), A.row(1), 0)\n",
    "show(\"I1 + a*I0 =\",A)\n",
    "A[2,:] = combineVect(A.row(0), A.row(2), 0)\n",
    "show(\"I2 + a*I0 =\",A)\n",
    "A[2,:] = combineVect(A.row(1), A.row(2), 1)\n",
    "show(\"I2 + a*I1 =\",A)"
   ]
  },
  {
   "cell_type": "markdown",
   "metadata": {
    "deletable": false,
    "editable": false,
    "run_control": {
     "frozen": true
    }
   },
   "source": [
    "De manière plus générale, pour savoir si un vecteur $u$ peut s'écrire comme une combinaison linéaire d'autres vecteur $v_1, \\dots, v_m$, il suffit de construire la matrice\n",
    "\n",
    "$$\n",
    "A=\n",
    "\\begin{pmatrix}\n",
    "&&v_1&&\\\\\n",
    "&&v_2&&\\\\\n",
    "&&\\vdots&&\\\\\n",
    "&&v_m&&\\\\\n",
    "&&u&&\n",
    "\\end{pmatrix}\n",
    "$$\n",
    "est d'essayer de mettre des zero sous la diagonale comme précédemment. Si après ce procédé la dernière ligne de $A$ est nulle alors $u$ peut s'écrire comme une combinaison linéaire des $v_i$."
   ]
  },
  {
   "cell_type": "markdown",
   "metadata": {
    "deletable": false,
    "editable": false,
    "run_control": {
     "frozen": true
    }
   },
   "source": [
    "### Question\n",
    "Écrire un  fonction `dependanceLineaire([v1,...,vm,u])` qui teste si le vecteur $u$ peut s'écrire comme une combinaison linéaire des vecteurs $v_i$. Autrement dit, la fonction cherche une dépendance linéaire entre le dernier vecteur de la liste et tous les autres\n",
    "\n",
    "Pour écrire votre fonction, vous proposerez une généralisation du calcul fait à la question précédente.\n",
    "\n",
    "Vous testerez votre fonction avec la liste $L= [v_3,v_2, v_1,u]$ pour $u=[2,1,2]$."
   ]
  },
  {
   "cell_type": "code",
   "execution_count": 16,
   "metadata": {},
   "outputs": [
    {
     "data": {
      "text/html": [
       "<html><script type=\"math/tex; mode=display\">\\newcommand{\\Bold}[1]{\\mathbf{#1}}\\left(\\begin{array}{rrr}\n",
       "1 & 1 & 1 \\\\\n",
       "1 & 0 & 1 \\\\\n",
       "0 & 1 & 2 \\\\\n",
       "2 & 1 & 2\n",
       "\\end{array}\\right)</script></html>"
      ],
      "text/plain": [
       "[1 1 1]\n",
       "[1 0 1]\n",
       "[0 1 2]\n",
       "[2 1 2]"
      ]
     },
     "metadata": {},
     "output_type": "display_data"
    },
    {
     "data": {
      "text/html": [
       "<html><script type=\"math/tex; mode=display\">\\newcommand{\\Bold}[1]{\\mathbf{#1}}\\left(\\begin{array}{rrr}\n",
       "1 & 1 & 1 \\\\\n",
       "0 & 2 & 0 \\\\\n",
       "0 & 0 & 2 \\\\\n",
       "0 & 0 & 0\n",
       "\\end{array}\\right)</script></html>"
      ],
      "text/plain": [
       "[1 1 1]\n",
       "[0 2 0]\n",
       "[0 0 2]\n",
       "[0 0 0]"
      ]
     },
     "metadata": {},
     "output_type": "display_data"
    }
   ],
   "source": [
    "def dependanceLineaire(Vs):\n",
    "    A = matrix(Vs)\n",
    "    show(A)\n",
    "    for i in range(1, len(Vs)):\n",
    "        for j in range(i):\n",
    "            ligne = j\n",
    "            while (ligne >= 0) and (A.row(ligne)[j] == 0):\n",
    "                ligne -= 1\n",
    "            A[i,:] = combineVect(A.row(ligne), A.row(i), j)\n",
    "    return A\n",
    "\n",
    "\n",
    "\n",
    "v1 = vector(GF(3), 3, [0, 1, 2])\n",
    "v2 = vector(GF(3), 3, [1, 0, 1])\n",
    "v3 = vector(GF(3), 3, [1, 1, 1])\n",
    "u = vector(GF(3), 3, [2, 1, 2])\n",
    "\n",
    "Lis = [v3, v2, v1, u]\n",
    "dep = dependanceLineaire(Lis)\n",
    "show(dep)"
   ]
  },
  {
   "cell_type": "code",
   "execution_count": null,
   "metadata": {},
   "outputs": [],
   "source": []
  },
  {
   "cell_type": "markdown",
   "metadata": {
    "deletable": false,
    "editable": false,
    "run_control": {
     "frozen": true
    }
   },
   "source": [
    "Tester votre fonction en inversant l'ordre des éléments de la liste: $L= [v_1,v_2, v_3, u]$. *Attention, il est normal que votre fonction ne marche pas.*"
   ]
  },
  {
   "cell_type": "code",
   "execution_count": 6,
   "metadata": {},
   "outputs": [],
   "source": [
    "L = [v1, v2, v3, u]\n",
    "#dependanceLineaire(L)\n",
    "#div par 0"
   ]
  },
  {
   "cell_type": "markdown",
   "metadata": {
    "deletable": false,
    "editable": false,
    "run_control": {
     "frozen": true
    }
   },
   "source": [
    "Votre fonction ne marche plus car il n'est pas garantie que lors l'appel à la fonction `combineVect` l'entrée $A[i,i]$ sur la diagonale de la matrice soit non nulle. Lorsque ce problème arrive, il suffit de trouver une ligne $j>i$ de la matrice $A$ telle que $A[j,i]\\neq 0$ et d'échanger ces deux lignes. La fonction `A.swap_rows(i,j)` vous permettra de faire cette échange. Si il n'y aucune ligne à échanger cela signifie que toutes les i-ème composantes sont toutes nulles et qu'on peut donc changer de composante qu'on doit mettre à 0. Attention, on n'échanche pas avec la dernière ligne qui correspond à $u$."
   ]
  },
  {
   "cell_type": "markdown",
   "metadata": {
    "deletable": false,
    "editable": false,
    "run_control": {
     "frozen": true
    }
   },
   "source": [
    "### Question\n",
    "Écrire une nouvelle fonction `dependanceLineaire([v1,...,vm,u])` qui prenne en compte ces échanges de lignes. Vous la testerez sur l'exemple précédent qui ne fonctionnait pas (votre fonction doit retourner `true` pour cet exemple). "
   ]
  },
  {
   "cell_type": "code",
   "execution_count": 7,
   "metadata": {},
   "outputs": [],
   "source": [
    "def dependanceLineaire2(lVect):\n",
    "    i = 1\n",
    "    continuer = True\n",
    "    while i<len(lVect) and continuer:\n",
    "        j = 0\n",
    "        while j<i and lVect[i][j] == 0:\n",
    "            j += 1\n",
    "        if j == i:\n",
    "            i+=1\n",
    "        else:\n",
    "            continuer = False\n",
    "    if i == len(lVect):\n",
    "        u = lVect[-1]\n",
    "        print(lVect)\n",
    "        for el in u:\n",
    "            if el != 0:\n",
    "                return False\n",
    "        return True\n",
    "    i -= 1\n",
    "    vc = lVect[i]\n",
    "    if vc[i] == 0:\n",
    "        j = i+1\n",
    "        while j < len(lVect)-1 and lVect[j][i] == 0:\n",
    "            j += 1\n",
    "        if j < len(lVect)-1:\n",
    "            lVect[i] = lVect[j]\n",
    "            lVect[j] = vc\n",
    "        return dependanceLineaire2(lVect)\n",
    "    for j in range(i+1,len(lVect)):\n",
    "        lVect[j] = combineVect(vc, lVect[j], i)\n",
    "    return dependanceLineaire2(lVect)\n",
    "#c'est parti en cacahuètes\n",
    "#on recommence\n",
    "def dependanceLineaire3(lVect):\n",
    "    i = 1\n",
    "    while i<len(lVect) and lVect[i][i-1] == 0:\n",
    "        i+=1\n",
    "    if i == len(lVect):\n",
    "        print(\"fin:\",lVect)\n",
    "        u = lVect[-1]\n",
    "        for el in u:\n",
    "            if el != 0:\n",
    "                return False\n",
    "        return True\n",
    "    i -= 1\n",
    "    vc = lVect[i]\n",
    "    print(\"lvect:\", lVect)\n",
    "    print(\"vc:\", vc)\n",
    "    if vc[i] == 0:\n",
    "        j = i+1\n",
    "        while j < len(lVect)-1 and lVect[j][i] == 0:\n",
    "            j += 1\n",
    "        print(\"preswap:\",lVect)\n",
    "        if j < len(lVect)-1:\n",
    "            lVect[i] = lVect[j]\n",
    "            lVect[j] = vc\n",
    "            print(\"swap:\",lVect)\n",
    "            vc = lVect[i]\n",
    "        else:\n",
    "            return dependanceLineaire3(lVect)\n",
    "    print(\"i:\", i)\n",
    "    for j in range(i+1,len(lVect)):\n",
    "        print(\"change\",j,lVect[j])\n",
    "        lVect[j] = combineVect(vc, lVect[j], i)\n",
    "        print(\"change\",j,lVect[j])\n",
    "    return dependanceLineaire3(lVect)"
   ]
  },
  {
   "cell_type": "code",
   "execution_count": 8,
   "metadata": {},
   "outputs": [
    {
     "name": "stdout",
     "output_type": "stream",
     "text": [
      "lvect: [(0, 1, 2), (1, 0, 1), (1, 1, 1), (2, 1, 2)]\n",
      "vc: (0, 1, 2)\n",
      "preswap: [(0, 1, 2), (1, 0, 1), (1, 1, 1), (2, 1, 2)]\n",
      "swap: [(1, 0, 1), (0, 1, 2), (1, 1, 1), (2, 1, 2)]\n",
      "i: 0\n",
      "change 1 (0, 1, 2)\n",
      "change 1 (0, 1, 2)\n",
      "change 2 (1, 1, 1)\n",
      "change 2 (0, 1, 0)\n",
      "change 3 (2, 1, 2)\n",
      "change 3 (0, 1, 0)\n",
      "lvect: [(1, 0, 1), (0, 1, 2), (0, 1, 0), (0, 1, 0)]\n",
      "vc: (0, 1, 2)\n",
      "i: 1\n",
      "change 2 (0, 1, 0)\n",
      "change 2 (0, 0, -2)\n",
      "change 3 (0, 1, 0)\n",
      "change 3 (0, 0, -2)\n",
      "lvect: [(1, 0, 1), (0, 1, 2), (0, 0, -2), (0, 0, -2)]\n",
      "vc: (0, 0, -2)\n",
      "i: 2\n",
      "change 3 (0, 0, -2)\n",
      "change 3 (0, 0, 0)\n",
      "fin: [(1, 0, 1), (0, 1, 2), (0, 0, -2), (0, 0, 0)]\n"
     ]
    },
    {
     "data": {
      "text/plain": [
       "True"
      ]
     },
     "execution_count": 8,
     "metadata": {},
     "output_type": "execute_result"
    }
   ],
   "source": [
    "dependanceLineaire3([v1,v2,v3,u])"
   ]
  },
  {
   "cell_type": "markdown",
   "metadata": {
    "deletable": false,
    "editable": false,
    "run_control": {
     "frozen": true
    }
   },
   "source": [
    "### Question\n",
    "Tester votre nouvelle fonction sur la liste $L= [v_4,v_2, v_1, u]$. Votre fonction doit retourner `false` pour cet exemple)."
   ]
  },
  {
   "cell_type": "code",
   "execution_count": 9,
   "metadata": {},
   "outputs": [
    {
     "name": "stdout",
     "output_type": "stream",
     "text": [
      "lvect: [(1, 1, 0), (1, 0, 1), (0, 1, 2), (2, 1, 2)]\n",
      "vc: (1, 1, 0)\n",
      "i: 0\n",
      "change 1 (1, 0, 1)\n",
      "change 1 (0, -1, 1)\n",
      "change 2 (0, 1, 2)\n",
      "change 2 (0, 1, 2)\n",
      "change 3 (2, 1, 2)\n",
      "change 3 (0, -1, 2)\n",
      "lvect: [(1, 1, 0), (0, -1, 1), (0, 1, 2), (0, -1, 2)]\n",
      "vc: (0, -1, 1)\n",
      "i: 1\n",
      "change 2 (0, 1, 2)\n",
      "change 2 (0, 0, 3)\n",
      "change 3 (0, -1, 2)\n",
      "change 3 (0, 0, 1)\n",
      "lvect: [(1, 1, 0), (0, -1, 1), (0, 0, 3), (0, 0, 1)]\n",
      "vc: (0, 0, 3)\n",
      "i: 2\n",
      "change 3 (0, 0, 1)\n",
      "change 3 (0, 0, 0)\n",
      "fin: [(1, 1, 0), (0, -1, 1), (0, 0, 3), (0, 0, 0)]\n"
     ]
    },
    {
     "data": {
      "text/plain": [
       "True"
      ]
     },
     "execution_count": 9,
     "metadata": {},
     "output_type": "execute_result"
    }
   ],
   "source": [
    " v4 = vector([1,1,0])\n",
    "dependanceLineaire3([v4,v2,v1,u])"
   ]
  },
  {
   "cell_type": "markdown",
   "metadata": {
    "deletable": false,
    "editable": false,
    "run_control": {
     "frozen": true
    }
   },
   "source": [
    "On souhaite maintenant trouver les valeurs de la combinaison linéaire\n",
    "permettant de réécrire un vecteur $u$ en fonction des vecteurs $[v_1,\\dots,v_m]$, lorsque cela est possible, câd $u= \\alpha_1 v_1+\\alpha_2 v2 + \\dots + \\alpha_m v_m$.\n",
    "\n",
    "Pour cela il va falloir conserver toutes les réécriture des lignes qui sont faites avec les appels à la fonction `combineVect`. En effet, à chaque étape `i` on a calculé $u=u+\\alpha_i v_i$ tel que $u[i]$ soit nul mais les vecteur $v_i$ ont eux aussi été modifiés de telle sorte que  $v_i= v_i+\\sum_{k<i} \\beta_k v_k$. Il faut donc pouvoir conserver la ré-écriture de tous les $v_i$. Une facon simple de conserver ces réécritures est de faire le calcul sur la matrice augmentée à droite par une matrice identité de taille $m+1$.\n",
    "\n",
    "$$\n",
    "A=\n",
    "\\begin{pmatrix}\n",
    "&&v_1&& 1&&&&\\\\\n",
    "&&v_2&& &1&&&\\\\\n",
    "&&\\vdots&&&&\\ddots&&\\\\\n",
    "&&v_m&& &&&1&\\\\\n",
    "&&u&& &&&&1\n",
    "\\end{pmatrix}\n",
    "$$\n",
    "\n",
    "Si on applique notre méthode pour mettre des zéro sous la diagonale, la matrice identité conservera toutes les réécriture des vecteurs. En particulier, la dernière ligne permettra de trouver facilement les coefficients $\\alpha_i$ demandés."
   ]
  },
  {
   "cell_type": "markdown",
   "metadata": {
    "deletable": false,
    "editable": false,
    "run_control": {
     "frozen": true
    }
   },
   "source": [
    "### Question\n",
    "Proposer une nouvelle fonction `findDependanceLineaire(u,[v1,...,vm])` qui retourne le vecteur $[\\alpha_1,\\dots,\\alpha_m]$ tel que $u=\\alpha_1v_1+\\dots+\\alpha_mv_m$. Si il n'y pas de dépendance linéaire vous renverrez `None`.\n",
    "\n",
    "Vous vérifierez votre réponse pour $L= [v_3,v_2, v_1,u]$ et $L= [v_4,v_2, v_1,u]$"
   ]
  },
  {
   "cell_type": "code",
   "execution_count": 10,
   "metadata": {},
   "outputs": [],
   "source": [
    "def dependanceLineaire4(lVect):\n",
    "    i = 1\n",
    "    while i<len(lVect) and lVect[i][i-1] == 0:\n",
    "        i+=1\n",
    "    if i == len(lVect):\n",
    "        return lVect\n",
    "    i -= 1\n",
    "    vc = lVect[i]\n",
    "    if vc[i] == 0:\n",
    "        j = i+1\n",
    "        while j < len(lVect)-1 and lVect[j][i] == 0:\n",
    "            j += 1\n",
    "        if j < len(lVect)-1:\n",
    "            lVect[i] = lVect[j]\n",
    "            lVect[j] = vc\n",
    "            vc = lVect[i]\n",
    "        else:\n",
    "            return dependanceLineaire4(lVect)\n",
    "    for j in range(i+1,len(lVect)):\n",
    "        lVect[j] = combineVect(vc, lVect[j], i)\n",
    "    return dependanceLineaire4(lVect)\n",
    "\n",
    "def findDependanceLineaire(u, lVect):\n",
    "    m = len(lVect)\n",
    "    lines = []\n",
    "    for i in range(m):\n",
    "        lines.append(vector([j for j in lVect[i]]+[0 if j!=i else 1 for j in range(m+1)]))\n",
    "    lines.append(vector([j for j in u]+[0 if j!=m else 1 for j in range(m+1)]))\n",
    "    print(lines)\n",
    "    dependanceLineaire4(lines)\n",
    "    print(lines)\n",
    "    u2 = lines[-1]\n",
    "    for i in range(len(u)):\n",
    "        if u2[i] != 0:\n",
    "            return None\n",
    "    res = []\n",
    "    for i in range(len(u), len(u)+m):\n",
    "        res.append(-u2[i])\n",
    "    return res"
   ]
  },
  {
   "cell_type": "code",
   "execution_count": 11,
   "metadata": {},
   "outputs": [
    {
     "name": "stdout",
     "output_type": "stream",
     "text": [
      "[(1, 1, 1, 1, 0, 0, 0), (1, 0, 1, 0, 1, 0, 0), (0, 1, 2, 0, 0, 1, 0), (2, 1, 2, 0, 0, 0, 1)]\n",
      "[(1, 1, 1, 1, 0, 0, 0), (0, -1, 0, -1, 1, 0, 0), (0, 0, 2, -1, 1, 1, 0), (0, 0, 0, -1, -1, 0, 1)]\n"
     ]
    },
    {
     "data": {
      "text/plain": [
       "[1, 1, 0]"
      ]
     },
     "execution_count": 11,
     "metadata": {},
     "output_type": "execute_result"
    }
   ],
   "source": [
    " findDependanceLineaire(u, [v3, v2, v1])"
   ]
  },
  {
   "cell_type": "code",
   "execution_count": 12,
   "metadata": {},
   "outputs": [
    {
     "name": "stdout",
     "output_type": "stream",
     "text": [
      "[(1, 1, 0, 1, 0, 0, 0), (1, 0, 1, 0, 1, 0, 0), (0, 1, 2, 0, 0, 1, 0), (2, 1, 2, 0, 0, 0, 1)]\n",
      "[(1, 1, 0, 1, 0, 0, 0), (0, -1, 1, -1, 1, 0, 0), (0, 0, 3, -1, 1, 1, 0), (0, 0, 0, -2/3, -4/3, -1/3, 1)]\n"
     ]
    },
    {
     "data": {
      "text/plain": [
       "[2/3, 4/3, 1/3]"
      ]
     },
     "execution_count": 12,
     "metadata": {},
     "output_type": "execute_result"
    }
   ],
   "source": [
    "findDependanceLineaire(u, [v4, v2, v1])"
   ]
  },
  {
   "cell_type": "code",
   "execution_count": null,
   "metadata": {},
   "outputs": [],
   "source": []
  },
  {
   "cell_type": "markdown",
   "metadata": {
    "deletable": false,
    "editable": false,
    "run_control": {
     "frozen": true
    }
   },
   "source": [
    "## Rang d'une matrice avec l'élimination de Gauss\n",
    "\n",
    "La méthode d'élimination de Gauss vu précédemment permet également d'inverser une matrice (quand elle est inversible). Attention, l'inverse d'une matrice $A$ n'existe que si $A$ est carrée et que toutes les lignes sont linéairement indépendantes. On retrouve encore la notion de rang. \n",
    "\n",
    "Le rang d'une matrice est le nombre minimal de lignes (ou de colonnes) qui permet de représenter la famille\n",
    "des vecteurs lignes (ou colonnes) définie par la matrice.\n"
   ]
  },
  {
   "cell_type": "markdown",
   "metadata": {
    "deletable": false,
    "editable": false,
    "run_control": {
     "frozen": true
    }
   },
   "source": [
    "### Question\n",
    "On peut facilement modifier la méthode de Gauss vu précédemment pour calculer le rang puisqu'il suffit encore une fois de mettre des zéros sous la diagonale. La différence est que maintenant on s'autorise à faire des échanges de lignes avec la dernière ligne. À l'issue de l'élimination, il suffit de compter le nombre de lignes non-nulles pour avoir le rang.\n",
    "\n",
    "Écrire une fonction `myRank(A)` qui calcule le rang de A en utilisant l'élimination de Gauss vu précédemment.\n"
   ]
  },
  {
   "cell_type": "code",
   "execution_count": 13,
   "metadata": {},
   "outputs": [],
   "source": [
    "def dependanceLineaire5(lVect):\n",
    "    i = 1\n",
    "    while i<len(lVect) and lVect[i][i-1] == 0:\n",
    "        i+=1\n",
    "    if i == len(lVect):\n",
    "        return lVect\n",
    "    i -= 1\n",
    "    vc = lVect[i]\n",
    "    if vc[i] == 0:\n",
    "        j = i+1\n",
    "        while j < len(lVect) and lVect[j][i] == 0:\n",
    "            j += 1\n",
    "        if j < len(lVect)-1:\n",
    "            lVect[i] = lVect[j]\n",
    "            lVect[j] = vc\n",
    "            vc = lVect[i]\n",
    "        else:\n",
    "            return dependanceLineaire5(lVect)\n",
    "    for j in range(i+1,len(lVect)):\n",
    "        lVect[j] = combineVect(vc, lVect[j], i)\n",
    "    return dependanceLineaire5(lVect)\n",
    "\n",
    "def myRank(A):\n",
    "    lines = []\n",
    "    for i in range(A.nrows()):\n",
    "        lines.append(vector(A.row(i)))\n",
    "    B = dependanceLineaire5(lines)\n",
    "    rang = 0\n",
    "    for l in B:\n",
    "        nonNul = False\n",
    "        for el in l:\n",
    "            if el != 0:\n",
    "                nonNul = True\n",
    "        if nonNul:\n",
    "            rang += 1\n",
    "    return rang"
   ]
  },
  {
   "cell_type": "code",
   "execution_count": null,
   "metadata": {},
   "outputs": [],
   "source": []
  },
  {
   "cell_type": "markdown",
   "metadata": {
    "deletable": false,
    "editable": false,
    "run_control": {
     "frozen": true
    }
   },
   "source": [
    "### Question\n",
    "Construisez des matrices aléatoires rectangulaires de taille $m \\times n$ qui ne sont pas de rang maximal. Vous vérifierez que leur rang est $< \\operatorname{min}(m,n)$ et qu'il est identique à celui calculé par la methode `rank` de Sage.  **Aide:** pour construire une matrice $A$ de rang non maximal, il suffit de construire une matrice aléatoire $B$ de taille plus petite que A et de rajouter des lignes ou des colonnes qui seront des combinaisons linéaires des lignes (ou colonnes) de B. \n",
    "\n",
    "**Rappel:** lorsque'on multiplie deux matrices A et B, leur produit réprésente à la fois:\n",
    "- une combinaison linéaire des colonnes de A\n",
    "- une combinaison linéaire des lignes de B"
   ]
  },
  {
   "cell_type": "code",
   "execution_count": 15,
   "metadata": {},
   "outputs": [],
   "source": [
    " import random\n",
    "\n",
    "def matriceAleatoire(m,n,base=QQ):\n",
    "    B = []\n",
    "    for i in range(3):\n",
    "        B.append([random.randint(0,99) for j in range(n)])\n",
    "    B = matrix(base,3,n,B)\n",
    "    A = []\n",
    "    for i in range(m):\n",
    "        A.append([random.randint(0,99) for j in range(3)])\n",
    "    A = matrix(base,m,3,A)\n",
    "    return A*B\n",
    "\n",
    "for i in range(1000):\n",
    "    M = matriceAleatoire(8,16)\n",
    "    if M.rank() != myRank(M):\n",
    "        print(M)"
   ]
  },
  {
   "cell_type": "markdown",
   "metadata": {
    "deletable": false,
    "editable": false,
    "run_control": {
     "frozen": true
    }
   },
   "source": [
    "## Inversion d'une matrice par Gauss\n",
    "\n",
    "Pour inverser une matrice carré, nous allons reprendre la méthode d'élimination de Gauss utilisée pour trouver les combinaisons linéaires de vecteurs. Cette fois-ci on va augmenter la matrice à droite avec une matrice identité et on va essayer de mettre de zero au dessus et au-dessous de la diagonale et également mettre des 1 sur la diagonale.\n",
    "\n",
    "$$\n",
    "A=\n",
    "\\begin{pmatrix}\n",
    "* & * & * & * \\\\\n",
    "* & * & * & * \\\\\n",
    "* & * & * & * \\\\\n",
    "* & * & * & * \\\\\n",
    "\\end{pmatrix}\n",
    "\\Longrightarrow\n",
    "\\begin{pmatrix}A & I \\end{pmatrix} =\n",
    "\\begin{pmatrix}\n",
    "* & * & * & * & 1& & & \\\\\n",
    "* & * & * & * &  &1 & &\\\\\n",
    "* & * & * & * &  &  &1 &\\\\\n",
    "* & * & * & * &  &  & &1\\\\\n",
    "\\end{pmatrix}\n",
    "$$\n",
    "\n",
    "$$\n",
    "\\Longrightarrow\n",
    "Gauss(\n",
    "\\begin{pmatrix}A & I \\end{pmatrix}) =\n",
    "\\begin{pmatrix}\n",
    " 1& & & & * & * & * & * \\\\\n",
    "  &1 & & & * & * & * & * \\\\\n",
    "  &  &1 & & * & * & * & * \\\\\n",
    "  &  & &  1& * & * & * & * \\\\\n",
    "\\end{pmatrix}= \\begin{pmatrix}I & A^{-1} \\end{pmatrix} \n",
    "$$\n",
    "\n",
    "Comme précédemment, on utilisera la fonction `combineVect` pour modifier une ligne en lui ajoutant un multiple d'une autre pour mettre un zero à une certaine position. Pour mettre un 1 en position $(i,i)$ dans la matrice $A$, il suffit de multiplier la ligne $i$ de A par l'inverse de l'élément $A[i,i]$."
   ]
  },
  {
   "cell_type": "markdown",
   "metadata": {
    "deletable": false,
    "editable": false,
    "run_control": {
     "frozen": true
    }
   },
   "source": [
    "### Question\n",
    "\n",
    "Écrire la fonction `myInverse(A)` qui calculer l'inverse d'une matrice carrée. Attention, vous devrez vérifier en premier que la matrice est carré. Bien entendu, il faudra s'assurer que la matrice est bien inversible, mais l'élimination de Gauss nous permettra de le savoir. En effet, il suffira de vérifier qu'à la fin de l'algorithme vous obtenez bien la matrice identité sur la partie gauche de la matrice augmentée. Si telle est le cas, la matrice est inversible et son inverse est dans la partie droite de la matrice augmentée, sinon cela signifie que la matrice n'est pas inversible.\n"
   ]
  },
  {
   "cell_type": "code",
   "execution_count": 16,
   "metadata": {},
   "outputs": [
    {
     "data": {
      "text/plain": [
       "[     3/2    15/13   60/293]\n",
       "[       0   -10/13 -20/2051]\n",
       "[       0        0 -52/2051]"
      ]
     },
     "execution_count": 16,
     "metadata": {},
     "output_type": "execute_result"
    }
   ],
   "source": [
    "def dependanceLineaireVersLeBas(M):\n",
    "    i = 1    \n",
    "    while i<M.nrows() and M[i][i-1] == 0:\n",
    "        i+=1\n",
    "    if i == M.nrows():\n",
    "        return M\n",
    "    i -= 1\n",
    "    vc = M.row(i)\n",
    "    if vc[i] == 0:\n",
    "        j = i+1\n",
    "        while j < M.nrows() and M[j][i] == 0:\n",
    "            j += 1\n",
    "        if j < M.nrows()-1:\n",
    "            M.swap_rows(i,j)\n",
    "        else:\n",
    "            return dependanceLineaireVersLeBas(M)\n",
    "    for j in range(i+1,M.nrows()):\n",
    "        M[j] = combineVect(vc, M.row(j), i)\n",
    "    return dependanceLineaireVersLeBas(M)\n",
    "\n",
    "def dependanceLineaireVersLeHaut(M):\n",
    "    i = M.nrows()-2\n",
    "    while i>=0 and M[i][i+1] == 0:\n",
    "        i-=1\n",
    "    if i == -1:\n",
    "        return M\n",
    "    i += 1\n",
    "    vc = M.row(i)\n",
    "    if vc[i] == 0:\n",
    "        j = i-1\n",
    "        while j >= 0 and M[j][i] == 0:\n",
    "            j -= 1\n",
    "        if j >= 0:\n",
    "            M.swap_rows(i,j)\n",
    "        else:\n",
    "            return dependanceLineaireVersLeHaut(M)\n",
    "    for j in range(i-1,-1,-1):\n",
    "        M[j] = combineVect(vc, M.row(j), i)\n",
    "    return dependanceLineaireVersLeHaut(M)\n",
    "\n",
    "def unificationDiagonale(M):\n",
    "    for i in range(M.nrows()):\n",
    "        if M[i][i] != 0:\n",
    "            M[i] = M.row(i)/M[i][i]\n",
    "    return M\n",
    "\n",
    "def myInverse(A):\n",
    "    base = A.base_ring()\n",
    "    if A.nrows() != A.ncols():\n",
    "        return \"Matrice pas carrée, je fais rien\"\n",
    "    lines = []\n",
    "    for i in range(A.nrows()):\n",
    "        lines.append([j for j in A.row(i)] + [0 if j!=i else 1 for j in range(A.ncols())])\n",
    "    G = matrix(base, A.nrows(), A.ncols()*2, lines)\n",
    "    dependanceLineaireVersLeBas(G)\n",
    "    dependanceLineaireVersLeHaut(G)\n",
    "    unificationDiagonale(G)\n",
    "    lines = []\n",
    "    for i in range(A.nrows()):\n",
    "        lines.append([G[i][j] for j in range(A.nrows(), 2*A.nrows())])\n",
    "    I = matrix(base, A.nrows(), A.ncols(), lines)\n",
    "    return I\n",
    "    \n",
    "myInverse(A)"
   ]
  },
  {
   "cell_type": "code",
   "execution_count": null,
   "metadata": {},
   "outputs": [],
   "source": []
  },
  {
   "cell_type": "code",
   "execution_count": null,
   "metadata": {},
   "outputs": [],
   "source": []
  },
  {
   "cell_type": "markdown",
   "metadata": {
    "deletable": false,
    "editable": false,
    "run_control": {
     "frozen": true
    }
   },
   "source": [
    "## Une formule récursive  pour le calcul de l'inverse\n",
    "\n",
    "En considérant la matrice  $ A= \n",
    "\\begin{pmatrix}\n",
    "a & b\\\\\n",
    "c & d\\\\\n",
    "\\end{pmatrix}\n",
    "\\,\\mbox{et le symbole }\\,\n",
    "S=d-ca^{-1}b\n",
    "$\n",
    "\n",
    "on peut facilement définir l'inverse \n",
    "$$\n",
    "A^{-1}= \n",
    "\\begin{pmatrix}\n",
    "1 & -a^{-1}b\\\\\n",
    "0 & 1\\\\\n",
    "\\end{pmatrix}\n",
    "\\begin{pmatrix}\n",
    "a^{-1} & 0\\\\\n",
    "0 & S^{-1}\\\\\n",
    "\\end{pmatrix}\n",
    "\\begin{pmatrix}\n",
    "1 & 0\\\\\n",
    "-ca^{-1} & 1\\\\\n",
    "\\end{pmatrix}\n",
    "$$\n",
    "\n",
    "\n"
   ]
  },
  {
   "cell_type": "markdown",
   "metadata": {
    "deletable": false,
    "editable": false,
    "run_control": {
     "frozen": true
    }
   },
   "source": [
    "### Question\n",
    "\n",
    "En utilisant le domaine `SymbolicRing` (`SR`) prouver la formule donnée précédemment (de deux manières différentes).\n"
   ]
  },
  {
   "cell_type": "code",
   "execution_count": 17,
   "metadata": {},
   "outputs": [
    {
     "data": {
      "text/plain": [
       "True"
      ]
     },
     "execution_count": 17,
     "metadata": {},
     "output_type": "execute_result"
    }
   ],
   "source": [
    "var('a','b','c','d')\n",
    "S = d - c*(a**-1)*b\n",
    "A = matrix(SR,2,2,[[a,b],[c,d]])\n",
    "AI = myInverse(A)\n",
    "AI2 = matrix(SR,2,2,[[1,(-a**-1)*b],[0,1]]) * matrix(SR,2,2,[[a**-1,0],[0,S**-1]]) * matrix(SR,2,2,[[1,0],[-c*(a**-1),1]])\n",
    "AI2 == AI"
   ]
  },
  {
   "cell_type": "markdown",
   "metadata": {
    "deletable": false,
    "editable": false,
    "run_control": {
     "frozen": true
    }
   },
   "source": [
    "### Généralisation de la récurrence aux matrices\n",
    "À partir de cette formule d'inversion de matrice $2\\times 2$, nous pouvons  définir un algorithme récursif.\n",
    "En effet, si la dimension $n$ d'une matrice $H$ est paire alors on peut découper la matrice $H$ en 4 blocs correspondants à des matrices de taille $\\frac{n}{2}\\times\\frac{n}{2}$\n",
    "\n",
    "$$\n",
    "H=\n",
    "\\begin{pmatrix}\n",
    "A & B\\\\\n",
    "C & D\\\\\n",
    "\\end{pmatrix}\n",
    "$$\n",
    "\n",
    "On peut donc appliquer la formule ci-dessus pour calculer l'inverse en calculant récursivement $A^{-1}$ et $S^{-1}= (D-CA^{-1}B)^{-1}$. Bien entendu, la récurrence ne sera valide que si $n=2^k$ et elle s'arrètera pour $n=1$ où il est facile de retourner l'inverse."
   ]
  },
  {
   "cell_type": "markdown",
   "metadata": {
    "deletable": false,
    "editable": false,
    "run_control": {
     "frozen": true
    }
   },
   "source": [
    "### Question\n",
    "\n",
    "Défininir la fonction `myInverseRec(H)` qui calcule l'inverse de la matrice $H$ en appliquant la méthode ci-dessus. Cette fonction ne marchera que pour des dimensions de matrices qui seront des puissances de 2."
   ]
  },
  {
   "cell_type": "code",
   "execution_count": 18,
   "metadata": {},
   "outputs": [
    {
     "data": {
      "text/plain": [
       "True"
      ]
     },
     "execution_count": 18,
     "metadata": {},
     "output_type": "execute_result"
    }
   ],
   "source": [
    "#construit [[A, B], [C, D]]\n",
    "def construitMoiUneMatrice(A, B, C, D, base, n):\n",
    "    line1 = []\n",
    "    line2 = []\n",
    "    for i in range(n):\n",
    "        line1.append([A[i][j] for j in range(n)]+[B[i][j] for j in range(n)])\n",
    "        line2.append([C[i][j] for j in range(n)]+[D[i][j] for j in range(n)])\n",
    "    return matrix(base, 2*n, 2*n, line1+line2)\n",
    "\n",
    "def myInverseRec(H):\n",
    "    if H.nrows() == 1:\n",
    "        inv = 0\n",
    "        if H[0][0] != 0:\n",
    "            inv = 1/H[0][0]\n",
    "        H[0] = vector(H.base_ring(), [inv])\n",
    "        return H\n",
    "    n = H.nrows()/2\n",
    "    lA = []\n",
    "    lB = []\n",
    "    lC = []\n",
    "    lD = []\n",
    "    for i in range(n):\n",
    "        lA.append([H[i][j] for j in range(n)])\n",
    "        lB.append([H[i][j] for j in range(n,2*n)])\n",
    "        lC.append([H[i+n][j] for j in range(n)])\n",
    "        lD.append([H[i+n][j] for j in range(n,2*n)])\n",
    "    A = matrix(H.base_ring(),n,n,lA)\n",
    "    B = matrix(H.base_ring(),n,n,lB)\n",
    "    C = matrix(H.base_ring(),n,n,lC)\n",
    "    D = matrix(H.base_ring(),n,n,lD)\n",
    "    IA = myInverseRec(A)\n",
    "    S = (D-C*IA*B)\n",
    "    IS = myInverseRec(S)\n",
    "    M1 = matrix(n,n,[[1 if i==j else 0 for j in range(n)] for i in range(n)])\n",
    "    M0 = matrix(n,n,[[0 for _ in range(n)] for _ in range(n)])\n",
    "    base = H.base_ring()\n",
    "    I1 = construitMoiUneMatrice(M1, -IA*B, M0, M1, base, n)\n",
    "    I2 = construitMoiUneMatrice(IA, M0, M0, IS, base, n)\n",
    "    I3 = construitMoiUneMatrice(M1, M0, -C*IA, M1, base, n)\n",
    "    return I1*I2*I3\n",
    "    \n",
    "myInverseRec(matrix(SR,2,2,[['a','b'],['c','d']])) == AI"
   ]
  },
  {
   "cell_type": "markdown",
   "metadata": {
    "deletable": false,
    "editable": false,
    "run_control": {
     "frozen": true
    }
   },
   "source": [
    "### Question\n",
    "Tester votre fonction pour des matrices aléatoires de taille $2^k$ pour $1<k<8$ à coefficient dans le corps finis à 65537 éléments `GF(65537)`."
   ]
  },
  {
   "cell_type": "code",
   "execution_count": 19,
   "metadata": {
    "scrolled": false
   },
   "outputs": [
    {
     "name": "stdout",
     "output_type": "stream",
     "text": [
      "Something went horribly wrong...\n",
      "matrice d'origine:\n",
      "[45323 35094 63083  7245 36994 37921 21263 38936 34132 45659 22785 33484 55006 46631 47470 53881]\n",
      "[49871 50982  4018 60182 24876 60277 43177 26188  5144 15874 22301 11353  7827 50552 24846 35592]\n",
      "[21976 49873 54712 38429 34462  8574  6253 63251 22429 58563 33145 49074  1155 28661 49776 53655]\n",
      "[52405 52162 40256  9285   276 17326  2182 49809 39272 51246 46809 29078 58326  4555  9115  7928]\n",
      "[22183 43580  2003 50358 58669 17820 32612 57509 51633  9006 58082 35971  3236 49535 15485 50034]\n",
      "[28073 53909 31525  4569 64744 40189 15151  4679 22209 47086 35455 61430 34622  9327 12115 40746]\n",
      "[44862 60448 58318 19390 30170 32308  9784 45333 32944 64207 31125 10682 44419 38257 37653 29792]\n",
      "[16007 58685 27266 29170 37405 62894 61418 31802 60495  5220 19322   287 60849 25863 19783 13518]\n",
      "[37078 42999 29045 49457 33965  7929 23711  9144 37059 18153 14032 13169    43  4241 21072 15616]\n",
      "[12411 52532 45146 44143 54348 24449 23314 39358 59508 11010 49396 59614  7110 14262 31592 53610]\n",
      "[24001 39611  2825 17106  4660 42937 30951 27114 35670 60260 60859 43261  9736 61282  2581  6763]\n",
      "[ 1924 10675 22546 28482 25067 24714 36473 30906 35364 20908 40717 23456 12258 26569  7868 24263]\n",
      "[60098 17897 59984 63020 28771 35460 51025  4303 25950 58927 51526 29072 26180 57320 44674 52174]\n",
      "[30736 55213 15871 54005 31323 43752 47396 64767 39957 49558 42353 27481  2616 26861 25129 13063]\n",
      "[31484  3360 33700 60909 60760 56322 35254 29189 45188  8075 38927  8633 20109 35494 43909 56926]\n",
      "[58266 20120 57551 44323 63807  5299 21569 55942 63944 54682 52248 61346 29177  2756 46349 49856]\n",
      "Inversion régulière:\n",
      "[28462  4900 37797 58489 19026 11177  8883  9983 21299  1929 46631 43368 32135 60550  6910 56826]\n",
      "[11385 45638 21714 55859 18543 59988 53394 36366 52841 21011 38851 38535 48147 49621 16167 50438]\n",
      "[ 3807 48626 29204 16676  9171 42902 55990 60785  6708 33305 24478 45744 63576  9395 27673 36942]\n",
      "[ 7926  8421 24726 22347 47336 32016 14651 30750 24586 12714  2021 51035 60653 39898 41624 53889]\n",
      "[61105 25469 13829 39313 60121 49975 48739 32665 23452 63270 43015 44688 52770 12360 25607 49200]\n",
      "[57746 35678  2854 44738 46910  3746 21595 48334 22186 19849 43009 45187 29381  5282 47025 21978]\n",
      "[ 2953 21775 27175 58131 40486 40224 24900 59294  7770 47961 54426 48480 12653 41715 41710 54325]\n",
      "[52678  4743 28185 17653 38480 27344 45843  9555  3207 65345 28838  8950 31586  3102 16901  6571]\n",
      "[30865 36927  2713 30151 22134 42690   338 48453   980 26114 52147  1375 25535 27058 59863 17672]\n",
      "[20235 52431 48560 37640 35850 59450 42621 22010 54933 15175 58187 57362   687 18397 27218 28557]\n",
      "[16627 48924 11479 22611  1525 12221 37318 52835 27693  5368  1000 62908 56818 50185  7173  3461]\n",
      "[31970  7576 41387 22315 28316  3843 34400 58880  8542 27788 49057 47256  4539 53154 44866 42930]\n",
      "[  404 18198 38318 35923 58372  6886 36332 35503 42766  4749 30063 49788 46466 18013 46265  4988]\n",
      "[45109 11022 42320 45349 45112 21405  3430 18953  6744 61915 17780 35228 50708 32777 45239  7348]\n",
      "[12328 12597 62126 29137 36613 20499 32006 43273 60207  3071 36102 28618 24675 45781 20790 60670]\n",
      "[ 9016 28303 63989 13603  3888 25977  5555 36373 37796 31772   484 48217  6755  7932 21365  2178]\n",
      "Inversion récursive:\n",
      "[28462  4900 37797 58489 19026 11177  8883  9983 21299  1929 46631 43368 32135 60550  6910 56826]\n",
      "[11385 45638 21714 55859 18543 59988 53394 36366 52841 21011 38851 38535 48147 49621 16167 50438]\n",
      "[ 3807 48626 29204 16676  9171 42902 55990 60785  6708 33305 24478 45744 63576  9395 27673 36942]\n",
      "[ 7926  8421 24726 22347 47336 32016 14651 30750 24586 12714  2021 51035 60653 39898 41624 53889]\n",
      "[61105 25469 13829 39313 60121 49975 48739 32665 23452 63270 43015 44688 52770 12360 25607 49200]\n",
      "[57746 35678  2854 44738 46910  3746 21595 48334 22186 19849 43009 45187 29381  5282 47025 21978]\n",
      "[ 2953 21775 27175 58131 40486 40224 24900 59294  7770 47961 54426 48480 12653 41715 41710 54325]\n",
      "[52678  4743 28185 17653 38480 27344 45843  9555  3207 65345 28838  8950 31586  3102 16901  6571]\n",
      "[30865 36927  2713 30151 22134 42690   338 48453   980 26114 52147  1375 25535 27058 59863 17672]\n",
      "[20235 52431 48560 37640 35850 59450 42621 22010 54933 15175 58187 57362   687 18397 27218 28557]\n",
      "[16627 48924 11479 22611  1525 12221 37318 52835 27693  5368  1000 62908 56818 50185  7173  3461]\n",
      "[31970  7576 41387 22315 28316  3843 34400 58880  8542 27788 49057 47256  4539 53154 44866 42930]\n",
      "[  404 18198 38318 35923 58372  6886 36332 35503 42766  4749 30063 49788 46466 18013 46265  4988]\n",
      "[45109 11022 42320 45349 45112 21405  3430 18953  6744 61915 17780 35228 50708 32777 45239  7348]\n",
      "[12328 12597 62126 29137 36613 20499 32006 43273 60207  3071 36102 28618 24675 45781 20790 60670]\n",
      "[ 9016 28303 63989 13603  3888 25977  5555 36373 37796 31772   484 48217  6755  7932 21365  2178]\n",
      "Veritable inversion:\n",
      "[28462  4900 37797 58489 19026 11177  8883  9983 21299  1929 46631 43368 32135 60550  6910 56826]\n",
      "[11385 45638 21714 55859 18543 59988 53394 36366 52841 21011 38851 38535 48147 49621 16167 50438]\n",
      "[ 3807 48626 29204 16676  9171 42902 55990 60785  6708 33305 24478 45744 63576  9395 27673 36942]\n",
      "[ 7926  8421 24726 22347 47336 32016 14651 30750 24586 12714  2021 51035 60653 39898 41624 53889]\n",
      "[61105 25469 13829 39313 60121 49975 48739 32665 23452 63270 43015 44688 52770 12360 25607 49200]\n",
      "[57746 35678  2854 44738 46910  3746 21595 48334 22186 19849 43009 45187 29381  5282 47025 21978]\n",
      "[ 2953 21775 27175 58131 40486 40224 24900 59294  7770 47961 54426 48480 12653 41715 41710 54325]\n",
      "[52678  4743 28185 17653 38480 27344 45843  9555  3207 65345 28838  8950 31586  3102 16901  6571]\n",
      "[30865 36927  2713 30151 22134 42690   338 48453   980 26114 52147  1375 25535 27058 59863 17672]\n",
      "[20235 52431 48560 37640 35850 59450 42621 22010 54933 15175 58187 57362   687 18397 27218 28557]\n",
      "[16627 48924 11479 22611  1525 12221 37318 52835 27693  5368  1000 62908 56818 50185  7173  3461]\n",
      "[31970  7576 41387 22315 28316  3843 34400 58880  8542 27788 49057 47256  4539 53154 44866 42930]\n",
      "[  404 18198 38318 35923 58372  6886 36332 35503 42766  4749 30063 49788 46466 18013 46265  4988]\n",
      "[45109 11022 42320 45349 45112 21405  3430 18953  6744 61915 17780 35228 50708 32777 45239  7348]\n",
      "[12328 12597 62126 29137 36613 20499 32006 43273 60207  3071 36102 28618 24675 45781 20790 60670]\n",
      "[ 9016 28303 63989 13603  3888 25977  5555 36373 37796 31772   484 48217  6755  7932 21365  2178]\n"
     ]
    }
   ],
   "source": [
    "def matAleatoireCarree(taille, base):\n",
    "    lines = []\n",
    "    for i in range(taille):\n",
    "        lines.append([randint(0,65536) for _ in range(taille)])\n",
    "    return matrix(base, taille, taille, lines)\n",
    "\n",
    "base = GF(65537)\n",
    "\n",
    "for i in range(1):\n",
    "    k = randint(2,7)\n",
    "    mat = matAleatoireCarree(2**k,base)\n",
    "    while not mat.is_invertible():\n",
    "        k = randint(2,3)\n",
    "        mat = matAleatoireCarree(2**k,base)\n",
    "    IA1 = myInverse(mat)\n",
    "    IA2 = myInverseRec(mat)\n",
    "    if IA1 == IA2:\n",
    "        print(\"Something went horribly wrong...\")\n",
    "        print(\"matrice d'origine:\")\n",
    "        print(mat)\n",
    "        print(\"Inversion régulière:\")\n",
    "        print(IA1)\n",
    "        print(\"Inversion récursive:\")\n",
    "        print(IA2)\n",
    "        print(\"Veritable inversion:\")\n",
    "        print(mat.inverse())"
   ]
  },
  {
   "cell_type": "markdown",
   "metadata": {
    "deletable": false,
    "editable": false,
    "run_control": {
     "frozen": true
    }
   },
   "source": [
    "### Question\n",
    "\n",
    "En utilisant la fonction `%time` comparer le temps de calcul de vos deux fonctions `myInverse` et `myInverseRec`"
   ]
  },
  {
   "cell_type": "code",
   "execution_count": 20,
   "metadata": {},
   "outputs": [
    {
     "name": "stdout",
     "output_type": "stream",
     "text": [
      "CPU times: user 14.5 ms, sys: 0 ns, total: 14.5 ms\n",
      "Wall time: 14.1 ms\n",
      "CPU times: user 23 ms, sys: 0 ns, total: 23 ms\n",
      "Wall time: 22.1 ms\n"
     ]
    },
    {
     "data": {
      "text/plain": [
       "[60759  5800 41194 15463 11494  4670 65484 41518 12721 42887 11351 61874 47234 30556 47096 61145]\n",
       "[34922 16925 53877 51466 53489 33785  1348 18128 64084 21533 57440 47817 21788 45451  7870 27412]\n",
       "[32860  8150 23334 20637 30161 18412 59370 33675 14970 65413 46120 44765 26621 43109   261 48989]\n",
       "[23800 35713 28579 51815 16736  7494 54938 22962 10781  5390 21806  6335 36797 24602 35485  6636]\n",
       "[  228  7483 34937 24991  3264 64046 13808  6229 61468 36711 52956  3936 19156 21637 55581 50068]\n",
       "[50042  6654 63333 36292 31053 21391  2489 32691 38294 34537 46075  1678 13429 19447 17118 23879]\n",
       "[36697 41308  6835 47664 43754 41641 55698 52700 42605 29062 54933 53292  1500 55464 53826 45351]\n",
       "[ 9702 53322 41779 24037 29482 14245 15330 39118 65423 13279 20658 51905 64837 32552 18617  8217]\n",
       "[26243 25061 19100 44730 18479  4039 64144 45392 51329 53894  6694  9199 62732 56669 34656 12291]\n",
       "[24855 22753 64384 10261 38609  7290 58871 17631 31508  9811 18551 10124  9437 22793 51679 11949]\n",
       "[42065 22677 16830 33544 30126 24035 42325 21275 43583 49600 19045  8759 13029 30332 37495 44339]\n",
       "[56825 32562 46417 31277 28967 48690 28302 43248 16199 27666   287 53750 42637 12340 42513 16859]\n",
       "[ 7698  2045 50095 44155 24863 50466 30701  8121 40732 34999 51115 49534 42405 38175 64098 52288]\n",
       "[25595  8668 44347  4279 22351 44278  5594 26517 10231 48132 47471  4324 27044 37507 25467  7175]\n",
       "[58705 23851 42041 43912 26141 11074 35208  4025 55512 35303 34102 52689 20311  2137 45344 45208]\n",
       "[ 4348 44554 41241  6953 41196 22265 53300 24395 35791 32411 43126 23955 59073  1388 39279 15536]"
      ]
     },
     "execution_count": 20,
     "metadata": {},
     "output_type": "execute_result"
    }
   ],
   "source": [
    "mat = matAleatoireCarree(2**4,GF(65537))\n",
    "%time myInverse(mat)\n",
    "%time myInverseRec(mat)"
   ]
  },
  {
   "cell_type": "code",
   "execution_count": null,
   "metadata": {},
   "outputs": [],
   "source": []
  },
  {
   "cell_type": "code",
   "execution_count": null,
   "metadata": {},
   "outputs": [],
   "source": []
  }
 ],
 "metadata": {
  "kernelspec": {
   "display_name": "SageMath 9.0",
   "language": "sage",
   "name": "sagemath"
  },
  "language_info": {
   "codemirror_mode": {
    "name": "ipython",
    "version": 3
   },
   "file_extension": ".py",
   "mimetype": "text/x-python",
   "name": "python",
   "nbconvert_exporter": "python",
   "pygments_lexer": "ipython3",
   "version": "3.8.10"
  },
  "toc": {
   "base_numbering": 1,
   "nav_menu": {},
   "number_sections": true,
   "sideBar": true,
   "skip_h1_title": true,
   "title_cell": "Table of Contents",
   "title_sidebar": "Contents",
   "toc_cell": false,
   "toc_position": {
    "height": "calc(100% - 180px)",
    "left": "10px",
    "top": "150px",
    "width": "341.233px"
   },
   "toc_section_display": true,
   "toc_window_display": true
  },
  "varInspector": {
   "cols": {
    "lenName": 16,
    "lenType": 16,
    "lenVar": 40
   },
   "kernels_config": {
    "python": {
     "delete_cmd_postfix": "",
     "delete_cmd_prefix": "del ",
     "library": "var_list.py",
     "varRefreshCmd": "print(var_dic_list())"
    },
    "r": {
     "delete_cmd_postfix": ") ",
     "delete_cmd_prefix": "rm(",
     "library": "var_list.r",
     "varRefreshCmd": "cat(var_dic_list()) "
    }
   },
   "types_to_exclude": [
    "module",
    "function",
    "builtin_function_or_method",
    "instance",
    "_Feature"
   ],
   "window_display": false
  }
 },
 "nbformat": 4,
 "nbformat_minor": 4
}
