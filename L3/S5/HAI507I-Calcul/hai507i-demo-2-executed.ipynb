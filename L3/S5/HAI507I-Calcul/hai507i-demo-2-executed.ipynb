{
 "cells": [
  {
   "cell_type": "code",
   "execution_count": 1,
   "metadata": {},
   "outputs": [],
   "source": [
    "%display latex\n",
    "%display default"
   ]
  },
  {
   "cell_type": "markdown",
   "metadata": {},
   "source": [
    "## Précision numérique"
   ]
  },
  {
   "cell_type": "markdown",
   "metadata": {},
   "source": [
    "Par défaut, les nombres flottants et les calculs flottants sont fait avec une précision de 53 bits"
   ]
  },
  {
   "cell_type": "code",
   "execution_count": 2,
   "metadata": {
    "scrolled": true
   },
   "outputs": [
    {
     "data": {
      "text/plain": [
       "Real Field with 53 bits of precision"
      ]
     },
     "execution_count": 2,
     "metadata": {},
     "output_type": "execute_result"
    }
   ],
   "source": [
    "a= 3.0\n",
    "a.parent()"
   ]
  },
  {
   "cell_type": "code",
   "execution_count": 3,
   "metadata": {},
   "outputs": [
    {
     "data": {
      "text/plain": [
       "53"
      ]
     },
     "execution_count": 3,
     "metadata": {},
     "output_type": "execute_result"
    }
   ],
   "source": [
    "a.precision()"
   ]
  },
  {
   "cell_type": "code",
   "execution_count": 4,
   "metadata": {},
   "outputs": [
    {
     "data": {
      "text/plain": [
       "Real Field with 53 bits of precision"
      ]
     },
     "execution_count": 4,
     "metadata": {},
     "output_type": "execute_result"
    }
   ],
   "source": [
    "(1.0/3.0).parent()"
   ]
  },
  {
   "cell_type": "code",
   "execution_count": 5,
   "metadata": {},
   "outputs": [
    {
     "name": "stdout",
     "output_type": "stream",
     "text": [
      "1/3 Rational Field\n",
      "0.333333333333333 Real Field with 53 bits of precision\n",
      "0.333333333333333 Real Field with 53 bits of precision\n"
     ]
    }
   ],
   "source": [
    "print(1/3, (1/3).parent())\n",
    "print( (1/3).n(), (1/3).n().parent())\n",
    "print(RR(1/3), RR(1/3).parent())\n"
   ]
  },
  {
   "cell_type": "markdown",
   "metadata": {},
   "source": [
    "Les nombres flottants sont définis comme instance de l'objet `RealField`. On peut spécifier la précision de cette objet."
   ]
  },
  {
   "cell_type": "code",
   "execution_count": 6,
   "metadata": {},
   "outputs": [
    {
     "data": {
      "text/plain": [
       "(53, 10, 200)"
      ]
     },
     "execution_count": 6,
     "metadata": {},
     "output_type": "execute_result"
    }
   ],
   "source": [
    "R=RealField()\n",
    "R10=RealField(10)\n",
    "R200=RealField(200)\n",
    "\n",
    "R.precision(), R10.precision(), R200.precision()"
   ]
  },
  {
   "cell_type": "code",
   "execution_count": 7,
   "metadata": {},
   "outputs": [
    {
     "data": {
      "text/plain": [
       "(3.69670656868857e54,\n",
       " 3.6e54,\n",
       " 3.6967065686885807935368708162449489665828918404074416864066e54)"
      ]
     },
     "execution_count": 7,
     "metadata": {},
     "output_type": "execute_result"
    }
   ],
   "source": [
    "a   = R(3.513)\n",
    "a10 = R10(3.513)\n",
    "a200= R200(3.513)\n",
    "\n",
    "a^100, a10^100, a200^100"
   ]
  },
  {
   "cell_type": "markdown",
   "metadata": {},
   "source": [
    "Calcul de $0.3-0.2-0.1$ avec différentes précisions"
   ]
  },
  {
   "cell_type": "code",
   "execution_count": 8,
   "metadata": {},
   "outputs": [
    {
     "data": {
      "text/plain": [
       "(-2.77555756156289e-17,\n",
       " -0.00012,\n",
       " 7.7787690973264271339300800672251553007378152109014589163764e-62)"
      ]
     },
     "execution_count": 8,
     "metadata": {},
     "output_type": "execute_result"
    }
   ],
   "source": [
    "a,b,c=.3,.2,.1\n",
    "a10,b10,c10=R10(.3),R10(.2),R10(.1)\n",
    "a200,b200,c200=R200(.3),R200(.2),R200(.1)\n",
    "a-b-c,a10-b10-c10,a200-b200-c200"
   ]
  },
  {
   "cell_type": "markdown",
   "metadata": {},
   "source": [
    "**Attention:** \n",
    "- si on ne précise pas RealField, la précision est calculée automatiquement.\n",
    "- si les calculs sont mixtes (opérandes avec différentes précisions), les calculs sont fait dans la plus petite précision"
   ]
  },
  {
   "cell_type": "code",
   "execution_count": 9,
   "metadata": {},
   "outputs": [
    {
     "data": {
      "text/plain": [
       "(143, Real Field with 143 bits of precision)"
      ]
     },
     "execution_count": 9,
     "metadata": {},
     "output_type": "execute_result"
    }
   ],
   "source": [
    "a=0.5555555555554033333333323232323233232111117\n",
    "a.precision(), a.parent()"
   ]
  },
  {
   "cell_type": "code",
   "execution_count": 10,
   "metadata": {},
   "outputs": [
    {
     "data": {
      "text/plain": [
       "(-0.00012, -0.00012)"
      ]
     },
     "execution_count": 10,
     "metadata": {},
     "output_type": "execute_result"
    }
   ],
   "source": [
    "a10-b200-c200, a10-b10-c10"
   ]
  },
  {
   "cell_type": "code",
   "execution_count": 11,
   "metadata": {},
   "outputs": [
    {
     "data": {
      "text/plain": [
       "(3.00000024822111e-11, 3.00000000010000e-11, 3.00000024822111e-11)"
      ]
     },
     "execution_count": 11,
     "metadata": {},
     "output_type": "execute_result"
    }
   ],
   "source": [
    "a= 0.1e-20\n",
    "b= 0.1\n",
    "c= 0.3e-10\n",
    "a+b+c-b,b-b+a+c,a+c+b-b"
   ]
  },
  {
   "cell_type": "markdown",
   "metadata": {},
   "source": [
    "**A RETENIR**\n",
    "> - `RealField(p)` est l'objet définissant les approximations flottantes à précision $p$\n",
    "> - `numerical_approx(expr, p)` ou `n(expr,p)` ou `expr.n(p)` retourne l'approximation flottante de l'expression `expr` à précision `p`\n",
    "> - par défaut `RealField(53)` est utilisé (déjà défini dans `RR`)"
   ]
  },
  {
   "cell_type": "markdown",
   "metadata": {},
   "source": [
    "## Exemple de problème de précision"
   ]
  },
  {
   "cell_type": "markdown",
   "metadata": {},
   "source": [
    "### calcul de racine carré"
   ]
  },
  {
   "cell_type": "code",
   "execution_count": 48,
   "metadata": {},
   "outputs": [
    {
     "name": "stdout",
     "output_type": "stream",
     "text": [
      "l'entier b est codée sur 347 bits\n"
     ]
    },
    {
     "data": {
      "text/plain": [
       "1686961934066707040236155036109474174986501789839001*sqrt(51)"
      ]
     },
     "execution_count": 48,
     "metadata": {},
     "output_type": "execute_result"
    }
   ],
   "source": [
    "a=51\n",
    "b=a^61\n",
    "print(\"l'entier b est codée sur \"+str( b.nbits()) + \" bits\")\n",
    "r=sqrt(b)\n",
    "r"
   ]
  },
  {
   "cell_type": "code",
   "execution_count": 53,
   "metadata": {},
   "outputs": [
    {
     "name": "stdout",
     "output_type": "stream",
     "text": [
      "12047317913813611992216795507023424262776490557440000 12047317913813610588023392961569665056411324497659166\n"
     ]
    },
    {
     "data": {
      "text/plain": [
       "(False, True)"
      ]
     },
     "execution_count": 53,
     "metadata": {},
     "output_type": "execute_result"
    }
   ],
   "source": [
    "s   = R(sqrt(b))\n",
    "s200= R200(sqrt(b))\n",
    "print(floor(s),floor(s200))\n",
    "floor(s)^2 <= b <(floor(s)+1)^2,\\\n",
    "floor(s200)^2 <= b <=(floor(s200)+1)^2"
   ]
  },
  {
   "cell_type": "markdown",
   "metadata": {},
   "source": [
    "## résolution de système d'équations linéaires \n"
   ]
  },
  {
   "cell_type": "code",
   "execution_count": 65,
   "metadata": {},
   "outputs": [],
   "source": [
    "N=2\n",
    "MS=MatrixSpace(QQ,N)\n",
    "VS=VectorSpace(QQ,N)\n",
    "A=MS.random_element(density=1,num_bound=10,den_bound=10)\n",
    "b=VS.random_element(num_bound=100,den_bound=100)\n",
    "V=var(list(\"x\"+ str(i) for i in range(N)))\n",
    "X=vector(V)\n",
    "eq=list((A*X)[i]==b[i] for i in range(N))"
   ]
  },
  {
   "cell_type": "markdown",
   "metadata": {},
   "source": [
    "### La fonction `solve`\n",
    "\n",
    "elle prend une liste d'équations symboliques et une liste d'inconnues"
   ]
  },
  {
   "cell_type": "code",
   "execution_count": 15,
   "metadata": {
    "scrolled": false
   },
   "outputs": [
    {
     "name": "stdout",
     "output_type": "stream",
     "text": [
      "variables: (x0, x1)\n",
      "Equations: [-4/3*x0 + 2/5*x1 == (-9/38), 8*x0 + 7/2*x1 == (-12/7)]\n"
     ]
    }
   ],
   "source": [
    "print(\"variables:\",V)\n",
    "print(\"Equations:\",eq)\n",
    "#for i in range(N):\n",
    "#    print(eq[i])"
   ]
  },
  {
   "cell_type": "code",
   "execution_count": 16,
   "metadata": {},
   "outputs": [
    {
     "data": {
      "text/plain": [
       "[[x0 == (1143/62776), x1 == (-4170/7847)]]"
      ]
     },
     "execution_count": 16,
     "metadata": {},
     "output_type": "execute_result"
    }
   ],
   "source": [
    "sol=solve(eq, V)\n",
    "sol"
   ]
  },
  {
   "cell_type": "markdown",
   "metadata": {},
   "source": [
    "Est-il possible de faire la même chose mais de faire le calcul numériquement ?"
   ]
  },
  {
   "cell_type": "code",
   "execution_count": 17,
   "metadata": {},
   "outputs": [
    {
     "name": "stdout",
     "output_type": "stream",
     "text": [
      "variables: (x0, x1)\n",
      "Equations: [-1.33333333333333*x0 + 0.400000000000000*x1 == -0.236842105263158, 8.00000000000000*x0 + 3.50000000000000*x1 == -1.71428571428571]\n"
     ]
    }
   ],
   "source": [
    "eqf=list((A.n()*X)[i]==b[i].n() for i in range(N))\n",
    "print(\"variables:\",V)\n",
    "print(\"Equations:\",eqf)\n",
    "#for i in range(N):\n",
    "#    print(eqf[i])"
   ]
  },
  {
   "cell_type": "code",
   "execution_count": 18,
   "metadata": {},
   "outputs": [
    {
     "data": {
      "text/plain": [
       "[[x0 == (1143/62776), x1 == (-4170/7847)]]"
      ]
     },
     "execution_count": 18,
     "metadata": {},
     "output_type": "execute_result"
    }
   ],
   "source": [
    "solf=solve(eqf,V)\n",
    "solf"
   ]
  },
  {
   "cell_type": "markdown",
   "metadata": {},
   "source": [
    "Quoi, le résultat est le même !!!\n",
    "\n",
    "En fait, `solve` fait appel à une méthode de résolution symbolique. \n",
    "Cela implique que les réels sont transformées en nombre rationnel lors de la résolution. "
   ]
  },
  {
   "cell_type": "markdown",
   "metadata": {},
   "source": [
    "### l'algèbre linéaire"
   ]
  },
  {
   "cell_type": "code",
   "execution_count": 19,
   "metadata": {},
   "outputs": [
    {
     "data": {
      "text/html": [
       "<html><script type=\"math/tex; mode=display\">\\newcommand{\\Bold}[1]{\\mathbf{#1}}\\left[-\\frac{4}{3} \\, x_{0} + \\frac{2}{5} \\, x_{1} = \\left(-\\frac{9}{38}\\right), 8 \\, x_{0} + \\frac{7}{2} \\, x_{1} = \\left(-\\frac{12}{7}\\right)\\right]</script></html>"
      ],
      "text/latex": [
       "\\begin{math}\n",
       "\\newcommand{\\Bold}[1]{\\mathbf{#1}}\\left[-\\frac{4}{3} \\, x_{0} + \\frac{2}{5} \\, x_{1} = \\left(-\\frac{9}{38}\\right), 8 \\, x_{0} + \\frac{7}{2} \\, x_{1} = \\left(-\\frac{12}{7}\\right)\\right]\n",
       "\\end{math}"
      ],
      "text/plain": [
       "[-4/3*x0 + 2/5*x1 == (-9/38), 8*x0 + 7/2*x1 == (-12/7)]"
      ]
     },
     "metadata": {},
     "output_type": "display_data"
    }
   ],
   "source": [
    "show(eq)"
   ]
  },
  {
   "cell_type": "code",
   "execution_count": 20,
   "metadata": {},
   "outputs": [
    {
     "data": {
      "text/html": [
       "<html><script type=\"math/tex; mode=display\">\\newcommand{\\Bold}[1]{\\mathbf{#1}}\\left(\\begin{array}{rr}\n",
       "-\\frac{4}{3} & \\frac{2}{5} \\\\\n",
       "8 & \\frac{7}{2}\n",
       "\\end{array}\\right) \\left(x_{0}, x_{1}\\right) \\left(-\\frac{9}{38},\\,-\\frac{12}{7}\\right)</script></html>"
      ],
      "text/latex": [
       "\\begin{math}\n",
       "\\newcommand{\\Bold}[1]{\\mathbf{#1}}\\left(\\begin{array}{rr}\n",
       "-\\frac{4}{3} & \\frac{2}{5} \\\\\n",
       "8 & \\frac{7}{2}\n",
       "\\end{array}\\right) \\left(x_{0}, x_{1}\\right) \\left(-\\frac{9}{38},\\,-\\frac{12}{7}\\right)\n",
       "\\end{math}"
      ],
      "text/plain": [
       "[-4/3  2/5]\n",
       "[   8  7/2] (x0, x1) (-9/38, -12/7)"
      ]
     },
     "metadata": {},
     "output_type": "display_data"
    }
   ],
   "source": [
    "show(A, (V), b)"
   ]
  },
  {
   "cell_type": "code",
   "execution_count": 21,
   "metadata": {},
   "outputs": [
    {
     "data": {
      "text/html": [
       "<html><script type=\"math/tex; mode=display\">\\newcommand{\\Bold}[1]{\\mathbf{#1}}\\left(\\frac{1143}{62776},\\,-\\frac{4170}{7847}\\right)</script></html>"
      ],
      "text/latex": [
       "\\begin{math}\n",
       "\\newcommand{\\Bold}[1]{\\mathbf{#1}}\\left(\\frac{1143}{62776},\\,-\\frac{4170}{7847}\\right)\n",
       "\\end{math}"
      ],
      "text/plain": [
       "(1143/62776, -4170/7847)"
      ]
     },
     "metadata": {},
     "output_type": "display_data"
    }
   ],
   "source": [
    "y=A.solve_right(b)\n",
    "show(y)"
   ]
  },
  {
   "cell_type": "markdown",
   "metadata": {},
   "source": [
    "Pareil mais en numérique"
   ]
  },
  {
   "cell_type": "code",
   "execution_count": 22,
   "metadata": {},
   "outputs": [
    {
     "data": {
      "text/html": [
       "<html><script type=\"math/tex; mode=display\">\\newcommand{\\Bold}[1]{\\mathbf{#1}}\\left(\\begin{array}{rr}\n",
       "-1.33333333333333 & 0.400000000000000 \\\\\n",
       "8.00000000000000 & 3.50000000000000\n",
       "\\end{array}\\right) \\left(x_{0}, x_{1}\\right) \\left(-0.236842105263158,\\,-1.71428571428571\\right)</script></html>"
      ],
      "text/latex": [
       "\\begin{math}\n",
       "\\newcommand{\\Bold}[1]{\\mathbf{#1}}\\left(\\begin{array}{rr}\n",
       "-1.33333333333333 & 0.400000000000000 \\\\\n",
       "8.00000000000000 & 3.50000000000000\n",
       "\\end{array}\\right) \\left(x_{0}, x_{1}\\right) \\left(-0.236842105263158,\\,-1.71428571428571\\right)\n",
       "\\end{math}"
      ],
      "text/plain": [
       "[-1.33333333333333 0.400000000000000]\n",
       "[ 8.00000000000000  3.50000000000000] (x0, x1) (-0.236842105263158, -1.71428571428571)"
      ]
     },
     "metadata": {},
     "output_type": "display_data"
    }
   ],
   "source": [
    "Af=A.numerical_approx()\n",
    "bf=b.n()\n",
    "show(Af,V,bf)"
   ]
  },
  {
   "cell_type": "code",
   "execution_count": 23,
   "metadata": {},
   "outputs": [
    {
     "data": {
      "text/html": [
       "<html><script type=\"math/tex; mode=display\">\\newcommand{\\Bold}[1]{\\mathbf{#1}}\\left(0.0182075952593348,\\,-0.531413278960112\\right)</script></html>"
      ],
      "text/latex": [
       "\\begin{math}\n",
       "\\newcommand{\\Bold}[1]{\\mathbf{#1}}\\left(0.0182075952593348,\\,-0.531413278960112\\right)\n",
       "\\end{math}"
      ],
      "text/plain": [
       "(0.0182075952593348, -0.531413278960112)"
      ]
     },
     "metadata": {},
     "output_type": "display_data"
    }
   ],
   "source": [
    "yf=Af.solve_right(bf)\n",
    "show(yf)"
   ]
  },
  {
   "cell_type": "code",
   "execution_count": 24,
   "metadata": {},
   "outputs": [
    {
     "data": {
      "text/plain": [
       "(-2.08166817117217e-17, -1.11022302462516e-16)"
      ]
     },
     "execution_count": 24,
     "metadata": {},
     "output_type": "execute_result"
    }
   ],
   "source": [
    "# difference des solutions\n",
    "y.n()-yf"
   ]
  },
  {
   "cell_type": "markdown",
   "metadata": {},
   "source": [
    "Tout pareil mais en plus grand"
   ]
  },
  {
   "cell_type": "code",
   "execution_count": 25,
   "metadata": {},
   "outputs": [],
   "source": [
    "N=80\n",
    "MS=MatrixSpace(QQ,N)\n",
    "VS=VectorSpace(QQ,N)\n",
    "A=MS.random_element(density=1,num_bound=100,den_bound=100)\n",
    "b=VS.random_element(num_bound=100,den_bound=100)\n"
   ]
  },
  {
   "cell_type": "code",
   "execution_count": 68,
   "metadata": {
    "scrolled": true
   },
   "outputs": [
    {
     "data": {
      "text/html": [
       "<html><script type=\"math/tex; mode=display\">\\newcommand{\\Bold}[1]{\\mathbf{#1}}\\left(\\begin{array}{rr}\n",
       "-10 & -7 \\\\\n",
       "\\frac{5}{6} & \\frac{1}{4}\n",
       "\\end{array}\\right) \\left(-\\frac{15}{26},\\,-\\frac{45}{2}\\right)</script></html>"
      ],
      "text/latex": [
       "\\begin{math}\n",
       "\\newcommand{\\Bold}[1]{\\mathbf{#1}}\\left(\\begin{array}{rr}\n",
       "-10 & -7 \\\\\n",
       "\\frac{5}{6} & \\frac{1}{4}\n",
       "\\end{array}\\right) \\left(-\\frac{15}{26},\\,-\\frac{45}{2}\\right)\n",
       "\\end{math}"
      ],
      "text/plain": [
       "[-10  -7]\n",
       "[5/6 1/4] (-15/26, -45/2)"
      ]
     },
     "metadata": {},
     "output_type": "display_data"
    },
    {
     "name": "stdout",
     "output_type": "stream",
     "text": [
      "CPU times: user 215 µs, sys: 4 µs, total: 219 µs\n",
      "Wall time: 223 µs\n"
     ]
    },
    {
     "data": {
      "text/plain": [
       "(-9837/208, 7035/104)"
      ]
     },
     "execution_count": 68,
     "metadata": {},
     "output_type": "execute_result"
    }
   ],
   "source": [
    "show(A,b)\n",
    "%time y=A.solve_right(b)\n",
    "A.solve_right(b)"
   ]
  },
  {
   "cell_type": "code",
   "execution_count": 71,
   "metadata": {},
   "outputs": [
    {
     "data": {
      "text/plain": [
       "-9837/208"
      ]
     },
     "execution_count": 71,
     "metadata": {},
     "output_type": "execute_result"
    }
   ],
   "source": [
    "y[0]"
   ]
  },
  {
   "cell_type": "code",
   "execution_count": 72,
   "metadata": {},
   "outputs": [
    {
     "name": "stdout",
     "output_type": "stream",
     "text": [
      "num(y[0])= -9837 \n",
      "\n",
      "den(y[0])= 208\n"
     ]
    }
   ],
   "source": [
    "print(\"num(y[0])=\",y[0].numerator(),'\\n')\n",
    "print(\"den(y[0])=\",y[0].denominator())"
   ]
  },
  {
   "cell_type": "code",
   "execution_count": 29,
   "metadata": {},
   "outputs": [
    {
     "name": "stdout",
     "output_type": "stream",
     "text": [
      "CPU times: user 543 ms, sys: 17 µs, total: 543 ms\n",
      "Wall time: 551 ms\n"
     ]
    }
   ],
   "source": [
    "Af=A.n()\n",
    "bf=b.n()\n",
    "%time yf= Af.solve_right(bf)"
   ]
  },
  {
   "cell_type": "code",
   "execution_count": 30,
   "metadata": {},
   "outputs": [
    {
     "name": "stdout",
     "output_type": "stream",
     "text": [
      "yf[0]= 0.863655548974229\n"
     ]
    },
    {
     "data": {
      "text/plain": [
       "(-2.86981549635357e-12, 5.83605386239583e-12)"
      ]
     },
     "execution_count": 30,
     "metadata": {},
     "output_type": "execute_result"
    }
   ],
   "source": [
    "print(\"yf[0]=\",yf[0])\n",
    "#erreur commise par la résolution numérique\n",
    "y[0]-yf[0], (Af*yf)[0]- bf[0]"
   ]
  },
  {
   "cell_type": "code",
   "execution_count": 31,
   "metadata": {},
   "outputs": [
    {
     "data": {
      "text/html": [
       "<html><script type=\"math/tex; mode=display\">\\newcommand{\\Bold}[1]{\\mathbf{#1}}\\left(\\begin{array}{rrrrrrrrrrrrrrrrrrrr}\n",
       "1 & \\frac{1}{2} & \\frac{1}{3} & \\frac{1}{4} & \\frac{1}{5} & \\frac{1}{6} & \\frac{1}{7} & \\frac{1}{8} & \\frac{1}{9} & \\frac{1}{10} & \\frac{1}{11} & \\frac{1}{12} & \\frac{1}{13} & \\frac{1}{14} & \\frac{1}{15} & \\frac{1}{16} & \\frac{1}{17} & \\frac{1}{18} & \\frac{1}{19} & \\frac{1}{20} \\\\\n",
       "\\frac{1}{2} & \\frac{1}{3} & \\frac{1}{4} & \\frac{1}{5} & \\frac{1}{6} & \\frac{1}{7} & \\frac{1}{8} & \\frac{1}{9} & \\frac{1}{10} & \\frac{1}{11} & \\frac{1}{12} & \\frac{1}{13} & \\frac{1}{14} & \\frac{1}{15} & \\frac{1}{16} & \\frac{1}{17} & \\frac{1}{18} & \\frac{1}{19} & \\frac{1}{20} & \\frac{1}{21} \\\\\n",
       "\\frac{1}{3} & \\frac{1}{4} & \\frac{1}{5} & \\frac{1}{6} & \\frac{1}{7} & \\frac{1}{8} & \\frac{1}{9} & \\frac{1}{10} & \\frac{1}{11} & \\frac{1}{12} & \\frac{1}{13} & \\frac{1}{14} & \\frac{1}{15} & \\frac{1}{16} & \\frac{1}{17} & \\frac{1}{18} & \\frac{1}{19} & \\frac{1}{20} & \\frac{1}{21} & \\frac{1}{22} \\\\\n",
       "\\frac{1}{4} & \\frac{1}{5} & \\frac{1}{6} & \\frac{1}{7} & \\frac{1}{8} & \\frac{1}{9} & \\frac{1}{10} & \\frac{1}{11} & \\frac{1}{12} & \\frac{1}{13} & \\frac{1}{14} & \\frac{1}{15} & \\frac{1}{16} & \\frac{1}{17} & \\frac{1}{18} & \\frac{1}{19} & \\frac{1}{20} & \\frac{1}{21} & \\frac{1}{22} & \\frac{1}{23} \\\\\n",
       "\\frac{1}{5} & \\frac{1}{6} & \\frac{1}{7} & \\frac{1}{8} & \\frac{1}{9} & \\frac{1}{10} & \\frac{1}{11} & \\frac{1}{12} & \\frac{1}{13} & \\frac{1}{14} & \\frac{1}{15} & \\frac{1}{16} & \\frac{1}{17} & \\frac{1}{18} & \\frac{1}{19} & \\frac{1}{20} & \\frac{1}{21} & \\frac{1}{22} & \\frac{1}{23} & \\frac{1}{24} \\\\\n",
       "\\frac{1}{6} & \\frac{1}{7} & \\frac{1}{8} & \\frac{1}{9} & \\frac{1}{10} & \\frac{1}{11} & \\frac{1}{12} & \\frac{1}{13} & \\frac{1}{14} & \\frac{1}{15} & \\frac{1}{16} & \\frac{1}{17} & \\frac{1}{18} & \\frac{1}{19} & \\frac{1}{20} & \\frac{1}{21} & \\frac{1}{22} & \\frac{1}{23} & \\frac{1}{24} & \\frac{1}{25} \\\\\n",
       "\\frac{1}{7} & \\frac{1}{8} & \\frac{1}{9} & \\frac{1}{10} & \\frac{1}{11} & \\frac{1}{12} & \\frac{1}{13} & \\frac{1}{14} & \\frac{1}{15} & \\frac{1}{16} & \\frac{1}{17} & \\frac{1}{18} & \\frac{1}{19} & \\frac{1}{20} & \\frac{1}{21} & \\frac{1}{22} & \\frac{1}{23} & \\frac{1}{24} & \\frac{1}{25} & \\frac{1}{26} \\\\\n",
       "\\frac{1}{8} & \\frac{1}{9} & \\frac{1}{10} & \\frac{1}{11} & \\frac{1}{12} & \\frac{1}{13} & \\frac{1}{14} & \\frac{1}{15} & \\frac{1}{16} & \\frac{1}{17} & \\frac{1}{18} & \\frac{1}{19} & \\frac{1}{20} & \\frac{1}{21} & \\frac{1}{22} & \\frac{1}{23} & \\frac{1}{24} & \\frac{1}{25} & \\frac{1}{26} & \\frac{1}{27} \\\\\n",
       "\\frac{1}{9} & \\frac{1}{10} & \\frac{1}{11} & \\frac{1}{12} & \\frac{1}{13} & \\frac{1}{14} & \\frac{1}{15} & \\frac{1}{16} & \\frac{1}{17} & \\frac{1}{18} & \\frac{1}{19} & \\frac{1}{20} & \\frac{1}{21} & \\frac{1}{22} & \\frac{1}{23} & \\frac{1}{24} & \\frac{1}{25} & \\frac{1}{26} & \\frac{1}{27} & \\frac{1}{28} \\\\\n",
       "\\frac{1}{10} & \\frac{1}{11} & \\frac{1}{12} & \\frac{1}{13} & \\frac{1}{14} & \\frac{1}{15} & \\frac{1}{16} & \\frac{1}{17} & \\frac{1}{18} & \\frac{1}{19} & \\frac{1}{20} & \\frac{1}{21} & \\frac{1}{22} & \\frac{1}{23} & \\frac{1}{24} & \\frac{1}{25} & \\frac{1}{26} & \\frac{1}{27} & \\frac{1}{28} & \\frac{1}{29} \\\\\n",
       "\\frac{1}{11} & \\frac{1}{12} & \\frac{1}{13} & \\frac{1}{14} & \\frac{1}{15} & \\frac{1}{16} & \\frac{1}{17} & \\frac{1}{18} & \\frac{1}{19} & \\frac{1}{20} & \\frac{1}{21} & \\frac{1}{22} & \\frac{1}{23} & \\frac{1}{24} & \\frac{1}{25} & \\frac{1}{26} & \\frac{1}{27} & \\frac{1}{28} & \\frac{1}{29} & \\frac{1}{30} \\\\\n",
       "\\frac{1}{12} & \\frac{1}{13} & \\frac{1}{14} & \\frac{1}{15} & \\frac{1}{16} & \\frac{1}{17} & \\frac{1}{18} & \\frac{1}{19} & \\frac{1}{20} & \\frac{1}{21} & \\frac{1}{22} & \\frac{1}{23} & \\frac{1}{24} & \\frac{1}{25} & \\frac{1}{26} & \\frac{1}{27} & \\frac{1}{28} & \\frac{1}{29} & \\frac{1}{30} & \\frac{1}{31} \\\\\n",
       "\\frac{1}{13} & \\frac{1}{14} & \\frac{1}{15} & \\frac{1}{16} & \\frac{1}{17} & \\frac{1}{18} & \\frac{1}{19} & \\frac{1}{20} & \\frac{1}{21} & \\frac{1}{22} & \\frac{1}{23} & \\frac{1}{24} & \\frac{1}{25} & \\frac{1}{26} & \\frac{1}{27} & \\frac{1}{28} & \\frac{1}{29} & \\frac{1}{30} & \\frac{1}{31} & \\frac{1}{32} \\\\\n",
       "\\frac{1}{14} & \\frac{1}{15} & \\frac{1}{16} & \\frac{1}{17} & \\frac{1}{18} & \\frac{1}{19} & \\frac{1}{20} & \\frac{1}{21} & \\frac{1}{22} & \\frac{1}{23} & \\frac{1}{24} & \\frac{1}{25} & \\frac{1}{26} & \\frac{1}{27} & \\frac{1}{28} & \\frac{1}{29} & \\frac{1}{30} & \\frac{1}{31} & \\frac{1}{32} & \\frac{1}{33} \\\\\n",
       "\\frac{1}{15} & \\frac{1}{16} & \\frac{1}{17} & \\frac{1}{18} & \\frac{1}{19} & \\frac{1}{20} & \\frac{1}{21} & \\frac{1}{22} & \\frac{1}{23} & \\frac{1}{24} & \\frac{1}{25} & \\frac{1}{26} & \\frac{1}{27} & \\frac{1}{28} & \\frac{1}{29} & \\frac{1}{30} & \\frac{1}{31} & \\frac{1}{32} & \\frac{1}{33} & \\frac{1}{34} \\\\\n",
       "\\frac{1}{16} & \\frac{1}{17} & \\frac{1}{18} & \\frac{1}{19} & \\frac{1}{20} & \\frac{1}{21} & \\frac{1}{22} & \\frac{1}{23} & \\frac{1}{24} & \\frac{1}{25} & \\frac{1}{26} & \\frac{1}{27} & \\frac{1}{28} & \\frac{1}{29} & \\frac{1}{30} & \\frac{1}{31} & \\frac{1}{32} & \\frac{1}{33} & \\frac{1}{34} & \\frac{1}{35} \\\\\n",
       "\\frac{1}{17} & \\frac{1}{18} & \\frac{1}{19} & \\frac{1}{20} & \\frac{1}{21} & \\frac{1}{22} & \\frac{1}{23} & \\frac{1}{24} & \\frac{1}{25} & \\frac{1}{26} & \\frac{1}{27} & \\frac{1}{28} & \\frac{1}{29} & \\frac{1}{30} & \\frac{1}{31} & \\frac{1}{32} & \\frac{1}{33} & \\frac{1}{34} & \\frac{1}{35} & \\frac{1}{36} \\\\\n",
       "\\frac{1}{18} & \\frac{1}{19} & \\frac{1}{20} & \\frac{1}{21} & \\frac{1}{22} & \\frac{1}{23} & \\frac{1}{24} & \\frac{1}{25} & \\frac{1}{26} & \\frac{1}{27} & \\frac{1}{28} & \\frac{1}{29} & \\frac{1}{30} & \\frac{1}{31} & \\frac{1}{32} & \\frac{1}{33} & \\frac{1}{34} & \\frac{1}{35} & \\frac{1}{36} & \\frac{1}{37} \\\\\n",
       "\\frac{1}{19} & \\frac{1}{20} & \\frac{1}{21} & \\frac{1}{22} & \\frac{1}{23} & \\frac{1}{24} & \\frac{1}{25} & \\frac{1}{26} & \\frac{1}{27} & \\frac{1}{28} & \\frac{1}{29} & \\frac{1}{30} & \\frac{1}{31} & \\frac{1}{32} & \\frac{1}{33} & \\frac{1}{34} & \\frac{1}{35} & \\frac{1}{36} & \\frac{1}{37} & \\frac{1}{38} \\\\\n",
       "\\frac{1}{20} & \\frac{1}{21} & \\frac{1}{22} & \\frac{1}{23} & \\frac{1}{24} & \\frac{1}{25} & \\frac{1}{26} & \\frac{1}{27} & \\frac{1}{28} & \\frac{1}{29} & \\frac{1}{30} & \\frac{1}{31} & \\frac{1}{32} & \\frac{1}{33} & \\frac{1}{34} & \\frac{1}{35} & \\frac{1}{36} & \\frac{1}{37} & \\frac{1}{38} & \\frac{1}{39}\n",
       "\\end{array}\\right)</script></html>"
      ],
      "text/latex": [
       "\\begin{math}\n",
       "\\newcommand{\\Bold}[1]{\\mathbf{#1}}\\left(\\begin{array}{rrrrrrrrrrrrrrrrrrrr}\n",
       "1 & \\frac{1}{2} & \\frac{1}{3} & \\frac{1}{4} & \\frac{1}{5} & \\frac{1}{6} & \\frac{1}{7} & \\frac{1}{8} & \\frac{1}{9} & \\frac{1}{10} & \\frac{1}{11} & \\frac{1}{12} & \\frac{1}{13} & \\frac{1}{14} & \\frac{1}{15} & \\frac{1}{16} & \\frac{1}{17} & \\frac{1}{18} & \\frac{1}{19} & \\frac{1}{20} \\\\\n",
       "\\frac{1}{2} & \\frac{1}{3} & \\frac{1}{4} & \\frac{1}{5} & \\frac{1}{6} & \\frac{1}{7} & \\frac{1}{8} & \\frac{1}{9} & \\frac{1}{10} & \\frac{1}{11} & \\frac{1}{12} & \\frac{1}{13} & \\frac{1}{14} & \\frac{1}{15} & \\frac{1}{16} & \\frac{1}{17} & \\frac{1}{18} & \\frac{1}{19} & \\frac{1}{20} & \\frac{1}{21} \\\\\n",
       "\\frac{1}{3} & \\frac{1}{4} & \\frac{1}{5} & \\frac{1}{6} & \\frac{1}{7} & \\frac{1}{8} & \\frac{1}{9} & \\frac{1}{10} & \\frac{1}{11} & \\frac{1}{12} & \\frac{1}{13} & \\frac{1}{14} & \\frac{1}{15} & \\frac{1}{16} & \\frac{1}{17} & \\frac{1}{18} & \\frac{1}{19} & \\frac{1}{20} & \\frac{1}{21} & \\frac{1}{22} \\\\\n",
       "\\frac{1}{4} & \\frac{1}{5} & \\frac{1}{6} & \\frac{1}{7} & \\frac{1}{8} & \\frac{1}{9} & \\frac{1}{10} & \\frac{1}{11} & \\frac{1}{12} & \\frac{1}{13} & \\frac{1}{14} & \\frac{1}{15} & \\frac{1}{16} & \\frac{1}{17} & \\frac{1}{18} & \\frac{1}{19} & \\frac{1}{20} & \\frac{1}{21} & \\frac{1}{22} & \\frac{1}{23} \\\\\n",
       "\\frac{1}{5} & \\frac{1}{6} & \\frac{1}{7} & \\frac{1}{8} & \\frac{1}{9} & \\frac{1}{10} & \\frac{1}{11} & \\frac{1}{12} & \\frac{1}{13} & \\frac{1}{14} & \\frac{1}{15} & \\frac{1}{16} & \\frac{1}{17} & \\frac{1}{18} & \\frac{1}{19} & \\frac{1}{20} & \\frac{1}{21} & \\frac{1}{22} & \\frac{1}{23} & \\frac{1}{24} \\\\\n",
       "\\frac{1}{6} & \\frac{1}{7} & \\frac{1}{8} & \\frac{1}{9} & \\frac{1}{10} & \\frac{1}{11} & \\frac{1}{12} & \\frac{1}{13} & \\frac{1}{14} & \\frac{1}{15} & \\frac{1}{16} & \\frac{1}{17} & \\frac{1}{18} & \\frac{1}{19} & \\frac{1}{20} & \\frac{1}{21} & \\frac{1}{22} & \\frac{1}{23} & \\frac{1}{24} & \\frac{1}{25} \\\\\n",
       "\\frac{1}{7} & \\frac{1}{8} & \\frac{1}{9} & \\frac{1}{10} & \\frac{1}{11} & \\frac{1}{12} & \\frac{1}{13} & \\frac{1}{14} & \\frac{1}{15} & \\frac{1}{16} & \\frac{1}{17} & \\frac{1}{18} & \\frac{1}{19} & \\frac{1}{20} & \\frac{1}{21} & \\frac{1}{22} & \\frac{1}{23} & \\frac{1}{24} & \\frac{1}{25} & \\frac{1}{26} \\\\\n",
       "\\frac{1}{8} & \\frac{1}{9} & \\frac{1}{10} & \\frac{1}{11} & \\frac{1}{12} & \\frac{1}{13} & \\frac{1}{14} & \\frac{1}{15} & \\frac{1}{16} & \\frac{1}{17} & \\frac{1}{18} & \\frac{1}{19} & \\frac{1}{20} & \\frac{1}{21} & \\frac{1}{22} & \\frac{1}{23} & \\frac{1}{24} & \\frac{1}{25} & \\frac{1}{26} & \\frac{1}{27} \\\\\n",
       "\\frac{1}{9} & \\frac{1}{10} & \\frac{1}{11} & \\frac{1}{12} & \\frac{1}{13} & \\frac{1}{14} & \\frac{1}{15} & \\frac{1}{16} & \\frac{1}{17} & \\frac{1}{18} & \\frac{1}{19} & \\frac{1}{20} & \\frac{1}{21} & \\frac{1}{22} & \\frac{1}{23} & \\frac{1}{24} & \\frac{1}{25} & \\frac{1}{26} & \\frac{1}{27} & \\frac{1}{28} \\\\\n",
       "\\frac{1}{10} & \\frac{1}{11} & \\frac{1}{12} & \\frac{1}{13} & \\frac{1}{14} & \\frac{1}{15} & \\frac{1}{16} & \\frac{1}{17} & \\frac{1}{18} & \\frac{1}{19} & \\frac{1}{20} & \\frac{1}{21} & \\frac{1}{22} & \\frac{1}{23} & \\frac{1}{24} & \\frac{1}{25} & \\frac{1}{26} & \\frac{1}{27} & \\frac{1}{28} & \\frac{1}{29} \\\\\n",
       "\\frac{1}{11} & \\frac{1}{12} & \\frac{1}{13} & \\frac{1}{14} & \\frac{1}{15} & \\frac{1}{16} & \\frac{1}{17} & \\frac{1}{18} & \\frac{1}{19} & \\frac{1}{20} & \\frac{1}{21} & \\frac{1}{22} & \\frac{1}{23} & \\frac{1}{24} & \\frac{1}{25} & \\frac{1}{26} & \\frac{1}{27} & \\frac{1}{28} & \\frac{1}{29} & \\frac{1}{30} \\\\\n",
       "\\frac{1}{12} & \\frac{1}{13} & \\frac{1}{14} & \\frac{1}{15} & \\frac{1}{16} & \\frac{1}{17} & \\frac{1}{18} & \\frac{1}{19} & \\frac{1}{20} & \\frac{1}{21} & \\frac{1}{22} & \\frac{1}{23} & \\frac{1}{24} & \\frac{1}{25} & \\frac{1}{26} & \\frac{1}{27} & \\frac{1}{28} & \\frac{1}{29} & \\frac{1}{30} & \\frac{1}{31} \\\\\n",
       "\\frac{1}{13} & \\frac{1}{14} & \\frac{1}{15} & \\frac{1}{16} & \\frac{1}{17} & \\frac{1}{18} & \\frac{1}{19} & \\frac{1}{20} & \\frac{1}{21} & \\frac{1}{22} & \\frac{1}{23} & \\frac{1}{24} & \\frac{1}{25} & \\frac{1}{26} & \\frac{1}{27} & \\frac{1}{28} & \\frac{1}{29} & \\frac{1}{30} & \\frac{1}{31} & \\frac{1}{32} \\\\\n",
       "\\frac{1}{14} & \\frac{1}{15} & \\frac{1}{16} & \\frac{1}{17} & \\frac{1}{18} & \\frac{1}{19} & \\frac{1}{20} & \\frac{1}{21} & \\frac{1}{22} & \\frac{1}{23} & \\frac{1}{24} & \\frac{1}{25} & \\frac{1}{26} & \\frac{1}{27} & \\frac{1}{28} & \\frac{1}{29} & \\frac{1}{30} & \\frac{1}{31} & \\frac{1}{32} & \\frac{1}{33} \\\\\n",
       "\\frac{1}{15} & \\frac{1}{16} & \\frac{1}{17} & \\frac{1}{18} & \\frac{1}{19} & \\frac{1}{20} & \\frac{1}{21} & \\frac{1}{22} & \\frac{1}{23} & \\frac{1}{24} & \\frac{1}{25} & \\frac{1}{26} & \\frac{1}{27} & \\frac{1}{28} & \\frac{1}{29} & \\frac{1}{30} & \\frac{1}{31} & \\frac{1}{32} & \\frac{1}{33} & \\frac{1}{34} \\\\\n",
       "\\frac{1}{16} & \\frac{1}{17} & \\frac{1}{18} & \\frac{1}{19} & \\frac{1}{20} & \\frac{1}{21} & \\frac{1}{22} & \\frac{1}{23} & \\frac{1}{24} & \\frac{1}{25} & \\frac{1}{26} & \\frac{1}{27} & \\frac{1}{28} & \\frac{1}{29} & \\frac{1}{30} & \\frac{1}{31} & \\frac{1}{32} & \\frac{1}{33} & \\frac{1}{34} & \\frac{1}{35} \\\\\n",
       "\\frac{1}{17} & \\frac{1}{18} & \\frac{1}{19} & \\frac{1}{20} & \\frac{1}{21} & \\frac{1}{22} & \\frac{1}{23} & \\frac{1}{24} & \\frac{1}{25} & \\frac{1}{26} & \\frac{1}{27} & \\frac{1}{28} & \\frac{1}{29} & \\frac{1}{30} & \\frac{1}{31} & \\frac{1}{32} & \\frac{1}{33} & \\frac{1}{34} & \\frac{1}{35} & \\frac{1}{36} \\\\\n",
       "\\frac{1}{18} & \\frac{1}{19} & \\frac{1}{20} & \\frac{1}{21} & \\frac{1}{22} & \\frac{1}{23} & \\frac{1}{24} & \\frac{1}{25} & \\frac{1}{26} & \\frac{1}{27} & \\frac{1}{28} & \\frac{1}{29} & \\frac{1}{30} & \\frac{1}{31} & \\frac{1}{32} & \\frac{1}{33} & \\frac{1}{34} & \\frac{1}{35} & \\frac{1}{36} & \\frac{1}{37} \\\\\n",
       "\\frac{1}{19} & \\frac{1}{20} & \\frac{1}{21} & \\frac{1}{22} & \\frac{1}{23} & \\frac{1}{24} & \\frac{1}{25} & \\frac{1}{26} & \\frac{1}{27} & \\frac{1}{28} & \\frac{1}{29} & \\frac{1}{30} & \\frac{1}{31} & \\frac{1}{32} & \\frac{1}{33} & \\frac{1}{34} & \\frac{1}{35} & \\frac{1}{36} & \\frac{1}{37} & \\frac{1}{38} \\\\\n",
       "\\frac{1}{20} & \\frac{1}{21} & \\frac{1}{22} & \\frac{1}{23} & \\frac{1}{24} & \\frac{1}{25} & \\frac{1}{26} & \\frac{1}{27} & \\frac{1}{28} & \\frac{1}{29} & \\frac{1}{30} & \\frac{1}{31} & \\frac{1}{32} & \\frac{1}{33} & \\frac{1}{34} & \\frac{1}{35} & \\frac{1}{36} & \\frac{1}{37} & \\frac{1}{38} & \\frac{1}{39}\n",
       "\\end{array}\\right)\n",
       "\\end{math}"
      ],
      "text/plain": [
       "20 x 20 dense matrix over Rational Field (use the '.str()' method to see the entries)"
      ]
     },
     "metadata": {},
     "output_type": "display_data"
    },
    {
     "data": {
      "text/html": [
       "<html><script type=\"math/tex; mode=display\">\\newcommand{\\Bold}[1]{\\mathbf{#1}}\\left(1,\\,180,\\,-1,\\,-1,\\,-1,\\,-2,\\,2,\\,6,\\,0,\\,3,\\,9,\\,0,\\,1,\\,-1,\\,0,\\,-29,\\,1,\\,1,\\,3,\\,0\\right)</script></html>"
      ],
      "text/latex": [
       "\\begin{math}\n",
       "\\newcommand{\\Bold}[1]{\\mathbf{#1}}\\left(1,\\,180,\\,-1,\\,-1,\\,-1,\\,-2,\\,2,\\,6,\\,0,\\,3,\\,9,\\,0,\\,1,\\,-1,\\,0,\\,-29,\\,1,\\,1,\\,3,\\,0\\right)\n",
       "\\end{math}"
      ],
      "text/plain": [
       "(1, 180, -1, -1, -1, -2, 2, 6, 0, 3, 9, 0, 1, -1, 0, -29, 1, 1, 3, 0)"
      ]
     },
     "metadata": {},
     "output_type": "display_data"
    }
   ],
   "source": [
    "N=20\n",
    "A=matrix(N,N,lambda i,j : 1/(i+j+1))\n",
    "b=vector([ZZ.random_element() for i in range(N)])\n",
    "show(A)\n",
    "show(b)"
   ]
  },
  {
   "cell_type": "code",
   "execution_count": 32,
   "metadata": {},
   "outputs": [
    {
     "name": "stdout",
     "output_type": "stream",
     "text": [
      "CPU times: user 2.87 ms, sys: 54 µs, total: 2.92 ms\n",
      "Wall time: 2.9 ms\n",
      "CPU times: user 14 ms, sys: 0 ns, total: 14 ms\n",
      "Wall time: 13.8 ms\n"
     ]
    }
   ],
   "source": [
    "Af=A.n()\n",
    "bf=b.n()\n",
    "%time y = A.solve_right(b)\n",
    "%time yf= Af.solve_right(bf)"
   ]
  },
  {
   "cell_type": "code",
   "execution_count": 33,
   "metadata": {
    "scrolled": true
   },
   "outputs": [
    {
     "name": "stdout",
     "output_type": "stream",
     "text": [
      "yf[0]= -1.58909996452975e11\n"
     ]
    },
    {
     "data": {
      "text/plain": [
       "(-7.00217600000000e6, 1.00000000000000)"
      ]
     },
     "execution_count": 33,
     "metadata": {},
     "output_type": "execute_result"
    }
   ],
   "source": [
    "### le résultat avec les flottants est complètement faux\n",
    "print(\"yf[0]=\",yf[0])\n",
    "(Af*yf)[0], bf[0]"
   ]
  },
  {
   "cell_type": "code",
   "execution_count": 34,
   "metadata": {},
   "outputs": [
    {
     "name": "stdout",
     "output_type": "stream",
     "text": [
      "y[0]= 10852599905060620\n"
     ]
    },
    {
     "data": {
      "text/plain": [
       "(1, 1, True)"
      ]
     },
     "execution_count": 34,
     "metadata": {},
     "output_type": "execute_result"
    }
   ],
   "source": [
    "### le résultat avec les rationnels est exact\n",
    "print(\"y[0]=\",y[0])\n",
    "(A*y)[0],b[0],A*y==b"
   ]
  },
  {
   "cell_type": "markdown",
   "metadata": {},
   "source": [
    "**A RETENIR**\n",
    "- la fonction `solve` est une méthode de résolution symbolique\n",
    "- les calculs avec les flottants peuvent être plus rapides mais aussi faux (surtout en algèbre linéaire)\n",
    "- les calculs avec les rationnels entrainent un grossissement des données mais le résultat est toujours correct"
   ]
  },
  {
   "cell_type": "markdown",
   "metadata": {},
   "source": [
    "## Limite du calcul symbolique"
   ]
  },
  {
   "cell_type": "code",
   "execution_count": 35,
   "metadata": {},
   "outputs": [
    {
     "data": {
      "text/html": [
       "<html><script type=\"math/tex; mode=display\">\\newcommand{\\Bold}[1]{\\mathbf{#1}}a c + b c</script></html>"
      ],
      "text/latex": [
       "\\begin{math}\n",
       "\\newcommand{\\Bold}[1]{\\mathbf{#1}}a c + b c\n",
       "\\end{math}"
      ],
      "text/plain": [
       "a*c + b*c"
      ]
     },
     "metadata": {},
     "output_type": "display_data"
    },
    {
     "data": {
      "text/html": [
       "<html><script type=\"math/tex; mode=display\">\\newcommand{\\Bold}[1]{\\mathbf{#1}}{\\left(a + b\\right)} c</script></html>"
      ],
      "text/latex": [
       "\\begin{math}\n",
       "\\newcommand{\\Bold}[1]{\\mathbf{#1}}{\\left(a + b\\right)} c\n",
       "\\end{math}"
      ],
      "text/plain": [
       "(a + b)*c"
      ]
     },
     "metadata": {},
     "output_type": "display_data"
    },
    {
     "data": {
      "text/html": [
       "<html><script type=\"math/tex; mode=display\">\\newcommand{\\Bold}[1]{\\mathbf{#1}}{\\left(a + b\\right)} c = {\\left(a + b\\right)} c</script></html>"
      ],
      "text/latex": [
       "\\begin{math}\n",
       "\\newcommand{\\Bold}[1]{\\mathbf{#1}}{\\left(a + b\\right)} c = {\\left(a + b\\right)} c\n",
       "\\end{math}"
      ],
      "text/plain": [
       "(a + b)*c == (a + b)*c"
      ]
     },
     "metadata": {},
     "output_type": "display_data"
    },
    {
     "data": {
      "text/html": [
       "<html><script type=\"math/tex; mode=display\">\\newcommand{\\Bold}[1]{\\mathbf{#1}}a c + b c = a c + b c</script></html>"
      ],
      "text/latex": [
       "\\begin{math}\n",
       "\\newcommand{\\Bold}[1]{\\mathbf{#1}}a c + b c = a c + b c\n",
       "\\end{math}"
      ],
      "text/plain": [
       "a*c + b*c == a*c + b*c"
      ]
     },
     "metadata": {},
     "output_type": "display_data"
    },
    {
     "data": {
      "text/plain": [
       "True"
      ]
     },
     "execution_count": 35,
     "metadata": {},
     "output_type": "execute_result"
    }
   ],
   "source": [
    "var('a b c')\n",
    "e1=a*c+b*c\n",
    "e2=(a+b)*c\n",
    "e1.show()\n",
    "e2.show()\n",
    "(e2 == e1.collect(c)).show()\n",
    "(e1 == e2.expand()).show()\n",
    "bool(e1==e2)"
   ]
  },
  {
   "cell_type": "code",
   "execution_count": 36,
   "metadata": {},
   "outputs": [
    {
     "data": {
      "text/html": [
       "<html><script type=\"math/tex; mode=display\">\\newcommand{\\Bold}[1]{\\mathbf{#1}}{\\left(a - b\\right)}^{2} - a^{2} + 2 \\, a b - b^{2}</script></html>"
      ],
      "text/latex": [
       "\\begin{math}\n",
       "\\newcommand{\\Bold}[1]{\\mathbf{#1}}{\\left(a - b\\right)}^{2} - a^{2} + 2 \\, a b - b^{2}\n",
       "\\end{math}"
      ],
      "text/plain": [
       "(a - b)^2 - a^2 + 2*a*b - b^2"
      ]
     },
     "metadata": {},
     "output_type": "display_data"
    },
    {
     "data": {
      "text/plain": [
       "True"
      ]
     },
     "execution_count": 36,
     "metadata": {},
     "output_type": "execute_result"
    }
   ],
   "source": [
    "e=(a-b)^2-a^2+2*a*b-b^2\n",
    "e.show()\n",
    "bool(e==0)"
   ]
  },
  {
   "cell_type": "code",
   "execution_count": 37,
   "metadata": {},
   "outputs": [
    {
     "data": {
      "text/plain": [
       "(cos(x)^2 + sin(x)^2, 1)"
      ]
     },
     "execution_count": 37,
     "metadata": {},
     "output_type": "execute_result"
    }
   ],
   "source": [
    "var('x')\n",
    "e= cos(x)^2+sin(x)^2\n",
    "e, e.simplify_trig()"
   ]
  },
  {
   "cell_type": "code",
   "execution_count": 38,
   "metadata": {},
   "outputs": [
    {
     "data": {
      "text/plain": [
       "(False, False, True)"
      ]
     },
     "execution_count": 38,
     "metadata": {},
     "output_type": "execute_result"
    }
   ],
   "source": [
    "e=sqrt(x^2)\n",
    "bool(x==e), bool(x==e.simplify_full()),bool(x==e.canonicalize_radical())"
   ]
  },
  {
   "cell_type": "markdown",
   "metadata": {},
   "source": [
    "### Explosion combinatoire des symboles"
   ]
  },
  {
   "cell_type": "code",
   "execution_count": 39,
   "metadata": {},
   "outputs": [
    {
     "data": {
      "text/html": [
       "<html><script type=\"math/tex; mode=display\">\\newcommand{\\Bold}[1]{\\mathbf{#1}}\\verb|A=| \\left(\\begin{array}{rr}\n",
       "\\cos\\left(x\\right) & \\sin\\left(x\\right) \\\\\n",
       "-\\sin\\left(x\\right) & \\cos\\left(x\\right)\n",
       "\\end{array}\\right) \\phantom{\\verb!xx!}\\verb|det(A)=| \\cos\\left(x\\right)^{2} + \\sin\\left(x\\right)^{2}</script></html>"
      ],
      "text/latex": [
       "\\begin{math}\n",
       "\\newcommand{\\Bold}[1]{\\mathbf{#1}}\\verb|A=| \\left(\\begin{array}{rr}\n",
       "\\cos\\left(x\\right) & \\sin\\left(x\\right) \\\\\n",
       "-\\sin\\left(x\\right) & \\cos\\left(x\\right)\n",
       "\\end{array}\\right) \\phantom{\\verb!xx!}\\verb|det(A)=| \\cos\\left(x\\right)^{2} + \\sin\\left(x\\right)^{2}\n",
       "\\end{math}"
      ],
      "text/plain": [
       "'A=' [ cos(x)  sin(x)]\n",
       "[-sin(x)  cos(x)] '  det(A)=' cos(x)^2 + sin(x)^2"
      ]
     },
     "metadata": {},
     "output_type": "display_data"
    }
   ],
   "source": [
    "var('x')\n",
    "A=Matrix(2,2,[[cos(x),sin(x)],[-sin(x),cos(x)]])\n",
    "show(\"A=\",A,\"  det(A)=\",A.determinant())"
   ]
  },
  {
   "cell_type": "code",
   "execution_count": 40,
   "metadata": {},
   "outputs": [
    {
     "name": "stdout",
     "output_type": "stream",
     "text": [
      "d= 16*(16*(256*(16*(cos(x)^2 - sin(x)^2)^2*cos(x)^2*sin(x)^2 - (4*cos(x)^2*sin(x)^2 - (cos(x)^2 - sin(x)^2)^2)^2)^2*(4*cos(x)^2*sin(x)^2 - (cos(x)^2 - sin(x)^2)^2)^2*(cos(x)^2 - sin(x)^2)^2*cos(x)^2*sin(x)^2 - (64*(4*cos(x)^2*sin(x)^2 - (cos(x)^2 - sin(x)^2)^2)^2*(cos(x)^2 - sin(x)^2)^2*cos(x)^2*sin(x)^2 - (16*(cos(x)^2 - sin(x)^2)^2*cos(x)^2*sin(x)^2 - (4*cos(x)^2*sin(x)^2 - (cos(x)^2 - sin(x)^2)^2)^2)^2)^2)*(128*(64*(4*cos(x)^2*sin(x)^2 - (cos(x)^2 - sin(x)^2)^2)^2*(cos(x)^2 - sin(x)^2)^2*cos(x)^2*sin(x)^2 - (16*(cos(x)^2 - sin(x)^2)^2*cos(x)^2*sin(x)^2 - (4*cos(x)^2*sin(x)^2 - (cos(x)^2 - sin(x)^2)^2)^2)^2)*(16*(cos(x)^2 - sin(x)^2)^2*cos(x)^2*sin(x)^2 - (4*cos(x)^2*sin(x)^2 - (cos(x)^2 - sin(x)^2)^2)^2)*(4*cos(x)^2*sin(x)^2 - (cos(x)^2 - sin(x)^2)^2)*(cos(x)^2 - sin(x)^2)^2*cos(x)^2*sin(x)^2 + (256*(16*(cos(x)^2 - sin(x)^2)^2*cos(x)^2*sin(x)^2 - (4*cos(x)^2*sin(x)^2 - (cos(x)^2 - sin(x)^2)^2)^2)^2*(4*cos(x)^2*sin(x)^2 - (cos(x)^2 - sin(x)^2)^2)^2*(cos(x)^2 - sin(x)^2)^2*cos(x)^2*sin(x)^2 - (64*(4*cos(x)^2*sin(x)^2 - (cos(x)^2 - sin(x)^2)^2)^2*(cos(x)^2 - sin(x)^2)^2*cos(x)^2*sin(x)^2 - (16*(cos(x)^2 - sin(x)^2)^2*cos(x)^2*sin(x)^2 - (4*cos(x)^2*sin(x)^2 - (cos(x)^2 - sin(x)^2)^2)^2)^2)^2)*(4*cos(x)^2*sin(x)^2 - (cos(x)^2 - sin(x)^2)^2))*(64*(4*cos(x)^2*sin(x)^2 - (cos(x)^2 - sin(x)^2)^2)^2*(cos(x)^2 - sin(x)^2)^2*cos(x)^2*sin(x)^2 - (16*(cos(x)^2 - sin(x)^2)^2*cos(x)^2*sin(x)^2 - (4*cos(x)^2*sin(x)^2 - (cos(x)^2 - sin(x)^2)^2)^2)^2)*(16*(cos(x)^2 - sin(x)^2)^2*cos(x)^2*sin(x)^2 - (4*cos(x)^2*sin(x)^2 - (cos(x)^2 - sin(x)^2)^2)^2)*(4*cos(x)^2*sin(x)^2 - (cos(x)^2 - sin(x)^2)^2)*(cos(x)^2 - sin(x)^2)*cos(x)*sin(x) - (1024*(64*(4*cos(x)^2*sin(x)^2 - (cos(x)^2 - sin(x)^2)^2)^2*(cos(x)^2 - sin(x)^2)^2*cos(x)^2*sin(x)^2 - (16*(cos(x)^2 - sin(x)^2)^2*cos(x)^2*sin(x)^2 - (4*cos(x)^2*sin(x)^2 - (cos(x)^2 - sin(x)^2)^2)^2)^2)^2*(16*(cos(x)^2 - sin(x)^2)^2*cos(x)^2*sin(x)^2 - (4*cos(x)^2*sin(x)^2 - (cos(x)^2 - sin(x)^2)^2)^2)^2*(4*cos(x)^2*sin(x)^2 - (cos(x)^2 - sin(x)^2)^2)^2*(cos(x)^2 - sin(x)^2)^2*cos(x)^2*sin(x)^2 - (256*(16*(cos(x)^2 - sin(x)^2)^2*cos(x)^2*sin(x)^2 - (4*cos(x)^2*sin(x)^2 - (cos(x)^2 - sin(x)^2)^2)^2)^2*(4*cos(x)^2*sin(x)^2 - (cos(x)^2 - sin(x)^2)^2)^2*(cos(x)^2 - sin(x)^2)^2*cos(x)^2*sin(x)^2 - (64*(4*cos(x)^2*sin(x)^2 - (cos(x)^2 - sin(x)^2)^2)^2*(cos(x)^2 - sin(x)^2)^2*cos(x)^2*sin(x)^2 - (16*(cos(x)^2 - sin(x)^2)^2*cos(x)^2*sin(x)^2 - (4*cos(x)^2*sin(x)^2 - (cos(x)^2 - sin(x)^2)^2)^2)^2)^2)^2)*(8*(64*(4*cos(x)^2*sin(x)^2 - (cos(x)^2 - sin(x)^2)^2)^2*(cos(x)^2 - sin(x)^2)^2*cos(x)^2*sin(x)^2 - (16*(cos(x)^2 - sin(x)^2)^2*cos(x)^2*sin(x)^2 - (4*cos(x)^2*sin(x)^2 - (cos(x)^2 - sin(x)^2)^2)^2)^2)*(16*(cos(x)^2 - sin(x)^2)^2*cos(x)^2*sin(x)^2 - (4*cos(x)^2*sin(x)^2 - (cos(x)^2 - sin(x)^2)^2)^2)*(4*cos(x)^2*sin(x)^2 - (cos(x)^2 - sin(x)^2)^2)^2*(cos(x)^2 - sin(x)^2)*cos(x)*sin(x) - (256*(16*(cos(x)^2 - sin(x)^2)^2*cos(x)^2*sin(x)^2 - (4*cos(x)^2*sin(x)^2 - (cos(x)^2 - sin(x)^2)^2)^2)^2*(4*cos(x)^2*sin(x)^2 - (cos(x)^2 - sin(x)^2)^2)^2*(cos(x)^2 - sin(x)^2)^2*cos(x)^2*sin(x)^2 - (64*(4*cos(x)^2*sin(x)^2 - (cos(x)^2 - sin(x)^2)^2)^2*(cos(x)^2 - sin(x)^2)^2*cos(x)^2*sin(x)^2 - (16*(cos(x)^2 - sin(x)^2)^2*cos(x)^2*sin(x)^2 - (4*cos(x)^2*sin(x)^2 - (cos(x)^2 - sin(x)^2)^2)^2)^2)^2)*(cos(x)^2 - sin(x)^2)*cos(x)*sin(x)))^2 + (256*(256*(16*(cos(x)^2 - sin(x)^2)^2*cos(x)^2*sin(x)^2 - (4*cos(x)^2*sin(x)^2 - (cos(x)^2 - sin(x)^2)^2)^2)^2*(4*cos(x)^2*sin(x)^2 - (cos(x)^2 - sin(x)^2)^2)^2*(cos(x)^2 - sin(x)^2)^2*cos(x)^2*sin(x)^2 - (64*(4*cos(x)^2*sin(x)^2 - (cos(x)^2 - sin(x)^2)^2)^2*(cos(x)^2 - sin(x)^2)^2*cos(x)^2*sin(x)^2 - (16*(cos(x)^2 - sin(x)^2)^2*cos(x)^2*sin(x)^2 - (4*cos(x)^2*sin(x)^2 - (cos(x)^2 - sin(x)^2)^2)^2)^2)^2)*(64*(4*cos(x)^2*sin(x)^2 - (cos(x)^2 - sin(x)^2)^2)^2*(cos(x)^2 - sin(x)^2)^2*cos(x)^2*sin(x)^2 - (16*(cos(x)^2 - sin(x)^2)^2*cos(x)^2*sin(x)^2 - (4*cos(x)^2*sin(x)^2 - (cos(x)^2 - sin(x)^2)^2)^2)^2)*(8*(64*(4*cos(x)^2*sin(x)^2 - (cos(x)^2 - sin(x)^2)^2)^2*(cos(x)^2 - sin(x)^2)^2*cos(x)^2*sin(x)^2 - (16*(cos(x)^2 - sin(x)^2)^2*cos(x)^2*sin(x)^2 - (4*cos(x)^2*sin(x)^2 - (cos(x)^2 - sin(x)^2)^2)^2)^2)*(16*(cos(x)^2 - sin(x)^2)^2*cos(x)^2*sin(x)^2 - (4*cos(x)^2*sin(x)^2 - (cos(x)^2 - sin(x)^2)^2)^2)*(4*cos(x)^2*sin(x)^2 - (cos(x)^2 - sin(x)^2)^2)^2*(cos(x)^2 - sin(x)^2)*cos(x)*sin(x) - (256*(16*(cos(x)^2 - sin(x)^2)^2*cos(x)^2*sin(x)^2 - (4*cos(x)^2*sin(x)^2 - (cos(x)^2 - sin(x)^2)^2)^2)^2*(4*cos(x)^2*sin(x)^2 - (cos(x)^2 - sin(x)^2)^2)^2*(cos(x)^2 - sin(x)^2)^2*cos(x)^2*sin(x)^2 - (64*(4*cos(x)^2*sin(x)^2 - (cos(x)^2 - sin(x)^2)^2)^2*(cos(x)^2 - sin(x)^2)^2*cos(x)^2*sin(x)^2 - (16*(cos(x)^2 - sin(x)^2)^2*cos(x)^2*sin(x)^2 - (4*cos(x)^2*sin(x)^2 - (cos(x)^2 - sin(x)^2)^2)^2)^2)^2)*(cos(x)^2 - sin(x)^2)*cos(x)*sin(x))*(16*(cos(x)^2 - sin(x)^2)^2*cos(x)^2*sin(x)^2 - (4*cos(x)^2*sin(x)^2 - (cos(x)^2 - sin(x)^2)^2)^2)*(4*cos(x)^2*sin(x)^2 - (cos(x)^2 - sin(x)^2)^2)*(cos(x)^2 - sin(x)^2)*cos(x)*sin(x) + (1024*(64*(4*cos(x)^2*sin(x)^2 - (cos(x)^2 - sin(x)^2)^2)^2*(cos(x)^2 - sin(x)^2)^2*cos(x)^2*sin(x)^2 - (16*(cos(x)^2 - sin(x)^2)^2*cos(x)^2*sin(x)^2 - (4*cos(x)^2*sin(x)^2 - (cos(x)^2 - sin(x)^2)^2)^2)^2)^2*(16*(cos(x)^2 - sin(x)^2)^2*cos(x)^2*sin(x)^2 - (4*cos(x)^2*sin(x)^2 - (cos(x)^2 - sin(x)^2)^2)^2)^2*(4*cos(x)^2*sin(x)^2 - (cos(x)^2 - sin(x)^2)^2)^2*(cos(x)^2 - sin(x)^2)^2*cos(x)^2*sin(x)^2 - (256*(16*(cos(x)^2 - sin(x)^2)^2*cos(x)^2*sin(x)^2 - (4*cos(x)^2*sin(x)^2 - (cos(x)^2 - sin(x)^2)^2)^2)^2*(4*cos(x)^2*sin(x)^2 - (cos(x)^2 - sin(x)^2)^2)^2*(cos(x)^2 - sin(x)^2)^2*cos(x)^2*sin(x)^2 - (64*(4*cos(x)^2*sin(x)^2 - (cos(x)^2 - sin(x)^2)^2)^2*(cos(x)^2 - sin(x)^2)^2*cos(x)^2*sin(x)^2 - (16*(cos(x)^2 - sin(x)^2)^2*cos(x)^2*sin(x)^2 - (4*cos(x)^2*sin(x)^2 - (cos(x)^2 - sin(x)^2)^2)^2)^2)^2)^2)*(128*(64*(4*cos(x)^2*sin(x)^2 - (cos(x)^2 - sin(x)^2)^2)^2*(cos(x)^2 - sin(x)^2)^2*cos(x)^2*sin(x)^2 - (16*(cos(x)^2 - sin(x)^2)^2*cos(x)^2*sin(x)^2 - (4*cos(x)^2*sin(x)^2 - (cos(x)^2 - sin(x)^2)^2)^2)^2)*(16*(cos(x)^2 - sin(x)^2)^2*cos(x)^2*sin(x)^2 - (4*cos(x)^2*sin(x)^2 - (cos(x)^2 - sin(x)^2)^2)^2)*(4*cos(x)^2*sin(x)^2 - (cos(x)^2 - sin(x)^2)^2)*(cos(x)^2 - sin(x)^2)^2*cos(x)^2*sin(x)^2 + (256*(16*(cos(x)^2 - sin(x)^2)^2*cos(x)^2*sin(x)^2 - (4*cos(x)^2*sin(x)^2 - (cos(x)^2 - sin(x)^2)^2)^2)^2*(4*cos(x)^2*sin(x)^2 - (cos(x)^2 - sin(x)^2)^2)^2*(cos(x)^2 - sin(x)^2)^2*cos(x)^2*sin(x)^2 - (64*(4*cos(x)^2*sin(x)^2 - (cos(x)^2 - sin(x)^2)^2)^2*(cos(x)^2 - sin(x)^2)^2*cos(x)^2*sin(x)^2 - (16*(cos(x)^2 - sin(x)^2)^2*cos(x)^2*sin(x)^2 - (4*cos(x)^2*sin(x)^2 - (cos(x)^2 - sin(x)^2)^2)^2)^2)^2)*(4*cos(x)^2*sin(x)^2 - (cos(x)^2 - sin(x)^2)^2)))^2\n"
     ]
    }
   ],
   "source": [
    "N=100\n",
    "d=(A^N).determinant()\n",
    "print(\"d=\",d)\n",
    "\n",
    "#A^N,(A^(N)).expand()"
   ]
  },
  {
   "cell_type": "code",
   "execution_count": 41,
   "metadata": {},
   "outputs": [
    {
     "name": "stdout",
     "output_type": "stream",
     "text": [
      "True\n",
      "CPU times: user 8.44 s, sys: 52.4 ms, total: 8.49 s\n",
      "Wall time: 8.27 s\n",
      "True\n",
      "CPU times: user 2.36 s, sys: 15.9 ms, total: 2.38 s\n",
      "Wall time: 2.32 s\n"
     ]
    }
   ],
   "source": [
    "%time print(bool(d==1))\n",
    "%time print(bool(d.simplify_trig()==1))"
   ]
  },
  {
   "cell_type": "markdown",
   "metadata": {},
   "source": [
    "### Pas toujours de solutions"
   ]
  },
  {
   "cell_type": "code",
   "execution_count": 42,
   "metadata": {},
   "outputs": [
    {
     "data": {
      "text/plain": [
       "[(-I, 1), (I, 1)]"
      ]
     },
     "execution_count": 42,
     "metadata": {},
     "output_type": "execute_result"
    }
   ],
   "source": [
    "var('x')\n",
    "(x^2+1).roots()"
   ]
  },
  {
   "cell_type": "code",
   "execution_count": 43,
   "metadata": {},
   "outputs": [
    {
     "name": "stdout",
     "output_type": "stream",
     "text": [
      "E=(x + 1)^5 - (x + 2)^4\n",
      "F=(x + 1)^5 + (x + 2)^4\n",
      "EF=((x + 1)^5 + (x + 2)^4)*((x + 1)^5 - (x + 2)^4)\n"
     ]
    },
    {
     "data": {
      "text/plain": [
       "[(-1/6*(1/2)^(1/3)*(3*sqrt(23)*sqrt(3) + 97)^(1/3)*(I*sqrt(3) + 1) - 13/3*(1/2)^(2/3)*(-I*sqrt(3) + 1)/(3*sqrt(23)*sqrt(3) + 97)^(1/3) - 1/3,\n",
       "  1),\n",
       " (-1/6*(1/2)^(1/3)*(3*sqrt(23)*sqrt(3) + 97)^(1/3)*(-I*sqrt(3) + 1) - 13/3*(1/2)^(2/3)*(I*sqrt(3) + 1)/(3*sqrt(23)*sqrt(3) + 97)^(1/3) - 1/3,\n",
       "  1),\n",
       " (1/3*(1/2)^(1/3)*(3*sqrt(23)*sqrt(3) + 97)^(1/3) + 26/3*(1/2)^(2/3)/(3*sqrt(23)*sqrt(3) + 97)^(1/3) - 1/3,\n",
       "  1),\n",
       " (-1/2*I*sqrt(3) - 3/2, 1),\n",
       " (1/2*I*sqrt(3) - 3/2, 1)]"
      ]
     },
     "execution_count": 43,
     "metadata": {},
     "output_type": "execute_result"
    }
   ],
   "source": [
    "E= (x+1)^5 - (x+2)^4\n",
    "F= (x+1)^5 + (x+2)^4\n",
    "EF=E*F\n",
    "print(f\"{E=}\\n{F=}\\n{EF=}\")\n",
    "EF.roots(x)"
   ]
  },
  {
   "cell_type": "code",
   "execution_count": 44,
   "metadata": {},
   "outputs": [
    {
     "name": "stdout",
     "output_type": "stream",
     "text": [
      "E=(x + 1)^10 - (x + 2)^9\n",
      "F=(x + 1)^10 + (x + 2)^9\n",
      "EF=((x + 1)^10 + (x + 2)^9)*((x + 1)^10 - (x + 2)^9)\n"
     ]
    },
    {
     "ename": "RuntimeError",
     "evalue": "no explicit roots found",
     "output_type": "error",
     "traceback": [
      "\u001b[0;31m---------------------------------------------------------------------------\u001b[0m",
      "\u001b[0;31mRuntimeError\u001b[0m                              Traceback (most recent call last)",
      "\u001b[0;32m<ipython-input-44-01488cc127b7>\u001b[0m in \u001b[0;36m<module>\u001b[0;34m\u001b[0m\n\u001b[1;32m      3\u001b[0m \u001b[0mEF\u001b[0m\u001b[0;34m=\u001b[0m\u001b[0mE\u001b[0m\u001b[0;34m*\u001b[0m\u001b[0mF\u001b[0m\u001b[0;34m\u001b[0m\u001b[0;34m\u001b[0m\u001b[0m\n\u001b[1;32m      4\u001b[0m \u001b[0mprint\u001b[0m\u001b[0;34m(\u001b[0m\u001b[0;34mf\"{E=}\\n{F=}\\n{EF=}\"\u001b[0m\u001b[0;34m)\u001b[0m\u001b[0;34m\u001b[0m\u001b[0;34m\u001b[0m\u001b[0m\n\u001b[0;32m----> 5\u001b[0;31m \u001b[0mEF\u001b[0m\u001b[0;34m.\u001b[0m\u001b[0mroots\u001b[0m\u001b[0;34m(\u001b[0m\u001b[0mx\u001b[0m\u001b[0;34m)\u001b[0m \u001b[0;31m## aucunes solution trouvées alors que c'est un polynôme\u001b[0m\u001b[0;34m\u001b[0m\u001b[0;34m\u001b[0m\u001b[0m\n\u001b[0m",
      "\u001b[0;32m/usr/lib/python3/dist-packages/sage/symbolic/expression.pyx\u001b[0m in \u001b[0;36msage.symbolic.expression.Expression.roots (build/cythonized/sage/symbolic/expression.cpp:61549)\u001b[0;34m()\u001b[0m\n\u001b[1;32m  11616\u001b[0m         \u001b[0mS\u001b[0m\u001b[0;34m,\u001b[0m \u001b[0mmul\u001b[0m \u001b[0;34m=\u001b[0m \u001b[0mself\u001b[0m\u001b[0;34m.\u001b[0m\u001b[0msolve\u001b[0m\u001b[0;34m(\u001b[0m\u001b[0mx\u001b[0m\u001b[0;34m,\u001b[0m \u001b[0mmultiplicities\u001b[0m\u001b[0;34m=\u001b[0m\u001b[0;32mTrue\u001b[0m\u001b[0;34m,\u001b[0m \u001b[0mexplicit_solutions\u001b[0m\u001b[0;34m=\u001b[0m\u001b[0mexplicit_solutions\u001b[0m\u001b[0;34m)\u001b[0m\u001b[0;34m\u001b[0m\u001b[0;34m\u001b[0m\u001b[0m\n\u001b[1;32m  11617\u001b[0m         \u001b[0;32mif\u001b[0m \u001b[0mlen\u001b[0m\u001b[0;34m(\u001b[0m\u001b[0mmul\u001b[0m\u001b[0;34m)\u001b[0m \u001b[0;34m==\u001b[0m \u001b[0;36m0\u001b[0m \u001b[0;32mand\u001b[0m \u001b[0mexplicit_solutions\u001b[0m\u001b[0;34m:\u001b[0m\u001b[0;34m\u001b[0m\u001b[0;34m\u001b[0m\u001b[0m\n\u001b[0;32m> 11618\u001b[0;31m             \u001b[0;32mraise\u001b[0m \u001b[0mRuntimeError\u001b[0m\u001b[0;34m(\u001b[0m\u001b[0;34m\"no explicit roots found\"\u001b[0m\u001b[0;34m)\u001b[0m\u001b[0;34m\u001b[0m\u001b[0;34m\u001b[0m\u001b[0m\n\u001b[0m\u001b[1;32m  11619\u001b[0m         \u001b[0;32melse\u001b[0m\u001b[0;34m:\u001b[0m\u001b[0;34m\u001b[0m\u001b[0;34m\u001b[0m\u001b[0m\n\u001b[1;32m  11620\u001b[0m             \u001b[0mrt_muls\u001b[0m \u001b[0;34m=\u001b[0m \u001b[0;34m[\u001b[0m\u001b[0;34m(\u001b[0m\u001b[0mS\u001b[0m\u001b[0;34m[\u001b[0m\u001b[0mi\u001b[0m\u001b[0;34m]\u001b[0m\u001b[0;34m.\u001b[0m\u001b[0mrhs\u001b[0m\u001b[0;34m(\u001b[0m\u001b[0;34m)\u001b[0m\u001b[0;34m,\u001b[0m \u001b[0mmul\u001b[0m\u001b[0;34m[\u001b[0m\u001b[0mi\u001b[0m\u001b[0;34m]\u001b[0m\u001b[0;34m)\u001b[0m \u001b[0;32mfor\u001b[0m \u001b[0mi\u001b[0m \u001b[0;32min\u001b[0m \u001b[0mrange\u001b[0m\u001b[0;34m(\u001b[0m\u001b[0mlen\u001b[0m\u001b[0;34m(\u001b[0m\u001b[0mmul\u001b[0m\u001b[0;34m)\u001b[0m\u001b[0;34m)\u001b[0m\u001b[0;34m]\u001b[0m\u001b[0;34m\u001b[0m\u001b[0;34m\u001b[0m\u001b[0m\n",
      "\u001b[0;31mRuntimeError\u001b[0m: no explicit roots found"
     ]
    }
   ],
   "source": [
    "E= (x+1)^10 - (x+2)^9\n",
    "F= (x+1)^10 + (x+2)^9\n",
    "EF=E*F\n",
    "print(f\"{E=}\\n{F=}\\n{EF=}\")\n",
    "EF.roots(x) ## aucunes solution trouvées alors que c'est un polynôme"
   ]
  },
  {
   "cell_type": "markdown",
   "metadata": {},
   "source": [
    "Pour résoudre on passe du calcul symbolique au calcul algébrique.\n",
    "\n",
    "Pour cela on se place dans la structure mathématique des polynomes qui sont des expressions symboliques ayant de bonne propriétés: en particulier une représentation canonique !!!\n",
    "\n",
    "Un polynôme est une expression de la forme : $a_0+a_1X+\\dots+a_nX^n$ avec $n$ une valeur connue et les coefficients $\\{a_0,a_1,\\dots,a_n\\}$ qui sont tous du même type (Entier, Rationnel, Complexe, ...).\n",
    "\n",
    "$\\Rightarrow$ le vecteur $[a_0,a_1,\\dots,a_n]$ est une représentation canonique de ce polynôme."
   ]
  },
  {
   "cell_type": "code",
   "execution_count": 73,
   "metadata": {},
   "outputs": [
    {
     "name": "stdout",
     "output_type": "stream",
     "text": [
      "type de x:  Symbolic Ring\n",
      "type de X:  Univariate Polynomial Ring in X over Rational Field\n"
     ]
    },
    {
     "data": {
      "text/plain": [
       "False"
      ]
     },
     "execution_count": 73,
     "metadata": {},
     "output_type": "execute_result"
    }
   ],
   "source": [
    "# Ensemble des polynomes à coefficient dans QQ\n",
    "# on choisit la variable X comme symbole des polynômes\n",
    "PR.<X>=PolynomialRing(QQ) #ou PR.<X>=QQ[]\n",
    "\n",
    "print(\"type de x: \",x.parent())\n",
    "print(\"type de X: \",X.parent())\n",
    "bool(X==x)"
   ]
  },
  {
   "cell_type": "code",
   "execution_count": 74,
   "metadata": {},
   "outputs": [
    {
     "name": "stdout",
     "output_type": "stream",
     "text": [
      "Univariate Polynomial Ring in X over Rational Field\n",
      "Symbolic Ring\n",
      "Symbolic Ring\n",
      "Univariate Polynomial Ring in X over Real Field with 53 bits of precision\n"
     ]
    },
    {
     "data": {
      "text/plain": [
       "Real Field with 53 bits of precision"
      ]
     },
     "execution_count": 74,
     "metadata": {},
     "output_type": "execute_result"
    }
   ],
   "source": [
    "print((2*X+4).parent()) \n",
    "print((2*x+4).parent()) \n",
    "print((2*X+ cos(3)).parent())\n",
    "print((2*X+0.5).parent()) # attention coercion vers les polynomes à coefficient dans RR\n",
    "RR"
   ]
  },
  {
   "cell_type": "code",
   "execution_count": 75,
   "metadata": {},
   "outputs": [
    {
     "data": {
      "text/html": [
       "<html><script type=\"math/tex; mode=display\">\\newcommand{\\Bold}[1]{\\mathbf{#1}}\\verb|une|\\phantom{\\verb!x!}\\verb|expression|\\phantom{\\verb!x!}\\verb|symbolique:|\\phantom{\\verb!x!}\\verb|E=(x|\\phantom{\\verb!x!}\\verb|+|\\phantom{\\verb!x!}\\verb|1)^10|\\phantom{\\verb!x!}\\verb|-|\\phantom{\\verb!x!}\\verb|(x|\\phantom{\\verb!x!}\\verb|+|\\phantom{\\verb!x!}\\verb|2)^9|</script></html>"
      ],
      "text/latex": [
       "\\begin{math}\n",
       "\\newcommand{\\Bold}[1]{\\mathbf{#1}}\\verb|une|\\phantom{\\verb!x!}\\verb|expression|\\phantom{\\verb!x!}\\verb|symbolique:|\\phantom{\\verb!x!}\\verb|E=(x|\\phantom{\\verb!x!}\\verb|+|\\phantom{\\verb!x!}\\verb|1)^10|\\phantom{\\verb!x!}\\verb|-|\\phantom{\\verb!x!}\\verb|(x|\\phantom{\\verb!x!}\\verb|+|\\phantom{\\verb!x!}\\verb|2)^9|\n",
       "\\end{math}"
      ],
      "text/plain": [
       "'une expression symbolique: E=(x + 1)^10 - (x + 2)^9'"
      ]
     },
     "metadata": {},
     "output_type": "display_data"
    },
    {
     "data": {
      "text/html": [
       "<html><script type=\"math/tex; mode=display\">\\newcommand{\\Bold}[1]{\\mathbf{#1}}\\verb|un|\\phantom{\\verb!x!}\\verb|polynomes:|\\phantom{\\verb!x!}\\verb|polyE=X^10|\\phantom{\\verb!x!}\\verb|+|\\phantom{\\verb!x!}\\verb|9*X^9|\\phantom{\\verb!x!}\\verb|+|\\phantom{\\verb!x!}\\verb|27*X^8|\\phantom{\\verb!x!}\\verb|-|\\phantom{\\verb!x!}\\verb|24*X^7|\\phantom{\\verb!x!}\\verb|-|\\phantom{\\verb!x!}\\verb|462*X^6|\\phantom{\\verb!x!}\\verb|-|\\phantom{\\verb!x!}\\verb|1764*X^5|\\phantom{\\verb!x!}\\verb|-|\\phantom{\\verb!x!}\\verb|3822*X^4|\\phantom{\\verb!x!}\\verb|-|\\phantom{\\verb!x!}\\verb|5256*X^3|\\phantom{\\verb!x!}\\verb|-|\\phantom{\\verb!x!}\\verb|4563*X^2|\\phantom{\\verb!x!}\\verb|-|\\phantom{\\verb!x!}\\verb|2294*X|\\phantom{\\verb!x!}\\verb|-|\\phantom{\\verb!x!}\\verb|511|</script></html>"
      ],
      "text/latex": [
       "\\begin{math}\n",
       "\\newcommand{\\Bold}[1]{\\mathbf{#1}}\\verb|un|\\phantom{\\verb!x!}\\verb|polynomes:|\\phantom{\\verb!x!}\\verb|polyE=X^10|\\phantom{\\verb!x!}\\verb|+|\\phantom{\\verb!x!}\\verb|9*X^9|\\phantom{\\verb!x!}\\verb|+|\\phantom{\\verb!x!}\\verb|27*X^8|\\phantom{\\verb!x!}\\verb|-|\\phantom{\\verb!x!}\\verb|24*X^7|\\phantom{\\verb!x!}\\verb|-|\\phantom{\\verb!x!}\\verb|462*X^6|\\phantom{\\verb!x!}\\verb|-|\\phantom{\\verb!x!}\\verb|1764*X^5|\\phantom{\\verb!x!}\\verb|-|\\phantom{\\verb!x!}\\verb|3822*X^4|\\phantom{\\verb!x!}\\verb|-|\\phantom{\\verb!x!}\\verb|5256*X^3|\\phantom{\\verb!x!}\\verb|-|\\phantom{\\verb!x!}\\verb|4563*X^2|\\phantom{\\verb!x!}\\verb|-|\\phantom{\\verb!x!}\\verb|2294*X|\\phantom{\\verb!x!}\\verb|-|\\phantom{\\verb!x!}\\verb|511|\n",
       "\\end{math}"
      ],
      "text/plain": [
       "'un polynomes: polyE=X^10 + 9*X^9 + 27*X^8 - 24*X^7 - 462*X^6 - 1764*X^5 - 3822*X^4 - 5256*X^3 - 4563*X^2 - 2294*X - 511'"
      ]
     },
     "metadata": {},
     "output_type": "display_data"
    }
   ],
   "source": [
    "# on convertit les expressions symboliques vers les polynomes en substituant \n",
    "# la variable x par celle des polynômes en X et en construisant le polynôme associé\n",
    "polyE=PR(E.subs(x=X)) \n",
    "polyF=PR(F.subs(x=X))\n",
    "polyEF=polyE*polyF\n",
    "show(f\"une expression symbolique: {E=}\")\n",
    "show(f\"un polynomes: {polyE=}\")\n"
   ]
  },
  {
   "cell_type": "code",
   "execution_count": 76,
   "metadata": {},
   "outputs": [
    {
     "name": "stdout",
     "output_type": "stream",
     "text": [
      "calcul des racines sur Rational Field\n"
     ]
    },
    {
     "data": {
      "text/plain": [
       "[]"
      ]
     },
     "execution_count": 76,
     "metadata": {},
     "output_type": "execute_result"
    }
   ],
   "source": [
    "# calcul des racines dans le domaine de définition du polynome (ici Q)\n",
    "print(f\"calcul des racines sur {polyEF.base_ring()}\")\n",
    "polyEF.roots()"
   ]
  },
  {
   "cell_type": "code",
   "execution_count": 77,
   "metadata": {},
   "outputs": [
    {
     "data": {
      "text/plain": [
       "[(-1.51825014565097, 1),\n",
       " (4.06351076609262, 1),\n",
       " (-1.51929008466337 - 0.389595992999977*I, 1),\n",
       " (-1.51929008466337 + 0.389595992999977*I, 1),\n",
       " (-1.51922405950470 - 0.270825166290452*I, 1),\n",
       " (-1.51922405950470 + 0.270825166290452*I, 1),\n",
       " (-1.51876244356380 - 0.171773267885010*I, 1),\n",
       " (-1.51876244356380 + 0.171773267885010*I, 1),\n",
       " (-1.51838700372900 - 0.0834870580994881*I, 1),\n",
       " (-1.51838700372900 + 0.0834870580994881*I, 1),\n",
       " (-1.51739709419704 - 0.543838798817926*I, 1),\n",
       " (-1.51739709419704 + 0.543838798817926*I, 1),\n",
       " (-1.50785565319868 - 0.765883493953419*I, 1),\n",
       " (-1.50785565319868 + 0.765883493953419*I, 1),\n",
       " (-1.46510584891600 - 1.13480030613066*I, 1),\n",
       " (-1.46510584891600 + 1.13480030613066*I, 1),\n",
       " (-1.22672212879498 - 1.87991770546555*I, 1),\n",
       " (-1.22672212879498 + 1.87991770546555*I, 1),\n",
       " (0.520114006346739 - 3.18892454790237*I, 1),\n",
       " (0.520114006346739 + 3.18892454790237*I, 1)]"
      ]
     },
     "execution_count": 77,
     "metadata": {},
     "output_type": "execute_result"
    }
   ],
   "source": [
    "# calcul des racines dans C\n",
    "R=polyEF.roots(CC)\n",
    "R"
   ]
  },
  {
   "cell_type": "code",
   "execution_count": 78,
   "metadata": {},
   "outputs": [
    {
     "data": {
      "text/plain": [
       "(-1.51825014565097, -9.48784872889519e-9)"
      ]
     },
     "execution_count": 78,
     "metadata": {},
     "output_type": "execute_result"
    }
   ],
   "source": [
    "R[0][0],polyEF(R[0][0])"
   ]
  },
  {
   "cell_type": "code",
   "execution_count": 79,
   "metadata": {},
   "outputs": [
    {
     "data": {
      "text/plain": [
       "6.3057198351756937881873e-16"
      ]
     },
     "execution_count": 79,
     "metadata": {},
     "output_type": "execute_result"
    }
   ],
   "source": [
    "polyEF(ComplexField(80)(R[0][0]))"
   ]
  },
  {
   "cell_type": "code",
   "execution_count": 80,
   "metadata": {},
   "outputs": [
    {
     "name": "stdout",
     "output_type": "stream",
     "text": [
      "CPU times: user 35.5 ms, sys: 0 ns, total: 35.5 ms\n",
      "Wall time: 35.8 ms\n",
      "CPU times: user 0 ns, sys: 13 µs, total: 13 µs\n",
      "Wall time: 16.9 µs\n"
     ]
    }
   ],
   "source": [
    "# calcul de la forme canonique d'un produit de polynômes\n",
    "E1= (x+1)^100 - (x+2)^99\n",
    "F1= (x+1)^100 + (x+2)^99\n",
    "polyE1=PR(E.subs(x=X)) \n",
    "polyF1=PR(F.subs(x=X))\n",
    "\n",
    "# via la representation par arbre (exp symbolique)\n",
    "%time (E1*F1).expand() \n",
    "# via la representation par liste des coefficients\n",
    "%time polyEF1=polyE1*polyF1 "
   ]
  },
  {
   "cell_type": "markdown",
   "metadata": {},
   "source": [
    "**A RETENIR**\n",
    "- le calcul symbolique permet de manipuler n'importe quelles expressions faisant intervenir des symboles et des fonctions \n",
    "- pas toujours possible de trouver des solutions avec uniquement des calculs symboliques\n",
    "- l'utilisation de calcul algèbrique est souvent préférable si on connaît la structure mathématique sous-jacente (Ex. les polynômes, les matrices, ...)\n",
    "- le calcul algébrique sera la plupart du temps plus rapide\n",
    "- parfois on retrouve un mélange de calcul algébrique et numérique (résolution dans les complexes si le problème est défini sur les nombres rationnels)"
   ]
  },
  {
   "cell_type": "markdown",
   "metadata": {},
   "source": [
    "## Les matrices"
   ]
  },
  {
   "cell_type": "code",
   "execution_count": 81,
   "metadata": {},
   "outputs": [
    {
     "name": "stdout",
     "output_type": "stream",
     "text": [
      "[1 2]\n",
      "[3 4] [1 2 3]\n",
      "[4 5 6]\n"
     ]
    },
    {
     "data": {
      "text/html": [
       "<html><script type=\"math/tex; mode=display\">\\newcommand{\\Bold}[1]{\\mathbf{#1}}\\left(\\begin{array}{rr}\n",
       "1 & 2 \\\\\n",
       "3 & 4\n",
       "\\end{array}\\right) \\left(\\begin{array}{rrr}\n",
       "1 & 2 & 3 \\\\\n",
       "4 & 5 & 6\n",
       "\\end{array}\\right)</script></html>"
      ],
      "text/latex": [
       "\\begin{math}\n",
       "\\newcommand{\\Bold}[1]{\\mathbf{#1}}\\left(\\begin{array}{rr}\n",
       "1 & 2 \\\\\n",
       "3 & 4\n",
       "\\end{array}\\right) \\left(\\begin{array}{rrr}\n",
       "1 & 2 & 3 \\\\\n",
       "4 & 5 & 6\n",
       "\\end{array}\\right)\n",
       "\\end{math}"
      ],
      "text/plain": [
       "[1 2]\n",
       "[3 4] [1 2 3]\n",
       "[4 5 6]"
      ]
     },
     "metadata": {},
     "output_type": "display_data"
    }
   ],
   "source": [
    "A=matrix([[1,2],[3,4]])\n",
    "B=matrix([[1,2,3],[4,5,6]])\n",
    "print(A,B)\n",
    "show(A,B)"
   ]
  },
  {
   "cell_type": "code",
   "execution_count": 82,
   "metadata": {},
   "outputs": [
    {
     "data": {
      "text/html": [
       "<html><script type=\"math/tex; mode=display\">\\newcommand{\\Bold}[1]{\\mathbf{#1}}\\left(\\begin{array}{rr}\n",
       "2 & 4 \\\\\n",
       "6 & 8\n",
       "\\end{array}\\right)</script></html>"
      ],
      "text/latex": [
       "\\begin{math}\n",
       "\\newcommand{\\Bold}[1]{\\mathbf{#1}}\\left(\\begin{array}{rr}\n",
       "2 & 4 \\\\\n",
       "6 & 8\n",
       "\\end{array}\\right)\n",
       "\\end{math}"
      ],
      "text/plain": [
       "[2 4]\n",
       "[6 8]"
      ]
     },
     "metadata": {},
     "output_type": "display_data"
    },
    {
     "data": {
      "text/html": [
       "<html><script type=\"math/tex; mode=display\">\\newcommand{\\Bold}[1]{\\mathbf{#1}}\\left(\\begin{array}{rr}\n",
       "3 & 6 \\\\\n",
       "9 & 12\n",
       "\\end{array}\\right) \\left(\\begin{array}{rr}\n",
       "3 & 6 \\\\\n",
       "9 & 12\n",
       "\\end{array}\\right)</script></html>"
      ],
      "text/latex": [
       "\\begin{math}\n",
       "\\newcommand{\\Bold}[1]{\\mathbf{#1}}\\left(\\begin{array}{rr}\n",
       "3 & 6 \\\\\n",
       "9 & 12\n",
       "\\end{array}\\right) \\left(\\begin{array}{rr}\n",
       "3 & 6 \\\\\n",
       "9 & 12\n",
       "\\end{array}\\right)\n",
       "\\end{math}"
      ],
      "text/plain": [
       "[ 3  6]\n",
       "[ 9 12] [ 3  6]\n",
       "[ 9 12]"
      ]
     },
     "metadata": {},
     "output_type": "display_data"
    }
   ],
   "source": [
    "# addition de matrice\n",
    "show(A+A)\n",
    "# multiplication par un scalaire\n",
    "show(3*A , A+A+A)"
   ]
  },
  {
   "cell_type": "code",
   "execution_count": 108,
   "metadata": {},
   "outputs": [
    {
     "data": {
      "text/html": [
       "<html><script type=\"math/tex; mode=display\">\\newcommand{\\Bold}[1]{\\mathbf{#1}}\\verb|A=| \\left(\\begin{array}{rrrrrrrrrr}\n",
       "3 & 12 & 7 & 0 & 13 & 0 & 13 & 14 & 5 & 3 \\\\\n",
       "9 & 2 & 2 & 9 & 16 & 1 & 6 & 9 & 1 & 12 \\\\\n",
       "14 & 10 & 15 & 9 & 8 & 7 & 13 & 7 & 0 & 8 \\\\\n",
       "10 & 3 & 14 & 14 & 9 & 1 & 11 & 2 & 7 & 5 \\\\\n",
       "14 & 15 & 16 & 9 & 7 & 11 & 13 & 9 & 5 & 14 \\\\\n",
       "11 & 2 & 13 & 3 & 5 & 4 & 10 & 13 & 14 & 13 \\\\\n",
       "10 & 7 & 6 & 6 & 7 & 7 & 15 & 2 & 11 & 8 \\\\\n",
       "10 & 1 & 5 & 9 & 10 & 1 & 3 & 3 & 11 & 1 \\\\\n",
       "8 & 12 & 6 & 9 & 12 & 2 & 1 & 11 & 7 & 13 \\\\\n",
       "11 & 0 & 4 & 13 & 15 & 10 & 7 & 15 & 6 & 4\n",
       "\\end{array}\\right)</script></html>"
      ],
      "text/latex": [
       "\\begin{math}\n",
       "\\newcommand{\\Bold}[1]{\\mathbf{#1}}\\verb|A=| \\left(\\begin{array}{rrrrrrrrrr}\n",
       "3 & 12 & 7 & 0 & 13 & 0 & 13 & 14 & 5 & 3 \\\\\n",
       "9 & 2 & 2 & 9 & 16 & 1 & 6 & 9 & 1 & 12 \\\\\n",
       "14 & 10 & 15 & 9 & 8 & 7 & 13 & 7 & 0 & 8 \\\\\n",
       "10 & 3 & 14 & 14 & 9 & 1 & 11 & 2 & 7 & 5 \\\\\n",
       "14 & 15 & 16 & 9 & 7 & 11 & 13 & 9 & 5 & 14 \\\\\n",
       "11 & 2 & 13 & 3 & 5 & 4 & 10 & 13 & 14 & 13 \\\\\n",
       "10 & 7 & 6 & 6 & 7 & 7 & 15 & 2 & 11 & 8 \\\\\n",
       "10 & 1 & 5 & 9 & 10 & 1 & 3 & 3 & 11 & 1 \\\\\n",
       "8 & 12 & 6 & 9 & 12 & 2 & 1 & 11 & 7 & 13 \\\\\n",
       "11 & 0 & 4 & 13 & 15 & 10 & 7 & 15 & 6 & 4\n",
       "\\end{array}\\right)\n",
       "\\end{math}"
      ],
      "text/plain": [
       "'A=' [ 3 12  7  0 13  0 13 14  5  3]\n",
       "[ 9  2  2  9 16  1  6  9  1 12]\n",
       "[14 10 15  9  8  7 13  7  0  8]\n",
       "[10  3 14 14  9  1 11  2  7  5]\n",
       "[14 15 16  9  7 11 13  9  5 14]\n",
       "[11  2 13  3  5  4 10 13 14 13]\n",
       "[10  7  6  6  7  7 15  2 11  8]\n",
       "[10  1  5  9 10  1  3  3 11  1]\n",
       "[ 8 12  6  9 12  2  1 11  7 13]\n",
       "[11  0  4 13 15 10  7 15  6  4]"
      ]
     },
     "metadata": {},
     "output_type": "display_data"
    },
    {
     "data": {
      "text/html": [
       "<html><script type=\"math/tex; mode=display\">\\newcommand{\\Bold}[1]{\\mathbf{#1}}\\verb|B=| \\left(\\begin{array}{rrrrrrrrrr}\n",
       "3 & 12 & 7 & 0 & 13 & 0 & 13 & 14 & 5 & 3 \\\\\n",
       "9 & 2 & 2 & 9 & 16 & 1 & 6 & 9 & 1 & 12 \\\\\n",
       "14 & 10 & 15 & 9 & 8 & 7 & 13 & 7 & 0 & 8 \\\\\n",
       "10 & 3 & 14 & 14 & 9 & 1 & 11 & 2 & 7 & 5 \\\\\n",
       "14 & 15 & 16 & 9 & 7 & 11 & 13 & 9 & 5 & 14 \\\\\n",
       "11 & 2 & 13 & 3 & 5 & 4 & 10 & 13 & 14 & 13 \\\\\n",
       "10 & 7 & 6 & 6 & 7 & 7 & 15 & 2 & 11 & 8 \\\\\n",
       "10 & 1 & 5 & 9 & 10 & 1 & 3 & 3 & 11 & 1 \\\\\n",
       "8 & 12 & 6 & 9 & 12 & 2 & 1 & 11 & 7 & 13 \\\\\n",
       "11 & 0 & 4 & 13 & 15 & 10 & 7 & 15 & 6 & 4\n",
       "\\end{array}\\right)</script></html>"
      ],
      "text/latex": [
       "\\begin{math}\n",
       "\\newcommand{\\Bold}[1]{\\mathbf{#1}}\\verb|B=| \\left(\\begin{array}{rrrrrrrrrr}\n",
       "3 & 12 & 7 & 0 & 13 & 0 & 13 & 14 & 5 & 3 \\\\\n",
       "9 & 2 & 2 & 9 & 16 & 1 & 6 & 9 & 1 & 12 \\\\\n",
       "14 & 10 & 15 & 9 & 8 & 7 & 13 & 7 & 0 & 8 \\\\\n",
       "10 & 3 & 14 & 14 & 9 & 1 & 11 & 2 & 7 & 5 \\\\\n",
       "14 & 15 & 16 & 9 & 7 & 11 & 13 & 9 & 5 & 14 \\\\\n",
       "11 & 2 & 13 & 3 & 5 & 4 & 10 & 13 & 14 & 13 \\\\\n",
       "10 & 7 & 6 & 6 & 7 & 7 & 15 & 2 & 11 & 8 \\\\\n",
       "10 & 1 & 5 & 9 & 10 & 1 & 3 & 3 & 11 & 1 \\\\\n",
       "8 & 12 & 6 & 9 & 12 & 2 & 1 & 11 & 7 & 13 \\\\\n",
       "11 & 0 & 4 & 13 & 15 & 10 & 7 & 15 & 6 & 4\n",
       "\\end{array}\\right)\n",
       "\\end{math}"
      ],
      "text/plain": [
       "'B=' [ 3 12  7  0 13  0 13 14  5  3]\n",
       "[ 9  2  2  9 16  1  6  9  1 12]\n",
       "[14 10 15  9  8  7 13  7  0  8]\n",
       "[10  3 14 14  9  1 11  2  7  5]\n",
       "[14 15 16  9  7 11 13  9  5 14]\n",
       "[11  2 13  3  5  4 10 13 14 13]\n",
       "[10  7  6  6  7  7 15  2 11  8]\n",
       "[10  1  5  9 10  1  3  3 11  1]\n",
       "[ 8 12  6  9 12  2  1 11  7 13]\n",
       "[11  0  4 13 15 10  7 15  6  4]"
      ]
     },
     "metadata": {},
     "output_type": "display_data"
    },
    {
     "data": {
      "text/html": [
       "<html><script type=\"math/tex; mode=display\">\\newcommand{\\Bold}[1]{\\mathbf{#1}}\\left(\\begin{array}{rrrrrrrrrr}\n",
       "6 & 7 & 14 & 0 & 9 & 0 & 9 & 11 & 10 & 6 \\\\\n",
       "1 & 4 & 4 & 1 & 15 & 2 & 12 & 1 & 2 & 7 \\\\\n",
       "11 & 3 & 13 & 1 & 16 & 14 & 9 & 14 & 0 & 16 \\\\\n",
       "3 & 6 & 11 & 11 & 1 & 2 & 5 & 4 & 14 & 10 \\\\\n",
       "11 & 13 & 15 & 1 & 14 & 5 & 9 & 1 & 10 & 11 \\\\\n",
       "5 & 4 & 9 & 6 & 10 & 8 & 3 & 9 & 11 & 9 \\\\\n",
       "3 & 14 & 12 & 12 & 14 & 14 & 13 & 4 & 5 & 16 \\\\\n",
       "3 & 2 & 10 & 1 & 3 & 2 & 6 & 6 & 5 & 2 \\\\\n",
       "16 & 7 & 12 & 1 & 7 & 4 & 2 & 5 & 14 & 9 \\\\\n",
       "5 & 0 & 8 & 9 & 13 & 3 & 14 & 13 & 12 & 8\n",
       "\\end{array}\\right)</script></html>"
      ],
      "text/latex": [
       "\\begin{math}\n",
       "\\newcommand{\\Bold}[1]{\\mathbf{#1}}\\left(\\begin{array}{rrrrrrrrrr}\n",
       "6 & 7 & 14 & 0 & 9 & 0 & 9 & 11 & 10 & 6 \\\\\n",
       "1 & 4 & 4 & 1 & 15 & 2 & 12 & 1 & 2 & 7 \\\\\n",
       "11 & 3 & 13 & 1 & 16 & 14 & 9 & 14 & 0 & 16 \\\\\n",
       "3 & 6 & 11 & 11 & 1 & 2 & 5 & 4 & 14 & 10 \\\\\n",
       "11 & 13 & 15 & 1 & 14 & 5 & 9 & 1 & 10 & 11 \\\\\n",
       "5 & 4 & 9 & 6 & 10 & 8 & 3 & 9 & 11 & 9 \\\\\n",
       "3 & 14 & 12 & 12 & 14 & 14 & 13 & 4 & 5 & 16 \\\\\n",
       "3 & 2 & 10 & 1 & 3 & 2 & 6 & 6 & 5 & 2 \\\\\n",
       "16 & 7 & 12 & 1 & 7 & 4 & 2 & 5 & 14 & 9 \\\\\n",
       "5 & 0 & 8 & 9 & 13 & 3 & 14 & 13 & 12 & 8\n",
       "\\end{array}\\right)\n",
       "\\end{math}"
      ],
      "text/plain": [
       "[ 6  7 14  0  9  0  9 11 10  6]\n",
       "[ 1  4  4  1 15  2 12  1  2  7]\n",
       "[11  3 13  1 16 14  9 14  0 16]\n",
       "[ 3  6 11 11  1  2  5  4 14 10]\n",
       "[11 13 15  1 14  5  9  1 10 11]\n",
       "[ 5  4  9  6 10  8  3  9 11  9]\n",
       "[ 3 14 12 12 14 14 13  4  5 16]\n",
       "[ 3  2 10  1  3  2  6  6  5  2]\n",
       "[16  7 12  1  7  4  2  5 14  9]\n",
       "[ 5  0  8  9 13  3 14 13 12  8]"
      ]
     },
     "metadata": {},
     "output_type": "display_data"
    }
   ],
   "source": [
    "show(\"A=\",A)\n",
    "show(\"B=\",B)\n",
    "\n",
    "show(A+B)"
   ]
  },
  {
   "cell_type": "markdown",
   "metadata": {},
   "source": [
    "### matrices et combinaisons linéaires"
   ]
  },
  {
   "cell_type": "code",
   "execution_count": 84,
   "metadata": {},
   "outputs": [
    {
     "data": {
      "text/plain": [
       "3*x + 2*y + 5*z"
      ]
     },
     "execution_count": 84,
     "metadata": {},
     "output_type": "execute_result"
    }
   ],
   "source": [
    "# une combinaison linéaire de symboles\n",
    "var('x y z')\n",
    "e=[x,y,z]\n",
    "3*e[0]+2*e[1]+5*e[2]"
   ]
  },
  {
   "cell_type": "code",
   "execution_count": 85,
   "metadata": {},
   "outputs": [
    {
     "data": {
      "text/html": [
       "<html><script type=\"math/tex; mode=display\">\\newcommand{\\Bold}[1]{\\mathbf{#1}}\\left(\\begin{array}{rrr}\n",
       "1 & 2 & 3\n",
       "\\end{array}\\right) \\left(\\begin{array}{r}\n",
       "x \\\\\n",
       "y \\\\\n",
       "z\n",
       "\\end{array}\\right)</script></html>"
      ],
      "text/latex": [
       "\\begin{math}\n",
       "\\newcommand{\\Bold}[1]{\\mathbf{#1}}\\left(\\begin{array}{rrr}\n",
       "1 & 2 & 3\n",
       "\\end{array}\\right) \\left(\\begin{array}{r}\n",
       "x \\\\\n",
       "y \\\\\n",
       "z\n",
       "\\end{array}\\right)\n",
       "\\end{math}"
      ],
      "text/plain": [
       "[1 2 3] [x]\n",
       "[y]\n",
       "[z]"
      ]
     },
     "metadata": {},
     "output_type": "display_data"
    }
   ],
   "source": [
    "u=matrix(1,3,[1,2,3])\n",
    "v=matrix(3,1,e)\n",
    "show(u,v)"
   ]
  },
  {
   "cell_type": "code",
   "execution_count": 86,
   "metadata": {},
   "outputs": [
    {
     "data": {
      "text/plain": [
       "[x + 2*y + 3*z]"
      ]
     },
     "execution_count": 86,
     "metadata": {},
     "output_type": "execute_result"
    }
   ],
   "source": [
    "# le produit de matrice n*1 par 1*n est une combinaison linéaire\n",
    "u*v"
   ]
  },
  {
   "cell_type": "code",
   "execution_count": null,
   "metadata": {},
   "outputs": [],
   "source": []
  },
  {
   "cell_type": "code",
   "execution_count": 87,
   "metadata": {},
   "outputs": [
    {
     "data": {
      "text/html": [
       "<html><script type=\"math/tex; mode=display\">\\newcommand{\\Bold}[1]{\\mathbf{#1}}\\left(\\begin{array}{rrr}\n",
       "1 & 2 & 3 \\\\\n",
       "4 & 5 & 6\n",
       "\\end{array}\\right) \\left(\\begin{array}{r}\n",
       "x \\\\\n",
       "y \\\\\n",
       "z\n",
       "\\end{array}\\right)</script></html>"
      ],
      "text/latex": [
       "\\begin{math}\n",
       "\\newcommand{\\Bold}[1]{\\mathbf{#1}}\\left(\\begin{array}{rrr}\n",
       "1 & 2 & 3 \\\\\n",
       "4 & 5 & 6\n",
       "\\end{array}\\right) \\left(\\begin{array}{r}\n",
       "x \\\\\n",
       "y \\\\\n",
       "z\n",
       "\\end{array}\\right)\n",
       "\\end{math}"
      ],
      "text/plain": [
       "[1 2 3]\n",
       "[4 5 6] [x]\n",
       "[y]\n",
       "[z]"
      ]
     },
     "metadata": {},
     "output_type": "display_data"
    },
    {
     "data": {
      "text/html": [
       "<html><script type=\"math/tex; mode=display\">\\newcommand{\\Bold}[1]{\\mathbf{#1}}\\left(\\begin{array}{r}\n",
       "x + 2 \\, y + 3 \\, z \\\\\n",
       "4 \\, x + 5 \\, y + 6 \\, z\n",
       "\\end{array}\\right)</script></html>"
      ],
      "text/latex": [
       "\\begin{math}\n",
       "\\newcommand{\\Bold}[1]{\\mathbf{#1}}\\left(\\begin{array}{r}\n",
       "x + 2 \\, y + 3 \\, z \\\\\n",
       "4 \\, x + 5 \\, y + 6 \\, z\n",
       "\\end{array}\\right)\n",
       "\\end{math}"
      ],
      "text/plain": [
       "[  x + 2*y + 3*z]\n",
       "[4*x + 5*y + 6*z]"
      ]
     },
     "metadata": {},
     "output_type": "display_data"
    }
   ],
   "source": [
    "# on peut augmenter le nombre de combinaisons linéaires (on ajoute une ligne à gauche)\n",
    "B=matrix(2,3,[1,2,3,4,5,6])\n",
    "show(B,v)\n",
    "show(B*v)"
   ]
  },
  {
   "cell_type": "code",
   "execution_count": 88,
   "metadata": {},
   "outputs": [
    {
     "data": {
      "text/html": [
       "<html><script type=\"math/tex; mode=display\">\\newcommand{\\Bold}[1]{\\mathbf{#1}}\\left(\\begin{array}{rr}\n",
       "x & a \\\\\n",
       "y & b \\\\\n",
       "z & c\n",
       "\\end{array}\\right)</script></html>"
      ],
      "text/latex": [
       "\\begin{math}\n",
       "\\newcommand{\\Bold}[1]{\\mathbf{#1}}\\left(\\begin{array}{rr}\n",
       "x & a \\\\\n",
       "y & b \\\\\n",
       "z & c\n",
       "\\end{array}\\right)\n",
       "\\end{math}"
      ],
      "text/plain": [
       "[x a]\n",
       "[y b]\n",
       "[z c]"
      ]
     },
     "metadata": {},
     "output_type": "display_data"
    },
    {
     "data": {
      "text/html": [
       "<html><script type=\"math/tex; mode=display\">\\newcommand{\\Bold}[1]{\\mathbf{#1}}\\left(\\begin{array}{rr}\n",
       "x + 2 \\, y + 3 \\, z & a + 2 \\, b + 3 \\, c \\\\\n",
       "4 \\, x + 5 \\, y + 6 \\, z & 4 \\, a + 5 \\, b + 6 \\, c\n",
       "\\end{array}\\right)</script></html>"
      ],
      "text/latex": [
       "\\begin{math}\n",
       "\\newcommand{\\Bold}[1]{\\mathbf{#1}}\\left(\\begin{array}{rr}\n",
       "x + 2 \\, y + 3 \\, z & a + 2 \\, b + 3 \\, c \\\\\n",
       "4 \\, x + 5 \\, y + 6 \\, z & 4 \\, a + 5 \\, b + 6 \\, c\n",
       "\\end{array}\\right)\n",
       "\\end{math}"
      ],
      "text/plain": [
       "[  x + 2*y + 3*z   a + 2*b + 3*c]\n",
       "[4*x + 5*y + 6*z 4*a + 5*b + 6*c]"
      ]
     },
     "metadata": {},
     "output_type": "display_data"
    }
   ],
   "source": [
    "# on peut augmenter le nombre de combinaisons linéaires (on ajoute une colonne à droite)\n",
    "var('x,y,z,a,b,c')\n",
    "V=matrix(3,2,[[x,a],[y,b],[z,c]])\n",
    "show(V)\n",
    "show(B*V)"
   ]
  },
  {
   "cell_type": "code",
   "execution_count": 109,
   "metadata": {},
   "outputs": [
    {
     "data": {
      "text/html": [
       "<html><script type=\"math/tex; mode=display\">\\newcommand{\\Bold}[1]{\\mathbf{#1}}\\left(\\begin{array}{rr}\n",
       "x & a \\\\\n",
       "y & b \\\\\n",
       "z & c\n",
       "\\end{array}\\right)</script></html>"
      ],
      "text/latex": [
       "\\begin{math}\n",
       "\\newcommand{\\Bold}[1]{\\mathbf{#1}}\\left(\\begin{array}{rr}\n",
       "x & a \\\\\n",
       "y & b \\\\\n",
       "z & c\n",
       "\\end{array}\\right)\n",
       "\\end{math}"
      ],
      "text/plain": [
       "[x a]\n",
       "[y b]\n",
       "[z c]"
      ]
     },
     "metadata": {},
     "output_type": "display_data"
    },
    {
     "ename": "TypeError",
     "evalue": "unsupported operand parent(s) for *: 'Full MatrixSpace of 3 by 2 dense matrices over Symbolic Ring' and 'Full MatrixSpace of 3 by 2 dense matrices over Symbolic Ring'",
     "output_type": "error",
     "traceback": [
      "\u001b[0;31m---------------------------------------------------------------------------\u001b[0m",
      "\u001b[0;31mTypeError\u001b[0m                                 Traceback (most recent call last)",
      "\u001b[0;32m<ipython-input-109-c1f2d01c1e38>\u001b[0m in \u001b[0;36m<module>\u001b[0;34m\u001b[0m\n\u001b[1;32m      1\u001b[0m \u001b[0;31m# ATTENTION: les tailles des matrices doivent correspondre\u001b[0m\u001b[0;34m\u001b[0m\u001b[0;34m\u001b[0m\u001b[0;34m\u001b[0m\u001b[0m\n\u001b[1;32m      2\u001b[0m \u001b[0mshow\u001b[0m\u001b[0;34m(\u001b[0m\u001b[0mV\u001b[0m\u001b[0;34m)\u001b[0m\u001b[0;34m\u001b[0m\u001b[0;34m\u001b[0m\u001b[0m\n\u001b[0;32m----> 3\u001b[0;31m \u001b[0mV\u001b[0m\u001b[0;34m*\u001b[0m\u001b[0mV\u001b[0m\u001b[0;34m\u001b[0m\u001b[0;34m\u001b[0m\u001b[0m\n\u001b[0m",
      "\u001b[0;32m/usr/lib/python3/dist-packages/sage/structure/element.pyx\u001b[0m in \u001b[0;36msage.structure.element.Matrix.__mul__ (build/cythonized/sage/structure/element.c:23899)\u001b[0;34m()\u001b[0m\n\u001b[1;32m   3810\u001b[0m             \u001b[0;32melse\u001b[0m\u001b[0;34m:\u001b[0m\u001b[0;34m\u001b[0m\u001b[0;34m\u001b[0m\u001b[0m\n\u001b[1;32m   3811\u001b[0m                 \u001b[0mparent\u001b[0m \u001b[0;34m=\u001b[0m \u001b[0;34m(\u001b[0m\u001b[0;34m<\u001b[0m\u001b[0mMatrix\u001b[0m\u001b[0;34m>\u001b[0m\u001b[0mleft\u001b[0m\u001b[0;34m)\u001b[0m\u001b[0;34m.\u001b[0m\u001b[0m_parent\u001b[0m\u001b[0;34m\u001b[0m\u001b[0;34m\u001b[0m\u001b[0m\n\u001b[0;32m-> 3812\u001b[0;31m                 \u001b[0;32mraise\u001b[0m \u001b[0mTypeError\u001b[0m\u001b[0;34m(\u001b[0m\u001b[0;34m\"unsupported operand parent(s) for *: '{}' and '{}'\"\u001b[0m\u001b[0;34m.\u001b[0m\u001b[0mformat\u001b[0m\u001b[0;34m(\u001b[0m\u001b[0mparent\u001b[0m\u001b[0;34m,\u001b[0m \u001b[0mparent\u001b[0m\u001b[0;34m)\u001b[0m\u001b[0;34m)\u001b[0m\u001b[0;34m\u001b[0m\u001b[0;34m\u001b[0m\u001b[0m\n\u001b[0m\u001b[1;32m   3813\u001b[0m \u001b[0;34m\u001b[0m\u001b[0m\n\u001b[1;32m   3814\u001b[0m         \u001b[0;32mif\u001b[0m \u001b[0mBOTH_ARE_ELEMENT\u001b[0m\u001b[0;34m(\u001b[0m\u001b[0mcl\u001b[0m\u001b[0;34m)\u001b[0m\u001b[0;34m:\u001b[0m\u001b[0;34m\u001b[0m\u001b[0;34m\u001b[0m\u001b[0m\n",
      "\u001b[0;31mTypeError\u001b[0m: unsupported operand parent(s) for *: 'Full MatrixSpace of 3 by 2 dense matrices over Symbolic Ring' and 'Full MatrixSpace of 3 by 2 dense matrices over Symbolic Ring'"
     ]
    }
   ],
   "source": [
    "# ATTENTION: les tailles des matrices doivent correspondre\n",
    "show(V)\n",
    "V*V"
   ]
  },
  {
   "cell_type": "code",
   "execution_count": 110,
   "metadata": {},
   "outputs": [
    {
     "ename": "TypeError",
     "evalue": "unsupported operand parent(s) for *: 'Full MatrixSpace of 3 by 2 dense matrices over Symbolic Ring' and 'Full MatrixSpace of 10 by 10 dense matrices over Integer Ring'",
     "output_type": "error",
     "traceback": [
      "\u001b[0;31m---------------------------------------------------------------------------\u001b[0m",
      "\u001b[0;31mTypeError\u001b[0m                                 Traceback (most recent call last)",
      "\u001b[0;32m<ipython-input-110-8c38b1c5e035>\u001b[0m in \u001b[0;36m<module>\u001b[0;34m\u001b[0m\n\u001b[1;32m      1\u001b[0m \u001b[0;31m# ATTENTION: le produit matriciel n'est pas commutatif\u001b[0m\u001b[0;34m\u001b[0m\u001b[0;34m\u001b[0m\u001b[0;34m\u001b[0m\u001b[0m\n\u001b[0;32m----> 2\u001b[0;31m \u001b[0mbool\u001b[0m\u001b[0;34m(\u001b[0m\u001b[0mV\u001b[0m\u001b[0;34m*\u001b[0m\u001b[0mB\u001b[0m\u001b[0;34m==\u001b[0m\u001b[0mB\u001b[0m\u001b[0;34m*\u001b[0m\u001b[0mV\u001b[0m\u001b[0;34m)\u001b[0m\u001b[0;34m\u001b[0m\u001b[0;34m\u001b[0m\u001b[0m\n\u001b[0m",
      "\u001b[0;32m/usr/lib/python3/dist-packages/sage/structure/element.pyx\u001b[0m in \u001b[0;36msage.structure.element.Matrix.__mul__ (build/cythonized/sage/structure/element.c:23931)\u001b[0;34m()\u001b[0m\n\u001b[1;32m   3813\u001b[0m \u001b[0;34m\u001b[0m\u001b[0m\n\u001b[1;32m   3814\u001b[0m         \u001b[0;32mif\u001b[0m \u001b[0mBOTH_ARE_ELEMENT\u001b[0m\u001b[0;34m(\u001b[0m\u001b[0mcl\u001b[0m\u001b[0;34m)\u001b[0m\u001b[0;34m:\u001b[0m\u001b[0;34m\u001b[0m\u001b[0;34m\u001b[0m\u001b[0m\n\u001b[0;32m-> 3815\u001b[0;31m             \u001b[0;32mreturn\u001b[0m \u001b[0mcoercion_model\u001b[0m\u001b[0;34m.\u001b[0m\u001b[0mbin_op\u001b[0m\u001b[0;34m(\u001b[0m\u001b[0mleft\u001b[0m\u001b[0;34m,\u001b[0m \u001b[0mright\u001b[0m\u001b[0;34m,\u001b[0m \u001b[0mmul\u001b[0m\u001b[0;34m)\u001b[0m\u001b[0;34m\u001b[0m\u001b[0;34m\u001b[0m\u001b[0m\n\u001b[0m\u001b[1;32m   3816\u001b[0m \u001b[0;34m\u001b[0m\u001b[0m\n\u001b[1;32m   3817\u001b[0m         \u001b[0mcdef\u001b[0m \u001b[0mlong\u001b[0m \u001b[0mvalue\u001b[0m\u001b[0;34m\u001b[0m\u001b[0;34m\u001b[0m\u001b[0m\n",
      "\u001b[0;32m/usr/lib/python3/dist-packages/sage/structure/coerce.pyx\u001b[0m in \u001b[0;36msage.structure.coerce.CoercionModel.bin_op (build/cythonized/sage/structure/coerce.c:11303)\u001b[0;34m()\u001b[0m\n\u001b[1;32m   1246\u001b[0m         \u001b[0;31m# We should really include the underlying error.\u001b[0m\u001b[0;34m\u001b[0m\u001b[0;34m\u001b[0m\u001b[0;34m\u001b[0m\u001b[0m\n\u001b[1;32m   1247\u001b[0m         \u001b[0;31m# This causes so much headache.\u001b[0m\u001b[0;34m\u001b[0m\u001b[0;34m\u001b[0m\u001b[0;34m\u001b[0m\u001b[0m\n\u001b[0;32m-> 1248\u001b[0;31m         \u001b[0;32mraise\u001b[0m \u001b[0mbin_op_exception\u001b[0m\u001b[0;34m(\u001b[0m\u001b[0mop\u001b[0m\u001b[0;34m,\u001b[0m \u001b[0mx\u001b[0m\u001b[0;34m,\u001b[0m \u001b[0my\u001b[0m\u001b[0;34m)\u001b[0m\u001b[0;34m\u001b[0m\u001b[0;34m\u001b[0m\u001b[0m\n\u001b[0m\u001b[1;32m   1249\u001b[0m \u001b[0;34m\u001b[0m\u001b[0m\n\u001b[1;32m   1250\u001b[0m     \u001b[0mcpdef\u001b[0m \u001b[0mcanonical_coercion\u001b[0m\u001b[0;34m(\u001b[0m\u001b[0mself\u001b[0m\u001b[0;34m,\u001b[0m \u001b[0mx\u001b[0m\u001b[0;34m,\u001b[0m \u001b[0my\u001b[0m\u001b[0;34m)\u001b[0m\u001b[0;34m:\u001b[0m\u001b[0;34m\u001b[0m\u001b[0;34m\u001b[0m\u001b[0m\n",
      "\u001b[0;31mTypeError\u001b[0m: unsupported operand parent(s) for *: 'Full MatrixSpace of 3 by 2 dense matrices over Symbolic Ring' and 'Full MatrixSpace of 10 by 10 dense matrices over Integer Ring'"
     ]
    }
   ],
   "source": [
    "# ATTENTION: le produit matriciel n'est pas commutatif\n",
    "bool(V*B==B*V)"
   ]
  },
  {
   "cell_type": "code",
   "execution_count": 111,
   "metadata": {},
   "outputs": [
    {
     "ename": "TypeError",
     "evalue": "unsupported operand parent(s) for *: 'Full MatrixSpace of 3 by 2 dense matrices over Symbolic Ring' and 'Full MatrixSpace of 10 by 10 dense matrices over Integer Ring'",
     "output_type": "error",
     "traceback": [
      "\u001b[0;31m---------------------------------------------------------------------------\u001b[0m",
      "\u001b[0;31mTypeError\u001b[0m                                 Traceback (most recent call last)",
      "\u001b[0;32m<ipython-input-111-48f68196575e>\u001b[0m in \u001b[0;36m<module>\u001b[0;34m\u001b[0m\n\u001b[0;32m----> 1\u001b[0;31m \u001b[0mshow\u001b[0m\u001b[0;34m(\u001b[0m\u001b[0mV\u001b[0m\u001b[0;34m*\u001b[0m\u001b[0mB\u001b[0m\u001b[0;34m,\u001b[0m\u001b[0mB\u001b[0m\u001b[0;34m*\u001b[0m\u001b[0mV\u001b[0m\u001b[0;34m)\u001b[0m\u001b[0;34m\u001b[0m\u001b[0;34m\u001b[0m\u001b[0m\n\u001b[0m",
      "\u001b[0;32m/usr/lib/python3/dist-packages/sage/structure/element.pyx\u001b[0m in \u001b[0;36msage.structure.element.Matrix.__mul__ (build/cythonized/sage/structure/element.c:23931)\u001b[0;34m()\u001b[0m\n\u001b[1;32m   3813\u001b[0m \u001b[0;34m\u001b[0m\u001b[0m\n\u001b[1;32m   3814\u001b[0m         \u001b[0;32mif\u001b[0m \u001b[0mBOTH_ARE_ELEMENT\u001b[0m\u001b[0;34m(\u001b[0m\u001b[0mcl\u001b[0m\u001b[0;34m)\u001b[0m\u001b[0;34m:\u001b[0m\u001b[0;34m\u001b[0m\u001b[0;34m\u001b[0m\u001b[0m\n\u001b[0;32m-> 3815\u001b[0;31m             \u001b[0;32mreturn\u001b[0m \u001b[0mcoercion_model\u001b[0m\u001b[0;34m.\u001b[0m\u001b[0mbin_op\u001b[0m\u001b[0;34m(\u001b[0m\u001b[0mleft\u001b[0m\u001b[0;34m,\u001b[0m \u001b[0mright\u001b[0m\u001b[0;34m,\u001b[0m \u001b[0mmul\u001b[0m\u001b[0;34m)\u001b[0m\u001b[0;34m\u001b[0m\u001b[0;34m\u001b[0m\u001b[0m\n\u001b[0m\u001b[1;32m   3816\u001b[0m \u001b[0;34m\u001b[0m\u001b[0m\n\u001b[1;32m   3817\u001b[0m         \u001b[0mcdef\u001b[0m \u001b[0mlong\u001b[0m \u001b[0mvalue\u001b[0m\u001b[0;34m\u001b[0m\u001b[0;34m\u001b[0m\u001b[0m\n",
      "\u001b[0;32m/usr/lib/python3/dist-packages/sage/structure/coerce.pyx\u001b[0m in \u001b[0;36msage.structure.coerce.CoercionModel.bin_op (build/cythonized/sage/structure/coerce.c:11303)\u001b[0;34m()\u001b[0m\n\u001b[1;32m   1246\u001b[0m         \u001b[0;31m# We should really include the underlying error.\u001b[0m\u001b[0;34m\u001b[0m\u001b[0;34m\u001b[0m\u001b[0;34m\u001b[0m\u001b[0m\n\u001b[1;32m   1247\u001b[0m         \u001b[0;31m# This causes so much headache.\u001b[0m\u001b[0;34m\u001b[0m\u001b[0;34m\u001b[0m\u001b[0;34m\u001b[0m\u001b[0m\n\u001b[0;32m-> 1248\u001b[0;31m         \u001b[0;32mraise\u001b[0m \u001b[0mbin_op_exception\u001b[0m\u001b[0;34m(\u001b[0m\u001b[0mop\u001b[0m\u001b[0;34m,\u001b[0m \u001b[0mx\u001b[0m\u001b[0;34m,\u001b[0m \u001b[0my\u001b[0m\u001b[0;34m)\u001b[0m\u001b[0;34m\u001b[0m\u001b[0;34m\u001b[0m\u001b[0m\n\u001b[0m\u001b[1;32m   1249\u001b[0m \u001b[0;34m\u001b[0m\u001b[0m\n\u001b[1;32m   1250\u001b[0m     \u001b[0mcpdef\u001b[0m \u001b[0mcanonical_coercion\u001b[0m\u001b[0;34m(\u001b[0m\u001b[0mself\u001b[0m\u001b[0;34m,\u001b[0m \u001b[0mx\u001b[0m\u001b[0;34m,\u001b[0m \u001b[0my\u001b[0m\u001b[0;34m)\u001b[0m\u001b[0;34m:\u001b[0m\u001b[0;34m\u001b[0m\u001b[0;34m\u001b[0m\u001b[0m\n",
      "\u001b[0;31mTypeError\u001b[0m: unsupported operand parent(s) for *: 'Full MatrixSpace of 3 by 2 dense matrices over Symbolic Ring' and 'Full MatrixSpace of 10 by 10 dense matrices over Integer Ring'"
     ]
    }
   ],
   "source": [
    "show(V*B,B*V)"
   ]
  },
  {
   "cell_type": "code",
   "execution_count": 112,
   "metadata": {},
   "outputs": [
    {
     "data": {
      "text/html": [
       "<html><script type=\"math/tex; mode=display\">\\newcommand{\\Bold}[1]{\\mathbf{#1}}\\left(\\begin{array}{rr}\n",
       "x & a \\\\\n",
       "y & b \\\\\n",
       "z & c\n",
       "\\end{array}\\right)</script></html>"
      ],
      "text/latex": [
       "\\begin{math}\n",
       "\\newcommand{\\Bold}[1]{\\mathbf{#1}}\\left(\\begin{array}{rr}\n",
       "x & a \\\\\n",
       "y & b \\\\\n",
       "z & c\n",
       "\\end{array}\\right)\n",
       "\\end{math}"
      ],
      "text/plain": [
       "[x a]\n",
       "[y b]\n",
       "[z c]"
      ]
     },
     "metadata": {},
     "output_type": "display_data"
    },
    {
     "data": {
      "text/html": [
       "<html><script type=\"math/tex; mode=display\">\\newcommand{\\Bold}[1]{\\mathbf{#1}}\\left(\\begin{array}{rrr}\n",
       "x & y & z \\\\\n",
       "a & b & c\n",
       "\\end{array}\\right)</script></html>"
      ],
      "text/latex": [
       "\\begin{math}\n",
       "\\newcommand{\\Bold}[1]{\\mathbf{#1}}\\left(\\begin{array}{rrr}\n",
       "x & y & z \\\\\n",
       "a & b & c\n",
       "\\end{array}\\right)\n",
       "\\end{math}"
      ],
      "text/plain": [
       "[x y z]\n",
       "[a b c]"
      ]
     },
     "metadata": {},
     "output_type": "display_data"
    }
   ],
   "source": [
    "# On peut transposer une matrice câd intervertir A[i,j] avec A[j,i]\n",
    "show(V)\n",
    "show(V.transpose())"
   ]
  },
  {
   "cell_type": "code",
   "execution_count": 113,
   "metadata": {},
   "outputs": [
    {
     "data": {
      "text/html": [
       "<html><script type=\"math/tex; mode=display\">\\newcommand{\\Bold}[1]{\\mathbf{#1}}\\left(\\begin{array}{rr}\n",
       "x^{2} + y^{2} + z^{2} & a x + b y + c z \\\\\n",
       "a x + b y + c z & a^{2} + b^{2} + c^{2}\n",
       "\\end{array}\\right)</script></html>"
      ],
      "text/latex": [
       "\\begin{math}\n",
       "\\newcommand{\\Bold}[1]{\\mathbf{#1}}\\left(\\begin{array}{rr}\n",
       "x^{2} + y^{2} + z^{2} & a x + b y + c z \\\\\n",
       "a x + b y + c z & a^{2} + b^{2} + c^{2}\n",
       "\\end{array}\\right)\n",
       "\\end{math}"
      ],
      "text/plain": [
       "[x^2 + y^2 + z^2 a*x + b*y + c*z]\n",
       "[a*x + b*y + c*z a^2 + b^2 + c^2]"
      ]
     },
     "metadata": {},
     "output_type": "display_data"
    },
    {
     "data": {
      "text/html": [
       "<html><script type=\"math/tex; mode=display\">\\newcommand{\\Bold}[1]{\\mathbf{#1}}\\left(\\begin{array}{rrr}\n",
       "a^{2} + x^{2} & a b + x y & a c + x z \\\\\n",
       "a b + x y & b^{2} + y^{2} & b c + y z \\\\\n",
       "a c + x z & b c + y z & c^{2} + z^{2}\n",
       "\\end{array}\\right)</script></html>"
      ],
      "text/latex": [
       "\\begin{math}\n",
       "\\newcommand{\\Bold}[1]{\\mathbf{#1}}\\left(\\begin{array}{rrr}\n",
       "a^{2} + x^{2} & a b + x y & a c + x z \\\\\n",
       "a b + x y & b^{2} + y^{2} & b c + y z \\\\\n",
       "a c + x z & b c + y z & c^{2} + z^{2}\n",
       "\\end{array}\\right)\n",
       "\\end{math}"
      ],
      "text/plain": [
       "[a^2 + x^2 a*b + x*y a*c + x*z]\n",
       "[a*b + x*y b^2 + y^2 b*c + y*z]\n",
       "[a*c + x*z b*c + y*z c^2 + z^2]"
      ]
     },
     "metadata": {},
     "output_type": "display_data"
    }
   ],
   "source": [
    "# le produit d'une matrice par sa transposée est toujours bien défini\n",
    "show(V.transpose()*V)\n",
    "show(V*V.transpose())"
   ]
  },
  {
   "cell_type": "markdown",
   "metadata": {},
   "source": [
    "### Les espaces de matrices"
   ]
  },
  {
   "cell_type": "code",
   "execution_count": 114,
   "metadata": {},
   "outputs": [
    {
     "data": {
      "text/plain": [
       "(Full MatrixSpace of 2 by 2 dense matrices over Integer Ring,\n",
       " Full MatrixSpace of 2 by 2 dense matrices over Real Field with 53 bits of precision,\n",
       " Full MatrixSpace of 2 by 2 dense matrices over Rational Field)"
      ]
     },
     "execution_count": 114,
     "metadata": {},
     "output_type": "execute_result"
    }
   ],
   "source": [
    "# le premier paramètres est le domaine des coefficients (optionnel)\n",
    "# si il est présent il impose le type des coefficients\n",
    "A=matrix([[1,2],[3,4]])\n",
    "B=matrix(RR,[[1,2/3],[3,4]])\n",
    "C=matrix([[1,2/3],[3,4]])\n",
    "A.parent(),B.parent(),C.parent()"
   ]
  },
  {
   "cell_type": "code",
   "execution_count": 115,
   "metadata": {},
   "outputs": [
    {
     "ename": "TypeError",
     "evalue": "no conversion of this rational to integer",
     "output_type": "error",
     "traceback": [
      "\u001b[0;31m---------------------------------------------------------------------------\u001b[0m",
      "\u001b[0;31mTypeError\u001b[0m                                 Traceback (most recent call last)",
      "\u001b[0;32m<ipython-input-115-814958a03ff9>\u001b[0m in \u001b[0;36m<module>\u001b[0;34m\u001b[0m\n\u001b[0;32m----> 1\u001b[0;31m \u001b[0mmatrix\u001b[0m\u001b[0;34m(\u001b[0m\u001b[0mZZ\u001b[0m\u001b[0;34m,\u001b[0m\u001b[0;34m[\u001b[0m\u001b[0;34m[\u001b[0m\u001b[0mInteger\u001b[0m\u001b[0;34m(\u001b[0m\u001b[0;36m1\u001b[0m\u001b[0;34m)\u001b[0m\u001b[0;34m,\u001b[0m\u001b[0mInteger\u001b[0m\u001b[0;34m(\u001b[0m\u001b[0;36m2\u001b[0m\u001b[0;34m)\u001b[0m\u001b[0;34m/\u001b[0m\u001b[0mInteger\u001b[0m\u001b[0;34m(\u001b[0m\u001b[0;36m3\u001b[0m\u001b[0;34m)\u001b[0m\u001b[0;34m]\u001b[0m\u001b[0;34m,\u001b[0m\u001b[0;34m[\u001b[0m\u001b[0mInteger\u001b[0m\u001b[0;34m(\u001b[0m\u001b[0;36m3\u001b[0m\u001b[0;34m)\u001b[0m\u001b[0;34m,\u001b[0m\u001b[0mInteger\u001b[0m\u001b[0;34m(\u001b[0m\u001b[0;36m4\u001b[0m\u001b[0;34m)\u001b[0m\u001b[0;34m]\u001b[0m\u001b[0;34m]\u001b[0m\u001b[0;34m)\u001b[0m\u001b[0;34m\u001b[0m\u001b[0;34m\u001b[0m\u001b[0m\n\u001b[0m",
      "\u001b[0;32m/usr/lib/python3/dist-packages/sage/matrix/constructor.pyx\u001b[0m in \u001b[0;36msage.matrix.constructor.matrix (build/cythonized/sage/matrix/constructor.c:2528)\u001b[0;34m()\u001b[0m\n\u001b[1;32m    633\u001b[0m     \"\"\"\n\u001b[1;32m    634\u001b[0m     \u001b[0mimmutable\u001b[0m \u001b[0;34m=\u001b[0m \u001b[0mkwds\u001b[0m\u001b[0;34m.\u001b[0m\u001b[0mpop\u001b[0m\u001b[0;34m(\u001b[0m\u001b[0;34m'immutable'\u001b[0m\u001b[0;34m,\u001b[0m \u001b[0;32mFalse\u001b[0m\u001b[0;34m)\u001b[0m\u001b[0;34m\u001b[0m\u001b[0;34m\u001b[0m\u001b[0m\n\u001b[0;32m--> 635\u001b[0;31m     \u001b[0mM\u001b[0m \u001b[0;34m=\u001b[0m \u001b[0mMatrixArgs\u001b[0m\u001b[0;34m(\u001b[0m\u001b[0;34m*\u001b[0m\u001b[0margs\u001b[0m\u001b[0;34m,\u001b[0m \u001b[0;34m**\u001b[0m\u001b[0mkwds\u001b[0m\u001b[0;34m)\u001b[0m\u001b[0;34m.\u001b[0m\u001b[0mmatrix\u001b[0m\u001b[0;34m(\u001b[0m\u001b[0;34m)\u001b[0m\u001b[0;34m\u001b[0m\u001b[0;34m\u001b[0m\u001b[0m\n\u001b[0m\u001b[1;32m    636\u001b[0m     \u001b[0;32mif\u001b[0m \u001b[0mimmutable\u001b[0m\u001b[0;34m:\u001b[0m\u001b[0;34m\u001b[0m\u001b[0;34m\u001b[0m\u001b[0m\n\u001b[1;32m    637\u001b[0m         \u001b[0mM\u001b[0m\u001b[0;34m.\u001b[0m\u001b[0mset_immutable\u001b[0m\u001b[0;34m(\u001b[0m\u001b[0;34m)\u001b[0m\u001b[0;34m\u001b[0m\u001b[0;34m\u001b[0m\u001b[0m\n",
      "\u001b[0;32m/usr/lib/python3/dist-packages/sage/matrix/args.pyx\u001b[0m in \u001b[0;36msage.matrix.args.MatrixArgs.matrix (build/cythonized/sage/matrix/args.c:7952)\u001b[0;34m()\u001b[0m\n\u001b[1;32m    662\u001b[0m                     \u001b[0;32mbreak\u001b[0m\u001b[0;34m\u001b[0m\u001b[0;34m\u001b[0m\u001b[0m\n\u001b[1;32m    663\u001b[0m         \u001b[0;32melse\u001b[0m\u001b[0;34m:\u001b[0m\u001b[0;34m\u001b[0m\u001b[0;34m\u001b[0m\u001b[0m\n\u001b[0;32m--> 664\u001b[0;31m             \u001b[0mM\u001b[0m \u001b[0;34m=\u001b[0m \u001b[0mself\u001b[0m\u001b[0;34m.\u001b[0m\u001b[0mspace\u001b[0m\u001b[0;34m(\u001b[0m\u001b[0mself\u001b[0m\u001b[0;34m,\u001b[0m \u001b[0mcoerce\u001b[0m\u001b[0;34m=\u001b[0m\u001b[0mconvert\u001b[0m\u001b[0;34m)\u001b[0m\u001b[0;34m\u001b[0m\u001b[0;34m\u001b[0m\u001b[0m\n\u001b[0m\u001b[1;32m    665\u001b[0m \u001b[0;34m\u001b[0m\u001b[0m\n\u001b[1;32m    666\u001b[0m         \u001b[0;31m# Also store the matrix to support multiple calls of matrix()\u001b[0m\u001b[0;34m\u001b[0m\u001b[0;34m\u001b[0m\u001b[0;34m\u001b[0m\u001b[0m\n",
      "\u001b[0;32m/usr/lib/python3/dist-packages/sage/matrix/matrix_space.py\u001b[0m in \u001b[0;36m__call__\u001b[0;34m(self, entries, coerce, copy)\u001b[0m\n\u001b[1;32m    849\u001b[0m             \u001b[0;34m[\u001b[0m\u001b[0mt\u001b[0m\u001b[0;34m]\u001b[0m\u001b[0;34m\u001b[0m\u001b[0;34m\u001b[0m\u001b[0m\n\u001b[1;32m    850\u001b[0m         \"\"\"\n\u001b[0;32m--> 851\u001b[0;31m         \u001b[0;32mreturn\u001b[0m \u001b[0mself\u001b[0m\u001b[0;34m.\u001b[0m\u001b[0melement_class\u001b[0m\u001b[0;34m(\u001b[0m\u001b[0mself\u001b[0m\u001b[0;34m,\u001b[0m \u001b[0mentries\u001b[0m\u001b[0;34m,\u001b[0m \u001b[0mcopy\u001b[0m\u001b[0;34m,\u001b[0m \u001b[0mcoerce\u001b[0m\u001b[0;34m)\u001b[0m\u001b[0;34m\u001b[0m\u001b[0;34m\u001b[0m\u001b[0m\n\u001b[0m\u001b[1;32m    852\u001b[0m \u001b[0;34m\u001b[0m\u001b[0m\n\u001b[1;32m    853\u001b[0m     \u001b[0;32mdef\u001b[0m \u001b[0mchange_ring\u001b[0m\u001b[0;34m(\u001b[0m\u001b[0mself\u001b[0m\u001b[0;34m,\u001b[0m \u001b[0mR\u001b[0m\u001b[0;34m)\u001b[0m\u001b[0;34m:\u001b[0m\u001b[0;34m\u001b[0m\u001b[0;34m\u001b[0m\u001b[0m\n",
      "\u001b[0;32m/usr/lib/python3/dist-packages/sage/matrix/matrix_integer_dense.pyx\u001b[0m in \u001b[0;36msage.matrix.matrix_integer_dense.Matrix_integer_dense.__init__ (build/cythonized/sage/matrix/matrix_integer_dense.c:7078)\u001b[0;34m()\u001b[0m\n\u001b[1;32m    308\u001b[0m         \u001b[0mma\u001b[0m \u001b[0;34m=\u001b[0m \u001b[0mMatrixArgs_init\u001b[0m\u001b[0;34m(\u001b[0m\u001b[0mparent\u001b[0m\u001b[0;34m,\u001b[0m \u001b[0mentries\u001b[0m\u001b[0;34m)\u001b[0m\u001b[0;34m\u001b[0m\u001b[0;34m\u001b[0m\u001b[0m\n\u001b[1;32m    309\u001b[0m         \u001b[0mcdef\u001b[0m \u001b[0mInteger\u001b[0m \u001b[0mz\u001b[0m\u001b[0;34m\u001b[0m\u001b[0;34m\u001b[0m\u001b[0m\n\u001b[0;32m--> 310\u001b[0;31m         \u001b[0;32mfor\u001b[0m \u001b[0mt\u001b[0m \u001b[0;32min\u001b[0m \u001b[0mma\u001b[0m\u001b[0;34m.\u001b[0m\u001b[0miter\u001b[0m\u001b[0;34m(\u001b[0m\u001b[0mcoerce\u001b[0m\u001b[0;34m,\u001b[0m \u001b[0;32mTrue\u001b[0m\u001b[0;34m)\u001b[0m\u001b[0;34m:\u001b[0m\u001b[0;34m\u001b[0m\u001b[0;34m\u001b[0m\u001b[0m\n\u001b[0m\u001b[1;32m    311\u001b[0m             \u001b[0mse\u001b[0m \u001b[0;34m=\u001b[0m \u001b[0;34m<\u001b[0m\u001b[0mSparseEntry\u001b[0m\u001b[0;34m>\u001b[0m\u001b[0mt\u001b[0m\u001b[0;34m\u001b[0m\u001b[0;34m\u001b[0m\u001b[0m\n\u001b[1;32m    312\u001b[0m             \u001b[0mz\u001b[0m \u001b[0;34m=\u001b[0m \u001b[0;34m<\u001b[0m\u001b[0mInteger\u001b[0m\u001b[0;34m>\u001b[0m\u001b[0mse\u001b[0m\u001b[0;34m.\u001b[0m\u001b[0mentry\u001b[0m\u001b[0;34m\u001b[0m\u001b[0;34m\u001b[0m\u001b[0m\n",
      "\u001b[0;32m/usr/lib/python3/dist-packages/sage/matrix/args.pyx\u001b[0m in \u001b[0;36miter (build/cythonized/sage/matrix/args.c:6733)\u001b[0;34m()\u001b[0m\n\u001b[1;32m    528\u001b[0m                     \u001b[0mx\u001b[0m \u001b[0;34m=\u001b[0m \u001b[0mnext\u001b[0m\u001b[0;34m(\u001b[0m\u001b[0mit\u001b[0m\u001b[0;34m)\u001b[0m\u001b[0;34m\u001b[0m\u001b[0;34m\u001b[0m\u001b[0m\n\u001b[1;32m    529\u001b[0m                     \u001b[0;32mif\u001b[0m \u001b[0mconvert\u001b[0m \u001b[0;32mand\u001b[0m \u001b[0mself\u001b[0m\u001b[0;34m.\u001b[0m\u001b[0mneed_to_convert\u001b[0m\u001b[0;34m(\u001b[0m\u001b[0mx\u001b[0m\u001b[0;34m)\u001b[0m\u001b[0;34m:\u001b[0m\u001b[0;34m\u001b[0m\u001b[0;34m\u001b[0m\u001b[0m\n\u001b[0;32m--> 530\u001b[0;31m                         \u001b[0mx\u001b[0m \u001b[0;34m=\u001b[0m \u001b[0mself\u001b[0m\u001b[0;34m.\u001b[0m\u001b[0mbase\u001b[0m\u001b[0;34m(\u001b[0m\u001b[0mx\u001b[0m\u001b[0;34m)\u001b[0m\u001b[0;34m\u001b[0m\u001b[0;34m\u001b[0m\u001b[0m\n\u001b[0m\u001b[1;32m    531\u001b[0m                     \u001b[0;32mif\u001b[0m \u001b[0msparse\u001b[0m\u001b[0;34m:\u001b[0m\u001b[0;34m\u001b[0m\u001b[0;34m\u001b[0m\u001b[0m\n\u001b[1;32m    532\u001b[0m                         \u001b[0;32myield\u001b[0m \u001b[0mmake_SparseEntry\u001b[0m\u001b[0;34m(\u001b[0m\u001b[0mi\u001b[0m\u001b[0;34m,\u001b[0m \u001b[0mj\u001b[0m\u001b[0;34m,\u001b[0m \u001b[0mx\u001b[0m\u001b[0;34m)\u001b[0m\u001b[0;34m\u001b[0m\u001b[0;34m\u001b[0m\u001b[0m\n",
      "\u001b[0;32m/usr/lib/python3/dist-packages/sage/structure/parent.pyx\u001b[0m in \u001b[0;36msage.structure.parent.Parent.__call__ (build/cythonized/sage/structure/parent.c:9336)\u001b[0;34m()\u001b[0m\n\u001b[1;32m    898\u001b[0m         \u001b[0;32mif\u001b[0m \u001b[0mmor\u001b[0m \u001b[0;32mis\u001b[0m \u001b[0;32mnot\u001b[0m \u001b[0;32mNone\u001b[0m\u001b[0;34m:\u001b[0m\u001b[0;34m\u001b[0m\u001b[0;34m\u001b[0m\u001b[0m\n\u001b[1;32m    899\u001b[0m             \u001b[0;32mif\u001b[0m \u001b[0mno_extra_args\u001b[0m\u001b[0;34m:\u001b[0m\u001b[0;34m\u001b[0m\u001b[0;34m\u001b[0m\u001b[0m\n\u001b[0;32m--> 900\u001b[0;31m                 \u001b[0;32mreturn\u001b[0m \u001b[0mmor\u001b[0m\u001b[0;34m.\u001b[0m\u001b[0m_call_\u001b[0m\u001b[0;34m(\u001b[0m\u001b[0mx\u001b[0m\u001b[0;34m)\u001b[0m\u001b[0;34m\u001b[0m\u001b[0;34m\u001b[0m\u001b[0m\n\u001b[0m\u001b[1;32m    901\u001b[0m             \u001b[0;32melse\u001b[0m\u001b[0;34m:\u001b[0m\u001b[0;34m\u001b[0m\u001b[0;34m\u001b[0m\u001b[0m\n\u001b[1;32m    902\u001b[0m                 \u001b[0;32mreturn\u001b[0m \u001b[0mmor\u001b[0m\u001b[0;34m.\u001b[0m\u001b[0m_call_with_args\u001b[0m\u001b[0;34m(\u001b[0m\u001b[0mx\u001b[0m\u001b[0;34m,\u001b[0m \u001b[0margs\u001b[0m\u001b[0;34m,\u001b[0m \u001b[0mkwds\u001b[0m\u001b[0;34m)\u001b[0m\u001b[0;34m\u001b[0m\u001b[0;34m\u001b[0m\u001b[0m\n",
      "\u001b[0;32m/usr/lib/python3/dist-packages/sage/rings/rational.pyx\u001b[0m in \u001b[0;36msage.rings.rational.Q_to_Z._call_ (build/cythonized/sage/rings/rational.c:32478)\u001b[0;34m()\u001b[0m\n\u001b[1;32m   4157\u001b[0m         \"\"\"\n\u001b[1;32m   4158\u001b[0m         \u001b[0;32mif\u001b[0m \u001b[0;32mnot\u001b[0m \u001b[0mmpz_cmp_si\u001b[0m\u001b[0;34m(\u001b[0m\u001b[0mmpq_denref\u001b[0m\u001b[0;34m(\u001b[0m\u001b[0;34m(\u001b[0m\u001b[0;34m<\u001b[0m\u001b[0mRational\u001b[0m\u001b[0;34m>\u001b[0m\u001b[0mx\u001b[0m\u001b[0;34m)\u001b[0m\u001b[0;34m.\u001b[0m\u001b[0mvalue\u001b[0m\u001b[0;34m)\u001b[0m\u001b[0;34m,\u001b[0m \u001b[0;36m1\u001b[0m\u001b[0;34m)\u001b[0m \u001b[0;34m==\u001b[0m \u001b[0;36m0\u001b[0m\u001b[0;34m:\u001b[0m\u001b[0;34m\u001b[0m\u001b[0;34m\u001b[0m\u001b[0m\n\u001b[0;32m-> 4159\u001b[0;31m             \u001b[0;32mraise\u001b[0m \u001b[0mTypeError\u001b[0m\u001b[0;34m(\u001b[0m\u001b[0;34m\"no conversion of this rational to integer\"\u001b[0m\u001b[0;34m)\u001b[0m\u001b[0;34m\u001b[0m\u001b[0;34m\u001b[0m\u001b[0m\n\u001b[0m\u001b[1;32m   4160\u001b[0m         \u001b[0mcdef\u001b[0m \u001b[0mInteger\u001b[0m \u001b[0mn\u001b[0m \u001b[0;34m=\u001b[0m \u001b[0mInteger\u001b[0m\u001b[0;34m.\u001b[0m\u001b[0m__new__\u001b[0m\u001b[0;34m(\u001b[0m\u001b[0mInteger\u001b[0m\u001b[0;34m)\u001b[0m\u001b[0;34m\u001b[0m\u001b[0;34m\u001b[0m\u001b[0m\n\u001b[1;32m   4161\u001b[0m         \u001b[0mn\u001b[0m\u001b[0;34m.\u001b[0m\u001b[0mset_from_mpz\u001b[0m\u001b[0;34m(\u001b[0m\u001b[0mmpq_numref\u001b[0m\u001b[0;34m(\u001b[0m\u001b[0;34m(\u001b[0m\u001b[0;34m<\u001b[0m\u001b[0mRational\u001b[0m\u001b[0;34m>\u001b[0m\u001b[0mx\u001b[0m\u001b[0;34m)\u001b[0m\u001b[0;34m.\u001b[0m\u001b[0mvalue\u001b[0m\u001b[0;34m)\u001b[0m\u001b[0;34m)\u001b[0m\u001b[0;34m\u001b[0m\u001b[0;34m\u001b[0m\u001b[0m\n",
      "\u001b[0;31mTypeError\u001b[0m: no conversion of this rational to integer"
     ]
    }
   ],
   "source": [
    "matrix(ZZ,[[1,2/3],[3,4]])"
   ]
  },
  {
   "cell_type": "code",
   "execution_count": 118,
   "metadata": {},
   "outputs": [
    {
     "data": {
      "text/html": [
       "<html><script type=\"math/tex; mode=display\">\\newcommand{\\Bold}[1]{\\mathbf{#1}}\\left(\\begin{array}{rr}\n",
       "0 & 0 \\\\\n",
       "0 & 0\n",
       "\\end{array}\\right)</script></html>"
      ],
      "text/latex": [
       "\\begin{math}\n",
       "\\newcommand{\\Bold}[1]{\\mathbf{#1}}\\left(\\begin{array}{rr}\n",
       "0 & 0 \\\\\n",
       "0 & 0\n",
       "\\end{array}\\right)\n",
       "\\end{math}"
      ],
      "text/plain": [
       "[0 0]\n",
       "[0 0]"
      ]
     },
     "metadata": {},
     "output_type": "display_data"
    },
    {
     "data": {
      "text/html": [
       "<html><script type=\"math/tex; mode=display\">\\newcommand{\\Bold}[1]{\\mathbf{#1}}\\left(\\begin{array}{rr}\n",
       "4 & 5 \\\\\n",
       "6 & 7\n",
       "\\end{array}\\right)</script></html>"
      ],
      "text/latex": [
       "\\begin{math}\n",
       "\\newcommand{\\Bold}[1]{\\mathbf{#1}}\\left(\\begin{array}{rr}\n",
       "4 & 5 \\\\\n",
       "6 & 7\n",
       "\\end{array}\\right)\n",
       "\\end{math}"
      ],
      "text/plain": [
       "[4 5]\n",
       "[6 7]"
      ]
     },
     "metadata": {},
     "output_type": "display_data"
    },
    {
     "data": {
      "text/html": [
       "<html><script type=\"math/tex; mode=display\">\\newcommand{\\Bold}[1]{\\mathbf{#1}}\\left(\\begin{array}{rr}\n",
       "4 & 5 \\\\\n",
       "6 & 7\n",
       "\\end{array}\\right)</script></html>"
      ],
      "text/latex": [
       "\\begin{math}\n",
       "\\newcommand{\\Bold}[1]{\\mathbf{#1}}\\left(\\begin{array}{rr}\n",
       "4 & 5 \\\\\n",
       "6 & 7\n",
       "\\end{array}\\right)\n",
       "\\end{math}"
      ],
      "text/plain": [
       "[4 5]\n",
       "[6 7]"
      ]
     },
     "metadata": {},
     "output_type": "display_data"
    }
   ],
   "source": [
    "# le second/troisièmes paramètres sont les dimensions (optionnel)\n",
    "# si ils sont présents ils imposent le nombre de coefficients (si aucun que des zéros)\n",
    "A=matrix(ZZ,2,2)\n",
    "B=matrix(ZZ,2,2,[[4,5],[6,7]])\n",
    "C=matrix(ZZ,2,2,[4,5,6,7])\n",
    "show(A)\n",
    "show(B)\n",
    "show(C)"
   ]
  },
  {
   "cell_type": "code",
   "execution_count": 119,
   "metadata": {},
   "outputs": [
    {
     "data": {
      "text/html": [
       "<html><script type=\"math/tex; mode=display\">\\newcommand{\\Bold}[1]{\\mathbf{#1}}\\mathrm{Mat}_{2\\times 2}(\\Bold{Q}) \\verb|\tet\t| \\mathrm{Mat}_{2\\times 3}(\\Bold{Z})</script></html>"
      ],
      "text/latex": [
       "\\begin{math}\n",
       "\\newcommand{\\Bold}[1]{\\mathbf{#1}}\\mathrm{Mat}_{2\\times 2}(\\Bold{Q}) \\verb|\tet\t| \\mathrm{Mat}_{2\\times 3}(\\Bold{Z})\n",
       "\\end{math}"
      ],
      "text/plain": [
       "Full MatrixSpace of 2 by 2 dense matrices over Rational Field '\\tet\\t' Full MatrixSpace of 2 by 3 dense matrices over Integer Ring"
      ]
     },
     "metadata": {},
     "output_type": "display_data"
    },
    {
     "data": {
      "text/plain": [
       "(Full MatrixSpace of 2 by 2 dense matrices over Rational Field,\n",
       " Full MatrixSpace of 2 by 3 dense matrices over Integer Ring)"
      ]
     },
     "execution_count": 119,
     "metadata": {},
     "output_type": "execute_result"
    }
   ],
   "source": [
    "# Comme les matrices vivent dans un espace de matrice on peut définir cet objet\n",
    "MS23=MatrixSpace(ZZ,2,3)\n",
    "MS22=MatrixSpace(QQ,2,2)\n",
    "show(MS22,\"\\tet\\t\",MS23)\n",
    "MS22,MS23"
   ]
  },
  {
   "cell_type": "code",
   "execution_count": 120,
   "metadata": {},
   "outputs": [
    {
     "data": {
      "text/plain": [
       "(6, (2, 3))"
      ]
     },
     "execution_count": 120,
     "metadata": {},
     "output_type": "execute_result"
    }
   ],
   "source": [
    "MS23.dimension() , MS23.dims()"
   ]
  },
  {
   "cell_type": "code",
   "execution_count": 121,
   "metadata": {},
   "outputs": [
    {
     "data": {
      "text/plain": [
       "Full MatrixSpace of 2 by 2 dense matrices over Rational Field"
      ]
     },
     "execution_count": 121,
     "metadata": {},
     "output_type": "execute_result"
    }
   ],
   "source": [
    "A=MS22.matrix([1,2,3,4])\n",
    "A.parent()"
   ]
  },
  {
   "cell_type": "code",
   "execution_count": 122,
   "metadata": {},
   "outputs": [
    {
     "data": {
      "text/html": [
       "<html><script type=\"math/tex; mode=display\">\\newcommand{\\Bold}[1]{\\mathbf{#1}}\\mathrm{Mat}_{2\\times 2}(\\Bold{Q})</script></html>"
      ],
      "text/latex": [
       "\\begin{math}\n",
       "\\newcommand{\\Bold}[1]{\\mathbf{#1}}\\mathrm{Mat}_{2\\times 2}(\\Bold{Q})\n",
       "\\end{math}"
      ],
      "text/plain": [
       "Full MatrixSpace of 2 by 2 dense matrices over Rational Field"
      ]
     },
     "metadata": {},
     "output_type": "display_data"
    }
   ],
   "source": [
    "MS22.random_element()\n",
    "show(_)"
   ]
  },
  {
   "cell_type": "code",
   "execution_count": 123,
   "metadata": {},
   "outputs": [
    {
     "data": {
      "text/html": [
       "<html><script type=\"math/tex; mode=display\">\\newcommand{\\Bold}[1]{\\mathbf{#1}}\\mathrm{Mat}_{2\\times 2}(\\Bold{Q})</script></html>"
      ],
      "text/latex": [
       "\\begin{math}\n",
       "\\newcommand{\\Bold}[1]{\\mathbf{#1}}\\mathrm{Mat}_{2\\times 2}(\\Bold{Q})\n",
       "\\end{math}"
      ],
      "text/plain": [
       "Full MatrixSpace of 2 by 2 dense matrices over Rational Field"
      ]
     },
     "metadata": {},
     "output_type": "display_data"
    }
   ],
   "source": [
    "MS10=MatrixSpace(ZZ,10,10)\n",
    "MS10.random_element(density=1,x=0,y=100)\n",
    "show(_)"
   ]
  },
  {
   "cell_type": "code",
   "execution_count": 124,
   "metadata": {},
   "outputs": [
    {
     "data": {
      "text/html": [
       "<html><script type=\"math/tex; mode=display\">\\newcommand{\\Bold}[1]{\\mathbf{#1}}\\mathrm{Mat}_{2\\times 2}(\\Bold{Q})</script></html>"
      ],
      "text/latex": [
       "\\begin{math}\n",
       "\\newcommand{\\Bold}[1]{\\mathbf{#1}}\\mathrm{Mat}_{2\\times 2}(\\Bold{Q})\n",
       "\\end{math}"
      ],
      "text/plain": [
       "Full MatrixSpace of 2 by 2 dense matrices over Rational Field"
      ]
     },
     "metadata": {},
     "output_type": "display_data"
    }
   ],
   "source": [
    "MS10=MS10.change_ring(QQ)\n",
    "MS10.random_element(density=0.5,num_bound=100,den_bound=100)\n",
    "show(_)"
   ]
  },
  {
   "cell_type": "markdown",
   "metadata": {},
   "source": [
    "### un peu de calcul algébrique matriciel"
   ]
  },
  {
   "cell_type": "code",
   "execution_count": 125,
   "metadata": {},
   "outputs": [
    {
     "data": {
      "text/html": [
       "<html><script type=\"math/tex; mode=display\">\\newcommand{\\Bold}[1]{\\mathbf{#1}}\\verb|A=| \\left(\\begin{array}{rrrrrrrrrr}\n",
       "13 & 1 & 1 & 13 & 5 & 1 & 9 & 9 & 13 & 1 \\\\\n",
       "12 & 10 & 12 & 4 & 9 & 13 & 1 & 6 & 9 & 15 \\\\\n",
       "9 & 4 & 8 & 15 & 0 & 11 & 13 & 12 & 5 & 1 \\\\\n",
       "5 & 10 & 8 & 4 & 14 & 6 & 1 & 14 & 3 & 14 \\\\\n",
       "1 & 13 & 9 & 13 & 7 & 2 & 0 & 12 & 16 & 5 \\\\\n",
       "11 & 2 & 16 & 6 & 9 & 12 & 0 & 1 & 3 & 7 \\\\\n",
       "16 & 15 & 9 & 14 & 0 & 6 & 1 & 1 & 6 & 14 \\\\\n",
       "7 & 9 & 9 & 6 & 16 & 8 & 4 & 4 & 1 & 12 \\\\\n",
       "7 & 4 & 5 & 9 & 12 & 4 & 11 & 8 & 13 & 15 \\\\\n",
       "11 & 14 & 9 & 1 & 8 & 12 & 9 & 11 & 10 & 6\n",
       "\\end{array}\\right)</script></html>"
      ],
      "text/latex": [
       "\\begin{math}\n",
       "\\newcommand{\\Bold}[1]{\\mathbf{#1}}\\verb|A=| \\left(\\begin{array}{rrrrrrrrrr}\n",
       "13 & 1 & 1 & 13 & 5 & 1 & 9 & 9 & 13 & 1 \\\\\n",
       "12 & 10 & 12 & 4 & 9 & 13 & 1 & 6 & 9 & 15 \\\\\n",
       "9 & 4 & 8 & 15 & 0 & 11 & 13 & 12 & 5 & 1 \\\\\n",
       "5 & 10 & 8 & 4 & 14 & 6 & 1 & 14 & 3 & 14 \\\\\n",
       "1 & 13 & 9 & 13 & 7 & 2 & 0 & 12 & 16 & 5 \\\\\n",
       "11 & 2 & 16 & 6 & 9 & 12 & 0 & 1 & 3 & 7 \\\\\n",
       "16 & 15 & 9 & 14 & 0 & 6 & 1 & 1 & 6 & 14 \\\\\n",
       "7 & 9 & 9 & 6 & 16 & 8 & 4 & 4 & 1 & 12 \\\\\n",
       "7 & 4 & 5 & 9 & 12 & 4 & 11 & 8 & 13 & 15 \\\\\n",
       "11 & 14 & 9 & 1 & 8 & 12 & 9 & 11 & 10 & 6\n",
       "\\end{array}\\right)\n",
       "\\end{math}"
      ],
      "text/plain": [
       "'A=' [13  1  1 13  5  1  9  9 13  1]\n",
       "[12 10 12  4  9 13  1  6  9 15]\n",
       "[ 9  4  8 15  0 11 13 12  5  1]\n",
       "[ 5 10  8  4 14  6  1 14  3 14]\n",
       "[ 1 13  9 13  7  2  0 12 16  5]\n",
       "[11  2 16  6  9 12  0  1  3  7]\n",
       "[16 15  9 14  0  6  1  1  6 14]\n",
       "[ 7  9  9  6 16  8  4  4  1 12]\n",
       "[ 7  4  5  9 12  4 11  8 13 15]\n",
       "[11 14  9  1  8 12  9 11 10  6]"
      ]
     },
     "metadata": {},
     "output_type": "display_data"
    },
    {
     "data": {
      "text/html": [
       "<html><script type=\"math/tex; mode=display\">\\newcommand{\\Bold}[1]{\\mathbf{#1}}\\verb|det(A)=15|</script></html>"
      ],
      "text/latex": [
       "\\begin{math}\n",
       "\\newcommand{\\Bold}[1]{\\mathbf{#1}}\\verb|det(A)=15|\n",
       "\\end{math}"
      ],
      "text/plain": [
       "'det(A)=15'"
      ]
     },
     "metadata": {},
     "output_type": "display_data"
    }
   ],
   "source": [
    "N=10\n",
    "q=17\n",
    "MS=MatrixSpace(GF(q),N,N)\n",
    "A=MS.random_element()\n",
    "show(\"A=\",A)\n",
    "show(f\"det(A)={A.det()}\")"
   ]
  },
  {
   "cell_type": "code",
   "execution_count": 126,
   "metadata": {},
   "outputs": [
    {
     "data": {
      "text/html": [
       "<html><script type=\"math/tex; mode=display\">\\newcommand{\\Bold}[1]{\\mathbf{#1}}\\verb|B=| \\left(\\begin{array}{rrrrrrrrrr}\n",
       "13 & 1 & 1 & 13 & 5 & 1 & 9 & 9 & 13 & 1 \\\\\n",
       "12 & 10 & 12 & 4 & 9 & 13 & 1 & 6 & 9 & 15 \\\\\n",
       "9 & 4 & 8 & 15 & 0 & 11 & 13 & 12 & 5 & 1 \\\\\n",
       "5 & 10 & 8 & 4 & 14 & 6 & 1 & 14 & 3 & 14 \\\\\n",
       "1 & 13 & 9 & 13 & 7 & 2 & 0 & 12 & 16 & 5 \\\\\n",
       "11 & 2 & 16 & 6 & 9 & 12 & 0 & 1 & 3 & 7 \\\\\n",
       "16 & 15 & 9 & 14 & 0 & 6 & 1 & 1 & 6 & 14 \\\\\n",
       "7 & 9 & 9 & 6 & 16 & 8 & 4 & 4 & 1 & 12 \\\\\n",
       "7 & 4 & 5 & 9 & 12 & 4 & 11 & 8 & 13 & 15 \\\\\n",
       "11 & 14 & 9 & 1 & 8 & 12 & 9 & 11 & 10 & 6\n",
       "\\end{array}\\right)</script></html>"
      ],
      "text/latex": [
       "\\begin{math}\n",
       "\\newcommand{\\Bold}[1]{\\mathbf{#1}}\\verb|B=| \\left(\\begin{array}{rrrrrrrrrr}\n",
       "13 & 1 & 1 & 13 & 5 & 1 & 9 & 9 & 13 & 1 \\\\\n",
       "12 & 10 & 12 & 4 & 9 & 13 & 1 & 6 & 9 & 15 \\\\\n",
       "9 & 4 & 8 & 15 & 0 & 11 & 13 & 12 & 5 & 1 \\\\\n",
       "5 & 10 & 8 & 4 & 14 & 6 & 1 & 14 & 3 & 14 \\\\\n",
       "1 & 13 & 9 & 13 & 7 & 2 & 0 & 12 & 16 & 5 \\\\\n",
       "11 & 2 & 16 & 6 & 9 & 12 & 0 & 1 & 3 & 7 \\\\\n",
       "16 & 15 & 9 & 14 & 0 & 6 & 1 & 1 & 6 & 14 \\\\\n",
       "7 & 9 & 9 & 6 & 16 & 8 & 4 & 4 & 1 & 12 \\\\\n",
       "7 & 4 & 5 & 9 & 12 & 4 & 11 & 8 & 13 & 15 \\\\\n",
       "11 & 14 & 9 & 1 & 8 & 12 & 9 & 11 & 10 & 6\n",
       "\\end{array}\\right)\n",
       "\\end{math}"
      ],
      "text/plain": [
       "'B=' [13  1  1 13  5  1  9  9 13  1]\n",
       "[12 10 12  4  9 13  1  6  9 15]\n",
       "[ 9  4  8 15  0 11 13 12  5  1]\n",
       "[ 5 10  8  4 14  6  1 14  3 14]\n",
       "[ 1 13  9 13  7  2  0 12 16  5]\n",
       "[11  2 16  6  9 12  0  1  3  7]\n",
       "[16 15  9 14  0  6  1  1  6 14]\n",
       "[ 7  9  9  6 16  8  4  4  1 12]\n",
       "[ 7  4  5  9 12  4 11  8 13 15]\n",
       "[11 14  9  1  8 12  9 11 10  6]"
      ]
     },
     "metadata": {},
     "output_type": "display_data"
    },
    {
     "data": {
      "text/html": [
       "<html><script type=\"math/tex; mode=display\">\\newcommand{\\Bold}[1]{\\mathbf{#1}}\\verb|det(B)=163526104283|</script></html>"
      ],
      "text/latex": [
       "\\begin{math}\n",
       "\\newcommand{\\Bold}[1]{\\mathbf{#1}}\\verb|det(B)=163526104283|\n",
       "\\end{math}"
      ],
      "text/plain": [
       "'det(B)=163526104283'"
      ]
     },
     "metadata": {},
     "output_type": "display_data"
    }
   ],
   "source": [
    "B=A.change_ring(ZZ)\n",
    "show(\"B=\",B)\n",
    "show(f\"det(B)={B.det()}\")"
   ]
  },
  {
   "cell_type": "code",
   "execution_count": 127,
   "metadata": {},
   "outputs": [
    {
     "data": {
      "text/plain": [
       "True"
      ]
     },
     "execution_count": 127,
     "metadata": {},
     "output_type": "execute_result"
    }
   ],
   "source": [
    "B.det()%q == A.det()"
   ]
  },
  {
   "cell_type": "code",
   "execution_count": 128,
   "metadata": {},
   "outputs": [
    {
     "data": {
      "text/html": [
       "<html><script type=\"math/tex; mode=display\">\\newcommand{\\Bold}[1]{\\mathbf{#1}}\\left(\\begin{array}{rrrrrrrrrr}\n",
       "13 & 0 & 3 & 4 & 16 & 7 & 14 & 15 & 2 & 15 \\\\\n",
       "12 & 6 & 13 & 12 & 15 & 9 & 13 & 1 & 9 & 11 \\\\\n",
       "5 & 15 & 8 & 15 & 16 & 13 & 12 & 15 & 11 & 4 \\\\\n",
       "8 & 10 & 14 & 4 & 9 & 3 & 15 & 9 & 10 & 9 \\\\\n",
       "14 & 4 & 10 & 0 & 16 & 12 & 15 & 6 & 16 & 2 \\\\\n",
       "6 & 2 & 5 & 4 & 14 & 6 & 7 & 11 & 12 & 13 \\\\\n",
       "16 & 0 & 14 & 1 & 11 & 2 & 2 & 13 & 15 & 15 \\\\\n",
       "2 & 7 & 2 & 6 & 6 & 5 & 13 & 15 & 11 & 8 \\\\\n",
       "12 & 12 & 13 & 1 & 10 & 0 & 11 & 7 & 12 & 13 \\\\\n",
       "14 & 16 & 2 & 10 & 15 & 8 & 3 & 2 & 5 & 5\n",
       "\\end{array}\\right)</script></html>"
      ],
      "text/latex": [
       "\\begin{math}\n",
       "\\newcommand{\\Bold}[1]{\\mathbf{#1}}\\left(\\begin{array}{rrrrrrrrrr}\n",
       "13 & 0 & 3 & 4 & 16 & 7 & 14 & 15 & 2 & 15 \\\\\n",
       "12 & 6 & 13 & 12 & 15 & 9 & 13 & 1 & 9 & 11 \\\\\n",
       "5 & 15 & 8 & 15 & 16 & 13 & 12 & 15 & 11 & 4 \\\\\n",
       "8 & 10 & 14 & 4 & 9 & 3 & 15 & 9 & 10 & 9 \\\\\n",
       "14 & 4 & 10 & 0 & 16 & 12 & 15 & 6 & 16 & 2 \\\\\n",
       "6 & 2 & 5 & 4 & 14 & 6 & 7 & 11 & 12 & 13 \\\\\n",
       "16 & 0 & 14 & 1 & 11 & 2 & 2 & 13 & 15 & 15 \\\\\n",
       "2 & 7 & 2 & 6 & 6 & 5 & 13 & 15 & 11 & 8 \\\\\n",
       "12 & 12 & 13 & 1 & 10 & 0 & 11 & 7 & 12 & 13 \\\\\n",
       "14 & 16 & 2 & 10 & 15 & 8 & 3 & 2 & 5 & 5\n",
       "\\end{array}\\right)\n",
       "\\end{math}"
      ],
      "text/plain": [
       "[13  0  3  4 16  7 14 15  2 15]\n",
       "[12  6 13 12 15  9 13  1  9 11]\n",
       "[ 5 15  8 15 16 13 12 15 11  4]\n",
       "[ 8 10 14  4  9  3 15  9 10  9]\n",
       "[14  4 10  0 16 12 15  6 16  2]\n",
       "[ 6  2  5  4 14  6  7 11 12 13]\n",
       "[16  0 14  1 11  2  2 13 15 15]\n",
       "[ 2  7  2  6  6  5 13 15 11  8]\n",
       "[12 12 13  1 10  0 11  7 12 13]\n",
       "[14 16  2 10 15  8  3  2  5  5]"
      ]
     },
     "metadata": {},
     "output_type": "display_data"
    }
   ],
   "source": [
    "show(A^-1)"
   ]
  },
  {
   "cell_type": "code",
   "execution_count": 129,
   "metadata": {},
   "outputs": [
    {
     "data": {
      "text/html": [
       "<html><script type=\"math/tex; mode=display\">\\newcommand{\\Bold}[1]{\\mathbf{#1}}\\left(\\begin{array}{rrrrrrrrrr}\n",
       "\\frac{9374237486}{163526104283} & -\\frac{4805561445}{163526104283} & -\\frac{5551077037}{163526104283} & \\frac{5659144051}{163526104283} & -\\frac{6664768585}{163526104283} & \\frac{5166878224}{163526104283} & \\frac{4981380143}{163526104283} & -\\frac{4716123812}{163526104283} & -\\frac{3588020973}{163526104283} & \\frac{4477069701}{163526104283} \\\\\n",
       "-\\frac{2752556520}{163526104283} & -\\frac{4141274302}{163526104283} & -\\frac{1574504462}{163526104283} & -\\frac{3102225491}{163526104283} & \\frac{3285736969}{163526104283} & -\\frac{5417961711}{163526104283} & \\frac{4593501668}{163526104283} & \\frac{6927908032}{163526104283} & -\\frac{3850803740}{163526104283} & \\frac{6948752647}{163526104283} \\\\\n",
       "-\\frac{11107925215}{163526104283} & -\\frac{31572015779}{163526104283} & -\\frac{5194614604}{163526104283} & \\frac{9663230325}{163526104283} & \\frac{1285250696}{163526104283} & \\frac{26441181344}{163526104283} & \\frac{8284902172}{163526104283} & -\\frac{18709630615}{163526104283} & \\frac{13169671872}{163526104283} & \\frac{12344147993}{163526104283} \\\\\n",
       "\\frac{3211650524}{163526104283} & \\frac{8355268933}{163526104283} & \\frac{6906874705}{163526104283} & -\\frac{5472656328}{163526104283} & \\frac{4228979312}{163526104283} & -\\frac{6962085741}{163526104283} & -\\frac{925413866}{163526104283} & \\frac{11053227160}{163526104283} & -\\frac{5349657821}{163526104283} & -\\frac{11779788581}{163526104283} \\\\\n",
       "\\frac{6494643966}{163526104283} & \\frac{2644949667}{163526104283} & -\\frac{3284206169}{163526104283} & -\\frac{3299549363}{163526104283} & \\frac{1561419181}{163526104283} & -\\frac{2360371943}{163526104283} & -\\frac{5941604121}{163526104283} & \\frac{14634984774}{163526104283} & -\\frac{4601601274}{163526104283} & -\\frac{1898137418}{163526104283} \\\\\n",
       "\\frac{2737077695}{163526104283} & \\frac{36794991705}{163526104283} & \\frac{11513045259}{163526104283} & -\\frac{14304407061}{163526104283} & \\frac{1382373264}{163526104283} & -\\frac{18804216914}{163526104283} & -\\frac{12398553438}{163526104283} & \\frac{16721876901}{163526104283} & -\\frac{13142157129}{163526104283} & -\\frac{11857677557}{163526104283} \\\\\n",
       "-\\frac{7175174341}{163526104283} & -\\frac{18540162685}{163526104283} & \\frac{1280012626}{163526104283} & -\\frac{1150292167}{163526104283} & -\\frac{3557196285}{163526104283} & \\frac{5700717827}{163526104283} & \\frac{3970953360}{163526104283} & -\\frac{3087029924}{163526104283} & \\frac{13010466184}{163526104283} & \\frac{10712778042}{163526104283} \\\\\n",
       "\\frac{2035870118}{163526104283} & -\\frac{2312855250}{163526104283} & \\frac{2437707448}{163526104283} & \\frac{14441968627}{163526104283} & -\\frac{1516549510}{163526104283} & \\frac{1045335260}{163526104283} & -\\frac{1195655059}{163526104283} & -\\frac{10578850385}{163526104283} & -\\frac{2034366562}{163526104283} & \\frac{416327502}{163526104283} \\\\\n",
       "\\frac{2342972429}{163526104283} & \\frac{9516350314}{163526104283} & -\\frac{3076150757}{163526104283} & -\\frac{7883442455}{163526104283} & \\frac{5151150226}{163526104283} & -\\frac{2007341555}{163526104283} & -\\frac{3997774201}{163526104283} & -\\frac{2406695794}{163526104283} & \\frac{2726657533}{163526104283} & \\frac{100180515}{163526104283} \\\\\n",
       "-\\frac{5645159207}{163526104283} & \\frac{3511960030}{163526104283} & \\frac{582214143}{163526104283} & \\frac{4676472418}{163526104283} & -\\frac{3396437068}{163526104283} & -\\frac{1698482851}{163526104283} & \\frac{3493988506}{163526104283} & -\\frac{6217453609}{163526104283} & \\frac{8789675162}{163526104283} & -\\frac{4473487144}{163526104283}\n",
       "\\end{array}\\right)</script></html>"
      ],
      "text/latex": [
       "\\begin{math}\n",
       "\\newcommand{\\Bold}[1]{\\mathbf{#1}}\\left(\\begin{array}{rrrrrrrrrr}\n",
       "\\frac{9374237486}{163526104283} & -\\frac{4805561445}{163526104283} & -\\frac{5551077037}{163526104283} & \\frac{5659144051}{163526104283} & -\\frac{6664768585}{163526104283} & \\frac{5166878224}{163526104283} & \\frac{4981380143}{163526104283} & -\\frac{4716123812}{163526104283} & -\\frac{3588020973}{163526104283} & \\frac{4477069701}{163526104283} \\\\\n",
       "-\\frac{2752556520}{163526104283} & -\\frac{4141274302}{163526104283} & -\\frac{1574504462}{163526104283} & -\\frac{3102225491}{163526104283} & \\frac{3285736969}{163526104283} & -\\frac{5417961711}{163526104283} & \\frac{4593501668}{163526104283} & \\frac{6927908032}{163526104283} & -\\frac{3850803740}{163526104283} & \\frac{6948752647}{163526104283} \\\\\n",
       "-\\frac{11107925215}{163526104283} & -\\frac{31572015779}{163526104283} & -\\frac{5194614604}{163526104283} & \\frac{9663230325}{163526104283} & \\frac{1285250696}{163526104283} & \\frac{26441181344}{163526104283} & \\frac{8284902172}{163526104283} & -\\frac{18709630615}{163526104283} & \\frac{13169671872}{163526104283} & \\frac{12344147993}{163526104283} \\\\\n",
       "\\frac{3211650524}{163526104283} & \\frac{8355268933}{163526104283} & \\frac{6906874705}{163526104283} & -\\frac{5472656328}{163526104283} & \\frac{4228979312}{163526104283} & -\\frac{6962085741}{163526104283} & -\\frac{925413866}{163526104283} & \\frac{11053227160}{163526104283} & -\\frac{5349657821}{163526104283} & -\\frac{11779788581}{163526104283} \\\\\n",
       "\\frac{6494643966}{163526104283} & \\frac{2644949667}{163526104283} & -\\frac{3284206169}{163526104283} & -\\frac{3299549363}{163526104283} & \\frac{1561419181}{163526104283} & -\\frac{2360371943}{163526104283} & -\\frac{5941604121}{163526104283} & \\frac{14634984774}{163526104283} & -\\frac{4601601274}{163526104283} & -\\frac{1898137418}{163526104283} \\\\\n",
       "\\frac{2737077695}{163526104283} & \\frac{36794991705}{163526104283} & \\frac{11513045259}{163526104283} & -\\frac{14304407061}{163526104283} & \\frac{1382373264}{163526104283} & -\\frac{18804216914}{163526104283} & -\\frac{12398553438}{163526104283} & \\frac{16721876901}{163526104283} & -\\frac{13142157129}{163526104283} & -\\frac{11857677557}{163526104283} \\\\\n",
       "-\\frac{7175174341}{163526104283} & -\\frac{18540162685}{163526104283} & \\frac{1280012626}{163526104283} & -\\frac{1150292167}{163526104283} & -\\frac{3557196285}{163526104283} & \\frac{5700717827}{163526104283} & \\frac{3970953360}{163526104283} & -\\frac{3087029924}{163526104283} & \\frac{13010466184}{163526104283} & \\frac{10712778042}{163526104283} \\\\\n",
       "\\frac{2035870118}{163526104283} & -\\frac{2312855250}{163526104283} & \\frac{2437707448}{163526104283} & \\frac{14441968627}{163526104283} & -\\frac{1516549510}{163526104283} & \\frac{1045335260}{163526104283} & -\\frac{1195655059}{163526104283} & -\\frac{10578850385}{163526104283} & -\\frac{2034366562}{163526104283} & \\frac{416327502}{163526104283} \\\\\n",
       "\\frac{2342972429}{163526104283} & \\frac{9516350314}{163526104283} & -\\frac{3076150757}{163526104283} & -\\frac{7883442455}{163526104283} & \\frac{5151150226}{163526104283} & -\\frac{2007341555}{163526104283} & -\\frac{3997774201}{163526104283} & -\\frac{2406695794}{163526104283} & \\frac{2726657533}{163526104283} & \\frac{100180515}{163526104283} \\\\\n",
       "-\\frac{5645159207}{163526104283} & \\frac{3511960030}{163526104283} & \\frac{582214143}{163526104283} & \\frac{4676472418}{163526104283} & -\\frac{3396437068}{163526104283} & -\\frac{1698482851}{163526104283} & \\frac{3493988506}{163526104283} & -\\frac{6217453609}{163526104283} & \\frac{8789675162}{163526104283} & -\\frac{4473487144}{163526104283}\n",
       "\\end{array}\\right)\n",
       "\\end{math}"
      ],
      "text/plain": [
       "[  9374237486/163526104283  -4805561445/163526104283  -5551077037/163526104283   5659144051/163526104283  -6664768585/163526104283   5166878224/163526104283   4981380143/163526104283  -4716123812/163526104283  -3588020973/163526104283   4477069701/163526104283]\n",
       "[ -2752556520/163526104283  -4141274302/163526104283  -1574504462/163526104283  -3102225491/163526104283   3285736969/163526104283  -5417961711/163526104283   4593501668/163526104283   6927908032/163526104283  -3850803740/163526104283   6948752647/163526104283]\n",
       "[-11107925215/163526104283 -31572015779/163526104283  -5194614604/163526104283   9663230325/163526104283   1285250696/163526104283  26441181344/163526104283   8284902172/163526104283 -18709630615/163526104283  13169671872/163526104283  12344147993/163526104283]\n",
       "[  3211650524/163526104283   8355268933/163526104283   6906874705/163526104283  -5472656328/163526104283   4228979312/163526104283  -6962085741/163526104283   -925413866/163526104283  11053227160/163526104283  -5349657821/163526104283 -11779788581/163526104283]\n",
       "[  6494643966/163526104283   2644949667/163526104283  -3284206169/163526104283  -3299549363/163526104283   1561419181/163526104283  -2360371943/163526104283  -5941604121/163526104283  14634984774/163526104283  -4601601274/163526104283  -1898137418/163526104283]\n",
       "[  2737077695/163526104283  36794991705/163526104283  11513045259/163526104283 -14304407061/163526104283   1382373264/163526104283 -18804216914/163526104283 -12398553438/163526104283  16721876901/163526104283 -13142157129/163526104283 -11857677557/163526104283]\n",
       "[ -7175174341/163526104283 -18540162685/163526104283   1280012626/163526104283  -1150292167/163526104283  -3557196285/163526104283   5700717827/163526104283   3970953360/163526104283  -3087029924/163526104283  13010466184/163526104283  10712778042/163526104283]\n",
       "[  2035870118/163526104283  -2312855250/163526104283   2437707448/163526104283  14441968627/163526104283  -1516549510/163526104283   1045335260/163526104283  -1195655059/163526104283 -10578850385/163526104283  -2034366562/163526104283    416327502/163526104283]\n",
       "[  2342972429/163526104283   9516350314/163526104283  -3076150757/163526104283  -7883442455/163526104283   5151150226/163526104283  -2007341555/163526104283  -3997774201/163526104283  -2406695794/163526104283   2726657533/163526104283    100180515/163526104283]\n",
       "[ -5645159207/163526104283   3511960030/163526104283    582214143/163526104283   4676472418/163526104283  -3396437068/163526104283  -1698482851/163526104283   3493988506/163526104283  -6217453609/163526104283   8789675162/163526104283  -4473487144/163526104283]"
      ]
     },
     "metadata": {},
     "output_type": "display_data"
    }
   ],
   "source": [
    "show(B^-1)"
   ]
  },
  {
   "cell_type": "code",
   "execution_count": 130,
   "metadata": {},
   "outputs": [
    {
     "data": {
      "text/html": [
       "<html><script type=\"math/tex; mode=display\">\\newcommand{\\Bold}[1]{\\mathbf{#1}}\\mathrm{True}</script></html>"
      ],
      "text/latex": [
       "\\begin{math}\n",
       "\\newcommand{\\Bold}[1]{\\mathbf{#1}}\\mathrm{True}\n",
       "\\end{math}"
      ],
      "text/plain": [
       "True"
      ]
     },
     "metadata": {},
     "output_type": "display_data"
    }
   ],
   "source": [
    "(B^(-1)%q), A^-1\n",
    "show(_)"
   ]
  },
  {
   "cell_type": "code",
   "execution_count": 131,
   "metadata": {},
   "outputs": [
    {
     "data": {
      "text/plain": [
       "False"
      ]
     },
     "execution_count": 131,
     "metadata": {},
     "output_type": "execute_result"
    }
   ],
   "source": [
    "# Expliquer le résultat obtenu\n",
    "(B^(-1)%q) ==  A^-1"
   ]
  },
  {
   "cell_type": "code",
   "execution_count": null,
   "metadata": {},
   "outputs": [],
   "source": []
  },
  {
   "cell_type": "code",
   "execution_count": null,
   "metadata": {},
   "outputs": [],
   "source": []
  },
  {
   "cell_type": "code",
   "execution_count": null,
   "metadata": {},
   "outputs": [],
   "source": []
  },
  {
   "cell_type": "code",
   "execution_count": 132,
   "metadata": {},
   "outputs": [
    {
     "data": {
      "text/plain": [
       "(Full MatrixSpace of 10 by 10 dense matrices over Rational Field,\n",
       " Full MatrixSpace of 10 by 10 dense matrices over Finite Field of size 17)"
      ]
     },
     "execution_count": 132,
     "metadata": {},
     "output_type": "execute_result"
    }
   ],
   "source": [
    "(B^(-1)%q).parent(),(A^-1).parent()"
   ]
  },
  {
   "cell_type": "code",
   "execution_count": 133,
   "metadata": {},
   "outputs": [
    {
     "data": {
      "text/plain": [
       "True"
      ]
     },
     "execution_count": 133,
     "metadata": {},
     "output_type": "execute_result"
    }
   ],
   "source": [
    "(B^(-1)%q) ==  (A^-1).change_ring(B.base_ring())"
   ]
  },
  {
   "cell_type": "code",
   "execution_count": 134,
   "metadata": {},
   "outputs": [
    {
     "data": {
      "text/plain": [
       "True"
      ]
     },
     "execution_count": 134,
     "metadata": {},
     "output_type": "execute_result"
    }
   ],
   "source": [
    "(B^(-1)).change_ring(A.base_ring()) ==  (A^-1)"
   ]
  },
  {
   "cell_type": "code",
   "execution_count": null,
   "metadata": {},
   "outputs": [],
   "source": []
  },
  {
   "cell_type": "code",
   "execution_count": null,
   "metadata": {},
   "outputs": [],
   "source": []
  }
 ],
 "metadata": {
  "celltoolbar": "Éditer les Méta-Données",
  "kernelspec": {
   "display_name": "SageMath 9.2",
   "language": "sage",
   "name": "sagemath"
  },
  "language_info": {
   "codemirror_mode": {
    "name": "ipython",
    "version": 3
   },
   "file_extension": ".py",
   "mimetype": "text/x-python",
   "name": "python",
   "nbconvert_exporter": "python",
   "pygments_lexer": "ipython3",
   "version": "3.9.5"
  },
  "toc": {
   "base_numbering": 1,
   "nav_menu": {},
   "number_sections": true,
   "sideBar": true,
   "skip_h1_title": true,
   "title_cell": "Table of Contents",
   "title_sidebar": "Contents",
   "toc_cell": false,
   "toc_position": {
    "height": "calc(100% - 180px)",
    "left": "10px",
    "top": "150px",
    "width": "165px"
   },
   "toc_section_display": true,
   "toc_window_display": true
  },
  "varInspector": {
   "cols": {
    "lenName": 16,
    "lenType": 16,
    "lenVar": 40
   },
   "kernels_config": {
    "python": {
     "delete_cmd_postfix": "",
     "delete_cmd_prefix": "del ",
     "library": "var_list.py",
     "varRefreshCmd": "print(var_dic_list())"
    },
    "r": {
     "delete_cmd_postfix": ") ",
     "delete_cmd_prefix": "rm(",
     "library": "var_list.r",
     "varRefreshCmd": "cat(var_dic_list()) "
    }
   },
   "types_to_exclude": [
    "module",
    "function",
    "builtin_function_or_method",
    "instance",
    "_Feature"
   ],
   "window_display": false
  }
 },
 "nbformat": 4,
 "nbformat_minor": 4
}
