{
 "cells": [
  {
   "cell_type": "code",
   "execution_count": 1,
   "metadata": {},
   "outputs": [],
   "source": [
    "%display latex\n",
    "%display default"
   ]
  },
  {
   "cell_type": "markdown",
   "metadata": {},
   "source": [
    "## Précision numérique"
   ]
  },
  {
   "cell_type": "markdown",
   "metadata": {},
   "source": [
    "Par défaut, les nombres flottants et les calculs flottants sont fait avec une précision de 53 bits"
   ]
  },
  {
   "cell_type": "code",
   "execution_count": 2,
   "metadata": {
    "scrolled": true
   },
   "outputs": [
    {
     "data": {
      "text/plain": [
       "Real Field with 53 bits of precision"
      ]
     },
     "execution_count": 2,
     "metadata": {},
     "output_type": "execute_result"
    }
   ],
   "source": [
    "a= 3.0\n",
    "a.parent()"
   ]
  },
  {
   "cell_type": "code",
   "execution_count": 3,
   "metadata": {},
   "outputs": [
    {
     "data": {
      "text/plain": [
       "53"
      ]
     },
     "execution_count": 3,
     "metadata": {},
     "output_type": "execute_result"
    }
   ],
   "source": [
    "a.precision()"
   ]
  },
  {
   "cell_type": "code",
   "execution_count": 4,
   "metadata": {},
   "outputs": [
    {
     "data": {
      "text/plain": [
       "Real Field with 53 bits of precision"
      ]
     },
     "execution_count": 4,
     "metadata": {},
     "output_type": "execute_result"
    }
   ],
   "source": [
    "(1.0/3.0).parent()"
   ]
  },
  {
   "cell_type": "code",
   "execution_count": 5,
   "metadata": {},
   "outputs": [
    {
     "name": "stdout",
     "output_type": "stream",
     "text": [
      "1/3 Rational Field\n",
      "0.333333333333333 Real Field with 53 bits of precision\n",
      "0.333333333333333 Real Field with 53 bits of precision\n"
     ]
    }
   ],
   "source": [
    "print(1/3, (1/3).parent())\n",
    "print( (1/3).n(), (1/3).n().parent())\n",
    "print(RR(1/3), RR(1/3).parent())\n"
   ]
  },
  {
   "cell_type": "markdown",
   "metadata": {},
   "source": [
    "Les nombres flottants sont définis comme instance de l'objet `RealField`. On peut spécifier la précision de cette objet."
   ]
  },
  {
   "cell_type": "code",
   "execution_count": 6,
   "metadata": {},
   "outputs": [
    {
     "data": {
      "text/plain": [
       "(53, 10, 200)"
      ]
     },
     "execution_count": 6,
     "metadata": {},
     "output_type": "execute_result"
    }
   ],
   "source": [
    "R=RealField()\n",
    "R10=RealField(10)\n",
    "R200=RealField(200)\n",
    "\n",
    "R.precision(), R10.precision(), R200.precision()"
   ]
  },
  {
   "cell_type": "code",
   "execution_count": 7,
   "metadata": {},
   "outputs": [
    {
     "data": {
      "text/plain": [
       "(3.69670656868857e54,\n",
       " 3.6e54,\n",
       " 3.6967065686885807935368708162449489665828918404074416864066e54)"
      ]
     },
     "execution_count": 7,
     "metadata": {},
     "output_type": "execute_result"
    }
   ],
   "source": [
    "a   = R(3.513)\n",
    "a10 = R10(3.513)\n",
    "a200= R200(3.513)\n",
    "\n",
    "a^100, a10^100, a200^100"
   ]
  },
  {
   "cell_type": "markdown",
   "metadata": {},
   "source": [
    "Calcul de $0.3-0.2-0.1$ avec différentes précisions"
   ]
  },
  {
   "cell_type": "code",
   "execution_count": 8,
   "metadata": {},
   "outputs": [
    {
     "data": {
      "text/plain": [
       "(-2.77555756156289e-17,\n",
       " -0.00012,\n",
       " 7.7787690973264271339300800672251553007378152109014589163764e-62)"
      ]
     },
     "execution_count": 8,
     "metadata": {},
     "output_type": "execute_result"
    }
   ],
   "source": [
    "a,b,c=.3,.2,.1\n",
    "a10,b10,c10=R10(.3),R10(.2),R10(.1)\n",
    "a200,b200,c200=R200(.3),R200(.2),R200(.1)\n",
    "a-b-c,a10-b10-c10,a200-b200-c200"
   ]
  },
  {
   "cell_type": "markdown",
   "metadata": {},
   "source": [
    "**Attention:** \n",
    "- si on ne précise pas RealField, la précision est calculée automatiquement.\n",
    "- si les calculs sont mixtes (opérandes avec différentes précisions), les calculs sont fait dans la plus petite précision"
   ]
  },
  {
   "cell_type": "code",
   "execution_count": 9,
   "metadata": {},
   "outputs": [
    {
     "data": {
      "text/plain": [
       "(143, Real Field with 143 bits of precision)"
      ]
     },
     "execution_count": 9,
     "metadata": {},
     "output_type": "execute_result"
    }
   ],
   "source": [
    "a=0.5555555555554033333333323232323233232111117\n",
    "a.precision(), a.parent()"
   ]
  },
  {
   "cell_type": "code",
   "execution_count": 10,
   "metadata": {},
   "outputs": [
    {
     "data": {
      "text/plain": [
       "(-0.00012, -0.00012)"
      ]
     },
     "execution_count": 10,
     "metadata": {},
     "output_type": "execute_result"
    }
   ],
   "source": [
    "a10-b200-c200, a10-b10-c10"
   ]
  },
  {
   "cell_type": "code",
   "execution_count": 11,
   "metadata": {},
   "outputs": [
    {
     "data": {
      "text/plain": [
       "(3.00000024822111e-11, 3.00000000010000e-11, 3.00000024822111e-11)"
      ]
     },
     "execution_count": 11,
     "metadata": {},
     "output_type": "execute_result"
    }
   ],
   "source": [
    "a= 0.1e-20\n",
    "b= 0.1\n",
    "c= 0.3e-10\n",
    "a+b+c-b,b-b+a+c,a+c+b-b"
   ]
  },
  {
   "cell_type": "markdown",
   "metadata": {},
   "source": [
    "**A RETENIR**\n",
    "> - `RealField(p)` est l'objet définissant les approximations flottantes à précision $p$\n",
    "> - `numerical_approx(expr, p)` ou `n(expr,p)` ou `expr.n(p)` retourne l'approximation flottante de l'expression `expr` à précision `p`\n",
    "> - par défaut `RealField(53)` est utilisé (déjà défini dans `RR`)"
   ]
  },
  {
   "cell_type": "markdown",
   "metadata": {},
   "source": [
    "## Exemple de problème de précision"
   ]
  },
  {
   "cell_type": "markdown",
   "metadata": {},
   "source": [
    "### calcul de racine carré"
   ]
  },
  {
   "cell_type": "code",
   "execution_count": 12,
   "metadata": {},
   "outputs": [
    {
     "name": "stdout",
     "output_type": "stream",
     "text": [
      "l'entier b est codée sur 347 bits\n"
     ]
    },
    {
     "data": {
      "text/plain": [
       "1686961934066707040236155036109474174986501789839001*sqrt(51)"
      ]
     },
     "execution_count": 12,
     "metadata": {},
     "output_type": "execute_result"
    }
   ],
   "source": [
    "a=51\n",
    "b=a^61\n",
    "print(\"l'entier b est codée sur \"+str( b.nbits()) + \" bits\")\n",
    "r=sqrt(b)\n",
    "r"
   ]
  },
  {
   "cell_type": "code",
   "execution_count": 13,
   "metadata": {},
   "outputs": [
    {
     "name": "stdout",
     "output_type": "stream",
     "text": [
      "12047317913813611992216795507023424262776490557440000 12047317913813610588023392961569665056411324497659166\n"
     ]
    },
    {
     "data": {
      "text/plain": [
       "(False, True)"
      ]
     },
     "execution_count": 13,
     "metadata": {},
     "output_type": "execute_result"
    }
   ],
   "source": [
    "s   = R(sqrt(b))\n",
    "s200= R200(sqrt(b))\n",
    "print(floor(s),floor(s200))\n",
    "floor(s)^2 <= b <(floor(s)+1)^2,\\\n",
    "floor(s200)^2 <= b <=(floor(s200)+1)^2"
   ]
  },
  {
   "cell_type": "markdown",
   "metadata": {},
   "source": [
    "## résolution de système d'équations linéaires \n"
   ]
  },
  {
   "cell_type": "code",
   "execution_count": 14,
   "metadata": {},
   "outputs": [],
   "source": [
    "N=2\n",
    "MS=MatrixSpace(QQ,N)\n",
    "VS=VectorSpace(QQ,N)\n",
    "A=MS.random_element(density=1,num_bound=10,den_bound=10)\n",
    "b=VS.random_element(num_bound=100,den_bound=100)\n",
    "V=var(list(\"x\"+ str(i) for i in range(N)))\n",
    "X=vector(V)\n",
    "eq=list((A*X)[i]==b[i] for i in range(N))"
   ]
  },
  {
   "cell_type": "markdown",
   "metadata": {},
   "source": [
    "### La fonction `solve`\n",
    "\n",
    "elle prend une liste d'équations symboliques et une liste d'inconnues"
   ]
  },
  {
   "cell_type": "code",
   "execution_count": 15,
   "metadata": {
    "scrolled": true
   },
   "outputs": [
    {
     "name": "stdout",
     "output_type": "stream",
     "text": [
      "variables: (x0, x1)\n",
      "Equations: [8*x0 - 3*x1 == (-17/30), 7/6*x0 - 4*x1 == (2/13)]\n"
     ]
    }
   ],
   "source": [
    "print(\"variables:\",V)\n",
    "print(\"Equations:\",eq)\n",
    "#for i in range(N):\n",
    "#    print(eq[i])"
   ]
  },
  {
   "cell_type": "code",
   "execution_count": 16,
   "metadata": {},
   "outputs": [
    {
     "data": {
      "text/plain": [
       "[[x0 == (-56/585), x1 == (-233/3510)]]"
      ]
     },
     "execution_count": 16,
     "metadata": {},
     "output_type": "execute_result"
    }
   ],
   "source": [
    "sol=solve(eq, V)\n",
    "sol"
   ]
  },
  {
   "cell_type": "markdown",
   "metadata": {},
   "source": [
    "Est-il possible de faire la même chose mais de faire le calcul numériquement ?"
   ]
  },
  {
   "cell_type": "code",
   "execution_count": 17,
   "metadata": {},
   "outputs": [
    {
     "name": "stdout",
     "output_type": "stream",
     "text": [
      "variables: (x0, x1)\n",
      "Equations: [8.00000000000000*x0 - 3.00000000000000*x1 == -0.566666666666667, 1.16666666666667*x0 - 4.00000000000000*x1 == 0.153846153846154]\n"
     ]
    }
   ],
   "source": [
    "eqf=list((A.n()*X)[i]==b[i].n() for i in range(N))\n",
    "print(\"variables:\",V)\n",
    "print(\"Equations:\",eqf)\n",
    "#for i in range(N):\n",
    "#    print(eqf[i])"
   ]
  },
  {
   "cell_type": "code",
   "execution_count": 18,
   "metadata": {},
   "outputs": [
    {
     "data": {
      "text/plain": [
       "[[x0 == (-56/585), x1 == (-233/3510)]]"
      ]
     },
     "execution_count": 18,
     "metadata": {},
     "output_type": "execute_result"
    }
   ],
   "source": [
    "solf=solve(eqf,V)\n",
    "solf"
   ]
  },
  {
   "cell_type": "markdown",
   "metadata": {},
   "source": [
    "Quoi, le résultat est le même !!!\n",
    "\n",
    "En fait, `solve` fait appel à une méthode de résolution symbolique. \n",
    "Cela implique que les réels sont transformées en nombre rationnel lors de la résolution. "
   ]
  },
  {
   "cell_type": "markdown",
   "metadata": {},
   "source": [
    "### l'algèbre linéaire"
   ]
  },
  {
   "cell_type": "code",
   "execution_count": 19,
   "metadata": {},
   "outputs": [
    {
     "data": {
      "text/html": [
       "<html><script type=\"math/tex; mode=display\">\\newcommand{\\Bold}[1]{\\mathbf{#1}}\\left[8 \\, x_{0} - 3 \\, x_{1} = \\left(-\\frac{17}{30}\\right), \\frac{7}{6} \\, x_{0} - 4 \\, x_{1} = \\left(\\frac{2}{13}\\right)\\right]</script></html>"
      ],
      "text/plain": [
       "[8*x0 - 3*x1 == (-17/30), 7/6*x0 - 4*x1 == (2/13)]"
      ]
     },
     "metadata": {},
     "output_type": "display_data"
    }
   ],
   "source": [
    "show(eq)"
   ]
  },
  {
   "cell_type": "code",
   "execution_count": 20,
   "metadata": {},
   "outputs": [
    {
     "data": {
      "text/html": [
       "<html><script type=\"math/tex; mode=display\">\\newcommand{\\Bold}[1]{\\mathbf{#1}}\\left(\\begin{array}{rr}\n",
       "8 & -3 \\\\\n",
       "\\frac{7}{6} & -4\n",
       "\\end{array}\\right) \\left(x_{0}, x_{1}\\right) \\left(-\\frac{17}{30},\\,\\frac{2}{13}\\right)</script></html>"
      ],
      "text/plain": [
       "[  8  -3]\n",
       "[7/6  -4] (x0, x1) (-17/30, 2/13)"
      ]
     },
     "metadata": {},
     "output_type": "display_data"
    }
   ],
   "source": [
    "show(A, (V), b)"
   ]
  },
  {
   "cell_type": "code",
   "execution_count": 21,
   "metadata": {},
   "outputs": [
    {
     "data": {
      "text/html": [
       "<html><script type=\"math/tex; mode=display\">\\newcommand{\\Bold}[1]{\\mathbf{#1}}\\left(-\\frac{56}{585},\\,-\\frac{233}{3510}\\right)</script></html>"
      ],
      "text/plain": [
       "(-56/585, -233/3510)"
      ]
     },
     "metadata": {},
     "output_type": "display_data"
    }
   ],
   "source": [
    "y=A.solve_right(b)\n",
    "show(y)"
   ]
  },
  {
   "cell_type": "markdown",
   "metadata": {},
   "source": [
    "Pareil mais en numérique"
   ]
  },
  {
   "cell_type": "code",
   "execution_count": 22,
   "metadata": {},
   "outputs": [
    {
     "data": {
      "text/html": [
       "<html><script type=\"math/tex; mode=display\">\\newcommand{\\Bold}[1]{\\mathbf{#1}}\\left(\\begin{array}{rr}\n",
       "8.00000000000000 & -3.00000000000000 \\\\\n",
       "1.16666666666667 & -4.00000000000000\n",
       "\\end{array}\\right) \\left(x_{0}, x_{1}\\right) \\left(-0.566666666666667,\\,0.153846153846154\\right)</script></html>"
      ],
      "text/plain": [
       "[ 8.00000000000000 -3.00000000000000]\n",
       "[ 1.16666666666667 -4.00000000000000] (x0, x1) (-0.566666666666667, 0.153846153846154)"
      ]
     },
     "metadata": {},
     "output_type": "display_data"
    }
   ],
   "source": [
    "Af=A.numerical_approx()\n",
    "bf=b.n()\n",
    "show(Af,V,bf)"
   ]
  },
  {
   "cell_type": "code",
   "execution_count": 23,
   "metadata": {},
   "outputs": [
    {
     "data": {
      "text/html": [
       "<html><script type=\"math/tex; mode=display\">\\newcommand{\\Bold}[1]{\\mathbf{#1}}\\left(-0.0957264957264957,\\,-0.0663817663817664\\right)</script></html>"
      ],
      "text/plain": [
       "(-0.0957264957264957, -0.0663817663817664)"
      ]
     },
     "metadata": {},
     "output_type": "display_data"
    }
   ],
   "source": [
    "yf=Af.solve_right(bf)\n",
    "show(yf)"
   ]
  },
  {
   "cell_type": "code",
   "execution_count": 24,
   "metadata": {},
   "outputs": [
    {
     "data": {
      "text/plain": [
       "(-1.38777878078145e-17, 0.000000000000000)"
      ]
     },
     "execution_count": 24,
     "metadata": {},
     "output_type": "execute_result"
    }
   ],
   "source": [
    "# difference des solutions\n",
    "y.n()-yf"
   ]
  },
  {
   "cell_type": "markdown",
   "metadata": {},
   "source": [
    "Tout pareil mais en plus grand"
   ]
  },
  {
   "cell_type": "code",
   "execution_count": 25,
   "metadata": {},
   "outputs": [],
   "source": [
    "N=80\n",
    "MS=MatrixSpace(QQ,N)\n",
    "VS=VectorSpace(QQ,N)\n",
    "A=MS.random_element(density=1,num_bound=100,den_bound=100)\n",
    "b=VS.random_element(num_bound=100,den_bound=100)\n"
   ]
  },
  {
   "cell_type": "code",
   "execution_count": 26,
   "metadata": {
    "scrolled": true
   },
   "outputs": [
    {
     "name": "stdout",
     "output_type": "stream",
     "text": [
      "CPU times: user 11.7 s, sys: 73.2 ms, total: 11.8 s\n",
      "Wall time: 11.9 s\n"
     ]
    }
   ],
   "source": [
    "#print(A,b)\n",
    "%time y=A.solve_right(b)"
   ]
  },
  {
   "cell_type": "code",
   "execution_count": 27,
   "metadata": {},
   "outputs": [
    {
     "data": {
      "text/plain": [
       "-4824632980337732581919796436129066114116406803358886788418787553403061369850605404506886254092242190598260427140911629348483865897069108155990107701177812060927651586426788785413738359649662819422475649394401567525409094819893675553240834934731697151133206777904619219163958263487179416638009679902494215123924080403474875363732375831468985280950174919092584973123172895502030234120561970468894542444084109368135777725039838039377635371163880259005335815330177267210246143349578852325418178062468786150116469662554059938143057649107632297353153031507552560301385134902841498914126446499211665452786060563369822407743359525696077489939183911762776223275947771743398477220519226116668533059474392018963553852081895319121728255911527720428251156116265916899246171654210472419023927378358093117243291184256640297237397891785693590088463440228940315157420351249461907289708537600314740529082433509294624927204455280934869030480335005644624513532966316575351108937702426749329673650989512119448335162695213606951948028040397430532414914763704218357990317345512163078085511972047303713079367690530043211231213526483759566472882990099181432964983901641125677455080436945915323638184552041681351501096289605204187151271893778921539934307744571081779792526577044301054729625479805867985159419013366680639823439076943711513005658223397716798349682230313368258237357844885046514709312198756018255536140028099808445752979213159040607907252755192170887325356401433278906257084022402300381313732629425503421947633617219408729246809532358298788611494949191010401986807343377836657537008680068647831344252525049944857250987558264640317812832985192815804665720741066076882696929417004203115989879506475056078828812951340943695697481312134008073585217226162809801463231199778018627452130900441761353418037240540876159677632606832634037474172972801923525161858581502318720301742354463616131209756219057846384380854446946694481217438190218399034546084475030059082959599555224179151234618793343697869472447956617110551310764940378337543199283529527996553701460558629264155800888181766269251497019381823781516538740010760702146576893709480376343872426021713789004577960881820559584347032802976430165644631870706042161167459994894682614508453952021891056189340917112293865309810226360780147277194712399393571710752435277115398702089678919815488528817492/103697904905158107642086489293957084506388929219863274341599880774671778667507050728169174905424927147739389736695958627762703156858270694685510364588971863033787556772265712408548114262184919234477840952487807275930072517354918057483065605740416472738709196737825974212538082615969069062660169752212809803918042068962039636001239134698433253138543486426387291775525943796654896936244970638154964583638650001070494906577200056922149431203905924110060292730452324606299334157231501565627459683634188503759864676937945912862637915900311582886415622856580872471657478858737106201812361929765496266336430255426793671837385051827045947675279380422382354677748927218410670296449354890457566692545800738899141629793114355481411574661437805312033224553318471363226951387912683334909000928410542310479150406729260006473367546691812361607649015483683233149684784379029328515138000173288355384247465020750510648722327041843115109139861226838858556850733916009210498074480529643876265004823802227921085652895001680632682147073779774782163345237085128808186635967089742884175452536720382760329531527853961789489233632672510623849433607848281036721277779992520177872294922976233912507516423072603420806679033965925491900751856923900612556760018774478875264196647480055845691121740818700589885474786951949986227558717880659794736946785640985473574254139777219411231859813284572062370680437019701369369114587905729770731986689991889245102866019891081661889897849729996690480710052443271704782968969561151559302582210083781463998671209560159593877926343263600655179797490402342918775549005212964606756489535257688471775269950426901435611511481169080286852189711871872262410219187462041143127332316426040984352736629164629019638624645720284080763667364483335461534874264009164587245616679760014289045841355615374851843968519888933948834097534597208683931667026411826949017892578799097702351856562224481368233516496033645891269309785163491563492218606292123607696221470008122888423309209556850576939893905176378970977409042851310949866256936103277988942261141005464738794001028384160999118615294980539567752608555551334718688843511868411054760980843775807004682384865481760946327856944279406068761955338771207213494064317400631819404327593492052743347675679208465260104372628452826793083743847730123980167858831744075430163673096039130634420256395"
      ]
     },
     "execution_count": 27,
     "metadata": {},
     "output_type": "execute_result"
    }
   ],
   "source": [
    "y[0]"
   ]
  },
  {
   "cell_type": "code",
   "execution_count": 28,
   "metadata": {},
   "outputs": [
    {
     "name": "stdout",
     "output_type": "stream",
     "text": [
      "num(y[0])= -4824632980337732581919796436129066114116406803358886788418787553403061369850605404506886254092242190598260427140911629348483865897069108155990107701177812060927651586426788785413738359649662819422475649394401567525409094819893675553240834934731697151133206777904619219163958263487179416638009679902494215123924080403474875363732375831468985280950174919092584973123172895502030234120561970468894542444084109368135777725039838039377635371163880259005335815330177267210246143349578852325418178062468786150116469662554059938143057649107632297353153031507552560301385134902841498914126446499211665452786060563369822407743359525696077489939183911762776223275947771743398477220519226116668533059474392018963553852081895319121728255911527720428251156116265916899246171654210472419023927378358093117243291184256640297237397891785693590088463440228940315157420351249461907289708537600314740529082433509294624927204455280934869030480335005644624513532966316575351108937702426749329673650989512119448335162695213606951948028040397430532414914763704218357990317345512163078085511972047303713079367690530043211231213526483759566472882990099181432964983901641125677455080436945915323638184552041681351501096289605204187151271893778921539934307744571081779792526577044301054729625479805867985159419013366680639823439076943711513005658223397716798349682230313368258237357844885046514709312198756018255536140028099808445752979213159040607907252755192170887325356401433278906257084022402300381313732629425503421947633617219408729246809532358298788611494949191010401986807343377836657537008680068647831344252525049944857250987558264640317812832985192815804665720741066076882696929417004203115989879506475056078828812951340943695697481312134008073585217226162809801463231199778018627452130900441761353418037240540876159677632606832634037474172972801923525161858581502318720301742354463616131209756219057846384380854446946694481217438190218399034546084475030059082959599555224179151234618793343697869472447956617110551310764940378337543199283529527996553701460558629264155800888181766269251497019381823781516538740010760702146576893709480376343872426021713789004577960881820559584347032802976430165644631870706042161167459994894682614508453952021891056189340917112293865309810226360780147277194712399393571710752435277115398702089678919815488528817492 \n",
      "\n",
      "den(y[0])= 103697904905158107642086489293957084506388929219863274341599880774671778667507050728169174905424927147739389736695958627762703156858270694685510364588971863033787556772265712408548114262184919234477840952487807275930072517354918057483065605740416472738709196737825974212538082615969069062660169752212809803918042068962039636001239134698433253138543486426387291775525943796654896936244970638154964583638650001070494906577200056922149431203905924110060292730452324606299334157231501565627459683634188503759864676937945912862637915900311582886415622856580872471657478858737106201812361929765496266336430255426793671837385051827045947675279380422382354677748927218410670296449354890457566692545800738899141629793114355481411574661437805312033224553318471363226951387912683334909000928410542310479150406729260006473367546691812361607649015483683233149684784379029328515138000173288355384247465020750510648722327041843115109139861226838858556850733916009210498074480529643876265004823802227921085652895001680632682147073779774782163345237085128808186635967089742884175452536720382760329531527853961789489233632672510623849433607848281036721277779992520177872294922976233912507516423072603420806679033965925491900751856923900612556760018774478875264196647480055845691121740818700589885474786951949986227558717880659794736946785640985473574254139777219411231859813284572062370680437019701369369114587905729770731986689991889245102866019891081661889897849729996690480710052443271704782968969561151559302582210083781463998671209560159593877926343263600655179797490402342918775549005212964606756489535257688471775269950426901435611511481169080286852189711871872262410219187462041143127332316426040984352736629164629019638624645720284080763667364483335461534874264009164587245616679760014289045841355615374851843968519888933948834097534597208683931667026411826949017892578799097702351856562224481368233516496033645891269309785163491563492218606292123607696221470008122888423309209556850576939893905176378970977409042851310949866256936103277988942261141005464738794001028384160999118615294980539567752608555551334718688843511868411054760980843775807004682384865481760946327856944279406068761955338771207213494064317400631819404327593492052743347675679208465260104372628452826793083743847730123980167858831744075430163673096039130634420256395\n"
     ]
    }
   ],
   "source": [
    "print(\"num(y[0])=\",y[0].numerator(),'\\n')\n",
    "print(\"den(y[0])=\",y[0].denominator())"
   ]
  },
  {
   "cell_type": "code",
   "execution_count": 29,
   "metadata": {},
   "outputs": [
    {
     "name": "stdout",
     "output_type": "stream",
     "text": [
      "CPU times: user 165 ms, sys: 16 µs, total: 165 ms\n",
      "Wall time: 169 ms\n"
     ]
    }
   ],
   "source": [
    "Af=A.n()\n",
    "bf=b.n()\n",
    "%time yf= Af.solve_right(bf)"
   ]
  },
  {
   "cell_type": "code",
   "execution_count": 30,
   "metadata": {},
   "outputs": [
    {
     "name": "stdout",
     "output_type": "stream",
     "text": [
      "yf[0]= -46.5258481811977\n"
     ]
    },
    {
     "data": {
      "text/plain": [
       "(-1.16379794690147e-10, 4.10338429901458e-12)"
      ]
     },
     "execution_count": 30,
     "metadata": {},
     "output_type": "execute_result"
    }
   ],
   "source": [
    "print(\"yf[0]=\",yf[0])\n",
    "#erreur commise par la résolution numérique\n",
    "y[0]-yf[0], (Af*yf)[0]- bf[0]"
   ]
  },
  {
   "cell_type": "code",
   "execution_count": 31,
   "metadata": {},
   "outputs": [
    {
     "data": {
      "text/html": [
       "<html><script type=\"math/tex; mode=display\">\\newcommand{\\Bold}[1]{\\mathbf{#1}}\\left(\\begin{array}{rrrrrrrrrrrrrrrrrrrr}\n",
       "1 & \\frac{1}{2} & \\frac{1}{3} & \\frac{1}{4} & \\frac{1}{5} & \\frac{1}{6} & \\frac{1}{7} & \\frac{1}{8} & \\frac{1}{9} & \\frac{1}{10} & \\frac{1}{11} & \\frac{1}{12} & \\frac{1}{13} & \\frac{1}{14} & \\frac{1}{15} & \\frac{1}{16} & \\frac{1}{17} & \\frac{1}{18} & \\frac{1}{19} & \\frac{1}{20} \\\\\n",
       "\\frac{1}{2} & \\frac{1}{3} & \\frac{1}{4} & \\frac{1}{5} & \\frac{1}{6} & \\frac{1}{7} & \\frac{1}{8} & \\frac{1}{9} & \\frac{1}{10} & \\frac{1}{11} & \\frac{1}{12} & \\frac{1}{13} & \\frac{1}{14} & \\frac{1}{15} & \\frac{1}{16} & \\frac{1}{17} & \\frac{1}{18} & \\frac{1}{19} & \\frac{1}{20} & \\frac{1}{21} \\\\\n",
       "\\frac{1}{3} & \\frac{1}{4} & \\frac{1}{5} & \\frac{1}{6} & \\frac{1}{7} & \\frac{1}{8} & \\frac{1}{9} & \\frac{1}{10} & \\frac{1}{11} & \\frac{1}{12} & \\frac{1}{13} & \\frac{1}{14} & \\frac{1}{15} & \\frac{1}{16} & \\frac{1}{17} & \\frac{1}{18} & \\frac{1}{19} & \\frac{1}{20} & \\frac{1}{21} & \\frac{1}{22} \\\\\n",
       "\\frac{1}{4} & \\frac{1}{5} & \\frac{1}{6} & \\frac{1}{7} & \\frac{1}{8} & \\frac{1}{9} & \\frac{1}{10} & \\frac{1}{11} & \\frac{1}{12} & \\frac{1}{13} & \\frac{1}{14} & \\frac{1}{15} & \\frac{1}{16} & \\frac{1}{17} & \\frac{1}{18} & \\frac{1}{19} & \\frac{1}{20} & \\frac{1}{21} & \\frac{1}{22} & \\frac{1}{23} \\\\\n",
       "\\frac{1}{5} & \\frac{1}{6} & \\frac{1}{7} & \\frac{1}{8} & \\frac{1}{9} & \\frac{1}{10} & \\frac{1}{11} & \\frac{1}{12} & \\frac{1}{13} & \\frac{1}{14} & \\frac{1}{15} & \\frac{1}{16} & \\frac{1}{17} & \\frac{1}{18} & \\frac{1}{19} & \\frac{1}{20} & \\frac{1}{21} & \\frac{1}{22} & \\frac{1}{23} & \\frac{1}{24} \\\\\n",
       "\\frac{1}{6} & \\frac{1}{7} & \\frac{1}{8} & \\frac{1}{9} & \\frac{1}{10} & \\frac{1}{11} & \\frac{1}{12} & \\frac{1}{13} & \\frac{1}{14} & \\frac{1}{15} & \\frac{1}{16} & \\frac{1}{17} & \\frac{1}{18} & \\frac{1}{19} & \\frac{1}{20} & \\frac{1}{21} & \\frac{1}{22} & \\frac{1}{23} & \\frac{1}{24} & \\frac{1}{25} \\\\\n",
       "\\frac{1}{7} & \\frac{1}{8} & \\frac{1}{9} & \\frac{1}{10} & \\frac{1}{11} & \\frac{1}{12} & \\frac{1}{13} & \\frac{1}{14} & \\frac{1}{15} & \\frac{1}{16} & \\frac{1}{17} & \\frac{1}{18} & \\frac{1}{19} & \\frac{1}{20} & \\frac{1}{21} & \\frac{1}{22} & \\frac{1}{23} & \\frac{1}{24} & \\frac{1}{25} & \\frac{1}{26} \\\\\n",
       "\\frac{1}{8} & \\frac{1}{9} & \\frac{1}{10} & \\frac{1}{11} & \\frac{1}{12} & \\frac{1}{13} & \\frac{1}{14} & \\frac{1}{15} & \\frac{1}{16} & \\frac{1}{17} & \\frac{1}{18} & \\frac{1}{19} & \\frac{1}{20} & \\frac{1}{21} & \\frac{1}{22} & \\frac{1}{23} & \\frac{1}{24} & \\frac{1}{25} & \\frac{1}{26} & \\frac{1}{27} \\\\\n",
       "\\frac{1}{9} & \\frac{1}{10} & \\frac{1}{11} & \\frac{1}{12} & \\frac{1}{13} & \\frac{1}{14} & \\frac{1}{15} & \\frac{1}{16} & \\frac{1}{17} & \\frac{1}{18} & \\frac{1}{19} & \\frac{1}{20} & \\frac{1}{21} & \\frac{1}{22} & \\frac{1}{23} & \\frac{1}{24} & \\frac{1}{25} & \\frac{1}{26} & \\frac{1}{27} & \\frac{1}{28} \\\\\n",
       "\\frac{1}{10} & \\frac{1}{11} & \\frac{1}{12} & \\frac{1}{13} & \\frac{1}{14} & \\frac{1}{15} & \\frac{1}{16} & \\frac{1}{17} & \\frac{1}{18} & \\frac{1}{19} & \\frac{1}{20} & \\frac{1}{21} & \\frac{1}{22} & \\frac{1}{23} & \\frac{1}{24} & \\frac{1}{25} & \\frac{1}{26} & \\frac{1}{27} & \\frac{1}{28} & \\frac{1}{29} \\\\\n",
       "\\frac{1}{11} & \\frac{1}{12} & \\frac{1}{13} & \\frac{1}{14} & \\frac{1}{15} & \\frac{1}{16} & \\frac{1}{17} & \\frac{1}{18} & \\frac{1}{19} & \\frac{1}{20} & \\frac{1}{21} & \\frac{1}{22} & \\frac{1}{23} & \\frac{1}{24} & \\frac{1}{25} & \\frac{1}{26} & \\frac{1}{27} & \\frac{1}{28} & \\frac{1}{29} & \\frac{1}{30} \\\\\n",
       "\\frac{1}{12} & \\frac{1}{13} & \\frac{1}{14} & \\frac{1}{15} & \\frac{1}{16} & \\frac{1}{17} & \\frac{1}{18} & \\frac{1}{19} & \\frac{1}{20} & \\frac{1}{21} & \\frac{1}{22} & \\frac{1}{23} & \\frac{1}{24} & \\frac{1}{25} & \\frac{1}{26} & \\frac{1}{27} & \\frac{1}{28} & \\frac{1}{29} & \\frac{1}{30} & \\frac{1}{31} \\\\\n",
       "\\frac{1}{13} & \\frac{1}{14} & \\frac{1}{15} & \\frac{1}{16} & \\frac{1}{17} & \\frac{1}{18} & \\frac{1}{19} & \\frac{1}{20} & \\frac{1}{21} & \\frac{1}{22} & \\frac{1}{23} & \\frac{1}{24} & \\frac{1}{25} & \\frac{1}{26} & \\frac{1}{27} & \\frac{1}{28} & \\frac{1}{29} & \\frac{1}{30} & \\frac{1}{31} & \\frac{1}{32} \\\\\n",
       "\\frac{1}{14} & \\frac{1}{15} & \\frac{1}{16} & \\frac{1}{17} & \\frac{1}{18} & \\frac{1}{19} & \\frac{1}{20} & \\frac{1}{21} & \\frac{1}{22} & \\frac{1}{23} & \\frac{1}{24} & \\frac{1}{25} & \\frac{1}{26} & \\frac{1}{27} & \\frac{1}{28} & \\frac{1}{29} & \\frac{1}{30} & \\frac{1}{31} & \\frac{1}{32} & \\frac{1}{33} \\\\\n",
       "\\frac{1}{15} & \\frac{1}{16} & \\frac{1}{17} & \\frac{1}{18} & \\frac{1}{19} & \\frac{1}{20} & \\frac{1}{21} & \\frac{1}{22} & \\frac{1}{23} & \\frac{1}{24} & \\frac{1}{25} & \\frac{1}{26} & \\frac{1}{27} & \\frac{1}{28} & \\frac{1}{29} & \\frac{1}{30} & \\frac{1}{31} & \\frac{1}{32} & \\frac{1}{33} & \\frac{1}{34} \\\\\n",
       "\\frac{1}{16} & \\frac{1}{17} & \\frac{1}{18} & \\frac{1}{19} & \\frac{1}{20} & \\frac{1}{21} & \\frac{1}{22} & \\frac{1}{23} & \\frac{1}{24} & \\frac{1}{25} & \\frac{1}{26} & \\frac{1}{27} & \\frac{1}{28} & \\frac{1}{29} & \\frac{1}{30} & \\frac{1}{31} & \\frac{1}{32} & \\frac{1}{33} & \\frac{1}{34} & \\frac{1}{35} \\\\\n",
       "\\frac{1}{17} & \\frac{1}{18} & \\frac{1}{19} & \\frac{1}{20} & \\frac{1}{21} & \\frac{1}{22} & \\frac{1}{23} & \\frac{1}{24} & \\frac{1}{25} & \\frac{1}{26} & \\frac{1}{27} & \\frac{1}{28} & \\frac{1}{29} & \\frac{1}{30} & \\frac{1}{31} & \\frac{1}{32} & \\frac{1}{33} & \\frac{1}{34} & \\frac{1}{35} & \\frac{1}{36} \\\\\n",
       "\\frac{1}{18} & \\frac{1}{19} & \\frac{1}{20} & \\frac{1}{21} & \\frac{1}{22} & \\frac{1}{23} & \\frac{1}{24} & \\frac{1}{25} & \\frac{1}{26} & \\frac{1}{27} & \\frac{1}{28} & \\frac{1}{29} & \\frac{1}{30} & \\frac{1}{31} & \\frac{1}{32} & \\frac{1}{33} & \\frac{1}{34} & \\frac{1}{35} & \\frac{1}{36} & \\frac{1}{37} \\\\\n",
       "\\frac{1}{19} & \\frac{1}{20} & \\frac{1}{21} & \\frac{1}{22} & \\frac{1}{23} & \\frac{1}{24} & \\frac{1}{25} & \\frac{1}{26} & \\frac{1}{27} & \\frac{1}{28} & \\frac{1}{29} & \\frac{1}{30} & \\frac{1}{31} & \\frac{1}{32} & \\frac{1}{33} & \\frac{1}{34} & \\frac{1}{35} & \\frac{1}{36} & \\frac{1}{37} & \\frac{1}{38} \\\\\n",
       "\\frac{1}{20} & \\frac{1}{21} & \\frac{1}{22} & \\frac{1}{23} & \\frac{1}{24} & \\frac{1}{25} & \\frac{1}{26} & \\frac{1}{27} & \\frac{1}{28} & \\frac{1}{29} & \\frac{1}{30} & \\frac{1}{31} & \\frac{1}{32} & \\frac{1}{33} & \\frac{1}{34} & \\frac{1}{35} & \\frac{1}{36} & \\frac{1}{37} & \\frac{1}{38} & \\frac{1}{39}\n",
       "\\end{array}\\right)</script></html>"
      ],
      "text/plain": [
       "20 x 20 dense matrix over Rational Field (use the '.str()' method to see the entries)"
      ]
     },
     "metadata": {},
     "output_type": "display_data"
    },
    {
     "data": {
      "text/html": [
       "<html><script type=\"math/tex; mode=display\">\\newcommand{\\Bold}[1]{\\mathbf{#1}}\\left(1,\\,1,\\,-1,\\,4,\\,-1,\\,0,\\,-1,\\,-1,\\,5,\\,-1,\\,-1,\\,0,\\,1,\\,-1,\\,0,\\,2,\\,1,\\,6,\\,4,\\,0\\right)</script></html>"
      ],
      "text/plain": [
       "(1, 1, -1, 4, -1, 0, -1, -1, 5, -1, -1, 0, 1, -1, 0, 2, 1, 6, 4, 0)"
      ]
     },
     "metadata": {},
     "output_type": "display_data"
    }
   ],
   "source": [
    "N=20\n",
    "A=matrix(N,N,lambda i,j : 1/(i+j+1))\n",
    "b=vector([ZZ.random_element() for i in range(N)])\n",
    "show(A)\n",
    "show(b)"
   ]
  },
  {
   "cell_type": "code",
   "execution_count": 32,
   "metadata": {},
   "outputs": [
    {
     "name": "stdout",
     "output_type": "stream",
     "text": [
      "CPU times: user 2.14 ms, sys: 64 µs, total: 2.2 ms\n",
      "Wall time: 13.8 ms\n",
      "CPU times: user 4.17 ms, sys: 7 µs, total: 4.17 ms\n",
      "Wall time: 3.98 ms\n"
     ]
    }
   ],
   "source": [
    "Af=A.n()\n",
    "bf=b.n()\n",
    "%time y = A.solve_right(b)\n",
    "%time yf= Af.solve_right(bf)"
   ]
  },
  {
   "cell_type": "code",
   "execution_count": 33,
   "metadata": {
    "scrolled": true
   },
   "outputs": [
    {
     "name": "stdout",
     "output_type": "stream",
     "text": [
      "yf[0]= 3.72403977243207e10\n"
     ]
    },
    {
     "data": {
      "text/plain": [
       "(1.76017600000000e6, 1.00000000000000)"
      ]
     },
     "execution_count": 33,
     "metadata": {},
     "output_type": "execute_result"
    }
   ],
   "source": [
    "### le résultat avec les flottants est complètement faux\n",
    "print(\"yf[0]=\",yf[0])\n",
    "(Af*yf)[0], bf[0]"
   ]
  },
  {
   "cell_type": "code",
   "execution_count": 34,
   "metadata": {},
   "outputs": [
    {
     "name": "stdout",
     "output_type": "stream",
     "text": [
      "y[0]= 12797867473720\n"
     ]
    },
    {
     "data": {
      "text/plain": [
       "(1, 1, True)"
      ]
     },
     "execution_count": 34,
     "metadata": {},
     "output_type": "execute_result"
    }
   ],
   "source": [
    "### le résultat avec les rationnels est exact\n",
    "print(\"y[0]=\",y[0])\n",
    "(A*y)[0],b[0],A*y==b"
   ]
  },
  {
   "cell_type": "markdown",
   "metadata": {},
   "source": [
    "**A RETENIR**\n",
    "- la fonction `solve` est une méthode de résolution symbolique\n",
    "- les calculs avec les flottants peuvent être plus rapides mais aussi faux (surtout en algèbre linéaire)\n",
    "- les calculs avec les rationnels entrainent un grossissement des données mais le résultat est toujours correct"
   ]
  },
  {
   "cell_type": "markdown",
   "metadata": {},
   "source": [
    "## Limite du calcul symbolique"
   ]
  },
  {
   "cell_type": "code",
   "execution_count": 35,
   "metadata": {},
   "outputs": [
    {
     "data": {
      "text/html": [
       "<html><script type=\"math/tex; mode=display\">\\newcommand{\\Bold}[1]{\\mathbf{#1}}a c + b c</script></html>"
      ],
      "text/plain": [
       "a*c + b*c"
      ]
     },
     "metadata": {},
     "output_type": "display_data"
    },
    {
     "data": {
      "text/html": [
       "<html><script type=\"math/tex; mode=display\">\\newcommand{\\Bold}[1]{\\mathbf{#1}}{\\left(a + b\\right)} c</script></html>"
      ],
      "text/plain": [
       "(a + b)*c"
      ]
     },
     "metadata": {},
     "output_type": "display_data"
    },
    {
     "data": {
      "text/html": [
       "<html><script type=\"math/tex; mode=display\">\\newcommand{\\Bold}[1]{\\mathbf{#1}}{\\left(a + b\\right)} c = {\\left(a + b\\right)} c</script></html>"
      ],
      "text/plain": [
       "(a + b)*c == (a + b)*c"
      ]
     },
     "metadata": {},
     "output_type": "display_data"
    },
    {
     "data": {
      "text/html": [
       "<html><script type=\"math/tex; mode=display\">\\newcommand{\\Bold}[1]{\\mathbf{#1}}a c + b c = a c + b c</script></html>"
      ],
      "text/plain": [
       "a*c + b*c == a*c + b*c"
      ]
     },
     "metadata": {},
     "output_type": "display_data"
    },
    {
     "data": {
      "text/plain": [
       "True"
      ]
     },
     "execution_count": 35,
     "metadata": {},
     "output_type": "execute_result"
    }
   ],
   "source": [
    "var('a b c')\n",
    "e1=a*c+b*c\n",
    "e2=(a+b)*c\n",
    "e1.show()\n",
    "e2.show()\n",
    "(e2 == e1.collect(c)).show()\n",
    "(e1 == e2.expand()).show()\n",
    "bool(e1==e2)"
   ]
  },
  {
   "cell_type": "code",
   "execution_count": 36,
   "metadata": {},
   "outputs": [
    {
     "data": {
      "text/html": [
       "<html><script type=\"math/tex; mode=display\">\\newcommand{\\Bold}[1]{\\mathbf{#1}}{\\left(a - b\\right)}^{2} - a^{2} + 2 \\, a b - b^{2}</script></html>"
      ],
      "text/plain": [
       "(a - b)^2 - a^2 + 2*a*b - b^2"
      ]
     },
     "metadata": {},
     "output_type": "display_data"
    },
    {
     "data": {
      "text/plain": [
       "True"
      ]
     },
     "execution_count": 36,
     "metadata": {},
     "output_type": "execute_result"
    }
   ],
   "source": [
    "e=(a-b)^2-a^2+2*a*b-b^2\n",
    "e.show()\n",
    "bool(e==0)"
   ]
  },
  {
   "cell_type": "code",
   "execution_count": 37,
   "metadata": {},
   "outputs": [
    {
     "data": {
      "text/plain": [
       "(cos(x)^2 + sin(x)^2, 1)"
      ]
     },
     "execution_count": 37,
     "metadata": {},
     "output_type": "execute_result"
    }
   ],
   "source": [
    "var('x')\n",
    "e= cos(x)^2+sin(x)^2\n",
    "e, e.simplify_trig()"
   ]
  },
  {
   "cell_type": "code",
   "execution_count": 38,
   "metadata": {},
   "outputs": [
    {
     "data": {
      "text/plain": [
       "(False, False, True)"
      ]
     },
     "execution_count": 38,
     "metadata": {},
     "output_type": "execute_result"
    }
   ],
   "source": [
    "e=sqrt(x^2)\n",
    "bool(x==e), bool(x==e.simplify_full()),bool(x==e.canonicalize_radical())"
   ]
  },
  {
   "cell_type": "markdown",
   "metadata": {},
   "source": [
    "### Explosion combinatoire des symboles"
   ]
  },
  {
   "cell_type": "code",
   "execution_count": 39,
   "metadata": {},
   "outputs": [
    {
     "data": {
      "text/html": [
       "<html><script type=\"math/tex; mode=display\">\\newcommand{\\Bold}[1]{\\mathbf{#1}}\\verb|A=| \\left(\\begin{array}{rr}\n",
       "\\cos\\left(x\\right) & \\sin\\left(x\\right) \\\\\n",
       "-\\sin\\left(x\\right) & \\cos\\left(x\\right)\n",
       "\\end{array}\\right) \\phantom{\\verb!xx!}\\verb|det(A)=| \\cos\\left(x\\right)^{2} + \\sin\\left(x\\right)^{2}</script></html>"
      ],
      "text/plain": [
       "'A=' [ cos(x)  sin(x)]\n",
       "[-sin(x)  cos(x)] '  det(A)=' cos(x)^2 + sin(x)^2"
      ]
     },
     "metadata": {},
     "output_type": "display_data"
    }
   ],
   "source": [
    "var('x')\n",
    "A=Matrix(2,2,[[cos(x),sin(x)],[-sin(x),cos(x)]])\n",
    "show(\"A=\",A,\"  det(A)=\",A.determinant())"
   ]
  },
  {
   "cell_type": "code",
   "execution_count": 40,
   "metadata": {},
   "outputs": [
    {
     "name": "stdout",
     "output_type": "stream",
     "text": [
      "d= 16*(16*(256*(16*(cos(x)^2 - sin(x)^2)^2*cos(x)^2*sin(x)^2 - (4*cos(x)^2*sin(x)^2 - (cos(x)^2 - sin(x)^2)^2)^2)^2*(4*cos(x)^2*sin(x)^2 - (cos(x)^2 - sin(x)^2)^2)^2*(cos(x)^2 - sin(x)^2)^2*cos(x)^2*sin(x)^2 - (64*(4*cos(x)^2*sin(x)^2 - (cos(x)^2 - sin(x)^2)^2)^2*(cos(x)^2 - sin(x)^2)^2*cos(x)^2*sin(x)^2 - (16*(cos(x)^2 - sin(x)^2)^2*cos(x)^2*sin(x)^2 - (4*cos(x)^2*sin(x)^2 - (cos(x)^2 - sin(x)^2)^2)^2)^2)^2)*(128*(64*(4*cos(x)^2*sin(x)^2 - (cos(x)^2 - sin(x)^2)^2)^2*(cos(x)^2 - sin(x)^2)^2*cos(x)^2*sin(x)^2 - (16*(cos(x)^2 - sin(x)^2)^2*cos(x)^2*sin(x)^2 - (4*cos(x)^2*sin(x)^2 - (cos(x)^2 - sin(x)^2)^2)^2)^2)*(16*(cos(x)^2 - sin(x)^2)^2*cos(x)^2*sin(x)^2 - (4*cos(x)^2*sin(x)^2 - (cos(x)^2 - sin(x)^2)^2)^2)*(4*cos(x)^2*sin(x)^2 - (cos(x)^2 - sin(x)^2)^2)*(cos(x)^2 - sin(x)^2)^2*cos(x)^2*sin(x)^2 + (256*(16*(cos(x)^2 - sin(x)^2)^2*cos(x)^2*sin(x)^2 - (4*cos(x)^2*sin(x)^2 - (cos(x)^2 - sin(x)^2)^2)^2)^2*(4*cos(x)^2*sin(x)^2 - (cos(x)^2 - sin(x)^2)^2)^2*(cos(x)^2 - sin(x)^2)^2*cos(x)^2*sin(x)^2 - (64*(4*cos(x)^2*sin(x)^2 - (cos(x)^2 - sin(x)^2)^2)^2*(cos(x)^2 - sin(x)^2)^2*cos(x)^2*sin(x)^2 - (16*(cos(x)^2 - sin(x)^2)^2*cos(x)^2*sin(x)^2 - (4*cos(x)^2*sin(x)^2 - (cos(x)^2 - sin(x)^2)^2)^2)^2)^2)*(4*cos(x)^2*sin(x)^2 - (cos(x)^2 - sin(x)^2)^2))*(64*(4*cos(x)^2*sin(x)^2 - (cos(x)^2 - sin(x)^2)^2)^2*(cos(x)^2 - sin(x)^2)^2*cos(x)^2*sin(x)^2 - (16*(cos(x)^2 - sin(x)^2)^2*cos(x)^2*sin(x)^2 - (4*cos(x)^2*sin(x)^2 - (cos(x)^2 - sin(x)^2)^2)^2)^2)*(16*(cos(x)^2 - sin(x)^2)^2*cos(x)^2*sin(x)^2 - (4*cos(x)^2*sin(x)^2 - (cos(x)^2 - sin(x)^2)^2)^2)*(4*cos(x)^2*sin(x)^2 - (cos(x)^2 - sin(x)^2)^2)*(cos(x)^2 - sin(x)^2)*cos(x)*sin(x) - (1024*(64*(4*cos(x)^2*sin(x)^2 - (cos(x)^2 - sin(x)^2)^2)^2*(cos(x)^2 - sin(x)^2)^2*cos(x)^2*sin(x)^2 - (16*(cos(x)^2 - sin(x)^2)^2*cos(x)^2*sin(x)^2 - (4*cos(x)^2*sin(x)^2 - (cos(x)^2 - sin(x)^2)^2)^2)^2)^2*(16*(cos(x)^2 - sin(x)^2)^2*cos(x)^2*sin(x)^2 - (4*cos(x)^2*sin(x)^2 - (cos(x)^2 - sin(x)^2)^2)^2)^2*(4*cos(x)^2*sin(x)^2 - (cos(x)^2 - sin(x)^2)^2)^2*(cos(x)^2 - sin(x)^2)^2*cos(x)^2*sin(x)^2 - (256*(16*(cos(x)^2 - sin(x)^2)^2*cos(x)^2*sin(x)^2 - (4*cos(x)^2*sin(x)^2 - (cos(x)^2 - sin(x)^2)^2)^2)^2*(4*cos(x)^2*sin(x)^2 - (cos(x)^2 - sin(x)^2)^2)^2*(cos(x)^2 - sin(x)^2)^2*cos(x)^2*sin(x)^2 - (64*(4*cos(x)^2*sin(x)^2 - (cos(x)^2 - sin(x)^2)^2)^2*(cos(x)^2 - sin(x)^2)^2*cos(x)^2*sin(x)^2 - (16*(cos(x)^2 - sin(x)^2)^2*cos(x)^2*sin(x)^2 - (4*cos(x)^2*sin(x)^2 - (cos(x)^2 - sin(x)^2)^2)^2)^2)^2)^2)*(8*(64*(4*cos(x)^2*sin(x)^2 - (cos(x)^2 - sin(x)^2)^2)^2*(cos(x)^2 - sin(x)^2)^2*cos(x)^2*sin(x)^2 - (16*(cos(x)^2 - sin(x)^2)^2*cos(x)^2*sin(x)^2 - (4*cos(x)^2*sin(x)^2 - (cos(x)^2 - sin(x)^2)^2)^2)^2)*(16*(cos(x)^2 - sin(x)^2)^2*cos(x)^2*sin(x)^2 - (4*cos(x)^2*sin(x)^2 - (cos(x)^2 - sin(x)^2)^2)^2)*(4*cos(x)^2*sin(x)^2 - (cos(x)^2 - sin(x)^2)^2)^2*(cos(x)^2 - sin(x)^2)*cos(x)*sin(x) - (256*(16*(cos(x)^2 - sin(x)^2)^2*cos(x)^2*sin(x)^2 - (4*cos(x)^2*sin(x)^2 - (cos(x)^2 - sin(x)^2)^2)^2)^2*(4*cos(x)^2*sin(x)^2 - (cos(x)^2 - sin(x)^2)^2)^2*(cos(x)^2 - sin(x)^2)^2*cos(x)^2*sin(x)^2 - (64*(4*cos(x)^2*sin(x)^2 - (cos(x)^2 - sin(x)^2)^2)^2*(cos(x)^2 - sin(x)^2)^2*cos(x)^2*sin(x)^2 - (16*(cos(x)^2 - sin(x)^2)^2*cos(x)^2*sin(x)^2 - (4*cos(x)^2*sin(x)^2 - (cos(x)^2 - sin(x)^2)^2)^2)^2)^2)*(cos(x)^2 - sin(x)^2)*cos(x)*sin(x)))^2 + (256*(256*(16*(cos(x)^2 - sin(x)^2)^2*cos(x)^2*sin(x)^2 - (4*cos(x)^2*sin(x)^2 - (cos(x)^2 - sin(x)^2)^2)^2)^2*(4*cos(x)^2*sin(x)^2 - (cos(x)^2 - sin(x)^2)^2)^2*(cos(x)^2 - sin(x)^2)^2*cos(x)^2*sin(x)^2 - (64*(4*cos(x)^2*sin(x)^2 - (cos(x)^2 - sin(x)^2)^2)^2*(cos(x)^2 - sin(x)^2)^2*cos(x)^2*sin(x)^2 - (16*(cos(x)^2 - sin(x)^2)^2*cos(x)^2*sin(x)^2 - (4*cos(x)^2*sin(x)^2 - (cos(x)^2 - sin(x)^2)^2)^2)^2)^2)*(64*(4*cos(x)^2*sin(x)^2 - (cos(x)^2 - sin(x)^2)^2)^2*(cos(x)^2 - sin(x)^2)^2*cos(x)^2*sin(x)^2 - (16*(cos(x)^2 - sin(x)^2)^2*cos(x)^2*sin(x)^2 - (4*cos(x)^2*sin(x)^2 - (cos(x)^2 - sin(x)^2)^2)^2)^2)*(8*(64*(4*cos(x)^2*sin(x)^2 - (cos(x)^2 - sin(x)^2)^2)^2*(cos(x)^2 - sin(x)^2)^2*cos(x)^2*sin(x)^2 - (16*(cos(x)^2 - sin(x)^2)^2*cos(x)^2*sin(x)^2 - (4*cos(x)^2*sin(x)^2 - (cos(x)^2 - sin(x)^2)^2)^2)^2)*(16*(cos(x)^2 - sin(x)^2)^2*cos(x)^2*sin(x)^2 - (4*cos(x)^2*sin(x)^2 - (cos(x)^2 - sin(x)^2)^2)^2)*(4*cos(x)^2*sin(x)^2 - (cos(x)^2 - sin(x)^2)^2)^2*(cos(x)^2 - sin(x)^2)*cos(x)*sin(x) - (256*(16*(cos(x)^2 - sin(x)^2)^2*cos(x)^2*sin(x)^2 - (4*cos(x)^2*sin(x)^2 - (cos(x)^2 - sin(x)^2)^2)^2)^2*(4*cos(x)^2*sin(x)^2 - (cos(x)^2 - sin(x)^2)^2)^2*(cos(x)^2 - sin(x)^2)^2*cos(x)^2*sin(x)^2 - (64*(4*cos(x)^2*sin(x)^2 - (cos(x)^2 - sin(x)^2)^2)^2*(cos(x)^2 - sin(x)^2)^2*cos(x)^2*sin(x)^2 - (16*(cos(x)^2 - sin(x)^2)^2*cos(x)^2*sin(x)^2 - (4*cos(x)^2*sin(x)^2 - (cos(x)^2 - sin(x)^2)^2)^2)^2)^2)*(cos(x)^2 - sin(x)^2)*cos(x)*sin(x))*(16*(cos(x)^2 - sin(x)^2)^2*cos(x)^2*sin(x)^2 - (4*cos(x)^2*sin(x)^2 - (cos(x)^2 - sin(x)^2)^2)^2)*(4*cos(x)^2*sin(x)^2 - (cos(x)^2 - sin(x)^2)^2)*(cos(x)^2 - sin(x)^2)*cos(x)*sin(x) + (1024*(64*(4*cos(x)^2*sin(x)^2 - (cos(x)^2 - sin(x)^2)^2)^2*(cos(x)^2 - sin(x)^2)^2*cos(x)^2*sin(x)^2 - (16*(cos(x)^2 - sin(x)^2)^2*cos(x)^2*sin(x)^2 - (4*cos(x)^2*sin(x)^2 - (cos(x)^2 - sin(x)^2)^2)^2)^2)^2*(16*(cos(x)^2 - sin(x)^2)^2*cos(x)^2*sin(x)^2 - (4*cos(x)^2*sin(x)^2 - (cos(x)^2 - sin(x)^2)^2)^2)^2*(4*cos(x)^2*sin(x)^2 - (cos(x)^2 - sin(x)^2)^2)^2*(cos(x)^2 - sin(x)^2)^2*cos(x)^2*sin(x)^2 - (256*(16*(cos(x)^2 - sin(x)^2)^2*cos(x)^2*sin(x)^2 - (4*cos(x)^2*sin(x)^2 - (cos(x)^2 - sin(x)^2)^2)^2)^2*(4*cos(x)^2*sin(x)^2 - (cos(x)^2 - sin(x)^2)^2)^2*(cos(x)^2 - sin(x)^2)^2*cos(x)^2*sin(x)^2 - (64*(4*cos(x)^2*sin(x)^2 - (cos(x)^2 - sin(x)^2)^2)^2*(cos(x)^2 - sin(x)^2)^2*cos(x)^2*sin(x)^2 - (16*(cos(x)^2 - sin(x)^2)^2*cos(x)^2*sin(x)^2 - (4*cos(x)^2*sin(x)^2 - (cos(x)^2 - sin(x)^2)^2)^2)^2)^2)^2)*(128*(64*(4*cos(x)^2*sin(x)^2 - (cos(x)^2 - sin(x)^2)^2)^2*(cos(x)^2 - sin(x)^2)^2*cos(x)^2*sin(x)^2 - (16*(cos(x)^2 - sin(x)^2)^2*cos(x)^2*sin(x)^2 - (4*cos(x)^2*sin(x)^2 - (cos(x)^2 - sin(x)^2)^2)^2)^2)*(16*(cos(x)^2 - sin(x)^2)^2*cos(x)^2*sin(x)^2 - (4*cos(x)^2*sin(x)^2 - (cos(x)^2 - sin(x)^2)^2)^2)*(4*cos(x)^2*sin(x)^2 - (cos(x)^2 - sin(x)^2)^2)*(cos(x)^2 - sin(x)^2)^2*cos(x)^2*sin(x)^2 + (256*(16*(cos(x)^2 - sin(x)^2)^2*cos(x)^2*sin(x)^2 - (4*cos(x)^2*sin(x)^2 - (cos(x)^2 - sin(x)^2)^2)^2)^2*(4*cos(x)^2*sin(x)^2 - (cos(x)^2 - sin(x)^2)^2)^2*(cos(x)^2 - sin(x)^2)^2*cos(x)^2*sin(x)^2 - (64*(4*cos(x)^2*sin(x)^2 - (cos(x)^2 - sin(x)^2)^2)^2*(cos(x)^2 - sin(x)^2)^2*cos(x)^2*sin(x)^2 - (16*(cos(x)^2 - sin(x)^2)^2*cos(x)^2*sin(x)^2 - (4*cos(x)^2*sin(x)^2 - (cos(x)^2 - sin(x)^2)^2)^2)^2)^2)*(4*cos(x)^2*sin(x)^2 - (cos(x)^2 - sin(x)^2)^2)))^2\n"
     ]
    }
   ],
   "source": [
    "N=100\n",
    "d=(A^N).determinant()\n",
    "print(\"d=\",d)\n",
    "\n",
    "#A^N,(A^(N)).expand()"
   ]
  },
  {
   "cell_type": "code",
   "execution_count": 41,
   "metadata": {},
   "outputs": [
    {
     "name": "stdout",
     "output_type": "stream",
     "text": [
      "True\n",
      "CPU times: user 4.27 s, sys: 47.8 ms, total: 4.32 s\n",
      "Wall time: 4.28 s\n",
      "True\n",
      "CPU times: user 607 ms, sys: 0 ns, total: 607 ms\n",
      "Wall time: 547 ms\n"
     ]
    }
   ],
   "source": [
    "%time print(bool(d==1))\n",
    "%time print(bool(d.simplify_trig()==1))"
   ]
  },
  {
   "cell_type": "markdown",
   "metadata": {},
   "source": [
    "### Pas toujours de solutions"
   ]
  },
  {
   "cell_type": "code",
   "execution_count": 42,
   "metadata": {},
   "outputs": [
    {
     "data": {
      "text/plain": [
       "[(-I, 1), (I, 1)]"
      ]
     },
     "execution_count": 42,
     "metadata": {},
     "output_type": "execute_result"
    }
   ],
   "source": [
    "var('x')\n",
    "(x^2+1).roots()"
   ]
  },
  {
   "cell_type": "code",
   "execution_count": 43,
   "metadata": {},
   "outputs": [
    {
     "name": "stdout",
     "output_type": "stream",
     "text": [
      "E=(x + 1)^5 - (x + 2)^4\n",
      "F=(x + 1)^5 + (x + 2)^4\n",
      "EF=((x + 1)^5 + (x + 2)^4)*((x + 1)^5 - (x + 2)^4)\n"
     ]
    },
    {
     "data": {
      "text/plain": [
       "[(-1/6*(1/2)^(1/3)*(3*sqrt(23)*sqrt(3) + 97)^(1/3)*(I*sqrt(3) + 1) - 13/3*(1/2)^(2/3)*(-I*sqrt(3) + 1)/(3*sqrt(23)*sqrt(3) + 97)^(1/3) - 1/3,\n",
       "  1),\n",
       " (-1/6*(1/2)^(1/3)*(3*sqrt(23)*sqrt(3) + 97)^(1/3)*(-I*sqrt(3) + 1) - 13/3*(1/2)^(2/3)*(I*sqrt(3) + 1)/(3*sqrt(23)*sqrt(3) + 97)^(1/3) - 1/3,\n",
       "  1),\n",
       " (1/3*(1/2)^(1/3)*(3*sqrt(23)*sqrt(3) + 97)^(1/3) + 26/3*(1/2)^(2/3)/(3*sqrt(23)*sqrt(3) + 97)^(1/3) - 1/3,\n",
       "  1),\n",
       " (-1/2*I*sqrt(3) - 3/2, 1),\n",
       " (1/2*I*sqrt(3) - 3/2, 1)]"
      ]
     },
     "execution_count": 43,
     "metadata": {},
     "output_type": "execute_result"
    }
   ],
   "source": [
    "E= (x+1)^5 - (x+2)^4\n",
    "F= (x+1)^5 + (x+2)^4\n",
    "EF=E*F\n",
    "print(f\"{E=}\\n{F=}\\n{EF=}\")\n",
    "EF.roots(x)"
   ]
  },
  {
   "cell_type": "code",
   "execution_count": 44,
   "metadata": {},
   "outputs": [
    {
     "name": "stdout",
     "output_type": "stream",
     "text": [
      "E=(x + 1)^10 - (x + 2)^9\n",
      "F=(x + 1)^10 + (x + 2)^9\n",
      "EF=((x + 1)^10 + (x + 2)^9)*((x + 1)^10 - (x + 2)^9)\n"
     ]
    },
    {
     "ename": "RuntimeError",
     "evalue": "no explicit roots found",
     "output_type": "error",
     "traceback": [
      "\u001b[0;31m---------------------------------------------------------------------------\u001b[0m",
      "\u001b[0;31mRuntimeError\u001b[0m                              Traceback (most recent call last)",
      "\u001b[0;32m<ipython-input-44-01488cc127b7>\u001b[0m in \u001b[0;36m<module>\u001b[0;34m\u001b[0m\n\u001b[1;32m      3\u001b[0m \u001b[0mEF\u001b[0m\u001b[0;34m=\u001b[0m\u001b[0mE\u001b[0m\u001b[0;34m*\u001b[0m\u001b[0mF\u001b[0m\u001b[0;34m\u001b[0m\u001b[0;34m\u001b[0m\u001b[0m\n\u001b[1;32m      4\u001b[0m \u001b[0mprint\u001b[0m\u001b[0;34m(\u001b[0m\u001b[0;34mf\"{E=}\\n{F=}\\n{EF=}\"\u001b[0m\u001b[0;34m)\u001b[0m\u001b[0;34m\u001b[0m\u001b[0;34m\u001b[0m\u001b[0m\n\u001b[0;32m----> 5\u001b[0;31m \u001b[0mEF\u001b[0m\u001b[0;34m.\u001b[0m\u001b[0mroots\u001b[0m\u001b[0;34m(\u001b[0m\u001b[0mx\u001b[0m\u001b[0;34m)\u001b[0m \u001b[0;31m## aucunes solution trouvées alors que c'est un polynôme\u001b[0m\u001b[0;34m\u001b[0m\u001b[0;34m\u001b[0m\u001b[0m\n\u001b[0m",
      "\u001b[0;32m/usr/lib/python3/dist-packages/sage/symbolic/expression.pyx\u001b[0m in \u001b[0;36msage.symbolic.expression.Expression.roots (build/cythonized/sage/symbolic/expression.cpp:59459)\u001b[0;34m()\u001b[0m\n\u001b[1;32m  11490\u001b[0m         \u001b[0mS\u001b[0m\u001b[0;34m,\u001b[0m \u001b[0mmul\u001b[0m \u001b[0;34m=\u001b[0m \u001b[0mself\u001b[0m\u001b[0;34m.\u001b[0m\u001b[0msolve\u001b[0m\u001b[0;34m(\u001b[0m\u001b[0mx\u001b[0m\u001b[0;34m,\u001b[0m \u001b[0mmultiplicities\u001b[0m\u001b[0;34m=\u001b[0m\u001b[0;32mTrue\u001b[0m\u001b[0;34m,\u001b[0m \u001b[0mexplicit_solutions\u001b[0m\u001b[0;34m=\u001b[0m\u001b[0mexplicit_solutions\u001b[0m\u001b[0;34m)\u001b[0m\u001b[0;34m\u001b[0m\u001b[0;34m\u001b[0m\u001b[0m\n\u001b[1;32m  11491\u001b[0m         \u001b[0;32mif\u001b[0m \u001b[0mlen\u001b[0m\u001b[0;34m(\u001b[0m\u001b[0mmul\u001b[0m\u001b[0;34m)\u001b[0m \u001b[0;34m==\u001b[0m \u001b[0;36m0\u001b[0m \u001b[0;32mand\u001b[0m \u001b[0mexplicit_solutions\u001b[0m\u001b[0;34m:\u001b[0m\u001b[0;34m\u001b[0m\u001b[0;34m\u001b[0m\u001b[0m\n\u001b[0;32m> 11492\u001b[0;31m             \u001b[0;32mraise\u001b[0m \u001b[0mRuntimeError\u001b[0m\u001b[0;34m(\u001b[0m\u001b[0;34m\"no explicit roots found\"\u001b[0m\u001b[0;34m)\u001b[0m\u001b[0;34m\u001b[0m\u001b[0;34m\u001b[0m\u001b[0m\n\u001b[0m\u001b[1;32m  11493\u001b[0m         \u001b[0;32melse\u001b[0m\u001b[0;34m:\u001b[0m\u001b[0;34m\u001b[0m\u001b[0;34m\u001b[0m\u001b[0m\n\u001b[1;32m  11494\u001b[0m             \u001b[0mrt_muls\u001b[0m \u001b[0;34m=\u001b[0m \u001b[0;34m[\u001b[0m\u001b[0;34m(\u001b[0m\u001b[0mS\u001b[0m\u001b[0;34m[\u001b[0m\u001b[0mi\u001b[0m\u001b[0;34m]\u001b[0m\u001b[0;34m.\u001b[0m\u001b[0mrhs\u001b[0m\u001b[0;34m(\u001b[0m\u001b[0;34m)\u001b[0m\u001b[0;34m,\u001b[0m \u001b[0mmul\u001b[0m\u001b[0;34m[\u001b[0m\u001b[0mi\u001b[0m\u001b[0;34m]\u001b[0m\u001b[0;34m)\u001b[0m \u001b[0;32mfor\u001b[0m \u001b[0mi\u001b[0m \u001b[0;32min\u001b[0m \u001b[0mrange\u001b[0m\u001b[0;34m(\u001b[0m\u001b[0mlen\u001b[0m\u001b[0;34m(\u001b[0m\u001b[0mmul\u001b[0m\u001b[0;34m)\u001b[0m\u001b[0;34m)\u001b[0m\u001b[0;34m]\u001b[0m\u001b[0;34m\u001b[0m\u001b[0;34m\u001b[0m\u001b[0m\n",
      "\u001b[0;31mRuntimeError\u001b[0m: no explicit roots found"
     ]
    }
   ],
   "source": [
    "E= (x+1)^10 - (x+2)^9\n",
    "F= (x+1)^10 + (x+2)^9\n",
    "EF=E*F\n",
    "print(f\"{E=}\\n{F=}\\n{EF=}\")\n",
    "EF.roots(x) ## aucunes solution trouvées alors que c'est un polynôme"
   ]
  },
  {
   "cell_type": "markdown",
   "metadata": {},
   "source": [
    "Pour résoudre on passe du calcul symbolique au calcul algébrique.\n",
    "\n",
    "Pour cela on se place dans la structure mathématique des polynomes qui sont des expressions symboliques ayant de bonne propriétés: en particulier une représentation canonique !!!\n",
    "\n",
    "Un polynôme est une expression de la forme : $a_0+a_1X+\\dots+a_nX^n$ avec $n$ une valeur connue et les coefficients $\\{a_0,a_1,\\dots,a_n\\}$ qui sont tous du même type (Entier, Rationnel, Complexe, ...).\n",
    "\n",
    "$\\Rightarrow$ le vecteur $[a_0,a_1,\\dots,a_n]$ est une représentation canonique de ce polynôme."
   ]
  },
  {
   "cell_type": "code",
   "execution_count": null,
   "metadata": {},
   "outputs": [],
   "source": [
    "# Ensemble des polynomes à coefficient dans QQ\n",
    "# on choisit la variable X comme symbole des polynômes\n",
    "PR.<X>=PolynomialRing(QQ) #ou PR.<X>=QQ[]\n",
    "\n",
    "print(\"type de x: \",x.parent())\n",
    "print(\"type de X: \",X.parent())\n",
    "bool(X==x)"
   ]
  },
  {
   "cell_type": "code",
   "execution_count": null,
   "metadata": {},
   "outputs": [],
   "source": [
    "print((2*X+4).parent()) \n",
    "print((2*x+4).parent()) \n",
    "print((2*X+ cos(3)).parent())\n",
    "print((2*X+0.5).parent()) # attention coercion vers les polynomes à coefficient dans RR\n",
    "RR"
   ]
  },
  {
   "cell_type": "code",
   "execution_count": null,
   "metadata": {},
   "outputs": [],
   "source": [
    "# on convertit les expressions symboliques vers les polynomes en substituant \n",
    "# la variable x par celle des polynômes en X et en construisant le polynôme associé\n",
    "polyE=PR(E.subs(x=X)) \n",
    "polyF=PR(F.subs(x=X))\n",
    "polyEF=polyE*polyF\n",
    "show(f\"une expression symbolique: {E=}\")\n",
    "show(f\"un polynomes: {polyE=}\")\n"
   ]
  },
  {
   "cell_type": "code",
   "execution_count": null,
   "metadata": {},
   "outputs": [],
   "source": [
    "# calcul des racines dans le domaine de définition du polynome (ici Q)\n",
    "print(f\"calcul des racines sur {polyEF.base_ring()}\")\n",
    "polyEF.roots()"
   ]
  },
  {
   "cell_type": "code",
   "execution_count": null,
   "metadata": {},
   "outputs": [],
   "source": [
    "# calcul des racines dans C\n",
    "R=polyEF.roots(CC)\n",
    "R"
   ]
  },
  {
   "cell_type": "code",
   "execution_count": null,
   "metadata": {},
   "outputs": [],
   "source": [
    "R[0][0],polyEF(R[0][0])"
   ]
  },
  {
   "cell_type": "code",
   "execution_count": null,
   "metadata": {},
   "outputs": [],
   "source": [
    "polyEF(ComplexField(80)(R[0][0]))"
   ]
  },
  {
   "cell_type": "code",
   "execution_count": null,
   "metadata": {},
   "outputs": [],
   "source": [
    "# calcul de la forme canonique d'un produit de polynômes\n",
    "E1= (x+1)^100 - (x+2)^99\n",
    "F1= (x+1)^100 + (x+2)^99\n",
    "polyE1=PR(E.subs(x=X)) \n",
    "polyF1=PR(F.subs(x=X))\n",
    "\n",
    "# via la representation par arbre (exp symbolique)\n",
    "%time (E1*F1).expand() \n",
    "# via la representation par liste des coefficients\n",
    "%time polyEF1=polyE1*polyF1 "
   ]
  },
  {
   "cell_type": "markdown",
   "metadata": {},
   "source": [
    "**A RETENIR**\n",
    "- le calcul symbolique permet de manipuler n'importe quelles expressions faisant intervenir des symboles et des fonctions \n",
    "- pas toujours possible de trouver des solutions avec uniquement des calculs symboliques\n",
    "- l'utilisation de calcul algèbrique est souvent préférable si on connaît la structure mathématique sous-jacente (Ex. les polynômes, les matrices, ...)\n",
    "- le calcul algébrique sera la plupart du temps plus rapide\n",
    "- parfois on retrouve un mélange de calcul algébrique et numérique (résolution dans les complexes si le problème est défini sur les nombres rationnels)"
   ]
  },
  {
   "cell_type": "markdown",
   "metadata": {},
   "source": [
    "## Les matrices"
   ]
  },
  {
   "cell_type": "code",
   "execution_count": null,
   "metadata": {},
   "outputs": [],
   "source": [
    "A=matrix([[1,2],[3,4]])\n",
    "B=matrix([[1,2,3],[4,5,6]])\n",
    "print(A,B)\n",
    "show(A,B)"
   ]
  },
  {
   "cell_type": "code",
   "execution_count": null,
   "metadata": {},
   "outputs": [],
   "source": [
    "# addition de matrice\n",
    "show(A+A)\n",
    "# multiplication par un scalaire\n",
    "show(3*A , A+A+A)"
   ]
  },
  {
   "cell_type": "code",
   "execution_count": null,
   "metadata": {},
   "outputs": [],
   "source": [
    "show(\"A=\",A)\n",
    "show(\"B=\",B)\n",
    "\n",
    "A+B"
   ]
  },
  {
   "cell_type": "markdown",
   "metadata": {},
   "source": [
    "### matrices et combinaisons linéaires"
   ]
  },
  {
   "cell_type": "code",
   "execution_count": null,
   "metadata": {},
   "outputs": [],
   "source": [
    "# une combinaison linéaire de symboles\n",
    "var('x y z')\n",
    "e=[x,y,z]\n",
    "3*e[0]+2*e[1]+5*e[2]"
   ]
  },
  {
   "cell_type": "code",
   "execution_count": null,
   "metadata": {},
   "outputs": [],
   "source": [
    "u=matrix(1,3,[1,2,3])\n",
    "v=matrix(3,1,e)\n",
    "show(u,v)"
   ]
  },
  {
   "cell_type": "code",
   "execution_count": null,
   "metadata": {},
   "outputs": [],
   "source": [
    "# le produit de matrice n*1 par 1*n est une combinaison linéaire\n",
    "u*v"
   ]
  },
  {
   "cell_type": "code",
   "execution_count": null,
   "metadata": {},
   "outputs": [],
   "source": []
  },
  {
   "cell_type": "code",
   "execution_count": null,
   "metadata": {},
   "outputs": [],
   "source": [
    "# on peut augmenter le nombre de combinaisons linéaires (on ajoute une ligne à gauche)\n",
    "B=matrix(2,3,[1,2,3,4,5,6])\n",
    "show(B,v)\n",
    "show(B*v)"
   ]
  },
  {
   "cell_type": "code",
   "execution_count": null,
   "metadata": {},
   "outputs": [],
   "source": [
    "# on peut augmenter le nombre de combinaisons linéaires (on ajoute une colonne à droite)\n",
    "var('x,y,z,a,b,c')\n",
    "V=matrix(3,2,[[x,a],[y,b],[z,c]])\n",
    "show(V)\n",
    "show(B*V)"
   ]
  },
  {
   "cell_type": "code",
   "execution_count": null,
   "metadata": {},
   "outputs": [],
   "source": [
    "# ATTENTION: les tailles des matrices doivent correspondre\n",
    "show(V)\n",
    "V*V"
   ]
  },
  {
   "cell_type": "code",
   "execution_count": null,
   "metadata": {},
   "outputs": [],
   "source": [
    "# ATTENTION: le produit matriciel n'est pas commutatif\n",
    "bool(V*B==B*V)"
   ]
  },
  {
   "cell_type": "code",
   "execution_count": null,
   "metadata": {},
   "outputs": [],
   "source": [
    "show(V*B,B*V)"
   ]
  },
  {
   "cell_type": "code",
   "execution_count": null,
   "metadata": {},
   "outputs": [],
   "source": [
    "# On peut transposer une matrice câd intervertir A[i,j] avec A[j,i]\n",
    "show(V)\n",
    "show(V.transpose())"
   ]
  },
  {
   "cell_type": "code",
   "execution_count": null,
   "metadata": {},
   "outputs": [],
   "source": [
    "# le produit d'une matrice par sa transposée est toujours bien défini\n",
    "show(V.transpose()*V)\n",
    "show(V*V.transpose())"
   ]
  },
  {
   "cell_type": "markdown",
   "metadata": {},
   "source": [
    "### Les espaces de matrices"
   ]
  },
  {
   "cell_type": "code",
   "execution_count": null,
   "metadata": {},
   "outputs": [],
   "source": [
    "# le premier paramètres est le domaine des coefficients (optionnel)\n",
    "# si il est présent il impose le type des coefficients\n",
    "A=matrix([[1,2],[3,4]])\n",
    "B=matrix(RR,[[1,2/3],[3,4]])\n",
    "C=matrix([[1,2/3],[3,4]])\n",
    "A.parent(),B.parent(),C.parent()"
   ]
  },
  {
   "cell_type": "code",
   "execution_count": null,
   "metadata": {},
   "outputs": [],
   "source": [
    "matrix(ZZ,[[1,2/3],[3,4]])"
   ]
  },
  {
   "cell_type": "code",
   "execution_count": null,
   "metadata": {},
   "outputs": [],
   "source": [
    "# le second/troisièmes paramètres sont les dimensions (optionnel)\n",
    "# si ils sont présents ils imposent le nombre de coefficients (si aucun que des zéros)\n",
    "A=matrix(ZZ,2,2)\n",
    "B=matrix(ZZ,2,2,[[4,5],[6,7]])\n",
    "C=matrix(ZZ,2,2,[4,5,6,7])\n",
    "show(A)\n",
    "show(B)\n",
    "show(C)"
   ]
  },
  {
   "cell_type": "code",
   "execution_count": null,
   "metadata": {},
   "outputs": [],
   "source": [
    "# Comme les matrices vivent dans un espace de matrice on peut définir cet objet\n",
    "MS23=MatrixSpace(ZZ,2,3)\n",
    "MS22=MatrixSpace(QQ,2,2)\n",
    "show(MS22,\"\\tet\\t\",MS23)\n",
    "MS22,MS23"
   ]
  },
  {
   "cell_type": "code",
   "execution_count": null,
   "metadata": {},
   "outputs": [],
   "source": [
    "MS23.dimension() , MS23.dims()"
   ]
  },
  {
   "cell_type": "code",
   "execution_count": null,
   "metadata": {},
   "outputs": [],
   "source": [
    "A=MS22.matrix([1,2,3,4])\n",
    "A.parent()"
   ]
  },
  {
   "cell_type": "code",
   "execution_count": null,
   "metadata": {},
   "outputs": [],
   "source": [
    "MS22.random_element()\n",
    "show(_)"
   ]
  },
  {
   "cell_type": "code",
   "execution_count": null,
   "metadata": {},
   "outputs": [],
   "source": [
    "MS10=MatrixSpace(ZZ,10,10)\n",
    "MS10.random_element(density=1,x=0,y=100)\n",
    "show(_)"
   ]
  },
  {
   "cell_type": "code",
   "execution_count": null,
   "metadata": {},
   "outputs": [],
   "source": [
    "MS10=MS10.change_ring(QQ)\n",
    "MS10.random_element(density=0.5,num_bound=100,den_bound=100)\n",
    "show(_)"
   ]
  },
  {
   "cell_type": "markdown",
   "metadata": {},
   "source": [
    "### un peu de calcul algébrique matriciel"
   ]
  },
  {
   "cell_type": "code",
   "execution_count": null,
   "metadata": {},
   "outputs": [],
   "source": [
    "N=10\n",
    "q=17\n",
    "MS=MatrixSpace(GF(q),N,N)\n",
    "A=MS.random_element()\n",
    "show(\"A=\",A)\n",
    "show(f\"det(A)={A.det()}\")"
   ]
  },
  {
   "cell_type": "code",
   "execution_count": null,
   "metadata": {},
   "outputs": [],
   "source": [
    "B=A.change_ring(ZZ)\n",
    "show(\"B=\",B)\n",
    "show(f\"det(B)={B.det()}\")"
   ]
  },
  {
   "cell_type": "code",
   "execution_count": null,
   "metadata": {},
   "outputs": [],
   "source": [
    "B.det()%q == A.det()"
   ]
  },
  {
   "cell_type": "code",
   "execution_count": null,
   "metadata": {},
   "outputs": [],
   "source": [
    "show(A^-1)"
   ]
  },
  {
   "cell_type": "code",
   "execution_count": null,
   "metadata": {},
   "outputs": [],
   "source": [
    "show(B^-1)"
   ]
  },
  {
   "cell_type": "code",
   "execution_count": null,
   "metadata": {},
   "outputs": [],
   "source": [
    "(B^(-1)%q), A^-1\n",
    "show(_)"
   ]
  },
  {
   "cell_type": "code",
   "execution_count": null,
   "metadata": {},
   "outputs": [],
   "source": [
    "# Expliquer le résultat obtenu\n",
    "(B^(-1)%q) ==  A^-1"
   ]
  },
  {
   "cell_type": "code",
   "execution_count": null,
   "metadata": {},
   "outputs": [],
   "source": []
  },
  {
   "cell_type": "code",
   "execution_count": null,
   "metadata": {},
   "outputs": [],
   "source": []
  },
  {
   "cell_type": "code",
   "execution_count": null,
   "metadata": {},
   "outputs": [],
   "source": []
  },
  {
   "cell_type": "code",
   "execution_count": null,
   "metadata": {},
   "outputs": [],
   "source": [
    "(B^(-1)%q).parent(),(A^-1).parent()"
   ]
  },
  {
   "cell_type": "code",
   "execution_count": null,
   "metadata": {},
   "outputs": [],
   "source": [
    "(B^(-1)%q) ==  (A^-1).change_ring(B.base_ring())"
   ]
  },
  {
   "cell_type": "code",
   "execution_count": null,
   "metadata": {},
   "outputs": [],
   "source": [
    "(B^(-1)).change_ring(A.base_ring()) ==  (A^-1)"
   ]
  },
  {
   "cell_type": "code",
   "execution_count": null,
   "metadata": {},
   "outputs": [],
   "source": []
  },
  {
   "cell_type": "code",
   "execution_count": null,
   "metadata": {},
   "outputs": [],
   "source": []
  }
 ],
 "metadata": {
  "celltoolbar": "Éditer les Méta-Données",
  "kernelspec": {
   "display_name": "SageMath 9.0",
   "language": "sage",
   "name": "sagemath"
  },
  "language_info": {
   "codemirror_mode": {
    "name": "ipython",
    "version": 3
   },
   "file_extension": ".py",
   "mimetype": "text/x-python",
   "name": "python",
   "nbconvert_exporter": "python",
   "pygments_lexer": "ipython3",
   "version": "3.8.10"
  },
  "toc": {
   "base_numbering": 1,
   "nav_menu": {},
   "number_sections": true,
   "sideBar": true,
   "skip_h1_title": true,
   "title_cell": "Table of Contents",
   "title_sidebar": "Contents",
   "toc_cell": false,
   "toc_position": {
    "height": "calc(100% - 180px)",
    "left": "10px",
    "top": "150px",
    "width": "165px"
   },
   "toc_section_display": true,
   "toc_window_display": true
  },
  "varInspector": {
   "cols": {
    "lenName": 16,
    "lenType": 16,
    "lenVar": 40
   },
   "kernels_config": {
    "python": {
     "delete_cmd_postfix": "",
     "delete_cmd_prefix": "del ",
     "library": "var_list.py",
     "varRefreshCmd": "print(var_dic_list())"
    },
    "r": {
     "delete_cmd_postfix": ") ",
     "delete_cmd_prefix": "rm(",
     "library": "var_list.r",
     "varRefreshCmd": "cat(var_dic_list()) "
    }
   },
   "types_to_exclude": [
    "module",
    "function",
    "builtin_function_or_method",
    "instance",
    "_Feature"
   ],
   "window_display": false
  }
 },
 "nbformat": 4,
 "nbformat_minor": 4
}
