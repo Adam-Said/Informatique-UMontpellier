{
  "cells": [
    {
      "cell_type": "markdown",
      "metadata": {
        "id": "3JAlqEteYLdo"
      },
      "source": [
        "Les Pima sont un groupe d'Amérindiens vivant en Arizona. Une prédisposition génétique a permis à ce groupe de survivre normalement à un régime pauvre en glucides pendant des années. Au cours des dernières années, en raison d'un passage soudain des cultures agricoles traditionnelles aux aliments transformés, ainsi que d'un déclin de l'activité physique, ils ont développé la prévalence la plus élevée de diabète de type 2 et pour cette raison ils ont fait l'objet de nombreuses études.\n",
        "\n"
      ]
    },
    {
      "cell_type": "markdown",
      "metadata": {
        "id": "R6u40aS1YLdt"
      },
      "source": [
        "L'ensemble de données comprend des données provenant de 768 femmes présentant 8 caractéristiques, en particulier :\n",
        "\n",
        "* Nombre de grossesses\n",
        "* Concentration de glucose plasmatique a 2 heures dans un test de tolérance au glucose par voie orale\n",
        "* Tension artérielle diastolique (mm Hg)\n",
        "* Epaisseur du pli cutané du triceps (mm)\n",
        "* 2 heures d'insuline sérique (mu U/ml)\n",
        "* Indice de masse corporelle (poids en kg/(taille en m)^2)\n",
        "* Le diabète pedigree fonction\n",
        "* Âge (années)\n",
        "La dernière colonne de l'ensemble de données indique si la personne a reçu un diagnostic de diabète (1) ou non (0).\n",
        "\n"
      ]
    },
    {
      "cell_type": "markdown",
      "metadata": {
        "id": "kNmeGED9YLdt"
      },
      "source": [
        "L'objectif est de déterminer quelles sont les caractéristiques (features) pour identifier les personnes qui ont un diabète de type 2"
      ]
    },
    {
      "cell_type": "markdown",
      "metadata": {
        "id": "G-YXDmY2YLdu"
      },
      "source": [
        "Récupérer le fichier pima-indians-diabetes.csv et le mettre dans un dataframe. Attention les premières lignes correspondent à la description des données. Il est possible de ne pas les lire en mettant skiprows=9 dans la fonction read_csv."
      ]
    },
    {
      "cell_type": "markdown",
      "source": [
        "## **Installation**\n"
      ],
      "metadata": {
        "id": "0ipZpM6RMEV7"
      }
    },
    {
      "cell_type": "markdown",
      "source": [
        "\n",
        "Avant de commencer, il est nécessaire de déjà posséder dans son environnement toutes les librairies utiles. Dans la seconde cellule nous importons toutes les librairies qui seront utiles à ce notebook. Il se peut que, lorsque vous lanciez l'éxecution de cette cellule, une soit absente. Dans ce cas il est nécessaire de l'installer. Pour cela dans la cellule suivante utiliser la commande :  \n",
        "\n",
        "*! pip install nom_librairie*  \n",
        "\n",
        "**Attention :** il est fortement conseillé lorsque l'une des librairies doit être installer de relancer le kernel de votre notebook.\n",
        "\n",
        "**Remarque :** même si toutes les librairies sont importées dès le début, les librairies utiles pour des fonctions présentées au cours de ce notebook sont ré-importées de manière à indiquer d'où elles viennent et ainsi faciliter la réutilisation de la fonction dans un autre projet."
      ],
      "metadata": {
        "id": "y-Q8HasoMUjG"
      }
    },
    {
      "cell_type": "code",
      "source": [
        "# utiliser cette cellule pour installer les librairies manquantes\n",
        "# pour cela il suffit de taper dans cette cellule : !pip install nom_librairie_manquante\n",
        "# d'exécuter la cellule et de relancer la cellule suivante pour voir si tout se passe bien\n",
        "# recommencer tant que toutes les librairies ne sont pas installées ...\n",
        "\n",
        "\n",
        "#!pip install ..\n",
        "\n",
        "# ne pas oublier de relancer le kernel du notebook"
      ],
      "metadata": {
        "id": "Bw_tSSXWMa98"
      },
      "execution_count": 13,
      "outputs": []
    },
    {
      "cell_type": "code",
      "source": [
        "# Importation des différentes librairies utiles pour le notebook\n",
        "\n",
        "#Sickit learn met régulièrement à jour des versions et \n",
        "#indique des futurs warnings. \n",
        "#ces deux lignes permettent de ne pas les afficher.\n",
        "import warnings\n",
        "warnings.filterwarnings(\"ignore\", category=FutureWarning)\n",
        "\n",
        "import pandas as pd\n",
        "import seaborn as sns\n",
        "import matplotlib.pyplot as plt\n",
        "import sys\n",
        "import pandas as pd\n",
        "import numpy as np \n",
        "import sklearn\n",
        "from sklearn.naive_bayes import GaussianNB\n",
        "from sklearn.metrics import accuracy_score\n",
        "from sklearn.model_selection import train_test_split \n",
        "from sklearn.model_selection import KFold\n",
        "from sklearn.model_selection import cross_val_score\n",
        "from sklearn.metrics import confusion_matrix\n",
        "from sklearn.metrics import classification_report\n",
        "import seaborn as sns\n",
        "import matplotlib.pyplot as plt\n",
        "from sklearn.metrics import precision_recall_fscore_support as score\n",
        "from sklearn.linear_model import LogisticRegression\n",
        "from sklearn.tree import DecisionTreeClassifier\n",
        "from sklearn.neighbors import KNeighborsClassifier\n",
        "from sklearn.naive_bayes import GaussianNB\n",
        "from sklearn.svm import SVC\n",
        "from sklearn.model_selection import GridSearchCV\n",
        "from sklearn.ensemble import RandomForestClassifier\n",
        "from sklearn.preprocessing import StandardScaler\n",
        "\n",
        "#Sickit learn met régulièrement à jour des versions et indique des futurs warnings. \n",
        "#ces deux lignes permettent de ne pas les afficher.\n",
        "import warnings\n",
        "warnings.filterwarnings(\"ignore\", category=FutureWarning)"
      ],
      "metadata": {
        "id": "gJXkCVWmMfvW"
      },
      "execution_count": 14,
      "outputs": []
    },
    {
      "cell_type": "markdown",
      "source": [
        "Pour pouvoir lire et sauvegarder sur votre répertoire Google Drive, il est nécessaire de fournir une autorisation. Pour cela il suffit d'éxecuter la ligne suivante et de saisir le code donné par Google."
      ],
      "metadata": {
        "id": "uJyoB1FiNAkI"
      }
    },
    {
      "cell_type": "code",
      "source": [
        "from google.colab import drive\n",
        "drive.mount('/content/gdrive/')"
      ],
      "metadata": {
        "colab": {
          "base_uri": "https://localhost:8080/",
          "height": 0
        },
        "id": "vQZtvdqANBtj",
        "outputId": "d6a39801-642d-4342-a48d-b8cde93c0407"
      },
      "execution_count": 15,
      "outputs": [
        {
          "output_type": "stream",
          "name": "stdout",
          "text": [
            "Drive already mounted at /content/gdrive/; to attempt to forcibly remount, call drive.mount(\"/content/gdrive/\", force_remount=True).\n"
          ]
        }
      ]
    },
    {
      "cell_type": "markdown",
      "source": [
        "Corriger éventuellement la ligne ci-dessous pour mettre le chemin vers un répertoire spécifique dans votre répertoire google drive : "
      ],
      "metadata": {
        "id": "wP2LKBzbNL6j"
      }
    },
    {
      "cell_type": "code",
      "source": [
        "my_local_drive='/content/gdrive/My Drive/Colab Notebooks/ML_FDS'\n",
        "# Ajout du path pour les librairies, fonctions et données\n",
        "sys.path.append(my_local_drive)\n",
        "# Se positionner sur le répertoire associé\n",
        "%cd $my_local_drive\n",
        "\n",
        "%pwd"
      ],
      "metadata": {
        "colab": {
          "base_uri": "https://localhost:8080/",
          "height": 54
        },
        "id": "q_EAJ-fVNNU7",
        "outputId": "4150f9c6-42c4-44d6-a8a5-8b7cda776382"
      },
      "execution_count": 16,
      "outputs": [
        {
          "output_type": "stream",
          "name": "stdout",
          "text": [
            "/content/gdrive/My Drive/Colab Notebooks/ML_FDS\n"
          ]
        },
        {
          "output_type": "execute_result",
          "data": {
            "application/vnd.google.colaboratory.intrinsic+json": {
              "type": "string"
            },
            "text/plain": [
              "'/content/gdrive/My Drive/Colab Notebooks/ML_FDS'"
            ]
          },
          "metadata": {},
          "execution_count": 16
        }
      ]
    },
    {
      "cell_type": "markdown",
      "source": [
        "## **Travaux pratiques**"
      ],
      "metadata": {
        "id": "wkSIFeb3NYyP"
      }
    },
    {
      "cell_type": "code",
      "execution_count": 17,
      "metadata": {
        "id": "nCldw23rYLdu"
      },
      "outputs": [],
      "source": [
        "import pandas as pd\n",
        "import numpy as np\n",
        "names=[\n",
        "    \"NumTimesPrg\", \"PlGlcConc\", \"BloodP\",\n",
        "    \"SkinThick\", \"TwoHourSerIns\", \"BMI\",\n",
        "    \"DiPedFunc\", \"Age\", \"HasDiabetes\"]\n",
        "#il faut sauter les 9 premières lignes qui sont le descriptif des variables, skiprows\n",
        "df = pd.read_csv('pima-indians-diabetes.csv',names=names,skiprows=9)\n"
      ]
    },
    {
      "cell_type": "markdown",
      "metadata": {
        "id": "vyq-Oz-LYLdw"
      },
      "source": [
        "Afficher le nombre de ligne et de colonnes du dataframe ainsi que les 5 premières lignes"
      ]
    },
    {
      "cell_type": "code",
      "execution_count": 18,
      "metadata": {
        "colab": {
          "base_uri": "https://localhost:8080/",
          "height": 221
        },
        "id": "7Ri-E67zYLdx",
        "outputId": "a7fa90d7-5d78-4396-fabb-560fa8fbe0bf"
      },
      "outputs": [
        {
          "output_type": "stream",
          "name": "stdout",
          "text": [
            "(768, 9)\n"
          ]
        },
        {
          "output_type": "display_data",
          "data": {
            "text/html": [
              "\n",
              "  <div id=\"df-d56f4ff6-a135-48d7-84a7-307266aa9f98\">\n",
              "    <div class=\"colab-df-container\">\n",
              "      <div>\n",
              "<style scoped>\n",
              "    .dataframe tbody tr th:only-of-type {\n",
              "        vertical-align: middle;\n",
              "    }\n",
              "\n",
              "    .dataframe tbody tr th {\n",
              "        vertical-align: top;\n",
              "    }\n",
              "\n",
              "    .dataframe thead th {\n",
              "        text-align: right;\n",
              "    }\n",
              "</style>\n",
              "<table border=\"1\" class=\"dataframe\">\n",
              "  <thead>\n",
              "    <tr style=\"text-align: right;\">\n",
              "      <th></th>\n",
              "      <th>NumTimesPrg</th>\n",
              "      <th>PlGlcConc</th>\n",
              "      <th>BloodP</th>\n",
              "      <th>SkinThick</th>\n",
              "      <th>TwoHourSerIns</th>\n",
              "      <th>BMI</th>\n",
              "      <th>DiPedFunc</th>\n",
              "      <th>Age</th>\n",
              "      <th>HasDiabetes</th>\n",
              "    </tr>\n",
              "  </thead>\n",
              "  <tbody>\n",
              "    <tr>\n",
              "      <th>0</th>\n",
              "      <td>6</td>\n",
              "      <td>148</td>\n",
              "      <td>72</td>\n",
              "      <td>35</td>\n",
              "      <td>0</td>\n",
              "      <td>33.6</td>\n",
              "      <td>0.627</td>\n",
              "      <td>50</td>\n",
              "      <td>1</td>\n",
              "    </tr>\n",
              "    <tr>\n",
              "      <th>1</th>\n",
              "      <td>1</td>\n",
              "      <td>85</td>\n",
              "      <td>66</td>\n",
              "      <td>29</td>\n",
              "      <td>0</td>\n",
              "      <td>26.6</td>\n",
              "      <td>0.351</td>\n",
              "      <td>31</td>\n",
              "      <td>0</td>\n",
              "    </tr>\n",
              "    <tr>\n",
              "      <th>2</th>\n",
              "      <td>8</td>\n",
              "      <td>183</td>\n",
              "      <td>64</td>\n",
              "      <td>0</td>\n",
              "      <td>0</td>\n",
              "      <td>23.3</td>\n",
              "      <td>0.672</td>\n",
              "      <td>32</td>\n",
              "      <td>1</td>\n",
              "    </tr>\n",
              "    <tr>\n",
              "      <th>3</th>\n",
              "      <td>1</td>\n",
              "      <td>89</td>\n",
              "      <td>66</td>\n",
              "      <td>23</td>\n",
              "      <td>94</td>\n",
              "      <td>28.1</td>\n",
              "      <td>0.167</td>\n",
              "      <td>21</td>\n",
              "      <td>0</td>\n",
              "    </tr>\n",
              "    <tr>\n",
              "      <th>4</th>\n",
              "      <td>0</td>\n",
              "      <td>137</td>\n",
              "      <td>40</td>\n",
              "      <td>35</td>\n",
              "      <td>168</td>\n",
              "      <td>43.1</td>\n",
              "      <td>2.288</td>\n",
              "      <td>33</td>\n",
              "      <td>1</td>\n",
              "    </tr>\n",
              "  </tbody>\n",
              "</table>\n",
              "</div>\n",
              "      <button class=\"colab-df-convert\" onclick=\"convertToInteractive('df-d56f4ff6-a135-48d7-84a7-307266aa9f98')\"\n",
              "              title=\"Convert this dataframe to an interactive table.\"\n",
              "              style=\"display:none;\">\n",
              "        \n",
              "  <svg xmlns=\"http://www.w3.org/2000/svg\" height=\"24px\"viewBox=\"0 0 24 24\"\n",
              "       width=\"24px\">\n",
              "    <path d=\"M0 0h24v24H0V0z\" fill=\"none\"/>\n",
              "    <path d=\"M18.56 5.44l.94 2.06.94-2.06 2.06-.94-2.06-.94-.94-2.06-.94 2.06-2.06.94zm-11 1L8.5 8.5l.94-2.06 2.06-.94-2.06-.94L8.5 2.5l-.94 2.06-2.06.94zm10 10l.94 2.06.94-2.06 2.06-.94-2.06-.94-.94-2.06-.94 2.06-2.06.94z\"/><path d=\"M17.41 7.96l-1.37-1.37c-.4-.4-.92-.59-1.43-.59-.52 0-1.04.2-1.43.59L10.3 9.45l-7.72 7.72c-.78.78-.78 2.05 0 2.83L4 21.41c.39.39.9.59 1.41.59.51 0 1.02-.2 1.41-.59l7.78-7.78 2.81-2.81c.8-.78.8-2.07 0-2.86zM5.41 20L4 18.59l7.72-7.72 1.47 1.35L5.41 20z\"/>\n",
              "  </svg>\n",
              "      </button>\n",
              "      \n",
              "  <style>\n",
              "    .colab-df-container {\n",
              "      display:flex;\n",
              "      flex-wrap:wrap;\n",
              "      gap: 12px;\n",
              "    }\n",
              "\n",
              "    .colab-df-convert {\n",
              "      background-color: #E8F0FE;\n",
              "      border: none;\n",
              "      border-radius: 50%;\n",
              "      cursor: pointer;\n",
              "      display: none;\n",
              "      fill: #1967D2;\n",
              "      height: 32px;\n",
              "      padding: 0 0 0 0;\n",
              "      width: 32px;\n",
              "    }\n",
              "\n",
              "    .colab-df-convert:hover {\n",
              "      background-color: #E2EBFA;\n",
              "      box-shadow: 0px 1px 2px rgba(60, 64, 67, 0.3), 0px 1px 3px 1px rgba(60, 64, 67, 0.15);\n",
              "      fill: #174EA6;\n",
              "    }\n",
              "\n",
              "    [theme=dark] .colab-df-convert {\n",
              "      background-color: #3B4455;\n",
              "      fill: #D2E3FC;\n",
              "    }\n",
              "\n",
              "    [theme=dark] .colab-df-convert:hover {\n",
              "      background-color: #434B5C;\n",
              "      box-shadow: 0px 1px 3px 1px rgba(0, 0, 0, 0.15);\n",
              "      filter: drop-shadow(0px 1px 2px rgba(0, 0, 0, 0.3));\n",
              "      fill: #FFFFFF;\n",
              "    }\n",
              "  </style>\n",
              "\n",
              "      <script>\n",
              "        const buttonEl =\n",
              "          document.querySelector('#df-d56f4ff6-a135-48d7-84a7-307266aa9f98 button.colab-df-convert');\n",
              "        buttonEl.style.display =\n",
              "          google.colab.kernel.accessAllowed ? 'block' : 'none';\n",
              "\n",
              "        async function convertToInteractive(key) {\n",
              "          const element = document.querySelector('#df-d56f4ff6-a135-48d7-84a7-307266aa9f98');\n",
              "          const dataTable =\n",
              "            await google.colab.kernel.invokeFunction('convertToInteractive',\n",
              "                                                     [key], {});\n",
              "          if (!dataTable) return;\n",
              "\n",
              "          const docLinkHtml = 'Like what you see? Visit the ' +\n",
              "            '<a target=\"_blank\" href=https://colab.research.google.com/notebooks/data_table.ipynb>data table notebook</a>'\n",
              "            + ' to learn more about interactive tables.';\n",
              "          element.innerHTML = '';\n",
              "          dataTable['output_type'] = 'display_data';\n",
              "          await google.colab.output.renderOutput(dataTable, element);\n",
              "          const docLink = document.createElement('div');\n",
              "          docLink.innerHTML = docLinkHtml;\n",
              "          element.appendChild(docLink);\n",
              "        }\n",
              "      </script>\n",
              "    </div>\n",
              "  </div>\n",
              "  "
            ],
            "text/plain": [
              "   NumTimesPrg  PlGlcConc  BloodP  SkinThick  ...   BMI  DiPedFunc  Age  HasDiabetes\n",
              "0            6        148      72         35  ...  33.6      0.627   50            1\n",
              "1            1         85      66         29  ...  26.6      0.351   31            0\n",
              "2            8        183      64          0  ...  23.3      0.672   32            1\n",
              "3            1         89      66         23  ...  28.1      0.167   21            0\n",
              "4            0        137      40         35  ...  43.1      2.288   33            1\n",
              "\n",
              "[5 rows x 9 columns]"
            ]
          },
          "metadata": {}
        }
      ],
      "source": [
        "print (df.shape)\n",
        "display(df.head())"
      ]
    },
    {
      "cell_type": "markdown",
      "metadata": {
        "id": "gaPqMk1hYLdy"
      },
      "source": [
        "Afficher la matrice de corrélation. Rappel il faut utiliser la fonction corr()."
      ]
    },
    {
      "cell_type": "code",
      "execution_count": 19,
      "metadata": {
        "colab": {
          "base_uri": "https://localhost:8080/",
          "height": 328
        },
        "id": "yihmXSfEYLdz",
        "outputId": "4878c550-5800-4b96-b247-a1adfd30094c"
      },
      "outputs": [
        {
          "output_type": "display_data",
          "data": {
            "text/html": [
              "\n",
              "  <div id=\"df-a9f73022-eb50-4af1-81fe-2063fa4982e9\">\n",
              "    <div class=\"colab-df-container\">\n",
              "      <div>\n",
              "<style scoped>\n",
              "    .dataframe tbody tr th:only-of-type {\n",
              "        vertical-align: middle;\n",
              "    }\n",
              "\n",
              "    .dataframe tbody tr th {\n",
              "        vertical-align: top;\n",
              "    }\n",
              "\n",
              "    .dataframe thead th {\n",
              "        text-align: right;\n",
              "    }\n",
              "</style>\n",
              "<table border=\"1\" class=\"dataframe\">\n",
              "  <thead>\n",
              "    <tr style=\"text-align: right;\">\n",
              "      <th></th>\n",
              "      <th>NumTimesPrg</th>\n",
              "      <th>PlGlcConc</th>\n",
              "      <th>BloodP</th>\n",
              "      <th>SkinThick</th>\n",
              "      <th>TwoHourSerIns</th>\n",
              "      <th>BMI</th>\n",
              "      <th>DiPedFunc</th>\n",
              "      <th>Age</th>\n",
              "      <th>HasDiabetes</th>\n",
              "    </tr>\n",
              "  </thead>\n",
              "  <tbody>\n",
              "    <tr>\n",
              "      <th>NumTimesPrg</th>\n",
              "      <td>1.000000</td>\n",
              "      <td>0.129459</td>\n",
              "      <td>0.141282</td>\n",
              "      <td>-0.081672</td>\n",
              "      <td>-0.073535</td>\n",
              "      <td>0.017683</td>\n",
              "      <td>-0.033523</td>\n",
              "      <td>0.544341</td>\n",
              "      <td>0.221898</td>\n",
              "    </tr>\n",
              "    <tr>\n",
              "      <th>PlGlcConc</th>\n",
              "      <td>0.129459</td>\n",
              "      <td>1.000000</td>\n",
              "      <td>0.152590</td>\n",
              "      <td>0.057328</td>\n",
              "      <td>0.331357</td>\n",
              "      <td>0.221071</td>\n",
              "      <td>0.137337</td>\n",
              "      <td>0.263514</td>\n",
              "      <td>0.466581</td>\n",
              "    </tr>\n",
              "    <tr>\n",
              "      <th>BloodP</th>\n",
              "      <td>0.141282</td>\n",
              "      <td>0.152590</td>\n",
              "      <td>1.000000</td>\n",
              "      <td>0.207371</td>\n",
              "      <td>0.088933</td>\n",
              "      <td>0.281805</td>\n",
              "      <td>0.041265</td>\n",
              "      <td>0.239528</td>\n",
              "      <td>0.065068</td>\n",
              "    </tr>\n",
              "    <tr>\n",
              "      <th>SkinThick</th>\n",
              "      <td>-0.081672</td>\n",
              "      <td>0.057328</td>\n",
              "      <td>0.207371</td>\n",
              "      <td>1.000000</td>\n",
              "      <td>0.436783</td>\n",
              "      <td>0.392573</td>\n",
              "      <td>0.183928</td>\n",
              "      <td>-0.113970</td>\n",
              "      <td>0.074752</td>\n",
              "    </tr>\n",
              "    <tr>\n",
              "      <th>TwoHourSerIns</th>\n",
              "      <td>-0.073535</td>\n",
              "      <td>0.331357</td>\n",
              "      <td>0.088933</td>\n",
              "      <td>0.436783</td>\n",
              "      <td>1.000000</td>\n",
              "      <td>0.197859</td>\n",
              "      <td>0.185071</td>\n",
              "      <td>-0.042163</td>\n",
              "      <td>0.130548</td>\n",
              "    </tr>\n",
              "    <tr>\n",
              "      <th>BMI</th>\n",
              "      <td>0.017683</td>\n",
              "      <td>0.221071</td>\n",
              "      <td>0.281805</td>\n",
              "      <td>0.392573</td>\n",
              "      <td>0.197859</td>\n",
              "      <td>1.000000</td>\n",
              "      <td>0.140647</td>\n",
              "      <td>0.036242</td>\n",
              "      <td>0.292695</td>\n",
              "    </tr>\n",
              "    <tr>\n",
              "      <th>DiPedFunc</th>\n",
              "      <td>-0.033523</td>\n",
              "      <td>0.137337</td>\n",
              "      <td>0.041265</td>\n",
              "      <td>0.183928</td>\n",
              "      <td>0.185071</td>\n",
              "      <td>0.140647</td>\n",
              "      <td>1.000000</td>\n",
              "      <td>0.033561</td>\n",
              "      <td>0.173844</td>\n",
              "    </tr>\n",
              "    <tr>\n",
              "      <th>Age</th>\n",
              "      <td>0.544341</td>\n",
              "      <td>0.263514</td>\n",
              "      <td>0.239528</td>\n",
              "      <td>-0.113970</td>\n",
              "      <td>-0.042163</td>\n",
              "      <td>0.036242</td>\n",
              "      <td>0.033561</td>\n",
              "      <td>1.000000</td>\n",
              "      <td>0.238356</td>\n",
              "    </tr>\n",
              "    <tr>\n",
              "      <th>HasDiabetes</th>\n",
              "      <td>0.221898</td>\n",
              "      <td>0.466581</td>\n",
              "      <td>0.065068</td>\n",
              "      <td>0.074752</td>\n",
              "      <td>0.130548</td>\n",
              "      <td>0.292695</td>\n",
              "      <td>0.173844</td>\n",
              "      <td>0.238356</td>\n",
              "      <td>1.000000</td>\n",
              "    </tr>\n",
              "  </tbody>\n",
              "</table>\n",
              "</div>\n",
              "      <button class=\"colab-df-convert\" onclick=\"convertToInteractive('df-a9f73022-eb50-4af1-81fe-2063fa4982e9')\"\n",
              "              title=\"Convert this dataframe to an interactive table.\"\n",
              "              style=\"display:none;\">\n",
              "        \n",
              "  <svg xmlns=\"http://www.w3.org/2000/svg\" height=\"24px\"viewBox=\"0 0 24 24\"\n",
              "       width=\"24px\">\n",
              "    <path d=\"M0 0h24v24H0V0z\" fill=\"none\"/>\n",
              "    <path d=\"M18.56 5.44l.94 2.06.94-2.06 2.06-.94-2.06-.94-.94-2.06-.94 2.06-2.06.94zm-11 1L8.5 8.5l.94-2.06 2.06-.94-2.06-.94L8.5 2.5l-.94 2.06-2.06.94zm10 10l.94 2.06.94-2.06 2.06-.94-2.06-.94-.94-2.06-.94 2.06-2.06.94z\"/><path d=\"M17.41 7.96l-1.37-1.37c-.4-.4-.92-.59-1.43-.59-.52 0-1.04.2-1.43.59L10.3 9.45l-7.72 7.72c-.78.78-.78 2.05 0 2.83L4 21.41c.39.39.9.59 1.41.59.51 0 1.02-.2 1.41-.59l7.78-7.78 2.81-2.81c.8-.78.8-2.07 0-2.86zM5.41 20L4 18.59l7.72-7.72 1.47 1.35L5.41 20z\"/>\n",
              "  </svg>\n",
              "      </button>\n",
              "      \n",
              "  <style>\n",
              "    .colab-df-container {\n",
              "      display:flex;\n",
              "      flex-wrap:wrap;\n",
              "      gap: 12px;\n",
              "    }\n",
              "\n",
              "    .colab-df-convert {\n",
              "      background-color: #E8F0FE;\n",
              "      border: none;\n",
              "      border-radius: 50%;\n",
              "      cursor: pointer;\n",
              "      display: none;\n",
              "      fill: #1967D2;\n",
              "      height: 32px;\n",
              "      padding: 0 0 0 0;\n",
              "      width: 32px;\n",
              "    }\n",
              "\n",
              "    .colab-df-convert:hover {\n",
              "      background-color: #E2EBFA;\n",
              "      box-shadow: 0px 1px 2px rgba(60, 64, 67, 0.3), 0px 1px 3px 1px rgba(60, 64, 67, 0.15);\n",
              "      fill: #174EA6;\n",
              "    }\n",
              "\n",
              "    [theme=dark] .colab-df-convert {\n",
              "      background-color: #3B4455;\n",
              "      fill: #D2E3FC;\n",
              "    }\n",
              "\n",
              "    [theme=dark] .colab-df-convert:hover {\n",
              "      background-color: #434B5C;\n",
              "      box-shadow: 0px 1px 3px 1px rgba(0, 0, 0, 0.15);\n",
              "      filter: drop-shadow(0px 1px 2px rgba(0, 0, 0, 0.3));\n",
              "      fill: #FFFFFF;\n",
              "    }\n",
              "  </style>\n",
              "\n",
              "      <script>\n",
              "        const buttonEl =\n",
              "          document.querySelector('#df-a9f73022-eb50-4af1-81fe-2063fa4982e9 button.colab-df-convert');\n",
              "        buttonEl.style.display =\n",
              "          google.colab.kernel.accessAllowed ? 'block' : 'none';\n",
              "\n",
              "        async function convertToInteractive(key) {\n",
              "          const element = document.querySelector('#df-a9f73022-eb50-4af1-81fe-2063fa4982e9');\n",
              "          const dataTable =\n",
              "            await google.colab.kernel.invokeFunction('convertToInteractive',\n",
              "                                                     [key], {});\n",
              "          if (!dataTable) return;\n",
              "\n",
              "          const docLinkHtml = 'Like what you see? Visit the ' +\n",
              "            '<a target=\"_blank\" href=https://colab.research.google.com/notebooks/data_table.ipynb>data table notebook</a>'\n",
              "            + ' to learn more about interactive tables.';\n",
              "          element.innerHTML = '';\n",
              "          dataTable['output_type'] = 'display_data';\n",
              "          await google.colab.output.renderOutput(dataTable, element);\n",
              "          const docLink = document.createElement('div');\n",
              "          docLink.innerHTML = docLinkHtml;\n",
              "          element.appendChild(docLink);\n",
              "        }\n",
              "      </script>\n",
              "    </div>\n",
              "  </div>\n",
              "  "
            ],
            "text/plain": [
              "               NumTimesPrg  PlGlcConc  ...       Age  HasDiabetes\n",
              "NumTimesPrg       1.000000   0.129459  ...  0.544341     0.221898\n",
              "PlGlcConc         0.129459   1.000000  ...  0.263514     0.466581\n",
              "BloodP            0.141282   0.152590  ...  0.239528     0.065068\n",
              "SkinThick        -0.081672   0.057328  ... -0.113970     0.074752\n",
              "TwoHourSerIns    -0.073535   0.331357  ... -0.042163     0.130548\n",
              "BMI               0.017683   0.221071  ...  0.036242     0.292695\n",
              "DiPedFunc        -0.033523   0.137337  ...  0.033561     0.173844\n",
              "Age               0.544341   0.263514  ...  1.000000     0.238356\n",
              "HasDiabetes       0.221898   0.466581  ...  0.238356     1.000000\n",
              "\n",
              "[9 rows x 9 columns]"
            ]
          },
          "metadata": {}
        }
      ],
      "source": [
        "corr = df.corr()\n",
        "display(corr)"
      ]
    },
    {
      "cell_type": "markdown",
      "metadata": {
        "id": "fVQRhtmyYLdz"
      },
      "source": [
        "Afficher, à l'aide de seaborn, la matrice de correlation"
      ]
    },
    {
      "cell_type": "code",
      "execution_count": 20,
      "metadata": {
        "colab": {
          "base_uri": "https://localhost:8080/",
          "height": 350
        },
        "id": "kuGglrvXYLd0",
        "outputId": "b9708c76-aac9-4205-bd11-0a9e82f35929"
      },
      "outputs": [
        {
          "output_type": "execute_result",
          "data": {
            "text/plain": [
              "<matplotlib.axes._subplots.AxesSubplot at 0x7fec5dbacd90>"
            ]
          },
          "metadata": {},
          "execution_count": 20
        },
        {
          "output_type": "display_data",
          "data": {
            "image/png": "[encoded data removed]",
            "text/plain": [
              "<Figure size 432x288 with 2 Axes>"
            ]
          },
          "metadata": {
            "needs_background": "light"
          }
        }
      ],
      "source": [
        "%matplotlib inline\n",
        "import seaborn as sns\n",
        "sns.heatmap(corr, annot = True)"
      ]
    },
    {
      "cell_type": "markdown",
      "metadata": {
        "id": "w4sqLIy6YLd0"
      },
      "source": [
        "Il est important d'analyser les histogrammes de chaque variable pour mieux comprendre comment les données sont réparties.  \n",
        "A l'aide du code suivant, afficher les différents histogrammes.  \n",
        "import matplotlib.pyplot as plt  \n",
        "df.hist(bins=50, figsize=(20, 15))  \n",
        "plt.show()  "
      ]
    },
    {
      "cell_type": "code",
      "execution_count": 21,
      "metadata": {
        "colab": {
          "base_uri": "https://localhost:8080/",
          "height": 751
        },
        "id": "ThGFyt9qYLd1",
        "outputId": "0e00f75a-3dbe-43b5-848b-a00d0520848d"
      },
      "outputs": [
        {
          "output_type": "display_data",
          "data": {
            "image/png": "[encoded data removed]",
            "text/plain": [
              "<Figure size 1440x1080 with 9 Axes>"
            ]
          },
          "metadata": {
            "needs_background": "light"
          }
        }
      ],
      "source": [
        "import matplotlib.pyplot as plt\n",
        "df.hist(bins=50, figsize=(20, 15))\n",
        "plt.show()"
      ]
    },
    {
      "cell_type": "markdown",
      "metadata": {
        "id": "u7HYpvNZYLd2"
      },
      "source": [
        "Existe-t'il des valeurs nulles ? Existe-til des valeurs manquantes ? Rappel vous pouvez le voir avec des histogrammes mais aussi avec une heatmap.  "
      ]
    },
    {
      "cell_type": "code",
      "execution_count": 22,
      "metadata": {
        "colab": {
          "base_uri": "https://localhost:8080/",
          "height": 351
        },
        "id": "xfa_MydpYLd2",
        "outputId": "1053d561-6049-4656-eb75-be702e331780"
      },
      "outputs": [
        {
          "output_type": "execute_result",
          "data": {
            "text/plain": [
              "<matplotlib.axes._subplots.AxesSubplot at 0x7fec5d9f9210>"
            ]
          },
          "metadata": {},
          "execution_count": 22
        },
        {
          "output_type": "display_data",
          "data": {
            "image/png": "[encoded data removed]",
            "text/plain": [
              "<Figure size 432x288 with 1 Axes>"
            ]
          },
          "metadata": {
            "needs_background": "light"
          }
        }
      ],
      "source": [
        "import seaborn as sns\n",
        "sns.heatmap(df.isnull(), cbar=False)"
      ]
    },
    {
      "cell_type": "markdown",
      "metadata": {
        "id": "TLsxtepaYLd3"
      },
      "source": [
        "En fait on peut constater qu'il n'y a pas de valeurs manquantes avec le heatmap mais par contre il y a des valeurs nulles. Il faut toujours faire attention à la manière dont sont codées les valeurs manquantes. Ici nous voyons dans les histogrammes que pour BMI, BloodP, PlGlcConc, SkinThick, TwoHourSerIns il existe des valeurs manquantes. Le nombre de grossesses n'est pas considéré comme une valeur manquante bien sûr.  \n",
        "\n",
        "Transformer les valeurs nulles par la médiane de la série. "
      ]
    },
    {
      "cell_type": "code",
      "execution_count": 23,
      "metadata": {
        "id": "vwY778usYLd4"
      },
      "outputs": [],
      "source": [
        "# valeur médiane\n",
        "median_bmi = df['BMI'].median()\n",
        "# remplacement par la médiane\n",
        "df['BMI'] = df['BMI'].replace(\n",
        "    to_replace=0, value=median_bmi)\n",
        "\n",
        "# valeur médiane\n",
        "median_bloodP = df['BloodP'].median()\n",
        "# remplacement par la médiane\n",
        "df['BloodP'] = df['BloodP'].replace(\n",
        "    to_replace=0, value=median_bloodP)\n",
        "\n",
        "# valeur médiane\n",
        "median_PlGlcConc = df['PlGlcConc'].median()\n",
        "# remplacement par la médiane\n",
        "df['PlGlcConc'] = df['PlGlcConc'].replace(\n",
        "    to_replace=0, value=median_PlGlcConc)\n",
        "\n",
        "# valeur médiane\n",
        "median_SkinThick = df['SkinThick'].median()\n",
        "# remplacement par la médiane\n",
        "df['SkinThick'] = df['SkinThick'].replace(\n",
        "    to_replace=0, value=median_SkinThick)\n",
        "\n",
        "# valeur médiane\n",
        "median_TwoHourSerIns = df['TwoHourSerIns'].median()\n",
        "# remplacement par la médiane\n",
        "df['TwoHourSerIns'] = df['TwoHourSerIns'].replace(\n",
        "    to_replace=0, value=median_TwoHourSerIns)\n"
      ]
    },
    {
      "cell_type": "markdown",
      "metadata": {
        "id": "1xNcK3hOYLd4"
      },
      "source": [
        "Les données sont, à présent, transformées et nous allons pouvoir créer un jeu de données de test et d'apprentissage. Faire une copie du dataframe en df2. Sur df appliquer un scaling pour normaliser les valeurs par rapport à la moyenne et l'écart type (utilisation de StandardScaler (). Nous conservons la copie df2 sans transformation.   \n",
        "L'objectif à présent est d'appliquer différents classifieurs pour voir celui qui est le plus performant. Pour le ou les meilleurs rechercher les hyperparamètres et créer un pipeline à sauvegarder. Il faut ensuite pouvoir traiter de nouvelles données pour prédire si il y a diabète ou pas.  \n",
        "\n",
        "Tester les résultats sur df et sur df2. "
      ]
    },
    {
      "cell_type": "code",
      "execution_count": 24,
      "metadata": {
        "colab": {
          "base_uri": "https://localhost:8080/",
          "height": 0
        },
        "id": "qFZXR9iDYLd5",
        "outputId": "98b6bc3c-a3aa-445c-810c-0546415be534"
      },
      "outputs": [
        {
          "output_type": "stream",
          "name": "stdout",
          "text": [
            "Pour vérifier que les données ont bien été transformées\n",
            "          0         1         2  ...         5         6         7\n",
            "0  0.639947  0.866045 -0.031990  ...  0.167240  0.468492  1.425995\n",
            "1 -0.844885 -1.205066 -0.528319  ... -0.851551 -0.365061 -0.190672\n",
            "2  1.233880  2.016662 -0.693761  ... -1.331838  0.604397 -0.105584\n",
            "3 -0.844885 -1.073567 -0.528319  ... -0.633239 -0.920763 -1.041549\n",
            "4 -1.141852  0.504422 -2.679076  ...  1.549885  5.484909 -0.020496\n",
            "\n",
            "[5 rows x 8 columns]\n"
          ]
        }
      ],
      "source": [
        "# pour essayer sans scaling\n",
        "df2=df.copy()\n",
        "\n",
        "#traitement de df \n",
        "# séparation données à prédire\n",
        "array = df.values\n",
        "X = array[:,0:8]\n",
        "y = array[:,8]\n",
        "\n",
        "\n",
        "#utilisation de StandardScaler\n",
        "\n",
        "\n",
        "standardscaler = StandardScaler()\n",
        "X = standardscaler.fit_transform(X)\n",
        "print (\"Pour vérifier que les données ont bien été transformées\")\n",
        "print (pd.DataFrame(X).head())\n",
        "\n",
        "\n",
        "#création d'un jeu de test et d'apprentissage (70,30)\n",
        "from sklearn.model_selection import train_test_split \n",
        "\n",
        "validation_size=0.3 #30% du jeu de données pour le test\n",
        "\n",
        "testsize= 1-validation_size\n",
        "seed=30\n",
        "X_train,X_test,y_train,y_test=train_test_split(X, \n",
        "                                               y, \n",
        "                                               train_size=validation_size, \n",
        "                                               random_state=seed,\n",
        "                                               test_size=testsize)"
      ]
    },
    {
      "cell_type": "code",
      "execution_count": 25,
      "metadata": {
        "colab": {
          "base_uri": "https://localhost:8080/",
          "height": 0
        },
        "id": "lNNUzv1bYLd6",
        "outputId": "1de5e37f-1367-4613-cb23-1de77af2aa3d"
      },
      "outputs": [
        {
          "output_type": "stream",
          "name": "stdout",
          "text": [
            "Pour vérifier que les données ont bien été transformées\n",
            "          0         1         2  ...         5         6         7\n",
            "0  0.639947  0.866045 -0.031990  ...  0.167240  0.468492  1.425995\n",
            "1 -0.844885 -1.205066 -0.528319  ... -0.851551 -0.365061 -0.190672\n",
            "2  1.233880  2.016662 -0.693761  ... -1.331838  0.604397 -0.105584\n",
            "3 -0.844885 -1.073567 -0.528319  ... -0.633239 -0.920763 -1.041549\n",
            "4 -1.141852  0.504422 -2.679076  ...  1.549885  5.484909 -0.020496\n",
            "\n",
            "[5 rows x 8 columns]\n"
          ]
        }
      ],
      "source": [
        "from sklearn.preprocessing import StandardScaler\n",
        "from sklearn.model_selection import train_test_split \n",
        "\n",
        "#traitement de df \n",
        "# séparation données à prédire\n",
        "array = df.values\n",
        "X = array[:,0:8]\n",
        "y = array[:,8]\n",
        "\n",
        "\n",
        "#utilisation de StandardScaler\n",
        "standardscaler = StandardScaler()\n",
        "X = standardscaler.fit_transform(X)\n",
        "print (\"Pour vérifier que les données ont bien été transformées\")\n",
        "print (pd.DataFrame(X).head())\n",
        "\n",
        "\n",
        "#création d'un jeu de test et d'apprentissage (70,30)\n",
        "\n",
        "\n",
        "validation_size=0.2 #30% du jeu de données pour le test\n",
        "\n",
        "testsize= 1-validation_size\n",
        "seed=20\n",
        "X_train,X_test,y_train,y_test=train_test_split(X, \n",
        "                                               y, \n",
        "                                               train_size=validation_size, \n",
        "                                               random_state=seed,\n",
        "                                               test_size=testsize)"
      ]
    },
    {
      "cell_type": "code",
      "execution_count": 26,
      "metadata": {
        "id": "JoCSn1UfYLd6"
      },
      "outputs": [],
      "source": [
        "from sklearn.linear_model import LogisticRegression\n",
        "from sklearn.neighbors import KNeighborsClassifier\n",
        "from sklearn.naive_bayes import GaussianNB\n",
        "from sklearn.svm import SVC\n",
        "from sklearn.svm import LinearSVC\n",
        "from sklearn.ensemble import RandomForestClassifier\n",
        "from sklearn.tree import DecisionTreeRegressor\n",
        "from sklearn import model_selection"
      ]
    },
    {
      "cell_type": "code",
      "execution_count": 27,
      "metadata": {
        "id": "KqyVECTIYLd7"
      },
      "outputs": [],
      "source": [
        "models = []\n",
        "models.append(('LR', LogisticRegression()))\n",
        "models.append(('KNN', KNeighborsClassifier()))\n",
        "models.append(('NB', GaussianNB()))\n",
        "models.append(('SVC', SVC(gamma='auto')))\n",
        "models.append(('LSVC', LinearSVC(max_iter=3000)))\n",
        "models.append(('RFC', RandomForestClassifier()))\n",
        "models.append(('DTR', DecisionTreeRegressor()))"
      ]
    },
    {
      "cell_type": "code",
      "execution_count": 28,
      "metadata": {
        "scrolled": false,
        "colab": {
          "base_uri": "https://localhost:8080/",
          "height": 0
        },
        "id": "I7fp5O9EYLd7",
        "outputId": "2b959635-e285-4b79-caeb-18aaaccdc480"
      },
      "outputs": [
        {
          "output_type": "stream",
          "name": "stdout",
          "text": [
            "Time pour LR   0.06025958061218262\n",
            "LR: 0.765687 (0.048046)\n",
            "Time pour KNN   0.06861019134521484\n",
            "KNN: 0.731835 (0.055523)\n",
            "Time pour NB   0.026978492736816406\n",
            "NB: 0.748770 (0.033949)\n",
            "Time pour SVC   0.23436641693115234\n",
            "SVC: 0.763004 (0.064193)\n",
            "Time pour LSVC   0.6180167198181152\n",
            "LSVC: 0.763055 (0.041236)\n",
            "Time pour RFC   2.130427598953247\n",
            "RFC: 0.756494 (0.040858)\n",
            "Time pour DTR   0.03887534141540527\n",
            "DTR: 0.678452 (0.041406)\n"
          ]
        }
      ],
      "source": [
        "import warnings\n",
        "warnings.filterwarnings(\"ignore\", category=FutureWarning)\n",
        "\n",
        "from sklearn.metrics import confusion_matrix\n",
        "from sklearn.metrics import classification_report\n",
        "from sklearn.model_selection import KFold\n",
        "from sklearn.model_selection import cross_val_score\n",
        "import time\n",
        "seed = 7\n",
        "results = []\n",
        "names = []\n",
        "scoring='accuracy'\n",
        "for name,model in models:\n",
        "    kfold = KFold(n_splits=10, random_state=seed,shuffle=True)\n",
        "    start_time = time.time()\n",
        "    cv_results = cross_val_score(model, X, y, cv=kfold, scoring=scoring)\n",
        "    print (\"Time pour\",name,\" \",time.time() - start_time)\n",
        "    results.append(cv_results)\n",
        "    names.append(name)\n",
        "    msg = \"%s: %f (%f)\" % (name, cv_results.mean(), cv_results.std())\n",
        "    print(msg) \n"
      ]
    },
    {
      "cell_type": "code",
      "execution_count": 29,
      "metadata": {
        "colab": {
          "base_uri": "https://localhost:8080/",
          "height": 413
        },
        "id": "-8SEAHGmYLd8",
        "outputId": "358863e0-dd17-4f5b-fe92-08d9d28e2fe1"
      },
      "outputs": [
        {
          "output_type": "execute_result",
          "data": {
            "text/plain": [
              "[Text(0, 0, 'LR'),\n",
              " Text(0, 0, 'KNN'),\n",
              " Text(0, 0, 'NB'),\n",
              " Text(0, 0, 'SVC'),\n",
              " Text(0, 0, 'LSVC'),\n",
              " Text(0, 0, 'RFC'),\n",
              " Text(0, 0, 'DTR')]"
            ]
          },
          "metadata": {},
          "execution_count": 29
        },
        {
          "output_type": "display_data",
          "data": {
            "image/png": "[encoded data removed]",
            "text/plain": [
              "<Figure size 432x288 with 1 Axes>"
            ]
          },
          "metadata": {
            "needs_background": "light"
          }
        }
      ],
      "source": [
        "fig = plt.figure()\n",
        "fig.suptitle('Comparaison des algorithmes')\n",
        "ax = fig.add_subplot(111)\n",
        "plt.boxplot(results)\n",
        "ax.set_xticklabels(names)"
      ]
    },
    {
      "cell_type": "markdown",
      "metadata": {
        "id": "gPCZ9vtKYLd8"
      },
      "source": [
        "Les meilleurs algorithmes sont LR et SVC. Nous pouvons rechercher les hyperparamètres pour ces deux algorithmes."
      ]
    },
    {
      "cell_type": "code",
      "execution_count": 30,
      "metadata": {
        "colab": {
          "base_uri": "https://localhost:8080/",
          "height": 0
        },
        "id": "bEezC2-AYLd9",
        "outputId": "dea5e955-d6a1-4fe0-ee07-0011a9d8b10f"
      },
      "outputs": [
        {
          "output_type": "stream",
          "name": "stdout",
          "text": [
            "meilleur score  0.7709677419354839 \n",
            "\n",
            "meilleurs paramètres {'C': 1} \n",
            "\n",
            "meilleur estimateur LogisticRegression(C=1) \n",
            "\n"
          ]
        }
      ],
      "source": [
        "from sklearn.model_selection import GridSearchCV\n",
        "\n",
        "grid_param = {  \n",
        "    'C' : [0.001,0.01,0.1,1,10,100]\n",
        "}\n",
        "\n",
        "\n",
        "gd_sr = GridSearchCV(estimator=LogisticRegression(),  \n",
        "                     param_grid=grid_param,\n",
        "                     scoring='accuracy',\n",
        "                     cv=5,\n",
        "                     n_jobs=-1,\n",
        "                    return_train_score=True)\n",
        "\n",
        "gd_sr.fit(X_train, y_train)  \n",
        "\n",
        "print ('meilleur score ',gd_sr.best_score_,'\\n')\n",
        "print ('meilleurs paramètres', gd_sr.best_params_,'\\n')\n",
        "print ('meilleur estimateur',gd_sr.best_estimator_,'\\n')"
      ]
    },
    {
      "cell_type": "code",
      "execution_count": 31,
      "metadata": {
        "colab": {
          "base_uri": "https://localhost:8080/",
          "height": 0
        },
        "id": "PLc9hLHtYLd9",
        "outputId": "9eb6bf64-deba-4cbd-e583-7438bfce1715"
      },
      "outputs": [
        {
          "output_type": "stream",
          "name": "stdout",
          "text": [
            "meilleur score  0.7843010752688173 \n",
            "\n",
            "meilleurs paramètres {'C': 1, 'gamma': 0.1, 'kernel': 'rbf'} \n",
            "\n",
            "meilleur estimateur SVC(C=1, gamma=0.1) \n",
            "\n"
          ]
        }
      ],
      "source": [
        "grid_param = {\n",
        "    'C': [0.001, 0.01, 0.1, 1, 10], \n",
        "    'gamma' : [0.001, 0.01, 0.1, 1], \n",
        "    'kernel': ['linear','rbf']}\n",
        "\n",
        "gd_sr = GridSearchCV(estimator=SVC(),  \n",
        "                     param_grid=grid_param,\n",
        "                     scoring='accuracy',\n",
        "                     cv=5,\n",
        "                     n_jobs=1,\n",
        "                    return_train_score=True)\n",
        "\n",
        "gd_sr.fit(X_train, y_train)  \n",
        "\n",
        "print ('meilleur score ',gd_sr.best_score_,'\\n')\n",
        "print ('meilleurs paramètres', gd_sr.best_params_,'\\n')\n",
        "print ('meilleur estimateur',gd_sr.best_estimator_,'\\n')"
      ]
    },
    {
      "cell_type": "markdown",
      "metadata": {
        "id": "zNMgi_ViYLd9"
      },
      "source": [
        "SVC s'avère obtenir de meilleurs résultats. Nous l'utilisons pour faire de la prédiction sur les données test."
      ]
    },
    {
      "cell_type": "code",
      "execution_count": 32,
      "metadata": {
        "colab": {
          "base_uri": "https://localhost:8080/",
          "height": 0
        },
        "id": "cDqTDT3rYLd-",
        "outputId": "a0ea29bc-3d9f-4c47-dd40-ab37473bcbdd"
      },
      "outputs": [
        {
          "output_type": "stream",
          "name": "stdout",
          "text": [
            "\n",
            " accuracy:  0.6764227642276422 \n",
            "\n",
            "\n",
            " matrice de confusion \n",
            " [[375  14]\n",
            " [185  41]]\n",
            "\n",
            "               precision    recall  f1-score   support\n",
            "\n",
            "         0.0       0.67      0.96      0.79       389\n",
            "         1.0       0.75      0.18      0.29       226\n",
            "\n",
            "    accuracy                           0.68       615\n",
            "   macro avg       0.71      0.57      0.54       615\n",
            "weighted avg       0.70      0.68      0.61       615\n",
            "\n"
          ]
        }
      ],
      "source": [
        "from sklearn.metrics import accuracy_score\n",
        "from sklearn.metrics import confusion_matrix\n",
        "from sklearn.metrics import classification_report\n",
        "# Creation d'une instance de l'algorithme en utilisant les meilleurs paramètres\n",
        "svc = gd_sr.best_estimator_\n",
        "\n",
        "validation_size=0.2 #20% du jeu de données pour le test\n",
        "\n",
        "testsize= 1-validation_size\n",
        "seed=20\n",
        "X_train,X_test,y_train,y_test=train_test_split(X, y, \n",
        "                                               train_size=validation_size, \n",
        "                                               random_state=seed,\n",
        "                                               test_size=testsize)\n",
        "\n",
        "\n",
        "svc.fit(X_train, y_train)\n",
        "result = svc.predict(X_test)\n",
        "print('\\n accuracy: ', accuracy_score(result, y_test),'\\n')\n",
        "\n",
        "conf = confusion_matrix(y_test, result)\n",
        "print ('\\n matrice de confusion \\n',conf)\n",
        "print ('\\n',classification_report(y_test, result))"
      ]
    },
    {
      "cell_type": "markdown",
      "metadata": {
        "id": "Q1KdidtLYLd-"
      },
      "source": [
        "Création d'un pipeline complet pour sauvegarder le modèle et le tester sur de nouvelles données. "
      ]
    },
    {
      "cell_type": "code",
      "execution_count": 33,
      "metadata": {
        "colab": {
          "base_uri": "https://localhost:8080/",
          "height": 0
        },
        "id": "3X5Z6eR1YLd-",
        "outputId": "1f6e3bea-c7c1-41af-8a95-b5114f0445be"
      },
      "outputs": [
        {
          "output_type": "stream",
          "name": "stdout",
          "text": [
            "Création du pipeline \n",
            "\n",
            "\n",
            " accuracy: 0.7843866171003717 \n",
            "\n"
          ]
        }
      ],
      "source": [
        "from sklearn.pipeline import Pipeline\n",
        "\n",
        "names=[\n",
        "    \"NumTimesPrg\", \"PlGlcConc\", \"BloodP\",\n",
        "    \"SkinThick\", \"TwoHourSerIns\", \"BMI\",\n",
        "    \"DiPedFunc\", \"Age\", \"HasDiabetes\"]\n",
        "#il faut sauter les 9 premières lignes qui sont le descriptif des variables, skiprows\n",
        "df = pd.read_csv('pima-indians-diabetes.csv',names=names,skiprows=9)\n",
        "\n",
        "array = df.values\n",
        "X = array[:,0:8]\n",
        "y = array[:,8]\n",
        "\n",
        "\n",
        "print ('Création du pipeline \\n')\n",
        "pipeline = Pipeline([('scl', StandardScaler()),\n",
        "                    ('clf', svc)])\n",
        "\n",
        "validation_size=0.3 #30% du jeu de données pour le test\n",
        "\n",
        "testsize= 1-validation_size\n",
        "seed=30\n",
        "X_train,X_test,y_train,y_test=train_test_split(X, y, \n",
        "                                               train_size=validation_size, \n",
        "                                               random_state=seed,\n",
        "                                               test_size=testsize)\n",
        "\n",
        "\n",
        "pipeline.fit(X_train, y_train)\n",
        "result = pipeline.predict(X_test)\n",
        "\n",
        "print('\\n accuracy:',accuracy_score(result, y_test),'\\n')\n",
        "\n",
        "import pickle\n",
        "filename = 'modelsvcpima.pkl'\n",
        "pickle.dump(pipeline, open(filename, 'wb'))"
      ]
    },
    {
      "cell_type": "code",
      "execution_count": 34,
      "metadata": {
        "colab": {
          "base_uri": "https://localhost:8080/",
          "height": 0
        },
        "id": "qIgfMfguYLd_",
        "outputId": "ae13f36c-d348-434e-985d-72622dd96568"
      },
      "outputs": [
        {
          "output_type": "stream",
          "name": "stdout",
          "text": [
            "Chargement du modèle \n",
            "\n",
            "La première ligne correspond à une personne qui a tendance à avoir du diabète de type 2 la prédiction devrait être de 1. Pour la seconde elle devrait être de 0 il faut remarquer que les données ne sont pas standardisées à l'entrée et que lors de la prédiction une étape de standardisation à lieu grâce au pipeline\n",
            "[1. 0.]\n"
          ]
        }
      ],
      "source": [
        "print (\"Chargement du modèle \\n\")\n",
        "filename = 'modelsvcpima.pkl'\n",
        "clf_loaded = pickle.load(open(filename, 'rb'))\n",
        "\n",
        "#Considérons deux nouvelles données qui ne sont pas standardisées\n",
        "new_df = pd.DataFrame([[6, 168, 72, 35, 0, 43.6, 0.627, 65],\n",
        "                      [2,85,67,30,2,27.6,0.351,22]], dtype='float')\n",
        "print (\"La première ligne correspond à une personne qui a tendance à avoir du diabète de type 2\", \n",
        "       \"la prédiction devrait être de 1. Pour la seconde elle devrait être de 0\",\n",
        "      \"il faut remarquer que les données ne sont pas standardisées à l'entrée et que lors\",\n",
        "      \"de la prédiction une étape de standardisation à lieu grâce au pipeline\")\n",
        "prediction = clf_loaded.predict(new_df)\n",
        "print(prediction)\n"
      ]
    },
    {
      "cell_type": "markdown",
      "metadata": {
        "id": "9NelqA_pYLeA"
      },
      "source": [
        "Essai de df2 sans standardisation.  \n",
        "\n",
        "Nous avons vu que SVC avait de meilleurs résultats aussi nous l'utilisons ici pour voir l'intérêt de la standardisation."
      ]
    },
    {
      "cell_type": "code",
      "execution_count": 35,
      "metadata": {
        "colab": {
          "base_uri": "https://localhost:8080/",
          "height": 0
        },
        "id": "eR8OhZS1YLeB",
        "outputId": "5783b59d-be8e-4da7-e69e-a9b240dd4922"
      },
      "outputs": [
        {
          "output_type": "stream",
          "name": "stdout",
          "text": [
            "\n",
            " accuracy:  0.6325203252032521 \n",
            "\n",
            "\n",
            " matrice de confusion \n",
            " [[389   0]\n",
            " [226   0]]\n",
            "\n",
            "               precision    recall  f1-score   support\n",
            "\n",
            "         0.0       0.63      1.00      0.77       389\n",
            "         1.0       0.00      0.00      0.00       226\n",
            "\n",
            "    accuracy                           0.63       615\n",
            "   macro avg       0.32      0.50      0.39       615\n",
            "weighted avg       0.40      0.63      0.49       615\n",
            "\n"
          ]
        },
        {
          "output_type": "stream",
          "name": "stderr",
          "text": [
            "/usr/local/lib/python3.7/dist-packages/sklearn/metrics/_classification.py:1318: UndefinedMetricWarning: Precision and F-score are ill-defined and being set to 0.0 in labels with no predicted samples. Use `zero_division` parameter to control this behavior.\n",
            "  _warn_prf(average, modifier, msg_start, len(result))\n",
            "/usr/local/lib/python3.7/dist-packages/sklearn/metrics/_classification.py:1318: UndefinedMetricWarning: Precision and F-score are ill-defined and being set to 0.0 in labels with no predicted samples. Use `zero_division` parameter to control this behavior.\n",
            "  _warn_prf(average, modifier, msg_start, len(result))\n",
            "/usr/local/lib/python3.7/dist-packages/sklearn/metrics/_classification.py:1318: UndefinedMetricWarning: Precision and F-score are ill-defined and being set to 0.0 in labels with no predicted samples. Use `zero_division` parameter to control this behavior.\n",
            "  _warn_prf(average, modifier, msg_start, len(result))\n"
          ]
        }
      ],
      "source": [
        "array = df2.values\n",
        "X = array[:,0:8]\n",
        "y = array[:,8]\n",
        "\n",
        "svc = gd_sr.best_estimator_\n",
        "\n",
        "validation_size=0.2 #20% du jeu de données pour le test\n",
        "\n",
        "testsize= 1-validation_size\n",
        "seed=20\n",
        "X_train,X_test,y_train,y_test=train_test_split(X, y, \n",
        "                                               train_size=validation_size, \n",
        "                                               random_state=seed,\n",
        "                                               test_size=testsize)\n",
        "\n",
        "\n",
        "svc.fit(X_train, y_train)\n",
        "result = svc.predict(X_test)\n",
        "print('\\n accuracy: ', accuracy_score(result, y_test),'\\n')\n",
        "\n",
        "conf = confusion_matrix(y_test, result)\n",
        "print ('\\n matrice de confusion \\n',conf)\n",
        "print ('\\n',classification_report(y_test, result))"
      ]
    },
    {
      "cell_type": "markdown",
      "metadata": {
        "id": "4pV9zlNRYLeD"
      },
      "source": [
        "Comme attendu, étant donné qu'il y a des données à des échelles très différentes l'accuracy diminue lorsque les données ne sont pas transformées."
      ]
    }
  ],
  "metadata": {
    "kernelspec": {
      "display_name": "Python 3",
      "language": "python",
      "name": "python3"
    },
    "language_info": {
      "codemirror_mode": {
        "name": "ipython",
        "version": 3
      },
      "file_extension": ".py",
      "mimetype": "text/x-python",
      "name": "python",
      "nbconvert_exporter": "python",
      "pygments_lexer": "ipython3",
      "version": "3.6.4"
    },
    "colab": {
      "name": "TP3_HAI817I_Solution.ipynb",
      "provenance": []
    }
  },
  "nbformat": 4,
  "nbformat_minor": 0
}