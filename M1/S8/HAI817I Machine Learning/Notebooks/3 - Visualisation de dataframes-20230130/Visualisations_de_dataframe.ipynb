{
  "nbformat": 4,
  "nbformat_minor": 0,
  "metadata": {
    "kernelspec": {
      "display_name": "Python 3",
      "language": "python",
      "name": "python3"
    },
    "language_info": {
      "codemirror_mode": {
        "name": "ipython",
        "version": 3
      },
      "file_extension": ".py",
      "mimetype": "text/x-python",
      "name": "python",
      "nbconvert_exporter": "python",
      "pygments_lexer": "ipython3",
      "version": "3.6.4"
    },
    "toc": {
      "base_numbering": 1,
      "nav_menu": {},
      "number_sections": true,
      "sideBar": true,
      "skip_h1_title": false,
      "title_cell": "Table of Contents",
      "title_sidebar": "Contents",
      "toc_cell": false,
      "toc_position": {},
      "toc_section_display": true,
      "toc_window_display": false
    },
    "colab": {
      "name": "Visualisations de dataframe.ipynb",
      "provenance": []
    }
  },
  "cells": [
    {
      "cell_type": "markdown",
      "metadata": {
        "id": "CTOdqSzq-qyo"
      },
      "source": [
        "<H1>Visualisation des données</H1>"
      ]
    },
    {
      "cell_type": "markdown",
      "metadata": {
        "id": "S1_0rQgA-qyr"
      },
      "source": [
        "Il existe différentes librairies qui permettent de visualiser les données contenues dans un dataframe. Par exemple Matplotlib ou Seaborn.\n"
      ]
    },
    {
      "cell_type": "markdown",
      "metadata": {
        "id": "yw5XPIzm5QjF"
      },
      "source": [
        "## Installation\n"
      ]
    },
    {
      "cell_type": "markdown",
      "metadata": {
        "id": "8IVxaMpO5MfB"
      },
      "source": [
        "Avant de commencer, il est nécessaire de déjà posséder dans son environnement toutes les librairies utiles. Dans la seconde cellule nous importons toutes les librairies qui seront utiles à ce notebook. Il se peut que, lorsque vous lanciez l'éxecution de cette cellule, une soit absente. Dans ce cas il est nécessaire de l'installer. Pour cela dans la cellule suivante utiliser la commande :  \n",
        "\n",
        "*! pip install nom_librairie*  \n",
        "\n",
        "\n",
        "**Attention :** il est fortement conseillé lorsque l'une des librairies doit être installer de relancer le kernel de votre notebook.  \n",
        "\n",
        "\n",
        "**Remarque :** même si toutes les librairies sont importées dès le début, les librairies utiles pour des fonctions présentées au cours de ce notebook sont ré-importées de manière à indiquer d'où elles viennent et ainsi faciliter la réutilisation de la fonction dans un autre projet."
      ]
    },
    {
      "cell_type": "code",
      "metadata": {
        "id": "S9KacgPW5xS1"
      },
      "source": [
        "# utiliser cette cellule pour installer les librairies manquantes\n",
        "# pour cela il suffit de taper dans cette cellule : !pip install nom_librairie_manquante\n",
        "# d'exécuter la cellule et de relancer la cellule suivante pour voir si tout se passe bien\n",
        "# recommencer tant que toutes les librairies ne sont pas installées ...\n",
        "\n",
        "# sous Colab il faut déjà intégrer ces deux librairies\n",
        "\n",
        "#!pip install ... \n",
        "\n",
        "# eventuellement ne pas oublier de relancer le kernel du notebook"
      ],
      "execution_count": null,
      "outputs": []
    },
    {
      "cell_type": "code",
      "metadata": {
        "id": "clffIe3d581y"
      },
      "source": [
        "# Importation des différentes librairies utiles pour le notebook\n",
        "\n",
        "#Sickit learn met régulièrement à jour des versions et \n",
        "#indique des futurs warnings. \n",
        "#ces deux lignes permettent de ne pas les afficher.\n",
        "import warnings\n",
        "warnings.filterwarnings(\"ignore\", category=FutureWarning)\n",
        "\n",
        "# librairies générales\n",
        "import numpy as np\n",
        "import pandas as pd\n",
        "import sys\n",
        "\n",
        "# librairie visualisation\n",
        "import matplotlib.pyplot as plt\n",
        "from pandas.plotting import scatter_matrix\n",
        "import seaborn as sns\n",
        "\n",
        "from sklearn.preprocessing import LabelEncoder"
      ],
      "execution_count": null,
      "outputs": []
    },
    {
      "cell_type": "markdown",
      "metadata": {
        "id": "E3SWSfWd66XX"
      },
      "source": [
        "Pour pouvoir sauvegarder sur votre répertoire Google Drive, il est nécessaire de fournir une autorisation. Pour cela il suffit d'éxecuter la ligne suivante et de saisir le code donné par Google."
      ]
    },
    {
      "cell_type": "code",
      "metadata": {
        "id": "BoQtKNnf68_a"
      },
      "source": [
        "# pour monter son drive Google Drive local\n",
        "from google.colab import drive\n",
        "drive.mount('/content/gdrive')"
      ],
      "execution_count": null,
      "outputs": []
    },
    {
      "cell_type": "markdown",
      "metadata": {
        "id": "7T3lSWny7FG6"
      },
      "source": [
        "Corriger éventuellement la ligne ci-dessous pour mettre le chemin vers un répertoire spécifique dans votre répertoire Google Drive :"
      ]
    },
    {
      "cell_type": "code",
      "metadata": {
        "id": "63CVlt3q7Kyd"
      },
      "source": [
        "my_local_drive='/content/gdrive/My Drive/Colab Notebooks/ML_FDS'\n",
        "# Ajout du path pour les librairies, fonctions et données\n",
        "sys.path.append(my_local_drive)\n",
        "# Se positionner sur le répertoire associé\n",
        "%cd $my_local_drive\n",
        "\n",
        "%pwd"
      ],
      "execution_count": null,
      "outputs": []
    },
    {
      "cell_type": "markdown",
      "metadata": {
        "id": "ZIbFluPL-qys"
      },
      "source": [
        "## Utilisation de Matplotlib"
      ]
    },
    {
      "cell_type": "markdown",
      "metadata": {
        "id": "GjHL9EfU-qys"
      },
      "source": [
        "Il faut tout d'abord importer la librairie maplotlib"
      ]
    },
    {
      "cell_type": "code",
      "metadata": {
        "ExecuteTime": {
          "end_time": "2020-01-22T19:17:25.374216Z",
          "start_time": "2020-01-22T19:17:22.763749Z"
        },
        "id": "u3u9dN2J-qyt"
      },
      "source": [
        "import matplotlib.pyplot as plt"
      ],
      "execution_count": null,
      "outputs": []
    },
    {
      "cell_type": "markdown",
      "metadata": {
        "id": "aI6_SQh4-qyu"
      },
      "source": [
        "La librairie permet via la commande plot d'afficher différentes visualization. \n",
        "\n",
        "df.plot(x=None, y=None, kind='line', ax=None, subplots=False, sharex=None, sharey=False, layout=None, figsize=None, use_index=True, title=None, grid=None, legend=True, style=None, logx=False, logy=False, loglog=False, xticks=None, yticks=None, xlim=None, ylim=None, rot=None, fontsize=None, colormap=None, table=False, yerr=None, xerr=None, secondary_y=False, sort_columns=False, **kwds)\n",
        "\n",
        "Parmi les principales :  \n",
        "*kind* permet de spécifier le type de visualisation avec les valeurs dans :  \n",
        "    ‘line’ : line plot (default)  \n",
        "    ‘bar’ : vertical bar plot  \n",
        "    ‘barh’ : horizontal bar plot  \n",
        "    ‘hist’ : histogram  \n",
        "    ‘box’ : boxplot  \n",
        "    ‘kde’ : Kernel Density Estimation plot  \n",
        "    ‘density’ : same as ‘kde’  \n",
        "    ‘area’ : area plot  \n",
        "    ‘pie’ : pie plot  \n",
        "    ‘scatter’ : scatter plot  \n",
        "    ‘hexbin’ : hexbin plot  \n",
        "\n",
        "*subplot* permet de spécifier qu'il s'agit d'une figure imbriquée dans une figure  \n",
        "*figsize* pour spécifier la taille de la figure via un tuple (width, height) en inches  \n",
        "*title* pour mettre un titre à la figure\n",
        "\n",
        "Se reporter à la documentation officielle pour connaître la liste de toutes les options : \n",
        "https://pandas.pydata.org/pandas-docs/stable/generated/pandas.DataFrame.plot.html"
      ]
    },
    {
      "cell_type": "markdown",
      "metadata": {
        "id": "oQ2YUq8c-qyu"
      },
      "source": [
        "Quelques exemples à l'aide de la base IRIS"
      ]
    },
    {
      "cell_type": "code",
      "metadata": {
        "ExecuteTime": {
          "end_time": "2020-01-22T19:17:27.792047Z",
          "start_time": "2020-01-22T19:17:25.376996Z"
        },
        "id": "D4Gs28jH-qyv"
      },
      "source": [
        "import pandas as pd \n",
        "url = \"https://archive.ics.uci.edu/ml/machine-learning-databases/iris/iris.data\"\n",
        "names = ['SepalLengthCm', 'SepalWidthCm', \n",
        "         'PetalLengthCm', 'PetalWidthCm', 'Species']\n",
        "\n",
        "df = pd.read_csv(url, names=names)\n",
        "# 5 premières lignes du fichier\n",
        "df.head()"
      ],
      "execution_count": null,
      "outputs": []
    },
    {
      "cell_type": "markdown",
      "metadata": {
        "id": "gLJTbmRF-qyw"
      },
      "source": [
        "### Affichage pour un attribut \n"
      ]
    },
    {
      "cell_type": "markdown",
      "metadata": {
        "id": "lNH7fym1-qyx"
      },
      "source": [
        "Dans cette partie nous considérons chaque attribut indépendamment.  \n",
        "\n",
        "**Affichage des valeurs**  \n",
        "Pour avoir une première idée des données manipulées"
      ]
    },
    {
      "cell_type": "code",
      "metadata": {
        "ExecuteTime": {
          "end_time": "2020-01-22T19:17:28.586974Z",
          "start_time": "2020-01-22T19:17:27.794715Z"
        },
        "id": "l_cQwyMv-qyx"
      },
      "source": [
        "#Affichage des différentes valeurs \n",
        "# remarque : ici nous considérons uniquement les valeurs numériques\n",
        "# kind = 'line' pour avoir des histogrammes\n",
        "# subplots= True pour afficher les différentes vues dans une seule figure\n",
        "# layout = (4,4) permet d'afficher les 4 figures sur la même ligne. \n",
        "# Par exemple layout=(2,2) affiche 2 figures sur une même ligne\n",
        "# figzize = (6,6) indique la taille en inch. \n",
        "# Attention en fonction du layout la taille ne sera pas prise en compte pour \n",
        "# pouvoir insérer toutes les figures sur une ligne (layout = (4,4))\n",
        "# sharex=False pour indiquer de mettre l'axe des x à chaque figure\n",
        "# title='Valeurs des données' pour donner un titre à la figure\n",
        "df.plot(kind='line', subplots=True, \n",
        "        layout=(2,2), figsize=(6,6),\n",
        "        sharex=False, title='Valeurs des données')\n",
        "plt.show()"
      ],
      "execution_count": null,
      "outputs": []
    },
    {
      "cell_type": "markdown",
      "metadata": {
        "id": "enGRYEwQ-qyy"
      },
      "source": [
        "**Histogramme**  \n",
        "Les histogrammes permettent de se faire une première idée de la distribution des données. "
      ]
    },
    {
      "cell_type": "code",
      "metadata": {
        "ExecuteTime": {
          "end_time": "2020-01-22T19:17:29.351099Z",
          "start_time": "2020-01-22T19:17:28.589541Z"
        },
        "id": "f60Mtq4x-qyz"
      },
      "source": [
        "# Affichage des histogrammes des différentes valeurs \n",
        "# kind = 'hist' pour avoir des histogrammes\n",
        "# subplots= True pour afficher les différentes vues dans une seule figure\n",
        "# layout = (4,4) permet d'afficher les 4 figures sur la même ligne. \n",
        "# Par exemple layout=(2,2) affiche 2 figures sur une même ligne\n",
        "# figzize = (6,6) indique la taille en inch. \n",
        "# Attention en fonction du layout la taille ne sera pas prise en compte pour \n",
        "# pouvoir insérer toutes les figures sur une ligne (layout = (4,4))\n",
        "# sharex=False pour indiquer de mettre l'axe des x à chaque figure\n",
        "# title='Histogramme' pour donner un titre à la figure\n",
        "df.plot(kind='hist', subplots=True, \n",
        "        layout=(2,2), figsize=(6,6),\n",
        "        sharex=False, title='Histogramme')\n",
        "plt.show()"
      ],
      "execution_count": null,
      "outputs": []
    },
    {
      "cell_type": "markdown",
      "metadata": {
        "id": "LmajjNfO-qyz"
      },
      "source": [
        "**Affichage des densités**  \n",
        "Pour avoir une vue de la densité sous la forme de courbes."
      ]
    },
    {
      "cell_type": "code",
      "metadata": {
        "ExecuteTime": {
          "end_time": "2020-01-22T19:17:31.215725Z",
          "start_time": "2020-01-22T19:17:29.353248Z"
        },
        "id": "sLfhpfJc-qyz"
      },
      "source": [
        "df.plot(kind='density', \n",
        "        subplots=True, layout=(2,2), \n",
        "        figsize=(6,6),sharex=False, title='Density')\n",
        "plt.show()"
      ],
      "execution_count": null,
      "outputs": []
    },
    {
      "cell_type": "markdown",
      "metadata": {
        "id": "AGrmVVoQ-qy0"
      },
      "source": [
        "**Affichage des boîtes à moustache**  \n",
        "Les boîtes à moustache (boxplot) permettent d'avoir plus d'information sur la distribution de chaque attribut et notamment les outliers. Une boîte à moustache est un graphique simple composé d’un rectangle duquel deux droites sortent afin de représenter certains éléments des données :  \n",
        "La valeur centrale du graphique est la médiane (il existe autant de valeur supérieures qu’inférieures à cette valeur dans l’échantillon).  \n",
        "Les bords du rectangle sont les quartiles (Pour le bord inférieur, un quart des observations ont des valeurs plus petites et trois quart ont des valeurs plus grandes, le bord supérieur suit le même raisonnement).  \n",
        "Les extrémités des moustaches sont calculées en utilisant 1.5 fois l’espace interquartile (la distance entre le 1er et le 3ème quartile).  "
      ]
    },
    {
      "cell_type": "code",
      "metadata": {
        "ExecuteTime": {
          "end_time": "2020-01-22T19:17:31.802427Z",
          "start_time": "2020-01-22T19:17:31.219059Z"
        },
        "id": "KHEzgE_7-qy0"
      },
      "source": [
        "df.plot(kind='box', subplots=True, \n",
        "        layout=(2,2), figsize=(6,6),\n",
        "        sharex=False, title='Box-plot')\n",
        "plt.show()"
      ],
      "execution_count": null,
      "outputs": []
    },
    {
      "cell_type": "markdown",
      "metadata": {
        "id": "z5UkyzH7-qy1"
      },
      "source": [
        "**Diagramme circulaire**  \n",
        "Les diagrammes circulaires (*pie chart*) permettent de connaître une répartition de valeurs."
      ]
    },
    {
      "cell_type": "code",
      "metadata": {
        "ExecuteTime": {
          "end_time": "2020-01-22T19:17:31.996711Z",
          "start_time": "2020-01-22T19:17:31.805701Z"
        },
        "id": "Q7ISIuRm-qy1"
      },
      "source": [
        "# Species n'est pas une valeur numérique, ici on compte combien de valeurs (value.count)\n",
        "# fontsize pour changer la taille de la font\n",
        "# legend=True pour afficher la légende\n",
        "df['Species'].value_counts().plot(kind='pie', \n",
        "                                  figsize=(6,6),\n",
        "                                  title='Pie', \n",
        "                                  fontsize=11, \n",
        "                                  legend=True)\n",
        "plt.show()"
      ],
      "execution_count": null,
      "outputs": []
    },
    {
      "cell_type": "markdown",
      "metadata": {
        "id": "zvg0QMQZ-qy2"
      },
      "source": [
        "### Travailler avec plusieurs attributs"
      ]
    },
    {
      "cell_type": "markdown",
      "metadata": {
        "id": "x5kqJyKh-qy2"
      },
      "source": [
        "**Correlations et cartes de chaleur**  \n",
        "Il est possible via la fonction correlation de déterminer les corrélations qui existent entre les différents attributs. Les cartes de chaleur (heatmap) peuvent être utilisées pour mettre en évidence ces corrélations.\n"
      ]
    },
    {
      "cell_type": "code",
      "metadata": {
        "ExecuteTime": {
          "end_time": "2020-01-22T19:17:32.974709Z",
          "start_time": "2020-01-22T19:17:32.000493Z"
        },
        "id": "pdqnQzoS-qy2"
      },
      "source": [
        "correlations = df.corr()\n",
        "# Affichage des valeurs de corrélation\n",
        "print (correlations)\n",
        "\n",
        "# Transformation des données de Species en données catégorielles\n",
        "# pour pouvoir calculer aussi les corrélations avec les autres\n",
        "from sklearn.preprocessing import LabelEncoder\n",
        "\n",
        "\n",
        "le = LabelEncoder()\n",
        "y=df['Species']\n",
        "le.fit(y)\n",
        "df['Species'] = le.transform(y)\n",
        "\n",
        "\n",
        "# Affichage de la matrice de corrélation\n",
        "fig = plt.figure(figsize=(10,10))\n",
        "# Partie à droite pour montrer les variations de valeurs\n",
        "ax = fig.add_subplot(111)\n",
        "# Détermine les valeurs maximales et minimales à afficher et le thème Blues\n",
        "cax = ax.matshow(correlations, vmin=-1, \n",
        "                 vmax=1, \n",
        "                 cmap=plt.cm.Blues)\n",
        "# Récupération des couleurs en fonctions des valeurs \n",
        "fig.colorbar(cax)\n",
        "# Le tableau principal \n",
        "# debute à 0, taille 5 (5 valeurs à afficher), largeur d'une colonne 1\n",
        "ticks = np.arange(0,5,1)\n",
        "# mise en place \n",
        "ax.set_xticks(ticks)\n",
        "ax.set_yticks(ticks)\n",
        "ax.set_xticklabels(names)\n",
        "ax.set_yticklabels(names)\n",
        "plt.show()\n",
        "# La diagonale est forcément la plus foncée"
      ],
      "execution_count": null,
      "outputs": []
    },
    {
      "cell_type": "markdown",
      "metadata": {
        "id": "DLnkV60G-qy3"
      },
      "source": [
        "**Nuages de points**  \n",
        "Ce nuage affiche les valeurs de deux variables. Elle est particulièrement utile pour savoir si deux valeurs sont fortement corrélés (ou inversement corrélées). Celles qui sont fortement corrélées peuvent être sans doute supprimées du jeu de données.  \n"
      ]
    },
    {
      "cell_type": "code",
      "metadata": {
        "ExecuteTime": {
          "end_time": "2020-01-22T19:17:34.582409Z",
          "start_time": "2020-01-22T19:17:32.979396Z"
        },
        "id": "pA1NzykA-qy3"
      },
      "source": [
        "#df.plot(kind='scatter', subplots=True, layout=(2,2), figsize=(6,6),sharex=False, title='Valeurs des données')\n",
        "# Pour deux attributs il faut préciser le x et le y\n",
        "url = \"https://archive.ics.uci.edu/ml/machine-learning-databases/iris/iris.data\"\n",
        "names = ['SepalLengthCm', 'SepalWidthCm', 'PetalLengthCm', 'PetalWidthCm', 'Species']\n",
        "\n",
        "df = pd.read_csv(url, names=names)\n",
        "df.plot(kind='scatter', x='SepalLengthCm', \n",
        "        y='SepalWidthCm',figsize=(6,6),\n",
        "        sharex=False, title='Scatter')\n",
        "plt.show()\n",
        "\n",
        "# Pour mettre en avant les différentes espèces\n",
        "ax=df[df.Species=='Iris-setosa'].plot(kind='scatter', \n",
        "                                    x='SepalLengthCm', \n",
        "                                    y='SepalWidthCm', \n",
        "                                    color='red', \n",
        "                                    label='setosa')\n",
        "df[df.Species=='Iris-versicolor'].plot(kind='scatter', \n",
        "                                    x='SepalLengthCm', \n",
        "                                    y='SepalWidthCm', \n",
        "                                    color='green', \n",
        "                                    label='versicolor', \n",
        "                                    ax=ax)\n",
        "df[df.Species=='Iris-virginica'].plot(kind='scatter', \n",
        "                                      x='SepalLengthCm', \n",
        "                                      y='SepalWidthCm', \n",
        "                                      color='blue', \n",
        "                                      label='virginica', \n",
        "                                      ax=ax)\n",
        "ax.set_title(\"Scatter\")"
      ],
      "execution_count": null,
      "outputs": []
    },
    {
      "cell_type": "markdown",
      "metadata": {
        "id": "bOOHimoX-qy3"
      },
      "source": [
        "**Scatter plot matrix**    \n",
        "Cette matrice affiche toutes les valeurs en croisant les variables deux à deux. \n",
        "\n",
        "Dans pandas il est possible d'utiliser la fonction scatter_matrix (voir https://pandas.pydata.org/pandas-docs/stable/generated/pandas.plotting.scatter_matrix.html) qui offre toutes les fonctionnalités pour afficher le contenu de toutes les valeurs de la matrice."
      ]
    },
    {
      "cell_type": "code",
      "metadata": {
        "ExecuteTime": {
          "end_time": "2020-01-22T19:17:38.909822Z",
          "start_time": "2020-01-22T19:17:34.586813Z"
        },
        "id": "s2CdcJwr-qy4"
      },
      "source": [
        "from pandas.plotting import scatter_matrix\n",
        "# Pour afficher toute la matrice\n",
        "scatter_matrix(df,figsize=(10,10))\n",
        "plt.show()\n",
        "\n",
        "# Pour afficher la matrice mais avec les densités plutôt que des histogrammes\n",
        "scatter_matrix(df,figsize=(10,10), diagonal='kde')\n",
        "plt.show()"
      ],
      "execution_count": null,
      "outputs": []
    },
    {
      "cell_type": "markdown",
      "metadata": {
        "id": "0SvdB9td-qy4"
      },
      "source": [
        "## Utilisation de Seaborn "
      ]
    },
    {
      "cell_type": "markdown",
      "metadata": {
        "id": "Bw1-BIgW-qy4"
      },
      "source": [
        "Seaborn est une librairie plus récente développée au dessus de Maplotlib qui permet de pouvoir améliorer les visualisations. Une documentation complète est disponible : \n",
        "    https://seaborn.pydata.org.  \n",
        "    Il faut importer la librairie seaborn"
      ]
    },
    {
      "cell_type": "code",
      "metadata": {
        "ExecuteTime": {
          "end_time": "2020-01-22T19:17:39.287545Z",
          "start_time": "2020-01-22T19:17:38.912299Z"
        },
        "id": "nDGIM81v-qy5"
      },
      "source": [
        "import seaborn as sns\n",
        "import matplotlib.pyplot as plt"
      ],
      "execution_count": null,
      "outputs": []
    },
    {
      "cell_type": "code",
      "metadata": {
        "ExecuteTime": {
          "end_time": "2020-01-22T19:17:40.117525Z",
          "start_time": "2020-01-22T19:17:39.292889Z"
        },
        "id": "bRCarjjs-qy5"
      },
      "source": [
        "import pandas as pd \n",
        "url = \"https://archive.ics.uci.edu/ml/machine-learning-databases/iris/iris.data\"\n",
        "names = ['SepalLengthCm', 'SepalWidthCm', \n",
        "         'PetalLengthCm', 'PetalWidthCm', 'Species']\n",
        "\n",
        "df = pd.read_csv(url, names=names)\n",
        "# 5 premières lignes du fichier\n",
        "df.head()"
      ],
      "execution_count": null,
      "outputs": []
    },
    {
      "cell_type": "markdown",
      "metadata": {
        "id": "wqUyQWH0-qy5"
      },
      "source": [
        "### Affichage pour un attribut "
      ]
    },
    {
      "cell_type": "markdown",
      "metadata": {
        "id": "vx3WPD5Y-qy5"
      },
      "source": [
        "**Nombre de valeurs d'un attribut**"
      ]
    },
    {
      "cell_type": "code",
      "metadata": {
        "ExecuteTime": {
          "end_time": "2020-01-22T19:17:40.776442Z",
          "start_time": "2020-01-22T19:17:40.126040Z"
        },
        "id": "a_iKCMgW-qy6"
      },
      "source": [
        "sns.countplot(x='Species', data=df)"
      ],
      "execution_count": null,
      "outputs": []
    },
    {
      "cell_type": "markdown",
      "metadata": {
        "id": "gIcpKutz-qy8"
      },
      "source": [
        "**Histogramme**"
      ]
    },
    {
      "cell_type": "code",
      "metadata": {
        "ExecuteTime": {
          "end_time": "2020-01-22T19:17:41.181688Z",
          "start_time": "2020-01-22T19:17:40.783699Z"
        },
        "id": "B6STTyji-qy9"
      },
      "source": [
        "# Pour avoir un fond blanc avec grille\n",
        "sns.set(style=\"whitegrid\")\n",
        "# Avec une ligne verticale pour montrer chaque observation dans une distribution\n",
        "sns.distplot(df[\"SepalLengthCm\"])\n"
      ],
      "execution_count": null,
      "outputs": []
    },
    {
      "cell_type": "code",
      "metadata": {
        "ExecuteTime": {
          "end_time": "2020-01-22T19:17:41.663982Z",
          "start_time": "2020-01-22T19:17:41.185556Z"
        },
        "id": "VcYCiYa6-qy-"
      },
      "source": [
        "# Sans ligne verticale \n",
        "sns.distplot(df[\"SepalLengthCm\"], kde=False)"
      ],
      "execution_count": null,
      "outputs": []
    },
    {
      "cell_type": "code",
      "metadata": {
        "ExecuteTime": {
          "end_time": "2020-01-22T19:17:42.020304Z",
          "start_time": "2020-01-22T19:17:41.672316Z"
        },
        "id": "Na5rWbw2-qy-"
      },
      "source": [
        "# En choissant uniquement une partie de la courbe \n",
        "sns.set(style=\"whitegrid\")\n",
        "\n",
        "ax=sns.distplot(df[\"SepalLengthCm\"], \n",
        "                kde=True, kde_kws={'clip': (5, 7.5)})\n",
        "\n",
        "\n",
        "plt.show()"
      ],
      "execution_count": null,
      "outputs": []
    },
    {
      "cell_type": "code",
      "metadata": {
        "ExecuteTime": {
          "end_time": "2020-01-22T19:17:42.545234Z",
          "start_time": "2020-01-22T19:17:42.023822Z"
        },
        "id": "SxPCbnK_-qy_"
      },
      "source": [
        "# Avec un titre \n",
        "# Pour avoir un fond blanc avec grille\n",
        "sns.set(style=\"whitegrid\")\n",
        "\n",
        "ax=sns.distplot(df[\"SepalLengthCm\"], kde=False)\n",
        "ax.set_title(\"Histogramme de Sepal Length\")\n",
        "\n",
        "plt.show()"
      ],
      "execution_count": null,
      "outputs": []
    },
    {
      "cell_type": "code",
      "metadata": {
        "ExecuteTime": {
          "end_time": "2020-01-22T19:17:44.045384Z",
          "start_time": "2020-01-22T19:17:42.556556Z"
        },
        "id": "_kQ10AGJ-qy_"
      },
      "source": [
        "f, axes = plt.subplots(2, 2, figsize=(10, 10), sharex=False)\n",
        "sns.distplot(df[\"SepalLengthCm\"], ax=axes[0, 0])\n",
        "sns.distplot(df[\"SepalWidthCm\"], ax=axes[0, 1])\n",
        "sns.distplot(df[\"PetalLengthCm\"], ax=axes[1, 0])\n",
        "sns.distplot(df[\"PetalWidthCm\"], ax=axes[1, 1])"
      ],
      "execution_count": null,
      "outputs": []
    },
    {
      "cell_type": "markdown",
      "metadata": {
        "id": "TTN3fgQi-qy_"
      },
      "source": [
        "**Boîtes à moustache**  \n",
        "Il existe différentes manières de représenter les boîtes à moustache en seaborn."
      ]
    },
    {
      "cell_type": "code",
      "metadata": {
        "ExecuteTime": {
          "end_time": "2020-01-22T19:17:44.461822Z",
          "start_time": "2020-01-22T19:17:44.054584Z"
        },
        "id": "vA0iVIdB-qzA"
      },
      "source": [
        "#sns.set(style=\"whitegrid\")\n",
        "# orient pour mettre la vue en vertical\n",
        "ax = sns.boxplot(x=df[\"SepalWidthCm\"], orient='v')"
      ],
      "execution_count": null,
      "outputs": []
    },
    {
      "cell_type": "code",
      "metadata": {
        "ExecuteTime": {
          "end_time": "2020-01-22T19:17:45.179694Z",
          "start_time": "2020-01-22T19:17:44.481587Z"
        },
        "id": "mGpHmoUm-qzA"
      },
      "source": [
        "# palette = 'Set2' pour changer les couleurs\n",
        "ax = sns.boxplot(data=df, palette='Set2')"
      ],
      "execution_count": null,
      "outputs": []
    },
    {
      "cell_type": "markdown",
      "metadata": {
        "id": "EtcbKNJu-qzB"
      },
      "source": [
        "Le mode violon est une combinaison de boîte à moustache et d'estimation de la densité. "
      ]
    },
    {
      "cell_type": "code",
      "metadata": {
        "ExecuteTime": {
          "end_time": "2020-01-22T19:17:45.677237Z",
          "start_time": "2020-01-22T19:17:45.182368Z"
        },
        "id": "P-iDn32l-qzB"
      },
      "source": [
        "# changer la taille de la figure\n",
        "fig, ax = plt.subplots(figsize=(6,6))\n",
        "# Affichage en violon\n",
        "ax=sns.violinplot(data=df)"
      ],
      "execution_count": null,
      "outputs": []
    },
    {
      "cell_type": "markdown",
      "metadata": {
        "id": "bF7xuFzU-qzB"
      },
      "source": [
        "Les swarmplot indiquent une bonne représentation de la distribution des données (elles sont toutes présentées sans chevauchement) mais sont difficile à interpréter lorsqu'il y a beaucoup de données."
      ]
    },
    {
      "cell_type": "code",
      "metadata": {
        "ExecuteTime": {
          "end_time": "2020-01-22T19:17:46.392287Z",
          "start_time": "2020-01-22T19:17:45.679653Z"
        },
        "id": "oWS_70aV-qzC"
      },
      "source": [
        "ax = sns.swarmplot(x=df[\"SepalLengthCm\"])"
      ],
      "execution_count": null,
      "outputs": []
    },
    {
      "cell_type": "markdown",
      "metadata": {
        "id": "hzN5gDz8-qzC"
      },
      "source": [
        "Il est possible de connaître les boîtes à mouchoir par rapport à une variable catégorielle.\n"
      ]
    },
    {
      "cell_type": "code",
      "metadata": {
        "ExecuteTime": {
          "end_time": "2020-01-22T19:17:47.021472Z",
          "start_time": "2020-01-22T19:17:46.409144Z"
        },
        "id": "kjZPXLcr-qzC"
      },
      "source": [
        "ax = sns.boxplot(x=\"Species\", y=\"SepalLengthCm\", data=df)"
      ],
      "execution_count": null,
      "outputs": []
    },
    {
      "cell_type": "markdown",
      "metadata": {
        "id": "hq0CQJKY-qzC"
      },
      "source": [
        "### Travailler avec plusieurs attributs "
      ]
    },
    {
      "cell_type": "code",
      "metadata": {
        "ExecuteTime": {
          "end_time": "2020-01-22T19:17:47.928474Z",
          "start_time": "2020-01-22T19:17:47.030878Z"
        },
        "id": "LTQuue0r-qzD"
      },
      "source": [
        " sns.factorplot(\"SepalLengthCm\",'Species', \n",
        "                data=df, kind=\"bar\",  legend=False)\n",
        "                   \n",
        "# Show plot\n",
        "plt.show()"
      ],
      "execution_count": null,
      "outputs": []
    },
    {
      "cell_type": "code",
      "metadata": {
        "ExecuteTime": {
          "end_time": "2020-01-22T19:17:47.965081Z",
          "start_time": "2020-01-22T19:17:47.931685Z"
        },
        "id": "MLuV2UYO-qzD"
      },
      "source": [
        "corr = df.corr()\n",
        "corr"
      ],
      "execution_count": null,
      "outputs": []
    },
    {
      "cell_type": "code",
      "metadata": {
        "ExecuteTime": {
          "end_time": "2020-01-22T19:17:48.859257Z",
          "start_time": "2020-01-22T19:17:47.970505Z"
        },
        "id": "OXK5psZc-qzD"
      },
      "source": [
        "fig, ax = plt.subplots(1, 1, figsize=(10,6))\n",
        "\n",
        "hm = sns.heatmap(corr, \n",
        "                 ax=ax,           # Axes où afficher\n",
        "                 cmap=\"YlGnBu\", # Couleur\n",
        "                 square=True,    # Si True, toutes les cellules ont le même aspect carré\n",
        "                 annot=True      # Pour afficher les valeurs\n",
        "                )\n",
        "\n",
        "fig.suptitle(\"Correlation des attributs d'IRIS\", \n",
        "              fontsize=12, \n",
        "              fontweight='bold')"
      ],
      "execution_count": null,
      "outputs": []
    },
    {
      "cell_type": "markdown",
      "metadata": {
        "id": "nrQBG1a9-qzE"
      },
      "source": [
        "**Scatter plot matrix**"
      ]
    },
    {
      "cell_type": "code",
      "metadata": {
        "ExecuteTime": {
          "end_time": "2020-01-22T19:17:55.113288Z",
          "start_time": "2020-01-22T19:17:48.862903Z"
        },
        "scrolled": true,
        "id": "ROxYrAqq-qzE"
      },
      "source": [
        "# Matrice de base\n",
        "g = sns.pairplot(df)"
      ],
      "execution_count": null,
      "outputs": []
    },
    {
      "cell_type": "code",
      "metadata": {
        "ExecuteTime": {
          "end_time": "2020-01-22T19:17:56.283383Z",
          "start_time": "2020-01-22T19:17:55.116589Z"
        },
        "id": "ri7W3T0w-qzE"
      },
      "source": [
        "# Matrice réduite a un sous ensemble d'attributs\n",
        "print (\"Un exemple de variables fortements corrélées\")\n",
        "g = sns.pairplot(df, vars=[\"PetalWidthCm\", \n",
        "                           \"PetalLengthCm\"])"
      ],
      "execution_count": null,
      "outputs": []
    },
    {
      "cell_type": "code",
      "metadata": {
        "ExecuteTime": {
          "end_time": "2020-01-22T19:18:00.311580Z",
          "start_time": "2020-01-22T19:17:56.290887Z"
        },
        "id": "XHk4TMw8-qzE"
      },
      "source": [
        "# En mettant en avant les espèces\n",
        "g = sns.pairplot(df,hue=\"Species\")"
      ],
      "execution_count": null,
      "outputs": []
    },
    {
      "cell_type": "code",
      "metadata": {
        "ExecuteTime": {
          "end_time": "2020-01-22T19:18:03.910013Z",
          "start_time": "2020-01-22T19:18:00.313742Z"
        },
        "id": "y_NYYEMb-qzF"
      },
      "source": [
        "# En mettant en avant une estimation de la densité\n",
        "g = sns.pairplot(df, hue=\"Species\", diag_kind=\"kde\")"
      ],
      "execution_count": null,
      "outputs": []
    }
  ]
}