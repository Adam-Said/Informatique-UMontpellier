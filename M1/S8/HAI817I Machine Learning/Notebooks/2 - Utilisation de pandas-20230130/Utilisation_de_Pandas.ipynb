{
  "nbformat": 4,
  "nbformat_minor": 0,
  "metadata": {
    "kernelspec": {
      "display_name": "Python 3",
      "language": "python",
      "name": "python3"
    },
    "language_info": {
      "codemirror_mode": {
        "name": "ipython",
        "version": 3
      },
      "file_extension": ".py",
      "mimetype": "text/x-python",
      "name": "python",
      "nbconvert_exporter": "python",
      "pygments_lexer": "ipython3",
      "version": "3.8.5"
    },
    "colab": {
      "name": "Utilisation de Pandas.ipynb",
      "provenance": []
    }
  },
  "cells": [
    {
      "cell_type": "markdown",
      "metadata": {
        "id": "GVZDsP2E4_27"
      },
      "source": [
        "<H1>Introduction à Pandas</H1>"
      ]
    },
    {
      "cell_type": "markdown",
      "metadata": {
        "id": "0hZWtawL4_2-"
      },
      "source": [
        "Pandas est une librairie python qui permet de manipuler facilement des données que l'on souhaite analyser. Elle considère trois types de structures :\n",
        "* les séries : un tableau à une dimension où les données sont de même type\n",
        "* les dataframes : un tableau à deux dimensions où les données peuvent être de types différents\n",
        "* les panels : un tableau à trois dimensions où les données peuvent être de types différents\n",
        "\n",
        "Le **dataframe** est le plus utilisé dans pandas car il permet  de pouvoir manipuler des tableaux avec les noms des colonnes ou des lignes, offre de nombreuses fonctionalités similaires à celles de système de gestion de base de données (séléction, group-by, etc), offre des facilités pour pouvoir sauvegarder ou afficher des résultats.\n",
        "\n"
      ]
    },
    {
      "cell_type": "markdown",
      "metadata": {
        "id": "yw5XPIzm5QjF"
      },
      "source": [
        "## Installation\n"
      ]
    },
    {
      "cell_type": "markdown",
      "metadata": {
        "id": "8IVxaMpO5MfB"
      },
      "source": [
        "Avant de commencer, il est nécessaire de déjà posséder dans son environnement toutes les librairies utiles. Dans la seconde cellule nous importons toutes les librairies qui seront utiles à ce notebook. Il se peut que, lorsque vous lanciez l'éxecution de cette cellule, une soit absente. Dans ce cas il est nécessaire de l'installer. Pour cela dans la cellule suivante utiliser la commande :  \n",
        "\n",
        "*! pip install nom_librairie*  \n",
        "\n",
        "\n",
        "**Attention :** il est fortement conseillé lorsque l'une des librairies doit être installer de relancer le kernel de votre notebook.  \n",
        "\n",
        "\n",
        "**Remarque :** même si toutes les librairies sont importées dès le début, les librairies utiles pour des fonctions présentées au cours de ce notebook sont ré-importées de manière à indiquer d'où elles viennent et ainsi faciliter la réutilisation de la fonction dans un autre projet."
      ]
    },
    {
      "cell_type": "code",
      "metadata": {
        "id": "S9KacgPW5xS1"
      },
      "source": [
        "# utiliser cette cellule pour installer les librairies manquantes\n",
        "# pour cela il suffit de taper dans cette cellule : !pip install nom_librairie_manquante\n",
        "# d'exécuter la cellule et de relancer la cellule suivante pour voir si tout se passe bien\n",
        "# recommencer tant que toutes les librairies ne sont pas installées ...\n",
        "\n",
        "# sous Colab il faut déjà intégrer ces deux librairies\n",
        "\n",
        "#!pip install ... \n",
        "\n",
        "# eventuellement ne pas oublier de relancer le kernel du notebook"
      ],
      "execution_count": null,
      "outputs": []
    },
    {
      "cell_type": "code",
      "metadata": {
        "id": "clffIe3d581y"
      },
      "source": [
        "# Importation des différentes librairies utiles pour le notebook\n",
        "\n",
        "#Sickit learn met régulièrement à jour des versions et \n",
        "#indique des futurs warnings. \n",
        "#ces deux lignes permettent de ne pas les afficher.\n",
        "import warnings\n",
        "warnings.filterwarnings(\"ignore\", category=FutureWarning)\n",
        "\n",
        "# librairies générales\n",
        "import numpy as np\n",
        "import pandas as pd\n",
        "import sys\n"
      ],
      "execution_count": null,
      "outputs": []
    },
    {
      "cell_type": "markdown",
      "metadata": {
        "id": "E3SWSfWd66XX"
      },
      "source": [
        "Pour pouvoir sauvegarder sur votre répertoire Google Drive, il est nécessaire de fournir une autorisation. Pour cela il suffit d'éxecuter la ligne suivante et de saisir le code donné par Google."
      ]
    },
    {
      "cell_type": "code",
      "metadata": {
        "id": "BoQtKNnf68_a"
      },
      "source": [
        "# pour monter son drive Google Drive local\n",
        "from google.colab import drive\n",
        "drive.mount('/content/gdrive')"
      ],
      "execution_count": null,
      "outputs": []
    },
    {
      "cell_type": "markdown",
      "metadata": {
        "id": "7T3lSWny7FG6"
      },
      "source": [
        "Corriger éventuellement la ligne ci-dessous pour mettre le chemin vers un répertoire spécifique dans votre répertoire Google Drive :"
      ]
    },
    {
      "cell_type": "code",
      "metadata": {
        "id": "63CVlt3q7Kyd"
      },
      "source": [
        "my_local_drive='/content/gdrive/My Drive/Colab Notebooks/ML_FDS'\n",
        "# Ajout du path pour les librairies, fonctions et données\n",
        "sys.path.append(my_local_drive)\n",
        "# Se positionner sur le répertoire associé\n",
        "%cd $my_local_drive\n",
        "\n",
        "%pwd"
      ],
      "execution_count": null,
      "outputs": []
    },
    {
      "cell_type": "markdown",
      "metadata": {
        "id": "oD5hkf5T9TWS"
      },
      "source": [
        "## Pandas"
      ]
    },
    {
      "cell_type": "markdown",
      "metadata": {
        "id": "TjqabfBC4_2_"
      },
      "source": [
        "Les différents types pandas :  \n",
        "\n"
      ]
    },
    {
      "cell_type": "markdown",
      "metadata": {
        "id": "rp1qIJtb4_3A"
      },
      "source": [
        "Etant donné qu'il y a trois structure de données manipulables avec Pandas il va exister différentes manières de les indexer.  \n",
        "\n",
        "Les séries ont un seul dimension appelé index (axis ==0)  \n",
        "Les dataframes ont deux axes l'axe *index* (axis == 0), and l'axe des *colonnes* (axis == 1). Ils peuvent être vus comme des dictionnaires Python où la clé correspond aux noms des colonnes et la valeurs aux séries des colonnes.   \n",
        "Les panels peuvent être vus comme des dictionnaires Python de dataframes. Ils ont donc des *items* ou *index* (axis == 0), des *axes majeurs* (axis == 1) et des *axes mineurs*(axis == 2)."
      ]
    },
    {
      "cell_type": "markdown",
      "metadata": {
        "id": "WJmWHvr-4_3A"
      },
      "source": [
        "|dtype Pandas\t| type Python\t| type NumPy\t |Utilisation |\n",
        "| :-------------: |:-------------:| :----------:|:-----------:|\n",
        "| object        | str           | string_, unicode_  | Texte|\n",
        "| int64        | int           | int_, int8, int16, int32, int64, uint8, uint16, uint32, uint64 | Integer|\n",
        "| float64        | float           | float_, float16, float32, float64  | Float|\n",
        "| bool        | bool           | bool_  | True/False|\n",
        "| datetime64        | NA           | datetime64  | Date et Heure|\n",
        "| timedelta        | NA           | NA  | Différence entre deux datetime|\n",
        "| category        | NA           | NA  | Liste finie de valeurs textuelles|"
      ]
    },
    {
      "cell_type": "markdown",
      "metadata": {
        "id": "papOtts24_3B"
      },
      "source": [
        "Remarque : un dataframe peut être affiché par print ou par display."
      ]
    },
    {
      "cell_type": "markdown",
      "metadata": {
        "id": "kuQDyOBI4_3B"
      },
      "source": [
        "### Petit rappel sur les tableaux en python "
      ]
    },
    {
      "cell_type": "markdown",
      "metadata": {
        "id": "JXsmoTwg4_3C"
      },
      "source": [
        "Un tableau peut être créé à l'aide de la fonction *np.array()* "
      ]
    },
    {
      "cell_type": "code",
      "metadata": {
        "id": "0KPmEykp4_3C"
      },
      "source": [
        "import numpy as np\n",
        "print (\"Création d'un tableau à 1 dimension \")\n",
        "tableau_une_dimension = np.array([5, 4, 3, 2, 1])\n",
        "print (tableau_une_dimension)\n",
        "\n",
        "print (\"\\nCréation d'un tableau à 1 dimension dont le type est float\")\n",
        "tableau_une_dimension_float = np.array([5, 4, 3, 2, 1],dtype='float')\n",
        "print (tableau_une_dimension_float)\n",
        "\n",
        "print (\"\\nCréation d'un tableau à 2 dimensions (2 lignes, 5 colonnes)\")\n",
        "tableau_deux_dimensions = np.array([[5, 4, 3, 2, 1],\n",
        "                                    [1, 2, 3, 4, 5]])\n",
        "\n",
        "print (tableau_deux_dimensions)"
      ],
      "execution_count": null,
      "outputs": []
    },
    {
      "cell_type": "markdown",
      "metadata": {
        "id": "DnR1po-n4_3D"
      },
      "source": [
        "**Autres types d'initialisation**"
      ]
    },
    {
      "cell_type": "code",
      "metadata": {
        "id": "M7Bx2giN4_3E"
      },
      "source": [
        "print (\"\\nCréation d'un tableau à 2 dimensions initialisé à 0 et de type float \")\n",
        "tableau_deux_dimensions_zero_float = np.zeros((2, 3), dtype='f')    \n",
        "print (tableau_deux_dimensions_zero_float)\n",
        "\n",
        "print (\"\\nCréation d'un tableau à 2 dimensions initialisé à 1 et de type integer \")\n",
        "tableau_deux_dimensions_un_entier = np.ones((3, 5), dtype='i')    \n",
        "print (tableau_deux_dimensions_un_entier)\n",
        "\n",
        "print (\"\\nCréation d'un tableau à 1 dimension initialisé avec des valeurs régulièrement espacées \")\n",
        "tableau_une_dimension_arrange= np.arange(10)\n",
        "print (tableau_une_dimension_arrange)\n",
        "\n",
        "print (\"\\nCréation d'un tableau à 1 dimension initialisé de 1 à 3 avec un espace de 0.5 \")\n",
        "tableau_une_dimension_arrange2= np.arange(1,3,0.5)\n",
        "print (tableau_une_dimension_arrange2)\n",
        "\n",
        "print (\"\\nCréation d'un tableau à 2 dimensions initialisé avec arange \")\n",
        "line_0=np.arange(1,3,0.5)\n",
        "line_1=np.arange(3,1,-0.5)\n",
        "tableau_deux_dimensions_arrange = np.array([line_0,\n",
        "                                    line_1])\n",
        "print (tableau_deux_dimensions_arrange)\n",
        "\n",
        "print (\"\\nCréation d'un tableau à 2 dimensions initialisé aléatoirement suivant une loi normale centrée sur 0 avec une dispersion de 1\")\n",
        "tableau_deux_dimensions_aleatoire = np.random.normal(0, 1, (4, 4)) \n",
        "print (tableau_deux_dimensions_arrange)"
      ],
      "execution_count": null,
      "outputs": []
    },
    {
      "cell_type": "markdown",
      "metadata": {
        "id": "Y5wdBY_X4_3F"
      },
      "source": [
        "**Copie d'un tableau**"
      ]
    },
    {
      "cell_type": "code",
      "metadata": {
        "id": "ncusP8tz4_3F"
      },
      "source": [
        "tableau_une_dimension = np.array([5, 4, 3, 2, 1])\n",
        "print (\"Tableau initial\\n\",tableau_une_dimension)\n",
        "copie_directe=tableau_une_dimension\n",
        "print (\"\\nCopie directe\\n\",copie_directe)\n",
        "print (\"\\nAttention une copie directe est un pointeur vers le tableau initial\")\n",
        "print (\"\\nModification d'une valeur de copie directe - copie_directe[0]=1\")\n",
        "copie_directe[0]=1\n",
        "print (\"\\nTableau initial\\n\",tableau_une_dimension)\n",
        "\n",
        "print (\"\\nUtilisation de la fonction .copy\")\n",
        "copie_copy=tableau_une_dimension.copy()\n",
        "print (\"\\nCopie par .copy\\n\",copie_copy)\n",
        "print (\"\\nModification d'une valeur de copie par copy - copie_copy[0]=5\")\n",
        "copie_copy[0]=5\n",
        "print (\"\\nIl n'y a pas de modification dans tableau initial\\n\",tableau_une_dimension)"
      ],
      "execution_count": null,
      "outputs": []
    },
    {
      "cell_type": "markdown",
      "metadata": {
        "id": "AM-0tVGs4_3F"
      },
      "source": [
        "**Shape, size, len et accès aux valeurs**  \n",
        "\n",
        "*shape* permet de connaître les dimensions d'un tableau. Il est possibe d'accéder aux valeurs en utilisant [nb]. Attention les index des tableaux commencent à 0. "
      ]
    },
    {
      "cell_type": "code",
      "metadata": {
        "id": "JZlrqY3l4_3G"
      },
      "source": [
        "tableau_une_dimension = np.array([5, 4, 3, 2, 1])\n",
        "print (\"Tableau à 1 dimension \\n\",tableau_une_dimension)\n",
        "print (\"\\nLes dimensions du tableau : \",tableau_une_dimension.shape)\n",
        "print (\"\\nAccès au 3 ième élément du tableau : \", tableau_une_dimension[2])\n",
        "print (\"\\nAccès au dernier élément du tableau avec -1 : \", tableau_une_dimension[-1])\n",
        "\n",
        "tableau_deux_dimensions = np.array([[5, 4, 3, 2, 1],\n",
        "                                    [1, 2, 3, 4, 5]])\n",
        "\n",
        "print (\"\\nTableau à 2 dimensions \\n\",tableau_deux_dimensions)\n",
        "print (\"\\nLes dimensions du tableau \",tableau_deux_dimensions.shape)\n",
        "print (\"\\nshape[0] correspond au nombre de lignes\", tableau_deux_dimensions.shape[0])\n",
        "print (\"\\nshape[1] correspond au nombre de colonnes\", tableau_deux_dimensions.shape[1])\n",
        "\n",
        "print (\"\\nValeur pour la 2 ligne et colonne 3 : \",tableau_deux_dimensions[1,2])\n",
        "print (\"\\nValeur de la seconde colonne, laisser la partie après la virgule vide : \", tableau_deux_dimensions[1,])\n",
        "print (\"\\nAttention size et différent de len pour un tableau 2D\")\n",
        "print (\"\\nsize retourne le nombre d'éléments du tableau : \",np.size(tableau_deux_dimensions))\n",
        "print (\"\\nlen retourne combien il y a de lignes dans le tableau : \",len(tableau_deux_dimensions))"
      ],
      "execution_count": null,
      "outputs": []
    },
    {
      "cell_type": "markdown",
      "metadata": {
        "id": "OFLH_8VL4_3H"
      },
      "source": [
        "**Slicing**  \n",
        "\n",
        "Il est possible d'utiliser des techniques de \"tranchage\" (*slicing*) pour obtenir des parties de tableaux.  \n",
        "Elle consiste à indiquer entre crochets des indices pour définir le début et la fin de la tranche (non comprise) et le pas éventuel et à les séparer par deux-points ':'. Syntaxe :  [début:fin:pas].  \n",
        "\n",
        "Le principe est le même pour un tableau à deux dimensions, il suffit de séparer par des , les parties.\n"
      ]
    },
    {
      "cell_type": "code",
      "metadata": {
        "id": "9tmmb0z54_3H"
      },
      "source": [
        "tableau_une_dimension = np.array([9, 8, 7, 6, 5, 4, 3, 2, 1, 0])\n",
        "print (\"Tableau à 1 dimension\\n\",tableau_une_dimension)\n",
        "print (\"\\nObtention des trois premiers éléments du tableau :\",tableau_une_dimension[0:3])\n",
        "print (\"\\nObtention des trois premiers éléments du tableau sans spécifier à gauche des ':' :\",tableau_une_dimension[:3])\n",
        "print (\"\\nObtention des derniers éléments après le troisième sans spécifier à droite des ':' :\",tableau_une_dimension[3:])\n",
        "print (\"\\nObtention des éléments du premier au dernier non compris avec un pas de 3 :\",tableau_une_dimension[1:9:3])\n",
        "\n",
        "print ()\n",
        "tableau_deux_dimensions = np.array([[9, 8, 7, 6, 5, 4, 3, 2, 1, 0],\n",
        "                                    [0, 1, 2, 3, 4, 5, 6, 7, 8, 9],\n",
        "                                    [9, 8, 7, 6, 5, 4, 3, 2, 1, 0],\n",
        "                                    [0, 1, 2, 3, 4, 5, 6, 7, 8, 9]])\n",
        "print (\"Tableau à 2 dimensions\\n\",tableau_deux_dimensions)\n",
        "print (\"\\nValeur pour la 2 ligne et colonne 3 :\",tableau_deux_dimensions[1,2])\n",
        "print (\"\\nTableau qui va de la ligne 1 à 3 et des colonnes 0 à 5 :\\n\",tableau_deux_dimensions[1:4,0:5])\n",
        "print (\"\\nTableau avec un saut de 2 dans les valeurs :\\n\",tableau_deux_dimensions[::2, ::2])"
      ],
      "execution_count": null,
      "outputs": []
    },
    {
      "cell_type": "markdown",
      "metadata": {
        "id": "Fj15yz784_3I"
      },
      "source": [
        "**Redimensionnement d'un tableau**  \n",
        "\n",
        "Il est parfois très utile de pouvoir redimensionner un tableau (certaines fonctions scikit learn nécessite d'avoir une vision en deux dimensions pour un tableau en une dimension). Il faut utiliser la fonction *reshape*. Syntaxe : namearray.reshape((un tuple de valeurs))"
      ]
    },
    {
      "cell_type": "code",
      "metadata": {
        "id": "ohvLG-k64_3I"
      },
      "source": [
        "tableau_une_dimension = np.array([5, 4, 3, 2, 1, 0])\n",
        "print (\"Transformation 1 dimension en 2 dimensions\")\n",
        "print (\"\\nTableau initial \",tableau_une_dimension)\n",
        "print (\"\\nShape du tableau\", tableau_une_dimension.shape)\n",
        "tableau_reshape_2D=tableau_une_dimension.reshape((tableau_une_dimension.shape[0], 1))\n",
        "print (\"\\nTableau transformé en 2 dimensions \\n\",tableau_reshape_2D)\n",
        "print (\"\\nShape du tableau\", tableau_reshape_2D.shape)\n",
        "\n",
        "print (\"\\nTransformation 2 dimensions en 3 dimensions\")\n",
        "tableau_deux_dimensions = np.array([[5, 4, 3, 2, 1],\n",
        "                                    [1, 2, 3, 4, 5]])\n",
        "print (\"\\nTableau initial \\n\",tableau_deux_dimensions)\n",
        "print (\"\\nShape du tableau\", tableau_deux_dimensions.shape)\n",
        "tableau_reshape_3D=tableau_deux_dimensions.reshape((tableau_deux_dimensions.shape[0],tableau_deux_dimensions.shape[1],1))\n",
        "print (\"\\nTableau transformé en 3 dimensions \\n\",tableau_reshape_3D)\n",
        "print (\"\\nShape du tableau\", tableau_reshape_3D.shape)"
      ],
      "execution_count": null,
      "outputs": []
    },
    {
      "cell_type": "markdown",
      "metadata": {
        "id": "krPxYnWf4_3J"
      },
      "source": [
        "**Transposition**   \n",
        "\n",
        "Il est possible de faire une transposition en utilisation la fonction *.transpose()* ou *.T*"
      ]
    },
    {
      "cell_type": "code",
      "metadata": {
        "id": "iTUzGs-c4_3J"
      },
      "source": [
        "tableau_deux_dimensions = np.array([[5, 4, 3, 2, 1],\n",
        "                                    [1, 2, 3, 4, 5]])\n",
        "print (\"\\nTableau initial \\n\",tableau_deux_dimensions)\n",
        "print (\"\\nTransposition avec .transpose()\",tableau_deux_dimensions.transpose())\n",
        "print (\"\\nTransposition avec .T\",tableau_deux_dimensions.T)"
      ],
      "execution_count": null,
      "outputs": []
    },
    {
      "cell_type": "markdown",
      "metadata": {
        "id": "VuGTSQTR4_3J"
      },
      "source": [
        "**Produit scalaire**  \n",
        "Le produit scalaire de deux tableaux (matrices) peut se faire via la fonction *.dot* appliquée à une matrice ou par la fonction *np.dot(matrice1,matrice2)*"
      ]
    },
    {
      "cell_type": "code",
      "metadata": {
        "id": "RXGzfpop4_3K"
      },
      "source": [
        "tableau_deux_dimensions = np.array([[5, 4, 3, 2, 1],\n",
        "                                    [1, 2, 3, 4, 5]])\n",
        "tableau_deux_dimensions2 = np.array([[5, 4, 3, 2, 1],\n",
        "                                    [1, 2, 3, 4, 5]])\n",
        "print (\"Produit scalaire de la matrice \\n\",tableau_deux_dimensions)\n",
        "print (\"\\navec \\n\",tableau_deux_dimensions2)\n",
        "print (\"\\nDans un premier temps il faut faire un transpose de la seconde matrice\\n \")\n",
        "tableau2_transpose=tableau_deux_dimensions2.transpose()\n",
        "print (tableau2_transpose)\n",
        "print (\"\\nProduit scalaire des 2 matrices avec .dot sur la première matrice\\n\",tableau_deux_dimensions.dot(tableau2_transpose))\n",
        "print (\"\\nProduit scalaire des 2 matrices avec np.dot\\n\",np.dot(tableau_deux_dimensions,tableau2_transpose))"
      ],
      "execution_count": null,
      "outputs": []
    },
    {
      "cell_type": "markdown",
      "metadata": {
        "id": "HzAn-mh34_3K"
      },
      "source": [
        "**Quelques fonctions utiles**"
      ]
    },
    {
      "cell_type": "code",
      "metadata": {
        "id": "n0hu7_ox4_3K"
      },
      "source": [
        "tableau_une_dimension = np.array([9, 8, 7, 6, 5, 4, 3, 2, 1, 0])\n",
        "\n",
        "print (\"Nombre d'éléments du tableau\\n\",len(tableau_une_dimension),' ',tableau_une_dimension.size)\n",
        "print (\"\\nMinimum du tableau\", tableau_une_dimension.min())\n",
        "print (\"\\nMaximum du tableau\", tableau_une_dimension.max())\n",
        "print (\"\\nMoyenne du tableau\", tableau_une_dimension.mean())\n",
        "print (\"\\nSomme des éléments du tableau\", tableau_une_dimension.sum())\n",
        "print (\"\\nTri du tableau \",np.sort(tableau_une_dimension))"
      ],
      "execution_count": null,
      "outputs": []
    },
    {
      "cell_type": "markdown",
      "metadata": {
        "id": "rMgyvXh-4_3L"
      },
      "source": [
        "## Les séries "
      ]
    },
    {
      "cell_type": "markdown",
      "metadata": {
        "id": "TFt7NqPj4_3L"
      },
      "source": [
        "Une série pandas peut être créée à partir du constructeur :"
      ]
    },
    {
      "cell_type": "markdown",
      "metadata": {
        "id": "BnUM5_x24_3L"
      },
      "source": [
        "    pandas.Series( data, index, dtype, copy)  \n",
        "où  \n",
        "*data* peut être un ndarray, une liste, des constantes  \n",
        "*index* doit être unique est hachable.  Par défaut : np.arrange(n) s'il n'y a pas d'index passé  \n",
        "*dtype* type de données. Déterminé automatiquement s'il n'est pas indiqué  \n",
        "*copy* copie des données. Par défaut : false  \n",
        "\n",
        "\n",
        "Il est nécessaire d'importer la librairie : "
      ]
    },
    {
      "cell_type": "code",
      "metadata": {
        "id": "zQ8iUOTw4_3M"
      },
      "source": [
        "import pandas as pd"
      ],
      "execution_count": null,
      "outputs": []
    },
    {
      "cell_type": "markdown",
      "metadata": {
        "id": "gvInR4Py4_3M"
      },
      "source": [
        "### Exemples de création de séries"
      ]
    },
    {
      "cell_type": "code",
      "metadata": {
        "id": "UfOq5MR14_3M"
      },
      "source": [
        "# création d'une série vide\n",
        "s=pd.Series()\n",
        "print ('Une série pandas vide :')\n",
        "print (s)\n",
        "\n",
        "import numpy as np\n",
        "# création d'une série par np.array\n",
        "data = np.array(['a','b','c','d'])\n",
        "s = pd.Series(data)\n",
        "print ('\\nUne série pandas par np.array sans index :')\n",
        "print (s)\n",
        "print ('\\nForme de la série :')\n",
        "print (s.shape)\n",
        "\n",
        "# création d'une série par np.array avec index\n",
        "data = np.array(['a','b','c','d'])\n",
        "s = pd.Series(data,index=[100,101,102,103])\n",
        "print ('\\nUne série pandas par np.array avec index :')\n",
        "print (s)\n",
        "\n",
        "\n",
        "# création d'une série par dictionnaire sans index\n",
        "data = {'a' : 5.1, 'b' : 2., 'c' : 6.3}\n",
        "s = pd.Series(data)\n",
        "print ('\\nUne série pandas par dictionnaire sans index :')\n",
        "print (s)\n",
        "\n",
        "# création d'une série par dictionnaire avec index\n",
        "data = {'a' : 5.1, 'b' : 2., 'c' : 6.3}\n",
        "s = pd.Series(data, index=['c','b','a'])\n",
        "print (\"\\nremarque : l'index change l'ordre par rapport au précédent\")\n",
        "print ('\\nUne série pandas par dictionnaire avec index :')\n",
        "print (s)\n",
        "\n",
        "\n",
        "# création d'une série par dictionnaire avec index\n",
        "data = {'a' : 5.1, 'b' : 2., 'c' : 6.3}\n",
        "s = pd.Series(data, index=['c','e','a','b'])\n",
        "print (\"\\nQuand l'index est plus grand, la valeur prend NaN (Not a Number)\")\n",
        "print ('\\nUne série pandas par dictionnaire avec index trop grand :')\n",
        "print (s)\n",
        "\n",
        "\n",
        "# création d'une série avec un scalaire et un index\n",
        "s = pd.Series(10, index=[100,200,300])\n",
        "print ('\\nUne série pandas par un scalaire avec index :')\n",
        "print (s)"
      ],
      "execution_count": null,
      "outputs": []
    },
    {
      "cell_type": "markdown",
      "metadata": {
        "id": "L-GgQcfB4_3N"
      },
      "source": [
        "### Accès aux éléments d'une série"
      ]
    },
    {
      "cell_type": "markdown",
      "metadata": {
        "id": "16lB2xs24_3N"
      },
      "source": [
        "Les éléments peuvent être accédés par leur position de la même manière qu'un ndarray (début position 0).  \n",
        "\n",
        "Retrouver un élément d'une liste"
      ]
    },
    {
      "cell_type": "code",
      "metadata": {
        "id": "1Ez6-IXR4_3N"
      },
      "source": [
        "s = pd.Series([1,2,3,4,5,6,7,8,9,10],\n",
        "              index = ['a','b','c','d','e','f','g','h','i','j'])"
      ],
      "execution_count": null,
      "outputs": []
    },
    {
      "cell_type": "code",
      "metadata": {
        "id": "tFkoupHk4_3N"
      },
      "source": [
        "print ('Le premier élément de la liste : ')\n",
        "print (s[0])\n",
        "\n",
        "print ('\\n Le dernier élément de la liste : ')\n",
        "print (s[len(s)-1])"
      ],
      "execution_count": null,
      "outputs": []
    },
    {
      "cell_type": "markdown",
      "metadata": {
        "id": "ztF_alFz4_3O"
      },
      "source": [
        "Retrouver les quatre premiers éléments de la liste. Si la valeur est précédée par : alors toutes les valeurs le précédent seront renvoyées "
      ]
    },
    {
      "cell_type": "code",
      "metadata": {
        "id": "InVT2bBr4_3O"
      },
      "source": [
        "# Les quatre premiers éléments\n",
        "print ('Les quatre premiers éléments')\n",
        "print (s[:4])\n",
        "\n",
        "# Les éléments entre 3 et 6\n",
        "print ('\\n Les éléments entre 4 et 6')\n",
        "print (s[3:6])\n",
        "\n",
        "# Les quatre derniers éléments \n",
        "print ('\\nLes quatre derniers éléments')\n",
        "print (s[-4:])"
      ],
      "execution_count": null,
      "outputs": []
    },
    {
      "cell_type": "markdown",
      "metadata": {
        "id": "zR5TgEeQ4_3O"
      },
      "source": [
        "Utilisation du nom de l'index"
      ]
    },
    {
      "cell_type": "code",
      "metadata": {
        "id": "iUx1eATq4_3O"
      },
      "source": [
        "# La première valeur de l'index\n",
        "print ('Le premier élément de la liste : ')\n",
        "print (s['a'])\n",
        "\n",
        "# La dernière valeur de l'index\n",
        "print ('Le dernier élément de la liste : ')\n",
        "print (s['j'])"
      ],
      "execution_count": null,
      "outputs": []
    },
    {
      "cell_type": "markdown",
      "metadata": {
        "id": "0fBcN2g24_3P"
      },
      "source": [
        "Il est possible d'indexer plusieurs valeurs"
      ]
    },
    {
      "cell_type": "code",
      "metadata": {
        "id": "8EPe7Uds4_3P"
      },
      "source": [
        "# indexation de plusieurs valeurs\n",
        "print (\"Les valeurs pour les index a, h, j : \")\n",
        "print (s[['a','h','j']])"
      ],
      "execution_count": null,
      "outputs": []
    },
    {
      "cell_type": "markdown",
      "metadata": {
        "id": "xNeAcA024_3P"
      },
      "source": [
        "## Les dataframes "
      ]
    },
    {
      "cell_type": "markdown",
      "metadata": {
        "id": "PlEriVmd4_3P"
      },
      "source": [
        "Un dataframe pandas peut être créé à partir du constructeur :"
      ]
    },
    {
      "cell_type": "markdown",
      "metadata": {
        "id": "ahrY841m4_3P"
      },
      "source": [
        "    pandas.DataFrame( data, index, columns, dtype, copy)  \n",
        "où  \n",
        "*data* peut être un ndarray, des séries, des map, des listes, des constantes ou un autre dataframe   \n",
        "*index* doit être unique est hachable.  Par défaut : np.arrange(n) s'il n'y a pas d'index passé    \n",
        "*columns* pour le nom des colonnes. Par défaut : np.arrange(n)  \n",
        "*dtype* le type de données de chaque colonne.    \n",
        "*copy* copie des données. Par défaut : false  \n",
        "\n",
        "Un dataframe peut être créé directement, importé d'un fichier CSV, importé d'une page HTML, de SQL, etc. Ici nous ne considérons que la création directe ou celle à partir d'un CSV. Pour de plus amples information ne pas hésiter à ce reporter à la page officielle de pandas (https://pandas.pydata.org).  \n",
        "\n",
        "Il est nécessaire d'importer la librairie :"
      ]
    },
    {
      "cell_type": "code",
      "metadata": {
        "id": "asuVSlkw4_3Q"
      },
      "source": [
        "import pandas as pd"
      ],
      "execution_count": null,
      "outputs": []
    },
    {
      "cell_type": "markdown",
      "metadata": {
        "id": "ge7m--Ag4_3Q"
      },
      "source": [
        "### Exemple de création de dataframe "
      ]
    },
    {
      "cell_type": "code",
      "metadata": {
        "id": "U2vXfvR84_3Q"
      },
      "source": [
        "# création d'un dataframe vide\n",
        "df=pd.DataFrame()\n",
        "print ('Un dataframe pandas vide :')\n",
        "print (df)\n",
        "\n",
        "\n",
        "# création d'un dataframe à partir d'une liste\n",
        "data = ['a','b','c','d']\n",
        "df = pd.DataFrame(data)\n",
        "print (\"\\nUn dataframe pandas à partir d'une liste :\")\n",
        "print (df)\n",
        "# il est possible d'utiliser display (df)\n",
        "display(df)\n",
        "# création d'un dataframe à partir d'une liste\n",
        "data = [['France','Paris'],['Allemagne','Berlin'],\n",
        "        ['Italie','Rome']]\n",
        "df = pd.DataFrame(data)\n",
        "print (\"\\nUn dataframe pandas à partir d'une liste :\")\n",
        "print (df)\n",
        "\n",
        "\n",
        "# création d'un dataframe à partir d'une liste\n",
        "data = [['France','Paris'],['Allemagne','Berlin'],\n",
        "        ['Italie','Rome']]\n",
        "df = pd.DataFrame(data, )\n",
        "print (\"\\nUn dataframe pandas à partir d'une liste :\")\n",
        "print (df)\n",
        "\n",
        "# création d'un dataframe à partir d'une liste avec noms de colonnes\n",
        "data = [['France','Paris'],['Allemagne','Berlin'],['Italie','Rome']]\n",
        "df = pd.DataFrame(data, columns=['Pays','Capitale'])\n",
        "print (\"\\nUn dataframe pandas à partir d'une liste avec noms de colonnes :\")\n",
        "print (df)\n",
        "\n",
        "\n",
        "# création d'un dataframe à partir d'une liste avec noms de colonnes et typage\n",
        "data = [['France',67186640],['Allemagne',82695000],\n",
        "        ['Italie',59464644]]\n",
        "df = pd.DataFrame(data, \n",
        "                  columns=['Pays','Habitants'], \n",
        "                  dtype=int)\n",
        "print (\"\\nUn dataframe pandas à partir d'une liste avec noms de colonnes et typage :\")\n",
        "print (df)\n",
        "print (\"Les types des colonnes sont :\")\n",
        "print (df.info())\n",
        "\n",
        "# Création d'un dataframe à partir d'un dictionnaire\n",
        "df = pd.DataFrame(\n",
        "    {'Nom': ['Pierre', 'Paul', 'Jean','Michel'], \n",
        "     'Age': [25, 32, 43,60]})\n",
        "print (\"\\nUn dataframe pandas à partir d'un dictionnaire :\")\n",
        "print(df)\n",
        "\n",
        "# Création d'un dataframe à partir d'un dictionnaire en renommant les index\n",
        "df = pd.DataFrame(\n",
        "    {'Nom': ['Pierre', 'Paul', 'Jean','Michel'], \n",
        "     'Age': [25, 32, 43,60]},\n",
        "      index = ['i1', 'i2', 'i3','i4'])\n",
        "print (\"\\nUn dataframe pandas à partir d'un dictionnaire en renommant les index :\")\n",
        "print(df)\n",
        "\n",
        "# Création d'un dataframe à partir d'une liste de dictionnaires \n",
        "df = pd.DataFrame(\n",
        "    [{'a':10, 'b':15,'c':30,'d':40 }, \n",
        "     {'a':25, 'b':32, 'd':60}])\n",
        "print (\"\\nUn dataframe pandas à partir d'une liste de dictionnaires :\")\n",
        "print(df)\n",
        "\n",
        "# Création d'un dataframe à partir d'une liste de dictionnaires en renommant les index\n",
        "df = pd.DataFrame(\n",
        "    [{'a':10, 'b':15,'c':30,'d':40 }, \n",
        "     {'a':25, 'b':32, 'd':60}],\n",
        "    index=['premier', 'second'])\n",
        "print (\"\\nNoter le NaN (Not a Numeric number) quand il n'y a pas de valeur\")\n",
        "print (\"\\nUn dataframe pandas à partir d'une liste de dictionnaires en renommant les index :\")\n",
        "print(df)\n",
        "\n",
        "# Création d'un dataframe à partir d'une liste de dictionnaires et sélection des colonnes\n",
        "data=[{'a':10, 'b':15,'c':30,'d':40 }, \n",
        "     {'a':25, 'b':32, 'd':60}]\n",
        "df = pd.DataFrame(data,\n",
        "                  index=['premier', 'second'],\n",
        "                  columns=['a','d'])\n",
        "print (\"\\nNoter le NaN (Not a Numeric number quand il n'y a pas de valeur\")\n",
        "print (\"\\nUn dataframe pandas à partir d'une liste de dictionnaires en sélectionnant des colonnes :\")\n",
        "print(df)"
      ],
      "execution_count": null,
      "outputs": []
    },
    {
      "cell_type": "markdown",
      "metadata": {
        "id": "StZ1840y4_3Q"
      },
      "source": [
        "### Création de dataframe à partir d'un fichier CSV "
      ]
    },
    {
      "cell_type": "markdown",
      "metadata": {
        "id": "8g9pLTpK4_3Q"
      },
      "source": [
        "Il est possible de créer un data frame à partir d'un fichier csv :\n",
        "\n",
        "    df = pandas.read_csv('myFile.csv')  \n",
        "    \n",
        "Il existe de très nombreuses options (voir https://pandas.pydata.org/pandas-docs/stable/generated/pandas.read_csv.html).  \n",
        "\n",
        "Par défaut suppose qu'il y a un header (header = 0) et qu'il n'y a pas de noms de colonnes.  \n",
        "encoding='latin1' indique que le contenu doit être converti. Par défaut 'UTF-8'. \n",
        "sep = '\\t' indique que le séparateur est une tabulation plutôt qu'une virgule.  \n",
        "Pour donner un nom aux colonnes : names = ['col1','col2',...,'coln'].\n",
        "Pour préciser les types de certaines colonnes, dtype = {'col1': str, 'col2': int, ...'col4': float}.  \n",
        "Pour sauter des lignes au début du fichier : skiprows = nombre de lignes à sauter. Attention la première ligne sera considérée comme celle des attributs  \n",
        "Pour lire un nombre limité de lignes : nrows = nombre de lignes à lire  \n"
      ]
    },
    {
      "cell_type": "code",
      "metadata": {
        "id": "nMRNEI-E4_3R"
      },
      "source": [
        "# A partir d'un fichier csv\n",
        "url = \"https://archive.ics.uci.edu/ml/machine-learning-databases/iris/iris.data\"\n",
        "names = ['sepal-length', 'sepal-width', \n",
        "         'petal-length', 'petal-width', 'class']\n",
        "\n",
        "df = pd.read_csv(url, names=names)\n",
        "# 5 premières lignes du fichier\n",
        "df.head()"
      ],
      "execution_count": null,
      "outputs": []
    },
    {
      "cell_type": "markdown",
      "metadata": {
        "id": "MUeEgHVA4_3R"
      },
      "source": [
        "Considérer le fichier exemple.csv suivant :  "
      ]
    },
    {
      "cell_type": "code",
      "metadata": {
        "id": "0r62kwcj4_3R"
      },
      "source": [
        "#Création d'un fichier exemple\n",
        "fichier = open(\"exemple.csv\", \"w\")\n",
        "fichier.write(\"A;B;C;D\\n\")\n",
        "fichier.write(\"Pierre;10;18.5;14.5\\n\")\n",
        "fichier.write(\"Paul;12;18.7;15.5\\n\")\n",
        "fichier.write(\"Jacques;11;15.3;15.5\\n\")\n",
        "fichier.close()"
      ],
      "execution_count": null,
      "outputs": []
    },
    {
      "cell_type": "code",
      "metadata": {
        "id": "1JacLN5c4_3R"
      },
      "source": [
        "# lecture du fichier en changeant de séparateur\n",
        "df = pd.read_csv('exemple.csv',sep=';')\n",
        "print (\"Lecture du fichier exemple.csv avec un séparateur ;\\n\")\n",
        "print (df)\n",
        "\n",
        "# lecture du fichier sans lire la première ligne\n",
        "df = pd.read_csv('exemple.csv',sep=';', skiprows=1)\n",
        "print (\"\\nLecture du fichier exemple.csv en sautant\")\n",
        "print (\"une ligne attention la première ligne devient la liste des attributs.\\n\")\n",
        "print (df)\n",
        "\n",
        "\n",
        "# lecture du fichier en mettant des noms aux colonnes\n",
        "df = pd.read_csv('exemple.csv',sep=';',skiprows=1,\n",
        "                 names=['Nom','Age','Note1','Note2'])\n",
        "print (\"\\nLecture du fichier exemple.csv en sautant\")\n",
        "print (\"une ligne et en mettant des noms aux attributs.\")\n",
        "print (\"La première ligne commence au bon index. \\n\")\n",
        "print (df)"
      ],
      "execution_count": null,
      "outputs": []
    },
    {
      "cell_type": "markdown",
      "metadata": {
        "id": "KtNX4LQV4_3S"
      },
      "source": [
        "### Accès aux éléments d'un dataframe "
      ]
    },
    {
      "cell_type": "markdown",
      "metadata": {
        "id": "RAn-X_Ih4_3S"
      },
      "source": [
        "Comme les séries les dataframes peuvent être accédés par leur position de la même manière qu'un ndarray (début position 0), par les index ou par le nom de la colonne. L'intérêt des dataframe est justement de pouvoir utiliser le nom des colonnes pour les accès."
      ]
    },
    {
      "cell_type": "code",
      "metadata": {
        "id": "1RboeQr14_3S"
      },
      "source": [
        "df = pd.DataFrame(\n",
        "    {'Nom': ['Pierre', 'Paul', 'Jean','Michel'], \n",
        "     'Age': [25, 32, 43,60]},\n",
        "      index = ['i1', 'i2', 'i3','i4'])\n",
        "\n",
        "print('Le dataframe : ')\n",
        "print (\"\\n\",df)\n",
        "\n",
        "print ('\\nLa colonne correspondant au Nom dans le dataframe :  ')\n",
        "print (\"\\n\",df['Nom'])"
      ],
      "execution_count": null,
      "outputs": []
    },
    {
      "cell_type": "markdown",
      "metadata": {
        "id": "wY54m4Ik4_3T"
      },
      "source": [
        "**Accès aux lignes d'un dataframe**  \n",
        "Il est possible d'accéder aux lignes d'un dataframe par leur nom ou bien en précisant l'intervalle."
      ]
    },
    {
      "cell_type": "code",
      "metadata": {
        "id": "qAUzxl4z4_3T"
      },
      "source": [
        "print (\"La ligne corrspondant à l'index i3 avec loc :\")\n",
        "print (df.loc[['i3']])\n",
        "\n",
        "print (\"\\nLes trois premières lignes avec loc :\")\n",
        "# df.loc[inclusive:inclusive]\n",
        "print (df.loc['i1':'i3'])\n",
        "\n",
        "\n",
        "print ('\\nLa première ligne du dataframe en utilisant la position : ')\n",
        "print (df[:1])\n",
        "\n",
        "\n",
        "print ('\\nLa dernière ligne du dataframe en utilisant la position :  ')\n",
        "print (df[len(df)-1:])\n",
        "\n",
        "print ('\\nLes lignes 2 et 3 du dataframe en utilisant la position :  ')\n",
        "print (df[1:3])\n",
        "# df.iloc[inclusive:exclusive]\n",
        "# Note: .iloc est uniquement lié à \n",
        "#la position et non pas au nom de l'index\n",
        "print (\"\\nLes lignes 2 et 3 du dataframe avec iloc : \")\n",
        "print (df.iloc[1:3])"
      ],
      "execution_count": null,
      "outputs": []
    },
    {
      "cell_type": "markdown",
      "metadata": {
        "id": "JhkxhpED4_3T"
      },
      "source": [
        "Il est possible de spécifier les colonnes dans le résultat "
      ]
    },
    {
      "cell_type": "code",
      "metadata": {
        "id": "KvyKZR5d4_3T"
      },
      "source": [
        "df.loc[['i3'],['Age']]"
      ],
      "execution_count": null,
      "outputs": []
    },
    {
      "cell_type": "markdown",
      "metadata": {
        "id": "kX5sDteg4_3U"
      },
      "source": [
        "## Manipulation des dataframes"
      ]
    },
    {
      "cell_type": "markdown",
      "metadata": {
        "id": "tHq-aARM4_3U"
      },
      "source": [
        "### Information sur les dataframes"
      ]
    },
    {
      "cell_type": "markdown",
      "metadata": {
        "id": "BCnfVomQ4_3U"
      },
      "source": [
        "pandas propose de nombreuses fonctions pour connaître les informations des dataframes."
      ]
    },
    {
      "cell_type": "markdown",
      "metadata": {
        "id": "qy43Ouk04_3U"
      },
      "source": [
        "   *df.info()* : donne des infos sur le dataframe  \n",
        "    *df.head()* : retourne les 5 premières lignes  \n",
        "    *df.tail()* : retourne les 5 dernières lignes  \n",
        "    *df.sample()* : retourne un ensemble aléatoire de données\n",
        "    *df.head(10)* (*df.tail(10)*) : retourne les 10 premières lignes (resp. les 10 dernières)\n",
        "    *df.shape* : renvoie la taille du dataframe avec nombre de lignes, nombre de colonnes \n",
        "    *df.ndim* : retourne le nombre de dimensions  \n",
        "    *df.columns* : retourne les noms des colonnes    \n",
        "    *df.columns.values* : le nom des colonnes sous forme d'array numpy    \n",
        "    *df.dtypes* : retourne les différents types du dataframe    \n",
        "    *df.index* : les noms des lignes (individus)    \n",
        "    *df.index.values* : le nom des lignes sous forme d'array numpy    \n",
        "    *df.values* : pour récupérer le dataframe sous forme d'array numpy 2d  \n",
        "    *df.describe()* : renvoie un dataframe donnant des statistiques, pour les colonnes numériques, sur les valeurs (nombres de valeurs, moyenne, écart-type, ...)"
      ]
    },
    {
      "cell_type": "code",
      "metadata": {
        "id": "-MDH6Q8m4_3U"
      },
      "source": [
        "url = \"https://archive.ics.uci.edu/ml/machine-learning-databases/iris/iris.data\"\n",
        "names = ['SepalLengthCm', 'SepalWidthCm', \n",
        "         'PetalLengthCm', 'PetalWidthCm', 'Species']\n",
        "\n",
        "df = pd.read_csv(url, names=names)\n",
        "\n",
        "print (\"Info \\n\")\n",
        "print (df.info())\n",
        "print (\"\\nLes deux premières lignes\\n\")\n",
        "print (df.head(2))\n",
        "print (\"\\nLes deux dernières lignes\\n\")\n",
        "print (df.tail(2))\n",
        "print (\"\\nCinq lignes au hasard\\n\")\n",
        "print (df.sample(5))\n",
        "print ('\\nDimension du dataframe\\n')\n",
        "print (df.shape)\n",
        "print ('\\n\\t Il y a :',df.shape[0],'lignes et',\n",
        "       df.shape[1], 'colonnes\\n')\n",
        "print ('\\nLe nombre de dimensions\\n')\n",
        "print (df.ndim)\n",
        "print ('\\nLes différents type du dataframe\\n')\n",
        "print (df.dtypes)\n",
        "\n",
        "print (\"\\nNoms des colonnes\\n\")\n",
        "print (df.columns)\n",
        "print ('\\nNom des index\\n')\n",
        "print (df.index)\n",
        "print ('\\nStatistiques élémentaires\\n')\n",
        "print (df.describe())"
      ],
      "execution_count": null,
      "outputs": []
    },
    {
      "cell_type": "markdown",
      "metadata": {
        "id": "Viioh7CZ4_3V"
      },
      "source": [
        "<H2> Faire une copie d'un dataframe </H2>\n",
        "\n",
        "Il est parfois utile de faire une copie d'un dataframe. Il existe deux manières différentes.  \n",
        "\n",
        "df2=df  \n",
        "\n",
        "**Attention** toute modification faite sur df2 sera aussi reportée sur df  \n",
        "\n",
        "Il existe également la possibilité de faire une copie superficielle (cf la cas précédent) ou une copie en profondeur. La copie superficielle créée une structure qui pointe sur les mêmes données donc toute modification des données via la copie va impacter le dataframe original.   \n",
        "Pour effectuer une copie en profondeur : création d'une nouvelle structure et duplication des données vers la copie, il faut utiliser :  \n",
        "\n",
        "df2=df.copy(deep=True)  \n",
        "\n",
        "Par défaut : deep vaut False (*df.copy(deep=False)*) la copie est superficielle.\n"
      ]
    },
    {
      "cell_type": "markdown",
      "metadata": {
        "id": "JhKTCHUQ4_3V"
      },
      "source": [
        "### Manipulation des colonnes et des lignes "
      ]
    },
    {
      "cell_type": "code",
      "metadata": {
        "id": "Zn5qzJbv4_3V"
      },
      "source": [
        "#Dataframe  \n",
        "d = [1,2,3,4,5]\n",
        "\n",
        "df = pd.DataFrame(d)\n",
        "print (df)"
      ],
      "execution_count": null,
      "outputs": []
    },
    {
      "cell_type": "markdown",
      "metadata": {
        "id": "EEFRmgT84_3W"
      },
      "source": [
        "**Changement du nom de colonne**"
      ]
    },
    {
      "cell_type": "code",
      "metadata": {
        "id": "S1Ju8s2H4_3W"
      },
      "source": [
        "# Changement du nom de colonne\n",
        "df.columns = ['Colonne']\n",
        "print (df)"
      ],
      "execution_count": null,
      "outputs": []
    },
    {
      "cell_type": "markdown",
      "metadata": {
        "id": "VKDYwU4M4_3W"
      },
      "source": [
        "**Selection par valeur**"
      ]
    },
    {
      "cell_type": "code",
      "metadata": {
        "id": "BcUReuXR4_3W"
      },
      "source": [
        "print (\"Pour une valeur :\")\n",
        "print (df.loc[df['Colonne']==1])\n",
        "\n",
        "print (\"\\nEn prenant plusieurs valeurs avec isin :\")\n",
        "print(df.loc[df['Colonne'].isin([1,2])])"
      ],
      "execution_count": null,
      "outputs": []
    },
    {
      "cell_type": "markdown",
      "metadata": {
        "id": "pTaIu8qM4_3X"
      },
      "source": [
        "**Trier les valeurs d'une colonne**"
      ]
    },
    {
      "cell_type": "code",
      "metadata": {
        "id": "F9jHU7Cv4_3X"
      },
      "source": [
        "print ('Tri par ordre décroissant :')\n",
        "print(df.sort_values(by='Colonne',ascending=False))\n",
        "\n",
        "print ('\\nTri par ordre croissant (par défaut) : ')\n",
        "print(df.sort_values(by='Colonne'))"
      ],
      "execution_count": null,
      "outputs": []
    },
    {
      "cell_type": "markdown",
      "metadata": {
        "id": "BZLstJu84_3X"
      },
      "source": [
        "**Statistiques sur une colonne**"
      ]
    },
    {
      "cell_type": "code",
      "metadata": {
        "id": "sXG2DlYL4_3X"
      },
      "source": [
        "print (\"Moyenne de la colonne : \")\n",
        "print(df['Colonne'].mean())\n",
        "\n",
        "print ('\\nMaximum de la colonne :')\n",
        "print(df['Colonne'].max())\n",
        "\n",
        "print ('\\nMinimul de la colonne :')\n",
        "print(df['Colonne'].min())\n",
        "\n",
        "print (\"\\nComptage des différentes valeurs de la colonne :\")\n",
        "print(df['Colonne'].value_counts())\n",
        "print (\"\\nAjout d'une nouvelle ligne avec 5 pour vérifier : \")\n",
        "df.loc[len(df)] = [5]\n",
        "print (df)\n",
        "print(df['Colonne'].value_counts())\n",
        "df=df.drop(df.index[-1])"
      ],
      "execution_count": null,
      "outputs": []
    },
    {
      "cell_type": "markdown",
      "metadata": {
        "id": "h7cIXhH64_3Y"
      },
      "source": [
        "**Ajout d'une colonne**"
      ]
    },
    {
      "cell_type": "code",
      "metadata": {
        "id": "IpeNBHFj4_3Y"
      },
      "source": [
        "# Ajout d'une colonne avec 1 comme valeur\n",
        "df['Nouvelle Colonne'] = 1\n",
        "print (df)\n",
        "\n",
        "print (\"\\nSélection par valeur sur plusieurs colonnes avec un ET : \")\n",
        "print (df.loc[(df['Colonne']==3) & (df['Nouvelle Colonne']==1)])\n",
        "\n",
        "print (\"\\nSélection par valeur sur plusieurs colonnes avec un OU : \")\n",
        "print (df.loc[(df['Colonne']==3) | (df['Nouvelle Colonne']==1)])"
      ],
      "execution_count": null,
      "outputs": []
    },
    {
      "cell_type": "markdown",
      "metadata": {
        "id": "7fiYWtSq4_3Y"
      },
      "source": [
        "**Modification d'une colonne**"
      ]
    },
    {
      "cell_type": "code",
      "metadata": {
        "id": "QXt-Dybc4_3Y"
      },
      "source": [
        "# Modification de la colonne en ajoutant un nombre aléaloire\n",
        "import random\n",
        "nb=random.randint(1, 6)\n",
        "df['Nouvelle Colonne'] = df['Nouvelle Colonne'] + nb\n",
        "df"
      ],
      "execution_count": null,
      "outputs": []
    },
    {
      "cell_type": "markdown",
      "metadata": {
        "id": "mS-Itk_K4_3Y"
      },
      "source": [
        "**Supression d'une colonne**"
      ]
    },
    {
      "cell_type": "code",
      "metadata": {
        "id": "xDsWk1KY4_3Y"
      },
      "source": [
        "# Supression d'une colonne\n",
        "del df['Nouvelle Colonne']\n",
        "df"
      ],
      "execution_count": null,
      "outputs": []
    },
    {
      "cell_type": "markdown",
      "metadata": {
        "id": "_kJ2almJ4_3Z"
      },
      "source": [
        "**Ajout d'une ligne**"
      ]
    },
    {
      "cell_type": "code",
      "metadata": {
        "id": "-vHBS08j4_3Z"
      },
      "source": [
        "print (\"Ajout d'une ligne à la fin : \")\n",
        "df.loc[len(df)] = [6]\n",
        "print (df)\n",
        "\n",
        "print (\"\\nAjout d'une ligne au début attention il faut reorganiser les index : \")\n",
        "df.loc[-1]=[7]\n",
        "df.index = df.index + 1  # reorganiser les index\n",
        "df = df.sort_index()  # trier les index\n",
        "print (df)"
      ],
      "execution_count": null,
      "outputs": []
    },
    {
      "cell_type": "markdown",
      "metadata": {
        "id": "iwuMA4Co4_3Z"
      },
      "source": [
        "**Modification d'une ligne**"
      ]
    },
    {
      "cell_type": "code",
      "metadata": {
        "id": "2TRo0CuC4_3Z"
      },
      "source": [
        "print (df)\n",
        "print (\"Modification de la valeur de la troisième ligne\")\n",
        "df.loc[3] = [10]\n",
        "print (df)"
      ],
      "execution_count": null,
      "outputs": []
    },
    {
      "cell_type": "markdown",
      "metadata": {
        "id": "imiYfhgA4_3Z"
      },
      "source": [
        "**Suppression d'une ligne**"
      ]
    },
    {
      "cell_type": "code",
      "metadata": {
        "id": "ks43udCJ4_3a"
      },
      "source": [
        "print (\"En utilisant une condition sur la colone : \\n\")\n",
        "print (\"Avant \",df)\n",
        "df=df[df['Colonne']!=3]\n",
        "print (\"\\nAprès \",df)\n",
        "\n",
        "print (\"\\nEn utilisant les index (suppression de la dernière ligne) : \")\n",
        "df=df.drop(df.index[-1])\n",
        "print (df)"
      ],
      "execution_count": null,
      "outputs": []
    },
    {
      "cell_type": "markdown",
      "metadata": {
        "id": "xaOPtMZx4_3a"
      },
      "source": [
        "**Suppression d'une ligne dont la valeur est NaN**"
      ]
    },
    {
      "cell_type": "code",
      "metadata": {
        "id": "RVJ6cHhC4_3a"
      },
      "source": [
        "print (\"Ajout d'une ligne à la fin ne contenant rien (utilisant de numpy nan) : \")\n",
        "df.loc[len(df)] = [np.nan]\n",
        "print (df)\n",
        "\n",
        "print (\"\\nSuppression des lignes n'ayant pas de valeur : \")\n",
        "df=df.dropna()\n",
        "print (df)"
      ],
      "execution_count": null,
      "outputs": []
    },
    {
      "cell_type": "markdown",
      "metadata": {
        "id": "Vi-LonJS4_3a"
      },
      "source": [
        "**re-indexer un index**"
      ]
    },
    {
      "cell_type": "code",
      "metadata": {
        "id": "XCE4Y6Gi4_3a"
      },
      "source": [
        "df = df.reset_index(drop=True)\n",
        "df"
      ],
      "execution_count": null,
      "outputs": []
    },
    {
      "cell_type": "markdown",
      "metadata": {
        "id": "5FPMnv3z4_3b"
      },
      "source": [
        "**Changement du nom des index**"
      ]
    },
    {
      "cell_type": "code",
      "metadata": {
        "id": "wLbJLqGp4_3b"
      },
      "source": [
        "#il est possible de changer les noms ou valeurs des index\n",
        "d = [1,2,3,4,5]\n",
        "\n",
        "df = pd.DataFrame(d,columns = ['Colonne'])\n",
        "print (\"Dataframe initial :\\n \",df)\n",
        "i = [100,200,300,400,500]\n",
        "df.index = i\n",
        "print (\"\\nDataframe en changeant de valeur d'index : \\n\",df)\n",
        "\n",
        "i = ['a','b','c','d','e']\n",
        "df.index = i\n",
        "print (\"\\nDataframe en changeant de valeur d'index avec des lettres : \\n\",df)"
      ],
      "execution_count": null,
      "outputs": []
    },
    {
      "cell_type": "markdown",
      "metadata": {
        "id": "FfRks5rt4_3b"
      },
      "source": [
        "**Application d'une fonction à un dataframe**"
      ]
    },
    {
      "cell_type": "code",
      "metadata": {
        "id": "MNK6fJTk4_3b"
      },
      "source": [
        "def multiplication (x):\n",
        "    return 100*x\n",
        "\n",
        "print (df['Colonne'].apply(multiplication))"
      ],
      "execution_count": null,
      "outputs": []
    },
    {
      "cell_type": "markdown",
      "metadata": {
        "id": "-dHVU_HL4_3b"
      },
      "source": [
        "**Boucler sur les colonnes**"
      ]
    },
    {
      "cell_type": "code",
      "metadata": {
        "id": "NdbyC36y4_3b"
      },
      "source": [
        "df = pd.DataFrame(\n",
        "    {'Nom': ['Pierre', 'Paul', 'Jean','Michel'], \n",
        "     'Age': [23, 22, 23,20],\n",
        "     'Note' : [15, 13, 14, 16]},\n",
        "      index = ['i1', 'i2', 'i3','i4'])"
      ],
      "execution_count": null,
      "outputs": []
    },
    {
      "cell_type": "code",
      "metadata": {
        "id": "L_PlT0DW4_3c"
      },
      "source": [
        "# il est possible de boucler sur les colonnes\n",
        "for col in df.columns:\n",
        "              print(df[col].dtype)"
      ],
      "execution_count": null,
      "outputs": []
    },
    {
      "cell_type": "markdown",
      "metadata": {
        "id": "YfFrTsww4_3c"
      },
      "source": [
        "**Trier les colonnes**"
      ]
    },
    {
      "cell_type": "markdown",
      "metadata": {
        "id": "dlzL-q5V4_3c"
      },
      "source": [
        "Il est possible de trier l'ensemble du dataframe par en fonction de valeur de colonnes à l'aide de la fonction sort_values."
      ]
    },
    {
      "cell_type": "code",
      "metadata": {
        "id": "bmqmFrvz4_3c"
      },
      "source": [
        "print (\"Dataframe initial : \\n\")\n",
        "print (df)\n",
        "\n",
        "print (\"\\nDataframe trié par Age : \\n\")\n",
        "print (df.sort_values(by=['Age'], ascending=True))\n",
        "\n",
        "print (\"\\nDataframe trié par Age et Note : \\n\")\n",
        "print (df.sort_values(by=['Age','Note'], \n",
        "                      ascending=True))"
      ],
      "execution_count": null,
      "outputs": []
    },
    {
      "cell_type": "markdown",
      "metadata": {
        "id": "lyr4cNBZ4_3c"
      },
      "source": [
        "**Groupby**"
      ]
    },
    {
      "cell_type": "markdown",
      "metadata": {
        "id": "2xRB0Ofu4_3d"
      },
      "source": [
        "Il est possible de faire des group by comme en SQL : "
      ]
    },
    {
      "cell_type": "code",
      "metadata": {
        "id": "wLnKbErK4_3d"
      },
      "source": [
        "# Definition du groupby sur la colonne note\n",
        "g = df.groupby('Note')\n",
        "\n",
        "# Il est possible de faire une boucle sur toutes les partitions\n",
        "for groupe in g:\n",
        "    #groupe est un tuple\n",
        "    print(groupe[0]) # valeur du partitionnement\n",
        "    # Affichage des valeurs \n",
        "    print(groupe[1])\n",
        "    print (\"\\n\") "
      ],
      "execution_count": null,
      "outputs": []
    },
    {
      "cell_type": "markdown",
      "metadata": {
        "id": "MGu1loTS4_3d"
      },
      "source": [
        "### Travailler avec plusieurs dataframes"
      ]
    },
    {
      "cell_type": "markdown",
      "metadata": {
        "id": "psqDyU0V4_3d"
      },
      "source": [
        "**Concaténation**  \n",
        "Il est possible de concaténer des dataframes à l'aide de la fonction *concat*"
      ]
    },
    {
      "cell_type": "code",
      "metadata": {
        "id": "nf0NYLYo4_3d"
      },
      "source": [
        "df = pd.DataFrame(\n",
        "    {'Nom': ['Pierre', 'Paul', 'Jean','Michel'], \n",
        "     'Age': [25, 32, 43,60],\n",
        "     'Note' : [14, 13, 14, 16],\n",
        "     'Sujet_id' : [5,3,1,4]},\n",
        "      index = ['i1', 'i2', 'i3','i4'])\n",
        "\n",
        "df2 = pd.DataFrame(\n",
        "    { 'Sujet_id' : [1, 2, 3, 4],\n",
        "      'Libelle' : ['Math','Informatique','Physique','Chimie']})\n",
        "    \n",
        "print ('Dataframe 1 : \\n',df)\n",
        "print ('\\nDataframe 1 : \\n',df2)\n",
        "\n",
        "print ('\\nConcaténation de deux dataframes en ligne : ')\n",
        "print (pd.concat([df, df2]))\n",
        "\n",
        "print ('\\nConcaténation de deux dataframes en colonne : ')\n",
        "print (pd.concat([df, df2], axis=1))"
      ],
      "execution_count": null,
      "outputs": []
    },
    {
      "cell_type": "markdown",
      "metadata": {
        "id": "dAwdwbT-4_3d"
      },
      "source": [
        "**Jointure**  \n",
        "Il est possible d'exprimer différentes jointures (inner, outer, left, right) à l'aide de *merge*  "
      ]
    },
    {
      "cell_type": "code",
      "metadata": {
        "id": "cfhRk-8D4_3d"
      },
      "source": [
        "print (\"\\nJointure de deux dataframes en fonction de Sujet_id : \")\n",
        "print (pd.merge(df, df2, on='Sujet_id', how='inner'))\n",
        "\n",
        "print (\"\\nJointure externe (outer join) de deux dataframes en fonction de Sujet_id : \")\n",
        "print (pd.merge(df, df2, on='Sujet_id', how='outer'))\n",
        "\n",
        "\n",
        "print (\"\\nJointure externe droite (right outer join) : \\n\")\n",
        "print (pd.merge(df, df2, on='Sujet_id', how='right'))\n",
        "\n",
        "print (\"\\nJointure externe gauche (left outer join) : \\n\")\n",
        "print (pd.merge(df, df2, on='Sujet_id', how='left'))"
      ],
      "execution_count": null,
      "outputs": []
    },
    {
      "cell_type": "markdown",
      "metadata": {
        "id": "KiIbLj6c4_3e"
      },
      "source": [
        "### Sauvegarde des dataframes "
      ]
    },
    {
      "cell_type": "markdown",
      "metadata": {
        "id": "1eJBGwQi4_3e"
      },
      "source": [
        "Un dataframe peut être sauvegardé dans un fichier CSV."
      ]
    },
    {
      "cell_type": "code",
      "metadata": {
        "id": "YrYKrnZ74_3e"
      },
      "source": [
        "df.to_csv('myFile.csv')  "
      ],
      "execution_count": null,
      "outputs": []
    },
    {
      "cell_type": "markdown",
      "metadata": {
        "id": "LanDzny74_3e"
      },
      "source": [
        "\n",
        "*Separateur*. Par défaut le séparateur est une virgule. df.to_csv('myFile.csv', sep = '\\t') utilise une tabulation comme séparateur  \n",
        "*Header* Par defaut le header est sauvegardé. df.to_csv('myFile.csv', header=false) pour ne pas sauver l'entête  \n",
        "*Index* Par défaut le nom des lignes est sauvegardé. df.to_csv('myFile.csv', index=false) pour ne pas les sauvegarder  \n",
        "*NaN* Par défaut les NaN sont considérées comme des chaînes vides. Il est possible de remplacer le caractère. df.to_csv('myFile.csv', na_rep='-') remplace les valeurs manquantes par des -.  \n"
      ]
    },
    {
      "cell_type": "code",
      "metadata": {
        "id": "XLPrQG3j4_3e"
      },
      "source": [
        "df = pd.DataFrame(\n",
        "    {'Nom': ['Pierre', 'Paul', 'Jean','Michel'], \n",
        "     'Age': [25, 32, 43,60],\n",
        "     'Note' : [14, 13, 14, 16],\n",
        "     'Sujet_id' : [5,3,1,4]},\n",
        "      index = ['i1', 'i2', 'i3','i4'])\n",
        "\n",
        "import sys\n",
        "print ('Affichage du fichier sauvegardé sur stdout \\n')\n",
        "df.to_csv(sys.stdout)\n",
        "\n",
        "print ('\\nAffichage du fichier sauvegardé avec tabulation \\n')\n",
        "df.to_csv(sys.stdout,sep='\\t')\n",
        "\n",
        "print ('\\nAffichage du fichier sauvegardé avec tabulation sans header\\n')\n",
        "df.to_csv(sys.stdout,sep='\\t', header=False)\n",
        "\n",
        "\n",
        "print ('\\nAffichage du fichier sauvegardé avec tabulation sans index \\n')\n",
        "df.to_csv(sys.stdout,sep='\\t', index=False)\n",
        "\n",
        "print ('\\nSauvegarde du fichier monfichier.csv \\n')\n",
        "df.to_csv('monfichier.csv',sep='\\t', index=False)\n",
        "\n",
        "print ('\\nLecture pour vérification \\n')\n",
        "df = pd.read_csv('monfichier.csv',sep='\\t')\n",
        "print (df)"
      ],
      "execution_count": null,
      "outputs": []
    }
  ]
}