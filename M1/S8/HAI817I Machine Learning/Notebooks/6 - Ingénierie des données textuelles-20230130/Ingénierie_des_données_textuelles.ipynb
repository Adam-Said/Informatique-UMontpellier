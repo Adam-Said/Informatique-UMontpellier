{
  "nbformat": 4,
  "nbformat_minor": 0,
  "metadata": {
    "kernelspec": {
      "display_name": "Python 3",
      "language": "python",
      "name": "python3"
    },
    "language_info": {
      "codemirror_mode": {
        "name": "ipython",
        "version": 3
      },
      "file_extension": ".py",
      "mimetype": "text/x-python",
      "name": "python",
      "nbconvert_exporter": "python",
      "pygments_lexer": "ipython3",
      "version": "3.6.4"
    },
    "toc": {
      "base_numbering": 1,
      "nav_menu": {},
      "number_sections": true,
      "sideBar": true,
      "skip_h1_title": false,
      "title_cell": "Table of Contents",
      "title_sidebar": "Contents",
      "toc_cell": false,
      "toc_position": {},
      "toc_section_display": true,
      "toc_window_display": false
    },
    "colab": {
      "name": "Ingénierie des données textuelles.ipynb",
      "provenance": [],
      "include_colab_link": true
    }
  },
  "cells": [
    {
      "cell_type": "markdown",
      "metadata": {
        "id": "view-in-github",
        "colab_type": "text"
      },
      "source": [
        "<a href=\"https://colab.research.google.com/github/Gaiko19/TP-M1/blob/main/S8/HAI817I%20Machine%20Learning/Notebooks/6%20-%20Ing%C3%A9nierie%20des%20donn%C3%A9es%20textuelles-20230130/Ing%C3%A9nierie_des_donn%C3%A9es_textuelles.ipynb\" target=\"_parent\"><img src=\"https://colab.research.google.com/assets/colab-badge.svg\" alt=\"Open In Colab\"/></a>"
      ]
    },
    {
      "cell_type": "markdown",
      "metadata": {
        "id": "bDSvxMcyXMhM"
      },
      "source": [
        "<H1> Ingénierie des données textuelles </H1>  \n",
        "\n",
        "De nombreuses applications utilisent des données textuelles pour faire de la prédiction : détection d'opinions, classification automatique de documents en fonction du contenu : spam - no spam, article sport vs article économie, etc...   \n",
        "\n",
        "La classification se fait de manière tout à fait classique par contre il est indispensable de traiter les documents pour pouvoir les faire interpréter par un classifieur.\n",
        "Le traitement des données textuelles est particulièrement difficile car il dépend des données disponibles et tout traitement n'est pas forcément justifié. Par exemple le fait de convertir tout le texte en minuscule peut faire perdre de l'information (*e.g., Mr Play indique une personne et play un verbe*), la suppression des ponctuations peut avoir des conséquences (*! est très souvent utilisé pour la détection d'opinions*), etc. En outre chaque langue possède aussi ses particularités et les librairies disponibles considèrent souvent l'anglais même s'il existe de plus en plus de ressources en différentes langues comme le français.  \n",
        "\n",
        "Le but de ce notebook est de présenter différentes approches d'ingénierie de données textuelles afin de pré-traiter les données.   \n",
        "\n",
        "Comme nous le verrons tout au cours de ce notebook, il existe de nombreuses librairies qui offrent des fonctionnalités pour pouvoir facilement traiter les données. \n"
      ]
    },
    {
      "cell_type": "markdown",
      "metadata": {
        "id": "_VQSC8frX5Ao"
      },
      "source": [
        "## Installation\n"
      ]
    },
    {
      "cell_type": "markdown",
      "metadata": {
        "id": "5zICeCUqYCfS"
      },
      "source": [
        "\n",
        "Avant de commencer, il est nécessaire de déjà posséder dans son environnement toutes les librairies utiles. Dans la seconde cellule nous importons toutes les librairies qui seront utiles à ce notebook. Il se peut que, lorsque vous lanciez l'éxecution de cette cellule, une soit absente. Dans ce cas il est nécessaire de l'installer. Pour cela dans la cellule suivante utiliser la commande :  \n",
        "\n",
        "*! pip install nom_librairie*  \n",
        "\n",
        "**Attention :** il est fortement conseillé lorsque l'une des librairies doit être installer de relancer le kernel de votre notebook.\n",
        "\n",
        "**Remarque :** même si toutes les librairies sont importées dès le début, les librairies utiles pour des fonctions présentées au cours de ce notebook sont ré-importées de manière à indiquer d'où elles viennent et ainsi faciliter la réutilisation de la fonction dans un autre projet.\n"
      ]
    },
    {
      "cell_type": "code",
      "metadata": {
        "id": "I0OpnDBHYHmv",
        "outputId": "738cc2c5-f21c-4a0d-fc39-85715b18403e",
        "colab": {
          "base_uri": "https://localhost:8080/"
        }
      },
      "source": [
        "# utiliser cette cellule pour installer les librairies manquantes\n",
        "# pour cela il suffit de taper dans cette cellule : !pip install nom_librairie_manquante\n",
        "# d'exécuter la cellule et de relancer la cellule suivante pour voir si tout se passe bien\n",
        "# recommencer tant que toutes les librairies ne sont pas installées ...\n",
        "\n",
        "# sous Colab il faut déjà intégrer ces deux librairies\n",
        "\n",
        "!pip install langdetect \n",
        "!pip install contractions\n",
        "# eventuellement ne pas oublier de relancer le kernel du notebook"
      ],
      "execution_count": 1,
      "outputs": [
        {
          "output_type": "stream",
          "name": "stdout",
          "text": [
            "Looking in indexes: https://pypi.org/simple, https://us-python.pkg.dev/colab-wheels/public/simple/\n",
            "Collecting langdetect\n",
            "  Downloading langdetect-1.0.9.tar.gz (981 kB)\n",
            "\u001b[2K     \u001b[90m━━━━━━━━━━━━━━━━━━━━━━━━━━━━━━━━━━━━━━\u001b[0m \u001b[32m981.5/981.5 KB\u001b[0m \u001b[31m27.7 MB/s\u001b[0m eta \u001b[36m0:00:00\u001b[0m\n",
            "\u001b[?25h  Preparing metadata (setup.py) ... \u001b[?25l\u001b[?25hdone\n",
            "Requirement already satisfied: six in /usr/local/lib/python3.9/dist-packages (from langdetect) (1.15.0)\n",
            "Building wheels for collected packages: langdetect\n",
            "  Building wheel for langdetect (setup.py) ... \u001b[?25l\u001b[?25hdone\n",
            "  Created wheel for langdetect: filename=langdetect-1.0.9-py3-none-any.whl size=993242 sha256=d4ff42258165856b1f989fabc68d835e7cd6f36f39d50bafb74bdbf57e099c12\n",
            "  Stored in directory: /root/.cache/pip/wheels/d1/c1/d9/7e068de779d863bc8f8fc9467d85e25cfe47fa5051fff1a1bb\n",
            "Successfully built langdetect\n",
            "Installing collected packages: langdetect\n",
            "Successfully installed langdetect-1.0.9\n",
            "Looking in indexes: https://pypi.org/simple, https://us-python.pkg.dev/colab-wheels/public/simple/\n",
            "Collecting contractions\n",
            "  Downloading contractions-0.1.73-py2.py3-none-any.whl (8.7 kB)\n",
            "Collecting textsearch>=0.0.21\n",
            "  Downloading textsearch-0.0.24-py2.py3-none-any.whl (7.6 kB)\n",
            "Collecting pyahocorasick\n",
            "  Downloading pyahocorasick-2.0.0-cp39-cp39-manylinux_2_5_x86_64.manylinux1_x86_64.whl (103 kB)\n",
            "\u001b[2K     \u001b[90m━━━━━━━━━━━━━━━━━━━━━━━━━━━━━━━━━━━━━━━\u001b[0m \u001b[32m103.2/103.2 KB\u001b[0m \u001b[31m5.2 MB/s\u001b[0m eta \u001b[36m0:00:00\u001b[0m\n",
            "\u001b[?25hCollecting anyascii\n",
            "  Downloading anyascii-0.3.1-py3-none-any.whl (287 kB)\n",
            "\u001b[2K     \u001b[90m━━━━━━━━━━━━━━━━━━━━━━━━━━━━━━━━━━━━━━\u001b[0m \u001b[32m287.5/287.5 KB\u001b[0m \u001b[31m17.3 MB/s\u001b[0m eta \u001b[36m0:00:00\u001b[0m\n",
            "\u001b[?25hInstalling collected packages: pyahocorasick, anyascii, textsearch, contractions\n",
            "Successfully installed anyascii-0.3.1 contractions-0.1.73 pyahocorasick-2.0.0 textsearch-0.0.24\n"
          ]
        }
      ]
    },
    {
      "cell_type": "code",
      "metadata": {
        "id": "FZw2C6r8YJWW",
        "outputId": "ae981c83-fd88-467f-865c-f39f7c5a685a",
        "colab": {
          "base_uri": "https://localhost:8080/"
        }
      },
      "source": [
        "# Importation des différentes librairies utiles pour le notebook\n",
        "\n",
        "#Sickit learn met régulièrement à jour des versions et \n",
        "#indique des futurs warnings. \n",
        "#ces deux lignes permettent de ne pas les afficher.\n",
        "import warnings\n",
        "warnings.filterwarnings(\"ignore\", category=FutureWarning)\n",
        "\n",
        "# librairies générales\n",
        "import pickle \n",
        "import pandas as pd\n",
        "from scipy.stats import randint\n",
        "import numpy as np\n",
        "import string\n",
        "import time\n",
        "import base64\n",
        "import re\n",
        "import sys\n",
        "\n",
        "import contractions\n",
        "\n",
        "# librairie BeautifulSoup\n",
        "from bs4 import BeautifulSoup\n",
        "\n",
        "# librairie affichage\n",
        "import matplotlib.pyplot as plt\n",
        "import seaborn as sns\n",
        "import wordcloud\n",
        "\n",
        "## detection de language\n",
        "import langdetect \n",
        "\n",
        "import nltk\n",
        "from nltk import sent_tokenize\n",
        "from nltk.tokenize import word_tokenize\n",
        "from nltk.stem import WordNetLemmatizer\n",
        "\n",
        "from nltk import RegexpParser\n",
        "# il est possible de charger l'ensemble des librairies en une seule fois \n",
        "# décocher le commentaire de la ligne ci-dessous\n",
        "#nltk.download('all') \n",
        "nltk.download('punkt')\n",
        "nltk.download('averaged_perceptron_tagger')\n",
        "from nltk import pos_tag\n",
        "nltk.download('tagsets')\n",
        "nltk.download(\"stopwords\")\n",
        "nltk.download('wordnet')\n",
        "\n",
        "from nltk.corpus import stopwords\n",
        "\n",
        "import spacy\n",
        "from spacy.tokens import Span\n",
        "# il faut sélectionner pour quelle langue les traitements vont être faits.\n",
        "# nlp = spacy.load('en')\n",
        "from spacy.lang.fr import French"
      ],
      "execution_count": 5,
      "outputs": [
        {
          "output_type": "stream",
          "name": "stderr",
          "text": [
            "[nltk_data] Downloading package punkt to /root/nltk_data...\n",
            "[nltk_data]   Package punkt is already up-to-date!\n",
            "[nltk_data] Downloading package averaged_perceptron_tagger to\n",
            "[nltk_data]     /root/nltk_data...\n",
            "[nltk_data]   Package averaged_perceptron_tagger is already up-to-\n",
            "[nltk_data]       date!\n",
            "[nltk_data] Downloading package tagsets to /root/nltk_data...\n",
            "[nltk_data]   Package tagsets is already up-to-date!\n",
            "[nltk_data] Downloading package stopwords to /root/nltk_data...\n",
            "[nltk_data]   Package stopwords is already up-to-date!\n",
            "[nltk_data] Downloading package wordnet to /root/nltk_data...\n",
            "[nltk_data]   Package wordnet is already up-to-date!\n"
          ]
        }
      ]
    },
    {
      "cell_type": "markdown",
      "metadata": {
        "id": "0s2sF7a-am4I"
      },
      "source": [
        "Pour pouvoir sauvegarder sur votre répertoire Google Drive, il est nécessaire de fournir une autorisation. Pour cela il suffit d'éxecuter la ligne suivante et de saisir le code donné par Google."
      ]
    },
    {
      "cell_type": "code",
      "metadata": {
        "id": "q1zULJ9daqP6"
      },
      "source": [
        "# pour monter son drive Google Drive local\n",
        "from google.colab import drive\n",
        "drive.mount('/content/gdrive')"
      ],
      "execution_count": null,
      "outputs": []
    },
    {
      "cell_type": "markdown",
      "metadata": {
        "id": "0qe4Xtohau6v"
      },
      "source": [
        "Corriger éventuellement la ligne ci-dessous pour mettre le chemin vers un répertoire spécifique dans votre répertoire Google Drive : "
      ]
    },
    {
      "cell_type": "code",
      "metadata": {
        "id": "ahDl5RV9tVfp"
      },
      "source": [
        "my_local_drive='/content/gdrive/My Drive/Colab Notebooks/ML_FDS'\n",
        "# Ajout du path pour les librairies, fonctions et données\n",
        "sys.path.append(my_local_drive)\n",
        "# Se positionner sur le répertoire associé\n",
        "%cd $my_local_drive\n",
        "\n",
        "%pwd"
      ],
      "execution_count": null,
      "outputs": []
    },
    {
      "cell_type": "code",
      "metadata": {
        "id": "JAYb7LUyDp0d"
      },
      "source": [
        "# fonctions utilities (affichage, confusion, etc.)\n",
        "from MyNLPUtilities import *"
      ],
      "execution_count": 6,
      "outputs": []
    },
    {
      "cell_type": "markdown",
      "metadata": {
        "id": "sPPQEQ_tbsjZ"
      },
      "source": [
        "## **Une première analyse des documents**"
      ]
    },
    {
      "cell_type": "markdown",
      "metadata": {
        "id": "hyRcDb0oby1i"
      },
      "source": [
        "Très souvent pour commencer à appréhender un texte, l'une des approches consiste à déjà regarder les mots principaux d'un texte. Les word clouds offrent cette fonctionnalité. Il est également utile de connaître la langue du document. Par exemple, cela va permettre de pouvoir utiliser des librairies spécifiques, supprimer des mots inutiles pour cette langue, etc.  \n",
        "\n",
        "Il existe heureusement des librairies spécifiques comme *wordcloud* ou *langdetect*.  \n",
        "\n",
        "Nous présentons par la suite quelques premiers petits traitements pratiques qui peuvent être effectués pour nettoyer un peu les données."
      ]
    },
    {
      "cell_type": "code",
      "metadata": {
        "id": "ZptVsWEibpT9",
        "outputId": "54900bfa-bacc-4ee4-d820-671babc9b85e",
        "colab": {
          "base_uri": "https://localhost:8080/",
          "height": 253
        }
      },
      "source": [
        "import wordcloud\n",
        "\n",
        "## detection de language\n",
        "import langdetect \n",
        "document = \"Alice opened the door and found that it led into a small passage, not much larger than a rat-hole: she knelt down and looked along the passage into the loveliest garden you ever saw. \\\n",
        "How she longed to get out of that dark hall, and wander about among those beds of bright flowers and those cool fountains, but she could not even get her head through the doorway\"\n",
        "\n",
        "# affichage des word clouds\n",
        "wc = wordcloud.WordCloud(background_color='black', max_words=100, \n",
        "                         max_font_size=35)\n",
        "wc = wc.generate(str(document))\n",
        "fig = plt.figure(num=1)\n",
        "plt.axis('off')\n",
        "plt.imshow(wc, cmap=None)\n",
        "plt.show()\n",
        "\n",
        "\n",
        "print(\" Le document '\", document, \"' est en  \", langdetect.detect(document))\n",
        "print (\"la phrase il fait beau est en \", langdetect.detect(\"il fait beau\"))"
      ],
      "execution_count": 7,
      "outputs": [
        {
          "output_type": "display_data",
          "data": {
            "text/plain": [
              "<Figure size 432x288 with 1 Axes>"
            ],
            "image/png": "[encoded data removed]"
          },
          "metadata": {
            "needs_background": "light"
          }
        },
        {
          "output_type": "stream",
          "name": "stdout",
          "text": [
            " Le document ' Alice opened the door and found that it led into a small passage, not much larger than a rat-hole: she knelt down and looked along the passage into the loveliest garden you ever saw. How she longed to get out of that dark hall, and wander about among those beds of bright flowers and those cool fountains, but she could not even get her head through the doorway ' est en   en\n",
            "la phrase il fait beau est en  fr\n"
          ]
        }
      ]
    },
    {
      "cell_type": "markdown",
      "metadata": {
        "id": "gqybSzore6Y0"
      },
      "source": [
        "**Encodage des données**  \n",
        "Les données textuelles sont souvent sujettes à des problèmes d'encodage ( “Latin”, “UTF8” etc). Le plus simple est de les convertir dans un format classique (UTF8)."
      ]
    },
    {
      "cell_type": "code",
      "metadata": {
        "id": "WQj9Vyt-fGEN",
        "outputId": "717dfe8b-069a-4aae-efe8-46e2b638d6cb",
        "colab": {
          "base_uri": "https://localhost:8080/"
        }
      },
      "source": [
        "import unicodedata\n",
        "chaine = u\"Klüft skräms inför på fédéral électoral große\"\n",
        "chaine=unicodedata.normalize('NFKD', chaine).encode('ascii','ignore')\n",
        "print (chaine)"
      ],
      "execution_count": 8,
      "outputs": [
        {
          "output_type": "stream",
          "name": "stdout",
          "text": [
            "b'Kluft skrams infor pa federal electoral groe'\n"
          ]
        }
      ]
    },
    {
      "cell_type": "markdown",
      "metadata": {
        "id": "eSO8y_SdfRTc"
      },
      "source": [
        "**Suppression des tags XML/HTML**  \n",
        "Les données textuelles peuvent être issues de pages web, contenir des entêtes, etc..\n",
        "L'une des premières étapes consistent à les nettoyer pour ne retenir que le texte.\n",
        "La librairie BeautifulSoup permet de récupérer directement le texte en supprimant les tags : https://www.crummy.com/software/BeautifulSoup/bs4/doc/"
      ]
    },
    {
      "cell_type": "code",
      "metadata": {
        "id": "eljt27PWflvS",
        "outputId": "75f718d6-05f5-4b90-d785-a271c17cdada",
        "colab": {
          "base_uri": "https://localhost:8080/"
        }
      },
      "source": [
        "page = \"\"\"\n",
        "<!DOCTYPE html>\n",
        "<html> <head> <title>Machine Learning - Apprentissage</title> </head>\n",
        "  <body>\n",
        " \n",
        "<h1>Le cours de Machine Learning est à a FDS </h1> (<a href=https://sciences.edu.umontpellier.fr>).\n",
        "\n",
        " Situé à Montpellier [où il fait toujours beau]\n",
        "</body> </html>\"\"\"\n",
        "print (page)"
      ],
      "execution_count": 9,
      "outputs": [
        {
          "output_type": "stream",
          "name": "stdout",
          "text": [
            "\n",
            "<!DOCTYPE html>\n",
            "<html> <head> <title>Machine Learning - Apprentissage</title> </head>\n",
            "  <body>\n",
            " \n",
            "<h1>Le cours de Machine Learning est à a FDS </h1> (<a href=https://sciences.edu.umontpellier.fr>).\n",
            "\n",
            " Situé à Montpellier [où il fait toujours beau]\n",
            "</body> </html>\n"
          ]
        }
      ]
    },
    {
      "cell_type": "code",
      "metadata": {
        "id": "FWqJAZIggFhp",
        "outputId": "1e85149b-c801-4c04-b6d5-ff00ad475239",
        "colab": {
          "base_uri": "https://localhost:8080/"
        }
      },
      "source": [
        "from bs4 import BeautifulSoup\n",
        "\n",
        "def strip_html(text):\n",
        "    soup = BeautifulSoup(text, \"html.parser\")\n",
        "    return soup.get_text()\n",
        "\n",
        "page=strip_html (page)\n",
        "print (page)"
      ],
      "execution_count": 10,
      "outputs": [
        {
          "output_type": "stream",
          "name": "stdout",
          "text": [
            "\n",
            "\n",
            "  Machine Learning - Apprentissage \n",
            "\n",
            "Le cours de Machine Learning est à a FDS  ().\n",
            "\n",
            " Situé à Montpellier [où il fait toujours beau]\n",
            " \n"
          ]
        }
      ]
    },
    {
      "cell_type": "markdown",
      "metadata": {
        "id": "VzBMlEUYgk9z"
      },
      "source": [
        "**Utilisation d'expressions régulières**  \n",
        "\n",
        "De nombreuses modifications peuvent être réalisées en utilisant des expressions régulières (utilisation de la librairie *re*). Par exemple la fonction suivante permet de supprimer les textes entre crochets [].  \n",
        "\n",
        "Nous verrons d'autres exemples d'expressions régulières par la suite. \n"
      ]
    },
    {
      "cell_type": "code",
      "metadata": {
        "id": "kKYwtZf7g6lc",
        "outputId": "c1d91564-0ad0-4111-8cbd-8b82a2dca500",
        "colab": {
          "base_uri": "https://localhost:8080/"
        }
      },
      "source": [
        "import re\n",
        "def remove_between_square_brackets(text):\n",
        "    return re.sub('\\[[^]]*\\]', '', text)\n",
        "\n",
        "page=remove_between_square_brackets(page)\n",
        "print (page)"
      ],
      "execution_count": 11,
      "outputs": [
        {
          "output_type": "stream",
          "name": "stdout",
          "text": [
            "\n",
            "\n",
            "  Machine Learning - Apprentissage \n",
            "\n",
            "Le cours de Machine Learning est à a FDS  ().\n",
            "\n",
            " Situé à Montpellier \n",
            " \n"
          ]
        }
      ]
    },
    {
      "cell_type": "markdown",
      "metadata": {
        "id": "R9IeV4rqp3XT"
      },
      "source": [
        "## **Plus loin dans les pré-traitements des documents**"
      ]
    },
    {
      "cell_type": "markdown",
      "metadata": {
        "id": "97PdhyHYqYwG"
      },
      "source": [
        "La phase de pré-traitement est la phrase de préparation des données pour que ces dernières soient utilisables par un modèle d'apprentissage. Outre l'étape de nettoyage des données,  il y a de nombreux pré-traitements qui peuvent ou doivent être effectués en fonction de leur type et de la tâche visée. Par exemple, l'extraction des tokens composant les phrases, la racinisation/\"stemmatisation\" qui vise à garder la racine des mots, la lemmatisation qui consiste à appliquer une analyse lexicale d'un texte, la suppression de mots vides ou creux (i.e., des mots qui ne sont pas discriminants pour la classification), la détection d'entité nommée, etc.   \n",
        "\n",
        " \n",
        "\n",
        "L'étape de nettoyage peut contenir elle même différentes sous-étapes selon les données (Cf. exemple précédent avec des données HTML) et la tâche visée. Elle comprend souvent la conversion des documents en minuscule et la suppression des signes de ponctuations.   \n",
        "\n",
        "Comme nous l'avons vu précédemment, il existe de nombreuses librairies pour effectuer ces différentes tâches. Dans ce notebook nous nous intéresserons plus particulièrement à \n",
        " :\n",
        "* la librairie NLTK (Natural Language Toolkit) : http://www.nltk.org\n",
        "* la librairie SpaCY : https://spacy.io/  \n",
        "\n",
        "Nous présentons comment ces dernières peuvent être utilisées pour réaliser les différents pré-traitements. \n",
        "L'importation de ces librairie se fait de la manière suivante :\n",
        "  "
      ]
    },
    {
      "cell_type": "code",
      "metadata": {
        "id": "uamVDVPbsAnm"
      },
      "source": [
        "import nltk\n",
        "# il est possible de charger l'ensemble des librairies en une seule fois \n",
        "# décocher le commentaire de la ligne ci-dessous\n",
        "#nltk.download('all') \n",
        "\n",
        "import spacy\n",
        "# il faut sélectionner pour quelle langue les traitements vont être faits.\n",
        "nlp = spacy.load('en_core_web_sm')"
      ],
      "execution_count": 13,
      "outputs": []
    },
    {
      "cell_type": "markdown",
      "metadata": {
        "id": "n5xjESPsS15X"
      },
      "source": [
        "# Utilisation de NLTK"
      ]
    },
    {
      "cell_type": "markdown",
      "metadata": {
        "id": "Hq-GcuxMS9l-"
      },
      "source": [
        "NLTK (Natural Language Toolkit - http://www.nltk.org) est une bibliothèque Python développée par Steven Bird et Edward Loper du département d'informatique de l'université de Pennsylvanie. Elle offre de très nombreuses fonctionnalités pour manipuler les textes dans différentes langues dont le français.  \n",
        "\n",
        "L'importation de la librairie se fait par : "
      ]
    },
    {
      "cell_type": "code",
      "metadata": {
        "id": "TqwOvgoQUOxa"
      },
      "source": [
        "import nltk\n",
        "# il est possible de charger l'ensemble des librairies associées en une seule fois \n",
        "# pour cela décocher le commentaire de la ligne ci-dessous\n",
        "#nltk.download('all') "
      ],
      "execution_count": 14,
      "outputs": []
    },
    {
      "cell_type": "code",
      "metadata": {
        "id": "ecKE29A-5sjh"
      },
      "source": [
        "document = \"Alice opened the door and found that it led into a small passage, not much larger than a rat-hole: she knelt down and looked along the passage into the loveliest garden you ever saw. \\\n",
        "How she longed to get out of that dark hall, and wander about among those beds of bright flowers and those cool fountains, but she could not even get her head through the doorway\""
      ],
      "execution_count": 15,
      "outputs": []
    },
    {
      "cell_type": "markdown",
      "metadata": {
        "id": "ESXVKF5WtLDN"
      },
      "source": [
        "Sous NLTK,  le découpage en phrase peut se faire  à l'aide de la fonction *sent_tokenize* :"
      ]
    },
    {
      "cell_type": "code",
      "metadata": {
        "id": "y0CN9OB_5sjm",
        "outputId": "27898d60-787f-4a0b-8e9b-6f890f688bbd",
        "colab": {
          "base_uri": "https://localhost:8080/"
        }
      },
      "source": [
        "import nltk\n",
        "nltk.download('punkt')\n",
        "from nltk import sent_tokenize\n",
        "\n",
        "phrases = sent_tokenize(document)\n",
        "for phrase_nltk in phrases:\n",
        "  print (\"phrases : \",phrase_nltk)"
      ],
      "execution_count": 16,
      "outputs": [
        {
          "output_type": "stream",
          "name": "stdout",
          "text": [
            "phrases :  Alice opened the door and found that it led into a small passage, not much larger than a rat-hole: she knelt down and looked along the passage into the loveliest garden you ever saw.\n",
            "phrases :  How she longed to get out of that dark hall, and wander about among those beds of bright flowers and those cool fountains, but she could not even get her head through the doorway\n"
          ]
        },
        {
          "output_type": "stream",
          "name": "stderr",
          "text": [
            "[nltk_data] Downloading package punkt to /root/nltk_data...\n",
            "[nltk_data]   Package punkt is already up-to-date!\n"
          ]
        }
      ]
    },
    {
      "cell_type": "markdown",
      "metadata": {
        "id": "uX_SJIgW-vnC"
      },
      "source": [
        "**Découpage en tokens (tokenisation)**  \n",
        "\n",
        "Un texte sous python est généralement considéré comme *string*. Il est donc tout à fait possible  d'utiliser les fonctions associées comme *lower* (conversion en minuscule) ou la fonction *split* associée pour découper en tokens. "
      ]
    },
    {
      "cell_type": "code",
      "metadata": {
        "id": "zdzZv1kDthuc",
        "outputId": "86d1b1f9-e855-4c72-d161-76ef25ad4eb6",
        "colab": {
          "base_uri": "https://localhost:8080/"
        }
      },
      "source": [
        "print (\"conversion document en minuscule\")\n",
        "print (document.lower())\n",
        "\n",
        "document_splitted = document.split()\n",
        "print(document_splitted)"
      ],
      "execution_count": 17,
      "outputs": [
        {
          "output_type": "stream",
          "name": "stdout",
          "text": [
            "conversion document en minuscule\n",
            "alice opened the door and found that it led into a small passage, not much larger than a rat-hole: she knelt down and looked along the passage into the loveliest garden you ever saw. how she longed to get out of that dark hall, and wander about among those beds of bright flowers and those cool fountains, but she could not even get her head through the doorway\n",
            "['Alice', 'opened', 'the', 'door', 'and', 'found', 'that', 'it', 'led', 'into', 'a', 'small', 'passage,', 'not', 'much', 'larger', 'than', 'a', 'rat-hole:', 'she', 'knelt', 'down', 'and', 'looked', 'along', 'the', 'passage', 'into', 'the', 'loveliest', 'garden', 'you', 'ever', 'saw.', 'How', 'she', 'longed', 'to', 'get', 'out', 'of', 'that', 'dark', 'hall,', 'and', 'wander', 'about', 'among', 'those', 'beds', 'of', 'bright', 'flowers', 'and', 'those', 'cool', 'fountains,', 'but', 'she', 'could', 'not', 'even', 'get', 'her', 'head', 'through', 'the', 'doorway']\n"
          ]
        }
      ]
    },
    {
      "cell_type": "markdown",
      "metadata": {
        "id": "c5_8iCP3uG3l"
      },
      "source": [
        "\n",
        "Via NLTK, le découpage en tokens se fait via la fonction *word_tokenize*. Contrairement à la fonction *split* précédente, les caractères de ponctuations sont considérés comme tokens.   \n",
        "\n",
        "**Remarque :** comme nous pouvons le constater les ponctuations sont soient intégrées au dernier mot (*split*), soient correspondent à des tokens. Nous verrons jusque après que NTLK peut les reconnaître spécifiquement via une analyse grammaticale. \n"
      ]
    },
    {
      "cell_type": "code",
      "metadata": {
        "id": "mZKJ2xhB--qO",
        "outputId": "2c6b23fa-24de-4bc9-8802-dfa45b732df0",
        "colab": {
          "base_uri": "https://localhost:8080/"
        }
      },
      "source": [
        "from nltk.tokenize import word_tokenize\n",
        "# la liste des tokens de la première phrase\n",
        "tokens = word_tokenize(phrases[0])\n",
        "print(tokens)"
      ],
      "execution_count": 18,
      "outputs": [
        {
          "output_type": "stream",
          "name": "stdout",
          "text": [
            "['Alice', 'opened', 'the', 'door', 'and', 'found', 'that', 'it', 'led', 'into', 'a', 'small', 'passage', ',', 'not', 'much', 'larger', 'than', 'a', 'rat-hole', ':', 'she', 'knelt', 'down', 'and', 'looked', 'along', 'the', 'passage', 'into', 'the', 'loveliest', 'garden', 'you', 'ever', 'saw', '.']\n"
          ]
        }
      ]
    },
    {
      "cell_type": "markdown",
      "metadata": {
        "id": "8dwrxOgighfE"
      },
      "source": [
        "**Etiquetage grammatical** (*Part of Speech Tagging*)  \n",
        "\n",
        "L'étiquetage morpho-syntaxique (ou étiquetage grammatical) permet d'associer à chaque mot d'un texte les informations grammaticales correpondantes (e.g. verbe, préposition, ...).  \n",
        "Elle se fait via la fonction *pos_tag*. Elle s'applique à une phrase composée d'un ensemble de tokens et retourne les différents composants de la phrase. \n",
        "\n"
      ]
    },
    {
      "cell_type": "code",
      "metadata": {
        "id": "z2Fy2-dSgfmd",
        "outputId": "07f5cdaa-d943-46e8-e6f0-21711f11306f",
        "colab": {
          "base_uri": "https://localhost:8080/"
        }
      },
      "source": [
        "from nltk import pos_tag\n",
        "nltk.download('averaged_perceptron_tagger')\n",
        "\n",
        "for phrase_nltk in phrases:\n",
        "  print (\"phrases : \",phrase_nltk)\n",
        "  tokens = word_tokenize(phrase_nltk)\n",
        "  tokens_tag = nltk.pos_tag(tokens)\n",
        "  print (tokens_tag)"
      ],
      "execution_count": 19,
      "outputs": [
        {
          "output_type": "stream",
          "name": "stderr",
          "text": [
            "[nltk_data] Downloading package averaged_perceptron_tagger to\n",
            "[nltk_data]     /root/nltk_data...\n",
            "[nltk_data]   Package averaged_perceptron_tagger is already up-to-\n",
            "[nltk_data]       date!\n"
          ]
        },
        {
          "output_type": "stream",
          "name": "stdout",
          "text": [
            "phrases :  Alice opened the door and found that it led into a small passage, not much larger than a rat-hole: she knelt down and looked along the passage into the loveliest garden you ever saw.\n",
            "[('Alice', 'NNP'), ('opened', 'VBD'), ('the', 'DT'), ('door', 'NN'), ('and', 'CC'), ('found', 'VBD'), ('that', 'IN'), ('it', 'PRP'), ('led', 'VBD'), ('into', 'IN'), ('a', 'DT'), ('small', 'JJ'), ('passage', 'NN'), (',', ','), ('not', 'RB'), ('much', 'RB'), ('larger', 'JJR'), ('than', 'IN'), ('a', 'DT'), ('rat-hole', 'JJ'), (':', ':'), ('she', 'PRP'), ('knelt', 'VBD'), ('down', 'RB'), ('and', 'CC'), ('looked', 'VBD'), ('along', 'IN'), ('the', 'DT'), ('passage', 'NN'), ('into', 'IN'), ('the', 'DT'), ('loveliest', 'JJS'), ('garden', 'NN'), ('you', 'PRP'), ('ever', 'RB'), ('saw', 'VBD'), ('.', '.')]\n",
            "phrases :  How she longed to get out of that dark hall, and wander about among those beds of bright flowers and those cool fountains, but she could not even get her head through the doorway\n",
            "[('How', 'WRB'), ('she', 'PRP'), ('longed', 'VBD'), ('to', 'TO'), ('get', 'VB'), ('out', 'IN'), ('of', 'IN'), ('that', 'DT'), ('dark', 'NN'), ('hall', 'NN'), (',', ','), ('and', 'CC'), ('wander', 'VBP'), ('about', 'IN'), ('among', 'IN'), ('those', 'DT'), ('beds', 'NNS'), ('of', 'IN'), ('bright', 'JJ'), ('flowers', 'NNS'), ('and', 'CC'), ('those', 'DT'), ('cool', 'JJ'), ('fountains', 'NNS'), (',', ','), ('but', 'CC'), ('she', 'PRP'), ('could', 'MD'), ('not', 'RB'), ('even', 'RB'), ('get', 'VB'), ('her', 'PRP$'), ('head', 'NN'), ('through', 'IN'), ('the', 'DT'), ('doorway', 'NN')]\n"
          ]
        }
      ]
    },
    {
      "cell_type": "markdown",
      "metadata": {
        "id": "_OLkR3QJt46-"
      },
      "source": [
        "Il est possible de connaître la liste de tous les tags disponibles :"
      ]
    },
    {
      "cell_type": "code",
      "metadata": {
        "id": "_AVi5f7yuBGo",
        "outputId": "0d90a48f-2e69-44ca-c2b4-b45a4f6921c4",
        "colab": {
          "base_uri": "https://localhost:8080/"
        }
      },
      "source": [
        "nltk.download('tagsets')\n",
        "nltk.help.upenn_tagset()"
      ],
      "execution_count": 20,
      "outputs": [
        {
          "output_type": "stream",
          "name": "stdout",
          "text": [
            "$: dollar\n",
            "    $ -$ --$ A$ C$ HK$ M$ NZ$ S$ U.S.$ US$\n",
            "'': closing quotation mark\n",
            "    ' ''\n",
            "(: opening parenthesis\n",
            "    ( [ {\n",
            "): closing parenthesis\n",
            "    ) ] }\n",
            ",: comma\n",
            "    ,\n",
            "--: dash\n",
            "    --\n",
            ".: sentence terminator\n",
            "    . ! ?\n",
            ":: colon or ellipsis\n",
            "    : ; ...\n",
            "CC: conjunction, coordinating\n",
            "    & 'n and both but either et for less minus neither nor or plus so\n",
            "    therefore times v. versus vs. whether yet\n",
            "CD: numeral, cardinal\n",
            "    mid-1890 nine-thirty forty-two one-tenth ten million 0.5 one forty-\n",
            "    seven 1987 twenty '79 zero two 78-degrees eighty-four IX '60s .025\n",
            "    fifteen 271,124 dozen quintillion DM2,000 ...\n",
            "DT: determiner\n",
            "    all an another any both del each either every half la many much nary\n",
            "    neither no some such that the them these this those\n",
            "EX: existential there\n",
            "    there\n",
            "FW: foreign word\n",
            "    gemeinschaft hund ich jeux habeas Haementeria Herr K'ang-si vous\n",
            "    lutihaw alai je jour objets salutaris fille quibusdam pas trop Monte\n",
            "    terram fiche oui corporis ...\n",
            "IN: preposition or conjunction, subordinating\n",
            "    astride among uppon whether out inside pro despite on by throughout\n",
            "    below within for towards near behind atop around if like until below\n",
            "    next into if beside ...\n",
            "JJ: adjective or numeral, ordinal\n",
            "    third ill-mannered pre-war regrettable oiled calamitous first separable\n",
            "    ectoplasmic battery-powered participatory fourth still-to-be-named\n",
            "    multilingual multi-disciplinary ...\n",
            "JJR: adjective, comparative\n",
            "    bleaker braver breezier briefer brighter brisker broader bumper busier\n",
            "    calmer cheaper choosier cleaner clearer closer colder commoner costlier\n",
            "    cozier creamier crunchier cuter ...\n",
            "JJS: adjective, superlative\n",
            "    calmest cheapest choicest classiest cleanest clearest closest commonest\n",
            "    corniest costliest crassest creepiest crudest cutest darkest deadliest\n",
            "    dearest deepest densest dinkiest ...\n",
            "LS: list item marker\n",
            "    A A. B B. C C. D E F First G H I J K One SP-44001 SP-44002 SP-44005\n",
            "    SP-44007 Second Third Three Two * a b c d first five four one six three\n",
            "    two\n",
            "MD: modal auxiliary\n",
            "    can cannot could couldn't dare may might must need ought shall should\n",
            "    shouldn't will would\n",
            "NN: noun, common, singular or mass\n",
            "    common-carrier cabbage knuckle-duster Casino afghan shed thermostat\n",
            "    investment slide humour falloff slick wind hyena override subhumanity\n",
            "    machinist ...\n",
            "NNP: noun, proper, singular\n",
            "    Motown Venneboerger Czestochwa Ranzer Conchita Trumplane Christos\n",
            "    Oceanside Escobar Kreisler Sawyer Cougar Yvette Ervin ODI Darryl CTCA\n",
            "    Shannon A.K.C. Meltex Liverpool ...\n",
            "NNPS: noun, proper, plural\n",
            "    Americans Americas Amharas Amityvilles Amusements Anarcho-Syndicalists\n",
            "    Andalusians Andes Andruses Angels Animals Anthony Antilles Antiques\n",
            "    Apache Apaches Apocrypha ...\n",
            "NNS: noun, common, plural\n",
            "    undergraduates scotches bric-a-brac products bodyguards facets coasts\n",
            "    divestitures storehouses designs clubs fragrances averages\n",
            "    subjectivists apprehensions muses factory-jobs ...\n",
            "PDT: pre-determiner\n",
            "    all both half many quite such sure this\n",
            "POS: genitive marker\n",
            "    ' 's\n",
            "PRP: pronoun, personal\n",
            "    hers herself him himself hisself it itself me myself one oneself ours\n",
            "    ourselves ownself self she thee theirs them themselves they thou thy us\n",
            "PRP$: pronoun, possessive\n",
            "    her his mine my our ours their thy your\n",
            "RB: adverb\n",
            "    occasionally unabatingly maddeningly adventurously professedly\n",
            "    stirringly prominently technologically magisterially predominately\n",
            "    swiftly fiscally pitilessly ...\n",
            "RBR: adverb, comparative\n",
            "    further gloomier grander graver greater grimmer harder harsher\n",
            "    healthier heavier higher however larger later leaner lengthier less-\n",
            "    perfectly lesser lonelier longer louder lower more ...\n",
            "RBS: adverb, superlative\n",
            "    best biggest bluntest earliest farthest first furthest hardest\n",
            "    heartiest highest largest least less most nearest second tightest worst\n",
            "RP: particle\n",
            "    aboard about across along apart around aside at away back before behind\n",
            "    by crop down ever fast for forth from go high i.e. in into just later\n",
            "    low more off on open out over per pie raising start teeth that through\n",
            "    under unto up up-pp upon whole with you\n",
            "SYM: symbol\n",
            "    % & ' '' ''. ) ). * + ,. < = > @ A[fj] U.S U.S.S.R * ** ***\n",
            "TO: \"to\" as preposition or infinitive marker\n",
            "    to\n",
            "UH: interjection\n",
            "    Goodbye Goody Gosh Wow Jeepers Jee-sus Hubba Hey Kee-reist Oops amen\n",
            "    huh howdy uh dammit whammo shucks heck anyways whodunnit honey golly\n",
            "    man baby diddle hush sonuvabitch ...\n",
            "VB: verb, base form\n",
            "    ask assemble assess assign assume atone attention avoid bake balkanize\n",
            "    bank begin behold believe bend benefit bevel beware bless boil bomb\n",
            "    boost brace break bring broil brush build ...\n",
            "VBD: verb, past tense\n",
            "    dipped pleaded swiped regummed soaked tidied convened halted registered\n",
            "    cushioned exacted snubbed strode aimed adopted belied figgered\n",
            "    speculated wore appreciated contemplated ...\n",
            "VBG: verb, present participle or gerund\n",
            "    telegraphing stirring focusing angering judging stalling lactating\n",
            "    hankerin' alleging veering capping approaching traveling besieging\n",
            "    encrypting interrupting erasing wincing ...\n",
            "VBN: verb, past participle\n",
            "    multihulled dilapidated aerosolized chaired languished panelized used\n",
            "    experimented flourished imitated reunifed factored condensed sheared\n",
            "    unsettled primed dubbed desired ...\n",
            "VBP: verb, present tense, not 3rd person singular\n",
            "    predominate wrap resort sue twist spill cure lengthen brush terminate\n",
            "    appear tend stray glisten obtain comprise detest tease attract\n",
            "    emphasize mold postpone sever return wag ...\n",
            "VBZ: verb, present tense, 3rd person singular\n",
            "    bases reconstructs marks mixes displeases seals carps weaves snatches\n",
            "    slumps stretches authorizes smolders pictures emerges stockpiles\n",
            "    seduces fizzes uses bolsters slaps speaks pleads ...\n",
            "WDT: WH-determiner\n",
            "    that what whatever which whichever\n",
            "WP: WH-pronoun\n",
            "    that what whatever whatsoever which who whom whosoever\n",
            "WP$: WH-pronoun, possessive\n",
            "    whose\n",
            "WRB: Wh-adverb\n",
            "    how however whence whenever where whereby whereever wherein whereof why\n",
            "``: opening quotation mark\n",
            "    ` ``\n"
          ]
        },
        {
          "output_type": "stream",
          "name": "stderr",
          "text": [
            "[nltk_data] Downloading package tagsets to /root/nltk_data...\n",
            "[nltk_data]   Package tagsets is already up-to-date!\n"
          ]
        }
      ]
    },
    {
      "cell_type": "markdown",
      "metadata": {
        "id": "ZNqM9l5WwKxL"
      },
      "source": [
        "A partir de cet étiquetage, il est donc possible de ne sélectionner que des tokens correspondant à une catégorie. "
      ]
    },
    {
      "cell_type": "code",
      "metadata": {
        "id": "oCEm1hPTr7sX",
        "outputId": "d5481f1d-0c2e-4956-ec66-0934ac296e70",
        "colab": {
          "base_uri": "https://localhost:8080/"
        }
      },
      "source": [
        "word_tokens = word_tokenize(document)\n",
        "pos = nltk.pos_tag(word_tokens)\n",
        "selective_pos = ['NN','VBD']\n",
        "selective_pos_words = []\n",
        "for word,tag in pos:\n",
        "     if tag in selective_pos:\n",
        "         selective_pos_words.append((word,tag))\n",
        "print(selective_pos_words)"
      ],
      "execution_count": 21,
      "outputs": [
        {
          "output_type": "stream",
          "name": "stdout",
          "text": [
            "[('opened', 'VBD'), ('door', 'NN'), ('found', 'VBD'), ('led', 'VBD'), ('passage', 'NN'), ('knelt', 'VBD'), ('looked', 'VBD'), ('passage', 'NN'), ('garden', 'NN'), ('saw', 'VBD'), ('longed', 'VBD'), ('dark', 'NN'), ('hall', 'NN'), ('head', 'NN'), ('doorway', 'NN')]\n"
          ]
        }
      ]
    },
    {
      "cell_type": "markdown",
      "metadata": {
        "id": "JglpVm2u0Qnh"
      },
      "source": [
        "**Mots vides** *Stop words*  \n",
        "\n",
        "Les mots vides correspondent à des mots qui sont tellement commun qu'il n'est pas nécessaire de les considérer dans l'apprentissage. NLTK possède une liste prédéfinie de mots vides faisant référence aux mots les plus courants. La première fois, il est nécessaire de télécharger les mots vides en utilisant : *nltk.download («stopwords»)*. "
      ]
    },
    {
      "cell_type": "code",
      "metadata": {
        "id": "rl_LXV490nlr",
        "outputId": "a04e1bf2-6688-4151-a5d6-6496e6b168d3",
        "colab": {
          "base_uri": "https://localhost:8080/"
        }
      },
      "source": [
        "nltk.download(\"stopwords\")\n",
        "from nltk.corpus import stopwords\n",
        "the_stopwords=set(stopwords.words(\"english\"))\n",
        "print (the_stopwords)"
      ],
      "execution_count": 22,
      "outputs": [
        {
          "output_type": "stream",
          "name": "stdout",
          "text": [
            "{'for', 'but', 'just', 've', 'from', \"couldn't\", 'wasn', 'you', 'theirs', 'they', 'being', 'into', 'each', 'between', 'couldn', 'a', 'hers', 'so', 'ain', \"that'll\", 'other', 'y', 'have', 'any', 'this', \"haven't\", 'during', 'isn', \"shan't\", 'does', 'what', 'my', 'did', 'those', 'won', 'again', 't', 'ours', 'having', 'where', 'o', 'i', 'no', 'been', 'below', \"hasn't\", \"she's\", 'their', 'herself', 'is', 'an', 'own', 'not', 'all', 'her', \"you're\", 'while', 'when', 'it', 'most', 'shan', 'as', 'can', \"didn't\", 'doing', 'too', \"weren't\", \"hadn't\", 'didn', 'were', 'of', \"mustn't\", 'am', 'with', 'because', 'more', 'some', 'ourselves', \"don't\", 'll', 'ma', 'we', 'needn', \"needn't\", 'yourselves', \"wouldn't\", 'who', 'than', 'myself', 'until', 'now', 'that', 'through', 'down', 'once', 'be', 'will', 'out', 'there', 'me', 'against', 'yours', 'to', 'whom', 'its', 'before', \"doesn't\", 'aren', 'had', 'the', \"aren't\", 'off', \"mightn't\", 'do', \"you've\", 'few', 'under', 'haven', 'has', 'in', 'he', \"you'll\", 'over', 're', 'after', 'both', 'are', \"wasn't\", 'him', 'about', 'here', 'further', 'weren', 'wouldn', 'on', 'hasn', 'mustn', 'then', 'his', 'these', 'only', 'by', 'mightn', 'was', \"should've\", \"shouldn't\", 'themselves', 'should', 'himself', 'your', 'itself', 'which', 'our', 'very', \"won't\", 'don', 'yourself', 'doesn', 'how', \"it's\", 'if', 'nor', 'same', 'm', 'hadn', 'and', 'such', 'above', 'why', \"you'd\", 'or', 's', 'd', \"isn't\", 'shouldn', 'at', 'she', 'up', 'them'}\n"
          ]
        },
        {
          "output_type": "stream",
          "name": "stderr",
          "text": [
            "[nltk_data] Downloading package stopwords to /root/nltk_data...\n",
            "[nltk_data]   Package stopwords is already up-to-date!\n"
          ]
        }
      ]
    },
    {
      "cell_type": "markdown",
      "metadata": {
        "id": "X5eUDRh9yf2d"
      },
      "source": [
        "Il est tout à fait possible de supprimer des stopwords de cette liste : "
      ]
    },
    {
      "cell_type": "code",
      "metadata": {
        "id": "1cPB2LflylSr",
        "outputId": "5490145b-6d7a-4d8e-c700-9b476a284320",
        "colab": {
          "base_uri": "https://localhost:8080/"
        }
      },
      "source": [
        "not_stopwords = {'this', 'd', 'o'} \n",
        "#new_stopwords_list=stopwords\n",
        "final_stop_words = set([word for word in the_stopwords if word not in not_stopwords])\n",
        "\n",
        "print (final_stop_words)"
      ],
      "execution_count": 23,
      "outputs": [
        {
          "output_type": "stream",
          "name": "stdout",
          "text": [
            "{'for', 'but', 'just', 've', 'from', \"couldn't\", 'wasn', 'you', 'theirs', 'they', 'being', 'into', 'each', 'between', 'couldn', 'a', 'hers', 'so', 'ain', \"that'll\", 'other', 'y', 'have', 'any', \"haven't\", 'during', 'isn', \"shan't\", 'does', 'what', 'my', 'did', 'those', 'won', 'again', 't', 'ours', 'having', 'where', 'no', 'i', 'been', 'below', \"hasn't\", \"she's\", 'their', 'herself', 'is', 'an', 'own', 'not', 'all', 'her', \"you're\", 'while', 'when', 'it', 'most', 'shan', 'as', 'can', \"didn't\", 'doing', 'too', \"weren't\", \"hadn't\", 'didn', 'were', 'of', \"mustn't\", 'am', 'with', 'because', 'more', 'some', 'ourselves', \"don't\", 'll', 'ma', 'we', 'needn', \"needn't\", 'yourselves', \"wouldn't\", 'who', 'than', 'myself', 'until', 'now', 'that', 'through', 'down', 'once', 'be', 'will', 'out', 'there', 'me', 'against', 'yours', 'to', 'whom', 'its', 'before', \"doesn't\", 'aren', 'had', 'the', \"aren't\", 'off', \"mightn't\", 'do', \"you've\", 'few', 'under', 'haven', 'has', 'in', 'he', \"you'll\", 'over', 're', 'after', 'both', 'are', \"wasn't\", 'him', 'about', 'here', 'further', 'weren', 'wouldn', 'on', 'hasn', 'mustn', 'then', 'his', 'these', 'only', 'by', 'mightn', 'was', \"should've\", \"shouldn't\", 'themselves', 'should', 'himself', 'your', 'itself', 'which', 'our', 'very', \"won't\", 'don', 'yourself', 'doesn', 'how', \"it's\", 'if', 'nor', 'same', 'm', 'hadn', 'and', 'such', 'above', 'why', \"you'd\", 'or', 's', \"isn't\", 'shouldn', 'at', 'she', 'up', 'them'}\n"
          ]
        }
      ]
    },
    {
      "cell_type": "markdown",
      "metadata": {
        "id": "nI8Al_lEx_Q2"
      },
      "source": [
        "# ou d'étendre la liste des stop words."
      ]
    },
    {
      "cell_type": "code",
      "metadata": {
        "id": "d0RxqffXyD61",
        "outputId": "b03a7f11-6945-4cfa-fc4c-d6e40d9603a4",
        "colab": {
          "base_uri": "https://localhost:8080/"
        }
      },
      "source": [
        "new_stopwords=['stopword1', 'stopword2']\n",
        "final_stop_words=final_stop_words.union(new_stopwords)\n",
        "\n",
        "print (final_stop_words)"
      ],
      "execution_count": 24,
      "outputs": [
        {
          "output_type": "stream",
          "name": "stdout",
          "text": [
            "{'for', 'but', 'just', 've', 'from', \"couldn't\", 'wasn', 'you', 'theirs', 'they', 'being', 'into', 'each', 'between', 'couldn', 'a', 'hers', 'so', 'ain', \"that'll\", 'other', 'y', 'have', 'any', \"haven't\", 'during', 'isn', \"shan't\", 'does', 'what', 'my', 'did', 'those', 'won', 'again', 't', 'ours', 'having', 'where', 'no', 'i', 'been', 'below', \"hasn't\", \"she's\", 'their', 'herself', 'is', 'an', 'own', 'not', 'all', 'her', \"you're\", 'while', 'when', 'it', 'most', 'shan', 'as', 'can', \"didn't\", 'doing', 'too', \"weren't\", \"hadn't\", 'didn', 'stopword2', 'were', 'of', \"mustn't\", 'am', 'with', 'because', 'more', 'some', 'ourselves', \"don't\", 'll', 'ma', 'we', 'needn', \"needn't\", 'yourselves', \"wouldn't\", 'who', 'than', 'myself', 'until', 'now', 'that', 'stopword1', 'through', 'down', 'once', 'be', 'will', 'out', 'there', 'me', 'against', 'yours', 'to', 'whom', 'its', 'before', \"doesn't\", 'aren', 'had', 'the', \"aren't\", 'off', \"mightn't\", 'do', \"you've\", 'few', 'under', 'haven', 'has', 'in', 'he', \"you'll\", 'over', 're', 'after', 'both', 'are', \"wasn't\", 'him', 'about', 'here', 'further', 'weren', 'wouldn', 'on', 'hasn', 'mustn', 'then', 'his', 'these', 'only', 'by', 'mightn', 'was', \"should've\", \"shouldn't\", 'themselves', 'should', 'himself', 'your', 'itself', 'which', 'our', 'very', \"won't\", 'don', 'yourself', 'doesn', 'how', \"it's\", 'if', 'nor', 'same', 'm', 'hadn', 'and', 'such', 'above', 'why', \"you'd\", 'or', 's', \"isn't\", 'shouldn', 'at', 'she', 'up', 'them'}\n"
          ]
        }
      ]
    },
    {
      "cell_type": "markdown",
      "metadata": {
        "id": "WhEqqs-009Qx"
      },
      "source": [
        "Pour supprimer les stopwords d'un document, il suffit de rechercher les tokens qui sont inclus dans les stopwords et de les supprimer. "
      ]
    },
    {
      "cell_type": "code",
      "metadata": {
        "id": "AWY3SXt61Fg5",
        "outputId": "4ec51f11-4e97-4b34-8e16-248bfbb22a4f",
        "colab": {
          "base_uri": "https://localhost:8080/"
        }
      },
      "source": [
        "print (\"Avant suppression des stopwords\")\n",
        "print (word_tokens)\n",
        "tokens_Alice=[word for word in word_tokens if word not in the_stopwords]\n",
        "print (\"Après suppression des stopwords\")\n",
        "print (tokens_Alice)"
      ],
      "execution_count": 25,
      "outputs": [
        {
          "output_type": "stream",
          "name": "stdout",
          "text": [
            "Avant suppression des stopwords\n",
            "['Alice', 'opened', 'the', 'door', 'and', 'found', 'that', 'it', 'led', 'into', 'a', 'small', 'passage', ',', 'not', 'much', 'larger', 'than', 'a', 'rat-hole', ':', 'she', 'knelt', 'down', 'and', 'looked', 'along', 'the', 'passage', 'into', 'the', 'loveliest', 'garden', 'you', 'ever', 'saw', '.', 'How', 'she', 'longed', 'to', 'get', 'out', 'of', 'that', 'dark', 'hall', ',', 'and', 'wander', 'about', 'among', 'those', 'beds', 'of', 'bright', 'flowers', 'and', 'those', 'cool', 'fountains', ',', 'but', 'she', 'could', 'not', 'even', 'get', 'her', 'head', 'through', 'the', 'doorway']\n",
            "Après suppression des stopwords\n",
            "['Alice', 'opened', 'door', 'found', 'led', 'small', 'passage', ',', 'much', 'larger', 'rat-hole', ':', 'knelt', 'looked', 'along', 'passage', 'loveliest', 'garden', 'ever', 'saw', '.', 'How', 'longed', 'get', 'dark', 'hall', ',', 'wander', 'among', 'beds', 'bright', 'flowers', 'cool', 'fountains', ',', 'could', 'even', 'get', 'head', 'doorway']\n"
          ]
        }
      ]
    },
    {
      "cell_type": "markdown",
      "metadata": {
        "id": "ma3Z6aCvW79I"
      },
      "source": [
        "**Racinisation** (*stemming*) **et lemmatisation**\n",
        "\n",
        "NLTK utilise l'algorithme de racinisation de Porter et propose une fonction de lemmatisation. Il s'agit de deux approches différentes de transformation des flexions en leur radical ou racine. Voir https://fr.wikipedia.org/wiki/Racinisation.\n",
        "\n"
      ]
    },
    {
      "cell_type": "code",
      "metadata": {
        "id": "aXLBzoABXAxZ",
        "outputId": "5a59ba15-3e27-40ac-c92a-0816fb8ecf78",
        "colab": {
          "base_uri": "https://localhost:8080/"
        }
      },
      "source": [
        "import nltk\n",
        "nltk.download('omw-1.4')\n",
        "from nltk.stem import WordNetLemmatizer\n",
        "ps=nltk.stem.porter.PorterStemmer()\n",
        "\n",
        "print (\"tokens\")\n",
        "print (tokens_Alice)\n",
        "print(\"Stemming\")\n",
        "print([ps.stem(word) for word in tokens_Alice])\n",
        "\n",
        "print(\"Lemmatisation\")\n",
        "lem = nltk.stem.wordnet.WordNetLemmatizer()\n",
        "print([lem.lemmatize(word) for word in tokens_Alice])"
      ],
      "execution_count": 27,
      "outputs": [
        {
          "output_type": "stream",
          "name": "stderr",
          "text": [
            "[nltk_data] Downloading package omw-1.4 to /root/nltk_data...\n"
          ]
        },
        {
          "output_type": "stream",
          "name": "stdout",
          "text": [
            "tokens\n",
            "['Alice', 'opened', 'door', 'found', 'led', 'small', 'passage', ',', 'much', 'larger', 'rat-hole', ':', 'knelt', 'looked', 'along', 'passage', 'loveliest', 'garden', 'ever', 'saw', '.', 'How', 'longed', 'get', 'dark', 'hall', ',', 'wander', 'among', 'beds', 'bright', 'flowers', 'cool', 'fountains', ',', 'could', 'even', 'get', 'head', 'doorway']\n",
            "Stemming\n",
            "['alic', 'open', 'door', 'found', 'led', 'small', 'passag', ',', 'much', 'larger', 'rat-hol', ':', 'knelt', 'look', 'along', 'passag', 'loveliest', 'garden', 'ever', 'saw', '.', 'how', 'long', 'get', 'dark', 'hall', ',', 'wander', 'among', 'bed', 'bright', 'flower', 'cool', 'fountain', ',', 'could', 'even', 'get', 'head', 'doorway']\n",
            "Lemmatisation\n",
            "['Alice', 'opened', 'door', 'found', 'led', 'small', 'passage', ',', 'much', 'larger', 'rat-hole', ':', 'knelt', 'looked', 'along', 'passage', 'loveliest', 'garden', 'ever', 'saw', '.', 'How', 'longed', 'get', 'dark', 'hall', ',', 'wander', 'among', 'bed', 'bright', 'flower', 'cool', 'fountain', ',', 'could', 'even', 'get', 'head', 'doorway']\n"
          ]
        }
      ]
    },
    {
      "cell_type": "markdown",
      "metadata": {
        "id": "rl6QQQZpqth-"
      },
      "source": [
        "NLTK propose aussi un stemmatiseur pour le Français :"
      ]
    },
    {
      "cell_type": "code",
      "metadata": {
        "id": "73HXoHysqnGy",
        "outputId": "0555d397-3358-410d-f427-5598b9d7abfd",
        "colab": {
          "base_uri": "https://localhost:8080/"
        }
      },
      "source": [
        "# un autre stemmatiseur qui accepte le français\n",
        "from nltk.stem.snowball import SnowballStemmer\n",
        "stemmer = SnowballStemmer(\"french\")\n",
        "phrase = \"malade malades maladie maladies maladive\"\n",
        "tokens = word_tokenize(phrase)\n",
        "print (\"Avant transformation \\n\")\n",
        "print (tokens)\n",
        "stemmed = [stemmer.stem(word) for word in tokens]\n",
        "print (\"\\n Après transformation\\n\")\n",
        "print (stemmed)\n"
      ],
      "execution_count": 28,
      "outputs": [
        {
          "output_type": "stream",
          "name": "stdout",
          "text": [
            "Avant transformation \n",
            "\n",
            "['malade', 'malades', 'maladie', 'maladies', 'maladive']\n",
            "\n",
            " Après transformation\n",
            "\n",
            "['malad', 'malad', 'malad', 'malad', 'malad']\n"
          ]
        }
      ]
    },
    {
      "cell_type": "markdown",
      "metadata": {
        "id": "t7mMTp3LS5yS"
      },
      "source": [
        "# Utilisation de Spacy"
      ]
    },
    {
      "cell_type": "markdown",
      "metadata": {
        "id": "Ya8zmorUZbQQ"
      },
      "source": [
        "L'importation de la librairie se fait par : "
      ]
    },
    {
      "cell_type": "code",
      "metadata": {
        "id": "00h8YV5TZeVs"
      },
      "source": [
        "import spacy"
      ],
      "execution_count": 29,
      "outputs": []
    },
    {
      "cell_type": "markdown",
      "metadata": {
        "id": "5l5RetCtZUPs"
      },
      "source": [
        "Spacy utilise un objet particulier, généralement appelé *nlp*, qui va créer un pipeline sur tous les éléments d'un document afin de générer un objet de type doc. Le pipeline de base est le suivant :  \n",
        "<IMG SRC=\"http://www.lirmm.fr/~poncelet/PipelineSpacy.png\" align=\"center\" >\n",
        "Il existe bien entendu différents modèles de pipeline en fonction de la langue.\n"
      ]
    },
    {
      "cell_type": "markdown",
      "metadata": {
        "id": "9lB8dx1PV-g8"
      },
      "source": [
        "Les ressources sont par défaut en anglais. Pour le français, il faut au préalable télécharger la ressource associée par : "
      ]
    },
    {
      "cell_type": "code",
      "metadata": {
        "id": "BbYu4buHWD9l",
        "outputId": "129cc9f8-b52e-498c-8675-31ee7f9710dd",
        "colab": {
          "base_uri": "https://localhost:8080/"
        }
      },
      "source": [
        "!python -m spacy download fr"
      ],
      "execution_count": 30,
      "outputs": [
        {
          "output_type": "stream",
          "name": "stdout",
          "text": [
            "/usr/local/lib/python3.9/dist-packages/torch/cuda/__init__.py:497: UserWarning: Can't initialize NVML\n",
            "  warnings.warn(\"Can't initialize NVML\")\n",
            "2023-03-13 09:32:27.447441: W tensorflow/compiler/xla/stream_executor/platform/default/dso_loader.cc:64] Could not load dynamic library 'libnvinfer.so.7'; dlerror: libnvinfer.so.7: cannot open shared object file: No such file or directory; LD_LIBRARY_PATH: /usr/local/nvidia/lib:/usr/local/nvidia/lib64\n",
            "2023-03-13 09:32:27.447688: W tensorflow/compiler/xla/stream_executor/platform/default/dso_loader.cc:64] Could not load dynamic library 'libnvinfer_plugin.so.7'; dlerror: libnvinfer_plugin.so.7: cannot open shared object file: No such file or directory; LD_LIBRARY_PATH: /usr/local/nvidia/lib:/usr/local/nvidia/lib64\n",
            "2023-03-13 09:32:27.447724: W tensorflow/compiler/tf2tensorrt/utils/py_utils.cc:38] TF-TRT Warning: Cannot dlopen some TensorRT libraries. If you would like to use Nvidia GPU with TensorRT, please make sure the missing libraries mentioned above are installed properly.\n",
            "2023-03-13 09:32:30.169525: E tensorflow/compiler/xla/stream_executor/cuda/cuda_driver.cc:267] failed call to cuInit: CUDA_ERROR_NO_DEVICE: no CUDA-capable device is detected\n",
            "\u001b[38;5;3m⚠ As of spaCy v3.0, shortcuts like 'fr' are deprecated. Please use the\n",
            "full pipeline package name 'fr_core_news_sm' instead.\u001b[0m\n",
            "Looking in indexes: https://pypi.org/simple, https://us-python.pkg.dev/colab-wheels/public/simple/\n",
            "Collecting fr-core-news-sm==3.4.0\n",
            "  Downloading https://github.com/explosion/spacy-models/releases/download/fr_core_news_sm-3.4.0/fr_core_news_sm-3.4.0-py3-none-any.whl (16.3 MB)\n",
            "\u001b[2K     \u001b[90m━━━━━━━━━━━━━━━━━━━━━━━━━━━━━━━━━━━━━━━━\u001b[0m \u001b[32m16.3/16.3 MB\u001b[0m \u001b[31m42.0 MB/s\u001b[0m eta \u001b[36m0:00:00\u001b[0m\n",
            "\u001b[?25hRequirement already satisfied: spacy<3.5.0,>=3.4.0 in /usr/local/lib/python3.9/dist-packages (from fr-core-news-sm==3.4.0) (3.4.4)\n",
            "Requirement already satisfied: murmurhash<1.1.0,>=0.28.0 in /usr/local/lib/python3.9/dist-packages (from spacy<3.5.0,>=3.4.0->fr-core-news-sm==3.4.0) (1.0.9)\n",
            "Requirement already satisfied: pathy>=0.3.5 in /usr/local/lib/python3.9/dist-packages (from spacy<3.5.0,>=3.4.0->fr-core-news-sm==3.4.0) (0.10.1)\n",
            "Requirement already satisfied: cymem<2.1.0,>=2.0.2 in /usr/local/lib/python3.9/dist-packages (from spacy<3.5.0,>=3.4.0->fr-core-news-sm==3.4.0) (2.0.7)\n",
            "Requirement already satisfied: spacy-legacy<3.1.0,>=3.0.10 in /usr/local/lib/python3.9/dist-packages (from spacy<3.5.0,>=3.4.0->fr-core-news-sm==3.4.0) (3.0.12)\n",
            "Requirement already satisfied: langcodes<4.0.0,>=3.2.0 in /usr/local/lib/python3.9/dist-packages (from spacy<3.5.0,>=3.4.0->fr-core-news-sm==3.4.0) (3.3.0)\n",
            "Requirement already satisfied: pydantic!=1.8,!=1.8.1,<1.11.0,>=1.7.4 in /usr/local/lib/python3.9/dist-packages (from spacy<3.5.0,>=3.4.0->fr-core-news-sm==3.4.0) (1.10.5)\n",
            "Requirement already satisfied: catalogue<2.1.0,>=2.0.6 in /usr/local/lib/python3.9/dist-packages (from spacy<3.5.0,>=3.4.0->fr-core-news-sm==3.4.0) (2.0.8)\n",
            "Requirement already satisfied: tqdm<5.0.0,>=4.38.0 in /usr/local/lib/python3.9/dist-packages (from spacy<3.5.0,>=3.4.0->fr-core-news-sm==3.4.0) (4.65.0)\n",
            "Requirement already satisfied: jinja2 in /usr/local/lib/python3.9/dist-packages (from spacy<3.5.0,>=3.4.0->fr-core-news-sm==3.4.0) (3.1.2)\n",
            "Requirement already satisfied: preshed<3.1.0,>=3.0.2 in /usr/local/lib/python3.9/dist-packages (from spacy<3.5.0,>=3.4.0->fr-core-news-sm==3.4.0) (3.0.8)\n",
            "Requirement already satisfied: wasabi<1.1.0,>=0.9.1 in /usr/local/lib/python3.9/dist-packages (from spacy<3.5.0,>=3.4.0->fr-core-news-sm==3.4.0) (0.10.1)\n",
            "Requirement already satisfied: setuptools in /usr/local/lib/python3.9/dist-packages (from spacy<3.5.0,>=3.4.0->fr-core-news-sm==3.4.0) (57.4.0)\n",
            "Requirement already satisfied: requests<3.0.0,>=2.13.0 in /usr/local/lib/python3.9/dist-packages (from spacy<3.5.0,>=3.4.0->fr-core-news-sm==3.4.0) (2.25.1)\n",
            "Requirement already satisfied: srsly<3.0.0,>=2.4.3 in /usr/local/lib/python3.9/dist-packages (from spacy<3.5.0,>=3.4.0->fr-core-news-sm==3.4.0) (2.4.6)\n",
            "Requirement already satisfied: typer<0.8.0,>=0.3.0 in /usr/local/lib/python3.9/dist-packages (from spacy<3.5.0,>=3.4.0->fr-core-news-sm==3.4.0) (0.7.0)\n",
            "Requirement already satisfied: spacy-loggers<2.0.0,>=1.0.0 in /usr/local/lib/python3.9/dist-packages (from spacy<3.5.0,>=3.4.0->fr-core-news-sm==3.4.0) (1.0.4)\n",
            "Requirement already satisfied: thinc<8.2.0,>=8.1.0 in /usr/local/lib/python3.9/dist-packages (from spacy<3.5.0,>=3.4.0->fr-core-news-sm==3.4.0) (8.1.8)\n",
            "Requirement already satisfied: numpy>=1.15.0 in /usr/local/lib/python3.9/dist-packages (from spacy<3.5.0,>=3.4.0->fr-core-news-sm==3.4.0) (1.22.4)\n",
            "Requirement already satisfied: packaging>=20.0 in /usr/local/lib/python3.9/dist-packages (from spacy<3.5.0,>=3.4.0->fr-core-news-sm==3.4.0) (23.0)\n",
            "Requirement already satisfied: smart-open<7.0.0,>=5.2.1 in /usr/local/lib/python3.9/dist-packages (from spacy<3.5.0,>=3.4.0->fr-core-news-sm==3.4.0) (6.3.0)\n",
            "Requirement already satisfied: typing-extensions>=4.2.0 in /usr/local/lib/python3.9/dist-packages (from pydantic!=1.8,!=1.8.1,<1.11.0,>=1.7.4->spacy<3.5.0,>=3.4.0->fr-core-news-sm==3.4.0) (4.5.0)\n",
            "Requirement already satisfied: idna<3,>=2.5 in /usr/local/lib/python3.9/dist-packages (from requests<3.0.0,>=2.13.0->spacy<3.5.0,>=3.4.0->fr-core-news-sm==3.4.0) (2.10)\n",
            "Requirement already satisfied: certifi>=2017.4.17 in /usr/local/lib/python3.9/dist-packages (from requests<3.0.0,>=2.13.0->spacy<3.5.0,>=3.4.0->fr-core-news-sm==3.4.0) (2022.12.7)\n",
            "Requirement already satisfied: urllib3<1.27,>=1.21.1 in /usr/local/lib/python3.9/dist-packages (from requests<3.0.0,>=2.13.0->spacy<3.5.0,>=3.4.0->fr-core-news-sm==3.4.0) (1.26.14)\n",
            "Requirement already satisfied: chardet<5,>=3.0.2 in /usr/local/lib/python3.9/dist-packages (from requests<3.0.0,>=2.13.0->spacy<3.5.0,>=3.4.0->fr-core-news-sm==3.4.0) (4.0.0)\n",
            "Requirement already satisfied: confection<1.0.0,>=0.0.1 in /usr/local/lib/python3.9/dist-packages (from thinc<8.2.0,>=8.1.0->spacy<3.5.0,>=3.4.0->fr-core-news-sm==3.4.0) (0.0.4)\n",
            "Requirement already satisfied: blis<0.8.0,>=0.7.8 in /usr/local/lib/python3.9/dist-packages (from thinc<8.2.0,>=8.1.0->spacy<3.5.0,>=3.4.0->fr-core-news-sm==3.4.0) (0.7.9)\n",
            "Requirement already satisfied: click<9.0.0,>=7.1.1 in /usr/local/lib/python3.9/dist-packages (from typer<0.8.0,>=0.3.0->spacy<3.5.0,>=3.4.0->fr-core-news-sm==3.4.0) (8.1.3)\n",
            "Requirement already satisfied: MarkupSafe>=2.0 in /usr/local/lib/python3.9/dist-packages (from jinja2->spacy<3.5.0,>=3.4.0->fr-core-news-sm==3.4.0) (2.1.2)\n",
            "Installing collected packages: fr-core-news-sm\n",
            "Successfully installed fr-core-news-sm-3.4.0\n",
            "\u001b[38;5;2m✔ Download and installation successful\u001b[0m\n",
            "You can now load the package via spacy.load('fr_core_news_sm')\n"
          ]
        }
      ]
    },
    {
      "cell_type": "code",
      "metadata": {
        "id": "zz_himxdZYiF",
        "outputId": "0319e0e3-40ec-45e7-e3a5-de1bb56f45a6",
        "colab": {
          "base_uri": "https://localhost:8080/"
        }
      },
      "source": [
        "from spacy.lang.fr import French\n",
        "\n",
        "# Création d'un objet nlp\n",
        "nlp = French()\n",
        "\n",
        "# Créé en traitant une chaine de caractères avec l'objet nlp\n",
        "doc = nlp(\"Bonjour monde !\")\n",
        "\n",
        "# Itère sur les tokens dans un Doc\n",
        "for token in doc:\n",
        "    print(token.text)\n",
        "\n",
        "# remise des ressources en anglais pour la suite\n",
        "nlp = spacy.load('en_core_web_sm')"
      ],
      "execution_count": 32,
      "outputs": [
        {
          "output_type": "stream",
          "name": "stdout",
          "text": [
            "Bonjour\n",
            "monde\n",
            "!\n"
          ]
        }
      ]
    },
    {
      "cell_type": "code",
      "metadata": {
        "id": "Ly6B3-khMhXp"
      },
      "source": [
        "document = \"Alice opened the door and found that it led into a small passage, not much larger than a rat-hole: she knelt down and looked along the passage into the loveliest garden you ever saw. \\\n",
        "How she longed to get out of that dark hall, and wander about among those beds of bright flowers and those cool fountains, but she could not even get her head through the doorway\""
      ],
      "execution_count": 33,
      "outputs": []
    },
    {
      "cell_type": "markdown",
      "metadata": {
        "id": "WIf8lwzg-g-G"
      },
      "source": [
        "**Découpage en phrases, tokenisation et analyse grammaticale**  \n",
        "\n",
        "Le découpage en phrases se fait via l'attribut (*sents*) lors de la création du pipeline. "
      ]
    },
    {
      "cell_type": "code",
      "metadata": {
        "id": "Qg3RUCK6803b",
        "outputId": "6187eee8-9cae-4142-9c52-6a79f2da3234",
        "colab": {
          "base_uri": "https://localhost:8080/"
        }
      },
      "source": [
        "# le document est en anglais\n",
        "nlp = spacy.load('en_core_web_sm')\n",
        "\n",
        "doc=nlp(document)\n",
        "for phrases_spacy in doc.sents:\n",
        "  print (\"phrases : \", phrases_spacy)\n",
        "\n",
        "#sauvegarde des phrases dans un tableau pour les manipulations ultérieures\n",
        "sentences = [sent.text.strip() for sent in doc.sents]"
      ],
      "execution_count": 36,
      "outputs": [
        {
          "output_type": "stream",
          "name": "stdout",
          "text": [
            "phrases :  Alice opened the door and found that it led into a small passage, not much larger than a rat-hole: she knelt down and looked along the passage into the loveliest garden you ever saw.\n",
            "phrases :  How she longed to get out of that dark hall, and wander about among those beds of bright flowers and those cool fountains, but she could not even get her head through the doorway\n"
          ]
        }
      ]
    },
    {
      "cell_type": "markdown",
      "metadata": {
        "id": "OB_yPVAmM0J3"
      },
      "source": [
        "Spacy permet d'avoir de très nombreuses information sur les tokens : le token, l'index (associé au nombre de caractères), le lemme associé (voir plus loin), s'il s'agit d'un caractère de ponctuation, d'un espace, la forme (un X représente une majuscule et un x une minuscule), sa catégorie (Part of Speech tagging), le tag associé, s'il s'agit dune entité nommée, etc.\n",
        "\n",
        "La liste des différents attributs est disponible ici : https://spacy.io/api/token\n",
        "\n"
      ]
    },
    {
      "cell_type": "code",
      "metadata": {
        "id": "rew84aYgEwXH",
        "outputId": "d91d0cfe-dfa7-44ed-89ca-7433a1d106aa",
        "colab": {
          "base_uri": "https://localhost:8080/"
        }
      },
      "source": [
        "#traitement de la première phrase\n",
        "first_sentence=nlp(sentences[0])\n",
        "\n",
        "for token in first_sentence:\n",
        "    # l'objet token contient différents attributs\n",
        "    print(\"{0}\\t{1}\\t{2}\\t{3}\\t{4}\\t{5}\\t{6}\\t{7}\\t{8}\".format(\n",
        "        token.text,\n",
        "        token.idx,\n",
        "        token.lemma_,\n",
        "        token.is_punct,\n",
        "        token.is_space,\n",
        "        token.shape_,\n",
        "        token.pos_,\n",
        "        token.tag_,\n",
        "        token.ent_type_\n",
        "    ))"
      ],
      "execution_count": 38,
      "outputs": [
        {
          "output_type": "stream",
          "name": "stdout",
          "text": [
            "Alice\t0\tAlice\tFalse\tFalse\tXxxxx\tPROPN\tNNP\tPERSON\n",
            "opened\t6\topen\tFalse\tFalse\txxxx\tVERB\tVBD\t\n",
            "the\t13\tthe\tFalse\tFalse\txxx\tDET\tDT\t\n",
            "door\t17\tdoor\tFalse\tFalse\txxxx\tNOUN\tNN\t\n",
            "and\t22\tand\tFalse\tFalse\txxx\tCCONJ\tCC\t\n",
            "found\t26\tfind\tFalse\tFalse\txxxx\tVERB\tVBD\t\n",
            "that\t32\tthat\tFalse\tFalse\txxxx\tSCONJ\tIN\t\n",
            "it\t37\tit\tFalse\tFalse\txx\tPRON\tPRP\t\n",
            "led\t40\tlead\tFalse\tFalse\txxx\tVERB\tVBD\t\n",
            "into\t44\tinto\tFalse\tFalse\txxxx\tADP\tIN\t\n",
            "a\t49\ta\tFalse\tFalse\tx\tDET\tDT\t\n",
            "small\t51\tsmall\tFalse\tFalse\txxxx\tADJ\tJJ\t\n",
            "passage\t57\tpassage\tFalse\tFalse\txxxx\tNOUN\tNN\t\n",
            ",\t64\t,\tTrue\tFalse\t,\tPUNCT\t,\t\n",
            "not\t66\tnot\tFalse\tFalse\txxx\tPART\tRB\t\n",
            "much\t70\tmuch\tFalse\tFalse\txxxx\tADV\tRB\t\n",
            "larger\t75\tlarge\tFalse\tFalse\txxxx\tADJ\tJJR\t\n",
            "than\t82\tthan\tFalse\tFalse\txxxx\tADP\tIN\t\n",
            "a\t87\ta\tFalse\tFalse\tx\tDET\tDT\t\n",
            "rat\t89\trat\tFalse\tFalse\txxx\tNOUN\tNN\t\n",
            "-\t92\t-\tTrue\tFalse\t-\tNOUN\tNN\t\n",
            "hole\t93\thole\tFalse\tFalse\txxxx\tNOUN\tNN\t\n",
            ":\t97\t:\tTrue\tFalse\t:\tPUNCT\t:\t\n",
            "she\t99\tshe\tFalse\tFalse\txxx\tPRON\tPRP\t\n",
            "knelt\t103\tkneel\tFalse\tFalse\txxxx\tVERB\tVBD\t\n",
            "down\t109\tdown\tFalse\tFalse\txxxx\tADP\tRP\t\n",
            "and\t114\tand\tFalse\tFalse\txxx\tCCONJ\tCC\t\n",
            "looked\t118\tlook\tFalse\tFalse\txxxx\tVERB\tVBD\t\n",
            "along\t125\talong\tFalse\tFalse\txxxx\tADP\tIN\t\n",
            "the\t131\tthe\tFalse\tFalse\txxx\tDET\tDT\t\n",
            "passage\t135\tpassage\tFalse\tFalse\txxxx\tNOUN\tNN\t\n",
            "into\t143\tinto\tFalse\tFalse\txxxx\tADP\tIN\t\n",
            "the\t148\tthe\tFalse\tFalse\txxx\tDET\tDT\t\n",
            "loveliest\t152\tlovely\tFalse\tFalse\txxxx\tADJ\tJJS\t\n",
            "garden\t162\tgarden\tFalse\tFalse\txxxx\tNOUN\tNN\t\n",
            "you\t169\tyou\tFalse\tFalse\txxx\tPRON\tPRP\t\n",
            "ever\t173\tever\tFalse\tFalse\txxxx\tADV\tRB\t\n",
            "saw\t178\tsee\tFalse\tFalse\txxx\tVERB\tVBD\t\n",
            ".\t181\t.\tTrue\tFalse\t.\tPUNCT\t.\t\n"
          ]
        }
      ]
    },
    {
      "cell_type": "markdown",
      "metadata": {
        "id": "XWAOK2Sybnhc"
      },
      "source": [
        "Il est également possible de visualiser les résultats de l'analyse grammaticale : \n"
      ]
    },
    {
      "cell_type": "code",
      "metadata": {
        "id": "psqfIi5gbxkH",
        "outputId": "763405d9-0485-4ee3-bf11-62d958d071c6",
        "colab": {
          "base_uri": "https://localhost:8080/",
          "height": 391
        }
      },
      "source": [
        "from spacy import displacy\n",
        "displacy.render(first_sentence, style='dep', jupyter=True, options={'distance': 85})"
      ],
      "execution_count": 39,
      "outputs": [
        {
          "output_type": "display_data",
          "data": {
            "text/plain": [
              "<IPython.core.display.HTML object>"
            ],
            "text/html": [
              "<span class=\"tex2jax_ignore\"><svg xmlns=\"http://www.w3.org/2000/svg\" xmlns:xlink=\"http://www.w3.org/1999/xlink\" xml:lang=\"en\" id=\"e87718b180af4d5297247464700b58b6-0\" class=\"displacy\" width=\"3025\" height=\"349.5\" direction=\"ltr\" style=\"max-width: none; height: 349.5px; color: #000000; background: #ffffff; font-family: Arial; direction: ltr\">\n",
              "<text class=\"displacy-token\" fill=\"currentColor\" text-anchor=\"middle\" y=\"259.5\">\n",
              "    <tspan class=\"displacy-word\" fill=\"currentColor\" x=\"50\">Alice</tspan>\n",
              "    <tspan class=\"displacy-tag\" dy=\"2em\" fill=\"currentColor\" x=\"50\">PROPN</tspan>\n",
              "</text>\n",
              "\n",
              "<text class=\"displacy-token\" fill=\"currentColor\" text-anchor=\"middle\" y=\"259.5\">\n",
              "    <tspan class=\"displacy-word\" fill=\"currentColor\" x=\"135\">opened</tspan>\n",
              "    <tspan class=\"displacy-tag\" dy=\"2em\" fill=\"currentColor\" x=\"135\">VERB</tspan>\n",
              "</text>\n",
              "\n",
              "<text class=\"displacy-token\" fill=\"currentColor\" text-anchor=\"middle\" y=\"259.5\">\n",
              "    <tspan class=\"displacy-word\" fill=\"currentColor\" x=\"220\">the</tspan>\n",
              "    <tspan class=\"displacy-tag\" dy=\"2em\" fill=\"currentColor\" x=\"220\">DET</tspan>\n",
              "</text>\n",
              "\n",
              "<text class=\"displacy-token\" fill=\"currentColor\" text-anchor=\"middle\" y=\"259.5\">\n",
              "    <tspan class=\"displacy-word\" fill=\"currentColor\" x=\"305\">door</tspan>\n",
              "    <tspan class=\"displacy-tag\" dy=\"2em\" fill=\"currentColor\" x=\"305\">NOUN</tspan>\n",
              "</text>\n",
              "\n",
              "<text class=\"displacy-token\" fill=\"currentColor\" text-anchor=\"middle\" y=\"259.5\">\n",
              "    <tspan class=\"displacy-word\" fill=\"currentColor\" x=\"390\">and</tspan>\n",
              "    <tspan class=\"displacy-tag\" dy=\"2em\" fill=\"currentColor\" x=\"390\">CCONJ</tspan>\n",
              "</text>\n",
              "\n",
              "<text class=\"displacy-token\" fill=\"currentColor\" text-anchor=\"middle\" y=\"259.5\">\n",
              "    <tspan class=\"displacy-word\" fill=\"currentColor\" x=\"475\">found</tspan>\n",
              "    <tspan class=\"displacy-tag\" dy=\"2em\" fill=\"currentColor\" x=\"475\">VERB</tspan>\n",
              "</text>\n",
              "\n",
              "<text class=\"displacy-token\" fill=\"currentColor\" text-anchor=\"middle\" y=\"259.5\">\n",
              "    <tspan class=\"displacy-word\" fill=\"currentColor\" x=\"560\">that</tspan>\n",
              "    <tspan class=\"displacy-tag\" dy=\"2em\" fill=\"currentColor\" x=\"560\">SCONJ</tspan>\n",
              "</text>\n",
              "\n",
              "<text class=\"displacy-token\" fill=\"currentColor\" text-anchor=\"middle\" y=\"259.5\">\n",
              "    <tspan class=\"displacy-word\" fill=\"currentColor\" x=\"645\">it</tspan>\n",
              "    <tspan class=\"displacy-tag\" dy=\"2em\" fill=\"currentColor\" x=\"645\">PRON</tspan>\n",
              "</text>\n",
              "\n",
              "<text class=\"displacy-token\" fill=\"currentColor\" text-anchor=\"middle\" y=\"259.5\">\n",
              "    <tspan class=\"displacy-word\" fill=\"currentColor\" x=\"730\">led</tspan>\n",
              "    <tspan class=\"displacy-tag\" dy=\"2em\" fill=\"currentColor\" x=\"730\">VERB</tspan>\n",
              "</text>\n",
              "\n",
              "<text class=\"displacy-token\" fill=\"currentColor\" text-anchor=\"middle\" y=\"259.5\">\n",
              "    <tspan class=\"displacy-word\" fill=\"currentColor\" x=\"815\">into</tspan>\n",
              "    <tspan class=\"displacy-tag\" dy=\"2em\" fill=\"currentColor\" x=\"815\">ADP</tspan>\n",
              "</text>\n",
              "\n",
              "<text class=\"displacy-token\" fill=\"currentColor\" text-anchor=\"middle\" y=\"259.5\">\n",
              "    <tspan class=\"displacy-word\" fill=\"currentColor\" x=\"900\">a</tspan>\n",
              "    <tspan class=\"displacy-tag\" dy=\"2em\" fill=\"currentColor\" x=\"900\">DET</tspan>\n",
              "</text>\n",
              "\n",
              "<text class=\"displacy-token\" fill=\"currentColor\" text-anchor=\"middle\" y=\"259.5\">\n",
              "    <tspan class=\"displacy-word\" fill=\"currentColor\" x=\"985\">small</tspan>\n",
              "    <tspan class=\"displacy-tag\" dy=\"2em\" fill=\"currentColor\" x=\"985\">ADJ</tspan>\n",
              "</text>\n",
              "\n",
              "<text class=\"displacy-token\" fill=\"currentColor\" text-anchor=\"middle\" y=\"259.5\">\n",
              "    <tspan class=\"displacy-word\" fill=\"currentColor\" x=\"1070\">passage,</tspan>\n",
              "    <tspan class=\"displacy-tag\" dy=\"2em\" fill=\"currentColor\" x=\"1070\">NOUN</tspan>\n",
              "</text>\n",
              "\n",
              "<text class=\"displacy-token\" fill=\"currentColor\" text-anchor=\"middle\" y=\"259.5\">\n",
              "    <tspan class=\"displacy-word\" fill=\"currentColor\" x=\"1155\">not</tspan>\n",
              "    <tspan class=\"displacy-tag\" dy=\"2em\" fill=\"currentColor\" x=\"1155\">PART</tspan>\n",
              "</text>\n",
              "\n",
              "<text class=\"displacy-token\" fill=\"currentColor\" text-anchor=\"middle\" y=\"259.5\">\n",
              "    <tspan class=\"displacy-word\" fill=\"currentColor\" x=\"1240\">much</tspan>\n",
              "    <tspan class=\"displacy-tag\" dy=\"2em\" fill=\"currentColor\" x=\"1240\">ADV</tspan>\n",
              "</text>\n",
              "\n",
              "<text class=\"displacy-token\" fill=\"currentColor\" text-anchor=\"middle\" y=\"259.5\">\n",
              "    <tspan class=\"displacy-word\" fill=\"currentColor\" x=\"1325\">larger</tspan>\n",
              "    <tspan class=\"displacy-tag\" dy=\"2em\" fill=\"currentColor\" x=\"1325\">ADJ</tspan>\n",
              "</text>\n",
              "\n",
              "<text class=\"displacy-token\" fill=\"currentColor\" text-anchor=\"middle\" y=\"259.5\">\n",
              "    <tspan class=\"displacy-word\" fill=\"currentColor\" x=\"1410\">than</tspan>\n",
              "    <tspan class=\"displacy-tag\" dy=\"2em\" fill=\"currentColor\" x=\"1410\">ADP</tspan>\n",
              "</text>\n",
              "\n",
              "<text class=\"displacy-token\" fill=\"currentColor\" text-anchor=\"middle\" y=\"259.5\">\n",
              "    <tspan class=\"displacy-word\" fill=\"currentColor\" x=\"1495\">a</tspan>\n",
              "    <tspan class=\"displacy-tag\" dy=\"2em\" fill=\"currentColor\" x=\"1495\">DET</tspan>\n",
              "</text>\n",
              "\n",
              "<text class=\"displacy-token\" fill=\"currentColor\" text-anchor=\"middle\" y=\"259.5\">\n",
              "    <tspan class=\"displacy-word\" fill=\"currentColor\" x=\"1580\">rat-</tspan>\n",
              "    <tspan class=\"displacy-tag\" dy=\"2em\" fill=\"currentColor\" x=\"1580\">NOUN</tspan>\n",
              "</text>\n",
              "\n",
              "<text class=\"displacy-token\" fill=\"currentColor\" text-anchor=\"middle\" y=\"259.5\">\n",
              "    <tspan class=\"displacy-word\" fill=\"currentColor\" x=\"1665\">hole:</tspan>\n",
              "    <tspan class=\"displacy-tag\" dy=\"2em\" fill=\"currentColor\" x=\"1665\">NOUN</tspan>\n",
              "</text>\n",
              "\n",
              "<text class=\"displacy-token\" fill=\"currentColor\" text-anchor=\"middle\" y=\"259.5\">\n",
              "    <tspan class=\"displacy-word\" fill=\"currentColor\" x=\"1750\">she</tspan>\n",
              "    <tspan class=\"displacy-tag\" dy=\"2em\" fill=\"currentColor\" x=\"1750\">PRON</tspan>\n",
              "</text>\n",
              "\n",
              "<text class=\"displacy-token\" fill=\"currentColor\" text-anchor=\"middle\" y=\"259.5\">\n",
              "    <tspan class=\"displacy-word\" fill=\"currentColor\" x=\"1835\">knelt</tspan>\n",
              "    <tspan class=\"displacy-tag\" dy=\"2em\" fill=\"currentColor\" x=\"1835\">VERB</tspan>\n",
              "</text>\n",
              "\n",
              "<text class=\"displacy-token\" fill=\"currentColor\" text-anchor=\"middle\" y=\"259.5\">\n",
              "    <tspan class=\"displacy-word\" fill=\"currentColor\" x=\"1920\">down</tspan>\n",
              "    <tspan class=\"displacy-tag\" dy=\"2em\" fill=\"currentColor\" x=\"1920\">ADP</tspan>\n",
              "</text>\n",
              "\n",
              "<text class=\"displacy-token\" fill=\"currentColor\" text-anchor=\"middle\" y=\"259.5\">\n",
              "    <tspan class=\"displacy-word\" fill=\"currentColor\" x=\"2005\">and</tspan>\n",
              "    <tspan class=\"displacy-tag\" dy=\"2em\" fill=\"currentColor\" x=\"2005\">CCONJ</tspan>\n",
              "</text>\n",
              "\n",
              "<text class=\"displacy-token\" fill=\"currentColor\" text-anchor=\"middle\" y=\"259.5\">\n",
              "    <tspan class=\"displacy-word\" fill=\"currentColor\" x=\"2090\">looked</tspan>\n",
              "    <tspan class=\"displacy-tag\" dy=\"2em\" fill=\"currentColor\" x=\"2090\">VERB</tspan>\n",
              "</text>\n",
              "\n",
              "<text class=\"displacy-token\" fill=\"currentColor\" text-anchor=\"middle\" y=\"259.5\">\n",
              "    <tspan class=\"displacy-word\" fill=\"currentColor\" x=\"2175\">along</tspan>\n",
              "    <tspan class=\"displacy-tag\" dy=\"2em\" fill=\"currentColor\" x=\"2175\">ADP</tspan>\n",
              "</text>\n",
              "\n",
              "<text class=\"displacy-token\" fill=\"currentColor\" text-anchor=\"middle\" y=\"259.5\">\n",
              "    <tspan class=\"displacy-word\" fill=\"currentColor\" x=\"2260\">the</tspan>\n",
              "    <tspan class=\"displacy-tag\" dy=\"2em\" fill=\"currentColor\" x=\"2260\">DET</tspan>\n",
              "</text>\n",
              "\n",
              "<text class=\"displacy-token\" fill=\"currentColor\" text-anchor=\"middle\" y=\"259.5\">\n",
              "    <tspan class=\"displacy-word\" fill=\"currentColor\" x=\"2345\">passage</tspan>\n",
              "    <tspan class=\"displacy-tag\" dy=\"2em\" fill=\"currentColor\" x=\"2345\">NOUN</tspan>\n",
              "</text>\n",
              "\n",
              "<text class=\"displacy-token\" fill=\"currentColor\" text-anchor=\"middle\" y=\"259.5\">\n",
              "    <tspan class=\"displacy-word\" fill=\"currentColor\" x=\"2430\">into</tspan>\n",
              "    <tspan class=\"displacy-tag\" dy=\"2em\" fill=\"currentColor\" x=\"2430\">ADP</tspan>\n",
              "</text>\n",
              "\n",
              "<text class=\"displacy-token\" fill=\"currentColor\" text-anchor=\"middle\" y=\"259.5\">\n",
              "    <tspan class=\"displacy-word\" fill=\"currentColor\" x=\"2515\">the</tspan>\n",
              "    <tspan class=\"displacy-tag\" dy=\"2em\" fill=\"currentColor\" x=\"2515\">DET</tspan>\n",
              "</text>\n",
              "\n",
              "<text class=\"displacy-token\" fill=\"currentColor\" text-anchor=\"middle\" y=\"259.5\">\n",
              "    <tspan class=\"displacy-word\" fill=\"currentColor\" x=\"2600\">loveliest</tspan>\n",
              "    <tspan class=\"displacy-tag\" dy=\"2em\" fill=\"currentColor\" x=\"2600\">ADJ</tspan>\n",
              "</text>\n",
              "\n",
              "<text class=\"displacy-token\" fill=\"currentColor\" text-anchor=\"middle\" y=\"259.5\">\n",
              "    <tspan class=\"displacy-word\" fill=\"currentColor\" x=\"2685\">garden</tspan>\n",
              "    <tspan class=\"displacy-tag\" dy=\"2em\" fill=\"currentColor\" x=\"2685\">NOUN</tspan>\n",
              "</text>\n",
              "\n",
              "<text class=\"displacy-token\" fill=\"currentColor\" text-anchor=\"middle\" y=\"259.5\">\n",
              "    <tspan class=\"displacy-word\" fill=\"currentColor\" x=\"2770\">you</tspan>\n",
              "    <tspan class=\"displacy-tag\" dy=\"2em\" fill=\"currentColor\" x=\"2770\">PRON</tspan>\n",
              "</text>\n",
              "\n",
              "<text class=\"displacy-token\" fill=\"currentColor\" text-anchor=\"middle\" y=\"259.5\">\n",
              "    <tspan class=\"displacy-word\" fill=\"currentColor\" x=\"2855\">ever</tspan>\n",
              "    <tspan class=\"displacy-tag\" dy=\"2em\" fill=\"currentColor\" x=\"2855\">ADV</tspan>\n",
              "</text>\n",
              "\n",
              "<text class=\"displacy-token\" fill=\"currentColor\" text-anchor=\"middle\" y=\"259.5\">\n",
              "    <tspan class=\"displacy-word\" fill=\"currentColor\" x=\"2940\">saw.</tspan>\n",
              "    <tspan class=\"displacy-tag\" dy=\"2em\" fill=\"currentColor\" x=\"2940\">VERB</tspan>\n",
              "</text>\n",
              "\n",
              "<g class=\"displacy-arrow\">\n",
              "    <path class=\"displacy-arc\" id=\"arrow-e87718b180af4d5297247464700b58b6-0-0\" stroke-width=\"2px\" d=\"M70,214.5 C70,172.0 115.0,172.0 115.0,214.5\" fill=\"none\" stroke=\"currentColor\"/>\n",
              "    <text dy=\"1.25em\" style=\"font-size: 0.8em; letter-spacing: 1px\">\n",
              "        <textPath xlink:href=\"#arrow-e87718b180af4d5297247464700b58b6-0-0\" class=\"displacy-label\" startOffset=\"50%\" side=\"left\" fill=\"currentColor\" text-anchor=\"middle\">nsubj</textPath>\n",
              "    </text>\n",
              "    <path class=\"displacy-arrowhead\" d=\"M70,216.5 L62,204.5 78,204.5\" fill=\"currentColor\"/>\n",
              "</g>\n",
              "\n",
              "<g class=\"displacy-arrow\">\n",
              "    <path class=\"displacy-arc\" id=\"arrow-e87718b180af4d5297247464700b58b6-0-1\" stroke-width=\"2px\" d=\"M155,214.5 C155,2.0 1835.0,2.0 1835.0,214.5\" fill=\"none\" stroke=\"currentColor\"/>\n",
              "    <text dy=\"1.25em\" style=\"font-size: 0.8em; letter-spacing: 1px\">\n",
              "        <textPath xlink:href=\"#arrow-e87718b180af4d5297247464700b58b6-0-1\" class=\"displacy-label\" startOffset=\"50%\" side=\"left\" fill=\"currentColor\" text-anchor=\"middle\">ccomp</textPath>\n",
              "    </text>\n",
              "    <path class=\"displacy-arrowhead\" d=\"M155,216.5 L147,204.5 163,204.5\" fill=\"currentColor\"/>\n",
              "</g>\n",
              "\n",
              "<g class=\"displacy-arrow\">\n",
              "    <path class=\"displacy-arc\" id=\"arrow-e87718b180af4d5297247464700b58b6-0-2\" stroke-width=\"2px\" d=\"M240,214.5 C240,172.0 285.0,172.0 285.0,214.5\" fill=\"none\" stroke=\"currentColor\"/>\n",
              "    <text dy=\"1.25em\" style=\"font-size: 0.8em; letter-spacing: 1px\">\n",
              "        <textPath xlink:href=\"#arrow-e87718b180af4d5297247464700b58b6-0-2\" class=\"displacy-label\" startOffset=\"50%\" side=\"left\" fill=\"currentColor\" text-anchor=\"middle\">det</textPath>\n",
              "    </text>\n",
              "    <path class=\"displacy-arrowhead\" d=\"M240,216.5 L232,204.5 248,204.5\" fill=\"currentColor\"/>\n",
              "</g>\n",
              "\n",
              "<g class=\"displacy-arrow\">\n",
              "    <path class=\"displacy-arc\" id=\"arrow-e87718b180af4d5297247464700b58b6-0-3\" stroke-width=\"2px\" d=\"M155,214.5 C155,129.5 290.0,129.5 290.0,214.5\" fill=\"none\" stroke=\"currentColor\"/>\n",
              "    <text dy=\"1.25em\" style=\"font-size: 0.8em; letter-spacing: 1px\">\n",
              "        <textPath xlink:href=\"#arrow-e87718b180af4d5297247464700b58b6-0-3\" class=\"displacy-label\" startOffset=\"50%\" side=\"left\" fill=\"currentColor\" text-anchor=\"middle\">dobj</textPath>\n",
              "    </text>\n",
              "    <path class=\"displacy-arrowhead\" d=\"M290.0,216.5 L298.0,204.5 282.0,204.5\" fill=\"currentColor\"/>\n",
              "</g>\n",
              "\n",
              "<g class=\"displacy-arrow\">\n",
              "    <path class=\"displacy-arc\" id=\"arrow-e87718b180af4d5297247464700b58b6-0-4\" stroke-width=\"2px\" d=\"M155,214.5 C155,87.0 380.0,87.0 380.0,214.5\" fill=\"none\" stroke=\"currentColor\"/>\n",
              "    <text dy=\"1.25em\" style=\"font-size: 0.8em; letter-spacing: 1px\">\n",
              "        <textPath xlink:href=\"#arrow-e87718b180af4d5297247464700b58b6-0-4\" class=\"displacy-label\" startOffset=\"50%\" side=\"left\" fill=\"currentColor\" text-anchor=\"middle\">cc</textPath>\n",
              "    </text>\n",
              "    <path class=\"displacy-arrowhead\" d=\"M380.0,216.5 L388.0,204.5 372.0,204.5\" fill=\"currentColor\"/>\n",
              "</g>\n",
              "\n",
              "<g class=\"displacy-arrow\">\n",
              "    <path class=\"displacy-arc\" id=\"arrow-e87718b180af4d5297247464700b58b6-0-5\" stroke-width=\"2px\" d=\"M155,214.5 C155,44.5 470.0,44.5 470.0,214.5\" fill=\"none\" stroke=\"currentColor\"/>\n",
              "    <text dy=\"1.25em\" style=\"font-size: 0.8em; letter-spacing: 1px\">\n",
              "        <textPath xlink:href=\"#arrow-e87718b180af4d5297247464700b58b6-0-5\" class=\"displacy-label\" startOffset=\"50%\" side=\"left\" fill=\"currentColor\" text-anchor=\"middle\">conj</textPath>\n",
              "    </text>\n",
              "    <path class=\"displacy-arrowhead\" d=\"M470.0,216.5 L478.0,204.5 462.0,204.5\" fill=\"currentColor\"/>\n",
              "</g>\n",
              "\n",
              "<g class=\"displacy-arrow\">\n",
              "    <path class=\"displacy-arc\" id=\"arrow-e87718b180af4d5297247464700b58b6-0-6\" stroke-width=\"2px\" d=\"M580,214.5 C580,129.5 715.0,129.5 715.0,214.5\" fill=\"none\" stroke=\"currentColor\"/>\n",
              "    <text dy=\"1.25em\" style=\"font-size: 0.8em; letter-spacing: 1px\">\n",
              "        <textPath xlink:href=\"#arrow-e87718b180af4d5297247464700b58b6-0-6\" class=\"displacy-label\" startOffset=\"50%\" side=\"left\" fill=\"currentColor\" text-anchor=\"middle\">mark</textPath>\n",
              "    </text>\n",
              "    <path class=\"displacy-arrowhead\" d=\"M580,216.5 L572,204.5 588,204.5\" fill=\"currentColor\"/>\n",
              "</g>\n",
              "\n",
              "<g class=\"displacy-arrow\">\n",
              "    <path class=\"displacy-arc\" id=\"arrow-e87718b180af4d5297247464700b58b6-0-7\" stroke-width=\"2px\" d=\"M665,214.5 C665,172.0 710.0,172.0 710.0,214.5\" fill=\"none\" stroke=\"currentColor\"/>\n",
              "    <text dy=\"1.25em\" style=\"font-size: 0.8em; letter-spacing: 1px\">\n",
              "        <textPath xlink:href=\"#arrow-e87718b180af4d5297247464700b58b6-0-7\" class=\"displacy-label\" startOffset=\"50%\" side=\"left\" fill=\"currentColor\" text-anchor=\"middle\">nsubj</textPath>\n",
              "    </text>\n",
              "    <path class=\"displacy-arrowhead\" d=\"M665,216.5 L657,204.5 673,204.5\" fill=\"currentColor\"/>\n",
              "</g>\n",
              "\n",
              "<g class=\"displacy-arrow\">\n",
              "    <path class=\"displacy-arc\" id=\"arrow-e87718b180af4d5297247464700b58b6-0-8\" stroke-width=\"2px\" d=\"M495,214.5 C495,87.0 720.0,87.0 720.0,214.5\" fill=\"none\" stroke=\"currentColor\"/>\n",
              "    <text dy=\"1.25em\" style=\"font-size: 0.8em; letter-spacing: 1px\">\n",
              "        <textPath xlink:href=\"#arrow-e87718b180af4d5297247464700b58b6-0-8\" class=\"displacy-label\" startOffset=\"50%\" side=\"left\" fill=\"currentColor\" text-anchor=\"middle\">ccomp</textPath>\n",
              "    </text>\n",
              "    <path class=\"displacy-arrowhead\" d=\"M720.0,216.5 L728.0,204.5 712.0,204.5\" fill=\"currentColor\"/>\n",
              "</g>\n",
              "\n",
              "<g class=\"displacy-arrow\">\n",
              "    <path class=\"displacy-arc\" id=\"arrow-e87718b180af4d5297247464700b58b6-0-9\" stroke-width=\"2px\" d=\"M750,214.5 C750,172.0 795.0,172.0 795.0,214.5\" fill=\"none\" stroke=\"currentColor\"/>\n",
              "    <text dy=\"1.25em\" style=\"font-size: 0.8em; letter-spacing: 1px\">\n",
              "        <textPath xlink:href=\"#arrow-e87718b180af4d5297247464700b58b6-0-9\" class=\"displacy-label\" startOffset=\"50%\" side=\"left\" fill=\"currentColor\" text-anchor=\"middle\">prep</textPath>\n",
              "    </text>\n",
              "    <path class=\"displacy-arrowhead\" d=\"M795.0,216.5 L803.0,204.5 787.0,204.5\" fill=\"currentColor\"/>\n",
              "</g>\n",
              "\n",
              "<g class=\"displacy-arrow\">\n",
              "    <path class=\"displacy-arc\" id=\"arrow-e87718b180af4d5297247464700b58b6-0-10\" stroke-width=\"2px\" d=\"M920,214.5 C920,129.5 1055.0,129.5 1055.0,214.5\" fill=\"none\" stroke=\"currentColor\"/>\n",
              "    <text dy=\"1.25em\" style=\"font-size: 0.8em; letter-spacing: 1px\">\n",
              "        <textPath xlink:href=\"#arrow-e87718b180af4d5297247464700b58b6-0-10\" class=\"displacy-label\" startOffset=\"50%\" side=\"left\" fill=\"currentColor\" text-anchor=\"middle\">det</textPath>\n",
              "    </text>\n",
              "    <path class=\"displacy-arrowhead\" d=\"M920,216.5 L912,204.5 928,204.5\" fill=\"currentColor\"/>\n",
              "</g>\n",
              "\n",
              "<g class=\"displacy-arrow\">\n",
              "    <path class=\"displacy-arc\" id=\"arrow-e87718b180af4d5297247464700b58b6-0-11\" stroke-width=\"2px\" d=\"M1005,214.5 C1005,172.0 1050.0,172.0 1050.0,214.5\" fill=\"none\" stroke=\"currentColor\"/>\n",
              "    <text dy=\"1.25em\" style=\"font-size: 0.8em; letter-spacing: 1px\">\n",
              "        <textPath xlink:href=\"#arrow-e87718b180af4d5297247464700b58b6-0-11\" class=\"displacy-label\" startOffset=\"50%\" side=\"left\" fill=\"currentColor\" text-anchor=\"middle\">amod</textPath>\n",
              "    </text>\n",
              "    <path class=\"displacy-arrowhead\" d=\"M1005,216.5 L997,204.5 1013,204.5\" fill=\"currentColor\"/>\n",
              "</g>\n",
              "\n",
              "<g class=\"displacy-arrow\">\n",
              "    <path class=\"displacy-arc\" id=\"arrow-e87718b180af4d5297247464700b58b6-0-12\" stroke-width=\"2px\" d=\"M835,214.5 C835,87.0 1060.0,87.0 1060.0,214.5\" fill=\"none\" stroke=\"currentColor\"/>\n",
              "    <text dy=\"1.25em\" style=\"font-size: 0.8em; letter-spacing: 1px\">\n",
              "        <textPath xlink:href=\"#arrow-e87718b180af4d5297247464700b58b6-0-12\" class=\"displacy-label\" startOffset=\"50%\" side=\"left\" fill=\"currentColor\" text-anchor=\"middle\">pobj</textPath>\n",
              "    </text>\n",
              "    <path class=\"displacy-arrowhead\" d=\"M1060.0,216.5 L1068.0,204.5 1052.0,204.5\" fill=\"currentColor\"/>\n",
              "</g>\n",
              "\n",
              "<g class=\"displacy-arrow\">\n",
              "    <path class=\"displacy-arc\" id=\"arrow-e87718b180af4d5297247464700b58b6-0-13\" stroke-width=\"2px\" d=\"M1175,214.5 C1175,129.5 1310.0,129.5 1310.0,214.5\" fill=\"none\" stroke=\"currentColor\"/>\n",
              "    <text dy=\"1.25em\" style=\"font-size: 0.8em; letter-spacing: 1px\">\n",
              "        <textPath xlink:href=\"#arrow-e87718b180af4d5297247464700b58b6-0-13\" class=\"displacy-label\" startOffset=\"50%\" side=\"left\" fill=\"currentColor\" text-anchor=\"middle\">neg</textPath>\n",
              "    </text>\n",
              "    <path class=\"displacy-arrowhead\" d=\"M1175,216.5 L1167,204.5 1183,204.5\" fill=\"currentColor\"/>\n",
              "</g>\n",
              "\n",
              "<g class=\"displacy-arrow\">\n",
              "    <path class=\"displacy-arc\" id=\"arrow-e87718b180af4d5297247464700b58b6-0-14\" stroke-width=\"2px\" d=\"M1260,214.5 C1260,172.0 1305.0,172.0 1305.0,214.5\" fill=\"none\" stroke=\"currentColor\"/>\n",
              "    <text dy=\"1.25em\" style=\"font-size: 0.8em; letter-spacing: 1px\">\n",
              "        <textPath xlink:href=\"#arrow-e87718b180af4d5297247464700b58b6-0-14\" class=\"displacy-label\" startOffset=\"50%\" side=\"left\" fill=\"currentColor\" text-anchor=\"middle\">advmod</textPath>\n",
              "    </text>\n",
              "    <path class=\"displacy-arrowhead\" d=\"M1260,216.5 L1252,204.5 1268,204.5\" fill=\"currentColor\"/>\n",
              "</g>\n",
              "\n",
              "<g class=\"displacy-arrow\">\n",
              "    <path class=\"displacy-arc\" id=\"arrow-e87718b180af4d5297247464700b58b6-0-15\" stroke-width=\"2px\" d=\"M1090,214.5 C1090,87.0 1315.0,87.0 1315.0,214.5\" fill=\"none\" stroke=\"currentColor\"/>\n",
              "    <text dy=\"1.25em\" style=\"font-size: 0.8em; letter-spacing: 1px\">\n",
              "        <textPath xlink:href=\"#arrow-e87718b180af4d5297247464700b58b6-0-15\" class=\"displacy-label\" startOffset=\"50%\" side=\"left\" fill=\"currentColor\" text-anchor=\"middle\">amod</textPath>\n",
              "    </text>\n",
              "    <path class=\"displacy-arrowhead\" d=\"M1315.0,216.5 L1323.0,204.5 1307.0,204.5\" fill=\"currentColor\"/>\n",
              "</g>\n",
              "\n",
              "<g class=\"displacy-arrow\">\n",
              "    <path class=\"displacy-arc\" id=\"arrow-e87718b180af4d5297247464700b58b6-0-16\" stroke-width=\"2px\" d=\"M1345,214.5 C1345,172.0 1390.0,172.0 1390.0,214.5\" fill=\"none\" stroke=\"currentColor\"/>\n",
              "    <text dy=\"1.25em\" style=\"font-size: 0.8em; letter-spacing: 1px\">\n",
              "        <textPath xlink:href=\"#arrow-e87718b180af4d5297247464700b58b6-0-16\" class=\"displacy-label\" startOffset=\"50%\" side=\"left\" fill=\"currentColor\" text-anchor=\"middle\">prep</textPath>\n",
              "    </text>\n",
              "    <path class=\"displacy-arrowhead\" d=\"M1390.0,216.5 L1398.0,204.5 1382.0,204.5\" fill=\"currentColor\"/>\n",
              "</g>\n",
              "\n",
              "<g class=\"displacy-arrow\">\n",
              "    <path class=\"displacy-arc\" id=\"arrow-e87718b180af4d5297247464700b58b6-0-17\" stroke-width=\"2px\" d=\"M1515,214.5 C1515,129.5 1650.0,129.5 1650.0,214.5\" fill=\"none\" stroke=\"currentColor\"/>\n",
              "    <text dy=\"1.25em\" style=\"font-size: 0.8em; letter-spacing: 1px\">\n",
              "        <textPath xlink:href=\"#arrow-e87718b180af4d5297247464700b58b6-0-17\" class=\"displacy-label\" startOffset=\"50%\" side=\"left\" fill=\"currentColor\" text-anchor=\"middle\">det</textPath>\n",
              "    </text>\n",
              "    <path class=\"displacy-arrowhead\" d=\"M1515,216.5 L1507,204.5 1523,204.5\" fill=\"currentColor\"/>\n",
              "</g>\n",
              "\n",
              "<g class=\"displacy-arrow\">\n",
              "    <path class=\"displacy-arc\" id=\"arrow-e87718b180af4d5297247464700b58b6-0-18\" stroke-width=\"2px\" d=\"M1600,214.5 C1600,172.0 1645.0,172.0 1645.0,214.5\" fill=\"none\" stroke=\"currentColor\"/>\n",
              "    <text dy=\"1.25em\" style=\"font-size: 0.8em; letter-spacing: 1px\">\n",
              "        <textPath xlink:href=\"#arrow-e87718b180af4d5297247464700b58b6-0-18\" class=\"displacy-label\" startOffset=\"50%\" side=\"left\" fill=\"currentColor\" text-anchor=\"middle\">compound</textPath>\n",
              "    </text>\n",
              "    <path class=\"displacy-arrowhead\" d=\"M1600,216.5 L1592,204.5 1608,204.5\" fill=\"currentColor\"/>\n",
              "</g>\n",
              "\n",
              "<g class=\"displacy-arrow\">\n",
              "    <path class=\"displacy-arc\" id=\"arrow-e87718b180af4d5297247464700b58b6-0-19\" stroke-width=\"2px\" d=\"M1430,214.5 C1430,87.0 1655.0,87.0 1655.0,214.5\" fill=\"none\" stroke=\"currentColor\"/>\n",
              "    <text dy=\"1.25em\" style=\"font-size: 0.8em; letter-spacing: 1px\">\n",
              "        <textPath xlink:href=\"#arrow-e87718b180af4d5297247464700b58b6-0-19\" class=\"displacy-label\" startOffset=\"50%\" side=\"left\" fill=\"currentColor\" text-anchor=\"middle\">pobj</textPath>\n",
              "    </text>\n",
              "    <path class=\"displacy-arrowhead\" d=\"M1655.0,216.5 L1663.0,204.5 1647.0,204.5\" fill=\"currentColor\"/>\n",
              "</g>\n",
              "\n",
              "<g class=\"displacy-arrow\">\n",
              "    <path class=\"displacy-arc\" id=\"arrow-e87718b180af4d5297247464700b58b6-0-20\" stroke-width=\"2px\" d=\"M1770,214.5 C1770,172.0 1815.0,172.0 1815.0,214.5\" fill=\"none\" stroke=\"currentColor\"/>\n",
              "    <text dy=\"1.25em\" style=\"font-size: 0.8em; letter-spacing: 1px\">\n",
              "        <textPath xlink:href=\"#arrow-e87718b180af4d5297247464700b58b6-0-20\" class=\"displacy-label\" startOffset=\"50%\" side=\"left\" fill=\"currentColor\" text-anchor=\"middle\">nsubj</textPath>\n",
              "    </text>\n",
              "    <path class=\"displacy-arrowhead\" d=\"M1770,216.5 L1762,204.5 1778,204.5\" fill=\"currentColor\"/>\n",
              "</g>\n",
              "\n",
              "<g class=\"displacy-arrow\">\n",
              "    <path class=\"displacy-arc\" id=\"arrow-e87718b180af4d5297247464700b58b6-0-21\" stroke-width=\"2px\" d=\"M1855,214.5 C1855,172.0 1900.0,172.0 1900.0,214.5\" fill=\"none\" stroke=\"currentColor\"/>\n",
              "    <text dy=\"1.25em\" style=\"font-size: 0.8em; letter-spacing: 1px\">\n",
              "        <textPath xlink:href=\"#arrow-e87718b180af4d5297247464700b58b6-0-21\" class=\"displacy-label\" startOffset=\"50%\" side=\"left\" fill=\"currentColor\" text-anchor=\"middle\">prt</textPath>\n",
              "    </text>\n",
              "    <path class=\"displacy-arrowhead\" d=\"M1900.0,216.5 L1908.0,204.5 1892.0,204.5\" fill=\"currentColor\"/>\n",
              "</g>\n",
              "\n",
              "<g class=\"displacy-arrow\">\n",
              "    <path class=\"displacy-arc\" id=\"arrow-e87718b180af4d5297247464700b58b6-0-22\" stroke-width=\"2px\" d=\"M1855,214.5 C1855,129.5 1990.0,129.5 1990.0,214.5\" fill=\"none\" stroke=\"currentColor\"/>\n",
              "    <text dy=\"1.25em\" style=\"font-size: 0.8em; letter-spacing: 1px\">\n",
              "        <textPath xlink:href=\"#arrow-e87718b180af4d5297247464700b58b6-0-22\" class=\"displacy-label\" startOffset=\"50%\" side=\"left\" fill=\"currentColor\" text-anchor=\"middle\">cc</textPath>\n",
              "    </text>\n",
              "    <path class=\"displacy-arrowhead\" d=\"M1990.0,216.5 L1998.0,204.5 1982.0,204.5\" fill=\"currentColor\"/>\n",
              "</g>\n",
              "\n",
              "<g class=\"displacy-arrow\">\n",
              "    <path class=\"displacy-arc\" id=\"arrow-e87718b180af4d5297247464700b58b6-0-23\" stroke-width=\"2px\" d=\"M1855,214.5 C1855,87.0 2080.0,87.0 2080.0,214.5\" fill=\"none\" stroke=\"currentColor\"/>\n",
              "    <text dy=\"1.25em\" style=\"font-size: 0.8em; letter-spacing: 1px\">\n",
              "        <textPath xlink:href=\"#arrow-e87718b180af4d5297247464700b58b6-0-23\" class=\"displacy-label\" startOffset=\"50%\" side=\"left\" fill=\"currentColor\" text-anchor=\"middle\">conj</textPath>\n",
              "    </text>\n",
              "    <path class=\"displacy-arrowhead\" d=\"M2080.0,216.5 L2088.0,204.5 2072.0,204.5\" fill=\"currentColor\"/>\n",
              "</g>\n",
              "\n",
              "<g class=\"displacy-arrow\">\n",
              "    <path class=\"displacy-arc\" id=\"arrow-e87718b180af4d5297247464700b58b6-0-24\" stroke-width=\"2px\" d=\"M2110,214.5 C2110,172.0 2155.0,172.0 2155.0,214.5\" fill=\"none\" stroke=\"currentColor\"/>\n",
              "    <text dy=\"1.25em\" style=\"font-size: 0.8em; letter-spacing: 1px\">\n",
              "        <textPath xlink:href=\"#arrow-e87718b180af4d5297247464700b58b6-0-24\" class=\"displacy-label\" startOffset=\"50%\" side=\"left\" fill=\"currentColor\" text-anchor=\"middle\">prep</textPath>\n",
              "    </text>\n",
              "    <path class=\"displacy-arrowhead\" d=\"M2155.0,216.5 L2163.0,204.5 2147.0,204.5\" fill=\"currentColor\"/>\n",
              "</g>\n",
              "\n",
              "<g class=\"displacy-arrow\">\n",
              "    <path class=\"displacy-arc\" id=\"arrow-e87718b180af4d5297247464700b58b6-0-25\" stroke-width=\"2px\" d=\"M2280,214.5 C2280,172.0 2325.0,172.0 2325.0,214.5\" fill=\"none\" stroke=\"currentColor\"/>\n",
              "    <text dy=\"1.25em\" style=\"font-size: 0.8em; letter-spacing: 1px\">\n",
              "        <textPath xlink:href=\"#arrow-e87718b180af4d5297247464700b58b6-0-25\" class=\"displacy-label\" startOffset=\"50%\" side=\"left\" fill=\"currentColor\" text-anchor=\"middle\">det</textPath>\n",
              "    </text>\n",
              "    <path class=\"displacy-arrowhead\" d=\"M2280,216.5 L2272,204.5 2288,204.5\" fill=\"currentColor\"/>\n",
              "</g>\n",
              "\n",
              "<g class=\"displacy-arrow\">\n",
              "    <path class=\"displacy-arc\" id=\"arrow-e87718b180af4d5297247464700b58b6-0-26\" stroke-width=\"2px\" d=\"M2195,214.5 C2195,129.5 2330.0,129.5 2330.0,214.5\" fill=\"none\" stroke=\"currentColor\"/>\n",
              "    <text dy=\"1.25em\" style=\"font-size: 0.8em; letter-spacing: 1px\">\n",
              "        <textPath xlink:href=\"#arrow-e87718b180af4d5297247464700b58b6-0-26\" class=\"displacy-label\" startOffset=\"50%\" side=\"left\" fill=\"currentColor\" text-anchor=\"middle\">pobj</textPath>\n",
              "    </text>\n",
              "    <path class=\"displacy-arrowhead\" d=\"M2330.0,216.5 L2338.0,204.5 2322.0,204.5\" fill=\"currentColor\"/>\n",
              "</g>\n",
              "\n",
              "<g class=\"displacy-arrow\">\n",
              "    <path class=\"displacy-arc\" id=\"arrow-e87718b180af4d5297247464700b58b6-0-27\" stroke-width=\"2px\" d=\"M2110,214.5 C2110,87.0 2420.0,87.0 2420.0,214.5\" fill=\"none\" stroke=\"currentColor\"/>\n",
              "    <text dy=\"1.25em\" style=\"font-size: 0.8em; letter-spacing: 1px\">\n",
              "        <textPath xlink:href=\"#arrow-e87718b180af4d5297247464700b58b6-0-27\" class=\"displacy-label\" startOffset=\"50%\" side=\"left\" fill=\"currentColor\" text-anchor=\"middle\">prep</textPath>\n",
              "    </text>\n",
              "    <path class=\"displacy-arrowhead\" d=\"M2420.0,216.5 L2428.0,204.5 2412.0,204.5\" fill=\"currentColor\"/>\n",
              "</g>\n",
              "\n",
              "<g class=\"displacy-arrow\">\n",
              "    <path class=\"displacy-arc\" id=\"arrow-e87718b180af4d5297247464700b58b6-0-28\" stroke-width=\"2px\" d=\"M2535,214.5 C2535,129.5 2670.0,129.5 2670.0,214.5\" fill=\"none\" stroke=\"currentColor\"/>\n",
              "    <text dy=\"1.25em\" style=\"font-size: 0.8em; letter-spacing: 1px\">\n",
              "        <textPath xlink:href=\"#arrow-e87718b180af4d5297247464700b58b6-0-28\" class=\"displacy-label\" startOffset=\"50%\" side=\"left\" fill=\"currentColor\" text-anchor=\"middle\">det</textPath>\n",
              "    </text>\n",
              "    <path class=\"displacy-arrowhead\" d=\"M2535,216.5 L2527,204.5 2543,204.5\" fill=\"currentColor\"/>\n",
              "</g>\n",
              "\n",
              "<g class=\"displacy-arrow\">\n",
              "    <path class=\"displacy-arc\" id=\"arrow-e87718b180af4d5297247464700b58b6-0-29\" stroke-width=\"2px\" d=\"M2620,214.5 C2620,172.0 2665.0,172.0 2665.0,214.5\" fill=\"none\" stroke=\"currentColor\"/>\n",
              "    <text dy=\"1.25em\" style=\"font-size: 0.8em; letter-spacing: 1px\">\n",
              "        <textPath xlink:href=\"#arrow-e87718b180af4d5297247464700b58b6-0-29\" class=\"displacy-label\" startOffset=\"50%\" side=\"left\" fill=\"currentColor\" text-anchor=\"middle\">amod</textPath>\n",
              "    </text>\n",
              "    <path class=\"displacy-arrowhead\" d=\"M2620,216.5 L2612,204.5 2628,204.5\" fill=\"currentColor\"/>\n",
              "</g>\n",
              "\n",
              "<g class=\"displacy-arrow\">\n",
              "    <path class=\"displacy-arc\" id=\"arrow-e87718b180af4d5297247464700b58b6-0-30\" stroke-width=\"2px\" d=\"M2450,214.5 C2450,87.0 2675.0,87.0 2675.0,214.5\" fill=\"none\" stroke=\"currentColor\"/>\n",
              "    <text dy=\"1.25em\" style=\"font-size: 0.8em; letter-spacing: 1px\">\n",
              "        <textPath xlink:href=\"#arrow-e87718b180af4d5297247464700b58b6-0-30\" class=\"displacy-label\" startOffset=\"50%\" side=\"left\" fill=\"currentColor\" text-anchor=\"middle\">pobj</textPath>\n",
              "    </text>\n",
              "    <path class=\"displacy-arrowhead\" d=\"M2675.0,216.5 L2683.0,204.5 2667.0,204.5\" fill=\"currentColor\"/>\n",
              "</g>\n",
              "\n",
              "<g class=\"displacy-arrow\">\n",
              "    <path class=\"displacy-arc\" id=\"arrow-e87718b180af4d5297247464700b58b6-0-31\" stroke-width=\"2px\" d=\"M2790,214.5 C2790,129.5 2925.0,129.5 2925.0,214.5\" fill=\"none\" stroke=\"currentColor\"/>\n",
              "    <text dy=\"1.25em\" style=\"font-size: 0.8em; letter-spacing: 1px\">\n",
              "        <textPath xlink:href=\"#arrow-e87718b180af4d5297247464700b58b6-0-31\" class=\"displacy-label\" startOffset=\"50%\" side=\"left\" fill=\"currentColor\" text-anchor=\"middle\">nsubj</textPath>\n",
              "    </text>\n",
              "    <path class=\"displacy-arrowhead\" d=\"M2790,216.5 L2782,204.5 2798,204.5\" fill=\"currentColor\"/>\n",
              "</g>\n",
              "\n",
              "<g class=\"displacy-arrow\">\n",
              "    <path class=\"displacy-arc\" id=\"arrow-e87718b180af4d5297247464700b58b6-0-32\" stroke-width=\"2px\" d=\"M2875,214.5 C2875,172.0 2920.0,172.0 2920.0,214.5\" fill=\"none\" stroke=\"currentColor\"/>\n",
              "    <text dy=\"1.25em\" style=\"font-size: 0.8em; letter-spacing: 1px\">\n",
              "        <textPath xlink:href=\"#arrow-e87718b180af4d5297247464700b58b6-0-32\" class=\"displacy-label\" startOffset=\"50%\" side=\"left\" fill=\"currentColor\" text-anchor=\"middle\">advmod</textPath>\n",
              "    </text>\n",
              "    <path class=\"displacy-arrowhead\" d=\"M2875,216.5 L2867,204.5 2883,204.5\" fill=\"currentColor\"/>\n",
              "</g>\n",
              "\n",
              "<g class=\"displacy-arrow\">\n",
              "    <path class=\"displacy-arc\" id=\"arrow-e87718b180af4d5297247464700b58b6-0-33\" stroke-width=\"2px\" d=\"M2705,214.5 C2705,87.0 2930.0,87.0 2930.0,214.5\" fill=\"none\" stroke=\"currentColor\"/>\n",
              "    <text dy=\"1.25em\" style=\"font-size: 0.8em; letter-spacing: 1px\">\n",
              "        <textPath xlink:href=\"#arrow-e87718b180af4d5297247464700b58b6-0-33\" class=\"displacy-label\" startOffset=\"50%\" side=\"left\" fill=\"currentColor\" text-anchor=\"middle\">relcl</textPath>\n",
              "    </text>\n",
              "    <path class=\"displacy-arrowhead\" d=\"M2930.0,216.5 L2938.0,204.5 2922.0,204.5\" fill=\"currentColor\"/>\n",
              "</g>\n",
              "</svg></span>"
            ]
          },
          "metadata": {}
        }
      ]
    },
    {
      "cell_type": "markdown",
      "metadata": {
        "id": "jffNzzpQZ2yR"
      },
      "source": [
        "**Entité nommée** (*name entity*)   \n",
        "\n",
        "Spacy permet également d'extraire les entités nommées d'un texte. "
      ]
    },
    {
      "cell_type": "code",
      "metadata": {
        "id": "EsnMKGgpckwc",
        "outputId": "3da9f148-9ab1-4500-9e60-b268f33835e5",
        "colab": {
          "base_uri": "https://localhost:8080/"
        }
      },
      "source": [
        "example_withnamedentities=\"Donald Trump was a President of the US and now it is Joe Biden\"\n",
        "sentence=nlp(example_withnamedentities)\n",
        "for entity in sentence.ents:\n",
        "    print(entity.text + ' - ' + entity.label_ + ' - ' + str(spacy.explain(entity.label_)))"
      ],
      "execution_count": 40,
      "outputs": [
        {
          "output_type": "stream",
          "name": "stdout",
          "text": [
            "Donald Trump - PERSON - People, including fictional\n",
            "US - GPE - Countries, cities, states\n",
            "Joe Biden - PERSON - People, including fictional\n"
          ]
        }
      ]
    },
    {
      "cell_type": "markdown",
      "metadata": {
        "id": "MtdUUWOVhQDY"
      },
      "source": [
        "## **D'autres librairies ou traitements pratiques**\n"
      ]
    },
    {
      "cell_type": "markdown",
      "metadata": {
        "id": "E7eY5_qfhV4f"
      },
      "source": [
        "Nous présentons ici différentes librairies ou traitements souvents utilisés. \n"
      ]
    },
    {
      "cell_type": "code",
      "metadata": {
        "id": "m5SDQeI9hgzf",
        "outputId": "97597512-afbb-4ea5-8825-0a666419a9c6",
        "colab": {
          "base_uri": "https://localhost:8080/"
        }
      },
      "source": [
        "#inflect est une librairie qui permet de convertir les nombres en mots\n",
        "import inflect\n",
        "\n",
        "phrase=\"They are 100\"\n",
        "tokens = word_tokenize(phrase)\n",
        "\n",
        "print (\"Nombre à convertir \\n\")\n",
        "words = [word for word in tokens if word.isdigit()]\n",
        "print(words)\n",
        "p = inflect.engine()\n",
        "numbertransf = [p.number_to_words(word) for word in tokens if word.isdigit()]\n",
        "\n",
        "print (\"Nombre après conversion \\n\")\n",
        "print(numbertransf)"
      ],
      "execution_count": 41,
      "outputs": [
        {
          "output_type": "stream",
          "name": "stdout",
          "text": [
            "Nombre à convertir \n",
            "\n",
            "['100']\n",
            "Nombre après conversion \n",
            "\n",
            "['one hundred']\n"
          ]
        }
      ]
    },
    {
      "cell_type": "code",
      "metadata": {
        "id": "9Ah10V8yiIGS",
        "outputId": "2c2b2961-143c-4c5f-d7bb-ad0576096ef8",
        "colab": {
          "base_uri": "https://localhost:8080/"
        }
      },
      "source": [
        "tokens = [w.lower() for w in tokens]\n",
        "print (tokens)"
      ],
      "execution_count": 42,
      "outputs": [
        {
          "output_type": "stream",
          "name": "stdout",
          "text": [
            "['they', 'are', '100']\n"
          ]
        }
      ]
    },
    {
      "cell_type": "code",
      "metadata": {
        "id": "l97Nw4imipwo",
        "outputId": "22807978-dbac-4d26-d831-0a2241f28eea",
        "colab": {
          "base_uri": "https://localhost:8080/"
        }
      },
      "source": [
        "# Suppression de tous les termes qui ne sont pas alphanumériques\n",
        "words = [word for word in tokens if word.isalpha()]\n",
        "print(words)"
      ],
      "execution_count": 43,
      "outputs": [
        {
          "output_type": "stream",
          "name": "stdout",
          "text": [
            "['they', 'are']\n"
          ]
        }
      ]
    },
    {
      "cell_type": "code",
      "metadata": {
        "id": "jWqR9i-eis3H",
        "outputId": "05c6f3fd-b922-4f32-edbd-1134d8eacd1e",
        "colab": {
          "base_uri": "https://localhost:8080/"
        }
      },
      "source": [
        "import contractions\n",
        "\n",
        "phrase=\"They're 100\"\n",
        "tokens = word_tokenize(phrase)\n",
        "\n",
        "def replace_contractions(text):\n",
        "    return contractions.fix(text)\n",
        "\n",
        "print (\"Avant remplacement\\n\")\n",
        "print (phrase)\n",
        "print (\"\\nAprès remplacement\\n\")\n",
        "laphrase=replace_contractions(phrase)\n",
        "print (laphrase)"
      ],
      "execution_count": 44,
      "outputs": [
        {
          "output_type": "stream",
          "name": "stdout",
          "text": [
            "Avant remplacement\n",
            "\n",
            "They're 100\n",
            "\n",
            "Après remplacement\n",
            "\n",
            "They are 100\n"
          ]
        }
      ]
    },
    {
      "cell_type": "markdown",
      "metadata": {
        "id": "S5Pba4ZsjtvR"
      },
      "source": [
        "Les tweets ont une syntaxe très particulière et généralement les traitements se font à l'aide d'expressions régulières."
      ]
    },
    {
      "cell_type": "code",
      "metadata": {
        "id": "UxAx0BIZjv1i",
        "outputId": "3a097c69-403d-4c55-d6d2-24403a71ab0b",
        "colab": {
          "base_uri": "https://localhost:8080/"
        }
      },
      "source": [
        "import re\n",
        "tweet = '#ML is thus a good example :D ;) RT @theUser: see http://ml.example.com'\n",
        "#traitement des émoticones\n",
        "emoticons_str = r\"\"\"\n",
        "    (?:\n",
        "        [:=;] # Eyes\n",
        "        [oO\\-]? # Nose (optional)\n",
        "        [D\\)\\]\\(\\]/\\\\OpP] # Mouth\n",
        "    )\"\"\"\n",
        "\n",
        "#Prise en compte des éléments qui doivent être regroupés\n",
        "regex_str = [\n",
        "    emoticons_str,\n",
        "    r'<[^>]+>', # HTML tags\n",
        "    r'(?:@[\\w_]+)', # @-mentions\n",
        "    r\"(?:\\#+[\\w_]+[\\w\\'_\\-]*[\\w_]+)\", # hash-tags\n",
        "    r'http[s]?://(?:[a-z]|[0-9]|[$-_@.&amp;+]|[!*\\(\\),]|(?:%[0-9a-f][0-9a-f]))+', # URLs\n",
        " \n",
        "    r'(?:(?:\\d+,?)+(?:\\.?\\d+)?)', # nombres\n",
        "    r\"(?:[a-z][a-z'\\-_]+[a-z])\", # mots avec - et '\n",
        "    r'(?:[\\w_]+)', # autres mots\n",
        "    r'(?:\\S)' # le reste\n",
        "]\n",
        "    \n",
        "tokens_re = re.compile(r'('+'|'.join(regex_str)+')', re.VERBOSE | re.IGNORECASE)\n",
        "emoticon_re = re.compile(r'^'+emoticons_str+'$', re.VERBOSE | re.IGNORECASE)\n",
        " \n",
        "def tokenize(s):\n",
        "    return tokens_re.findall(s)\n",
        " \n",
        "def preprocess(s, lowercase=False):\n",
        "    tokens = tokenize(s)\n",
        "    if lowercase:\n",
        "        tokens = [token if emoticon_re.search(token) else token.lower() for token in tokens]\n",
        "    return tokens\n",
        " \n",
        "# un example de tweet\n",
        "\n",
        "print (\"Un exemple de tweet : \\n\",tweet)\n",
        "\n",
        "print (\"\\nLe tweet avec un processus normal de transformation\\n\")\n",
        "print (word_tokenize(tweet))       \n",
        "print (\"\\nLe tweet avec des expressions régulières\\n\")       \n",
        "words=preprocess(tweet)       \n",
        "print(words)    "
      ],
      "execution_count": 45,
      "outputs": [
        {
          "output_type": "stream",
          "name": "stdout",
          "text": [
            "Un exemple de tweet : \n",
            " #ML is thus a good example :D ;) RT @theUser: see http://ml.example.com\n",
            "\n",
            "Le tweet avec un processus normal de transformation\n",
            "\n",
            "['#', 'ML', 'is', 'thus', 'a', 'good', 'example', ':', 'D', ';', ')', 'RT', '@', 'theUser', ':', 'see', 'http', ':', '//ml.example.com']\n",
            "\n",
            "Le tweet avec des expressions régulières\n",
            "\n",
            "['#ML', 'is', 'thus', 'a', 'good', 'example', ':D', ';)', 'RT', '@theUser', ':', 'see', 'http://ml.example.com']\n"
          ]
        }
      ]
    },
    {
      "cell_type": "markdown",
      "metadata": {
        "id": "vuVY2E338Abu"
      },
      "source": [
        "# **Une petite mise en pratique**"
      ]
    },
    {
      "cell_type": "markdown",
      "metadata": {
        "id": "Tyh2tu1Z8Orq"
      },
      "source": [
        "Il est temps à présent de mettre en pratique ce que nous avons vu. \n",
        "\n",
        "Considérez le document suivant : \n",
        "\n",
        "\n"
      ]
    },
    {
      "cell_type": "code",
      "metadata": {
        "id": "fg5a1eVNfy7D"
      },
      "source": [
        "testpratique=[u\"\"\"“Curiouser and curiouser!” cried Alice (she was so much surprised, that for the moment she quite forgot how to speak good English); “now I’m opening out like the largest telescope that ever was! Good-bye, feet!” (for when she looked down at her feet, they seemed to be almost out of sight, they were getting so far off). “Oh, my poor little feet, I wonder who will put on your shoes and stockings for you now, dears? I’m sure I shan’t be able! I shall be a great deal too far off to trouble myself about you: you must manage the best way you can;—but I must be kind to them,” thought Alice, “or perhaps they won’t walk the way I want to go! Let me see: I’ll give them a new pair of boots every Christmas.”\n",
        "And she went on planning to herself how she would manage it. “They must go by the carrier,” she thought; “and how funny it’ll seem, sending presents to one’s own feet! And how odd the directions will look!\n",
        "     Alice’s Right Foot, Esq.,\n",
        "       Hearthrug,\n",
        "         near the Fender,\n",
        "           (with Alice’s love).\n",
        "Oh dear, what nonsense I’m talking!”\n",
        "\"\"\",u\"\"\"After a time she heard a little pattering of feet in the distance, and she hastily dried her eyes to see what was coming. It was the White Rabbit returning, splendidly dressed, with a pair of white kid gloves in one hand and a large fan in the other: he came trotting along in a great hurry, muttering to himself as he came, “Oh! the Duchess, the Duchess! Oh! won’t she be savage if I’ve kept her waiting!” Alice felt so desperate that she was ready to ask help of any one; so, when the Rabbit came near her, she began, in a low, timid voice, “If you please, sir—” The Rabbit started violently, dropped the white kid gloves and the fan, and skurried away into the darkness as hard as he could go.\"\"\",\n",
        "u\"\"\"They were indeed a queer-looking party that assembled on the bank—the birds with draggled feathers, the animals with their fur clinging close to them, and all dripping wet, cross, and uncomfortable.\n",
        "The first question of course was, how to get dry again: they had a consultation about this, and after a few minutes it seemed quite natural to Alice to find herself talking familiarly with them, as if she had known them all her life. Indeed, she had quite a long argument with the Lory, who at last turned sulky, and would only say, “I am older than you, and must know better;” and this Alice would not allow without knowing how old it was, and, as the Lory positively refused to tell its age, there was no more to be said.\n",
        "At last the Mouse, who seemed to be a person of authority among them, called out, “Sit down, all of you, and listen to me! I’ll soon make you dry enough!” They all sat down at once, in a large ring, with the Mouse in the middle. Alice kept her eyes anxiously fixed on it, for she felt sure she would catch a bad cold if she did not get dry very soon.\n",
        "“Ahem!” said the Mouse with an important air, “are you all ready? This is the driest thing I know. Silence all round, if you please! ‘William the Conqueror, whose cause was favoured by the pope, was soon submitted to by the English, who wanted leaders, and had been of late much accustomed to usurpation and conquest. Edwin and Morcar, the earls of Mercia and Northumbria—’”\n",
        "“Ugh!” said the Lory, with a shiver.\n",
        "“I beg your pardon!” said the Mouse, frowning, but very politely: “Did you speak?”\n",
        "“Not I!” said the Lory hastily.\n",
        "“I thought you did,” said the Mouse. “—I proceed. ‘Edwin and Morcar, the earls of Mercia and Northumbria, declared for him: and even Stigand, the patriotic archbishop of Canterbury, found it advisable—’”\n",
        "“Found what?” said the Duck.\n",
        "“Found it,” the Mouse replied rather crossly: “of course you know what ‘it’ means.”\n",
        "“I know what ‘it’ means well enough, when I find a thing,” said the Duck: “it’s generally a frog or a worm. The question is, what did the archbishop find?”\"\"\"]"
      ],
      "execution_count": 46,
      "outputs": []
    },
    {
      "cell_type": "markdown",
      "metadata": {
        "id": "DNQDWORj5sjL"
      },
      "source": [
        "Il contient différentes phrases plus ou moins longues. Vous pourrez réaliser les opérations en utilisant soit NLTK ou Spacy.\n",
        "\n",
        "<font color=red>Exercice :</font> \n",
        "1. Afficher les wordclouds associés aux documents\n",
        "1. Transformer les documents de telle sorte qu'ils soient en minuscule, qu'il ne possède plus de caractères spéciaux ni uniques.\n",
        "1. Transformer les en tokens de manière à ce qu'ils ne contiennent plus que des tokens de type NN et VB.\n",
        "1. Enfin, transformer les tokens pour n'avoir que leur racine.\n",
        "\n"
      ]
    },
    {
      "cell_type": "code",
      "metadata": {
        "id": "syMgVJ4ip02N",
        "outputId": "23080a42-055c-484d-d069-64d93e4ef989",
        "colab": {
          "base_uri": "https://localhost:8080/",
          "height": 198
        }
      },
      "source": [
        "import wordcloud\n",
        "\n",
        "# affichage des word clouds\n",
        "wc = wordcloud.WordCloud(background_color='black', max_words=1000, \n",
        "                         max_font_size=50)\n",
        "wc = wc.generate(str(testpratique))\n",
        "fig = plt.figure(num=1)\n",
        "plt.axis('off')\n",
        "plt.imshow(wc, cmap=None)\n",
        "plt.show()\n",
        "\n",
        "document = document.lower()\n"
      ],
      "execution_count": 49,
      "outputs": [
        {
          "output_type": "display_data",
          "data": {
            "text/plain": [
              "<Figure size 432x288 with 1 Axes>"
            ],
            "image/png": "[encoded data removed]"
          },
          "metadata": {
            "needs_background": "light"
          }
        }
      ]
    },
    {
      "cell_type": "markdown",
      "metadata": {
        "id": "V42wtvpDp1ic"
      },
      "source": [
        "<font color=blue>Solution :</font>  "
      ]
    },
    {
      "cell_type": "code",
      "metadata": {
        "id": "nps6hgpDEJFd",
        "outputId": "3e9031ea-c498-49e1-a7a5-922a9e58d858",
        "colab": {
          "base_uri": "https://localhost:8080/",
          "height": 322
        }
      },
      "source": [
        "wc = wordcloud.WordCloud(background_color='black', max_words=100, \n",
        "                         max_font_size=35)\n",
        "wc = wc.generate(str(testpratique))\n",
        "fig = plt.figure(num=1)\n",
        "plt.axis('off')\n",
        "plt.imshow(wc, cmap=None)\n",
        "plt.show()\n",
        "\n",
        "print (\"Document initial \", testpratique)\n",
        "# suppression des caractères spéciaux\n",
        "sentence = re.sub(r'[^\\w\\s]',' ', str(testpratique))\n",
        "# suppression de tous les caractères uniques\n",
        "sentence = re.sub(r'\\s+[a-zA-Z]\\s+', ' ', sentence)\n",
        "\n",
        "# tokenisation\n",
        "word_tokens = word_tokenize(sentence)\n",
        "print (\"Premiers tokens après nettoyage des données \", word_tokens)\n",
        "\n",
        "# ne retenir que les categories NN et VB\n",
        "# sauvegarde des mots dans un tableau selective_words. \n",
        "# selective_pos_words contient le mot et son tag\n",
        "pos = nltk.pos_tag(word_tokens)\n",
        "selective_pos = ['NN','VB']\n",
        "selective_pos_words = []\n",
        "selective_words=[]\n",
        "for word,tag in pos:\n",
        "     if tag in selective_pos:\n",
        "         selective_pos_words.append((word,tag))\n",
        "         selective_words.append(word)\n",
        "\n",
        "print (\"tokens conservés de catégorie NN ou VB\")\n",
        "print (selective_pos_words)\n",
        "# racinisation\n",
        "\n",
        "\n",
        "ps=nltk.stem.porter.PorterStemmer()\n",
        "\n",
        "\n",
        "print(\"Racinisation\")\n",
        "print([ps.stem(word) for word in selective_words])"
      ],
      "execution_count": 50,
      "outputs": [
        {
          "output_type": "display_data",
          "data": {
            "text/plain": [
              "<Figure size 432x288 with 1 Axes>"
            ],
            "image/png": "[encoded data removed]"
          },
          "metadata": {
            "needs_background": "light"
          }
        },
        {
          "output_type": "stream",
          "name": "stdout",
          "text": [
            "Document initial  ['“Curiouser and curiouser!” cried Alice (she was so much surprised, that for the moment she quite forgot how to speak good English); “now I’m opening out like the largest telescope that ever was! Good-bye, feet!” (for when she looked down at her feet, they seemed to be almost out of sight, they were getting so far off). “Oh, my poor little feet, I wonder who will put on your shoes and stockings for you now, dears? I’m sure I shan’t be able! I shall be a great deal too far off to trouble myself about you: you must manage the best way you can;—but I must be kind to them,” thought Alice, “or perhaps they won’t walk the way I want to go! Let me see: I’ll give them a new pair of boots every Christmas.”\\nAnd she went on planning to herself how she would manage it. “They must go by the carrier,” she thought; “and how funny it’ll seem, sending presents to one’s own feet! And how odd the directions will look!\\n     Alice’s Right Foot, Esq.,\\n       Hearthrug,\\n         near the Fender,\\n           (with Alice’s love).\\nOh dear, what nonsense I’m talking!”\\n', 'After a time she heard a little pattering of feet in the distance, and she hastily dried her eyes to see what was coming. It was the White Rabbit returning, splendidly dressed, with a pair of white kid gloves in one hand and a large fan in the other: he came trotting along in a great hurry, muttering to himself as he came, “Oh! the Duchess, the Duchess! Oh! won’t she be savage if I’ve kept her waiting!” Alice felt so desperate that she was ready to ask help of any one; so, when the Rabbit came near her, she began, in a low, timid voice, “If you please, sir—” The Rabbit started violently, dropped the white kid gloves and the fan, and skurried away into the darkness as hard as he could go.', 'They were indeed a queer-looking party that assembled on the bank—the birds with draggled feathers, the animals with their fur clinging close to them, and all dripping wet, cross, and uncomfortable.\\nThe first question of course was, how to get dry again: they had a consultation about this, and after a few minutes it seemed quite natural to Alice to find herself talking familiarly with them, as if she had known them all her life. Indeed, she had quite a long argument with the Lory, who at last turned sulky, and would only say, “I am older than you, and must know better;” and this Alice would not allow without knowing how old it was, and, as the Lory positively refused to tell its age, there was no more to be said.\\nAt last the Mouse, who seemed to be a person of authority among them, called out, “Sit down, all of you, and listen to me! I’ll soon make you dry enough!” They all sat down at once, in a large ring, with the Mouse in the middle. Alice kept her eyes anxiously fixed on it, for she felt sure she would catch a bad cold if she did not get dry very soon.\\n“Ahem!” said the Mouse with an important air, “are you all ready? This is the driest thing I know. Silence all round, if you please! ‘William the Conqueror, whose cause was favoured by the pope, was soon submitted to by the English, who wanted leaders, and had been of late much accustomed to usurpation and conquest. Edwin and Morcar, the earls of Mercia and Northumbria—’”\\n“Ugh!” said the Lory, with a shiver.\\n“I beg your pardon!” said the Mouse, frowning, but very politely: “Did you speak?”\\n“Not I!” said the Lory hastily.\\n“I thought you did,” said the Mouse. “—I proceed. ‘Edwin and Morcar, the earls of Mercia and Northumbria, declared for him: and even Stigand, the patriotic archbishop of Canterbury, found it advisable—’”\\n“Found what?” said the Duck.\\n“Found it,” the Mouse replied rather crossly: “of course you know what ‘it’ means.”\\n“I know what ‘it’ means well enough, when I find a thing,” said the Duck: “it’s generally a frog or a worm. The question is, what did the archbishop find?”']\n",
            "Premiers tokens après nettoyage des données  ['Curiouser', 'and', 'curiouser', 'cried', 'Alice', 'she', 'was', 'so', 'much', 'surprised', 'that', 'for', 'the', 'moment', 'she', 'quite', 'forgot', 'how', 'to', 'speak', 'good', 'English', 'now', 'm', 'opening', 'out', 'like', 'the', 'largest', 'telescope', 'that', 'ever', 'was', 'Good', 'bye', 'feet', 'for', 'when', 'she', 'looked', 'down', 'at', 'her', 'feet', 'they', 'seemed', 'to', 'be', 'almost', 'out', 'of', 'sight', 'they', 'were', 'getting', 'so', 'far', 'off', 'Oh', 'my', 'poor', 'little', 'feet', 'wonder', 'who', 'will', 'put', 'on', 'your', 'shoes', 'and', 'stockings', 'for', 'you', 'now', 'dears', 'm', 'sure', 'shan', 'be', 'able', 'shall', 'be', 'great', 'deal', 'too', 'far', 'off', 'to', 'trouble', 'myself', 'about', 'you', 'you', 'must', 'manage', 'the', 'best', 'way', 'you', 'can', 'but', 'must', 'be', 'kind', 'to', 'them', 'thought', 'Alice', 'or', 'perhaps', 'they', 'won', 'walk', 'the', 'way', 'want', 'to', 'go', 'Let', 'me', 'see', 'll', 'give', 'them', 'new', 'pair', 'of', 'boots', 'every', 'Christmas', 'nAnd', 'she', 'went', 'on', 'planning', 'to', 'herself', 'how', 'she', 'would', 'manage', 'it', 'They', 'must', 'go', 'by', 'the', 'carrier', 'she', 'thought', 'and', 'how', 'funny', 'it', 'll', 'seem', 'sending', 'presents', 'to', 'one', 'own', 'feet', 'And', 'how', 'odd', 'the', 'directions', 'will', 'look', 'Alice', 'Right', 'Foot', 'Esq', 'Hearthrug', 'near', 'the', 'Fender', 'with', 'Alice', 'love', 'nOh', 'dear', 'what', 'nonsense', 'm', 'talking', 'After', 'time', 'she', 'heard', 'little', 'pattering', 'of', 'feet', 'in', 'the', 'distance', 'and', 'she', 'hastily', 'dried', 'her', 'eyes', 'to', 'see', 'what', 'was', 'coming', 'It', 'was', 'the', 'White', 'Rabbit', 'returning', 'splendidly', 'dressed', 'with', 'pair', 'of', 'white', 'kid', 'gloves', 'in', 'one', 'hand', 'and', 'large', 'fan', 'in', 'the', 'other', 'he', 'came', 'trotting', 'along', 'in', 'great', 'hurry', 'muttering', 'to', 'himself', 'as', 'he', 'came', 'Oh', 'the', 'Duchess', 'the', 'Duchess', 'Oh', 'won', 'she', 'be', 'savage', 'if', 've', 'kept', 'her', 'waiting', 'Alice', 'felt', 'so', 'desperate', 'that', 'she', 'was', 'ready', 'to', 'ask', 'help', 'of', 'any', 'one', 'so', 'when', 'the', 'Rabbit', 'came', 'near', 'her', 'she', 'began', 'in', 'low', 'timid', 'voice', 'If', 'you', 'please', 'sir', 'The', 'Rabbit', 'started', 'violently', 'dropped', 'the', 'white', 'kid', 'gloves', 'and', 'the', 'fan', 'and', 'skurried', 'away', 'into', 'the', 'darkness', 'as', 'hard', 'as', 'he', 'could', 'go', 'They', 'were', 'indeed', 'queer', 'looking', 'party', 'that', 'assembled', 'on', 'the', 'bank', 'the', 'birds', 'with', 'draggled', 'feathers', 'the', 'animals', 'with', 'their', 'fur', 'clinging', 'close', 'to', 'them', 'and', 'all', 'dripping', 'wet', 'cross', 'and', 'uncomfortable', 'nThe', 'first', 'question', 'of', 'course', 'was', 'how', 'to', 'get', 'dry', 'again', 'they', 'had', 'consultation', 'about', 'this', 'and', 'after', 'few', 'minutes', 'it', 'seemed', 'quite', 'natural', 'to', 'Alice', 'to', 'find', 'herself', 'talking', 'familiarly', 'with', 'them', 'as', 'if', 'she', 'had', 'known', 'them', 'all', 'her', 'life', 'Indeed', 'she', 'had', 'quite', 'long', 'argument', 'with', 'the', 'Lory', 'who', 'at', 'last', 'turned', 'sulky', 'and', 'would', 'only', 'say', 'am', 'older', 'than', 'you', 'and', 'must', 'know', 'better', 'and', 'this', 'Alice', 'would', 'not', 'allow', 'without', 'knowing', 'how', 'old', 'it', 'was', 'and', 'as', 'the', 'Lory', 'positively', 'refused', 'to', 'tell', 'its', 'age', 'there', 'was', 'no', 'more', 'to', 'be', 'said', 'nAt', 'last', 'the', 'Mouse', 'who', 'seemed', 'to', 'be', 'person', 'of', 'authority', 'among', 'them', 'called', 'out', 'Sit', 'down', 'all', 'of', 'you', 'and', 'listen', 'to', 'me', 'll', 'soon', 'make', 'you', 'dry', 'enough', 'They', 'all', 'sat', 'down', 'at', 'once', 'in', 'large', 'ring', 'with', 'the', 'Mouse', 'in', 'the', 'middle', 'Alice', 'kept', 'her', 'eyes', 'anxiously', 'fixed', 'on', 'it', 'for', 'she', 'felt', 'sure', 'she', 'would', 'catch', 'bad', 'cold', 'if', 'she', 'did', 'not', 'get', 'dry', 'very', 'soon', 'Ahem', 'said', 'the', 'Mouse', 'with', 'an', 'important', 'air', 'are', 'you', 'all', 'ready', 'This', 'is', 'the', 'driest', 'thing', 'know', 'Silence', 'all', 'round', 'if', 'you', 'please', 'William', 'the', 'Conqueror', 'whose', 'cause', 'was', 'favoured', 'by', 'the', 'pope', 'was', 'soon', 'submitted', 'to', 'by', 'the', 'English', 'who', 'wanted', 'leaders', 'and', 'had', 'been', 'of', 'late', 'much', 'accustomed', 'to', 'usurpation', 'and', 'conquest', 'Edwin', 'and', 'Morcar', 'the', 'earls', 'of', 'Mercia', 'and', 'Northumbria', 'Ugh', 'said', 'the', 'Lory', 'with', 'shiver', 'I', 'beg', 'your', 'pardon', 'said', 'the', 'Mouse', 'frowning', 'but', 'very', 'politely', 'Did', 'you', 'speak', 'Not', 'said', 'the', 'Lory', 'hastily', 'I', 'thought', 'you', 'did', 'said', 'the', 'Mouse', 'proceed', 'Edwin', 'and', 'Morcar', 'the', 'earls', 'of', 'Mercia', 'and', 'Northumbria', 'declared', 'for', 'him', 'and', 'even', 'Stigand', 'the', 'patriotic', 'archbishop', 'of', 'Canterbury', 'found', 'it', 'advisable', 'Found', 'what', 'said', 'the', 'Duck', 'Found', 'it', 'the', 'Mouse', 'replied', 'rather', 'crossly', 'of', 'course', 'you', 'know', 'what', 'it', 'means', 'I', 'know', 'what', 'it', 'means', 'well', 'enough', 'when', 'find', 'thing', 'said', 'the', 'Duck', 'it', 'generally', 'frog', 'or', 'worm', 'The', 'question', 'is', 'what', 'did', 'the', 'archbishop', 'find']\n",
            "tokens conservés de catégorie NN ou VB\n",
            "[('curiouser', 'NN'), ('moment', 'NN'), ('speak', 'VB'), ('telescope', 'NN'), ('bye', 'NN'), ('be', 'VB'), ('sight', 'NN'), ('put', 'VB'), ('shan', 'NN'), ('be', 'VB'), ('be', 'VB'), ('deal', 'VB'), ('trouble', 'NN'), ('manage', 'VB'), ('way', 'NN'), ('be', 'VB'), ('kind', 'NN'), ('way', 'NN'), ('go', 'VB'), ('Let', 'VB'), ('see', 'VB'), ('give', 'VB'), ('pair', 'NN'), ('nAnd', 'NN'), ('planning', 'NN'), ('herself', 'VB'), ('manage', 'VB'), ('go', 'VB'), ('carrier', 'NN'), ('look', 'VB'), ('m', 'NN'), ('time', 'NN'), ('pattering', 'NN'), ('distance', 'NN'), ('see', 'VB'), ('pair', 'NN'), ('kid', 'NN'), ('hand', 'NN'), ('fan', 'NN'), ('hurry', 'NN'), ('be', 'VB'), ('ask', 'VB'), ('help', 'NN'), ('voice', 'NN'), ('sir', 'VB'), ('kid', 'NN'), ('fan', 'NN'), ('darkness', 'NN'), ('go', 'VB'), ('party', 'NN'), ('bank', 'NN'), ('fur', 'NN'), ('cross', 'NN'), ('nThe', 'NN'), ('question', 'NN'), ('course', 'NN'), ('get', 'VB'), ('consultation', 'NN'), ('find', 'VB'), ('life', 'NN'), ('argument', 'NN'), ('sulky', 'NN'), ('say', 'VB'), ('know', 'VB'), ('allow', 'VB'), ('tell', 'VB'), ('age', 'NN'), ('be', 'VB'), ('be', 'VB'), ('person', 'NN'), ('authority', 'NN'), ('listen', 'VB'), ('ring', 'NN'), ('catch', 'VB'), ('cold', 'NN'), ('get', 'VB'), ('air', 'NN'), ('thing', 'NN'), ('round', 'NN'), ('cause', 'NN'), ('pope', 'NN'), ('usurpation', 'NN'), ('conquest', 'NN'), ('earls', 'NN'), ('shiver', 'NN'), ('pardon', 'NN'), ('frowning', 'NN'), ('proceed', 'NN'), ('earls', 'NN'), ('archbishop', 'NN'), ('course', 'NN'), ('find', 'VB'), ('thing', 'NN'), ('worm', 'VB'), ('question', 'NN'), ('archbishop', 'NN'), ('find', 'VB')]\n",
            "Racinisation\n",
            "['curious', 'moment', 'speak', 'telescop', 'bye', 'be', 'sight', 'put', 'shan', 'be', 'be', 'deal', 'troubl', 'manag', 'way', 'be', 'kind', 'way', 'go', 'let', 'see', 'give', 'pair', 'nand', 'plan', 'herself', 'manag', 'go', 'carrier', 'look', 'm', 'time', 'patter', 'distanc', 'see', 'pair', 'kid', 'hand', 'fan', 'hurri', 'be', 'ask', 'help', 'voic', 'sir', 'kid', 'fan', 'dark', 'go', 'parti', 'bank', 'fur', 'cross', 'nthe', 'question', 'cours', 'get', 'consult', 'find', 'life', 'argument', 'sulki', 'say', 'know', 'allow', 'tell', 'age', 'be', 'be', 'person', 'author', 'listen', 'ring', 'catch', 'cold', 'get', 'air', 'thing', 'round', 'caus', 'pope', 'usurp', 'conquest', 'earl', 'shiver', 'pardon', 'frown', 'proceed', 'earl', 'archbishop', 'cours', 'find', 'thing', 'worm', 'question', 'archbishop', 'find']\n"
          ]
        }
      ]
    },
    {
      "cell_type": "markdown",
      "metadata": {
        "id": "AZE6wRZ9rBWJ"
      },
      "source": [
        "Nous savons maintenant nettoyer nos données et les transformer sous la forme de tokens. Aussi nous allons comment ces derniers peuvent être utilisés comme représentation des documents pour faire .... de la classification. La classification de données textuelles est présentée dans un autre notebook. "
      ]
    }
  ]
}