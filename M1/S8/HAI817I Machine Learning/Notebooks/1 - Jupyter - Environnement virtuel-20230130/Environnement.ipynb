{
 "cells": [
  {
   "cell_type": "markdown",
   "metadata": {},
   "source": [
    "<H1>Environnement de travail</H1>"
   ]
  },
  {
   "cell_type": "markdown",
   "metadata": {},
   "source": [
    "\n",
    "Nous considérons, par la suite, que la version de python utilisée est supérieure à 3.\n",
    "Pour connaître la version disponible, taper la commande :   \n"
   ]
  },
  {
   "cell_type": "raw",
   "metadata": {
    "run_control": {
     "marked": false
    }
   },
   "source": [
    "    python --version  "
   ]
  },
  {
   "cell_type": "markdown",
   "metadata": {},
   "source": [
    "\n",
    "Pour connaître les versions disponibles sur votre OS vous pouvez vous rendre sur la page de téléchargement de python (https://www.python.org/downloads/)  "
   ]
  },
  {
   "cell_type": "markdown",
   "metadata": {},
   "source": [
    "\n",
    "Pour mettre à jour python avec une version plus récente, par exemple la 3.7, taper la commande :   "
   ]
  },
  {
   "cell_type": "raw",
   "metadata": {},
   "source": [
    "pip install python3.7  "
   ]
  },
  {
   "cell_type": "markdown",
   "metadata": {},
   "source": [
    "  \n",
    "Les sections suivantes présentent les environnements qui sont utilisés pour pouvoir facilement manipuler des données, faire des expérimentations, obtenir des visualisation, etc... bref toutes les opérations classiques en sciences des données.  \n",
    "\n",
    "\n",
    "Le premier environnement est **VirtualEnv**, un environnement virtuel qui offre la possibilité de pouvoir tout intégrer dans le cas d'un projet. Cet environnement peut par la suite être partagé et toutes les informations sont disponibles pour que les expérimentations soient reproductibles (version de librairies utilisés, code, etc).  \n",
    "\n",
    "Le second environnement est **Jupyter**, une application web utilisée pour programmer dans de très nombreux langages dont Python. Il permet de réaliser des notebooks, i.e. des programmes contenant à la fois du texte en markdown (un langage de balisage léger) et du code en Python. Ces notebooks sont particulièrement utilisés en science des données pour explorer et analyser des données.   "
   ]
  },
  {
   "cell_type": "markdown",
   "metadata": {},
   "source": [
    "# Utilisation de Virtualenv"
   ]
  },
  {
   "cell_type": "markdown",
   "metadata": {},
   "source": [
    "Python est un langage qui possède différentes versions et de très nombreuses librairies qui évoluent constamment. Il n'est donc pas rare de travailler sur différents projets avec des versions différentes entrainant de possibles incompatibilités.\n",
    "Virtualenv (*Virtual Environnement*) vous permet de pouvoir gérer facilement ces différentes librairies."
   ]
  },
  {
   "cell_type": "markdown",
   "metadata": {},
   "source": [
    "## Installation de virtualenv"
   ]
  },
  {
   "cell_type": "markdown",
   "metadata": {},
   "source": [
    "L'installation de virtualenv se fait à l'aide de la commande pip install comme l'indique l'exemple :   "
   ]
  },
  {
   "cell_type": "raw",
   "metadata": {},
   "source": [
    "pip instal virtualenv  "
   ]
  },
  {
   "cell_type": "markdown",
   "metadata": {},
   "source": [
    "ou  "
   ]
  },
  {
   "cell_type": "raw",
   "metadata": {},
   "source": [
    "sudo pip install virtualenv  "
   ]
  },
  {
   "cell_type": "markdown",
   "metadata": {},
   "source": [
    "## Créer et activer un environnement virtuel "
   ]
  },
  {
   "cell_type": "markdown",
   "metadata": {},
   "source": [
    "La création se fait de la manière suivante :   "
   ]
  },
  {
   "cell_type": "raw",
   "metadata": {},
   "source": [
    "virtualenv -p python3 env  "
   ]
  },
  {
   "cell_type": "markdown",
   "metadata": {},
   "source": [
    "cette commande permet de créer un environnement appelé *env* dans lequel la version de python par défaut sera python3. Un répertoire appelé env est créé dans le répertoire local. Il est possible de l'explorer :  "
   ]
  },
  {
   "cell_type": "markdown",
   "metadata": {},
   "source": [
    "ls env   "
   ]
  },
  {
   "cell_type": "raw",
   "metadata": {},
   "source": [
    "bin    include    lib     etc    "
   ]
  },
  {
   "cell_type": "markdown",
   "metadata": {},
   "source": [
    "L'activation de l'environnement est réalisé par :   "
   ]
  },
  {
   "cell_type": "raw",
   "metadata": {},
   "source": [
    "source env/bin/activate"
   ]
  },
  {
   "cell_type": "markdown",
   "metadata": {},
   "source": [
    "Une fois la commande exécutée l'environnement s'affiche dans le terminal\n"
   ]
  },
  {
   "cell_type": "raw",
   "metadata": {},
   "source": [
    "(env)"
   ]
  },
  {
   "cell_type": "markdown",
   "metadata": {},
   "source": [
    "La version de python utilisée à présent est celle de votre environnement virtuel.\n",
    "La commande which permet de la connaitre : "
   ]
  },
  {
   "cell_type": "raw",
   "metadata": {},
   "source": [
    "(env)which python"
   ]
  },
  {
   "cell_type": "markdown",
   "metadata": {},
   "source": [
    "/usr/bin/python3\n",
    "\n",
    "\n",
    "\n",
    "Pour connaître les packages installés dans l'environnement "
   ]
  },
  {
   "cell_type": "raw",
   "metadata": {},
   "source": [
    "(env)pip freeze"
   ]
  },
  {
   "cell_type": "markdown",
   "metadata": {},
   "source": [
    "matplotlib==2.1.2\n",
    "mistune==0.8.3\n",
    "nbconvert==5.3.1\n",
    "nbformat==4.4.0\n",
    "nltk==3.2.5\n",
    "numpy==1.14.0\n",
    "pandas==0.22.0\n",
    "scikit-learn==0.19.1"
   ]
  },
  {
   "cell_type": "markdown",
   "metadata": {},
   "source": [
    "## Desactivation et suppression de l'environnement"
   ]
  },
  {
   "cell_type": "markdown",
   "metadata": {},
   "source": [
    "Pour désactiver l'environnement, il suffit de lancer la commande deactivate"
   ]
  },
  {
   "cell_type": "raw",
   "metadata": {},
   "source": [
    "(env)deactivate"
   ]
  },
  {
   "cell_type": "markdown",
   "metadata": {},
   "source": [
    "Attention il faut à chaque fois relancer l'environnement avec source env/bin/activate"
   ]
  },
  {
   "cell_type": "markdown",
   "metadata": {},
   "source": [
    "Pour supprimer l'environnement il suffit d'effacer le répertoire"
   ]
  },
  {
   "cell_type": "raw",
   "metadata": {},
   "source": [
    "rm -rf env"
   ]
  },
  {
   "cell_type": "markdown",
   "metadata": {},
   "source": [
    "## Sauvegarde des dépendances"
   ]
  },
  {
   "cell_type": "markdown",
   "metadata": {},
   "source": [
    "Les dépendances peuvent être sauvegardées et c'est préférable pour pouvoir partager l'environnement.\n",
    "Pour cela il suffit de créer un fichier requirement.txt de la manière suivante : "
   ]
  },
  {
   "cell_type": "raw",
   "metadata": {},
   "source": [
    "(env)pip freeze > requirements.txt"
   ]
  },
  {
   "cell_type": "markdown",
   "metadata": {},
   "source": [
    "## Installation des dépendances"
   ]
  },
  {
   "cell_type": "markdown",
   "metadata": {},
   "source": [
    "Si un fichier requirement.txt existe il suffit, pour installer toutes les dépendances du projet de taper "
   ]
  },
  {
   "cell_type": "raw",
   "metadata": {},
   "source": [
    "(env)pip install -r requirement.txt"
   ]
  },
  {
   "cell_type": "markdown",
   "metadata": {},
   "source": [
    "Pour avoir la liste de toutes les installations (outre le pip freeze précédent)"
   ]
  },
  {
   "cell_type": "raw",
   "metadata": {},
   "source": [
    "(env)pip list"
   ]
  },
  {
   "cell_type": "markdown",
   "metadata": {},
   "source": [
    "# Utilisation de Jupyter"
   ]
  },
  {
   "cell_type": "markdown",
   "metadata": {},
   "source": [
    "Jupyter est composé de trois parties : \n",
    "- La partie notebook (front end) permet d'éditer et d'exécuter des notebooks. Il s'agit d'une application JavaScript utilisable sur un navigateur. Le front end est en charge de gérer en local les notebooks et de pouvoir les transférer au serveur.\n",
    "- La partie serveur Jupyter est une application simple de serveur.\n",
    "- La partie protocole Kernel qui permet de décharger la charge du serveur en relayant l'exécution de code à un kernel associé à un langage spécifique (Python, R, ... 40 langages)."
   ]
  },
  {
   "cell_type": "markdown",
   "metadata": {},
   "source": [
    "## Installation de Jupyter"
   ]
  },
  {
   "cell_type": "markdown",
   "metadata": {},
   "source": [
    "Même si jupyter est installé sur votre OS, il est recommandé de l'installer dans l'environnement virtuel pour éviter des incompatibilités notamment avec les extensions."
   ]
  },
  {
   "cell_type": "raw",
   "metadata": {},
   "source": [
    "pip install jupyter"
   ]
  },
  {
   "cell_type": "markdown",
   "metadata": {},
   "source": [
    "Il existe de très nombreuses extensions qui sont pratiques à l'usage : possibilité de pouvoir cacher des parties (C.f. les flèches devant les sections pour les faire apparaitre à la demande, possibilité de cacher du code pour ne pas surcharger, de ne relancer que certains traitements, de notifier par mail la fin des tâches, etc.)\n",
    "De nombreux exemples sont disponibles : https://ndres.me/post/best-jupyter-notebook-extensions/"
   ]
  },
  {
   "cell_type": "raw",
   "metadata": {},
   "source": [
    "pip install jupyter_contrib_nbextensions"
   ]
  },
  {
   "cell_type": "markdown",
   "metadata": {},
   "source": [
    "jupyter_nbextensions_configurator permet de générer un extension du serveur de jupyter-notebook afin de pouvoir facilement activer/desactiver les extensions"
   ]
  },
  {
   "cell_type": "raw",
   "metadata": {},
   "source": [
    "#Installation du configurateur  \n",
    "pip install jupyter_nbextensions_configurator  \n",
    "jupyter-contrib-nbextension install --sys-prefix  \n",
    "\n",
    "#Activation du configurateur  \n",
    "jupyter-nbextensions_configurator enable --sys-prefix"
   ]
  },
  {
   "cell_type": "markdown",
   "metadata": {},
   "source": [
    "## Lancement de Jupyter"
   ]
  },
  {
   "cell_type": "markdown",
   "metadata": {},
   "source": [
    "Pour lancer jupyter, taper :"
   ]
  },
  {
   "cell_type": "raw",
   "metadata": {},
   "source": [
    "jupyter notebook\n",
    "ou \n",
    "jupyter-notebook"
   ]
  },
  {
   "cell_type": "markdown",
   "metadata": {},
   "source": [
    "Lors de l'exécution une fenêtre s'ouvre sur votre navigateur :"
   ]
  },
  {
   "cell_type": "markdown",
   "metadata": {},
   "source": [
    "![Vue de Jupyter](img/Jupyter.png)"
   ]
  },
  {
   "cell_type": "markdown",
   "metadata": {},
   "source": [
    "Lors de l'exécution une URL apparait également. Si vous souhaitez utiliser un autre navigateur il suffit de recopier l'adresse indiquée qui contient le token de sécurité. "
   ]
  },
  {
   "cell_type": "markdown",
   "metadata": {},
   "source": [
    "un exemple d'URL\n",
    "http://localhost:8888/?token=ae12bab371826367bf7db657510e7b044ed84914072ed4da\n"
   ]
  },
  {
   "cell_type": "markdown",
   "metadata": {},
   "source": [
    "Pour voir les extensions qui peuvent être ajoutées à votre environnement :"
   ]
  },
  {
   "cell_type": "raw",
   "metadata": {},
   "source": [
    "http://localhost:8888/nbextensions"
   ]
  },
  {
   "cell_type": "markdown",
   "metadata": {},
   "source": [
    "![Vue des extensions](img/Extensions.png)"
   ]
  },
  {
   "cell_type": "markdown",
   "metadata": {
    "slideshow": {
     "slide_type": "-"
    }
   },
   "source": [
    "## Fermeture de Jupyter"
   ]
  },
  {
   "cell_type": "markdown",
   "metadata": {},
   "source": [
    "Attention lors de la fermeture du navigateur, le serveur jupyter est toujours activé ou il faut explicitement demander sa fermeture via l'interface. \n",
    "Si jupyter a été lancé avec "
   ]
  },
  {
   "cell_type": "raw",
   "metadata": {},
   "source": [
    "jupyter notebook"
   ]
  },
  {
   "cell_type": "markdown",
   "metadata": {},
   "source": [
    "Il suffit de faire un CTRL-C pour tuer le processus. Par contre s'il a été lancé par : "
   ]
  },
  {
   "cell_type": "raw",
   "metadata": {},
   "source": [
    "jupyter notebook &\n",
    "ou\n",
    "jupyter notebook & >> /dev/null"
   ]
  },
  {
   "cell_type": "markdown",
   "metadata": {},
   "source": [
    "Il faut utiliser la commande "
   ]
  },
  {
   "cell_type": "raw",
   "metadata": {},
   "source": [
    "jupyter notebook stop\n",
    "ou\n",
    "jupyter notebook stop numport (si le processus n'a pas été lancé sur le port standard 8888)"
   ]
  },
  {
   "cell_type": "markdown",
   "metadata": {},
   "source": [
    "## Principales commandes"
   ]
  },
  {
   "cell_type": "markdown",
   "metadata": {},
   "source": [
    "Sur la droite, une liste déroulante apparaît lors de l'appui sur New. Elle permet de créer un nouveau notebook et il est possible de sélectionner Python 3. "
   ]
  },
  {
   "cell_type": "markdown",
   "metadata": {},
   "source": [
    "![title](img/Create.png)"
   ]
  },
  {
   "cell_type": "markdown",
   "metadata": {},
   "source": [
    "Une nouvelle fenêtre apparait, intitulée Untitled et un fichier Untitled.ipynb (extension d'un notebook - le fichier est écrit en Json et décrit le contenu de la page) est automatiquement créé. Le serveur fait très régulièrement des sauvegardes automatiques."
   ]
  },
  {
   "cell_type": "markdown",
   "metadata": {},
   "source": [
    "![title](img/FirstFile.png)"
   ]
  },
  {
   "cell_type": "markdown",
   "metadata": {},
   "source": [
    "Par défaut la première fenêtre de saisie est en mode \"code\" :"
   ]
  },
  {
   "cell_type": "markdown",
   "metadata": {},
   "source": [
    "![title](img/FirstLine.png)"
   ]
  },
  {
   "cell_type": "markdown",
   "metadata": {},
   "source": [
    "Il existe quatre types de codage différents pour les cellules : \n",
    "* Code : écriture de code Python qui peut être exécuté\n",
    "* Markdown : écriture de texte avec des balises markdown\n",
    "* Raw NBConvert : écriture de texte simple\n",
    "* Heading : ecriture de titres à l'aide des balises markdown\n",
    "\n",
    "Un exemple de premier programme python."
   ]
  },
  {
   "cell_type": "markdown",
   "metadata": {},
   "source": [
    "![title](img/FirstPython.png)"
   ]
  },
  {
   "cell_type": "markdown",
   "metadata": {},
   "source": [
    "Pour exécuter une cellule il faut taper CTRL-ENTREE. L'exécution produit la figure suivante où nous notons sur la même vue le code et son exécution."
   ]
  },
  {
   "cell_type": "markdown",
   "metadata": {},
   "source": [
    "![title](img/FirstOuput.png)"
   ]
  },
  {
   "cell_type": "markdown",
   "metadata": {},
   "source": [
    "Exemples d'utilisations de type Heading"
   ]
  },
  {
   "cell_type": "markdown",
   "metadata": {},
   "source": [
    "![title](img/Headings.png)"
   ]
  },
  {
   "cell_type": "markdown",
   "metadata": {},
   "source": [
    "A l'exécution (CTRL-ENTREE) cela donne : "
   ]
  },
  {
   "cell_type": "markdown",
   "metadata": {},
   "source": [
    "![title](img/HeadingsOutput.png)"
   ]
  },
  {
   "cell_type": "markdown",
   "metadata": {},
   "source": [
    "Remarque : les flèches à gauche sont produites par l'extention et permettent de pouvoir cacher les éléments afin de faciliter la lecture.\n",
    "\n",
    "MAJ-ENTREE permet d'executer le code et de créer une nouvelle cellule\n",
    "\n",
    "Il est possible de renommer le fichier Untitled en cliquant sur le nom : \n"
   ]
  },
  {
   "cell_type": "markdown",
   "metadata": {},
   "source": [
    "![title](img/Rename.png)"
   ]
  },
  {
   "cell_type": "markdown",
   "metadata": {},
   "source": [
    "Le contenu des notebooks peut être sauvegardé en HTML, en PDF. Il est possible de les associer à GitHub. L'adresse du serveur peut être publique. Il existe de très nombreuses ressources disponibles sur le web pour aider à mieux utiliser Jupyter. Il ne faut pas hésiter à les consulter."
   ]
  },
  {
   "cell_type": "markdown",
   "metadata": {},
   "source": [
    "## Quelques informations sur markdown"
   ]
  },
  {
   "cell_type": "markdown",
   "metadata": {},
   "source": [
    "Il existe de très nombreuses fonctionnalités utilisables en markdown. Le bloc ci-dessous présente certaines d'entres elles."
   ]
  },
  {
   "cell_type": "raw",
   "metadata": {},
   "source": [
    "Sauter une ligne : il faut mettre 2 espaces avant de sauter la ligne.  \n",
    "Ceci est un saut de ligne  \n",
    "Ceci est un autre saut de ligne (il y a deux espaces avant le retour chariot)  \n",
    "\n",
    "\n",
    "\n",
    "Mise en valeur du texte \n",
    "* Texte en gras : __texte__ ou **texte**\n",
    "* Texte en italique : _texte_ ou *texte*\n",
    "\n",
    "\n",
    "Du code Latex peut être introduit. Par exemple, les symboles mathématique : $\\sqrt{3x-1}+(1+x)^2$, $ \\forall x \\in\\ $  \n",
    "\n",
    "\n",
    "\n",
    "Ligne horizontale : \n",
    "***\n",
    "\n",
    "\n",
    "Indentation de texte : utilisation de > tout le texte est indenté jusqu'au prochain retour chariot\n",
    "> ceci est un exemple de texte qui est indenté\n",
    "\n",
    "Pour créer un point devant un item : un tiret suivi par un ou deux espaces : \n",
    "- item\n",
    "\n",
    "Il est possible de créer une hiérarchie. Pour cela il faut faire précédent la partie imbriquée par une tabulation.\n",
    "- item\n",
    "\t- sous item\n",
    "\t\n",
    "Pour créer une énumération faire précéder par 1. devant l'item. Il n'est pas nécessaire de mettre autre chose que 1., lors de l'éxécution l'énumération est mise à jour automatiquement.   \n",
    "1. item1\n",
    "1. item2\n",
    "1. item3\n",
    "1. item4\n",
    "\n",
    "Il est également possible de créer une hiérarchie d'énumérations :  \n",
    "1. item1\n",
    "    1. item1.1\n",
    "        1. item 1.1.1\n",
    "\n",
    "Il est possible d'utiliser des boîtes de couleur pour mettre en avant des éléments. Utiliser la balise <div> et mettre le contenu en HTML.  \n",
    "Convention : \n",
    "- Les boîtes bleus pour des alertes informations\n",
    "- Les boîtes jaunes pour des alertes warning\n",
    "- Les boîtes vertes pour des alertes succès\n",
    "- Les boîtes rouges pour des alertes danger\n",
    "    \n",
    "    \n",
    "<div class=\"alert alert-block alert-info\">\n",
    "<b>Exemple :</b> utilisation pour ajouter des informations. \n",
    "</div>\n",
    "\n",
    "<div class=\"alert alert-block alert-warning\">\n",
    "<b>Exemple :</b> Utilisation d'une formule qui peut engendrer des erreurs. \n",
    "</div>\n",
    "\n",
    "<div class=\"alert alert-block alert-success\">\n",
    "<b>Exemple :</b> Lorsque les résultats sont obtenus.\n",
    "</div>\n",
    "\n",
    "<div class=\"alert alert-block alert-danger\">\n",
    "<b>Exemple :</b> Prévenir qu'une action peut engendrer la perte de données.\n",
    "</div>\n",
    "\n",
    "Insertion d'images  \n",
    "En local : \n",
    "![title](img/FirstLine.png \"Titre de l'image optionnel\")\n",
    "\n",
    "\n",
    "Possibilité de faire des liens rapides : \n",
    "Une liste de nombreuses fonctionnalités pour markdown est disponible ici : <https://daringfireball.net/projects/markdown/basics>\n"
   ]
  },
  {
   "cell_type": "markdown",
   "metadata": {},
   "source": [
    "Exécution du bloc précédent :"
   ]
  },
  {
   "cell_type": "markdown",
   "metadata": {},
   "source": [
    "Sauter une ligne : il faut mettre 2 espaces avant de sauter la ligne.  \n",
    "Ceci est un saut de ligne  \n",
    "Ceci est un autre saut de ligne (il y a deux espaces avant le retour chariot)  \n",
    "\n",
    "\n",
    "Mise en valeur du texte \n",
    "* Texte en gras : __texte__ ou **texte**\n",
    "* Texte en italique : _texte_ ou *texte*\n",
    "\n",
    "\n",
    "Du code Latex peut être introduit. Par exemple, les symboles mathématique : $\\sqrt{3x-1}+(1+x)^2$, $ \\forall x \\in\\ $  \n",
    "\n",
    "\n",
    "Ligne horizontale : \n",
    "***\n",
    "\n",
    "\n",
    "Indentation de texte : utilisation de > tout le texte est inventé jusqu'au prochain retour chariot\n",
    "> ceci est un exemple de texte qui est indenté\n",
    "\n",
    "Pour créer un point devant un item : un tiret suivi par un ou deux espaces : \n",
    "- item\n",
    "\n",
    "Il est possible de créer une hiérarchie. Pour cela il faut faire précédent la partie imbriquée par une tabulation.\n",
    "- item\n",
    "\t- sous item\n",
    "\t\n",
    "Pour créer une énumération faire précéder par 1. devant l'item. Il n'est pas nécessaire de mettre autre chose que 1., lors de l'éxécution l'énumération est mise à jour automatiquement.   \n",
    "1. item1\n",
    "1. item2\n",
    "1. item3\n",
    "1. item4\n",
    "\n",
    "Il est également possible de créer une hiérarchie d'énumérations :  \n",
    "1. item1\n",
    "    1. item1.1\n",
    "        1. item 1.1.1\n",
    "\n",
    "Il est possible d'utiliser des boîtes de couleur pour mettre en avant des éléments. Utiliser la balise <div> et mettre le contenu en HTML. <BR>\n",
    "Convention : \n",
    "- Les boîtes bleus pour des alertes informations\n",
    "- Les boîtes jaunes pour des alertes warning\n",
    "- Les boîtes vertes pour des alertes succès\n",
    "- Les boîtes rouges pour des alertes danger\n",
    "    \n",
    "    \n",
    "<div class=\"alert alert-block alert-info\">\n",
    "<b>Exemple :</b> utilisation pour ajouter des informations. \n",
    "</div>\n",
    "\n",
    "<div class=\"alert alert-block alert-warning\">\n",
    "<b>Exemple :</b> Utilisation d'une formule qui peut engendrer des erreurs. \n",
    "</div>\n",
    "\n",
    "<div class=\"alert alert-block alert-success\">\n",
    "<b>Exemple :</b> Lorsque les résultats sont obtenus.\n",
    "</div>\n",
    "\n",
    "<div class=\"alert alert-block alert-danger\">\n",
    "<b>Exemple :</b> Prévenir qu'une action peut engendrer la perte de données.\n",
    "</div>\n",
    "\n",
    "Insertion d'images <BR>\n",
    "En local : \n",
    "![title](img/FirstLine.png \"Titre de l'image optionnel\")\n",
    "\n",
    "\n",
    "Possibilité de faire des liens rapides : <BR>\n",
    "Une liste de nombreuses fonctionnalités pour markdown est disponible ici : <https://daringfireball.net/projects/markdown/basics>\n"
   ]
  },
  {
   "cell_type": "markdown",
   "metadata": {},
   "source": [
    "## Générer du latex, du pdf ou des transparents avec Jupyter "
   ]
  },
  {
   "cell_type": "markdown",
   "metadata": {},
   "source": [
    "Avec Jupyter il est possible de générer du Latex, du pdf, des slides. Pour cela il suffit d'utiliser la commande suivante : '"
   ]
  },
  {
   "cell_type": "raw",
   "metadata": {},
   "source": [
    "jupyter nbconvert --to {html|script|markdown|rst|latex|pdf|slides|html|} nomdufichier.ipynb"
   ]
  },
  {
   "cell_type": "markdown",
   "metadata": {},
   "source": [
    "La documentation officielle de nbconvert est disponible :  \n",
    "    https://nbconvert.readthedocs.io/en/latest/index.html"
   ]
  },
  {
   "cell_type": "markdown",
   "metadata": {},
   "source": [
    "**HTML**  \n",
    "La valeur par défaut est : html  \n",
    "Par exemple les deux commandes suivantes sont équivalentes :  \n",
    "\n",
    "    jupyter nbconvert environnement.ipynb  \n",
    "    \n",
    "    jupyter nbconvert --to html environnement.ipynb  \n",
    "    \n",
    "Elles vont créer un fichier environnement.html contenant le contenu du notebook.\n",
    "\n",
    "\n",
    "**SCRIPT**  \n",
    "Elle permet de générer un fichier python exécutable directement. Attention les cellules de type \"RawNb convert\" posent des problèmes. En effet ces dernières indiquent à Jupyter qu'il ne faut pas les convertir et qu'elles seront sorties telles quelles lors de la conversion.\n",
    "\n",
    "    jupyter nbconvert --to script environnement.ipynb\n",
    "    \n",
    "genère un fichier python environnement.py.\n",
    "\n",
    "\n",
    "**MARKDOWN**  \n",
    "Elle permet de créer un fichier markdown.\n",
    "\n",
    "    jupyter nbconvert --to markdown environnement.ipynb\n",
    "    \n",
    "genère un fichier markdown environnement.md.\n",
    "    \n",
    "\n",
    "**RST**  \n",
    "Elle permet de générer un fichier reStructuredText, i.e. un fichier texte qui peut être utilisé par la suite. Remarque : pour la conversion, nbconvert utilise la librairie Pandoc qui permet de convertir des documents sous de multiples formats. \n",
    "\n",
    "    jupyter nbconvert --to rst environnement.ipynb\n",
    "    \n",
    "genère un fichier python environnement.rst.\n",
    "\n",
    "\n",
    "**LATEX**  \n",
    "Elle permet de générer un fichier Latex.\n",
    "\n",
    "    jupyter nbconvert --to latex environnement.ipynb\n",
    "    \n",
    "génére le fichier environnement.tex.\n",
    "\n",
    "**PDF**  \n",
    "Elle permet de générer un fichier pdf.\n",
    "\n",
    "    jupyter nbconvert --to pdf environnement.ipynb\n",
    "\n",
    "génère d'abord un fichier latex puis conversion en pdf pour obtenir le fichier environnement.pdf\n",
    "\n",
    "\n",
    "**REDIRECTION DE LA SORTIE**  \n",
    "Pour toutes les transformations précédentes, il est possible de rediriger la sortie soit vers la sortie standard soit vers un autre fichier. \n",
    "\n",
    "    jupyter nbconvert environnement.ipynb --stdout\n",
    "    \n",
    "affiche la transformation html sur la sortie standard.\n",
    "\n",
    "    jupyter nbconvert environnement.ipynb --output monsite.html\n",
    "    \n",
    "génére la transformation dans le fichier monsite.html.\n",
    "\n"
   ]
  },
  {
   "cell_type": "markdown",
   "metadata": {},
   "source": [
    "### Améliorations "
   ]
  },
  {
   "cell_type": "markdown",
   "metadata": {},
   "source": [
    "#### Traitement de plusieurs notebook"
   ]
  },
  {
   "cell_type": "markdown",
   "metadata": {},
   "source": [
    "Il est possible de transformer plusieurs notebook en même temps. Pour cela créer un fichier mycfg.py et recopier les informations contenant les notebook à transformer : \n",
    "\n",
    "c = get_config()  \n",
    "c.NbConvertApp.notebooks = [\"notebook1.ipynb\", \"notebook2.ipynb\", \"notebook2.ipynb\"]  "
   ]
  },
  {
   "cell_type": "markdown",
   "metadata": {},
   "source": [
    "Utiliser la commande :   \n",
    "\n",
    "    jupyter nbconvert --config mycfg.py\n",
    "    "
   ]
  },
  {
   "cell_type": "markdown",
   "metadata": {},
   "source": [
    "#### Les templates"
   ]
  },
  {
   "cell_type": "markdown",
   "metadata": {},
   "source": [
    "Il est aussi possible d'améliorer les documents transformés en utilisant des templates.  Jinja2 (http://jinja.pocoo.org/docs/2.10/) est un langage de template pour Python pour définir les blocks et la manière de les écrire. Les template ont des sections, définies par des tags qui indique comment afficher le résultat.  \n",
    "\n",
    "Le principe est le suivant :  \n",
    "*    Créer un fichier my_template.tplx qui contient les différentes parties que vous souhaitez mettre en forme\n",
    "*    Lancer la commande de transformation en utilisant le template :  \n",
    "\n",
    "    jupyter nbconvert --to=... --template=./my_template.tpl file.ipynb\n"
   ]
  },
  {
   "cell_type": "markdown",
   "metadata": {},
   "source": [
    "##### Transformation Latex et PDF"
   ]
  },
  {
   "cell_type": "markdown",
   "metadata": {},
   "source": [
    "**Ajout de Metadonnées**"
   ]
  },
  {
   "cell_type": "markdown",
   "metadata": {},
   "source": [
    "Pour spécifier un auteur, son affiliation et un titre de document. Dans Jupyter il faut aller dans le menu suivant : Edit/Edit Notebook Metadata et insérer les informations :  \n",
    "\"latex_metadata\": {  \n",
    "    \"author\": \"Nom auteur\",  \n",
    "    \"affil\": \"Nom affiliation\",  \n",
    "    \"title\": \"Titre du document\"  \n",
    "}  \n",
    "\n",
    "Attention les noms des attributs doivent correspondre au style Latex utilisé. Par exemple ici affil est le nom utilisé dans le package Latex authblk. author et title correspondent respectivement à l'attribut author et titre qui seront affichés dans la page.\n"
   ]
  },
  {
   "cell_type": "markdown",
   "metadata": {},
   "source": [
    "**Création d'un template**"
   ]
  },
  {
   "cell_type": "markdown",
   "metadata": {},
   "source": [
    "Par exemple, Vous trouverez sur le site : https://gist.githubusercontent.com/goerz/d5019bedacf5956bcf03ca8683dc5217/raw/393f11244ef037759a19710f4d979770ac287717/revtex.tplx un exemple de template, revtex.tplx, proposé par l'auteur de : https://michaelgoerz.net/notes/custom-template-for-converting-jupyter-notebooks-to-latex.html"
   ]
  },
  {
   "cell_type": "markdown",
   "metadata": {},
   "source": [
    "Le fichier légèrement modifié est donné ci-dessous. Attention la classe de l'article n'est pas la même et il y a quelques modifications."
   ]
  },
  {
   "cell_type": "markdown",
   "metadata": {},
   "source": [
    "**Fichier de configuration revtex.tplx**"
   ]
  },
  {
   "cell_type": "raw",
   "metadata": {},
   "source": [
    "((*- extends 'article.tplx' -*))\n",
    "\n",
    "% improvement of the initial revtex created bt \n",
    "% See http://blog.juliusschulz.de/blog/ultimate-ipython-notebook#templates\n",
    "% for some useful tips\n",
    "\n",
    "%===============================================================================\n",
    "% Document class\n",
    "%===============================================================================\n",
    "\n",
    "((* block docclass *))\n",
    "%\\documentclass[10pt,notitlepage,onecolumn,aps,pra]{revtex4-1}\n",
    "\\documentclass[10pt,a4,notitlepage,onecolumn]{article}\n",
    "((* endblock docclass *))\n",
    "\n",
    "%===============================================================================\n",
    "% Packages\n",
    "%===============================================================================\n",
    "\n",
    "((* block packages *))\n",
    "\\usepackage{authblk}%for affil\n",
    "\\usepackage[T1]{fontenc}\n",
    "\\usepackage{graphicx}\n",
    "% We will generate all images so they have a width \\maxwidth. This means\n",
    "% that they will get their normal width if they fit onto the page, but\n",
    "% are scaled down if they would overflow the margins.\n",
    "\\makeatletter\n",
    "\\def\\maxwidth{\\ifdim\\Gin@nat@width>\\linewidth\\linewidth\n",
    "\\else\\Gin@nat@width\\fi}\n",
    "\\makeatother\n",
    "\\let\\Oldincludegraphics\\includegraphics\n",
    "% Set max figure width to be 80% of text width, for now hardcoded.\n",
    "\\renewcommand{\\includegraphics}[1]{\\Oldincludegraphics[width=.8\\maxwidth]{#1}}\n",
    "% Ensure that by default, figures have no caption (until we provide a\n",
    "% proper Figure object with a Caption API and a way to capture that\n",
    "% in the conversion process - todo).\n",
    "\\usepackage{caption}\n",
    "\\DeclareCaptionLabelFormat{nolabel}{}\n",
    "\\captionsetup{labelformat=nolabel}\n",
    "\n",
    "\\usepackage{adjustbox} % Used to constrain images to a maximum size\n",
    "\\usepackage{xcolor} % Allow colors to be defined\n",
    "\\usepackage{enumerate} % Needed for markdown enumerations to work\n",
    "\\usepackage{geometry} % Used to adjust the document margins\n",
    "\\usepackage{amsmath} % Equations\n",
    "\\usepackage{amssymb} % Equations\n",
    "\\usepackage{textcomp} % defines textquotesingle\n",
    "% Hack from http://tex.stackexchange.com/a/47451/13684:\n",
    "\\AtBeginDocument{%\n",
    "    \\def\\PYZsq{\\textquotesingle}% Upright quotes in Pygmentized code\n",
    "}\n",
    "\\usepackage{upquote} % Upright quotes for verbatim code\n",
    "\\usepackage{eurosym} % defines \\euro\n",
    "\\usepackage[mathletters]{ucs} % Extended unicode (utf-8) support\n",
    "\\usepackage[utf8x]{inputenc} % Allow utf-8 characters in the tex document\n",
    "\\usepackage{fancyvrb} % verbatim replacement that allows latex\n",
    "\\usepackage{grffile} % extends the file name processing of package graphics\n",
    "                     % to support a larger range\n",
    "% The hyperref package gives us a pdf with properly built\n",
    "% internal navigation ('pdf bookmarks' for the table of contents,\n",
    "% internal cross-reference links, web links for URLs, etc.)\n",
    "\\usepackage{hyperref}\n",
    "\\usepackage{booktabs}  % table support for pandoc > 1.12.2\n",
    "\\usepackage[inline]{enumitem} % IRkernel/repr support (it uses the enumerate* environment)\n",
    "\\usepackage[normalem]{ulem} % ulem is needed to support strikethroughs (\\sout)\n",
    "                            % normalem makes italics be italics, not underlines\n",
    "\\usepackage{braket}\n",
    "((* endblock packages *))\n",
    "\n",
    "%===============================================================================\n",
    "% Title Page\n",
    "%===============================================================================\n",
    "\n",
    "((* block title -*))\n",
    "((*- endblock title *))\n",
    "((* block author -*))\n",
    "((* endblock author *))\n",
    "\n",
    "((* block maketitle *))\n",
    "\n",
    "((*- if nb.metadata.get(\"latex_metadata\", {}).get(\"title\", \"\"): -*))\n",
    "\\title{((( nb.metadata[\"latex_metadata\"][\"title\"] )))}\n",
    "((*- else -*))\n",
    "\\title{((( resources.metadata.name | ascii_only | escape_latex )))}\n",
    "((*- endif *))\n",
    "\n",
    "((*- if nb.metadata.get(\"latex_metadata\", {}).get(\"author\", \"\"): -*))\n",
    "\\author{((( nb.metadata[\"latex_metadata\"][\"author\"] )))}\n",
    "((*- else -*))\n",
    "\\author{John Doe}\n",
    "((*- endif *))\n",
    "\n",
    "((*- if nb.metadata.get(\"latex_metadata\", {}).get(\"affiliation\", \"\"): -*))\n",
    "\\affil{((( nb.metadata[\"latex_metadata\"][\"affiliation\"] )))}\n",
    "((*- endif *))\n",
    "\n",
    "\\date{\\today}\n",
    "\\maketitle\n",
    "\n",
    "((* endblock maketitle *))\n",
    "\n",
    "\n",
    "%===============================================================================\n",
    "% Input\n",
    "%===============================================================================\n",
    "\n",
    "% Input cells can be hidden using the \"Hide input\" and \"Hide input all\"\n",
    "% nbextensions (which set the hide_input metadata flags)\n",
    "\n",
    "((* block input scoped *))\n",
    "((*- if cell.metadata.hide_input or nb.metadata.hide_input: -*))\n",
    "((*- else -*))\n",
    "   ((( custom_add_prompt(cell.source | wrap_text(88) | highlight_code(strip_verbatim=True), cell, 'In ', 'incolor') )))\n",
    "((*- endif *))\n",
    "((* endblock input *))\n",
    "\n",
    "\n",
    "%===============================================================================\n",
    "% Output\n",
    "%===============================================================================\n",
    "\n",
    "((* block output_group -*))\n",
    "((*- if cell.metadata.hide_output: -*))\n",
    "((*- else -*))\n",
    "    ((( super() )))\n",
    "((*- endif -*))\n",
    "((* endblock output_group *))\n",
    "\n",
    "% Display stream ouput with coloring\n",
    "((* block stream *))\n",
    "    \\begin{Verbatim}[commandchars=\\\\\\{\\}]\n",
    "((( output.text | wrap_text(86) | escape_latex | ansi2latex )))\n",
    "    \\end{Verbatim}\n",
    "((* endblock stream *))\n",
    "\n",
    "%==============================================================================\n",
    "% Define macro custom_add_prompt() (derived from add_prompt() macro in style_ipython.tplx)\n",
    "%==============================================================================\n",
    "\n",
    "((* macro custom_add_prompt(text, cell, prompt, prompt_color) -*))\n",
    "    ((*- if cell.execution_count is defined -*))\n",
    "    ((*- set execution_count = \"\" ~ (cell.execution_count | replace(None, \" \")) -*))\n",
    "    ((*- else -*))\n",
    "    ((*- set execution_count = \" \" -*))\n",
    "    ((*- endif -*))\n",
    "    ((*- set indention =  \" \" * (execution_count | length + 7) -*))\n",
    "\\begin{Verbatim}[commandchars=\\\\\\{\\}]\n",
    "((( text | add_prompts(first='{\\color{' ~ prompt_color ~ '}' ~ prompt ~ '[{\\\\color{' ~ prompt_color ~ '}' ~ execution_count ~ '}]:} ', cont=indention) )))\n",
    "\\end{Verbatim}\n",
    "((*- endmacro *))\n",
    "\n",
    "%==============================================================================\n",
    "% Bibliography\n",
    "%==============================================================================\n",
    "\n",
    "% Insert citations in markdown as e.g.\n",
    "%    <cite data-cite=\"DevoretS2013\">[DevoretS2013]</cite>\n",
    "% requires file references.bib in current directory (or the file set as \"bib\" in the latex_metadata)\n",
    "\n",
    "((* block bibliography *))\n",
    "\\bibliography{((( nb.metadata.get(\"latex_metadata\", {}).get(\"bib\", \"references\") )))}\n",
    "((* endblock bibliography *))\n",
    "\n"
   ]
  },
  {
   "cell_type": "markdown",
   "metadata": {},
   "source": [
    "**Utilisation du template**"
   ]
  },
  {
   "cell_type": "raw",
   "metadata": {},
   "source": [
    "jupyter nbconvert --to=latex --template=./revtex.tplx file.ipynb "
   ]
  },
  {
   "cell_type": "markdown",
   "metadata": {},
   "source": [
    "ou bien pour obtenir le pdf :"
   ]
  },
  {
   "cell_type": "raw",
   "metadata": {},
   "source": [
    "jupyter nbconvert --to=pdf --PdfExporter.template_file=./revtex.tplx file.ipynb"
   ]
  },
  {
   "cell_type": "markdown",
   "metadata": {},
   "source": [
    "##### Transformation HTML"
   ]
  },
  {
   "cell_type": "markdown",
   "metadata": {},
   "source": [
    "**Creation d'un template**  \n",
    "\n",
    "Le fichier de template, my_html_template.tpl modifie fait un encadrement épais en bleu de toutes les cellules."
   ]
  },
  {
   "cell_type": "raw",
   "metadata": {},
   "source": [
    "{% extends 'full.tpl'%}\n",
    "\n",
    "{% block any_cell %}\n",
    "    <div style=\"border-style: solid;border-width: 5px; border-color: blue\">\n",
    "        {{ super() }}\n",
    "    </div>\n",
    "{% endblock any_cell %}\n",
    "\n"
   ]
  },
  {
   "cell_type": "markdown",
   "metadata": {},
   "source": [
    "**Utilisation du template** "
   ]
  },
  {
   "cell_type": "raw",
   "metadata": {},
   "source": [
    "jupyter nbconvert --to=html --template=./my_html_template.tpl file.ipynb"
   ]
  },
  {
   "cell_type": "markdown",
   "metadata": {},
   "source": [
    "#### Creation de transparents "
   ]
  },
  {
   "cell_type": "markdown",
   "metadata": {},
   "source": [
    "Il est possible de faire des transparents à partir de Jupyter. L'approche s'appuie sur reveal.js (https://revealjs.com/#/) qui doit être disponible sur votre OS.\n",
    "\n",
    "Un fichier .html est automatiquement créé et un appel à reveal.js est fait pour naviguer en utilisant les flèches."
   ]
  },
  {
   "cell_type": "markdown",
   "metadata": {},
   "source": [
    "**Choix de la présentation**  \n",
    "Se rendre sur le menu View/Cell Toolbar et sélectionner Slideshow.\n",
    "Cela a pour effet d'afficher à droite un menu contextuel pour sélectionner le type de transparent que l'on souhaite faire.\n",
    "\n",
    "\n",
    "Il existe 4 types de présentations possibles pour les cellules :\n",
    "\n",
    "**Slide** : Chaque cellule sera présentée sur un transparent différent. Il faut utiliser les flèches de droite et gauche pour naviguer entre les différents transparents.  \n",
    "\n",
    "**Sub-slide** : est une continuité du transparent précédent. Il faut utiliser les flèches haut-bas pour naviguer.  \n",
    "\n",
    "**Fragment** : chaque cellule apparait progressivement sur le même transparent.\n",
    "\n",
    "**Skip** : permet de ne pas afficher la cellule.\n",
    "\n",
    "**Notes** : permet d'afficher des notes uniquement pour le présentateur."
   ]
  },
  {
   "cell_type": "markdown",
   "metadata": {},
   "source": [
    "Pour générer la présentation, il faut utiliser la commande suivante :"
   ]
  },
  {
   "cell_type": "raw",
   "metadata": {},
   "source": [
    "        jupyter nbconvert monnotebook.ipynb --to slides --post serve"
   ]
  },
  {
   "cell_type": "markdown",
   "metadata": {},
   "source": [
    "--post serve permet de lancer automatiquement un serveur et execute l'application revealjs avec les données transformées.  \n",
    "\n",
    "Il est possible de créer une page web qui soit lancée dès l'accès à un serveur. Pour cela, il faut :\n",
    "* Renommer le fichier notebook.ipynb en index.ipynb pour générer un fichier index.html.\n",
    "* Cloner reveal.js dans le répertoire où se situe le notebook :  \n",
    "    git submodule add https://github.com/hakimel/reveal.js.git reveal.js\n",
    "* Faire la conversion en spécifiant d'utiliser reveal.js:  \n",
    "    jupyter nbconvert --to slides index.ipynb --reveal-prefix=reveal.js "
   ]
  },
  {
   "cell_type": "markdown",
   "metadata": {},
   "source": [
    "Il est possible d'utiliser les options de nbconvert (voir https://nbconvert.readthedocs.io/en/latest/config_options.html)"
   ]
  },
  {
   "cell_type": "raw",
   "metadata": {},
   "source": [
    "jupyter nbconvert mynotebook.ipynb --to slides --post serve \n",
    "    --SlidesExporter.reveal_theme=sky \n",
    "    --SlidesExporter.reveal_scroll=True \n",
    "    --SlidesExporter.reveal_transition=none"
   ]
  },
  {
   "cell_type": "markdown",
   "metadata": {},
   "source": [
    "va  générer un fichier mynotebook.html pour lequel le theme est en sky (les différents theme sont disponibles : https://github.com/hakimel/reveal.js/tree/master/css/theme), autorisant le scroll lors de grande page, sans transition particulière et ouvre une fenêtre sur le navigateur pour lancer le fichier mynotebook.html."
   ]
  }
 ],
 "metadata": {
  "kernelspec": {
   "display_name": "Python 3",
   "language": "python",
   "name": "python3"
  },
  "language_info": {
   "codemirror_mode": {
    "name": "ipython",
    "version": 3
   },
   "file_extension": ".py",
   "mimetype": "text/x-python",
   "name": "python",
   "nbconvert_exporter": "python",
   "pygments_lexer": "ipython3",
   "version": "3.6.4"
  },
  "latex_metadata": {
   "affiliation": "Montpellier University",
   "author": "P. Poncelet",
   "title": "Environnement"
  }
 },
 "nbformat": 4,
 "nbformat_minor": 2
}
