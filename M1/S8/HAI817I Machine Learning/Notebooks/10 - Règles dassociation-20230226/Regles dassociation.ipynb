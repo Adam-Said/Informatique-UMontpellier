{
 "cells": [
  {
   "cell_type": "markdown",
   "metadata": {},
   "source": [
    "<H1> Règles d'association </H1>\n",
    "\n",
    "Scikit learn est très pauvre pour la recherche de patterns. Il existe cependant quelques librairies qui ont été développées.\n",
    "La recherche de patterns nécessite souvent des algorithmes très performants pour trouver les résultats. Il est donc courant de devoir \n",
    "passer par une API vers un code développé en C++ par exemple. Nous présentons ici deux approches différentes.  \n",
    "La première utilise une librairie développée en Python qui permet de pouvoir extraire des itemsets et des règles d'association. Il s'agit de la librairie MLxtend : http://rasbt.github.io/mlxtend/.  \n",
    "\n",
    "La seconde utilise une implémentation d'un algorithme de recherche de règles d'association développé en Java. Il s'agit de SPMF. SPMF propose un très grand choix d'algorithmes pour extraire des règles d'association, des motifs séquentiels, des sous graphes. Il propose également un grand nombre de jeu de données. Il est très utilisé dans la communauté Data Mining : http://www.philippe-fournier-viger.com/spmf/. "
   ]
  },
  {
   "cell_type": "markdown",
   "metadata": {},
   "source": [
    "** Rappel de la problématique de la recherche de règles d'association**\n",
    "\n",
    "Soit ${\\displaystyle \\mathrm {I} =\\left\\{i_{1},i_{2},...,i_{m}\\right\\}}$ un ensemble d'items. Soit ${\\displaystyle \\mathrm {T} =\\left\\{t_{1},t_{2},...,t_{n}\\right\\}}$ un ensemble de transactions, telles que $t_i$ soit un sous-ensemble de $I$ (i.e. $t_i  \\subseteq I$). Une règle d'association s'exprime sous la forme :  ${\\displaystyle \\mathrm {X} \\rightarrow \\mathrm{Y}}$, où \n",
    "${\\displaystyle \\mathrm {X} \\in \\mathrm {T} ,\\mathrm{Y}\\in \\mathrm {T} ,}$ et \n",
    "${\\displaystyle \\mathrm {X} \\cap \\mathrm {Y}\\neq \\emptyset }$.   \n",
    "\n",
    "Initialement la problématique de la recherche de règles d'association etait définie par : A partir d'une base de données de transactions, l'objectif est d'extraire l'ensemble des règles qui sont telles que le support de la règle est $\\geq$ support_minimal et la confiance (*confidence*) est $\\geq$ confiance_minimale où  support_minimal confiance_minimale sont deux paramètres définis par l'utilisateur final. Cependant au cours des années différentes mesures ont été proposées notamment pour remplacer la confiance.\n",
    "\n",
    "\n",
    "Le *Support* d'une règle ${\\displaystyle \\mathrm {X} \\rightarrow \\mathrm{Y}}$, noté ${\\displaystyle Support({\\displaystyle \\mathrm {X,Y}} )}$ indique la fréquence de la règle dans les transactions, i.e. combien de fois les items ${\\displaystyle \\mathrm {X}}$ et ${\\displaystyle \\mathrm {Y}}$ apparaissent ensemble, i.e ${\\displaystyle Support({\\displaystyle \\mathrm {X} \\cup \\mathrm {Y}} )}$.  \n",
    "\n",
    "La *Confidence* d'une règle ${\\displaystyle \\mathrm {X} \\rightarrow \\mathrm{Y}}$ est définie par : \n",
    "${\\displaystyle Confidence({\\displaystyle \\mathrm {X} \\rightarrow \\mathrm{Y}} )}$= ${\\displaystyle p(Y|X)}$ = ${\\displaystyle \\frac{support(X,Y)}{suppport(X)}}$. Range = [0,1]  \n",
    "\n",
    "Différentes mesures ont été proposées dans la littérature.    \n",
    "\n",
    "\n",
    "\n",
    "${\\displaystyle Lift(\\mathrm {X} \\rightarrow \\mathrm{Y}}$ ) ${\\displaystyle= \\frac{p(Y|X)}{p(Y)}}$=${\\displaystyle \\frac{suppport(X,Y)}{suppport(X)\\times suppport(Y)}}$ = ${\\displaystyle \\frac{Confidence({\\displaystyle \\mathrm {X} \\rightarrow \\mathrm{Y}} )}{support(X)}}$. Range  [0,$\\infty$]\n",
    " \n",
    "Si des règles ont un lift de 1 cela voudrait dire que la probabilité de l'antécédent et du conséquent sont indépendantes l'une de l'autres. Quand deux événements sont indépendants il est donc difficile d'en tirer une règle. Si le lift est supérieur à 1 cela montre que les deux parties sont dépendantes et qu'une règle est peut être utile pour prédire le conséquent à partir de l'antécédent.   \n",
    "\n",
    "\n",
    "\n",
    "${\\displaystyle Leverage(\\mathrm {X} \\rightarrow \\mathrm{Y}}$ ) =${\\displaystyle support(X,Y)−support(A)×support(C)}$. Range = [-1,1]  \n",
    "\n",
    "Une valeur de leverage nulle indique que X et Y sont indépendantes.  \n",
    " \n",
    "${\\displaystyle Conviction(\\mathrm {X} \\rightarrow \\mathrm{Y})}$=${\\displaystyle \\frac{1 -suppport(Y)}{1-Confidence({\\displaystyle \\mathrm {X} \\rightarrow \\mathrm{Y})}}}$. Range [-1,1]  \n",
    "\n",
    "Une valeur de conviction de 1 indique que les événements sont indépendants. \n",
    "\n"
   ]
  },
  {
   "cell_type": "markdown",
   "metadata": {},
   "source": [
    "## Utilisation de  MLxtend"
   ]
  },
  {
   "cell_type": "markdown",
   "metadata": {},
   "source": [
    "Dans l'exemple nous considérons l'exercice fait en cours. Les données sont organisées de la manière suivante :  \n",
    "    Chaque ligne correspond à un client, les items achetés sont précisés."
   ]
  },
  {
   "cell_type": "code",
   "execution_count": null,
   "metadata": {},
   "outputs": [],
   "source": [
    "basket = [['Biscuit', 'Creme', 'Couches', \n",
    "            'Pain', 'Confiture'],\n",
    "           ['Oeufs', 'Salade', 'Pain'],\n",
    "           ['Pain', 'Biscuit', 'Couches', \n",
    "            'Lait','Camembert','Biere','Poudre de cacao'],\n",
    "           ['Biere', 'Lait', 'Creme', \n",
    "            'Pain', 'Salade','Couches','Poudre de cacao'],\n",
    "           ['Camembert', 'Confiture', \n",
    "            'Poudre de cacao', 'Lait'],\n",
    "           ['Lait','Biere','Perrier',\n",
    "            'Oeufs','Couches'],\n",
    "           ['Biscuit', 'Creme', 'Oeufs', \n",
    "            'Pain', 'Couches','Lait',\n",
    "            'Poudre de cacao', 'Confiture'],\n",
    "           ['Camembert','Biere','Perrier',\n",
    "            'Oeufs','Salade','Confiture','Couches'],\n",
    "           ['Salade','Confiture','Pain','Oeufs',\n",
    "            'Creme','Perrier','Biscuit']]\n"
   ]
  },
  {
   "cell_type": "markdown",
   "metadata": {},
   "source": [
    "Il faut à présent transformer les données pour qu'elles correspondent à une matrice où les items sont les colonnes, les clients les lignes et faire apparaître un 0 ou un 1 lorsqu'un client a acheté ou pas un item.   \n",
    "\n",
    "mlxtend propose une fonction TransactionEncoder pour réaliser cette opération."
   ]
  },
  {
   "cell_type": "code",
   "execution_count": null,
   "metadata": {},
   "outputs": [],
   "source": [
    "\n",
    "import pandas as pd\n",
    "from mlxtend.preprocessing import TransactionEncoder\n",
    "\n",
    "te = TransactionEncoder()\n",
    "te_ary = te.fit(basket).transform(basket)\n",
    "df = pd.DataFrame(te_ary, columns=te.columns_)\n"
   ]
  },
  {
   "cell_type": "markdown",
   "metadata": {},
   "source": [
    "Pour connaître l'ensemble des itemsets fréquents il suffit d'appeler l'algorithme apriori."
   ]
  },
  {
   "cell_type": "code",
   "execution_count": null,
   "metadata": {},
   "outputs": [],
   "source": [
    "from mlxtend.frequent_patterns import apriori\n",
    "\n",
    "frequent_itemsets = apriori(df, min_support=0.3, use_colnames=True)\n",
    "\n",
    "display(frequent_itemsets.head(10))"
   ]
  },
  {
   "cell_type": "markdown",
   "metadata": {},
   "source": [
    "L'obtention des règles se fait par la fonction association rules. Il est possible de spécifier différentes metrique (Cf. remarque précédente)."
   ]
  },
  {
   "cell_type": "code",
   "execution_count": null,
   "metadata": {},
   "outputs": [],
   "source": [
    "from mlxtend.frequent_patterns import association_rules\n",
    "print ('Utilisation de la confiance\\n')\n",
    "rules = association_rules(frequent_itemsets, \n",
    "                          metric=\"confidence\", \n",
    "                          min_threshold=0.2)\n",
    "\n",
    "display(rules.sample(10))"
   ]
  },
  {
   "cell_type": "code",
   "execution_count": null,
   "metadata": {},
   "outputs": [],
   "source": [
    "print ('Utilisation du lift\\n')\n",
    "rules = association_rules(frequent_itemsets, \n",
    "                          metric=\"lift\")\n",
    "\n",
    "display(rules.head(10))"
   ]
  },
  {
   "cell_type": "markdown",
   "metadata": {},
   "source": [
    "Le code suivant permet de pouvoir ajouter une colonne qui contient la taille de la partie antecedent pour ne pouvoir afficher que les règles qui ont un certain nombre d'items dans la partie antécédent. "
   ]
  },
  {
   "cell_type": "code",
   "execution_count": null,
   "metadata": {},
   "outputs": [],
   "source": [
    "\n",
    "rules[\"antecedent_len\"] = rules[\"antecedents\"].apply(lambda x: len(x))\n"
   ]
  },
  {
   "cell_type": "markdown",
   "metadata": {},
   "source": [
    "Affichage des règles dont la partie antécédent est supérieure à 1."
   ]
  },
  {
   "cell_type": "code",
   "execution_count": null,
   "metadata": {},
   "outputs": [],
   "source": [
    "display (rules.loc[(rules[\"antecedent_len\"]>1)].head(10))"
   ]
  },
  {
   "cell_type": "markdown",
   "metadata": {},
   "source": [
    "## Utilisation d'une API extérieure (SPMF) "
   ]
  },
  {
   "cell_type": "markdown",
   "metadata": {},
   "source": [
    "Le code java de SPMF est disponible ici :   \n",
    "     http://www.philippe-fournier-viger.com/spmf/index.php?link=download.php  \n",
    "Il faut le télécharger et sauvegarder le fichier jar dans le répertoire courant.  \n",
    "\n",
    "Comme vous pouvez le constater il existe un très grand nombre d'algorithmes de recherche de règles d'association disponibles. Nous allons utiliser ici FP_Growth.   \n",
    "\n",
    "Pour obtenir les itemsets : FPGrowth_itemsets  \n",
    "Pour obtenir les règles d'association : FPGrowth_association_rules  \n",
    "Pour obtenir les règles d'association avec le lift : FPGrowth_association_rules_with_lift\n",
    "\n",
    "Dans l'exemple nous utiliserons le dernier. Se reporter à la page de documentation pour connaître les différents paramètres. \n",
    "\n",
    "L'appel se fait simplement via :  \n",
    "java -jar spmf.jar run FPGrowth_association_rules_with_lift NomduFichierFormatSPMF Sortie.txt support% confiance% valeurlift\"  \n",
    "\n",
    "Dans l'exemple nous prenons le fichier contextIGB.txt, support 50%, confiance 90%, lift 1.2.\n",
    "\n",
    "\n"
   ]
  },
  {
   "cell_type": "code",
   "execution_count": null,
   "metadata": {},
   "outputs": [],
   "source": [
    "import os\n",
    "    \n",
    "os.system(\"java -jar spmf.jar run FPGrowth_association_rules_with_lift Dataset/contextIGB.txt output.txt 50% 90% 1.2\")\n",
    "\n",
    "\n"
   ]
  },
  {
   "cell_type": "code",
   "execution_count": null,
   "metadata": {},
   "outputs": [],
   "source": [
    "#Affichage des résultats\n",
    "f=open(\"output.txt\")\n",
    "for ln in f:\n",
    "    display (ln)\n",
    "f.close()    "
   ]
  }
 ],
 "metadata": {
  "kernelspec": {
   "display_name": "Python 3",
   "language": "python",
   "name": "python3"
  },
  "language_info": {
   "codemirror_mode": {
    "name": "ipython",
    "version": 3
   },
   "file_extension": ".py",
   "mimetype": "text/x-python",
   "name": "python",
   "nbconvert_exporter": "python",
   "pygments_lexer": "ipython3",
   "version": "3.6.4"
  },
  "toc": {
   "base_numbering": 1,
   "nav_menu": {},
   "number_sections": true,
   "sideBar": true,
   "skip_h1_title": false,
   "title_cell": "Table of Contents",
   "title_sidebar": "Contents",
   "toc_cell": false,
   "toc_position": {},
   "toc_section_display": true,
   "toc_window_display": false
  }
 },
 "nbformat": 4,
 "nbformat_minor": 2
}
