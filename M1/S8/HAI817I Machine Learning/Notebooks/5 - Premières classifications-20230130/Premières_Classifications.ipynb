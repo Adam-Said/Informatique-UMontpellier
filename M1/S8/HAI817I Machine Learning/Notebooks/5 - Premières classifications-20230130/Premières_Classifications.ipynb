{
  "nbformat": 4,
  "nbformat_minor": 0,
  "metadata": {
    "kernelspec": {
      "display_name": "Python 3",
      "language": "python",
      "name": "python3"
    },
    "language_info": {
      "codemirror_mode": {
        "name": "ipython",
        "version": 3
      },
      "file_extension": ".py",
      "mimetype": "text/x-python",
      "name": "python",
      "nbconvert_exporter": "python",
      "pygments_lexer": "ipython3",
      "version": "3.8.5"
    },
    "toc": {
      "base_numbering": 1,
      "nav_menu": {},
      "number_sections": true,
      "sideBar": true,
      "skip_h1_title": false,
      "title_cell": "Table of Contents",
      "title_sidebar": "Contents",
      "toc_cell": false,
      "toc_position": {},
      "toc_section_display": true,
      "toc_window_display": false
    },
    "colab": {
      "name": "Premières Classifications.ipynb",
      "provenance": [],
      "collapsed_sections": []
    }
  },
  "cells": [
    {
      "cell_type": "markdown",
      "metadata": {
        "id": "3RLHAqAN0azv"
      },
      "source": [
        "<H1> Premières classifications </H1>"
      ]
    },
    {
      "cell_type": "markdown",
      "metadata": {
        "id": "byvbK8uU0azv"
      },
      "source": [
        "Le but de ce notebook est de faire ses premiers pas en classification supervisée, i.e. lorsque les données d'apprentissage disposent de classes labelisées. Pour cela nous utiliserons un jeu de données très connu dans la communauté : IRIS.\n",
        "\n",
        "Dans un premier temps, nous présentons une première classification pour apprendre à utiliser un classifieur et à prédire une valeur. Les jeux de données d'apprentissage et de de test sont présentés par la suite. Nous présentons ensuite différentes mesures pour évaluer un modèle.   \n",
        "Etant donné qu'il n'est pas possible d'avoir un classifieur universel (NO FREE LUNCH THEOREM), nous verrons comment utiliser différents classifieurs et comment rechercher les meilleurs paramètres d'un classifieur. Enfin nous verrons comment sauvegarder et ré-utiliser un modèle appris.\n"
      ]
    },
    {
      "cell_type": "markdown",
      "metadata": {
        "id": "OcGJYrR_NuJj"
      },
      "source": [
        "## Installation\n"
      ]
    },
    {
      "cell_type": "markdown",
      "metadata": {
        "id": "4D4tLftX0azw"
      },
      "source": [
        "\n",
        "\n",
        "\n",
        "Avant de commencer, il est nécessaire de déjà posséder dans son environnement toutes les librairies utiles. Dans la seconde cellule nous importons toutes les librairies qui seront utiles à ce notebook. Il se peut que, lorsque vous lanciez l'éxecution de cette cellule, une soit absente. Dans ce cas il est nécessaire de l'installer. Pour cela dans la cellule suivante utiliser la commande :  \n",
        "\n",
        "*! pip install nom_librairie*  \n",
        "\n",
        "**Attention :** il est fortement conseillé lorsque l'une des librairies doit être installer de relancer le kernel de votre notebook.\n",
        "\n",
        "**Remarque :** même si toutes les librairies sont importées dès le début, les librairies utiles pour des fonctions présentées au cours de ce notebook sont ré-importées de manière à indiquer d'où elles viennent et ainsi faciliter la réutilisation de la fonction dans un autre projet.\n",
        " "
      ]
    },
    {
      "cell_type": "code",
      "metadata": {
        "id": "npE-hmfW0azw"
      },
      "source": [
        "# utiliser cette cellule pour installer les librairies manquantes\n",
        "# pour cela il suffit de taper dans cette cellule : !pip install nom_librairie_manquante\n",
        "# d'exécuter la cellule et de relancer la cellule suivante pour voir si tout se passe bien\n",
        "# recommencer tant que toutes les librairies ne sont pas installées ...\n",
        "\n",
        "\n",
        "#!pip install ..\n",
        "\n",
        "# ne pas oublier de relancer le kernel du notebook"
      ],
      "execution_count": 286,
      "outputs": []
    },
    {
      "cell_type": "code",
      "metadata": {
        "id": "Kb-GSeSF0azx"
      },
      "source": [
        "# Importation des différentes librairies utiles pour le notebook\n",
        "\n",
        "#Sickit learn met régulièrement à jour des versions et \n",
        "#indique des futurs warnings. \n",
        "#ces deux lignes permettent de ne pas les afficher.\n",
        "import warnings\n",
        "warnings.filterwarnings(\"ignore\", category=FutureWarning)\n",
        "\n",
        "# librairies générales\n",
        "import pickle \n",
        "import pandas as pd\n",
        "from scipy.stats import randint\n",
        "import numpy as np\n",
        "import string\n",
        "import time\n",
        "import base64\n",
        "import sys\n",
        "\n",
        "\n",
        "# librairie affichage\n",
        "import matplotlib.pyplot as plt\n",
        "import seaborn as sns\n",
        "\n",
        "\n",
        "# librairies scikit learn\n",
        "import sklearn\n",
        "from sklearn.naive_bayes import GaussianNB\n",
        "from sklearn.metrics import accuracy_score\n",
        "from sklearn.model_selection import train_test_split \n",
        "from sklearn.metrics import confusion_matrix\n",
        "from sklearn.metrics import classification_report\n",
        "from sklearn.metrics import precision_recall_fscore_support as score\n",
        "from sklearn.preprocessing import StandardScaler\n",
        "from sklearn.linear_model import LogisticRegression\n",
        "from sklearn.tree import DecisionTreeClassifier\n",
        "from sklearn.neighbors import KNeighborsClassifier\n",
        "from sklearn.naive_bayes import GaussianNB\n",
        "from sklearn.svm import SVC\n",
        "from sklearn.model_selection import KFold\n",
        "from sklearn.model_selection import cross_val_score\n",
        "from sklearn.tree import DecisionTreeClassifier\n",
        "from sklearn.model_selection import GridSearchCV\n",
        "from sklearn.model_selection import RandomizedSearchCV\n",
        "from sklearn.decomposition import PCA\n",
        "from sklearn.pipeline import Pipeline\n",
        "from sklearn.tree import DecisionTreeClassifier\n",
        "from sklearn.preprocessing import LabelEncoder\n",
        "from sklearn.preprocessing import MinMaxScaler\n",
        "from sklearn import datasets\n",
        "\n"
      ],
      "execution_count": 287,
      "outputs": []
    },
    {
      "cell_type": "markdown",
      "metadata": {
        "id": "RPhPWGMm00hV"
      },
      "source": [
        "Pour pouvoir sauvegarder sur votre répertoire Google Drive, il est nécessaire de fournir une autorisation. Pour cela il suffit d'éxecuter la ligne suivante et de saisir le code donné par Google."
      ]
    },
    {
      "cell_type": "code",
      "metadata": {
        "id": "eHeivmJ30pPr",
        "colab": {
          "base_uri": "https://localhost:8080/"
        },
        "outputId": "3e0dc5f5-af7b-497f-d2f6-3e9b1b2a8269"
      },
      "source": [
        "# pour monter son drive Google Drive local\n",
        "from google.colab import drive\n",
        "drive.mount('/content/gdrive')"
      ],
      "execution_count": 288,
      "outputs": [
        {
          "output_type": "stream",
          "name": "stdout",
          "text": [
            "Drive already mounted at /content/gdrive; to attempt to forcibly remount, call drive.mount(\"/content/gdrive\", force_remount=True).\n"
          ]
        }
      ]
    },
    {
      "cell_type": "markdown",
      "metadata": {
        "id": "2HWmMsQw0_g1"
      },
      "source": [
        "Corriger éventuellement la ligne ci-dessous pour mettre le chemin vers un répertoire spécifique dans votre répertoire Google Drive : \n"
      ]
    },
    {
      "cell_type": "code",
      "metadata": {
        "id": "ytAQgNFJ1Hs5",
        "colab": {
          "base_uri": "https://localhost:8080/",
          "height": 54
        },
        "outputId": "7924ae3f-21b2-48ee-f722-6d9967806ba2"
      },
      "source": [
        "my_local_drive='/content/gdrive/My Drive/Colab Notebooks/ML_FDS'\n",
        "# Ajout du path pour les librairies, fonctions et données\n",
        "sys.path.append(my_local_drive)\n",
        "# Se positionner sur le répertoire associé\n",
        "%cd $my_local_drive\n",
        "\n",
        "%pwd"
      ],
      "execution_count": 289,
      "outputs": [
        {
          "output_type": "stream",
          "name": "stdout",
          "text": [
            "/content/gdrive/My Drive/Colab Notebooks/ML_FDS\n"
          ]
        },
        {
          "output_type": "execute_result",
          "data": {
            "application/vnd.google.colaboratory.intrinsic+json": {
              "type": "string"
            },
            "text/plain": [
              "'/content/gdrive/My Drive/Colab Notebooks/ML_FDS'"
            ]
          },
          "metadata": {},
          "execution_count": 289
        }
      ]
    },
    {
      "cell_type": "code",
      "metadata": {
        "id": "-i07BWpWSXGd"
      },
      "source": [
        "# fonctions utilities (affichage, confusion, etc.)\n",
        "from MyNLPUtilities import *"
      ],
      "execution_count": 290,
      "outputs": []
    },
    {
      "cell_type": "markdown",
      "metadata": {
        "id": "4QMzV6u00azx"
      },
      "source": [
        "##Le jeu de données IRIS\n"
      ]
    },
    {
      "cell_type": "markdown",
      "metadata": {
        "id": "ndfjJjxd0azx"
      },
      "source": [
        "IRIS est un jeu de données multivariées qui a été présenté la première fois par R. Fisher en 1936 (R. Fisher, \"The use of multiple measurements in taxonomic problems\", Annals Eugen. 7 (1936) 179-188). Introduit tout d'abord comme exemple d'application de l'analyse discriminante linéaire, il a été très largement utilisé par la communauté de l'apprentissage automatique.   \n",
        "\n",
        "Le jeu de données est constitué de 3 classes correspondant à des espèces différentes d'Iris : 'Iris Setosa', 'Iris Virginica' et 'Iris Versicolor' et possède 4 caractéristiques correspondant à : la longueur et largeur des sépales et des pétales en centimètres. \n",
        "\n",
        "<IMG SRC=\"http://www.lirmm.fr/~poncelet/EGC2021/Iris.png\" align=\"center\" >  \n",
        "    \n",
        "tiré de : https://www.datacamp.com/community/tutorials/machine-learning-in-r  \n",
        "    \n",
        "    \n",
        "Tout au long de ce notebook, nous illustrerons les principales notions à l'aide de ce jeu de données. \n"
      ]
    },
    {
      "cell_type": "code",
      "metadata": {
        "ExecuteTime": {
          "end_time": "2020-10-10T08:41:03.304830Z",
          "start_time": "2020-10-10T08:40:59.751610Z"
        },
        "id": "k3J5hx-20azx",
        "colab": {
          "base_uri": "https://localhost:8080/",
          "height": 289
        },
        "outputId": "06ae2019-8c2f-4297-9885-38a359da7ee0"
      },
      "source": [
        "import pandas as pd\n",
        "import numpy as np\n",
        "\n",
        "# Le jeu de données est disponible sur le site de l'UCI\n",
        "# https://archive.ics.uci.edu/ml/machine-learning-databases/iris/iris.data\n",
        "\n",
        "# chargement du jeu de données à partir de l'URL\n",
        "url=\"https://archive.ics.uci.edu/ml/machine-learning-databases/iris/iris.data\"\n",
        "names = ['SepalLengthCm', 'SepalWidthCm', \n",
        "         'PetalLengthCm', 'PetalWidthCm', \n",
        "         'Species']\n",
        "\n",
        "# creation d'un dataframe pour récupérer les données\n",
        "df_iris = pd.read_csv(url, names=names)\n",
        "\n",
        "# affichage des 5 premières lignes du jeu de données\n",
        "display(df_iris.head())\n",
        "\n",
        "# affichage du nombre de classes et de val\n",
        "print (\"Nombre d'occurrences par classe : \\n\",df_iris['Species'].value_counts())"
      ],
      "execution_count": 291,
      "outputs": [
        {
          "output_type": "display_data",
          "data": {
            "text/html": [
              "\n",
              "  <div id=\"df-fe63bd42-8994-40a3-86e3-8df27ee6daba\">\n",
              "    <div class=\"colab-df-container\">\n",
              "      <div>\n",
              "<style scoped>\n",
              "    .dataframe tbody tr th:only-of-type {\n",
              "        vertical-align: middle;\n",
              "    }\n",
              "\n",
              "    .dataframe tbody tr th {\n",
              "        vertical-align: top;\n",
              "    }\n",
              "\n",
              "    .dataframe thead th {\n",
              "        text-align: right;\n",
              "    }\n",
              "</style>\n",
              "<table border=\"1\" class=\"dataframe\">\n",
              "  <thead>\n",
              "    <tr style=\"text-align: right;\">\n",
              "      <th></th>\n",
              "      <th>SepalLengthCm</th>\n",
              "      <th>SepalWidthCm</th>\n",
              "      <th>PetalLengthCm</th>\n",
              "      <th>PetalWidthCm</th>\n",
              "      <th>Species</th>\n",
              "    </tr>\n",
              "  </thead>\n",
              "  <tbody>\n",
              "    <tr>\n",
              "      <th>0</th>\n",
              "      <td>5.1</td>\n",
              "      <td>3.5</td>\n",
              "      <td>1.4</td>\n",
              "      <td>0.2</td>\n",
              "      <td>Iris-setosa</td>\n",
              "    </tr>\n",
              "    <tr>\n",
              "      <th>1</th>\n",
              "      <td>4.9</td>\n",
              "      <td>3.0</td>\n",
              "      <td>1.4</td>\n",
              "      <td>0.2</td>\n",
              "      <td>Iris-setosa</td>\n",
              "    </tr>\n",
              "    <tr>\n",
              "      <th>2</th>\n",
              "      <td>4.7</td>\n",
              "      <td>3.2</td>\n",
              "      <td>1.3</td>\n",
              "      <td>0.2</td>\n",
              "      <td>Iris-setosa</td>\n",
              "    </tr>\n",
              "    <tr>\n",
              "      <th>3</th>\n",
              "      <td>4.6</td>\n",
              "      <td>3.1</td>\n",
              "      <td>1.5</td>\n",
              "      <td>0.2</td>\n",
              "      <td>Iris-setosa</td>\n",
              "    </tr>\n",
              "    <tr>\n",
              "      <th>4</th>\n",
              "      <td>5.0</td>\n",
              "      <td>3.6</td>\n",
              "      <td>1.4</td>\n",
              "      <td>0.2</td>\n",
              "      <td>Iris-setosa</td>\n",
              "    </tr>\n",
              "  </tbody>\n",
              "</table>\n",
              "</div>\n",
              "      <button class=\"colab-df-convert\" onclick=\"convertToInteractive('df-fe63bd42-8994-40a3-86e3-8df27ee6daba')\"\n",
              "              title=\"Convert this dataframe to an interactive table.\"\n",
              "              style=\"display:none;\">\n",
              "        \n",
              "  <svg xmlns=\"http://www.w3.org/2000/svg\" height=\"24px\"viewBox=\"0 0 24 24\"\n",
              "       width=\"24px\">\n",
              "    <path d=\"M0 0h24v24H0V0z\" fill=\"none\"/>\n",
              "    <path d=\"M18.56 5.44l.94 2.06.94-2.06 2.06-.94-2.06-.94-.94-2.06-.94 2.06-2.06.94zm-11 1L8.5 8.5l.94-2.06 2.06-.94-2.06-.94L8.5 2.5l-.94 2.06-2.06.94zm10 10l.94 2.06.94-2.06 2.06-.94-2.06-.94-.94-2.06-.94 2.06-2.06.94z\"/><path d=\"M17.41 7.96l-1.37-1.37c-.4-.4-.92-.59-1.43-.59-.52 0-1.04.2-1.43.59L10.3 9.45l-7.72 7.72c-.78.78-.78 2.05 0 2.83L4 21.41c.39.39.9.59 1.41.59.51 0 1.02-.2 1.41-.59l7.78-7.78 2.81-2.81c.8-.78.8-2.07 0-2.86zM5.41 20L4 18.59l7.72-7.72 1.47 1.35L5.41 20z\"/>\n",
              "  </svg>\n",
              "      </button>\n",
              "      \n",
              "  <style>\n",
              "    .colab-df-container {\n",
              "      display:flex;\n",
              "      flex-wrap:wrap;\n",
              "      gap: 12px;\n",
              "    }\n",
              "\n",
              "    .colab-df-convert {\n",
              "      background-color: #E8F0FE;\n",
              "      border: none;\n",
              "      border-radius: 50%;\n",
              "      cursor: pointer;\n",
              "      display: none;\n",
              "      fill: #1967D2;\n",
              "      height: 32px;\n",
              "      padding: 0 0 0 0;\n",
              "      width: 32px;\n",
              "    }\n",
              "\n",
              "    .colab-df-convert:hover {\n",
              "      background-color: #E2EBFA;\n",
              "      box-shadow: 0px 1px 2px rgba(60, 64, 67, 0.3), 0px 1px 3px 1px rgba(60, 64, 67, 0.15);\n",
              "      fill: #174EA6;\n",
              "    }\n",
              "\n",
              "    [theme=dark] .colab-df-convert {\n",
              "      background-color: #3B4455;\n",
              "      fill: #D2E3FC;\n",
              "    }\n",
              "\n",
              "    [theme=dark] .colab-df-convert:hover {\n",
              "      background-color: #434B5C;\n",
              "      box-shadow: 0px 1px 3px 1px rgba(0, 0, 0, 0.15);\n",
              "      filter: drop-shadow(0px 1px 2px rgba(0, 0, 0, 0.3));\n",
              "      fill: #FFFFFF;\n",
              "    }\n",
              "  </style>\n",
              "\n",
              "      <script>\n",
              "        const buttonEl =\n",
              "          document.querySelector('#df-fe63bd42-8994-40a3-86e3-8df27ee6daba button.colab-df-convert');\n",
              "        buttonEl.style.display =\n",
              "          google.colab.kernel.accessAllowed ? 'block' : 'none';\n",
              "\n",
              "        async function convertToInteractive(key) {\n",
              "          const element = document.querySelector('#df-fe63bd42-8994-40a3-86e3-8df27ee6daba');\n",
              "          const dataTable =\n",
              "            await google.colab.kernel.invokeFunction('convertToInteractive',\n",
              "                                                     [key], {});\n",
              "          if (!dataTable) return;\n",
              "\n",
              "          const docLinkHtml = 'Like what you see? Visit the ' +\n",
              "            '<a target=\"_blank\" href=https://colab.research.google.com/notebooks/data_table.ipynb>data table notebook</a>'\n",
              "            + ' to learn more about interactive tables.';\n",
              "          element.innerHTML = '';\n",
              "          dataTable['output_type'] = 'display_data';\n",
              "          await google.colab.output.renderOutput(dataTable, element);\n",
              "          const docLink = document.createElement('div');\n",
              "          docLink.innerHTML = docLinkHtml;\n",
              "          element.appendChild(docLink);\n",
              "        }\n",
              "      </script>\n",
              "    </div>\n",
              "  </div>\n",
              "  "
            ],
            "text/plain": [
              "   SepalLengthCm  SepalWidthCm  PetalLengthCm  PetalWidthCm      Species\n",
              "0            5.1           3.5            1.4           0.2  Iris-setosa\n",
              "1            4.9           3.0            1.4           0.2  Iris-setosa\n",
              "2            4.7           3.2            1.3           0.2  Iris-setosa\n",
              "3            4.6           3.1            1.5           0.2  Iris-setosa\n",
              "4            5.0           3.6            1.4           0.2  Iris-setosa"
            ]
          },
          "metadata": {}
        },
        {
          "output_type": "stream",
          "name": "stdout",
          "text": [
            "Nombre d'occurrences par classe : \n",
            " Iris-versicolor    50\n",
            "Iris-virginica     50\n",
            "Iris-setosa        50\n",
            "Name: Species, dtype: int64\n"
          ]
        }
      ]
    },
    {
      "cell_type": "markdown",
      "metadata": {
        "id": "hGHzLNqF0azz"
      },
      "source": [
        "## Toute première classification"
      ]
    },
    {
      "cell_type": "markdown",
      "metadata": {
        "id": "_HeayHGT0azz"
      },
      "source": [
        "La classification supervisée considère les données sous la forme ($X$,$Y$) où $X$ correspond aux variables prédictives et $Y$ est le résultat d'une observation, i.e. la variable à prédire. \n",
        "En se basant sur un jeu d'apprentissage, un algorithme de classification supervisée cherche une fonction mathématique $F$ qui permet de transformer (au mieux) $X$ vers $Y$, i.e. $F(X) \\approx Y$.  \n",
        "\n",
        "Convention : les variables prédictives sont celles associées aux objets, généralement stockées sous la forme d'une matrice aussi, par convention, elles sont souvent notées en majuscule (notation d'une matrice). Les variables à prédire sont généralement stockées dans un vecteur et sont souvent notées avec une lettre majuscule (notation d'un vecteur).  \n",
        "\n",
        "Autrement il est tout à fait possible d'utiliser des noms de variables significatives comme data, target."
      ]
    },
    {
      "cell_type": "code",
      "metadata": {
        "ExecuteTime": {
          "end_time": "2020-10-10T08:41:03.320002Z",
          "start_time": "2020-10-10T08:41:03.307827Z"
        },
        "id": "_wTX6dK70azz"
      },
      "source": [
        "# Conversion du dataframe\n",
        "array = df_iris.values #necessité de convertir le dataframe en numpy\n",
        "\n",
        "# Récupération des différentes colonnes\n",
        "#X matrice représentant les variables prédictives \n",
        "X = array[:,0:4] \n",
        "#y vecteur : représentant la variable à prédire\n",
        "y = array[:,4]"
      ],
      "execution_count": 292,
      "outputs": []
    },
    {
      "cell_type": "markdown",
      "metadata": {
        "id": "Xts7Doja0azz"
      },
      "source": [
        "Pour apprendre un modèle la première chose à faire est de lui créer un estimateur. Scikit-learn, permet de faire le faire en appelant la méthode *fit(X, y)*.  \n",
        "\n",
        "Pour une première illustration, nous utilisons un classifieur naïve Bayes (https://scikit-learn.org/stable/modules/naive_bayes.html)."
      ]
    },
    {
      "cell_type": "code",
      "metadata": {
        "ExecuteTime": {
          "end_time": "2020-10-10T08:41:05.012545Z",
          "start_time": "2020-10-10T08:41:03.323048Z"
        },
        "id": "I_SaM3ka0az0",
        "colab": {
          "base_uri": "https://localhost:8080/"
        },
        "outputId": "be26f962-6740-404e-a835-213013b4bece"
      },
      "source": [
        "import sklearn\n",
        "from sklearn.naive_bayes import GaussianNB\n",
        "\n",
        "clf = GaussianNB()\n",
        "\n",
        "# création de l'estimateur \n",
        "clf.fit(X, y) "
      ],
      "execution_count": 293,
      "outputs": [
        {
          "output_type": "execute_result",
          "data": {
            "text/plain": [
              "GaussianNB()"
            ]
          },
          "metadata": {},
          "execution_count": 293
        }
      ]
    },
    {
      "cell_type": "markdown",
      "metadata": {
        "id": "J6R1NXTL0az0"
      },
      "source": [
        "Il est possible d'obtenir les hyperparamètres d'un classifieur à l'aide de *get_params*."
      ]
    },
    {
      "cell_type": "code",
      "metadata": {
        "ExecuteTime": {
          "end_time": "2020-10-10T08:41:05.026189Z",
          "start_time": "2020-10-10T08:41:05.018137Z"
        },
        "id": "v3GzcY7U0az0",
        "colab": {
          "base_uri": "https://localhost:8080/"
        },
        "outputId": "c0b4855f-7d2d-45c9-987c-8d6b0895f090"
      },
      "source": [
        "clf.get_params()"
      ],
      "execution_count": 294,
      "outputs": [
        {
          "output_type": "execute_result",
          "data": {
            "text/plain": [
              "{'priors': None, 'var_smoothing': 1e-09}"
            ]
          },
          "metadata": {},
          "execution_count": 294
        }
      ]
    },
    {
      "cell_type": "markdown",
      "metadata": {
        "id": "MEBl7mNS0az1"
      },
      "source": [
        "Pour prédire la classe d'une valeur, il suffit d'appliquer la méthode *predict* sur des variables prédictives. Par exemple, nous savons que les valeurs du 5ième IRIS sont 5.0,\t3.6,\t1.4,\t0.2 et qu'il appartient à la classe Iris-setosa."
      ]
    },
    {
      "cell_type": "code",
      "metadata": {
        "ExecuteTime": {
          "end_time": "2020-10-10T08:41:05.040410Z",
          "start_time": "2020-10-10T08:41:05.032333Z"
        },
        "id": "Y6D6GPJr0az1",
        "colab": {
          "base_uri": "https://localhost:8080/"
        },
        "outputId": "119bb2ad-686f-4e0d-ad8c-eb4c5a7b5c7a"
      },
      "source": [
        "#Prediction du résultat\n",
        "\n",
        "result = clf.predict([[ 5.0,  3.6,  1.4,  0.2]])\n",
        "print ('La prédiction du modèle pour [ 5.0,  3.6,  1.4,  0.2] est', \n",
        "       result)"
      ],
      "execution_count": 295,
      "outputs": [
        {
          "output_type": "stream",
          "name": "stdout",
          "text": [
            "La prédiction du modèle pour [ 5.0,  3.6,  1.4,  0.2] est ['Iris-setosa']\n"
          ]
        }
      ]
    },
    {
      "cell_type": "markdown",
      "metadata": {
        "id": "a6g6s4S50az2"
      },
      "source": [
        "Et si nous appliquions notre modèle sur ..... nos données d'apprentissage. Bien sûr cela n'a aucune sens ! l'objectif ici est de voir un peu comment notre modèle se comporte."
      ]
    },
    {
      "cell_type": "code",
      "metadata": {
        "ExecuteTime": {
          "end_time": "2020-10-10T08:41:05.054064Z",
          "start_time": "2020-10-10T08:41:05.043919Z"
        },
        "id": "t4uWhR0J0az2",
        "colab": {
          "base_uri": "https://localhost:8080/"
        },
        "outputId": "49c20362-29a6-4b5f-b9e3-b40db63121c0"
      },
      "source": [
        "result = clf.predict(X)\n",
        "print (result)"
      ],
      "execution_count": 296,
      "outputs": [
        {
          "output_type": "stream",
          "name": "stdout",
          "text": [
            "['Iris-setosa' 'Iris-setosa' 'Iris-setosa' 'Iris-setosa' 'Iris-setosa'\n",
            " 'Iris-setosa' 'Iris-setosa' 'Iris-setosa' 'Iris-setosa' 'Iris-setosa'\n",
            " 'Iris-setosa' 'Iris-setosa' 'Iris-setosa' 'Iris-setosa' 'Iris-setosa'\n",
            " 'Iris-setosa' 'Iris-setosa' 'Iris-setosa' 'Iris-setosa' 'Iris-setosa'\n",
            " 'Iris-setosa' 'Iris-setosa' 'Iris-setosa' 'Iris-setosa' 'Iris-setosa'\n",
            " 'Iris-setosa' 'Iris-setosa' 'Iris-setosa' 'Iris-setosa' 'Iris-setosa'\n",
            " 'Iris-setosa' 'Iris-setosa' 'Iris-setosa' 'Iris-setosa' 'Iris-setosa'\n",
            " 'Iris-setosa' 'Iris-setosa' 'Iris-setosa' 'Iris-setosa' 'Iris-setosa'\n",
            " 'Iris-setosa' 'Iris-setosa' 'Iris-setosa' 'Iris-setosa' 'Iris-setosa'\n",
            " 'Iris-setosa' 'Iris-setosa' 'Iris-setosa' 'Iris-setosa' 'Iris-setosa'\n",
            " 'Iris-versicolor' 'Iris-versicolor' 'Iris-virginica' 'Iris-versicolor'\n",
            " 'Iris-versicolor' 'Iris-versicolor' 'Iris-versicolor' 'Iris-versicolor'\n",
            " 'Iris-versicolor' 'Iris-versicolor' 'Iris-versicolor' 'Iris-versicolor'\n",
            " 'Iris-versicolor' 'Iris-versicolor' 'Iris-versicolor' 'Iris-versicolor'\n",
            " 'Iris-versicolor' 'Iris-versicolor' 'Iris-versicolor' 'Iris-versicolor'\n",
            " 'Iris-virginica' 'Iris-versicolor' 'Iris-versicolor' 'Iris-versicolor'\n",
            " 'Iris-versicolor' 'Iris-versicolor' 'Iris-versicolor' 'Iris-virginica'\n",
            " 'Iris-versicolor' 'Iris-versicolor' 'Iris-versicolor' 'Iris-versicolor'\n",
            " 'Iris-versicolor' 'Iris-versicolor' 'Iris-versicolor' 'Iris-versicolor'\n",
            " 'Iris-versicolor' 'Iris-versicolor' 'Iris-versicolor' 'Iris-versicolor'\n",
            " 'Iris-versicolor' 'Iris-versicolor' 'Iris-versicolor' 'Iris-versicolor'\n",
            " 'Iris-versicolor' 'Iris-versicolor' 'Iris-versicolor' 'Iris-versicolor'\n",
            " 'Iris-versicolor' 'Iris-versicolor' 'Iris-virginica' 'Iris-virginica'\n",
            " 'Iris-virginica' 'Iris-virginica' 'Iris-virginica' 'Iris-virginica'\n",
            " 'Iris-versicolor' 'Iris-virginica' 'Iris-virginica' 'Iris-virginica'\n",
            " 'Iris-virginica' 'Iris-virginica' 'Iris-virginica' 'Iris-virginica'\n",
            " 'Iris-virginica' 'Iris-virginica' 'Iris-virginica' 'Iris-virginica'\n",
            " 'Iris-virginica' 'Iris-versicolor' 'Iris-virginica' 'Iris-virginica'\n",
            " 'Iris-virginica' 'Iris-virginica' 'Iris-virginica' 'Iris-virginica'\n",
            " 'Iris-virginica' 'Iris-virginica' 'Iris-virginica' 'Iris-virginica'\n",
            " 'Iris-virginica' 'Iris-virginica' 'Iris-virginica' 'Iris-versicolor'\n",
            " 'Iris-virginica' 'Iris-virginica' 'Iris-virginica' 'Iris-virginica'\n",
            " 'Iris-virginica' 'Iris-virginica' 'Iris-virginica' 'Iris-virginica'\n",
            " 'Iris-virginica' 'Iris-virginica' 'Iris-virginica' 'Iris-virginica'\n",
            " 'Iris-virginica' 'Iris-virginica' 'Iris-virginica' 'Iris-virginica']\n"
          ]
        }
      ]
    },
    {
      "cell_type": "markdown",
      "metadata": {
        "id": "4JFyXsav0az2"
      },
      "source": [
        "Une première évaluation de la qualité de la prédiction peut se faire avec le calcul de l'*accuracy* (pourcentage de prédictions correctes). "
      ]
    },
    {
      "cell_type": "code",
      "metadata": {
        "ExecuteTime": {
          "end_time": "2020-10-10T08:41:05.102021Z",
          "start_time": "2020-10-10T08:41:05.057579Z"
        },
        "id": "Ld2INCGL0az3",
        "colab": {
          "base_uri": "https://localhost:8080/"
        },
        "outputId": "7a69b57a-4dfe-42b1-afc7-be3050bdf826"
      },
      "source": [
        "from sklearn.metrics import accuracy_score\n",
        "\n",
        "print ('accuracy: ',accuracy_score(result, y))"
      ],
      "execution_count": 297,
      "outputs": [
        {
          "output_type": "stream",
          "name": "stdout",
          "text": [
            "accuracy:  0.96\n"
          ]
        }
      ]
    },
    {
      "cell_type": "markdown",
      "metadata": {
        "id": "vC8XhDYK0az3"
      },
      "source": [
        "Comme nous pouvons le constater, même sur le jeu d'apprentissage il y a des erreurs dans le modèle appris.\n",
        "Pour connaître les objets mal classés :"
      ]
    },
    {
      "cell_type": "code",
      "metadata": {
        "ExecuteTime": {
          "end_time": "2020-10-10T08:41:05.131921Z",
          "start_time": "2020-10-10T08:41:05.105281Z"
        },
        "id": "UPHZhOEV0az3",
        "colab": {
          "base_uri": "https://localhost:8080/"
        },
        "outputId": "0b6246ec-d623-4040-ca36-8a8edada0513"
      },
      "source": [
        "y = np.asarray(y)\n",
        "misclassified = np.where(y != clf.predict(X))\n",
        "\n",
        "print('Les objets mal classés sont :')\n",
        "\n",
        "i=0\n",
        "for i in misclassified:\n",
        "    print('\\n',df_iris.iloc[i,:]['Species'])\n",
        "\n",
        "\n",
        "print (\"ils sont classés respectivement en :\")\n",
        "for i in misclassified: \n",
        "    print ('\\n', i,'classé en ',clf.predict(X)[i],'\\n')\n",
        "    print ('\\n')"
      ],
      "execution_count": 298,
      "outputs": [
        {
          "output_type": "stream",
          "name": "stdout",
          "text": [
            "Les objets mal classés sont :\n",
            "\n",
            " 52     Iris-versicolor\n",
            "70     Iris-versicolor\n",
            "77     Iris-versicolor\n",
            "106     Iris-virginica\n",
            "119     Iris-virginica\n",
            "133     Iris-virginica\n",
            "Name: Species, dtype: object\n",
            "ils sont classés respectivement en :\n",
            "\n",
            " [ 52  70  77 106 119 133] classé en  ['Iris-virginica' 'Iris-virginica' 'Iris-virginica' 'Iris-versicolor'\n",
            " 'Iris-versicolor' 'Iris-versicolor'] \n",
            "\n",
            "\n",
            "\n"
          ]
        }
      ]
    },
    {
      "cell_type": "markdown",
      "metadata": {
        "id": "RCYmE17Z0az4"
      },
      "source": [
        "## Jeu d'apprentissage et de test "
      ]
    },
    {
      "cell_type": "markdown",
      "metadata": {
        "id": "XY0fytcn0az4"
      },
      "source": [
        "En classification, il est indispensable de créer un jeu d'apprentissage sur lequel un modèle est appris et un jeu de test pour évaluer le modèle.\n",
        "La fonction *train_test_split* permet de décomposer le jeu de données en 2 groupes : les données pour l'apprentissage et les données pour les tests.\n",
        "\n",
        "Le paramètre *train_size* indique la taille du jeu d'apprentissage qui sera utilisé.  \n",
        "le paramètre *random_state* spécifie un entier germe du nombre aléatoire pour le tirage. S'il n'est pas spécifié sickit learn utilise un générateur de nombre aléatoire à partir de np.random.   \n",
        "\n",
        "\n",
        "\n",
        "\n",
        "Dans notre exemple nous prenons 30% du jeu de données comme jeu de test.\n",
        "\n",
        "\n"
      ]
    },
    {
      "cell_type": "code",
      "metadata": {
        "ExecuteTime": {
          "end_time": "2020-10-10T08:41:05.952224Z",
          "start_time": "2020-10-10T08:41:05.922499Z"
        },
        "id": "rdn6sbxp0az4"
      },
      "source": [
        "from sklearn.model_selection import train_test_split \n",
        "\n",
        "trainsize=0.7 # 70% pour le jeu d'apprentissage, il reste 30% du jeu de données pour le test\n",
        "\n",
        "testsize= 0.3\n",
        "seed=30\n",
        "X_train,X_test,y_train,y_test=train_test_split(X, \n",
        "                                               y, \n",
        "                                               train_size=trainsize, \n",
        "                                               random_state=seed,\n",
        "                                               test_size=testsize)"
      ],
      "execution_count": 299,
      "outputs": []
    },
    {
      "cell_type": "markdown",
      "metadata": {
        "id": "nDwr9C-c0az5"
      },
      "source": [
        "L'apprentissage du modèle se fait comme précédemment"
      ]
    },
    {
      "cell_type": "code",
      "metadata": {
        "ExecuteTime": {
          "end_time": "2020-10-10T08:41:05.963978Z",
          "start_time": "2020-10-10T08:41:05.954421Z"
        },
        "id": "-a8RhSaO0az5",
        "colab": {
          "base_uri": "https://localhost:8080/"
        },
        "outputId": "e2d1c88c-8dd9-43a2-caf4-0b2f761245d6"
      },
      "source": [
        "clf = GaussianNB()\n",
        "clf.fit(X_train, y_train)"
      ],
      "execution_count": 300,
      "outputs": [
        {
          "output_type": "execute_result",
          "data": {
            "text/plain": [
              "GaussianNB()"
            ]
          },
          "metadata": {},
          "execution_count": 300
        }
      ]
    },
    {
      "cell_type": "markdown",
      "metadata": {
        "id": "wP8EtWOR0az5"
      },
      "source": [
        "De même pour la prédiction"
      ]
    },
    {
      "cell_type": "code",
      "metadata": {
        "ExecuteTime": {
          "end_time": "2020-10-10T08:41:05.978619Z",
          "start_time": "2020-10-10T08:41:05.966887Z"
        },
        "id": "nuKTUMd00az6",
        "colab": {
          "base_uri": "https://localhost:8080/"
        },
        "outputId": "ffc97294-386e-437a-d196-ca8f797de86e"
      },
      "source": [
        "from sklearn.metrics import accuracy_score\n",
        "\n",
        "y_pred = clf.predict(X_test)\n",
        "print('\\n accuracy : %0.3f'%(accuracy_score(y_pred, y_test)),'\\n')"
      ],
      "execution_count": 301,
      "outputs": [
        {
          "output_type": "stream",
          "name": "stdout",
          "text": [
            "\n",
            " accuracy : 0.956 \n",
            "\n"
          ]
        }
      ]
    },
    {
      "cell_type": "markdown",
      "metadata": {
        "id": "4LqiEb7i0az6"
      },
      "source": [
        "Le problème essentiel de cette approche est que le modèle est appris sur un seul jeu de données et qu'en fonction de la sélection les résultats peuvent être très différents.\n",
        "La bonne solution consiste à utiliser la **cross validation**.\n",
        "Dans notre cas, nous allons utiliser une 10-fold cross validation pour évaluer la qualité. \n",
        "Le jeu de données sera découpé en 10 parties, entrainé sur 9, testé sur 1 et cela sera répété pour toutes les combinaisons du découpage. "
      ]
    },
    {
      "cell_type": "code",
      "metadata": {
        "ExecuteTime": {
          "end_time": "2020-10-10T08:41:05.990960Z",
          "start_time": "2020-10-10T08:41:05.982247Z"
        },
        "id": "lQeBnfcH0az6"
      },
      "source": [
        "from sklearn.model_selection import KFold\n",
        "from sklearn.model_selection import cross_val_score\n",
        "seed=7\n",
        "k_fold = KFold(n_splits=10, shuffle=True, random_state=seed)"
      ],
      "execution_count": 302,
      "outputs": []
    },
    {
      "cell_type": "code",
      "metadata": {
        "ExecuteTime": {
          "end_time": "2020-10-10T08:41:06.039780Z",
          "start_time": "2020-10-10T08:41:05.994022Z"
        },
        "id": "NweryR900az6",
        "colab": {
          "base_uri": "https://localhost:8080/"
        },
        "outputId": "7333ee12-4617-469b-d16a-0a0c4ba3d629"
      },
      "source": [
        "clf = GaussianNB()\n",
        "\n",
        "scoring = 'accuracy'\n",
        "score = cross_val_score(clf, X, y, cv=k_fold, scoring=scoring)\n",
        "\n",
        "print('Les différentes accuracy pour les 10 évaluations sont : \\n',\n",
        "      score,'\\n')\n",
        "print ('Accuracy moyenne : %0.3f'%(score.mean()), \n",
        "       ' standard deviation %0.3f'%(score.std()))\n"
      ],
      "execution_count": 303,
      "outputs": [
        {
          "output_type": "stream",
          "name": "stdout",
          "text": [
            "Les différentes accuracy pour les 10 évaluations sont : \n",
            " [0.8        0.86666667 1.         1.         0.93333333 1.\n",
            " 1.         1.         0.93333333 1.        ] \n",
            "\n",
            "Accuracy moyenne : 0.953  standard deviation 0.067\n"
          ]
        }
      ]
    },
    {
      "cell_type": "markdown",
      "metadata": {
        "id": "nHmPi0ts0az8"
      },
      "source": [
        "L'écart type est très important car il montre les grandes variations qui peuvent exister par rapport aux jeux de données."
      ]
    },
    {
      "cell_type": "markdown",
      "metadata": {
        "id": "lZM_dkuT0az8"
      },
      "source": [
        "## Plus loin sur l'évaluation d'un modèle "
      ]
    },
    {
      "cell_type": "markdown",
      "metadata": {
        "id": "-hWopg-M0az9"
      },
      "source": [
        "L'accuracy (nombre d'objets correctement classés) est la métrique la plus simple pour comprendre le \n",
        "résultat de la classification mais ne tient pas du tout compte de la distribution des données et ne permet pas d'indiquer les erreurs. Par exemple avec des classes très déséquilibrées (1 vs 99), nous pouvons avoir un modèle avec une accuracy de 99%.  \n",
        "\n",
        "Par la suite, par simplification, nous reprenons une classification réalisée sans cross validation mais le principe est évidemment le même avec cross validation. Nous introduisons la matrice de correlation et les différentes mesures : precision, rappel et F1-score."
      ]
    },
    {
      "cell_type": "code",
      "metadata": {
        "ExecuteTime": {
          "end_time": "2020-10-10T08:41:06.809699Z",
          "start_time": "2020-10-10T08:41:06.043336Z"
        },
        "id": "3EpI54rb0az9",
        "colab": {
          "base_uri": "https://localhost:8080/"
        },
        "outputId": "f7cdab17-ecd0-4058-c7e7-034096580c6b"
      },
      "source": [
        "array = df_iris.values\n",
        "X = array[:,0:4] \n",
        "y = array[:,4]\n",
        "\n",
        "trainsize=0.7 # 70% pour le jeu d'apprentissage, il reste 30% du jeu de données pour le test\n",
        "\n",
        "testsize= 0.3\n",
        "seed=30\n",
        "X_train,X_test,y_train,y_test=train_test_split(X, \n",
        "                                               y, \n",
        "                                               train_size=trainsize, \n",
        "                                               random_state=seed,\n",
        "                                               test_size=testsize)\n",
        "clf = GaussianNB()\n",
        "clf.fit(X_train, y_train)\n",
        "y_pred = clf.predict(X_test)\n",
        "\n",
        "print('\\n accuracy : %0.3f'%(accuracy_score(y_pred, y_test)),'\\n')"
      ],
      "execution_count": 304,
      "outputs": [
        {
          "output_type": "stream",
          "name": "stdout",
          "text": [
            "\n",
            " accuracy : 0.956 \n",
            "\n"
          ]
        }
      ]
    },
    {
      "cell_type": "markdown",
      "metadata": {
        "id": "yNqMIaAV0az9"
      },
      "source": [
        "La matrice de confusion permet de connaître les objets bien ou mal classés. Il suffit d'utiliser la fonction *confusion_matrix*. Nous visualisons également cette matrice."
      ]
    },
    {
      "cell_type": "code",
      "metadata": {
        "ExecuteTime": {
          "end_time": "2020-10-10T08:41:06.827767Z",
          "start_time": "2020-10-10T08:41:06.812613Z"
        },
        "id": "MoAYANGX0az9",
        "colab": {
          "base_uri": "https://localhost:8080/",
          "height": 490
        },
        "outputId": "77ddbc38-a90f-46e7-c5d8-068884a4af08"
      },
      "source": [
        "from sklearn.metrics import confusion_matrix\n",
        "\n",
        "conf = confusion_matrix(y_test, y_pred)\n",
        "print ('\\n matrice de confusion \\n',conf)\n",
        "plot_confusion_matrix(conf, ['Iris-setosa','Iris-versicolor','Iris-virginica'])"
      ],
      "execution_count": 305,
      "outputs": [
        {
          "output_type": "stream",
          "name": "stdout",
          "text": [
            "\n",
            " matrice de confusion \n",
            " [[13  0  0]\n",
            " [ 0 12  1]\n",
            " [ 0  1 18]]\n"
          ]
        },
        {
          "output_type": "display_data",
          "data": {
            "image/png": "[encoded data removed]",
            "text/plain": [
              "<Figure size 576x360 with 2 Axes>"
            ]
          },
          "metadata": {}
        }
      ]
    },
    {
      "cell_type": "markdown",
      "metadata": {
        "id": "Gk9ClMeG0az-"
      },
      "source": [
        "Il est possible d'obtenir plus d'information : *precision*, *recall* et  *f1-measure* à l'aide de *classification_report*."
      ]
    },
    {
      "cell_type": "code",
      "metadata": {
        "ExecuteTime": {
          "end_time": "2020-10-10T08:41:06.849757Z",
          "start_time": "2020-10-10T08:41:06.830916Z"
        },
        "id": "yLLmzfWg0az-",
        "colab": {
          "base_uri": "https://localhost:8080/"
        },
        "outputId": "36fbafae-3be0-49f1-993a-7f158145ce21"
      },
      "source": [
        "from sklearn.metrics import classification_report\n",
        "conf = confusion_matrix(y_test, y_pred)\n",
        "print ('\\n matrice de confusion \\n',conf)\n",
        "print ('\\n',classification_report(y_test, y_pred))"
      ],
      "execution_count": 306,
      "outputs": [
        {
          "output_type": "stream",
          "name": "stdout",
          "text": [
            "\n",
            " matrice de confusion \n",
            " [[13  0  0]\n",
            " [ 0 12  1]\n",
            " [ 0  1 18]]\n",
            "\n",
            "                  precision    recall  f1-score   support\n",
            "\n",
            "    Iris-setosa       1.00      1.00      1.00        13\n",
            "Iris-versicolor       0.92      0.92      0.92        13\n",
            " Iris-virginica       0.95      0.95      0.95        19\n",
            "\n",
            "       accuracy                           0.96        45\n",
            "      macro avg       0.96      0.96      0.96        45\n",
            "   weighted avg       0.96      0.96      0.96        45\n",
            "\n"
          ]
        }
      ]
    },
    {
      "cell_type": "markdown",
      "metadata": {
        "id": "FysPKZJ9RUYE"
      },
      "source": [
        "Par la suite, pour afficher les résultats de classification : rapport de classification et matrice de confusion, nous utilisons la fonction suivante : \n"
      ]
    },
    {
      "cell_type": "code",
      "metadata": {
        "id": "KP7O0eRmRiQQ",
        "colab": {
          "base_uri": "https://localhost:8080/",
          "height": 609
        },
        "outputId": "2dde438d-3a39-43ee-aeb8-a39705bb7b75"
      },
      "source": [
        "# fonction qui affiche le classification report et la matrice de confusion\n",
        "def MyshowAllScores(y_test,y_pred):\n",
        "  classes= np.unique(y_test)\n",
        "  print(\"Accuracy : %0.3f\"%(accuracy_score(y_test,y_pred)))\n",
        "  print(\"Classification Report\")\n",
        "  print(classification_report(y_test,y_pred,digits=5))    \n",
        "  cnf_matrix = confusion_matrix(y_test,y_pred)\n",
        "  plot_confusion_matrix(cnf_matrix, classes)\n",
        "\n",
        "MyshowAllScores(y_test,y_pred)"
      ],
      "execution_count": 307,
      "outputs": [
        {
          "output_type": "stream",
          "name": "stdout",
          "text": [
            "Accuracy : 0.956\n",
            "Classification Report\n",
            "                 precision    recall  f1-score   support\n",
            "\n",
            "    Iris-setosa    1.00000   1.00000   1.00000        13\n",
            "Iris-versicolor    0.92308   0.92308   0.92308        13\n",
            " Iris-virginica    0.94737   0.94737   0.94737        19\n",
            "\n",
            "       accuracy                        0.95556        45\n",
            "      macro avg    0.95682   0.95682   0.95682        45\n",
            "   weighted avg    0.95556   0.95556   0.95556        45\n",
            "\n"
          ]
        },
        {
          "output_type": "display_data",
          "data": {
            "image/png": "[encoded data removed]",
            "text/plain": [
              "<Figure size 576x360 with 2 Axes>"
            ]
          },
          "metadata": {}
        }
      ]
    },
    {
      "cell_type": "markdown",
      "metadata": {
        "id": "ims7_s3j0az-"
      },
      "source": [
        "**Rappel** :  \n",
        "Considérons une matrice de confusion dans un cas binaire. Par exemple présence de SPAM ou non dans des mails.   \n",
        "\n",
        "  $$  \\begin{array}{|c|c|c|}\n",
        "  \\hline\n",
        "  N= & {\\bf PREDIT} & {\\bf PREDIT}  \\\\\n",
        "  115& {\\bf NON} & {\\bf OUI} \\\\\n",
        "  \\hline\n",
        "  {\\bf REEL} & 60 & 10 \\\\\n",
        "  {\\bf NON} & & \\\\\n",
        "  \\hline\n",
        " {\\bf REEL} & 5 & 40 \\\\\n",
        "  {\\bf OUI} & & \\\\\n",
        "  \\hline\n",
        "\\end{array}$$\n",
        "\n",
        "La matrice nous permet de voir qu'il y a deux classes prédites (OUI ou NON). Le classifieur fait un total de 115 prédictions. Sur ces 115 cas, le classifieur a prédit  OUI 50 fois et NON 65 fois. En fait 45 documents sont des SPAMS et 70 ne le sont pas. \n",
        "\n",
        "\n",
        "**TP** (True positive) : il s'agit des objets qui étaient prédits OUI (il s'agit de SPAM) et qui sont effectivement des SPAM.  \n",
        "**TN** (True negative) : il s'agit des objets qui étaient prédits NON (il ne s'agit pas de SPAM) et qui effectivement ne sont pas des SPAM.  \n",
        "**FP** (False positive) : il s'agit des objets qui étaient prédits comme SPAM mais qui en fait n'étaient pas des SPAM.  \n",
        "**FN** (False negative) : il s'agit des objets qui étaient prédits comme non SPAM qui en fait s'avèrent être des SPAM.  \n",
        "Dans la matrice ci-dessous ces éléments sont reportés :  \n",
        "\n",
        "$$  \\begin{array}{|c|c|c|c|}\n",
        "  \\hline\n",
        "  N= & {\\bf PREDIT} & {\\bf PREDIT} & \\\\\n",
        "  115& {\\bf NON} & {\\bf OUI} & \\\\\n",
        "  \\hline\n",
        "  {\\bf REEL} & TN=60 & FP=10 & 70\\\\\n",
        "  {\\bf NON} & & \\\\\n",
        "  \\hline\n",
        " {\\bf REEL} & FN=5 & TP=40 & 45\\\\\n",
        "  {\\bf OUI} & & \\\\\n",
        "  \\hline\n",
        "  & 65 & 50 &\\\\\n",
        "  \\hline\n",
        "\\end{array}$$\n",
        "\n",
        "L'**accuracy**  correspond au pourcentage de prédiction correcte. Elle est définie par \n",
        "$$\\frac{TP+TN}{TN+FP+FN+TP}=\\frac{40+60}{60+10+5+40}=0.86.$$  \n",
        "Le **recall** (ou sensitivity ou True Positive Rate ou rappel) correspond au nombre d' objets pertinents retrouvés par rapport aux nombres d'objets pertinents du jeu de données. Dans notre cas, pour tous les OUI présents combien de fois le OUI a t'il été prédit ?\n",
        "\n",
        "$$recall=\\frac{Nombre\\ de\\ SPAM\\ correctement\\ reconnus}{Nombre\\ total\\ de\\ SPAM\\ dans\\ le\\ jeu\\ de\\ données} = \\frac{TP}{FN+TP}=\\frac{40}{40+5}=0.88.$$  \n",
        "La **precision** correspond à la proportion d'objets pertinents parmi les objets sélectionné. Tous les objets retournés non pertinents constituent du bruit. \n",
        "$$precision=\\frac{Nombre\\ de\\ SPAM\\ correctement\\ reconnus}{Nombre\\ de\\ fois\\ où\\ un\\ objet\\ a\\ été\\ prédit\\ SPAM} = \\frac{TP}{TP+FP}=\\frac{40}{40+10}=0.8.$$  \n",
        "\n",
        "Le **f1-score** (ou f-measure) est la moyenne harmonique du rappel et de la précision.\n",
        "$$f1-score=2\\times\\frac{precision \\times recall}{precision + recall}=2\\times\\frac{0.8 \\times 0.88}{0.8+0.88}.$$  \n",
        "\n",
        "Dans le cas d'une classification multiclasse, à partir de la matrice de confusion, la precision est calculée, pour une colonne $i$, par :  \n",
        "$$precision_i = \\frac{M_{ii}}{\\sum_j M_{ji}}$$\n",
        "et le recall par : \n",
        "$$ recall_i = \\frac{M_{ii}}{\\sum_j M_{ij}}$$  \n",
        "\n",
        "Pour la matrice de confusion suivante : \n",
        "\\begin{array}{cccc}\n",
        "Iris-setosa &34 & 0 & 0\\\\\n",
        "Iris-versicolor & 0 &33 & 5\\\\\n",
        "Iris-virginica & 0 & 1 &32\\\\\n",
        "\\end{array}\n",
        "\n",
        "classification_report retourne le résultat suivant :  \n",
        "\n",
        " \\begin{array}{ccccc}\n",
        "           &   precision  &  recall & f1-score &  support\\\\\n",
        "\\\\\n",
        "    Iris-setosa    &   1.00  &    1.00  &    1.00   &     34\\\\\n",
        "Iris-versicolor   &    0.97 &     0.87  &    0.92  &      38\\\\\n",
        " Iris-virginica   &    0.86  &    0.97  &    0.91  &      33\\\\\n",
        "\\\\\n",
        "    avg / total    &   0.95  &    0.94  &    0.94   &    105\\\\\n",
        "\\end{array}    \n",
        "\n",
        "La precision d'Iris-versicolor est obtenue par : \n",
        "$$precision_i = \\frac{M_{ii}}{\\sum_j M_{ji}}=\\frac{33}{33+1}=0.97.$$\n",
        "Le rappel d'Iris-versicolor est obtenue par : \n",
        "$$ recall_i = \\frac{M_{ii}}{\\sum_j M_{ij}}=\\frac{33}{33+5}=0.87.$$\n",
        "La precision d'Iris-virginica est obtenue par : \n",
        "$$precision_i = \\frac{M_{ii}}{\\sum_j M_{ji}}=\\frac{32}{32+5}=0.86.$$\n",
        "Le rappel d'Iris-versicolor est obtenue par : \n",
        "$$ recall_i = \\frac{M_{ii}}{\\sum_j M_{ij}}=\\frac{32}{32+1}=0.96.$$"
      ]
    },
    {
      "cell_type": "markdown",
      "metadata": {
        "id": "Bm_kQhcJ0az-"
      },
      "source": [
        "Les métriques peuvent être appelées indépendamment :"
      ]
    },
    {
      "cell_type": "code",
      "metadata": {
        "ExecuteTime": {
          "end_time": "2020-10-10T08:41:08.039515Z",
          "start_time": "2020-10-10T08:41:08.025607Z"
        },
        "id": "9ifLUTKI0az_",
        "colab": {
          "base_uri": "https://localhost:8080/"
        },
        "outputId": "63f22f9c-8423-47e1-88a3-bc44c2c602a1"
      },
      "source": [
        "from sklearn.metrics import precision_recall_fscore_support as score\n",
        "\n",
        "precision, recall, fscore, support = score(y_test, y_pred)\n",
        "\n",
        "print('precision: {}'.format(precision))\n",
        "print('recall: {}'.format(recall))\n",
        "print('fscore: {}'.format(fscore))\n",
        "print('support: {}'.format(support))"
      ],
      "execution_count": 308,
      "outputs": [
        {
          "output_type": "stream",
          "name": "stdout",
          "text": [
            "precision: [1.         0.92307692 0.94736842]\n",
            "recall: [1.         0.92307692 0.94736842]\n",
            "fscore: [1.         0.92307692 0.94736842]\n",
            "support: [13 13 19]\n"
          ]
        }
      ]
    },
    {
      "cell_type": "markdown",
      "metadata": {
        "id": "eECxiAmW0az_"
      },
      "source": [
        "**Remarque :** il existe, bien entendu, d'autres mesures pour évaluer un classifieur. Par exemple, la sensiblité, la spécificité, l’air sous la courbe roc (AUC), l’indice de Gini, etc. "
      ]
    },
    {
      "cell_type": "markdown",
      "metadata": {
        "id": "mbotcSto0az_"
      },
      "source": [
        "## Utiliser plusieurs classifiers"
      ]
    },
    {
      "cell_type": "markdown",
      "metadata": {
        "id": "9EtPh_wb0az_"
      },
      "source": [
        "Comme l'indique le NO FREE LUNCH THEOREM il n'existe pas un classifieur universel et en fonction des données il est souvent nécessaire d'en évaluer plusieurs pour retenir le plus efficace. Le principe est similaire au précédent, il suffit de les mettre dans une structure et de boucler dessus.  \n",
        "\n",
        "Dans cette section, nous transformons très légérement nos données. Si nous regardons les différentes valeurs associées aux caractéristiques nous voyons que celles-ci sont assez grandes (e.g. 5.9 cm). Cela peut fortement impacter les différents classifiers (e.g. SVM), aussi nous allons normaliser les données de manière à ce qu'elles soient dans un intervalle de valeur. Pour cela, nous utilisons *StandardScaler* qui va transformer les données telles que la distribution aura une valeur moyenne de 0 et un écart type de 1.  \n",
        "\n",
        "Comme vous pouvez le constater dans la cellule suivante, le principe pour cette transformation est assez similaire à ce que nous avons vu précédemment : application d'un estimateur (ici le changement de distribution) et transformation des données. "
      ]
    },
    {
      "cell_type": "code",
      "metadata": {
        "ExecuteTime": {
          "end_time": "2020-10-10T08:41:09.039381Z",
          "start_time": "2020-10-10T08:41:08.042326Z"
        },
        "id": "Spu0r-tE0a0A"
      },
      "source": [
        "from sklearn.preprocessing import StandardScaler\n",
        "\n",
        "\n",
        "\n",
        "# Certains algorithmes, notamment SVM qui résout simplement un problème d'optimisation quadratique ou bien LR, \n",
        "# sont très sensibles et ne peuvent pas converger si les valeurs ne sont pas normalisées.\n",
        "# Normalisation en utilisant StandardScaler qui transforme les caractéristiques (xi) \n",
        "# en valeurs entre [-1 .. 1]. \n",
        "# Cette plage de valeurs peut être changée via les parametres feature_range=(min, max). \n",
        "\n",
        "# creation d'un objet de la classe StandardScaler\n",
        "standardscaler = StandardScaler()\n",
        "\n",
        "# application du changement de distribution aux variables descriptives\n",
        "\n",
        "X_standardscale = standardscaler.fit_transform(X)\n",
        "\n",
        "\n",
        "X=X_standardscale\n",
        "\n",
        "trainsize=0.7 # 70% pour le jeu d'apprentissage, il reste 30% du jeu de données pour le test\n",
        "\n",
        "testsize= 0.3\n",
        "seed=30\n",
        "X_train,X_test,y_train,y_test=train_test_split(X, \n",
        "                                               y, \n",
        "                                               train_size=trainsize, \n",
        "                                               random_state=seed,\n",
        "                                               test_size=testsize)"
      ],
      "execution_count": 309,
      "outputs": []
    },
    {
      "cell_type": "markdown",
      "metadata": {
        "id": "XBj5k9Sp0a0A"
      },
      "source": [
        "Dans la suite de la section, nous utilisons différents types de classifier :  'LogisticRegression', 'DecisionTree','KNeighbors', 'GaussianNB' et 'SVM'.   \n",
        "Les paramètres utilisés pour chacune des approches sont ceux par défaut. \n",
        "Pour chaque approche nous faisons une cross validation de 10."
      ]
    },
    {
      "cell_type": "code",
      "metadata": {
        "ExecuteTime": {
          "end_time": "2020-10-10T08:41:09.044716Z",
          "start_time": "2020-10-10T08:40:59.845Z"
        },
        "id": "QL0Z_0a30a0A"
      },
      "source": [
        "from sklearn.linear_model import LogisticRegression\n",
        "from sklearn.tree import DecisionTreeClassifier\n",
        "from sklearn.neighbors import KNeighborsClassifier\n",
        "from sklearn.naive_bayes import GaussianNB\n",
        "from sklearn.svm import SVC\n",
        "\n",
        "seed = 7\n",
        "scoring = 'accuracy'\n",
        "models = []\n",
        "models.append(('LR', LogisticRegression(solver='lbfgs')))\n",
        "models.append(('KNN', KNeighborsClassifier()))\n",
        "models.append(('CART', DecisionTreeClassifier()))\n",
        "models.append(('NB', GaussianNB()))\n",
        "models.append(('SVM', SVC(gamma='auto')))"
      ],
      "execution_count": 310,
      "outputs": []
    },
    {
      "cell_type": "markdown",
      "metadata": {
        "id": "9F8cfExE0a0A"
      },
      "source": [
        "Une fois les modèles définis, il suffit de boucler en faisant une cross validation"
      ]
    },
    {
      "cell_type": "code",
      "metadata": {
        "ExecuteTime": {
          "end_time": "2020-10-10T08:41:09.046317Z",
          "start_time": "2020-10-10T08:40:59.849Z"
        },
        "id": "ONBVwpKf0a0A",
        "colab": {
          "base_uri": "https://localhost:8080/"
        },
        "outputId": "02c108f9-105b-4ac9-b832-d94fe672669c"
      },
      "source": [
        "from sklearn.model_selection import KFold\n",
        "from sklearn.model_selection import cross_val_score\n",
        "import time\n",
        "results = []\n",
        "names = []\n",
        "for name,model in models:\n",
        "    kfold = KFold(n_splits=10, random_state=seed,shuffle=True)\n",
        "    start_time = time.time()\n",
        "    cv_results = cross_val_score(model, X, y, cv=kfold, scoring=scoring)\n",
        "    #pour avoir les paramètres utilisés dans le modèle enlever commentaire ligne suivante\n",
        "    #print (model.get_params())\n",
        "    print (\"Time pour\",name,\" %0.5f\"%(time.time() - start_time),'s')\n",
        "    results.append(cv_results)\n",
        "    names.append(name)\n",
        "    msg = \"%s: %0.3f (%0.3f)\" % (name, cv_results.mean(), cv_results.std())\n",
        "    print(msg)       "
      ],
      "execution_count": 311,
      "outputs": [
        {
          "output_type": "stream",
          "name": "stdout",
          "text": [
            "Time pour LR  0.13586 s\n",
            "LR: 0.953 (0.052)\n",
            "Time pour KNN  0.03219 s\n",
            "KNN: 0.953 (0.043)\n",
            "Time pour CART  0.01810 s\n",
            "CART: 0.960 (0.053)\n",
            "Time pour NB  0.01944 s\n",
            "NB: 0.953 (0.067)\n",
            "Time pour SVM  0.02266 s\n",
            "SVM: 0.960 (0.044)\n"
          ]
        }
      ]
    },
    {
      "cell_type": "code",
      "metadata": {
        "ExecuteTime": {
          "end_time": "2020-10-10T08:41:09.047712Z",
          "start_time": "2020-10-10T08:40:59.854Z"
        },
        "id": "MzxZJpOm0a0A",
        "colab": {
          "base_uri": "https://localhost:8080/",
          "height": 387
        },
        "outputId": "0fdaae10-3767-4307-dc45-40e63ff8b1f8"
      },
      "source": [
        "fig = plt.figure()\n",
        "fig.suptitle('Comparaison des algorithmes')\n",
        "ax = fig.add_subplot(111)\n",
        "plt.boxplot(results)\n",
        "ax.set_xticklabels(names)"
      ],
      "execution_count": 312,
      "outputs": [
        {
          "output_type": "execute_result",
          "data": {
            "text/plain": [
              "[Text(0, 0, 'LR'),\n",
              " Text(0, 0, 'KNN'),\n",
              " Text(0, 0, 'CART'),\n",
              " Text(0, 0, 'NB'),\n",
              " Text(0, 0, 'SVM')]"
            ]
          },
          "metadata": {},
          "execution_count": 312
        },
        {
          "output_type": "display_data",
          "data": {
            "image/png": "[encoded data removed]",
            "text/plain": [
              "<Figure size 432x288 with 1 Axes>"
            ]
          },
          "metadata": {}
        }
      ]
    },
    {
      "cell_type": "markdown",
      "metadata": {
        "id": "L2f7rrn70a0A"
      },
      "source": [
        "SVM et NB donnent sensiblement les mêmes résultats. Par la suite, nous utilisons SVM comme modèle de prédiction."
      ]
    },
    {
      "cell_type": "code",
      "metadata": {
        "ExecuteTime": {
          "end_time": "2020-10-10T08:41:09.049303Z",
          "start_time": "2020-10-10T08:40:59.946Z"
        },
        "scrolled": true,
        "id": "uQWLp0Qq0a0B",
        "colab": {
          "base_uri": "https://localhost:8080/",
          "height": 609
        },
        "outputId": "d1b5ab56-7634-494f-fd2f-cd5df8ffc7e2"
      },
      "source": [
        "clf = SVC(gamma='auto')\n",
        "clf.fit(X_train, y_train)\n",
        "y_pred = clf.predict(X_test)\n",
        "MyshowAllScores(y_test,y_pred)"
      ],
      "execution_count": 313,
      "outputs": [
        {
          "output_type": "stream",
          "name": "stdout",
          "text": [
            "Accuracy : 0.933\n",
            "Classification Report\n",
            "                 precision    recall  f1-score   support\n",
            "\n",
            "    Iris-setosa    1.00000   1.00000   1.00000        13\n",
            "Iris-versicolor    0.91667   0.84615   0.88000        13\n",
            " Iris-virginica    0.90000   0.94737   0.92308        19\n",
            "\n",
            "       accuracy                        0.93333        45\n",
            "      macro avg    0.93889   0.93117   0.93436        45\n",
            "   weighted avg    0.93370   0.93333   0.93285        45\n",
            "\n"
          ]
        },
        {
          "output_type": "display_data",
          "data": {
            "image/png": "[encoded data removed]",
            "text/plain": [
              "<Figure size 576x360 with 2 Axes>"
            ]
          },
          "metadata": {}
        }
      ]
    },
    {
      "cell_type": "markdown",
      "metadata": {
        "id": "xGk1tOt60a0B"
      },
      "source": [
        "## Les hyperparamètres\n"
      ]
    },
    {
      "cell_type": "markdown",
      "metadata": {
        "id": "8xoTgzPf0a0B"
      },
      "source": [
        "Dans l'approche précédente nous avons pris les valeurs par défaut pour les différents classifieurs. Cependant en fonction des paramètres du classifieur les résultats peuvent être complétement différents (choix du noyeau SVM, nombre de K dans KNeighbors, etc. ). Scikit learn permet de pouvoir faire une recherche exhaustive (grid search) pour trouver les paramètres les plus pertinents pour un classifieur."
      ]
    },
    {
      "cell_type": "code",
      "metadata": {
        "ExecuteTime": {
          "end_time": "2020-10-10T08:41:09.050780Z",
          "start_time": "2020-10-10T08:40:59.951Z"
        },
        "id": "5_FpVvGt0a0B"
      },
      "source": [
        "array = df_iris.values\n",
        "X = array[:,0:4] \n",
        "y = array[:,4]\n",
        "\n",
        "standardscaler = StandardScaler()\n",
        "X_standardscale = standardscaler.fit_transform(X)\n",
        "X=X_standardscale\n",
        "\n",
        "trainsize=0.7 # 70% pour le jeu d'apprentissage, il reste 30% du jeu de données pour le test\n",
        "\n",
        "testsize= 0.3\n",
        "seed=30\n",
        "X_train,X_test,y_train,y_test=train_test_split(X, \n",
        "                                               y, \n",
        "                                               train_size=trainsize, \n",
        "                                               random_state=seed,\n",
        "                                               test_size=testsize)"
      ],
      "execution_count": 314,
      "outputs": []
    },
    {
      "cell_type": "markdown",
      "metadata": {
        "id": "xOVaCV7D0a0B"
      },
      "source": [
        "Considérons un arbre de décision. Les principaux paramètres sont le critère pour découper (gini ou entropy), la profondeur maximale de l'arbre, et le nombre d'échantillons par feuille. Il faut, dans un premier temps, initialiser les variables à tester dans un dictionnaire.  \n",
        "Le test de toutes les valeurs se fait à l'aide de la fonction *GridSearchCV*.\n",
        "Ele prend comme paramètre le classifieur, le dictionnaire des paramètres, le type de scoring, le nombre de crossvalidation.  \n",
        "\n",
        "Quelques paramètres souvent utilisés :  \n",
        "-  *n_jobs* : (par défaut 1) nombre de coeurs à utiliser pour effectuer les calculs, dépend du cpu. Si la machine possède plusieurs coeurs, il est possible d'indiquer de tous les utiliser en mettant *n_jobs=-1*  \n",
        "-  *verbose* : affichage du déroulement des calculs, 0 = silent.\n",
        "- *random_state* : si le classifieur utilisé utilise de l'aléatoire, random_state permet de fixer le générateur pour reproduire les résultats.   \n",
        "\n",
        "\n",
        "Un grid search est long à obtenir dans la mesure où il faut essayer l'ensemble des cas. La possibilité de répartir sur plusieurs processeur permet de faire gagner beaucoup de temps. "
      ]
    },
    {
      "cell_type": "code",
      "metadata": {
        "ExecuteTime": {
          "end_time": "2020-10-10T08:41:09.052352Z",
          "start_time": "2020-10-10T08:40:59.956Z"
        },
        "id": "Jv2NCwDq0a0B",
        "colab": {
          "base_uri": "https://localhost:8080/"
        },
        "outputId": "ee5fba52-70dc-44f1-f94e-2602067e848b"
      },
      "source": [
        "from sklearn.tree import DecisionTreeClassifier\n",
        "from sklearn.model_selection import GridSearchCV\n",
        "\n",
        "grid_param = {  \n",
        "    'max_depth': [1,2,3,4,5,6,7,8,9,10],\n",
        "    'criterion': ['gini', 'entropy'],\n",
        "    'min_samples_leaf': [1,2,3,4,5,6,7,8,9,10]\n",
        "}\n",
        "\n",
        "\n",
        "gd_sr = GridSearchCV(estimator=DecisionTreeClassifier(),  \n",
        "                     param_grid=grid_param,\n",
        "                     scoring='accuracy',\n",
        "                     cv=5,\n",
        "                     n_jobs=-1,\n",
        "                    return_train_score=True)\n",
        "\n",
        "gd_sr.fit(X_train, y_train)  "
      ],
      "execution_count": 315,
      "outputs": [
        {
          "output_type": "execute_result",
          "data": {
            "text/plain": [
              "GridSearchCV(cv=5, estimator=DecisionTreeClassifier(), n_jobs=-1,\n",
              "             param_grid={'criterion': ['gini', 'entropy'],\n",
              "                         'max_depth': [1, 2, 3, 4, 5, 6, 7, 8, 9, 10],\n",
              "                         'min_samples_leaf': [1, 2, 3, 4, 5, 6, 7, 8, 9, 10]},\n",
              "             return_train_score=True, scoring='accuracy')"
            ]
          },
          "metadata": {},
          "execution_count": 315
        }
      ]
    },
    {
      "cell_type": "markdown",
      "metadata": {
        "id": "ee2uJDe_0a0B"
      },
      "source": [
        "Pour connaître les meilleures conditions : "
      ]
    },
    {
      "cell_type": "code",
      "metadata": {
        "ExecuteTime": {
          "end_time": "2020-10-10T08:41:09.053853Z",
          "start_time": "2020-10-10T08:40:59.960Z"
        },
        "id": "IC50K3JU0a0C",
        "colab": {
          "base_uri": "https://localhost:8080/"
        },
        "outputId": "e601553f-c119-40a0-f7aa-010c3be4a583"
      },
      "source": [
        "print ('meilleur score %0.3f'%(gd_sr.best_score_),'\\n')\n",
        "print ('meilleurs paramètres', gd_sr.best_params_,'\\n')\n",
        "print ('meilleur estimateur',gd_sr.best_estimator_,'\\n')"
      ],
      "execution_count": 316,
      "outputs": [
        {
          "output_type": "stream",
          "name": "stdout",
          "text": [
            "meilleur score 0.971 \n",
            "\n",
            "meilleurs paramètres {'criterion': 'gini', 'max_depth': 2, 'min_samples_leaf': 1} \n",
            "\n",
            "meilleur estimateur DecisionTreeClassifier(max_depth=2) \n",
            "\n"
          ]
        }
      ]
    },
    {
      "cell_type": "markdown",
      "metadata": {
        "id": "zp4f5ykB0a0C"
      },
      "source": [
        "Avec KNeighborsClassifier"
      ]
    },
    {
      "cell_type": "code",
      "metadata": {
        "ExecuteTime": {
          "end_time": "2020-10-10T08:41:09.055480Z",
          "start_time": "2020-10-10T08:40:59.966Z"
        },
        "id": "x_YL2IpJ0a0C",
        "colab": {
          "base_uri": "https://localhost:8080/"
        },
        "outputId": "f766ac32-2ab6-4222-817e-a030f09b1f6a"
      },
      "source": [
        "from sklearn.neighbors import KNeighborsClassifier\n",
        "grid_param = {  \n",
        "    'n_neighbors': list(range(1,15)),\n",
        "    'metric': ['minkowski','euclidean','manhattan']\n",
        "}\n",
        "                        \n",
        "gd_sr = GridSearchCV(estimator=KNeighborsClassifier(),  \n",
        "                     param_grid=grid_param,\n",
        "                     scoring='accuracy',\n",
        "                     cv=5,\n",
        "                     n_jobs=-1,\n",
        "                    return_train_score=True)\n",
        "\n",
        "gd_sr.fit(X_train, y_train)  \n",
        "\n",
        "print ('meilleur score %0.3f'%(gd_sr.best_score_),'\\n')\n",
        "print ('meilleurs paramètres', gd_sr.best_params_,'\\n')\n",
        "print ('meilleur estimateur',gd_sr.best_estimator_,'\\n')"
      ],
      "execution_count": 317,
      "outputs": [
        {
          "output_type": "stream",
          "name": "stdout",
          "text": [
            "meilleur score 0.952 \n",
            "\n",
            "meilleurs paramètres {'metric': 'minkowski', 'n_neighbors': 5} \n",
            "\n",
            "meilleur estimateur KNeighborsClassifier() \n",
            "\n"
          ]
        }
      ]
    },
    {
      "cell_type": "markdown",
      "metadata": {
        "id": "pC6QJf7U0a0C"
      },
      "source": [
        "Avec SVM "
      ]
    },
    {
      "cell_type": "code",
      "metadata": {
        "ExecuteTime": {
          "end_time": "2020-10-10T08:41:09.057066Z",
          "start_time": "2020-10-10T08:40:59.972Z"
        },
        "id": "7rHwGu8R0a0C",
        "colab": {
          "base_uri": "https://localhost:8080/"
        },
        "outputId": "a9b583c6-16e1-4064-c064-411ac3e40a76"
      },
      "source": [
        "from sklearn.svm import SVC\n",
        "grid_param = {\n",
        "    'C': [0.001, 0.01, 0.1, 1, 10], \n",
        "    'gamma' : [0.001, 0.01, 0.1, 1], \n",
        "    'kernel': ['linear','rbf']}\n",
        "\n",
        "gd_sr = GridSearchCV(estimator=SVC(),  \n",
        "                     param_grid=grid_param,\n",
        "                     scoring='accuracy',\n",
        "                     cv=5,\n",
        "                     n_jobs=1,\n",
        "                    return_train_score=True)\n",
        "\n",
        "gd_sr.fit(X_train, y_train)  \n",
        "\n",
        "print ('meilleur score %0.3f'%(gd_sr.best_score_),'\\n')\n",
        "print ('meilleurs paramètres', gd_sr.best_params_,'\\n')\n",
        "print ('meilleur estimateur',gd_sr.best_estimator_,'\\n')"
      ],
      "execution_count": 318,
      "outputs": [
        {
          "output_type": "stream",
          "name": "stdout",
          "text": [
            "meilleur score 0.990 \n",
            "\n",
            "meilleurs paramètres {'C': 10, 'gamma': 0.1, 'kernel': 'rbf'} \n",
            "\n",
            "meilleur estimateur SVC(C=10, gamma=0.1) \n",
            "\n"
          ]
        }
      ]
    },
    {
      "cell_type": "markdown",
      "metadata": {
        "id": "oLK62ORn0a0C"
      },
      "source": [
        "Pour voir l'ensemble des évaluations effectuées par GridSearchCV : "
      ]
    },
    {
      "cell_type": "code",
      "metadata": {
        "ExecuteTime": {
          "end_time": "2020-10-10T08:41:09.059060Z",
          "start_time": "2020-10-10T08:40:59.977Z"
        },
        "id": "U75TNekD0a0C",
        "colab": {
          "base_uri": "https://localhost:8080/",
          "height": 693
        },
        "outputId": "1c18e7aa-a040-418c-8851-0ceaadaa0a71"
      },
      "source": [
        "# convertion en DataFrame\n",
        "results = pd.DataFrame(gd_sr.cv_results_) \n",
        "# Affichage des 5 premières lignes\n",
        "display(results.head())"
      ],
      "execution_count": 319,
      "outputs": [
        {
          "output_type": "display_data",
          "data": {
            "text/html": [
              "\n",
              "  <div id=\"df-600e97cf-07aa-4bdc-afa0-7218beb56d75\">\n",
              "    <div class=\"colab-df-container\">\n",
              "      <div>\n",
              "<style scoped>\n",
              "    .dataframe tbody tr th:only-of-type {\n",
              "        vertical-align: middle;\n",
              "    }\n",
              "\n",
              "    .dataframe tbody tr th {\n",
              "        vertical-align: top;\n",
              "    }\n",
              "\n",
              "    .dataframe thead th {\n",
              "        text-align: right;\n",
              "    }\n",
              "</style>\n",
              "<table border=\"1\" class=\"dataframe\">\n",
              "  <thead>\n",
              "    <tr style=\"text-align: right;\">\n",
              "      <th></th>\n",
              "      <th>mean_fit_time</th>\n",
              "      <th>std_fit_time</th>\n",
              "      <th>mean_score_time</th>\n",
              "      <th>std_score_time</th>\n",
              "      <th>param_C</th>\n",
              "      <th>param_gamma</th>\n",
              "      <th>param_kernel</th>\n",
              "      <th>params</th>\n",
              "      <th>split0_test_score</th>\n",
              "      <th>split1_test_score</th>\n",
              "      <th>split2_test_score</th>\n",
              "      <th>split3_test_score</th>\n",
              "      <th>split4_test_score</th>\n",
              "      <th>mean_test_score</th>\n",
              "      <th>std_test_score</th>\n",
              "      <th>rank_test_score</th>\n",
              "      <th>split0_train_score</th>\n",
              "      <th>split1_train_score</th>\n",
              "      <th>split2_train_score</th>\n",
              "      <th>split3_train_score</th>\n",
              "      <th>split4_train_score</th>\n",
              "      <th>mean_train_score</th>\n",
              "      <th>std_train_score</th>\n",
              "    </tr>\n",
              "  </thead>\n",
              "  <tbody>\n",
              "    <tr>\n",
              "      <th>0</th>\n",
              "      <td>0.001432</td>\n",
              "      <td>0.000589</td>\n",
              "      <td>0.000573</td>\n",
              "      <td>0.000167</td>\n",
              "      <td>0.001</td>\n",
              "      <td>0.001</td>\n",
              "      <td>linear</td>\n",
              "      <td>{'C': 0.001, 'gamma': 0.001, 'kernel': 'linear'}</td>\n",
              "      <td>0.333333</td>\n",
              "      <td>0.333333</td>\n",
              "      <td>0.333333</td>\n",
              "      <td>0.333333</td>\n",
              "      <td>0.666667</td>\n",
              "      <td>0.4</td>\n",
              "      <td>0.133333</td>\n",
              "      <td>26</td>\n",
              "      <td>0.357143</td>\n",
              "      <td>0.357143</td>\n",
              "      <td>0.357143</td>\n",
              "      <td>0.357143</td>\n",
              "      <td>0.714286</td>\n",
              "      <td>0.428571</td>\n",
              "      <td>0.142857</td>\n",
              "    </tr>\n",
              "    <tr>\n",
              "      <th>1</th>\n",
              "      <td>0.001066</td>\n",
              "      <td>0.000014</td>\n",
              "      <td>0.000475</td>\n",
              "      <td>0.000009</td>\n",
              "      <td>0.001</td>\n",
              "      <td>0.001</td>\n",
              "      <td>rbf</td>\n",
              "      <td>{'C': 0.001, 'gamma': 0.001, 'kernel': 'rbf'}</td>\n",
              "      <td>0.333333</td>\n",
              "      <td>0.333333</td>\n",
              "      <td>0.333333</td>\n",
              "      <td>0.333333</td>\n",
              "      <td>0.666667</td>\n",
              "      <td>0.4</td>\n",
              "      <td>0.133333</td>\n",
              "      <td>26</td>\n",
              "      <td>0.357143</td>\n",
              "      <td>0.357143</td>\n",
              "      <td>0.357143</td>\n",
              "      <td>0.357143</td>\n",
              "      <td>0.714286</td>\n",
              "      <td>0.428571</td>\n",
              "      <td>0.142857</td>\n",
              "    </tr>\n",
              "    <tr>\n",
              "      <th>2</th>\n",
              "      <td>0.000837</td>\n",
              "      <td>0.000023</td>\n",
              "      <td>0.000403</td>\n",
              "      <td>0.000016</td>\n",
              "      <td>0.001</td>\n",
              "      <td>0.01</td>\n",
              "      <td>linear</td>\n",
              "      <td>{'C': 0.001, 'gamma': 0.01, 'kernel': 'linear'}</td>\n",
              "      <td>0.333333</td>\n",
              "      <td>0.333333</td>\n",
              "      <td>0.333333</td>\n",
              "      <td>0.333333</td>\n",
              "      <td>0.666667</td>\n",
              "      <td>0.4</td>\n",
              "      <td>0.133333</td>\n",
              "      <td>26</td>\n",
              "      <td>0.357143</td>\n",
              "      <td>0.357143</td>\n",
              "      <td>0.357143</td>\n",
              "      <td>0.357143</td>\n",
              "      <td>0.714286</td>\n",
              "      <td>0.428571</td>\n",
              "      <td>0.142857</td>\n",
              "    </tr>\n",
              "    <tr>\n",
              "      <th>3</th>\n",
              "      <td>0.001029</td>\n",
              "      <td>0.000006</td>\n",
              "      <td>0.000470</td>\n",
              "      <td>0.000011</td>\n",
              "      <td>0.001</td>\n",
              "      <td>0.01</td>\n",
              "      <td>rbf</td>\n",
              "      <td>{'C': 0.001, 'gamma': 0.01, 'kernel': 'rbf'}</td>\n",
              "      <td>0.333333</td>\n",
              "      <td>0.333333</td>\n",
              "      <td>0.333333</td>\n",
              "      <td>0.333333</td>\n",
              "      <td>0.666667</td>\n",
              "      <td>0.4</td>\n",
              "      <td>0.133333</td>\n",
              "      <td>26</td>\n",
              "      <td>0.357143</td>\n",
              "      <td>0.357143</td>\n",
              "      <td>0.357143</td>\n",
              "      <td>0.357143</td>\n",
              "      <td>0.714286</td>\n",
              "      <td>0.428571</td>\n",
              "      <td>0.142857</td>\n",
              "    </tr>\n",
              "    <tr>\n",
              "      <th>4</th>\n",
              "      <td>0.000900</td>\n",
              "      <td>0.000105</td>\n",
              "      <td>0.000409</td>\n",
              "      <td>0.000011</td>\n",
              "      <td>0.001</td>\n",
              "      <td>0.1</td>\n",
              "      <td>linear</td>\n",
              "      <td>{'C': 0.001, 'gamma': 0.1, 'kernel': 'linear'}</td>\n",
              "      <td>0.333333</td>\n",
              "      <td>0.333333</td>\n",
              "      <td>0.333333</td>\n",
              "      <td>0.333333</td>\n",
              "      <td>0.666667</td>\n",
              "      <td>0.4</td>\n",
              "      <td>0.133333</td>\n",
              "      <td>26</td>\n",
              "      <td>0.357143</td>\n",
              "      <td>0.357143</td>\n",
              "      <td>0.357143</td>\n",
              "      <td>0.357143</td>\n",
              "      <td>0.714286</td>\n",
              "      <td>0.428571</td>\n",
              "      <td>0.142857</td>\n",
              "    </tr>\n",
              "  </tbody>\n",
              "</table>\n",
              "</div>\n",
              "      <button class=\"colab-df-convert\" onclick=\"convertToInteractive('df-600e97cf-07aa-4bdc-afa0-7218beb56d75')\"\n",
              "              title=\"Convert this dataframe to an interactive table.\"\n",
              "              style=\"display:none;\">\n",
              "        \n",
              "  <svg xmlns=\"http://www.w3.org/2000/svg\" height=\"24px\"viewBox=\"0 0 24 24\"\n",
              "       width=\"24px\">\n",
              "    <path d=\"M0 0h24v24H0V0z\" fill=\"none\"/>\n",
              "    <path d=\"M18.56 5.44l.94 2.06.94-2.06 2.06-.94-2.06-.94-.94-2.06-.94 2.06-2.06.94zm-11 1L8.5 8.5l.94-2.06 2.06-.94-2.06-.94L8.5 2.5l-.94 2.06-2.06.94zm10 10l.94 2.06.94-2.06 2.06-.94-2.06-.94-.94-2.06-.94 2.06-2.06.94z\"/><path d=\"M17.41 7.96l-1.37-1.37c-.4-.4-.92-.59-1.43-.59-.52 0-1.04.2-1.43.59L10.3 9.45l-7.72 7.72c-.78.78-.78 2.05 0 2.83L4 21.41c.39.39.9.59 1.41.59.51 0 1.02-.2 1.41-.59l7.78-7.78 2.81-2.81c.8-.78.8-2.07 0-2.86zM5.41 20L4 18.59l7.72-7.72 1.47 1.35L5.41 20z\"/>\n",
              "  </svg>\n",
              "      </button>\n",
              "      \n",
              "  <style>\n",
              "    .colab-df-container {\n",
              "      display:flex;\n",
              "      flex-wrap:wrap;\n",
              "      gap: 12px;\n",
              "    }\n",
              "\n",
              "    .colab-df-convert {\n",
              "      background-color: #E8F0FE;\n",
              "      border: none;\n",
              "      border-radius: 50%;\n",
              "      cursor: pointer;\n",
              "      display: none;\n",
              "      fill: #1967D2;\n",
              "      height: 32px;\n",
              "      padding: 0 0 0 0;\n",
              "      width: 32px;\n",
              "    }\n",
              "\n",
              "    .colab-df-convert:hover {\n",
              "      background-color: #E2EBFA;\n",
              "      box-shadow: 0px 1px 2px rgba(60, 64, 67, 0.3), 0px 1px 3px 1px rgba(60, 64, 67, 0.15);\n",
              "      fill: #174EA6;\n",
              "    }\n",
              "\n",
              "    [theme=dark] .colab-df-convert {\n",
              "      background-color: #3B4455;\n",
              "      fill: #D2E3FC;\n",
              "    }\n",
              "\n",
              "    [theme=dark] .colab-df-convert:hover {\n",
              "      background-color: #434B5C;\n",
              "      box-shadow: 0px 1px 3px 1px rgba(0, 0, 0, 0.15);\n",
              "      filter: drop-shadow(0px 1px 2px rgba(0, 0, 0, 0.3));\n",
              "      fill: #FFFFFF;\n",
              "    }\n",
              "  </style>\n",
              "\n",
              "      <script>\n",
              "        const buttonEl =\n",
              "          document.querySelector('#df-600e97cf-07aa-4bdc-afa0-7218beb56d75 button.colab-df-convert');\n",
              "        buttonEl.style.display =\n",
              "          google.colab.kernel.accessAllowed ? 'block' : 'none';\n",
              "\n",
              "        async function convertToInteractive(key) {\n",
              "          const element = document.querySelector('#df-600e97cf-07aa-4bdc-afa0-7218beb56d75');\n",
              "          const dataTable =\n",
              "            await google.colab.kernel.invokeFunction('convertToInteractive',\n",
              "                                                     [key], {});\n",
              "          if (!dataTable) return;\n",
              "\n",
              "          const docLinkHtml = 'Like what you see? Visit the ' +\n",
              "            '<a target=\"_blank\" href=https://colab.research.google.com/notebooks/data_table.ipynb>data table notebook</a>'\n",
              "            + ' to learn more about interactive tables.';\n",
              "          element.innerHTML = '';\n",
              "          dataTable['output_type'] = 'display_data';\n",
              "          await google.colab.output.renderOutput(dataTable, element);\n",
              "          const docLink = document.createElement('div');\n",
              "          docLink.innerHTML = docLinkHtml;\n",
              "          element.appendChild(docLink);\n",
              "        }\n",
              "      </script>\n",
              "    </div>\n",
              "  </div>\n",
              "  "
            ],
            "text/plain": [
              "   mean_fit_time  std_fit_time  ...  mean_train_score  std_train_score\n",
              "0       0.001432      0.000589  ...          0.428571         0.142857\n",
              "1       0.001066      0.000014  ...          0.428571         0.142857\n",
              "2       0.000837      0.000023  ...          0.428571         0.142857\n",
              "3       0.001029      0.000006  ...          0.428571         0.142857\n",
              "4       0.000900      0.000105  ...          0.428571         0.142857\n",
              "\n",
              "[5 rows x 23 columns]"
            ]
          },
          "metadata": {}
        }
      ]
    },
    {
      "cell_type": "markdown",
      "metadata": {
        "id": "uoxQgwlJ0a0C"
      },
      "source": [
        "L'avantage de GridSearchCV est qu'il va parcourir toutes les conditions et retourner celles qui sont les meilleures pour la ou les mesures de scoring recherchée (dans notre cas nous avons privilégié l'accuracy).\n",
        "Cela est très pratique mais est malheureusement impossible dans certains cas car beaucoup trop long à mettre en place.\n",
        "Une solution possible est d'utiliser *RandomizedSearchCV* qui parcourt de manière aléatoire l'espace de recherche. \n",
        "Il suffit dans ce cas de spécifier des tirages aléatoires pour les valeurs possibles des paramètres et de préciser le nombre d'itérations voulues.\n",
        "Le second usage de *RandomizedSearchCV* est, lorsque l'on n'a pas une très bonne idée de ce que cela peut donner ou des paramètres à utiliser de faire appel à lui pour avoir des valeurs qui peuvent être significatives et de faire suivre à partir de ces valeurs une recherche via *GridSearchCV*.\n",
        "\n",
        "\n"
      ]
    },
    {
      "cell_type": "code",
      "metadata": {
        "ExecuteTime": {
          "end_time": "2020-10-10T08:41:09.060747Z",
          "start_time": "2020-10-10T08:40:59.982Z"
        },
        "id": "al9R9Ve40a0C",
        "colab": {
          "base_uri": "https://localhost:8080/",
          "height": 659
        },
        "outputId": "58defe45-527f-4295-d1a3-1988fa6568fa"
      },
      "source": [
        "from sklearn.model_selection import RandomizedSearchCV\n",
        "from scipy.stats import randint\n",
        "\n",
        "rand_param = {  \n",
        "    'max_depth': randint(1, 20),\n",
        "    'criterion': ['gini', 'entropy'],\n",
        "    'min_samples_leaf': randint(1, 20)\n",
        "}\n",
        "\n",
        "\n",
        "rand_sr = RandomizedSearchCV(estimator=DecisionTreeClassifier(), \n",
        "                             param_distributions = rand_param, \n",
        "                             random_state=1, \n",
        "                             n_iter=20, \n",
        "                             cv=3, \n",
        "                             n_jobs=-1,\n",
        "                             scoring='accuracy',\n",
        "                             return_train_score=True)\n",
        "\n",
        "rand_sr.fit(X_train, y_train)  \n",
        "\n",
        "\n",
        "print ('meilleur score %0.3f'%(rand_sr.best_score_),'\\n')\n",
        "print ('meilleurs paramètres', rand_sr.best_params_,'\\n')\n",
        "print ('meilleur estimateur',rand_sr.best_estimator_,'\\n')\n",
        "\n",
        "# convertion en DataFrame\n",
        "results = pd.DataFrame(rand_sr.cv_results_) \n",
        "# Affichage des 5 premières lignes\n",
        "display(results.head())"
      ],
      "execution_count": 320,
      "outputs": [
        {
          "output_type": "stream",
          "name": "stdout",
          "text": [
            "meilleur score 0.962 \n",
            "\n",
            "meilleurs paramètres {'criterion': 'entropy', 'max_depth': 12, 'min_samples_leaf': 13} \n",
            "\n",
            "meilleur estimateur DecisionTreeClassifier(criterion='entropy', max_depth=12, min_samples_leaf=13) \n",
            "\n"
          ]
        },
        {
          "output_type": "display_data",
          "data": {
            "text/html": [
              "\n",
              "  <div id=\"df-ae841319-8282-443d-a175-ae0e4c2d65a7\">\n",
              "    <div class=\"colab-df-container\">\n",
              "      <div>\n",
              "<style scoped>\n",
              "    .dataframe tbody tr th:only-of-type {\n",
              "        vertical-align: middle;\n",
              "    }\n",
              "\n",
              "    .dataframe tbody tr th {\n",
              "        vertical-align: top;\n",
              "    }\n",
              "\n",
              "    .dataframe thead th {\n",
              "        text-align: right;\n",
              "    }\n",
              "</style>\n",
              "<table border=\"1\" class=\"dataframe\">\n",
              "  <thead>\n",
              "    <tr style=\"text-align: right;\">\n",
              "      <th></th>\n",
              "      <th>mean_fit_time</th>\n",
              "      <th>std_fit_time</th>\n",
              "      <th>mean_score_time</th>\n",
              "      <th>std_score_time</th>\n",
              "      <th>param_criterion</th>\n",
              "      <th>param_max_depth</th>\n",
              "      <th>param_min_samples_leaf</th>\n",
              "      <th>params</th>\n",
              "      <th>split0_test_score</th>\n",
              "      <th>split1_test_score</th>\n",
              "      <th>split2_test_score</th>\n",
              "      <th>mean_test_score</th>\n",
              "      <th>std_test_score</th>\n",
              "      <th>rank_test_score</th>\n",
              "      <th>split0_train_score</th>\n",
              "      <th>split1_train_score</th>\n",
              "      <th>split2_train_score</th>\n",
              "      <th>mean_train_score</th>\n",
              "      <th>std_train_score</th>\n",
              "    </tr>\n",
              "  </thead>\n",
              "  <tbody>\n",
              "    <tr>\n",
              "      <th>0</th>\n",
              "      <td>0.001110</td>\n",
              "      <td>0.000175</td>\n",
              "      <td>0.000560</td>\n",
              "      <td>0.000024</td>\n",
              "      <td>entropy</td>\n",
              "      <td>12</td>\n",
              "      <td>13</td>\n",
              "      <td>{'criterion': 'entropy', 'max_depth': 12, 'min...</td>\n",
              "      <td>0.971429</td>\n",
              "      <td>0.971429</td>\n",
              "      <td>0.942857</td>\n",
              "      <td>0.961905</td>\n",
              "      <td>1.346870e-02</td>\n",
              "      <td>1</td>\n",
              "      <td>0.971429</td>\n",
              "      <td>0.971429</td>\n",
              "      <td>0.985714</td>\n",
              "      <td>0.97619</td>\n",
              "      <td>0.006734</td>\n",
              "    </tr>\n",
              "    <tr>\n",
              "      <th>1</th>\n",
              "      <td>0.000977</td>\n",
              "      <td>0.000077</td>\n",
              "      <td>0.000523</td>\n",
              "      <td>0.000023</td>\n",
              "      <td>gini</td>\n",
              "      <td>10</td>\n",
              "      <td>12</td>\n",
              "      <td>{'criterion': 'gini', 'max_depth': 10, 'min_sa...</td>\n",
              "      <td>0.971429</td>\n",
              "      <td>0.971429</td>\n",
              "      <td>0.942857</td>\n",
              "      <td>0.961905</td>\n",
              "      <td>1.346870e-02</td>\n",
              "      <td>1</td>\n",
              "      <td>0.971429</td>\n",
              "      <td>0.971429</td>\n",
              "      <td>0.985714</td>\n",
              "      <td>0.97619</td>\n",
              "      <td>0.006734</td>\n",
              "    </tr>\n",
              "    <tr>\n",
              "      <th>2</th>\n",
              "      <td>0.001309</td>\n",
              "      <td>0.000117</td>\n",
              "      <td>0.000583</td>\n",
              "      <td>0.000007</td>\n",
              "      <td>entropy</td>\n",
              "      <td>16</td>\n",
              "      <td>1</td>\n",
              "      <td>{'criterion': 'entropy', 'max_depth': 16, 'min...</td>\n",
              "      <td>0.942857</td>\n",
              "      <td>0.942857</td>\n",
              "      <td>0.942857</td>\n",
              "      <td>0.942857</td>\n",
              "      <td>1.110223e-16</td>\n",
              "      <td>19</td>\n",
              "      <td>1.000000</td>\n",
              "      <td>1.000000</td>\n",
              "      <td>1.000000</td>\n",
              "      <td>1.00000</td>\n",
              "      <td>0.000000</td>\n",
              "    </tr>\n",
              "    <tr>\n",
              "      <th>3</th>\n",
              "      <td>0.000978</td>\n",
              "      <td>0.000170</td>\n",
              "      <td>0.000782</td>\n",
              "      <td>0.000497</td>\n",
              "      <td>gini</td>\n",
              "      <td>2</td>\n",
              "      <td>13</td>\n",
              "      <td>{'criterion': 'gini', 'max_depth': 2, 'min_sam...</td>\n",
              "      <td>0.971429</td>\n",
              "      <td>0.971429</td>\n",
              "      <td>0.942857</td>\n",
              "      <td>0.961905</td>\n",
              "      <td>1.346870e-02</td>\n",
              "      <td>1</td>\n",
              "      <td>0.971429</td>\n",
              "      <td>0.971429</td>\n",
              "      <td>0.985714</td>\n",
              "      <td>0.97619</td>\n",
              "      <td>0.006734</td>\n",
              "    </tr>\n",
              "    <tr>\n",
              "      <th>4</th>\n",
              "      <td>0.001030</td>\n",
              "      <td>0.000154</td>\n",
              "      <td>0.000545</td>\n",
              "      <td>0.000192</td>\n",
              "      <td>entropy</td>\n",
              "      <td>14</td>\n",
              "      <td>7</td>\n",
              "      <td>{'criterion': 'entropy', 'max_depth': 14, 'min...</td>\n",
              "      <td>0.971429</td>\n",
              "      <td>0.971429</td>\n",
              "      <td>0.942857</td>\n",
              "      <td>0.961905</td>\n",
              "      <td>1.346870e-02</td>\n",
              "      <td>1</td>\n",
              "      <td>0.971429</td>\n",
              "      <td>0.971429</td>\n",
              "      <td>0.985714</td>\n",
              "      <td>0.97619</td>\n",
              "      <td>0.006734</td>\n",
              "    </tr>\n",
              "  </tbody>\n",
              "</table>\n",
              "</div>\n",
              "      <button class=\"colab-df-convert\" onclick=\"convertToInteractive('df-ae841319-8282-443d-a175-ae0e4c2d65a7')\"\n",
              "              title=\"Convert this dataframe to an interactive table.\"\n",
              "              style=\"display:none;\">\n",
              "        \n",
              "  <svg xmlns=\"http://www.w3.org/2000/svg\" height=\"24px\"viewBox=\"0 0 24 24\"\n",
              "       width=\"24px\">\n",
              "    <path d=\"M0 0h24v24H0V0z\" fill=\"none\"/>\n",
              "    <path d=\"M18.56 5.44l.94 2.06.94-2.06 2.06-.94-2.06-.94-.94-2.06-.94 2.06-2.06.94zm-11 1L8.5 8.5l.94-2.06 2.06-.94-2.06-.94L8.5 2.5l-.94 2.06-2.06.94zm10 10l.94 2.06.94-2.06 2.06-.94-2.06-.94-.94-2.06-.94 2.06-2.06.94z\"/><path d=\"M17.41 7.96l-1.37-1.37c-.4-.4-.92-.59-1.43-.59-.52 0-1.04.2-1.43.59L10.3 9.45l-7.72 7.72c-.78.78-.78 2.05 0 2.83L4 21.41c.39.39.9.59 1.41.59.51 0 1.02-.2 1.41-.59l7.78-7.78 2.81-2.81c.8-.78.8-2.07 0-2.86zM5.41 20L4 18.59l7.72-7.72 1.47 1.35L5.41 20z\"/>\n",
              "  </svg>\n",
              "      </button>\n",
              "      \n",
              "  <style>\n",
              "    .colab-df-container {\n",
              "      display:flex;\n",
              "      flex-wrap:wrap;\n",
              "      gap: 12px;\n",
              "    }\n",
              "\n",
              "    .colab-df-convert {\n",
              "      background-color: #E8F0FE;\n",
              "      border: none;\n",
              "      border-radius: 50%;\n",
              "      cursor: pointer;\n",
              "      display: none;\n",
              "      fill: #1967D2;\n",
              "      height: 32px;\n",
              "      padding: 0 0 0 0;\n",
              "      width: 32px;\n",
              "    }\n",
              "\n",
              "    .colab-df-convert:hover {\n",
              "      background-color: #E2EBFA;\n",
              "      box-shadow: 0px 1px 2px rgba(60, 64, 67, 0.3), 0px 1px 3px 1px rgba(60, 64, 67, 0.15);\n",
              "      fill: #174EA6;\n",
              "    }\n",
              "\n",
              "    [theme=dark] .colab-df-convert {\n",
              "      background-color: #3B4455;\n",
              "      fill: #D2E3FC;\n",
              "    }\n",
              "\n",
              "    [theme=dark] .colab-df-convert:hover {\n",
              "      background-color: #434B5C;\n",
              "      box-shadow: 0px 1px 3px 1px rgba(0, 0, 0, 0.15);\n",
              "      filter: drop-shadow(0px 1px 2px rgba(0, 0, 0, 0.3));\n",
              "      fill: #FFFFFF;\n",
              "    }\n",
              "  </style>\n",
              "\n",
              "      <script>\n",
              "        const buttonEl =\n",
              "          document.querySelector('#df-ae841319-8282-443d-a175-ae0e4c2d65a7 button.colab-df-convert');\n",
              "        buttonEl.style.display =\n",
              "          google.colab.kernel.accessAllowed ? 'block' : 'none';\n",
              "\n",
              "        async function convertToInteractive(key) {\n",
              "          const element = document.querySelector('#df-ae841319-8282-443d-a175-ae0e4c2d65a7');\n",
              "          const dataTable =\n",
              "            await google.colab.kernel.invokeFunction('convertToInteractive',\n",
              "                                                     [key], {});\n",
              "          if (!dataTable) return;\n",
              "\n",
              "          const docLinkHtml = 'Like what you see? Visit the ' +\n",
              "            '<a target=\"_blank\" href=https://colab.research.google.com/notebooks/data_table.ipynb>data table notebook</a>'\n",
              "            + ' to learn more about interactive tables.';\n",
              "          element.innerHTML = '';\n",
              "          dataTable['output_type'] = 'display_data';\n",
              "          await google.colab.output.renderOutput(dataTable, element);\n",
              "          const docLink = document.createElement('div');\n",
              "          docLink.innerHTML = docLinkHtml;\n",
              "          element.appendChild(docLink);\n",
              "        }\n",
              "      </script>\n",
              "    </div>\n",
              "  </div>\n",
              "  "
            ],
            "text/plain": [
              "   mean_fit_time  std_fit_time  ...  mean_train_score  std_train_score\n",
              "0       0.001110      0.000175  ...           0.97619         0.006734\n",
              "1       0.000977      0.000077  ...           0.97619         0.006734\n",
              "2       0.001309      0.000117  ...           1.00000         0.000000\n",
              "3       0.000978      0.000170  ...           0.97619         0.006734\n",
              "4       0.001030      0.000154  ...           0.97619         0.006734\n",
              "\n",
              "[5 rows x 19 columns]"
            ]
          },
          "metadata": {}
        }
      ]
    },
    {
      "cell_type": "markdown",
      "metadata": {
        "id": "crmXZfx60a0D"
      },
      "source": [
        "## GridsearchCV et plusieurs classifieurs"
      ]
    },
    {
      "cell_type": "markdown",
      "metadata": {
        "id": "KsDNOrVf0a0D"
      },
      "source": [
        "Il est tout à fait possible d'utiliser GridsearchCV\n",
        " avec plusieurs classifieurs. Il suffit pour cela d'initaliser les classifieurs dans un dictionnaire et faire de même pour les paramètres."
      ]
    },
    {
      "cell_type": "code",
      "metadata": {
        "ExecuteTime": {
          "end_time": "2020-10-10T08:41:09.062388Z",
          "start_time": "2020-10-10T08:40:59.988Z"
        },
        "id": "nUwVQSya0a0D"
      },
      "source": [
        "classifiers = {\n",
        "    'KNeighborsClassifier': KNeighborsClassifier(),\n",
        "    'DecisionTreeClassifier': DecisionTreeClassifier(),\n",
        "    'SVC': SVC()\n",
        "}\n",
        "\n",
        "params = {'KNeighborsClassifier' : [{'n_neighbors': list(range(1,15))},\n",
        "    {'metric': ['minkowski','euclidean','manhattan']}],\n",
        "           'DecisionTreeClassifier': [{'max_depth': [1,2,3,4,5,6,7,8,9,10]},\n",
        "    {'criterion': ['gini', 'entropy']},\n",
        "    {'min_samples_leaf': [1,2,3,4,5,6,7,8,9,10]}],\n",
        "       'SVC':[{'C': [0.001, 0.01, 0.1, 1, 10], \n",
        "    'gamma' : [0.001, 0.01, 0.1, 1], \n",
        "    'kernel': ['linear','rbf']}]  }"
      ],
      "execution_count": 321,
      "outputs": []
    },
    {
      "cell_type": "code",
      "metadata": {
        "ExecuteTime": {
          "end_time": "2020-10-10T08:41:09.063780Z",
          "start_time": "2020-10-10T08:40:59.994Z"
        },
        "id": "kB75xCuB0a0D",
        "colab": {
          "base_uri": "https://localhost:8080/"
        },
        "outputId": "53ae31f6-b73f-466c-eb99-bff79b552e81"
      },
      "source": [
        "class Result_Parameters:\n",
        "     def __init__(self,name, score, parameters):\n",
        "         self.name = name\n",
        "         self.score = score\n",
        "         self.parameters = parameters\n",
        "     def __repr__(self):\n",
        "         return repr((self.name, self.score, self.parameters))\n",
        "\n",
        "       \n",
        "results = []\n",
        "for key,value in classifiers.items():\n",
        "    gd_sr = GridSearchCV(estimator=value,  \n",
        "                     param_grid=params[key],\n",
        "                     scoring='accuracy',\n",
        "                     cv=5,\n",
        "                     n_jobs=1)\n",
        "    gd_sr.fit(X_train, y_train)  \n",
        "    result=Result_Parameters(key,gd_sr.best_score_,gd_sr.best_estimator_)\n",
        "    results.append(result)   \n",
        "    \n",
        "    \n",
        "    \n",
        "results=sorted(results, key=lambda result: result.score, reverse=True) \n",
        "\n",
        "print ('Le meilleur resultat : \\n')\n",
        "print ('Classifier : ',results[0].name, \n",
        "       ' score %0.3f' %results[0].score, \n",
        "       ' avec ',results[0].parameters,'\\n')\n",
        "\n",
        "print ('Tous les résultats : \\n')\n",
        "for result in results:\n",
        "    print ('Classifier : ',result.name, \n",
        "           ' score %0.3f' %result.score, \n",
        "           ' avec ',result.parameters,'\\n')\n",
        "    \n"
      ],
      "execution_count": 322,
      "outputs": [
        {
          "output_type": "stream",
          "name": "stdout",
          "text": [
            "Le meilleur resultat : \n",
            "\n",
            "Classifier :  SVC  score 0.990  avec  SVC(C=10, gamma=0.1) \n",
            "\n",
            "Tous les résultats : \n",
            "\n",
            "Classifier :  SVC  score 0.990  avec  SVC(C=10, gamma=0.1) \n",
            "\n",
            "Classifier :  DecisionTreeClassifier  score 0.971  avec  DecisionTreeClassifier(max_depth=2) \n",
            "\n",
            "Classifier :  KNeighborsClassifier  score 0.952  avec  KNeighborsClassifier() \n",
            "\n"
          ]
        }
      ]
    },
    {
      "cell_type": "markdown",
      "metadata": {
        "id": "ZP_DLOML0a0D"
      },
      "source": [
        "## Les pipelines "
      ]
    },
    {
      "cell_type": "markdown",
      "metadata": {
        "id": "qMtU8u3w0a0D"
      },
      "source": [
        "Il peut arriver que différentes combinaisons de pré-traitements puissent être utilisées. Par exemple il est possible d'utiliser du changement d'échelle, du PCA (projection sur un nombre différent de dimensions), de faire du remplacement de valeurs manquantes ...  \n",
        "\n",
        "L'objectif du pipeline est de pouvoir regrouper l'ensemble de ces prétraitements et de pouvoir les faire suivre par le classifier.\n",
        "Le principe consiste à d'abord mettre la chaîne de pré-traitement, d'ensuite mettre le classifier et d'utiliser directement le pipeline.\n",
        "\n",
        "**Attention :** les pipelines sont très importants lorsque l'on sauvegarde un modèle. En effet comme ils prennent en compte les pré-traitements tout est sauvegardé. Cela veut dire que dans le cas de nouvelles données à évaluer avec un modèle lors de la prédiction les données seront automatiquement transformées. (Voir partie utiliser de nouvelles données plus bas).\n",
        "\n",
        "L'exemple suivant illustre un pipeline où un standard scaling est réalisé puis un PCA et enfin un DecisionTree est appliqué."
      ]
    },
    {
      "cell_type": "code",
      "metadata": {
        "ExecuteTime": {
          "end_time": "2020-10-10T08:41:09.069311Z",
          "start_time": "2020-10-10T08:40:59.999Z"
        },
        "id": "_ZFBmsLt0a0D",
        "colab": {
          "base_uri": "https://localhost:8080/",
          "height": 603
        },
        "outputId": "b9eda95a-2841-46bc-e1e1-e53ac84ee95c"
      },
      "source": [
        "from sklearn.preprocessing import LabelEncoder\n",
        "\n",
        "\n",
        "url = \"https://archive.ics.uci.edu/ml/machine-learning-databases/iris/iris.data\"\n",
        "names = ['SepalLengthCm', 'SepalWidthCm', \n",
        "         'PetalLengthCm', 'PetalWidthCm', 'Species']\n",
        "df_iris = pd.read_csv(url, names=names)\n",
        "\n",
        "#transformation de Species via LabelEncoder\n",
        "class_label_encoder = LabelEncoder()\n",
        "df_iris['Species']=class_label_encoder.fit_transform(df_iris['Species'].values)\n",
        "\n",
        "\n",
        "array = df_iris.values\n",
        "X = array[:,0:4] \n",
        "y = array[:,4]\n",
        "\n",
        "\n",
        "print ('Création du pipeline \\n')\n",
        "pipeline = Pipeline([('scl', StandardScaler()),\n",
        "                    #('pca', PCA(n_components=2)),\n",
        "                    ('clf', DecisionTreeClassifier(random_state=42))])\n",
        "\n",
        "trainsize=0.7 # 70% pour le jeu d'apprentissage, il reste 30% du jeu de données pour le test\n",
        "\n",
        "testsize= 0.3\n",
        "seed=30\n",
        "X_train,X_test,y_train,y_test=train_test_split(X, \n",
        "                                               y, \n",
        "                                               train_size=trainsize, \n",
        "                                               random_state=seed,\n",
        "                                               test_size=testsize)\n",
        "\n",
        "pipeline.fit(X_train, y_train)\n",
        "y_pred = pipeline.predict(X_test)\n",
        "MyshowAllScores(y_test,y_pred)"
      ],
      "execution_count": 323,
      "outputs": [
        {
          "output_type": "stream",
          "name": "stdout",
          "text": [
            "Création du pipeline \n",
            "\n",
            "Accuracy : 0.956\n",
            "Classification Report\n",
            "              precision    recall  f1-score   support\n",
            "\n",
            "         0.0    1.00000   1.00000   1.00000        13\n",
            "         1.0    0.92308   0.92308   0.92308        13\n",
            "         2.0    0.94737   0.94737   0.94737        19\n",
            "\n",
            "    accuracy                        0.95556        45\n",
            "   macro avg    0.95682   0.95682   0.95682        45\n",
            "weighted avg    0.95556   0.95556   0.95556        45\n",
            "\n"
          ]
        },
        {
          "output_type": "display_data",
          "data": {
            "image/png": "[encoded data removed]",
            "text/plain": [
              "<Figure size 576x360 with 2 Axes>"
            ]
          },
          "metadata": {}
        }
      ]
    },
    {
      "cell_type": "markdown",
      "metadata": {
        "id": "GdMVfhO80a0D"
      },
      "source": [
        "Il est possible d'utiliser GridSearchCV pour chercher les meilleures valeurs dans un pré-traitement."
      ]
    },
    {
      "cell_type": "code",
      "metadata": {
        "ExecuteTime": {
          "end_time": "2020-10-10T08:41:09.070802Z",
          "start_time": "2020-10-10T08:41:00.006Z"
        },
        "id": "olaEgbsL0a0D",
        "colab": {
          "base_uri": "https://localhost:8080/"
        },
        "outputId": "09bfed58-5c13-4171-a1a5-5ab7c28f8d27"
      },
      "source": [
        "from sklearn.model_selection import GridSearchCV\n",
        "print ('Création du pipeline \\n')\n",
        "pipeline = Pipeline([('pca', PCA()),\n",
        "                    ('clf', DecisionTreeClassifier(random_state=42))])\n",
        "\n",
        "grid_param = {\n",
        "    'pca__n_components': [2,3]\n",
        "}\n",
        "\n",
        "\n",
        "gd_sr = GridSearchCV(pipeline,  \n",
        "                     param_grid=grid_param,\n",
        "                     scoring='accuracy',\n",
        "                     cv=5,\n",
        "                     n_jobs=1,\n",
        "                    return_train_score=True)\n",
        "\n",
        "gd_sr.fit(X_train, y_train)  \n",
        "\n",
        "print ('meilleur score %0.3f'%(gd_sr.best_score_),'\\n')\n",
        "print ('meilleurs paramètres', gd_sr.best_params_,'\\n')\n",
        "print ('meilleur estimateur',gd_sr.best_estimator_,'\\n')"
      ],
      "execution_count": 324,
      "outputs": [
        {
          "output_type": "stream",
          "name": "stdout",
          "text": [
            "Création du pipeline \n",
            "\n",
            "meilleur score 0.933 \n",
            "\n",
            "meilleurs paramètres {'pca__n_components': 3} \n",
            "\n",
            "meilleur estimateur Pipeline(steps=[('pca', PCA(n_components=3)),\n",
            "                ('clf', DecisionTreeClassifier(random_state=42))]) \n",
            "\n"
          ]
        }
      ]
    },
    {
      "cell_type": "markdown",
      "metadata": {
        "id": "YPFVz6fo0a0E"
      },
      "source": [
        "Ou bien de faire les deux en même temps. "
      ]
    },
    {
      "cell_type": "code",
      "metadata": {
        "ExecuteTime": {
          "end_time": "2020-10-10T08:41:09.072168Z",
          "start_time": "2020-10-10T08:41:00.011Z"
        },
        "id": "M9omToOP0a0E",
        "colab": {
          "base_uri": "https://localhost:8080/"
        },
        "outputId": "12a125fe-fb63-4bda-a9c3-2af148ada244"
      },
      "source": [
        "url = \"https://archive.ics.uci.edu/ml/machine-learning-databases/iris/iris.data\"\n",
        "names = ['SepalLengthCm', 'SepalWidthCm', \n",
        "         'PetalLengthCm', 'PetalWidthCm', 'Species']\n",
        "df_iris = pd.read_csv(url, names=names)\n",
        "\n",
        "#transformation de Species en float pour StantardScaler\n",
        "class_label_encoder = LabelEncoder()\n",
        "df_iris['Species']=class_label_encoder.fit_transform(df_iris['Species'].values)\n",
        "\n",
        "\n",
        "array = df_iris.values\n",
        "X = array[:,0:4] \n",
        "y = array[:,4]\n",
        "\n",
        "pipeline = Pipeline([('pca', PCA()),\n",
        "                    ('clf', DecisionTreeClassifier())])\n",
        "\n",
        "\n",
        "\n",
        "grid_param = [{'pca__n_components': [2,3]},\n",
        "                {'clf': [DecisionTreeClassifier()],\n",
        "                 'clf__max_depth': [1,2,3,4,5,6,7,8,9,10],\n",
        "                 'clf__criterion': ['gini', 'entropy'],\n",
        "                 'clf__min_samples_leaf': [1,2,3,4,5,6,7,8,9,10]\n",
        "                }]\n",
        "\n",
        "\n",
        "\n",
        "gd_sr = GridSearchCV(estimator=pipeline,  \n",
        "                     param_grid=grid_param,\n",
        "                     scoring='accuracy',\n",
        "                     cv=5,\n",
        "                     n_jobs=-1,\n",
        "                    return_train_score=True)\n",
        "\n",
        "gd_sr.fit(X_train, y_train)  \n",
        "print ('meilleur score %0.3f'%(gd_sr.best_score_),'\\n')\n",
        "print ('meilleurs paramètres', gd_sr.best_params_,'\\n')\n",
        "print ('meilleur estimateur',gd_sr.best_estimator_,'\\n')"
      ],
      "execution_count": 325,
      "outputs": [
        {
          "output_type": "stream",
          "name": "stdout",
          "text": [
            "meilleur score 0.952 \n",
            "\n",
            "meilleurs paramètres {'clf': DecisionTreeClassifier(criterion='entropy', max_depth=4, min_samples_leaf=2), 'clf__criterion': 'entropy', 'clf__max_depth': 4, 'clf__min_samples_leaf': 2} \n",
            "\n",
            "meilleur estimateur Pipeline(steps=[('pca', PCA()),\n",
            "                ('clf',\n",
            "                 DecisionTreeClassifier(criterion='entropy', max_depth=4,\n",
            "                                        min_samples_leaf=2))]) \n",
            "\n"
          ]
        }
      ]
    },
    {
      "cell_type": "markdown",
      "metadata": {
        "id": "99TEkLbF0a0E"
      },
      "source": [
        "## Sauvegarder le modèle appris "
      ]
    },
    {
      "cell_type": "markdown",
      "metadata": {
        "id": "hC4mEV0X0a0E"
      },
      "source": [
        "Une fois un modèle appris il est possible de le sauvegarder pour pouvoir lui appliquer d'autres données à prédire. Il existe différentes librairies comme pickle ou joblib.    \n",
        "Dans ce notebook nous utilisons pickle qui est la librairie Python standard pour sérialiser-désérialiser des objets.  "
      ]
    },
    {
      "cell_type": "code",
      "metadata": {
        "ExecuteTime": {
          "end_time": "2020-10-10T08:41:09.073517Z",
          "start_time": "2020-10-10T08:41:00.016Z"
        },
        "id": "TWU3wD3K0a0E",
        "colab": {
          "base_uri": "https://localhost:8080/"
        },
        "outputId": "60f59a2c-9bcb-4797-d236-52235b40fc51"
      },
      "source": [
        "#preparation des données\n",
        "url = \"https://archive.ics.uci.edu/ml/machine-learning-databases/iris/iris.data\"\n",
        "names = ['SepalLengthCm', 'SepalWidthCm', \n",
        "         'PetalLengthCm', 'PetalWidthCm', 'Species']\n",
        "df_iris = pd.read_csv(url, names=names)\n",
        "array = df_iris.values\n",
        "X = array[:,0:4] \n",
        "y = array[:,4]\n",
        "\n",
        "trainsize=0.7 # 70% pour le jeu d'apprentissage, il reste 30% du jeu de données pour le test\n",
        "\n",
        "testsize= 0.3\n",
        "seed=30\n",
        "X_train,X_test,y_train,y_test=train_test_split(X, \n",
        "                                               y, \n",
        "                                               train_size=trainsize, \n",
        "                                               random_state=seed,\n",
        "                                               test_size=testsize)\n",
        "\n",
        "clf = GaussianNB()\n",
        "clf.fit(X_train, y_train)\n"
      ],
      "execution_count": 326,
      "outputs": [
        {
          "output_type": "execute_result",
          "data": {
            "text/plain": [
              "GaussianNB()"
            ]
          },
          "metadata": {},
          "execution_count": 326
        }
      ]
    },
    {
      "cell_type": "markdown",
      "metadata": {
        "id": "dc--x89x0a0E"
      },
      "source": [
        "**pickle**"
      ]
    },
    {
      "cell_type": "markdown",
      "metadata": {
        "id": "gjf-92WX0a0E"
      },
      "source": [
        "Pour sérialiser et sauvegarder le modèle appris :"
      ]
    },
    {
      "cell_type": "code",
      "metadata": {
        "ExecuteTime": {
          "end_time": "2020-10-10T08:41:09.075092Z",
          "start_time": "2020-10-10T08:41:00.023Z"
        },
        "id": "RcHKLyCP0a0F"
      },
      "source": [
        "import pickle\n",
        "filename = 'pkl_modelNB.sav'\n",
        "pickle.dump(clf, open(filename, 'wb'))"
      ],
      "execution_count": 327,
      "outputs": []
    },
    {
      "cell_type": "markdown",
      "metadata": {
        "id": "c7bIMEns0a0F"
      },
      "source": [
        "Pour utiliser le modèle sauvegardé : "
      ]
    },
    {
      "cell_type": "code",
      "metadata": {
        "ExecuteTime": {
          "end_time": "2020-10-10T08:41:09.076800Z",
          "start_time": "2020-10-10T08:41:00.028Z"
        },
        "id": "Kw31NMCl0a0F",
        "colab": {
          "base_uri": "https://localhost:8080/",
          "height": 677
        },
        "outputId": "1c2539e4-2e0d-4663-b17f-c86fc3231a6a"
      },
      "source": [
        "filename = 'pkl_modelNB.sav'\n",
        "clf_loaded = pickle.load(open(filename, 'rb'))\n",
        "print ('Modèle chargé',clf_loaded,'\\n')\n",
        "\n",
        "# application sur les données de test obtenues précédemment\n",
        "y_pred = clf_loaded.predict(X_test)\n",
        "MyshowAllScores(y_test,y_pred)\n",
        "\n",
        "result = clf_loaded.predict([[ 5.0,  3.6,  1.4,  0.2]])\n",
        "print ('\\nLa prédiction du modèle pour [ 5.0,  3.6,  1.4,  0.2] est', \n",
        "       result)"
      ],
      "execution_count": 328,
      "outputs": [
        {
          "output_type": "stream",
          "name": "stdout",
          "text": [
            "Modèle chargé GaussianNB() \n",
            "\n",
            "Accuracy : 0.956\n",
            "Classification Report\n",
            "                 precision    recall  f1-score   support\n",
            "\n",
            "    Iris-setosa    1.00000   1.00000   1.00000        13\n",
            "Iris-versicolor    0.92308   0.92308   0.92308        13\n",
            " Iris-virginica    0.94737   0.94737   0.94737        19\n",
            "\n",
            "       accuracy                        0.95556        45\n",
            "      macro avg    0.95682   0.95682   0.95682        45\n",
            "   weighted avg    0.95556   0.95556   0.95556        45\n",
            "\n"
          ]
        },
        {
          "output_type": "display_data",
          "data": {
            "image/png": "[encoded data removed]",
            "text/plain": [
              "<Figure size 576x360 with 2 Axes>"
            ]
          },
          "metadata": {}
        },
        {
          "output_type": "stream",
          "name": "stdout",
          "text": [
            "\n",
            "La prédiction du modèle pour [ 5.0,  3.6,  1.4,  0.2] est ['Iris-setosa']\n"
          ]
        }
      ]
    },
    {
      "cell_type": "markdown",
      "metadata": {
        "id": "c2VcWirN0a0F"
      },
      "source": [
        "## Utiliser de nouvelles données "
      ]
    },
    {
      "cell_type": "markdown",
      "metadata": {
        "id": "T1t06qy20a0F"
      },
      "source": [
        "A partir d'un modèle sauvegardé, il est donc possible d'appliquer la fonction predict pour connaître la prédiction du modèle.   \n",
        "\n",
        "Dans le cas de nouvelles données il faut faire attention car des pré-traitements ont sans doute été effectués avec les données initiales (changement d'échelle, normalisation, etc) et une matrice a été obtenue pour apprendre un modèle.   \n",
        "\n",
        "Il est impératif que les nouvelles données suivent le même traitement. Nous présentons par la suite un exemple d'utilisation à l'aide des données IRIS. Cette fois-ci nous utilisons iris qui est disponible directement dans scikit learn."
      ]
    },
    {
      "cell_type": "markdown",
      "metadata": {
        "id": "ISqh4Mux0a0F"
      },
      "source": [
        "Lecture de la base iris et utilisation de SVM comme classifieur"
      ]
    },
    {
      "cell_type": "code",
      "metadata": {
        "ExecuteTime": {
          "end_time": "2020-10-10T08:41:09.084428Z",
          "start_time": "2020-10-10T08:41:00.048Z"
        },
        "id": "qjlvAk3b0a0F"
      },
      "source": [
        "from sklearn import datasets\n",
        "clf = SVC(gamma='scale')\n",
        "iris = datasets.load_iris()"
      ],
      "execution_count": 329,
      "outputs": []
    },
    {
      "cell_type": "markdown",
      "metadata": {
        "id": "BXXaMyZr0a0F"
      },
      "source": [
        "Dans un premier temps nous ajoutons du bruit dans la base iris en mettant pour trois colonnes des valeurs supérieures à 1000. L'objectif ici est de montrer que les valeurs sont trop différentes pour obtenir de bons résultats de classification. SVM est très sensible à la standardisation."
      ]
    },
    {
      "cell_type": "code",
      "metadata": {
        "ExecuteTime": {
          "end_time": "2020-10-10T08:41:09.085788Z",
          "start_time": "2020-10-10T08:41:00.054Z"
        },
        "id": "Hi9pqOMW0a0F"
      },
      "source": [
        "for i in range (len(iris.data)):\n",
        "    for j in range (0,2):\n",
        "        val = iris.data[i][j]\n",
        "        value = val*1000\n",
        "        iris.data[i][j]=value"
      ],
      "execution_count": 330,
      "outputs": []
    },
    {
      "cell_type": "markdown",
      "metadata": {
        "id": "swV7-ud_0a0G"
      },
      "source": [
        "Définition de X et de y"
      ]
    },
    {
      "cell_type": "code",
      "metadata": {
        "ExecuteTime": {
          "end_time": "2020-10-10T08:41:09.087089Z",
          "start_time": "2020-10-10T08:41:00.058Z"
        },
        "id": "1_XVBNoL0a0G"
      },
      "source": [
        "X = iris.data\n",
        "y = iris.target"
      ],
      "execution_count": 331,
      "outputs": []
    },
    {
      "cell_type": "code",
      "metadata": {
        "ExecuteTime": {
          "end_time": "2020-10-10T08:41:09.088636Z",
          "start_time": "2020-10-10T08:41:00.064Z"
        },
        "id": "2CtalykL0a0G"
      },
      "source": [
        "trainsize=0.7 # 70% pour le jeu d'apprentissage, il reste 30% du jeu de données pour le test\n",
        "\n",
        "testsize= 0.3\n",
        "seed=30\n",
        "X_train,X_test,y_train,y_test=train_test_split(X, \n",
        "                                               y, \n",
        "                                               train_size=trainsize, \n",
        "                                               random_state=seed,\n",
        "                                               test_size=testsize)"
      ],
      "execution_count": 332,
      "outputs": []
    },
    {
      "cell_type": "markdown",
      "metadata": {
        "id": "Xk6sKc4c0a0G"
      },
      "source": [
        "Fonction de comptage pour voir combien d'instances sont mal classés après la classification."
      ]
    },
    {
      "cell_type": "code",
      "metadata": {
        "ExecuteTime": {
          "end_time": "2020-10-10T08:41:09.094391Z",
          "start_time": "2020-10-10T08:41:00.072Z"
        },
        "id": "bTUCWtlK0a0G"
      },
      "source": [
        "def cpt_mal_classes(y_test,result):\n",
        "    nb=0\n",
        "    for i in range(len(y_test)):\n",
        "        if y_test[i] != result [i]:\n",
        "            nb=nb+1\n",
        "    return nb       \n",
        "\n",
        "def print_nb_classes (taille,nb):\n",
        "    print (\"Taille des données à tester\",\n",
        "       taille, \n",
        "       \" - mal classées : \",nb)    "
      ],
      "execution_count": 333,
      "outputs": []
    },
    {
      "cell_type": "markdown",
      "metadata": {
        "id": "hFH0GI0Q0a0G"
      },
      "source": [
        "Première classification avec SVM. L'objectif ici est de montrer que SVM est très sensible à la standardisation. Il suffit de regarder l'accuracy pour s'en convaincre."
      ]
    },
    {
      "cell_type": "code",
      "metadata": {
        "ExecuteTime": {
          "end_time": "2020-10-10T08:41:09.095884Z",
          "start_time": "2020-10-10T08:41:00.077Z"
        },
        "id": "x1oV22LD0a0G",
        "colab": {
          "base_uri": "https://localhost:8080/",
          "height": 578
        },
        "outputId": "ebda4dc5-e013-405e-eb29-843fe8208a5e"
      },
      "source": [
        "clf.fit(X_train, y_train)\n",
        "\n",
        "y_pred = clf.predict(X_test)\n",
        "nb=cpt_mal_classes(y_test,y_pred)\n",
        "taille=len(y_test)\n",
        "print_nb_classes (len(y_test),nb)\n",
        "MyshowAllScores(y_test,y_pred)\n"
      ],
      "execution_count": 334,
      "outputs": [
        {
          "output_type": "stream",
          "name": "stdout",
          "text": [
            "Taille des données à tester 45  - mal classées :  10\n",
            "Accuracy : 0.778\n",
            "Classification Report\n",
            "              precision    recall  f1-score   support\n",
            "\n",
            "           0    1.00000   1.00000   1.00000        13\n",
            "           1    0.56522   1.00000   0.72222        13\n",
            "           2    1.00000   0.47368   0.64286        19\n",
            "\n",
            "    accuracy                        0.77778        45\n",
            "   macro avg    0.85507   0.82456   0.78836        45\n",
            "weighted avg    0.87440   0.77778   0.76896        45\n",
            "\n"
          ]
        },
        {
          "output_type": "display_data",
          "data": {
            "image/png": "[encoded data removed]",
            "text/plain": [
              "<Figure size 576x360 with 2 Axes>"
            ]
          },
          "metadata": {}
        }
      ]
    },
    {
      "cell_type": "markdown",
      "metadata": {
        "id": "fSS9YwJl0a0G"
      },
      "source": [
        "Par la suite nous allons donc utiliser MinMaxScaler () pour standardiser les données.   \n",
        "\n",
        "Nous sauvegardons également le jeu de test (X_save=X_test.copy()). L'objectif est de sauvegarder le modèle pour évaluer en le rechargeant si le nombre d'instances bien classées est le même que celui qui a été prédit lors de l'apprentissage. "
      ]
    },
    {
      "cell_type": "code",
      "metadata": {
        "ExecuteTime": {
          "end_time": "2020-10-10T08:41:09.097297Z",
          "start_time": "2020-10-10T08:41:00.083Z"
        },
        "id": "_oiLxT6N0a0H"
      },
      "source": [
        "trainsize=0.7 # 70% pour le jeu d'apprentissage, il reste 30% du jeu de données pour le test\n",
        "\n",
        "testsize= 0.3\n",
        "seed=30\n",
        "X_train,X_test,y_train,y_test=train_test_split(X, \n",
        "                                               y, \n",
        "                                               train_size=trainsize, \n",
        "                                               random_state=seed,\n",
        "                                               test_size=testsize)"
      ],
      "execution_count": 335,
      "outputs": []
    },
    {
      "cell_type": "markdown",
      "metadata": {
        "id": "-AoRzD890a0H"
      },
      "source": [
        " \n",
        "\n",
        "La standardisation a été faite car les valeurs du jeu de données ne permettait pas de pouvoir utiliser le classifieur directement. En sauvegardant le jeu avant la standardisation nous simulons le fait que nous arrivons avec un nouveau jeu de données d'iris."
      ]
    },
    {
      "cell_type": "code",
      "metadata": {
        "ExecuteTime": {
          "end_time": "2020-10-10T08:41:09.098675Z",
          "start_time": "2020-10-10T08:41:00.088Z"
        },
        "id": "MJp7Twnz0a0H"
      },
      "source": [
        "from sklearn.preprocessing import MinMaxScaler\n",
        "scaler = MinMaxScaler()\n",
        "X_train = scaler.fit_transform(X_train)\n",
        "X_save=X_test.copy()\n",
        "X_test = scaler.fit_transform(X_test)"
      ],
      "execution_count": 336,
      "outputs": []
    },
    {
      "cell_type": "code",
      "metadata": {
        "ExecuteTime": {
          "end_time": "2020-10-10T08:41:09.100201Z",
          "start_time": "2020-10-10T08:41:00.093Z"
        },
        "id": "QzzeNmbA0a0H",
        "colab": {
          "base_uri": "https://localhost:8080/",
          "height": 578
        },
        "outputId": "f373e32a-8325-4625-af97-719c1267a04a"
      },
      "source": [
        "clf.fit(X_train, y_train)\n",
        "\n",
        "y_pred = clf.predict(X_test)\n",
        "nb=cpt_mal_classes(y_test,y_pred)\n",
        "taille=len(y_test)\n",
        "print_nb_classes (len(y_test),nb)\n",
        "MyshowAllScores(y_test,y_pred)"
      ],
      "execution_count": 337,
      "outputs": [
        {
          "output_type": "stream",
          "name": "stdout",
          "text": [
            "Taille des données à tester 45  - mal classées :  2\n",
            "Accuracy : 0.956\n",
            "Classification Report\n",
            "              precision    recall  f1-score   support\n",
            "\n",
            "           0    1.00000   1.00000   1.00000        13\n",
            "           1    0.92308   0.92308   0.92308        13\n",
            "           2    0.94737   0.94737   0.94737        19\n",
            "\n",
            "    accuracy                        0.95556        45\n",
            "   macro avg    0.95682   0.95682   0.95682        45\n",
            "weighted avg    0.95556   0.95556   0.95556        45\n",
            "\n"
          ]
        },
        {
          "output_type": "display_data",
          "data": {
            "image/png": "[encoded data removed]",
            "text/plain": [
              "<Figure size 576x360 with 2 Axes>"
            ]
          },
          "metadata": {}
        }
      ]
    },
    {
      "cell_type": "markdown",
      "metadata": {
        "id": "Ga0fksGR0a0H"
      },
      "source": [
        "Sauvegarde du modèle appris"
      ]
    },
    {
      "cell_type": "code",
      "metadata": {
        "ExecuteTime": {
          "end_time": "2020-10-10T08:41:09.101734Z",
          "start_time": "2020-10-10T08:41:00.098Z"
        },
        "id": "RfC8V3fw0a0H",
        "colab": {
          "base_uri": "https://localhost:8080/"
        },
        "outputId": "f42e8041-a57b-47e7-8a9b-9fa0d50ef373"
      },
      "source": [
        "print(\"\\nSauvegarde du modèle\") \n",
        "filename = 'firstmodel.pkl'\n",
        "pickle.dump(clf, open(filename, 'wb'))"
      ],
      "execution_count": 338,
      "outputs": [
        {
          "output_type": "stream",
          "name": "stdout",
          "text": [
            "\n",
            "Sauvegarde du modèle\n"
          ]
        }
      ]
    },
    {
      "cell_type": "markdown",
      "metadata": {
        "id": "v9ldkyo10a0H"
      },
      "source": [
        "Ouverture du modèle pour le tester. Ici nous reprenons le jeu de test qui n'a pas eu l'étape de standardisation comme nouvelles données, i.e. nous avons de nouveaux IRIS. Si le modèle est bien appris le nombre d'objets mal classés devrait être le même."
      ]
    },
    {
      "cell_type": "code",
      "metadata": {
        "ExecuteTime": {
          "end_time": "2020-10-10T08:41:09.103230Z",
          "start_time": "2020-10-10T08:41:00.103Z"
        },
        "id": "4wdjOKzU0a0H",
        "colab": {
          "base_uri": "https://localhost:8080/",
          "height": 734
        },
        "outputId": "d419566e-17f7-4533-d573-49de9b619374"
      },
      "source": [
        "print (\"Chargement du modèle \\n\")\n",
        "filename = 'firstmodel.pkl'\n",
        "clf_loaded = pickle.load(open(filename, 'rb'))\n",
        "\n",
        "y_pred=clf_loaded.predict(X_save)\n",
        "\n",
        "nb=cpt_mal_classes(y_test,y_pred)\n",
        "taille=len(y_test)\n",
        "print_nb_classes (len(y_test),nb)\n",
        "MyshowAllScores(y_test,y_pred)"
      ],
      "execution_count": 339,
      "outputs": [
        {
          "output_type": "stream",
          "name": "stdout",
          "text": [
            "Chargement du modèle \n",
            "\n",
            "Taille des données à tester 45  - mal classées :  26\n",
            "Accuracy : 0.422\n",
            "Classification Report\n",
            "              precision    recall  f1-score   support\n",
            "\n",
            "           0    0.00000   0.00000   0.00000        13\n",
            "           1    0.00000   0.00000   0.00000        13\n",
            "           2    0.42222   1.00000   0.59375        19\n",
            "\n",
            "    accuracy                        0.42222        45\n",
            "   macro avg    0.14074   0.33333   0.19792        45\n",
            "weighted avg    0.17827   0.42222   0.25069        45\n",
            "\n"
          ]
        },
        {
          "output_type": "stream",
          "name": "stderr",
          "text": [
            "/usr/local/lib/python3.7/dist-packages/sklearn/metrics/_classification.py:1318: UndefinedMetricWarning: Precision and F-score are ill-defined and being set to 0.0 in labels with no predicted samples. Use `zero_division` parameter to control this behavior.\n",
            "  _warn_prf(average, modifier, msg_start, len(result))\n",
            "/usr/local/lib/python3.7/dist-packages/sklearn/metrics/_classification.py:1318: UndefinedMetricWarning: Precision and F-score are ill-defined and being set to 0.0 in labels with no predicted samples. Use `zero_division` parameter to control this behavior.\n",
            "  _warn_prf(average, modifier, msg_start, len(result))\n",
            "/usr/local/lib/python3.7/dist-packages/sklearn/metrics/_classification.py:1318: UndefinedMetricWarning: Precision and F-score are ill-defined and being set to 0.0 in labels with no predicted samples. Use `zero_division` parameter to control this behavior.\n",
            "  _warn_prf(average, modifier, msg_start, len(result))\n"
          ]
        },
        {
          "output_type": "display_data",
          "data": {
            "image/png": "[encoded data removed]",
            "text/plain": [
              "<Figure size 576x360 with 2 Axes>"
            ]
          },
          "metadata": {}
        }
      ]
    },
    {
      "cell_type": "markdown",
      "metadata": {
        "id": "GfCFV6qG0a0H"
      },
      "source": [
        "Nous pouvons constater qu'il y a presque plus d'objets mal classés. Comme nous avons fait une standardisation dans les étapes précédentes celle là n'a pas pu être faite pour les nouvelles données. La standardisation doit donc être faite pour les nouvelles données mais elle nécessite de pouvoir récupérer les anciennes valeurs pour tout standardiser.   \n",
        "\n",
        "Les pipelines sont donc utiles\n",
        "pour pouvoir tout sauvegarder (l'étape de standardisation et l'application du modèle). "
      ]
    },
    {
      "cell_type": "code",
      "metadata": {
        "ExecuteTime": {
          "end_time": "2020-10-10T08:41:09.105319Z",
          "start_time": "2020-10-10T08:41:00.108Z"
        },
        "id": "N07r0JMR0a0H",
        "colab": {
          "base_uri": "https://localhost:8080/",
          "height": 612
        },
        "outputId": "90a9d240-de7b-4882-c194-1231402a3068"
      },
      "source": [
        "pipeline = Pipeline([('vect', MinMaxScaler()),\n",
        "                ('clf', SVC(gamma='scale')),\n",
        "               ])\n",
        "\n",
        "\n",
        "\n",
        "\n",
        "X=iris.data\n",
        "y=iris.target\n",
        "\n",
        "trainsize=0.7 # 70% pour le jeu d'apprentissage, il reste 30% du jeu de données pour le test\n",
        "\n",
        "testsize= 0.3\n",
        "seed=30\n",
        "X_train,X_test,y_train,y_test=train_test_split(X, \n",
        "                                               y, \n",
        "                                               train_size=trainsize, \n",
        "                                               random_state=seed,\n",
        "                                               test_size=testsize)\n",
        "\n",
        "X_save=X_test.copy()\n",
        "\n",
        "pipeline.fit(X_train, y_train)\n",
        "\n",
        "y_pred = pipeline.predict(X_test)\n",
        "\n",
        "nb=cpt_mal_classes(y_test,y_pred)\n",
        "taille=len(y_test)\n",
        "print_nb_classes (len(y_test),nb)\n",
        "MyshowAllScores(y_test,y_pred)\n",
        "\n",
        "\n",
        "\n",
        "print(\"\\nSauvegarde du pipeline \") \n",
        "filename = 'avecscaler.pkl'\n",
        "pickle.dump(pipeline, open(filename, 'wb'))"
      ],
      "execution_count": 340,
      "outputs": [
        {
          "output_type": "stream",
          "name": "stdout",
          "text": [
            "Taille des données à tester 45  - mal classées :  1\n",
            "Accuracy : 0.978\n",
            "Classification Report\n",
            "              precision    recall  f1-score   support\n",
            "\n",
            "           0    1.00000   1.00000   1.00000        13\n",
            "           1    0.92857   1.00000   0.96296        13\n",
            "           2    1.00000   0.94737   0.97297        19\n",
            "\n",
            "    accuracy                        0.97778        45\n",
            "   macro avg    0.97619   0.98246   0.97865        45\n",
            "weighted avg    0.97937   0.97778   0.97789        45\n",
            "\n"
          ]
        },
        {
          "output_type": "display_data",
          "data": {
            "image/png": "[encoded data removed]",
            "text/plain": [
              "<Figure size 576x360 with 2 Axes>"
            ]
          },
          "metadata": {}
        },
        {
          "output_type": "stream",
          "name": "stdout",
          "text": [
            "\n",
            "Sauvegarde du pipeline \n"
          ]
        }
      ]
    },
    {
      "cell_type": "code",
      "metadata": {
        "ExecuteTime": {
          "end_time": "2020-10-10T08:41:09.106719Z",
          "start_time": "2020-10-10T08:41:00.113Z"
        },
        "id": "ZLRq3N1k0a0H",
        "colab": {
          "base_uri": "https://localhost:8080/",
          "height": 612
        },
        "outputId": "62f2e2c6-9493-417a-dfe8-f458ef991978"
      },
      "source": [
        "print (\"Chargement du modèle \\n\")\n",
        "filename = 'avecscaler.pkl'\n",
        "clf_loaded = pickle.load(open(filename, 'rb'))\n",
        "\n",
        "y_pred=clf_loaded.predict(X_save)\n",
        "nb=cpt_mal_classes(y_test,y_pred)\n",
        "taille=len(y_test)\n",
        "print_nb_classes (len(y_test),nb)\n",
        "\n",
        "MyshowAllScores(y_test,y_pred)"
      ],
      "execution_count": 341,
      "outputs": [
        {
          "output_type": "stream",
          "name": "stdout",
          "text": [
            "Chargement du modèle \n",
            "\n",
            "Taille des données à tester 45  - mal classées :  1\n",
            "Accuracy : 0.978\n",
            "Classification Report\n",
            "              precision    recall  f1-score   support\n",
            "\n",
            "           0    1.00000   1.00000   1.00000        13\n",
            "           1    0.92857   1.00000   0.96296        13\n",
            "           2    1.00000   0.94737   0.97297        19\n",
            "\n",
            "    accuracy                        0.97778        45\n",
            "   macro avg    0.97619   0.98246   0.97865        45\n",
            "weighted avg    0.97937   0.97778   0.97789        45\n",
            "\n"
          ]
        },
        {
          "output_type": "display_data",
          "data": {
            "image/png": "[encoded data removed]",
            "text/plain": [
              "<Figure size 576x360 with 2 Axes>"
            ]
          },
          "metadata": {}
        }
      ]
    },
    {
      "cell_type": "markdown",
      "metadata": {
        "id": "3zDKNRxR0a0I"
      },
      "source": [
        "**Attention :** si vous testez ce modèle sauvegardé sous ce notebook il fonctionnera. Si, par exemple, vous ouvrez un fichier à part et lancer le code précédent cela fonctionnera, sans doute, encore$^*$ mais .....   \n",
        "Imaginer que l'on réalise un traitement particulier, via une fonction f () dans nos données, qui soit appelée dans le pipeline :  \n",
        "*pipeline = Pipeline([('vect', f()),*  \n",
        "Si maintenant vous utilisez dans votre autre notebook ou dans un programme extérieur votre modèle. Alors qu'il fonctionnait bien dans votre notebook précédent, vous verrez afficher un message d'erreur du type : *Can't get attribute 'f'*   \n",
        "En fait, pickle sauvegarde une référence à la fonction f. Dans le premier cas, votre notebook initial, cette fonction a été définie et donc pickle va pouvoir exécuter le code de cette fonction. Dans l'autre notebook, il va rechercher le code à exécuter et donc ... il ne le trouvera pas.   \n",
        "\n",
        "Il est possible d'utiliser *Drill* qui se comporte exactement de la même manière que *pickle* mais qui lui sauvegarde aussi la fonction. Alors la solution est-elle d'utiliser *Drill* ? C'est tout à fait déconseillé. Bien sûr pour votre modèle avec votre fonction il n'y aura pas de problèmes mais souvent on va utiliser des modèles définis par quelqu'un d'autre .... et pour des raisons de sécurités évidentes (on ne sait pas ce que fait la fonction cachée !!!) ... on évite cette approche. La solution consiste tout simplement à sauvegarder le modèle et les fonctions nécessaires pour son fonctionnement et de faire un import de celles-ci là où le modèle est utilisé. \n",
        "\n"
      ]
    },
    {
      "cell_type": "markdown",
      "metadata": {
        "id": "vUgEbCVt0a0I"
      },
      "source": [
        "## Une petite mise en  pratique\n",
        "\n"
      ]
    },
    {
      "cell_type": "markdown",
      "metadata": {
        "id": "2ZzCx3ruNDt6"
      },
      "source": [
        "Jusqu'à présent vous n'avez que vu (ou revu) les principes généraux de la classification. Avant de s'attaquer aux données textuelles, voici un petit exercice pour mettre en oeuvre les concepts introduits dans ce notebook. Les IRIS est connu, très connu ... alors changeons de domaine pour ... les pingouins\n",
        "\n",
        "\n",
        "    \n",
        "De nombreux jeux de données ont été proposés en alternative à Iris qui est très (trop ?) utilisé. Le jeu de données que nous allons utiliser possède des caractéristiques assez similaires à IRIS mais concerne les espèces de pingouins. Il est disponible ici : https://allisonhorst.github.io/palmerpenguins/  \n",
        "    \n",
        "<IMG SRC=\"http://www.lirmm.fr/~poncelet/EGC2021/pinguins.png\" align=\"center\" >  \n",
        "    \n",
        "Il contient à l'origine 17 caractéristiques différentes ('studyName', 'Sample Number', 'Species', 'Region', 'Island', 'Stage','Individual ID', 'Clutch Completion', 'Date Egg', 'Culmen Length (mm)','Culmen Depth (mm)', 'Flipper Length (mm)', 'Body Mass (g)', 'Sex','Delta 15 N (o/oo)', 'Delta 13 C (o/oo)', 'Comments') et concerne 3 espèces de pingouins différentes ('Adelie Penguin (Pygoscelis adeliae)', 'Gentoo penguin (Pygoscelis papua)', 'Chinstrap penguin (Pygoscelis antarctica)'). L'un des objectifs est à partir des différentes caractéristiques de prédire l'espèce de pingouins.   \n",
        "Le jeu de données d'origine contient de nombreuses valeurs manquantes, des données à la fois catégorielles, numériques, etc. Aussi nous en proposons une version nettoyée que vous pouvez récupérer : "
      ]
    },
    {
      "cell_type": "code",
      "metadata": {
        "id": "FsIJqLRs0a0I",
        "colab": {
          "base_uri": "https://localhost:8080/"
        },
        "outputId": "deb580d0-c185-4b07-e366-242feda350d4"
      },
      "source": [
        "!wget https://www.lirmm.fr/~poncelet/Ressources/penguins.csv"
      ],
      "execution_count": 342,
      "outputs": [
        {
          "output_type": "stream",
          "name": "stdout",
          "text": [
            "--2022-01-12 16:11:12--  https://www.lirmm.fr/~poncelet/Ressources/penguins.csv\n",
            "Resolving www.lirmm.fr (www.lirmm.fr)... 193.49.104.251\n",
            "Connecting to www.lirmm.fr (www.lirmm.fr)|193.49.104.251|:443... connected.\n",
            "HTTP request sent, awaiting response... 200 OK\n",
            "Length: 27042 (26K) [text/csv]\n",
            "Saving to: ‘penguins.csv.1’\n",
            "\n",
            "penguins.csv.1      100%[===================>]  26.41K  --.-KB/s    in 0.1s    \n",
            "\n",
            "2022-01-12 16:11:13 (271 KB/s) - ‘penguins.csv.1’ saved [27042/27042]\n",
            "\n"
          ]
        }
      ]
    },
    {
      "cell_type": "markdown",
      "metadata": {
        "id": "B5zxSrwl0a0I"
      },
      "source": [
        "<font color=red>Exercice :</font> la cellule suivante permet de charger le dossier et d'avoir quelques informations sur les données manipulées. En outre, il propose d'appliquer un standardScaler sur les données prédictives. L'objectif à présent est de proposer un classifier qui soit capable de prédire le mieux possible l'espèce de pingouin.  \n",
        "\n",
        "**Indication :** SVM se comporte bien sur ce jeu de données."
      ]
    },
    {
      "cell_type": "code",
      "metadata": {
        "id": "F3Y-uKCL0a0I",
        "colab": {
          "base_uri": "https://localhost:8080/"
        },
        "outputId": "b2fab2bf-9801-4d72-9b77-5c1cf3c136f2"
      },
      "source": [
        "# lecture du fichier\n",
        "df_penguins=pd.read_csv(\"penguins.csv\", encoding='utf8')\n",
        "\n",
        "# les premières lignes\n",
        "print (df_penguins.head())\n",
        "\n",
        "# les différentes colonnes\n",
        "print (df_penguins.columns)\n",
        "\n",
        "# le nombre d'enregistrements\n",
        "print (df_penguins.shape)\n",
        "\n",
        "# la répartition du nombre de pingouins\n",
        "print (\"répartition des espèces de pingouins :\\n\",df_penguins['Species'].value_counts())\n",
        "\n",
        "# selection des variables prédictives et à prédire\n",
        "array = df_penguins.values\n",
        "X = array[:,0:6] \n",
        "y = array[:,6]\n",
        "\n",
        "# attention étant donné la différence entre les valeurs il est nécessaire de normaliser\n",
        "standardscaler = StandardScaler()\n",
        "X_standardscale = standardscaler.fit_transform(X)\n",
        "X=X_standardscale"
      ],
      "execution_count": 343,
      "outputs": [
        {
          "output_type": "stream",
          "name": "stdout",
          "text": [
            "   Culmen Length (mm)  ...                              Species\n",
            "0                39.5  ...  Adelie Penguin (Pygoscelis adeliae)\n",
            "1                40.3  ...  Adelie Penguin (Pygoscelis adeliae)\n",
            "2                36.7  ...  Adelie Penguin (Pygoscelis adeliae)\n",
            "3                39.3  ...  Adelie Penguin (Pygoscelis adeliae)\n",
            "4                38.9  ...  Adelie Penguin (Pygoscelis adeliae)\n",
            "\n",
            "[5 rows x 7 columns]\n",
            "Index(['Culmen Length (mm)', 'Culmen Depth (mm)', 'Flipper Length (mm)',\n",
            "       'Body Mass (g)', 'Delta 15 N (o/oo)', 'Delta 13 C (o/oo)', 'Species'],\n",
            "      dtype='object')\n",
            "(330, 7)\n",
            "répartition des espèces de pingouins :\n",
            " Adelie Penguin (Pygoscelis adeliae)          141\n",
            "Gentoo penguin (Pygoscelis papua)            122\n",
            "Chinstrap penguin (Pygoscelis antarctica)     67\n",
            "Name: Species, dtype: int64\n"
          ]
        }
      ]
    },
    {
      "cell_type": "code",
      "metadata": {
        "id": "Fsqr8MzraQXx"
      },
      "source": [
        ""
      ],
      "execution_count": 343,
      "outputs": []
    },
    {
      "cell_type": "markdown",
      "metadata": {
        "id": "g3eAuRqa0a0J"
      },
      "source": [
        "<font color=blue>Solution :</font> "
      ]
    },
    {
      "cell_type": "code",
      "metadata": {
        "id": "WuXblG1H-dKe",
        "colab": {
          "base_uri": "https://localhost:8080/"
        },
        "outputId": "5c10157f-2336-4c28-84d3-d5fb9f451f37"
      },
      "source": [
        "# il suffit d'appliquer les approches précédentes. \n",
        "# D'abord on peut comparer des algorithmes de classification \n",
        "# puis après sélectionner le meilleur et rechercher ses hyperparamètres.\n",
        "\n",
        "\n",
        "seed = 7\n",
        "scoring = 'accuracy'\n",
        "models = []\n",
        "models.append(('LR', LogisticRegression(solver='lbfgs')))\n",
        "models.append(('KNN', KNeighborsClassifier()))\n",
        "models.append(('CART', DecisionTreeClassifier()))\n",
        "models.append(('NB', GaussianNB()))\n",
        "models.append(('SVM', SVC(gamma='auto')))\n",
        "\n",
        "results = []\n",
        "names = []\n",
        "for name,model in models:\n",
        "    kfold = KFold(n_splits=10, random_state=seed, shuffle=True)\n",
        "    start_time = time.time()\n",
        "    cv_results = cross_val_score(model, X, y, cv=kfold, scoring=scoring)\n",
        "    #pour avoir les paramètres utilisés dans le modèle enlever commentaire ligne suivante\n",
        "    #print (model.get_params())\n",
        "    print (\"Time pour\",name,\" %0.5f\"%(time.time() - start_time),'s')\n",
        "    results.append(cv_results)\n",
        "    names.append(name)\n",
        "    msg = \"%s: %0.3f (%0.3f)\" % (name, cv_results.mean(), cv_results.std())\n",
        "    print(msg)       \n",
        "\n",
        "\n",
        "# SVC a le meilleur score\n",
        "classifiers = {\n",
        "    'SVC': SVC()\n",
        "}\n",
        "\n",
        "params = {'SVC':[{'C': [0.001, 0.01, 0.1, 1, 10], \n",
        "    'gamma' : [0.001, 0.01, 0.1, 1], \n",
        "    'kernel': ['linear','rbf']}]  }\n",
        "\n",
        "\n",
        "\n",
        "       \n",
        "results = []\n",
        "for key,value in classifiers.items():\n",
        "    gd_sr = GridSearchCV(estimator=value,  \n",
        "                     param_grid=params[key],\n",
        "                     scoring='accuracy',\n",
        "                     cv=5,\n",
        "                     n_jobs=1)\n",
        "    gd_sr.fit(X, y)  \n",
        "    result=Result_Parameters(key,gd_sr.best_score_,gd_sr.best_estimator_)\n",
        "    results.append(result)   \n",
        "    \n",
        "    \n",
        "    \n",
        "results=sorted(results, key=lambda result: result.score, reverse=True) \n",
        "\n",
        "print ('Le meilleur resultat :  ')\n",
        "print ('Classifier : ',results[0].name, \n",
        "       ' score %0.2f' %results[0].score, \n",
        "       ' avec ',results[0].parameters,' ')\n",
        "\n",
        "print ('Tous les résultats : ')\n",
        "for result in results:\n",
        "    print ('Classifier : ',result.name, \n",
        "           ' score %0.2f' %result.score, \n",
        "           ' avec ',result.parameters,' ')"
      ],
      "execution_count": 344,
      "outputs": [
        {
          "output_type": "stream",
          "name": "stdout",
          "text": [
            "Time pour LR  0.10782 s\n",
            "LR: 0.997 (0.009)\n",
            "Time pour KNN  0.04040 s\n",
            "KNN: 1.000 (0.000)\n",
            "Time pour CART  0.02252 s\n",
            "CART: 0.961 (0.036)\n",
            "Time pour NB  0.02559 s\n",
            "NB: 0.988 (0.015)\n",
            "Time pour SVM  0.03341 s\n",
            "SVM: 0.994 (0.012)\n",
            "Le meilleur resultat :  \n",
            "Classifier :  SVC  score 1.00  avec  SVC(C=1, gamma=0.001, kernel='linear')  \n",
            "Tous les résultats : \n",
            "Classifier :  SVC  score 1.00  avec  SVC(C=1, gamma=0.001, kernel='linear')  \n"
          ]
        }
      ]
    },
    {
      "cell_type": "markdown",
      "metadata": {
        "id": "xhlX3vTn0a0J"
      },
      "source": [
        "Maintenant que nous avons vu comment mettre en place un classifier et l'évaluer, nous abordons les données textuelles .... dans le notebook \"**Ingénierie des données textuelles**\""
      ]
    }
  ]
}