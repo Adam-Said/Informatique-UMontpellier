{
  "nbformat": 4,
  "nbformat_minor": 0,
  "metadata": {
    "kernelspec": {
      "display_name": "Python 3",
      "language": "python",
      "name": "python3"
    },
    "language_info": {
      "codemirror_mode": {
        "name": "ipython",
        "version": 3
      },
      "file_extension": ".py",
      "mimetype": "text/x-python",
      "name": "python",
      "nbconvert_exporter": "python",
      "pygments_lexer": "ipython3",
      "version": "3.6.4"
    },
    "latex_metadata": {
      "affiliation": "Montpellier University",
      "author": "P. Poncelet",
      "title": "Ingenierie des donnees"
    },
    "toc": {
      "base_numbering": 1,
      "nav_menu": {},
      "number_sections": true,
      "sideBar": true,
      "skip_h1_title": false,
      "title_cell": "Table of Contents",
      "title_sidebar": "Contents",
      "toc_cell": false,
      "toc_position": {},
      "toc_section_display": true,
      "toc_window_display": false
    },
    "colab": {
      "name": "Ingénierie des données.ipynb",
      "provenance": [],
      "collapsed_sections": []
    }
  },
  "cells": [
    {
      "cell_type": "markdown",
      "metadata": {
        "id": "bVPHpKI3dX4k"
      },
      "source": [
        "<H1> Ingénierie des données </H1>\n",
        "\n",
        "Dans ce notebook nous présentons l'une des étapes essentielle de la classification : l'ingénierie des données. Nous abordons le traitement des données catégorielles, la mise à l'échelle et le traitement des valeurs manquantes. Il existe de très nombreuses méthodes qui ont forcément un impact sur le résultat de la classification. Il est important de bien les comprendre et de rechercher celle qui est la plus adaptée en fonction du contexte."
      ]
    },
    {
      "cell_type": "markdown",
      "metadata": {
        "id": "yw5XPIzm5QjF"
      },
      "source": [
        "## Installation\n"
      ]
    },
    {
      "cell_type": "markdown",
      "metadata": {
        "id": "8IVxaMpO5MfB"
      },
      "source": [
        "Avant de commencer, il est nécessaire de déjà posséder dans son environnement toutes les librairies utiles. Dans la seconde cellule nous importons toutes les librairies qui seront utiles à ce notebook. Il se peut que, lorsque vous lanciez l'éxecution de cette cellule, une soit absente. Dans ce cas il est nécessaire de l'installer. Pour cela dans la cellule suivante utiliser la commande :  \n",
        "\n",
        "*! pip install nom_librairie*  \n",
        "\n",
        "\n",
        "**Attention :** il est fortement conseillé lorsque l'une des librairies doit être installer de relancer le kernel de votre notebook.  \n",
        "\n",
        "\n",
        "**Remarque :** même si toutes les librairies sont importées dès le début, les librairies utiles pour des fonctions présentées au cours de ce notebook sont ré-importées de manière à indiquer d'où elles viennent et ainsi faciliter la réutilisation de la fonction dans un autre projet."
      ]
    },
    {
      "cell_type": "code",
      "metadata": {
        "id": "S9KacgPW5xS1"
      },
      "source": [
        "# utiliser cette cellule pour installer les librairies manquantes\n",
        "# pour cela il suffit de taper dans cette cellule : !pip install nom_librairie_manquante\n",
        "# d'exécuter la cellule et de relancer la cellule suivante pour voir si tout se passe bien\n",
        "# recommencer tant que toutes les librairies ne sont pas installées ...\n",
        "\n",
        "# sous Colab il faut déjà intégrer ces deux librairies\n",
        "\n",
        "#!pip install ... \n",
        "\n",
        "# eventuellement ne pas oublier de relancer le kernel du notebook"
      ],
      "execution_count": null,
      "outputs": []
    },
    {
      "cell_type": "code",
      "metadata": {
        "id": "clffIe3d581y"
      },
      "source": [
        "# Importation des différentes librairies utiles pour le notebook\n",
        "\n",
        "#Sickit learn met régulièrement à jour des versions et \n",
        "#indique des futurs warnings. \n",
        "#ces deux lignes permettent de ne pas les afficher.\n",
        "import warnings\n",
        "warnings.filterwarnings(\"ignore\", category=FutureWarning)\n",
        "\n",
        "# librairies générales\n",
        "import numpy as np\n",
        "import pandas as pd\n",
        "import sys\n",
        "from random import uniform\n",
        "\n",
        "# librairies visualisation\n",
        "import matplotlib.pyplot as plt\n",
        "import seaborn as sns\n",
        "\n",
        "# librairies scikit learn\n",
        "from sklearn import preprocessing\n",
        "from sklearn.preprocessing import KBinsDiscretizer\n",
        "from sklearn.preprocessing import LabelEncoder\n",
        "from sklearn.preprocessing import StandardScaler\n",
        "from sklearn.impute import SimpleImputer\n",
        "from sklearn.model_selection import train_test_split \n",
        "from sklearn.metrics import accuracy_score\n",
        "from sklearn.neighbors import KNeighborsClassifier"
      ],
      "execution_count": null,
      "outputs": []
    },
    {
      "cell_type": "markdown",
      "metadata": {
        "id": "E3SWSfWd66XX"
      },
      "source": [
        "Pour pouvoir sauvegarder sur votre répertoire Google Drive, il est nécessaire de fournir une autorisation. Pour cela il suffit d'éxecuter la ligne suivante et de saisir le code donné par Google."
      ]
    },
    {
      "cell_type": "code",
      "metadata": {
        "id": "BoQtKNnf68_a"
      },
      "source": [
        "# pour monter son drive Google Drive local\n",
        "from google.colab import drive\n",
        "drive.mount('/content/gdrive')"
      ],
      "execution_count": null,
      "outputs": []
    },
    {
      "cell_type": "markdown",
      "metadata": {
        "id": "7T3lSWny7FG6"
      },
      "source": [
        "Corriger éventuellement la ligne ci-dessous pour mettre le chemin vers un répertoire spécifique dans votre répertoire Google Drive :"
      ]
    },
    {
      "cell_type": "code",
      "metadata": {
        "id": "63CVlt3q7Kyd"
      },
      "source": [
        "my_local_drive='/content/gdrive/My Drive/Colab Notebooks/ML_FDS'\n",
        "# Ajout du path pour les librairies, fonctions et données\n",
        "sys.path.append(my_local_drive)\n",
        "# Se positionner sur le répertoire associé\n",
        "%cd $my_local_drive\n",
        "\n",
        "%pwd"
      ],
      "execution_count": null,
      "outputs": []
    },
    {
      "cell_type": "markdown",
      "metadata": {
        "id": "BxFrGRhldX4n"
      },
      "source": [
        "## Traitement des données catégorielles ou qualitatives"
      ]
    },
    {
      "cell_type": "markdown",
      "metadata": {
        "id": "M1c9ExQ9dX4o"
      },
      "source": [
        "De très nombreux jeux de données contiennent des données catégorielles comme une couleur, une adresse, etc. Même les classes peuvent être catégorielles (avis positif, avis négatif). De nombreux algorithmes ne sont pas capables de les traiter car ils considérent uniquement des valeurs numériques. Dans cette section nous présentons différentes manières de transformer les données catégorielles. Elles dépendent bien entendu du contexte. \n",
        "\n",
        "**Rappel** : les attributs pour lesquels il n'existe pas d'ordre sont appelés nominaux (par exemple les couleurs). En opposition ceux pour lesquels il existe un ordre sont appelés ordinaux (taille XL, L, M)."
      ]
    },
    {
      "cell_type": "markdown",
      "metadata": {
        "id": "lYHFgagkdX4o"
      },
      "source": [
        "Considérons l'exemple suivant qui contient des attributs numériques et catégoriels. "
      ]
    },
    {
      "cell_type": "code",
      "metadata": {
        "ExecuteTime": {
          "end_time": "2020-02-06T09:13:55.655212Z",
          "start_time": "2020-02-06T09:13:55.271348Z"
        },
        "id": "TiNzHksBdX4p"
      },
      "source": [
        "df = pd.DataFrame(\n",
        "    {'Taille': ['XL','L','M','S'], \n",
        "     'Couleur': ['bleu','blanc','rouge','vert'],\n",
        "     'Prix': [20.76,'nan',40.99,10.0],\n",
        "     'Classe': ['classe1','classe1','classe2','classe3']},\n",
        "    columns=['Taille','Couleur','Prix','Classe'])\n",
        "\n",
        "print ('Pour connaître les informations qui sont catégorielles, faire un df.info()')\n",
        "print (df.info())"
      ],
      "execution_count": null,
      "outputs": []
    },
    {
      "cell_type": "markdown",
      "metadata": {
        "id": "CF-Rs12zdX4r"
      },
      "source": [
        "Dans un jeu de données pour connaître les attributs qui ne sont pas numériques, il suffit de faire, pour un dataframe de nom df, un df.info() et les attributs non numériques apparaissent avec le type object.  Attention toutefois, lorsqu'il y a la présence de valeurs manquantes il se peut que l'attribut apparaisse avec le dtype objet. Par exemple en remplaçant le dataframe précédent par :  \n",
        "'Prix': [20.76,'nan',40.99,10.0]  \n",
        "l'information sur l'attribut prix sera : Prix       4 non-null object \n",
        "\n",
        "\n",
        "Il est également possible de faire un df.describe() qui affiche des statistiques (moyenne, max, min, etc) uniquement pour les attributs numériques."
      ]
    },
    {
      "cell_type": "code",
      "metadata": {
        "ExecuteTime": {
          "end_time": "2020-02-04T12:59:17.379216Z",
          "start_time": "2020-02-04T12:59:17.306938Z"
        },
        "id": "nDFL5vRbdX4r"
      },
      "source": [
        "print ('Pour connaître quelques statistiques, faire un df.describe()')\n",
        "\n",
        "display(df.describe())"
      ],
      "execution_count": null,
      "outputs": []
    },
    {
      "cell_type": "markdown",
      "metadata": {
        "id": "-zFz3sxJdX4s"
      },
      "source": [
        "Un df.describe() sur un attribut non numérique donne d'autres informations."
      ]
    },
    {
      "cell_type": "code",
      "metadata": {
        "ExecuteTime": {
          "end_time": "2020-02-04T12:59:17.399557Z",
          "start_time": "2020-02-04T12:59:17.382423Z"
        },
        "id": "hG18YI-ldX4s"
      },
      "source": [
        "display(df['Couleur'].describe())"
      ],
      "execution_count": null,
      "outputs": []
    },
    {
      "cell_type": "markdown",
      "metadata": {
        "id": "9tJLdUpidX4t"
      },
      "source": [
        "<H2> Remplacement de la valeur </H2>  \n",
        "La première approche la plus simple est de remplacer les valeurs. Considérons qu'il y ait un ordre pour les tailles tels que S=1, M=S+1 etc. Il est possible de transformer les valeurs à l'aide de la fonction map appliquée au dataframe"
      ]
    },
    {
      "cell_type": "code",
      "metadata": {
        "ExecuteTime": {
          "end_time": "2020-02-04T12:59:17.409531Z",
          "start_time": "2020-02-04T12:59:17.403701Z"
        },
        "id": "wZcEvkz9dX4t"
      },
      "source": [
        "#creation de la transformation\n",
        "replace_map = {'XL': 4, 'L': 3, 'M': 2, 'S': 1}"
      ],
      "execution_count": null,
      "outputs": []
    },
    {
      "cell_type": "code",
      "metadata": {
        "ExecuteTime": {
          "end_time": "2020-02-04T12:59:17.463179Z",
          "start_time": "2020-02-04T12:59:17.412670Z"
        },
        "id": "DIf4UERzdX4u"
      },
      "source": [
        "#creation d'une copie de df pour ne pas perdre le df initial\n",
        "df_test=df.copy(deep=True)\n",
        "\n",
        "print ('Application de la fonction map \\n')\n",
        "print (df_test['Taille'].map(replace_map))\n",
        "\n",
        "print (\"\\nAjout d'une colonne au dataframe avec application de la fonction map \\n\")\n",
        "df_test[\"Taille renommée\"]=df_test['Taille'].map(replace_map)\n",
        "\n",
        "display(df_test)       \n",
        "       \n",
        "print (\"\\nRemplacement direct de taille avec les nouvelles valeurs\\n\")\n",
        "   \n",
        "df_test.replace(replace_map, inplace=True)\n",
        "\n",
        "display(df_test)"
      ],
      "execution_count": null,
      "outputs": []
    },
    {
      "cell_type": "markdown",
      "metadata": {
        "id": "s2ajwH4rdX4u"
      },
      "source": [
        "<H2> Label encoding </H2>\n",
        "\n",
        "Une autre approche appelée label encoding consiste à transformer l'ensemble des valeurs par un nombre de 0 au nombre-1 de catégories. Il suffit pour cela d'utiliser la fonction *LabelEncoder*."
      ]
    },
    {
      "cell_type": "code",
      "metadata": {
        "ExecuteTime": {
          "end_time": "2020-02-04T12:59:18.896505Z",
          "start_time": "2020-02-04T12:59:17.466500Z"
        },
        "id": "JhRYZLCndX4u"
      },
      "source": [
        "from sklearn.preprocessing import LabelEncoder\n",
        "\n",
        "#creation d'une copie de df pour ne pas perdre le df initial\n",
        "df_test=df.copy(deep=True)\n",
        "\n",
        "class_label_encoder = LabelEncoder()\n",
        "print (\"\\n Affichage des transformations\\n\")\n",
        "print(class_label_encoder.fit_transform(df_test['Classe'].values))\n",
        "\n",
        "print (\"\\nAjout d'une colonne au dataframe\")\n",
        "df_test[\"Classe renommée\"]=class_label_encoder.fit_transform(df_test[\"Classe\"])\n",
        "\n",
        "display (df_test)\n",
        "\n",
        "print (\"\\nRemplacement direct de classe avec les nouvelles valeurs\\n\")\n",
        "df_test[\"Classe\"] = class_label_encoder.fit_transform(df_test[\"Classe\"])\n",
        "\n",
        "display(df_test)"
      ],
      "execution_count": null,
      "outputs": []
    },
    {
      "cell_type": "markdown",
      "metadata": {
        "id": "pJVZw0QQdX4v"
      },
      "source": [
        "<H2> One Hot Encoding</H2>  \n",
        "\n",
        "Le label encoding a l'avantage d'être direct à obtenir mais le désavantage de donner des valeurs croissantes qui peuvent être mal considérés par les classifieurs. Par exemple dans le cas des tailles il est plus logique que XL qui est le plus grand ait une grande valeur. Par contre pour les couleurs cela ne correspond pas à une réalité. On ne peut pas dire que bleu a 4 fois plus de poids que vert par exemple.  \n",
        "\n",
        "Le principe est de convertir chaque valeur de catégorie dans une nouvelle colonne et de mettre une valeur 1 ou 0 (vrai/faux) à la colonne. Cette approche a l'avantage de ne plus mettre de poids différents pour un attribut mais à l'inconvénient de rajouter un grand nombre de colonnes si le nombre de catégories est important. \n",
        "\n",
        "Scikit learn propose la fonction *get_dummies* pour effectuer la transformation. Cette dernière prend en paramètre le dataframe, les colonnes sur lesquelles doivent s'effectuer les transformation et un prefixe qui sera utilisé pour nommer les colonnes.  \n",
        "*pd.get_dummies(df,columns=['colA','colB',..],prefix = ['leprefix'])*"
      ]
    },
    {
      "cell_type": "code",
      "metadata": {
        "ExecuteTime": {
          "end_time": "2020-02-04T12:59:18.942956Z",
          "start_time": "2020-02-04T12:59:18.899753Z"
        },
        "id": "bn61c-n7dX4v"
      },
      "source": [
        "#creation d'une copie de df pour ne pas perdre le df initial\n",
        "df_test=df.copy(deep=True)\n",
        "\n",
        "print (\"\\n Affichage des transformations\\n\")\n",
        "print (pd.get_dummies(df_test[['Couleur']]))\n",
        "\n",
        "print (\"\\nAjout des colonne au dataframe\")\n",
        "df_test = pd.get_dummies(df_test,columns=['Couleur'],\n",
        "                         prefix = ['Coul'])\n",
        "\n",
        "display (df_test)"
      ],
      "execution_count": null,
      "outputs": []
    },
    {
      "cell_type": "markdown",
      "metadata": {
        "id": "xORRK97hdX4w"
      },
      "source": [
        "## Transformation de données continues en données discrètes "
      ]
    },
    {
      "cell_type": "markdown",
      "metadata": {
        "id": "yuHOW2RldX4w"
      },
      "source": [
        "Parfois il est nécessaire de devoir transformer des données continues en données discrètes. \n",
        "Par exemple si l'on a des revenues très variés il est préférable de les regrouper dans des catégories. \n",
        "Cette étape de groupement des données par classe s'appelle le binning ou la discretisation.  \n",
        "\n",
        "Scikitlearn propose la fonction KBinsDiscretizer qui permet de spécifier le nombre de groupe, le type d'encodage et la transformation."
      ]
    },
    {
      "cell_type": "code",
      "metadata": {
        "ExecuteTime": {
          "end_time": "2020-02-04T12:59:19.466280Z",
          "start_time": "2020-02-04T12:59:18.946242Z"
        },
        "id": "9ZMmHodRdX4x"
      },
      "source": [
        "print (\"Creation d'un jeu de données aléatoire de 100 lignes\")\n",
        "df_test = pd.DataFrame(\n",
        "    {'Sal': np.random.uniform(1000,10000,size=100)},columns=['Sal'])\n",
        "\n",
        "\n",
        "df_test.plot(kind='hist', figsize=(6,6),title='Histogramme')\n",
        "plt.show()"
      ],
      "execution_count": null,
      "outputs": []
    },
    {
      "cell_type": "code",
      "metadata": {
        "ExecuteTime": {
          "end_time": "2020-02-04T12:59:19.809520Z",
          "start_time": "2020-02-04T12:59:19.472435Z"
        },
        "id": "JKIBwAwgdX4x"
      },
      "source": [
        "X=np.array(df_test['Sal']).reshape(-1,1)\n",
        "#KBinsDiscritizer fonctionne sur un array. \n",
        "#Comme il n'y a qu'une colonne il faut \n",
        "#faire un reshape pour lui préciser\n",
        "\n",
        "disc = KBinsDiscretizer(n_bins=5, encode='ordinal', \n",
        "                        strategy='uniform')\n",
        "df_test['Sal']=disc.fit_transform(X)\n",
        "\n",
        "df_test.plot(kind='hist', figsize=(6,6),title='Histogramme')\n",
        "plt.show()"
      ],
      "execution_count": null,
      "outputs": []
    },
    {
      "cell_type": "markdown",
      "metadata": {
        "id": "sBqWj1YodX4x"
      },
      "source": [
        "Il est également possible de spécifier des bins spécifiques à l'aide de la fonction cut sur un dataframe."
      ]
    },
    {
      "cell_type": "code",
      "metadata": {
        "ExecuteTime": {
          "end_time": "2020-02-04T12:59:20.121876Z",
          "start_time": "2020-02-04T12:59:19.812563Z"
        },
        "id": "6F9sNOxvdX4y"
      },
      "source": [
        "print (\"Creation d'un jeu de données aléatoire de 100 lignes\")\n",
        "df_test = pd.DataFrame(\n",
        "    {'Age': np.random.randint(1, 85, size=100)},columns=['Age'])\n",
        "     \n",
        "df_test.plot(kind='hist', figsize=(6,6), title='Histogramme')\n",
        "plt.show()    "
      ],
      "execution_count": null,
      "outputs": []
    },
    {
      "cell_type": "code",
      "metadata": {
        "ExecuteTime": {
          "end_time": "2020-02-04T12:59:20.148756Z",
          "start_time": "2020-02-04T12:59:20.127761Z"
        },
        "id": "Kln-KOg3dX4y"
      },
      "source": [
        "bins = (0, 25, 65,85)\n",
        "#Attention le nombre de label doit être inférieur au nombre de bins\n",
        "group_names = ['Jeune', 'Adulte', 'Senior']\n",
        "df_test['Age']= pd.cut(df_test['Age'], bins, labels=group_names)"
      ],
      "execution_count": null,
      "outputs": []
    },
    {
      "cell_type": "markdown",
      "metadata": {
        "id": "x9ajbUjRdX4y"
      },
      "source": [
        "Attention pd.cut transforme les données à l'aide des labels comme le montre l'exemple ci-dessous : "
      ]
    },
    {
      "cell_type": "code",
      "metadata": {
        "ExecuteTime": {
          "end_time": "2020-02-04T12:59:20.168040Z",
          "start_time": "2020-02-04T12:59:20.152089Z"
        },
        "id": "gejCRH36dX4z"
      },
      "source": [
        "print (df_test.head())"
      ],
      "execution_count": null,
      "outputs": []
    },
    {
      "cell_type": "markdown",
      "metadata": {
        "id": "ey0rIB9VdX4z"
      },
      "source": [
        "Il est donc indispensable de transformer ces données symbolique en numérique, par exemple, à l'aide de LabelEcoder ou tout autre méthode présentée précédemment."
      ]
    },
    {
      "cell_type": "code",
      "metadata": {
        "ExecuteTime": {
          "end_time": "2020-02-04T12:59:20.206474Z",
          "start_time": "2020-02-04T12:59:20.177597Z"
        },
        "id": "qA4kN51JdX4z"
      },
      "source": [
        "class_label_encoder = LabelEncoder()\n",
        "print (\"\\nRemplacement direct d'age avec les nouvelles valeurs\\n\")\n",
        "df_test[\"Age\"]=class_label_encoder.fit_transform(df_test[\"Age\"])\n",
        "\n",
        "display(df_test.head())"
      ],
      "execution_count": null,
      "outputs": []
    },
    {
      "cell_type": "markdown",
      "metadata": {
        "id": "sQm7IBSJdX40"
      },
      "source": [
        "Affichage du nouvel histogramme des ages après l'étape de transformation."
      ]
    },
    {
      "cell_type": "code",
      "metadata": {
        "ExecuteTime": {
          "end_time": "2020-02-04T12:59:20.572124Z",
          "start_time": "2020-02-04T12:59:20.209298Z"
        },
        "id": "PcsRyEYrdX40"
      },
      "source": [
        "df_test.plot(kind='hist', figsize=(6,6), title='Histogramme')\n",
        "plt.show()  "
      ],
      "execution_count": null,
      "outputs": []
    },
    {
      "cell_type": "markdown",
      "metadata": {
        "id": "YixOQrVxdX40"
      },
      "source": [
        "##  Mise à l'échelle des valeurs attributs (Feature scaling)"
      ]
    },
    {
      "cell_type": "markdown",
      "metadata": {
        "id": "3T4eL4dCdX41"
      },
      "source": [
        "Le mise à l'échelle des valeurs des attributs (Feature scaling)  est une méthode qui est utilisée pour normaliser les tailles des valeurs des attributs. Elle est aussi appelée **normalisation** (ou **standardisation**) et constitue une étape très importante dans le pré-traitement des données notamment lorsque des distances sont utilisées. C'est le cas par exemple pour KNN, SVM, Regression, ... mais également pour des méthodes de réduction de dimensions comme PCA et même en apprentissage non supervisée (K-Means).  \n",
        "\n",
        "La normalisation est, bien entendu, effectuée attribut par attribut dans le cas où plusieurs attributs doivent être mis à l'échelle. \n"
      ]
    },
    {
      "cell_type": "markdown",
      "metadata": {
        "id": "HfTW94hbdX41"
      },
      "source": [
        "<H2> Normalisation (ou min-max scaling)</H2>  \n",
        "\n",
        "La normalisation permet de mettre toutes les valeurs dans un intervalle de [0,1]. Elle suit la formule :   \n",
        "$$z= \\frac{x-min(x)}{max(x)-min(x)}$$\n",
        "    \n",
        "En scikit learn la normalisation se fait par la fonction *MinMaxScaler()*. Par défaut MinMaxScaler normalise entre 0 et 1. Il est possible de changer la valeur : *MinMaxScaler(feature_range=(0, 2))* normalisera les valeurs entre 0 et 2."
      ]
    },
    {
      "cell_type": "code",
      "metadata": {
        "ExecuteTime": {
          "end_time": "2020-02-04T12:59:20.907688Z",
          "start_time": "2020-02-04T12:59:20.574693Z"
        },
        "id": "0Qmhl7oKdX41"
      },
      "source": [
        "from sklearn import preprocessing\n",
        "\n",
        "print (\"Création d'un dataframe de 7 valeurs\")\n",
        "data = {'Valeur': [14,-16,34,17,65,-32,5]}\n",
        "df = pd.DataFrame(data,dtype='float')\n",
        "#dtype = float car la normalisation considère \n",
        "#que les objets sont des float\n",
        "display(\"Max : \",df.max(),\" Min : \",df.min(),df)\n",
        "\n",
        "df.plot(kind='bar')"
      ],
      "execution_count": null,
      "outputs": []
    },
    {
      "cell_type": "code",
      "metadata": {
        "ExecuteTime": {
          "end_time": "2020-02-04T12:59:21.215500Z",
          "start_time": "2020-02-04T12:59:20.910386Z"
        },
        "id": "QY9DBvbfdX43"
      },
      "source": [
        "print (\"Création d'un dataframe normalisé\")\n",
        "normalise = preprocessing.MinMaxScaler()\n",
        "df_normalise = normalise.fit_transform(df)\n",
        "df_normalise = pd.DataFrame(df_normalise, columns=['Valeur'])\n",
        "\n",
        "display(\"Max : \",df_normalise.max(),\n",
        "        \" Min : \",df_normalise.min(),\n",
        "        df_normalise)\n",
        "\n",
        "df_normalise.plot(kind='bar')"
      ],
      "execution_count": null,
      "outputs": []
    },
    {
      "cell_type": "code",
      "metadata": {
        "ExecuteTime": {
          "end_time": "2020-02-04T12:59:21.579553Z",
          "start_time": "2020-02-04T12:59:21.217663Z"
        },
        "id": "rbvE0FC1dX44"
      },
      "source": [
        "#scaler = MinMaxScaler(feature_range=(0, 1)) \n",
        "normalise = preprocessing.MinMaxScaler(feature_range=(0, 2))\n",
        "df_normalise = normalise.fit_transform(df)\n",
        "df_normalise = pd.DataFrame(df_normalise, columns=['Valeur'])\n",
        "\n",
        "display(\"Max : \",df_normalise.max(),\n",
        "        \" Min : \",df_normalise.min(),\n",
        "        df_normalise)\n",
        "df_normalise.plot(kind='bar')"
      ],
      "execution_count": null,
      "outputs": []
    },
    {
      "cell_type": "markdown",
      "metadata": {
        "id": "DxakCe0zdX45"
      },
      "source": [
        "L'exemple suivant illustre l'intérêt de normaliser plusieurs attributs. Il contient trois attributs où chaque valeur est prise au hasard en fonction d'une loi de distribution différente (2 assymétriques et 1 symétrique) : une avec une loi de distribution $X^2$ (https://fr.wikipedia.org/wiki/Loi_du_χ²), une avec une loi bêta (https://fr.wikipedia.org/wiki/Loi_bêta) et une avec une loi normale. L’asymétrie d’une distribution est positive si la queue de droite (à valeurs hautes) est plus longue ou grosse, et négative si la queue de gauche (à valeurs basses) est plus longue ou grosse (https://fr.wikipedia.org/wiki/Asymétrie_(statistiques)).\n"
      ]
    },
    {
      "cell_type": "code",
      "metadata": {
        "ExecuteTime": {
          "end_time": "2020-02-04T12:59:21.596062Z",
          "start_time": "2020-02-04T12:59:21.581916Z"
        },
        "id": "spsJbxTydX46"
      },
      "source": [
        "df = pd.DataFrame({\n",
        "    # asymétrie positive\n",
        "    'ChiSquare': np.random.chisquare(3, 1000)+50,\n",
        "    # asymétrie négative\n",
        "    'Beta': np.random.beta(20, 1, 1000)*30,\n",
        "    # pas d'asymétrie\n",
        "    'Normale': np.random.normal(110, 15, 1000)\n",
        "})"
      ],
      "execution_count": null,
      "outputs": []
    },
    {
      "cell_type": "code",
      "metadata": {
        "ExecuteTime": {
          "end_time": "2020-02-04T12:59:22.954139Z",
          "start_time": "2020-02-04T12:59:21.601591Z"
        },
        "id": "aiuq3kjJdX46"
      },
      "source": [
        "scaler = preprocessing.MinMaxScaler()\n",
        "scaled_df = scaler.fit_transform(df)\n",
        "scaled_df = pd.DataFrame(scaled_df, \n",
        "                         columns=['ChiSquare', 'Beta', 'Normale'])\n",
        "\n",
        "fig, (ax1, ax2) = plt.subplots(ncols=2, figsize=(10, 8))\n",
        "ax1.set_title('Avant le scaling')\n",
        "sns.distplot(df['ChiSquare'], ax=ax1,kde=True)\n",
        "sns.distplot(df['Beta'], ax=ax1,kde=True)\n",
        "sns.distplot(df['Normale'], ax=ax1,kde=True)\n",
        "\n",
        "ax2.set_title('Après le min-max scaling')\n",
        "sns.distplot(scaled_df['ChiSquare'], ax=ax2,kde=True)\n",
        "sns.distplot(scaled_df['Beta'], ax=ax2,kde=True)\n",
        "sns.distplot(scaled_df['Normale'], ax=ax2,kde=True)\n",
        "\n",
        "plt.show()"
      ],
      "execution_count": null,
      "outputs": []
    },
    {
      "cell_type": "markdown",
      "metadata": {
        "id": "2wPWwk4BdX47"
      },
      "source": [
        "Nous pouvons constater que les asymétries restent les mêmes mais que maintenant toutes les valeurs sont comprises entre 0 et 1."
      ]
    },
    {
      "cell_type": "markdown",
      "metadata": {
        "id": "V40PvhBqdX47"
      },
      "source": [
        "<H2> Standardisation </H2>\n",
        "\n",
        "\n",
        "La standardisation est utile lorsque les attributs suivent des lois normales mais avec des moyennes et écarts type différents. Elle permet, par exemple, de rendre les algorithmes moins sensibles aux outliers.  \n",
        "\n",
        "En scikit learn la standardisation se fait par la fonction StandardScaler() en appliquant :  \n",
        "\n",
        "$$z=\\frac{x_i - \\mu}{\\sigma}\\\\\n",
        "$$\n",
        "où $\\mu$ représente la moyenne (*mean*) et $\\sigma$ l'écart type (*standard deviation*).  \n",
        "\n",
        "\n",
        "Rappel : (https://fr.wikipedia.org/wiki/Loi_normale)  \n",
        "Lorsqu'une variable aléatoire $X$ suit la loi normale, elle est dite *gaussienne* ou *normale* et il est habituel d'utiliser la notation avec la variance $\\sigma^2$ :\n",
        "$$X \\sim \\mathcal{N}(\\mu, \\sigma^2)$$\n",
        "\n",
        "StandardScaler  suppose donc que les données suivent une loi normale et les redimensionne pour que la distribution soit centrée autour de 0 avec un écart-type de 1.   Elle vise donc à transformer les valeurs pour qu'elles répondent à la même loi normale $$X \\sim \\mathcal{N} (0, \\, 1)$$.\n",
        "\n",
        "Il est toujours intéressant d'afficher la distribution des données pour voir si ces dernières peuvent être standardisées."
      ]
    },
    {
      "cell_type": "code",
      "metadata": {
        "ExecuteTime": {
          "end_time": "2020-02-04T12:59:23.355328Z",
          "start_time": "2020-02-04T12:59:22.956658Z"
        },
        "id": "OckGsUurdX47"
      },
      "source": [
        "df = pd.DataFrame(\n",
        "    {'Valeur': [10,9,8,7,6,5,5,6,7,8,9,10]}, \n",
        "     dtype='float',\n",
        "     columns=['Valeur'])\n",
        "\n",
        "display(df.head(),\"Moyenne \",\n",
        "        df['Valeur'].mean(),\n",
        "        \" Ecart type \",\n",
        "        df['Valeur'].std())\n",
        "\n",
        "fig, ax1 = plt.subplots(ncols=1, figsize=(8, 6))\n",
        "title='X ~ N(''%0.2f'%df['Valeur'].mean()+\",%0.2f\"%df['Valeur'].std()+'^2)'\n",
        "ax1.set_title(title)\n",
        "\n",
        "sns.kdeplot(df['Valeur'], ax=ax1);"
      ],
      "execution_count": null,
      "outputs": []
    },
    {
      "cell_type": "code",
      "metadata": {
        "ExecuteTime": {
          "end_time": "2020-02-04T12:59:23.796877Z",
          "start_time": "2020-02-04T12:59:23.358581Z"
        },
        "id": "sARxdSi-dX48"
      },
      "source": [
        "print (\"Création d'un dataframe avec StandardScaler\")\n",
        "standardscaler = preprocessing.StandardScaler()\n",
        "df_standardscale = standardscaler.fit_transform(df)\n",
        "df_standardscale = pd.DataFrame(df_standardscale, \n",
        "                                columns=['Valeur'])\n",
        "\n",
        "display(df_standardscale,\"Moyenne \",\n",
        "        df_standardscale['Valeur'].mean(),\n",
        "        \" Ecart type \",\n",
        "        df_standardscale['Valeur'].std())\n",
        "\n",
        "fig, ax1 = plt.subplots(ncols=1, figsize=(8, 6))\n",
        "title='X ~ N(''%0.2f'%df_standardscale['Valeur'].mean()+\",%0.2f\"%df_standardscale['Valeur'].std()+'^2)'\n",
        "ax1.set_title(title)\n",
        "\n",
        "sns.kdeplot(df_standardscale['Valeur'], ax=ax1);"
      ],
      "execution_count": null,
      "outputs": []
    },
    {
      "cell_type": "markdown",
      "metadata": {
        "id": "w6kRUK1fdX48"
      },
      "source": [
        "Comme précédémment, le code suivant illustre la standardisation avec \n",
        "$$X \\sim \\mathcal{N}(10, 2^2)$$\n",
        "$$X \\sim \\mathcal{N}(40, 7^2)$$\n",
        "$$X \\sim \\mathcal{N}(110, 15^2)$$."
      ]
    },
    {
      "cell_type": "code",
      "metadata": {
        "ExecuteTime": {
          "end_time": "2020-02-04T12:59:23.813261Z",
          "start_time": "2020-02-04T12:59:23.802600Z"
        },
        "id": "aaJp1EjqdX49"
      },
      "source": [
        "df = pd.DataFrame({\n",
        "    'Normale1': np.random.normal(10, 2,1000),\n",
        "    'Normale2': np.random.normal(40, 7, 1000),\n",
        "    'Normale3': np.random.normal(110, 15, 1000)\n",
        "})"
      ],
      "execution_count": null,
      "outputs": []
    },
    {
      "cell_type": "code",
      "metadata": {
        "ExecuteTime": {
          "end_time": "2020-02-04T12:59:24.606183Z",
          "start_time": "2020-02-04T12:59:23.816998Z"
        },
        "id": "H3DVQmYwdX49"
      },
      "source": [
        "standardscaler = preprocessing.StandardScaler()\n",
        "df_standardscale = standardscaler.fit_transform(df)\n",
        "df_standardscale=pd.DataFrame(df_standardscale, \n",
        "                             columns=['Normale1', \n",
        "                                      'Normale2', \n",
        "                                      'Normale3'])\n",
        "\n",
        "\n",
        "fig, (ax1, ax2) = plt.subplots(ncols=2, figsize=(10, 8))\n",
        "ax1.set_title('Avant le standard scaling')\n",
        "sns.distplot(df['Normale1'], ax=ax1)\n",
        "sns.distplot(df['Normale2'], ax=ax1)\n",
        "sns.distplot(df['Normale3'], ax=ax1)\n",
        "\n",
        "ax2.set_title('Après le standard scaling')\n",
        "sns.distplot(df_standardscale['Normale1'], ax=ax2)\n",
        "sns.distplot(df_standardscale['Normale2'], ax=ax2)\n",
        "sns.distplot(df_standardscale['Normale3'], ax=ax2)\n",
        "\n",
        "plt.show()"
      ],
      "execution_count": null,
      "outputs": []
    },
    {
      "cell_type": "markdown",
      "metadata": {
        "id": "FS0TQni3dX4-"
      },
      "source": [
        "## Traitement des valeurs manquantes"
      ]
    },
    {
      "cell_type": "markdown",
      "metadata": {
        "id": "z9F8vev0dX4-"
      },
      "source": [
        "Dans les données réelles, de très nombreuses fois et pour différentes raisons (données corrompues, données inexistantes, extraction incomplète, etc.) des valeurs peuvent être absentes ou apparaître sous la forme d'outlier. Généralement on parle de **valeurs manquantes** et elles peuvent proser de nombreux problèmes pour certains classifiers qui y sont très sensibles (e.g. SVM).  \n",
        "\n",
        "En fonction des domaines, elles peuvent apparaître sous la forme de -1, 0, -999 ou NaN (Not a Number). Pandas, numpy et scikit learn utilisent NaN pour les valeurs manquantes et toutes valeurs avec NaN sont ignorées dans les opérations d'agrégation comme sum, count, etc.  Il est donc préférable de remplacer toutes les valeurs manquantes par NaN.\n",
        "\n",
        "Pour remplacer des données sous la forme de NaN il suffit d'utiliser la fonction *replace()* du dataframe.\n",
        "\n"
      ]
    },
    {
      "cell_type": "code",
      "metadata": {
        "ExecuteTime": {
          "end_time": "2020-02-04T12:59:24.654555Z",
          "start_time": "2020-02-04T12:59:24.608663Z"
        },
        "id": "VovlSDGBdX4-"
      },
      "source": [
        "data = [[7, 2, 3], [4, -1, 6], [10, 5, 9]]\n",
        "print('Remplacement valeur -1 en nan\\n')\n",
        "df = pd.DataFrame(data)\n",
        "print ('Avant :')\n",
        "display(df)\n",
        "df=df.replace(-1,np.nan)\n",
        "print ('Après :')\n",
        "display(df)"
      ],
      "execution_count": null,
      "outputs": []
    },
    {
      "cell_type": "markdown",
      "metadata": {
        "id": "5q0UsXSHdX4-"
      },
      "source": [
        "Il existe différentes stratégies, en fonction des données et du domaine, pour traiter les valeurs manquantes :   \n",
        "1. Supprimer les lignes contenant des valeurs manquantes\n",
        "1. Remplacer les valeurs par *mean*, *median*, *mode*\n",
        "1. Mettre une catégorie unique\n",
        "1. Prédire la valeur manquante  \n",
        "\n",
        "Chaque stratégie a des avantages et des inconvénients. Au travers de l'exemple suivant nous illustrons les différentes stratégies et les fonctionnalités de sickit learn pour les traiter.  "
      ]
    },
    {
      "cell_type": "code",
      "metadata": {
        "ExecuteTime": {
          "end_time": "2020-02-04T12:59:24.673787Z",
          "start_time": "2020-02-04T12:59:24.658825Z"
        },
        "id": "XieRG6j_dX4-"
      },
      "source": [
        "#Création de fichiers exemples\n",
        "fichier = open(\"exemplenullvalues.csv\", \"w\")\n",
        "fichier.write(\"Nom;Age;Dept;Sal;Prime\\n\")\n",
        "fichier.write(\"Marie;22;;48000;1\\n\")\n",
        "fichier.write(\"Isabelle;;Comptable;52000;0\\n\")\n",
        "fichier.write(\"Pierre;35;Informatique;;1\\n\")\n",
        "fichier.write(\"Paul;43;Commercial;49000;1\\n\")\n",
        "fichier.write(\"Jean;;Commercial;;0\\n\")\n",
        "fichier.write(\"Michel;35;;51000;0\\n\")\n",
        "fichier.write(\"Nancy;45;;66000;1\\n\")\n",
        "fichier.close()"
      ],
      "execution_count": null,
      "outputs": []
    },
    {
      "cell_type": "markdown",
      "metadata": {
        "id": "fVNBAffJdX4_"
      },
      "source": [
        "Pour connaître le nombre de valeurs manquantes : "
      ]
    },
    {
      "cell_type": "code",
      "metadata": {
        "ExecuteTime": {
          "end_time": "2020-02-04T12:59:24.728675Z",
          "start_time": "2020-02-04T12:59:24.678122Z"
        },
        "id": "x-vIqxQ3dX4_"
      },
      "source": [
        "df = pd.read_csv('exemplenullvalues.csv',sep=';')\n",
        "display (df)\n",
        "\n",
        "\n",
        "print ('Par rapport aux colonnes :\\n')\n",
        "display (df.info())\n",
        "print ('\\nPar rapport aux différentes lignes :\\n')\n",
        "display (df.isnull().sum(axis=1))"
      ],
      "execution_count": null,
      "outputs": []
    },
    {
      "cell_type": "markdown",
      "metadata": {
        "id": "E9hritS3dX4_"
      },
      "source": [
        "Pour visuellement afficher si le jeu de données contient des valeurs manquantes :"
      ]
    },
    {
      "cell_type": "code",
      "metadata": {
        "ExecuteTime": {
          "end_time": "2020-02-04T12:59:24.989146Z",
          "start_time": "2020-02-04T12:59:24.732413Z"
        },
        "id": "c9970fb8dX4_"
      },
      "source": [
        "sns.heatmap(df.isnull(), cbar=False)"
      ],
      "execution_count": null,
      "outputs": []
    },
    {
      "cell_type": "markdown",
      "metadata": {
        "id": "1vN9kyVHdX4_"
      },
      "source": [
        "<H2>Supprimer les lignes contenant des valeurs manquantes</H2>  \n",
        "\n",
        "Pour supprimer simplement les lignes (ou les colonnes) qui contiennent des valeurs manquantes, il est possible d'utiliser la fonction dropna sur le dataframe :  \n",
        "*DataFrame.dropna(axis=0, how='any', thresh=None, subset=None, inplace=False)*  \n",
        "\n",
        "\n"
      ]
    },
    {
      "cell_type": "code",
      "metadata": {
        "ExecuteTime": {
          "end_time": "2020-02-04T12:59:25.051523Z",
          "start_time": "2020-02-04T12:59:24.994315Z"
        },
        "id": "g_wkhZyvdX5A"
      },
      "source": [
        "df_test = df.copy(deep=True) #pour tester\n",
        "print ('Suppression des lignes pour lesquelles au moins un élément est manquant \\n')\n",
        "print (df_test.dropna())\n",
        "\n",
        "print ('\\nSuppression des colonnes pour lesquelles au moins un élément est manquant \\n')\n",
        "print (df_test.dropna(axis=\"columns\"))\n",
        "\n",
        "print ('\\nSuppression des lignes qui ont au moins 4 valeurs non manquantes\\n')\n",
        "print (df_test.dropna(thresh=4))\n",
        "print (\"La ligne 4 n'apparait plus car elle a 2 valeurs manquantes sur les 5 colonnes\")\n",
        "\n",
        "print ('\\nRemplacement du dataframe initial en supprimant les lignes manquantes')\n",
        "df_test.dropna(inplace=True)\n",
        "display(df_test)"
      ],
      "execution_count": null,
      "outputs": []
    },
    {
      "cell_type": "markdown",
      "metadata": {
        "id": "VIfMS66IdX5A"
      },
      "source": [
        "**Remarques**  \n",
        "La suppression des lignes permet de pouvoir utiliser des classifiers qui sont sensibles aux valeurs manquantes.  \n",
        "L'utilisation de ces méthodes risquent de supprimer de nombreuses informations (C.f. le dernier exemple). Il est conseillé de ne pas les utiliser si le nombre d'objets supprimés est trop grand. Le remplacement est généralement préférable à la suppression des données."
      ]
    },
    {
      "cell_type": "markdown",
      "metadata": {
        "id": "_uli1808dX5A"
      },
      "source": [
        "<H2>Remplacer les valeurs par mean, median, mode</H2>  \n",
        "\n",
        "Pour les variables numériques, il est possible de remplacer les valeurs manquantes par la moyenne, la médianne, le mode, etc. Rappel : dans une série le mode correspond à une valeur dominante, i.e. la valeur la plus représentée d'une variable quelconque dans une population donnée. Le choix dépend bien entendu du contexte. "
      ]
    },
    {
      "cell_type": "code",
      "metadata": {
        "ExecuteTime": {
          "end_time": "2020-02-04T12:59:25.220585Z",
          "start_time": "2020-02-04T12:59:25.055808Z"
        },
        "id": "Yz3wMRwwdX5A"
      },
      "source": [
        "print ('Rappel de la colonne Age\\n', df['Age'])\n",
        "\n",
        "print ('\\nMoyenne', df['Age'].mean(),\n",
        "       ' Median',df['Age'].median(), \n",
        "       '\\nMode', df['Age'].mode())\n",
        "\n",
        "print ('\\n Remplacement des valeurs manquantes de Age par la moyenne\\n')\n",
        "df_test = df.copy(deep=True) #pour tester\n",
        "print ('Avant : \\n')\n",
        "display(df_test['Age'])\n",
        "df_test['Age']=df_test['Age'].replace(np.NaN,df_test['Age'].mean())\n",
        "print ('\\nAprès : \\n')\n",
        "display(df_test['Age'])     \n",
        "\n",
        "print ('\\n Remplacement des valeurs manquantes de Age par la valeur la plus fréquente sans utiliser le mode\\n')\n",
        "df_test = df.copy() #pour tester\n",
        "print ('Valeur la plus fréquente \\n',\n",
        "       df_test['Age'].value_counts().idxmax(),\n",
        "       ' (',df_test['Age'].value_counts().max(),')')\n",
        "newval=df_test['Age'].value_counts().idxmax()\n",
        "print ('Avant : \\n')\n",
        "display(df_test['Age'])\n",
        "df_test['Age']=df_test['Age'].replace(np.NaN,newval)\n",
        "print ('\\nAprès : \\n')\n",
        "display(df_test['Age'])     \n",
        "\n",
        "print ('\\n Données catégorielles. Remplacement des valeurs manquantes de Dept par la valeur la plus fréquente\\n')\n",
        "df_test = df.copy() #pour tester\n",
        "print ('Valeur la plus fréquente',\n",
        "       df_test['Dept'].value_counts().idxmax(),\n",
        "      ' (',df_test['Dept'].value_counts().max(),')')\n",
        "newval=df_test['Dept'].value_counts().idxmax()\n",
        "print ('Avant : \\n')\n",
        "display(df_test['Dept'])\n",
        "df_test['Dept']=df_test['Dept'].replace(np.NaN,newval)\n",
        "print ('Après : \\n')\n",
        "display(df_test['Dept'])   "
      ],
      "execution_count": null,
      "outputs": []
    },
    {
      "cell_type": "markdown",
      "metadata": {
        "id": "Mbf5wSTGdX5A"
      },
      "source": [
        "Scikit learn propose aussi une fonction *SimpleImputer* qui permet de remplacer directement les valeurs. Elle s'applique sur un tableau et non pas un dataframe."
      ]
    },
    {
      "cell_type": "code",
      "metadata": {
        "ExecuteTime": {
          "end_time": "2020-02-04T12:59:25.251038Z",
          "start_time": "2020-02-04T12:59:25.223678Z"
        },
        "id": "VNseuNuVdX5A"
      },
      "source": [
        "from sklearn.impute import SimpleImputer\n",
        "\n",
        "array = df.values\n",
        "X = array[:,1:2] \n",
        "print ('\\n Remplacement des valeurs manquantes de Age par la moyenne\\n')\n",
        "print ('Avant : \\n')\n",
        "print (X)\n",
        "imputer = SimpleImputer(missing_values=np.nan, strategy = 'mean')\n",
        "imputer = imputer.fit(X)\n",
        "X = imputer.transform(X)\n",
        "print ('\\nAprès : \\n')\n",
        "print (X)"
      ],
      "execution_count": null,
      "outputs": []
    },
    {
      "cell_type": "markdown",
      "metadata": {
        "id": "Gz34F9VxdX5B"
      },
      "source": [
        "**Remarques**  \n",
        "Cette approche est efficace quand le jeu de données est petit et que les valeurs peuvent facilement être remplacées.  \n",
        "Le fait de faire des approximations ajoute des biais dans les données."
      ]
    },
    {
      "cell_type": "markdown",
      "metadata": {
        "id": "lxpaV-QkdX5B"
      },
      "source": [
        "<H2> Affecter une catégorie unique </H2>  \n",
        "\n",
        "Dans le cas de variables catégorielles, lorsqu'il n'est pas possible de pouvoir connaître la valeur, il est possible d'affecter une valeur similaire aux NaN.  \n",
        "L'avantage est de pouvoir considérer toutes ces données comme étant de la même classe et ainsi elles seront transformées de la même manière que les autres valeurs de l'attribut lors de l'étape d'encodage de données catégorielles.  \n",
        "L'inconvénient est d'avoir une nouvelle classe qui ne correspond pas à grand chose et qui peut donc entraîner des problèmes lors de la classification. "
      ]
    },
    {
      "cell_type": "code",
      "metadata": {
        "ExecuteTime": {
          "end_time": "2020-02-04T12:59:25.287647Z",
          "start_time": "2020-02-04T12:59:25.257909Z"
        },
        "id": "XXcwJrGfdX5B"
      },
      "source": [
        "print ('\\n Remplacement des valeurs manquantes de Dept par une valeur commune\\n')\n",
        "df_test = df.copy(deep=True) #pour tester\n",
        "print ('Avant: \\n')\n",
        "display(df_test['Dept'])\n",
        "df_test['Dept']=df_test['Dept'].fillna(\"Inconnu\")\n",
        "print ('\\nAprès: \\n')\n",
        "display(df_test['Dept'])                "
      ],
      "execution_count": null,
      "outputs": []
    },
    {
      "cell_type": "markdown",
      "metadata": {
        "id": "_GU39Q9PdX5B"
      },
      "source": [
        "<H2> Prédire les valeurs manquantes </H2>  \n",
        "\n",
        "Le principe est d'utiliser les autres attributs pour appliquer un algorithme d'apprentissage supervisé en considérant que la valeur à prédire est la colonne qui contient des NaN.  \n",
        "\n",
        "L'exemple suivant illustre comment utiliser l'algorithme K-NN (*K-Nearest Neighbors*) pour prédire des valeurs."
      ]
    },
    {
      "cell_type": "code",
      "metadata": {
        "ExecuteTime": {
          "end_time": "2020-02-04T12:59:25.390240Z",
          "start_time": "2020-02-04T12:59:25.293145Z"
        },
        "id": "o9S-0x_0dX5B"
      },
      "source": [
        "print (\"Creation d'un jeu de données aléatoire de 100 lignes\")\n",
        "df_test = pd.DataFrame(\n",
        "    {'Age': np.random.randint(30, 35, size=100), \n",
        "     'Sal': np.random.randint(3, size=100)*1000,\n",
        "     'Prime':np.random.randint(2, size=100),\n",
        "     'Dept': np.random.randint(3,size=100)},\n",
        "    columns=['Age','Sal','Prime','Dept'])\n",
        "     \n",
        "print (df_test.shape)\n",
        "display(df_test.head(5))\n",
        "array = df_test\n",
        "\n",
        "print ('Sélection de 3% du jeu de données pour mettre NaN dans les Dept')\n",
        "echantillon = df_test.sample(frac=0.03)\n",
        "display(echantillon)\n",
        "\n",
        "print(\"Remplacement par NaN pour l'échantillon\")\n",
        "index = echantillon.index.values\n",
        "for ind in index:\n",
        "    echantillon.at[ind, 'Dept']=-1\n",
        "    echantillon=echantillon.replace(-1,np.nan)\n",
        "    df_test.at[ind, 'Dept']=-1\n",
        "    df_test=df_test.replace(-1,np.nan)"
      ],
      "execution_count": null,
      "outputs": []
    },
    {
      "cell_type": "code",
      "metadata": {
        "ExecuteTime": {
          "end_time": "2020-02-04T12:59:25.576215Z",
          "start_time": "2020-02-04T12:59:25.392484Z"
        },
        "id": "VFb4LdlTdX5B"
      },
      "source": [
        "from sklearn.model_selection import train_test_split \n",
        "from sklearn.metrics import accuracy_score\n",
        "from sklearn.neighbors import KNeighborsClassifier\n",
        "\n",
        "print ('Récupération des lignes sans NAN')\n",
        "sans_nan = df_test[['Sal','Prime','Age','Dept']].notnull().all(axis=1)\n",
        "print (\"Creation d'un dataframe sans NaN\")\n",
        "df_sansnan = df_test[sans_nan]\n",
        "\n",
        "print (\"Apprentissage sur le dataframe sans les nan\")\n",
        "array = df_sansnan.values\n",
        "X = array[:,0:3]\n",
        "\n",
        "y= array[:,3]\n",
        "\n",
        "validation_size=0.25 #30% du jeu de données pour le test\n",
        "testsize= 1-validation_size\n",
        "seed=2\n",
        "\n",
        "X_train,X_test,y_train,y_test=train_test_split(X, y, \n",
        "                                               train_size=validation_size, \n",
        "                                               random_state=seed,\n",
        "                                               test_size=testsize)\n",
        "\n",
        "\n",
        "clf=KNeighborsClassifier(n_neighbors=4)\n",
        "clf.fit(X, y)\n",
        "\n",
        "result = clf.predict(X_test)\n",
        "print('\\n accuracy :', accuracy_score(result, y_test),'\\n')\n",
        "\n",
        "#recuperation dans df_avecnan de toutes \n",
        "#les lignes qui ont un nan (noter la negation)\n",
        "print ('Remplacement des valeurs NaN par les valeurs prédites')\n",
        "df_avecnan = df_test.loc[~sans_nan].copy() \n",
        "df_avecnan['Dept'] = clf.predict(df_avecnan[['Sal','Prime','Age']])\n",
        "display(df_avecnan)"
      ],
      "execution_count": null,
      "outputs": []
    }
  ]
}